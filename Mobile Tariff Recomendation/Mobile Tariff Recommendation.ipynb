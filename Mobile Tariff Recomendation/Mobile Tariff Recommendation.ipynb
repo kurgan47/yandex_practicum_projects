{
 "cells": [
  {
   "cell_type": "markdown",
   "id": "efebb118",
   "metadata": {},
   "source": [
    "# Рекомендация тарифов"
   ]
  },
  {
   "cell_type": "markdown",
   "id": "75b08572",
   "metadata": {},
   "source": [
    "# Описание проекта"
   ]
  },
  {
   "cell_type": "markdown",
   "id": "d7d0f60e",
   "metadata": {},
   "source": [
    "Необходимо дать рекомендацию клиенту о переходе на один из тарифов \"Смарт\" или \"Ультра\".\n"
   ]
  },
  {
   "cell_type": "markdown",
   "id": "c7c03387",
   "metadata": {
    "toc": true
   },
   "source": [
    "<h1>Содержание<span class=\"tocSkip\"></span></h1>\n",
    "<div class=\"toc\"><ul class=\"toc-item\"><li><span><a href=\"#Загрузка-и-анализ-данных\" data-toc-modified-id=\"Загрузка-и-анализ-данных-1\"><span class=\"toc-item-num\">1&nbsp;&nbsp;</span>Загрузка и анализ данных</a></span></li><li><span><a href=\"#Разделение-на-обучающую,-валидационную-и-тестовые-выборки.\" data-toc-modified-id=\"Разделение-на-обучающую,-валидационную-и-тестовые-выборки.-2\"><span class=\"toc-item-num\">2&nbsp;&nbsp;</span>Разделение на обучающую, валидационную и тестовые выборки.</a></span><ul class=\"toc-item\"><li><span><a href=\"#Дерево-решений.\" data-toc-modified-id=\"Дерево-решений.-2.1\"><span class=\"toc-item-num\">2.1&nbsp;&nbsp;</span>Дерево решений.</a></span></li><li><span><a href=\"#Случайный-лес.\" data-toc-modified-id=\"Случайный-лес.-2.2\"><span class=\"toc-item-num\">2.2&nbsp;&nbsp;</span>Случайный лес.</a></span></li><li><span><a href=\"#Логистическая-регрессия.\" data-toc-modified-id=\"Логистическая-регрессия.-2.3\"><span class=\"toc-item-num\">2.3&nbsp;&nbsp;</span>Логистическая регрессия.</a></span></li></ul></li><li><span><a href=\"#Проверка-моделей-на-адекватность.\" data-toc-modified-id=\"Проверка-моделей-на-адекватность.-3\"><span class=\"toc-item-num\">3&nbsp;&nbsp;</span>Проверка моделей на адекватность.</a></span></li><li><span><a href=\"#Вывод.\" data-toc-modified-id=\"Вывод.-4\"><span class=\"toc-item-num\">4&nbsp;&nbsp;</span>Вывод.</a></span></li></ul></div>"
   ]
  },
  {
   "cell_type": "markdown",
   "id": "a73ed88a",
   "metadata": {},
   "source": [
    "## Загрузка и анализ данных"
   ]
  },
  {
   "cell_type": "code",
   "execution_count": 1,
   "id": "7903b4e3",
   "metadata": {},
   "outputs": [],
   "source": [
    "import pandas as pd\n",
    "import numpy as np\n",
    "\n",
    "from sklearn.model_selection import train_test_split\n",
    "from sklearn.metrics import accuracy_score\n",
    "from sklearn.metrics import recall_score\n",
    "from sklearn.metrics import precision_score\n",
    "\n",
    "from sklearn.tree import DecisionTreeClassifier\n",
    "from sklearn.ensemble import RandomForestClassifier\n",
    "from sklearn.linear_model import LogisticRegression\n",
    "from sklearn.dummy import DummyClassifier\n",
    "\n",
    "import matplotlib.pyplot as plt\n",
    "import seaborn as sns"
   ]
  },
  {
   "cell_type": "code",
   "execution_count": 2,
   "id": "32306564",
   "metadata": {},
   "outputs": [
    {
     "data": {
      "text/html": [
       "<div>\n",
       "<style scoped>\n",
       "    .dataframe tbody tr th:only-of-type {\n",
       "        vertical-align: middle;\n",
       "    }\n",
       "\n",
       "    .dataframe tbody tr th {\n",
       "        vertical-align: top;\n",
       "    }\n",
       "\n",
       "    .dataframe thead th {\n",
       "        text-align: right;\n",
       "    }\n",
       "</style>\n",
       "<table border=\"1\" class=\"dataframe\">\n",
       "  <thead>\n",
       "    <tr style=\"text-align: right;\">\n",
       "      <th></th>\n",
       "      <th>calls</th>\n",
       "      <th>minutes</th>\n",
       "      <th>messages</th>\n",
       "      <th>mb_used</th>\n",
       "      <th>is_ultra</th>\n",
       "    </tr>\n",
       "  </thead>\n",
       "  <tbody>\n",
       "    <tr>\n",
       "      <th>0</th>\n",
       "      <td>40.0</td>\n",
       "      <td>311.90</td>\n",
       "      <td>83.0</td>\n",
       "      <td>19915.42</td>\n",
       "      <td>0</td>\n",
       "    </tr>\n",
       "    <tr>\n",
       "      <th>1</th>\n",
       "      <td>85.0</td>\n",
       "      <td>516.75</td>\n",
       "      <td>56.0</td>\n",
       "      <td>22696.96</td>\n",
       "      <td>0</td>\n",
       "    </tr>\n",
       "    <tr>\n",
       "      <th>2</th>\n",
       "      <td>77.0</td>\n",
       "      <td>467.66</td>\n",
       "      <td>86.0</td>\n",
       "      <td>21060.45</td>\n",
       "      <td>0</td>\n",
       "    </tr>\n",
       "    <tr>\n",
       "      <th>3</th>\n",
       "      <td>106.0</td>\n",
       "      <td>745.53</td>\n",
       "      <td>81.0</td>\n",
       "      <td>8437.39</td>\n",
       "      <td>1</td>\n",
       "    </tr>\n",
       "    <tr>\n",
       "      <th>4</th>\n",
       "      <td>66.0</td>\n",
       "      <td>418.74</td>\n",
       "      <td>1.0</td>\n",
       "      <td>14502.75</td>\n",
       "      <td>0</td>\n",
       "    </tr>\n",
       "  </tbody>\n",
       "</table>\n",
       "</div>"
      ],
      "text/plain": [
       "   calls  minutes  messages   mb_used  is_ultra\n",
       "0   40.0   311.90      83.0  19915.42         0\n",
       "1   85.0   516.75      56.0  22696.96         0\n",
       "2   77.0   467.66      86.0  21060.45         0\n",
       "3  106.0   745.53      81.0   8437.39         1\n",
       "4   66.0   418.74       1.0  14502.75         0"
      ]
     },
     "execution_count": 2,
     "metadata": {},
     "output_type": "execute_result"
    }
   ],
   "source": [
    "data = pd.read_csv('https://code.s3.yandex.net/datasets/users_behavior.csv')\n",
    "data.head()"
   ]
  },
  {
   "cell_type": "code",
   "execution_count": 3,
   "id": "d0a758e8",
   "metadata": {},
   "outputs": [
    {
     "name": "stdout",
     "output_type": "stream",
     "text": [
      "<class 'pandas.core.frame.DataFrame'>\n",
      "RangeIndex: 3214 entries, 0 to 3213\n",
      "Data columns (total 5 columns):\n",
      " #   Column    Non-Null Count  Dtype  \n",
      "---  ------    --------------  -----  \n",
      " 0   calls     3214 non-null   float64\n",
      " 1   minutes   3214 non-null   float64\n",
      " 2   messages  3214 non-null   float64\n",
      " 3   mb_used   3214 non-null   float64\n",
      " 4   is_ultra  3214 non-null   int64  \n",
      "dtypes: float64(4), int64(1)\n",
      "memory usage: 125.7 KB\n"
     ]
    }
   ],
   "source": [
    "data.info()"
   ]
  },
  {
   "cell_type": "code",
   "execution_count": 4,
   "id": "71bf3fa1",
   "metadata": {},
   "outputs": [
    {
     "data": {
      "text/html": [
       "<div>\n",
       "<style scoped>\n",
       "    .dataframe tbody tr th:only-of-type {\n",
       "        vertical-align: middle;\n",
       "    }\n",
       "\n",
       "    .dataframe tbody tr th {\n",
       "        vertical-align: top;\n",
       "    }\n",
       "\n",
       "    .dataframe thead th {\n",
       "        text-align: right;\n",
       "    }\n",
       "</style>\n",
       "<table border=\"1\" class=\"dataframe\">\n",
       "  <thead>\n",
       "    <tr style=\"text-align: right;\">\n",
       "      <th></th>\n",
       "      <th>calls</th>\n",
       "      <th>minutes</th>\n",
       "      <th>messages</th>\n",
       "      <th>mb_used</th>\n",
       "      <th>is_ultra</th>\n",
       "    </tr>\n",
       "  </thead>\n",
       "  <tbody>\n",
       "    <tr>\n",
       "      <th>count</th>\n",
       "      <td>3214.000000</td>\n",
       "      <td>3214.000000</td>\n",
       "      <td>3214.000000</td>\n",
       "      <td>3214.000000</td>\n",
       "      <td>3214.000000</td>\n",
       "    </tr>\n",
       "    <tr>\n",
       "      <th>mean</th>\n",
       "      <td>63.038892</td>\n",
       "      <td>438.208787</td>\n",
       "      <td>38.281269</td>\n",
       "      <td>17207.673836</td>\n",
       "      <td>0.306472</td>\n",
       "    </tr>\n",
       "    <tr>\n",
       "      <th>std</th>\n",
       "      <td>33.236368</td>\n",
       "      <td>234.569872</td>\n",
       "      <td>36.148326</td>\n",
       "      <td>7570.968246</td>\n",
       "      <td>0.461100</td>\n",
       "    </tr>\n",
       "    <tr>\n",
       "      <th>min</th>\n",
       "      <td>0.000000</td>\n",
       "      <td>0.000000</td>\n",
       "      <td>0.000000</td>\n",
       "      <td>0.000000</td>\n",
       "      <td>0.000000</td>\n",
       "    </tr>\n",
       "    <tr>\n",
       "      <th>25%</th>\n",
       "      <td>40.000000</td>\n",
       "      <td>274.575000</td>\n",
       "      <td>9.000000</td>\n",
       "      <td>12491.902500</td>\n",
       "      <td>0.000000</td>\n",
       "    </tr>\n",
       "    <tr>\n",
       "      <th>50%</th>\n",
       "      <td>62.000000</td>\n",
       "      <td>430.600000</td>\n",
       "      <td>30.000000</td>\n",
       "      <td>16943.235000</td>\n",
       "      <td>0.000000</td>\n",
       "    </tr>\n",
       "    <tr>\n",
       "      <th>75%</th>\n",
       "      <td>82.000000</td>\n",
       "      <td>571.927500</td>\n",
       "      <td>57.000000</td>\n",
       "      <td>21424.700000</td>\n",
       "      <td>1.000000</td>\n",
       "    </tr>\n",
       "    <tr>\n",
       "      <th>max</th>\n",
       "      <td>244.000000</td>\n",
       "      <td>1632.060000</td>\n",
       "      <td>224.000000</td>\n",
       "      <td>49745.730000</td>\n",
       "      <td>1.000000</td>\n",
       "    </tr>\n",
       "  </tbody>\n",
       "</table>\n",
       "</div>"
      ],
      "text/plain": [
       "             calls      minutes     messages       mb_used     is_ultra\n",
       "count  3214.000000  3214.000000  3214.000000   3214.000000  3214.000000\n",
       "mean     63.038892   438.208787    38.281269  17207.673836     0.306472\n",
       "std      33.236368   234.569872    36.148326   7570.968246     0.461100\n",
       "min       0.000000     0.000000     0.000000      0.000000     0.000000\n",
       "25%      40.000000   274.575000     9.000000  12491.902500     0.000000\n",
       "50%      62.000000   430.600000    30.000000  16943.235000     0.000000\n",
       "75%      82.000000   571.927500    57.000000  21424.700000     1.000000\n",
       "max     244.000000  1632.060000   224.000000  49745.730000     1.000000"
      ]
     },
     "execution_count": 4,
     "metadata": {},
     "output_type": "execute_result"
    }
   ],
   "source": [
    "data.describe()"
   ]
  },
  {
   "cell_type": "markdown",
   "id": "23a90bc3",
   "metadata": {},
   "source": [
    "Насколько я помню, Мегалайн округляет мегабайты до гигабайт в б**о**льшую сторону."
   ]
  },
  {
   "cell_type": "code",
   "execution_count": 5,
   "id": "85164f6f",
   "metadata": {},
   "outputs": [],
   "source": [
    "data['gb_used'] = (data['mb_used']/1024).apply(np.ceil).astype('int64')"
   ]
  },
  {
   "cell_type": "markdown",
   "id": "260f040d",
   "metadata": {},
   "source": [
    "Минуты тоже округляются в б**о**льшую сторону, хотя и для каждого разговора. Но за неимением исходных данных, округлим данные за месяц."
   ]
  },
  {
   "cell_type": "code",
   "execution_count": 6,
   "id": "597954e6",
   "metadata": {},
   "outputs": [],
   "source": [
    "data['minutes']=data['minutes'].apply(np.ceil).astype('int64')"
   ]
  },
  {
   "cell_type": "markdown",
   "id": "febc6899",
   "metadata": {},
   "source": [
    "Количество звонков и СМС переведем в целое число."
   ]
  },
  {
   "cell_type": "code",
   "execution_count": 7,
   "id": "9c1408bd",
   "metadata": {},
   "outputs": [],
   "source": [
    "data[['calls','messages']] = data[['calls','messages']].astype('int64')"
   ]
  },
  {
   "cell_type": "code",
   "execution_count": 8,
   "id": "03e5553a",
   "metadata": {},
   "outputs": [
    {
     "data": {
      "text/html": [
       "<div>\n",
       "<style scoped>\n",
       "    .dataframe tbody tr th:only-of-type {\n",
       "        vertical-align: middle;\n",
       "    }\n",
       "\n",
       "    .dataframe tbody tr th {\n",
       "        vertical-align: top;\n",
       "    }\n",
       "\n",
       "    .dataframe thead th {\n",
       "        text-align: right;\n",
       "    }\n",
       "</style>\n",
       "<table border=\"1\" class=\"dataframe\">\n",
       "  <thead>\n",
       "    <tr style=\"text-align: right;\">\n",
       "      <th></th>\n",
       "      <th>calls</th>\n",
       "      <th>minutes</th>\n",
       "      <th>messages</th>\n",
       "      <th>mb_used</th>\n",
       "      <th>is_ultra</th>\n",
       "      <th>gb_used</th>\n",
       "    </tr>\n",
       "  </thead>\n",
       "  <tbody>\n",
       "    <tr>\n",
       "      <th>0</th>\n",
       "      <td>40</td>\n",
       "      <td>312</td>\n",
       "      <td>83</td>\n",
       "      <td>19915.42</td>\n",
       "      <td>0</td>\n",
       "      <td>20</td>\n",
       "    </tr>\n",
       "    <tr>\n",
       "      <th>1</th>\n",
       "      <td>85</td>\n",
       "      <td>517</td>\n",
       "      <td>56</td>\n",
       "      <td>22696.96</td>\n",
       "      <td>0</td>\n",
       "      <td>23</td>\n",
       "    </tr>\n",
       "    <tr>\n",
       "      <th>2</th>\n",
       "      <td>77</td>\n",
       "      <td>468</td>\n",
       "      <td>86</td>\n",
       "      <td>21060.45</td>\n",
       "      <td>0</td>\n",
       "      <td>21</td>\n",
       "    </tr>\n",
       "    <tr>\n",
       "      <th>3</th>\n",
       "      <td>106</td>\n",
       "      <td>746</td>\n",
       "      <td>81</td>\n",
       "      <td>8437.39</td>\n",
       "      <td>1</td>\n",
       "      <td>9</td>\n",
       "    </tr>\n",
       "    <tr>\n",
       "      <th>4</th>\n",
       "      <td>66</td>\n",
       "      <td>419</td>\n",
       "      <td>1</td>\n",
       "      <td>14502.75</td>\n",
       "      <td>0</td>\n",
       "      <td>15</td>\n",
       "    </tr>\n",
       "  </tbody>\n",
       "</table>\n",
       "</div>"
      ],
      "text/plain": [
       "   calls  minutes  messages   mb_used  is_ultra  gb_used\n",
       "0     40      312        83  19915.42         0       20\n",
       "1     85      517        56  22696.96         0       23\n",
       "2     77      468        86  21060.45         0       21\n",
       "3    106      746        81   8437.39         1        9\n",
       "4     66      419         1  14502.75         0       15"
      ]
     },
     "execution_count": 8,
     "metadata": {},
     "output_type": "execute_result"
    }
   ],
   "source": [
    "data.head()"
   ]
  },
  {
   "cell_type": "markdown",
   "id": "3c359555",
   "metadata": {},
   "source": [
    "Посчитаем, сколько пользователей на разных тарифах."
   ]
  },
  {
   "cell_type": "code",
   "execution_count": 9,
   "id": "e4817b55",
   "metadata": {},
   "outputs": [
    {
     "data": {
      "text/plain": [
       "985"
      ]
     },
     "execution_count": 9,
     "metadata": {},
     "output_type": "execute_result"
    }
   ],
   "source": [
    "data['is_ultra'].sum()"
   ]
  },
  {
   "cell_type": "code",
   "execution_count": 10,
   "id": "adbda4ac",
   "metadata": {},
   "outputs": [
    {
     "data": {
      "text/plain": [
       "2229"
      ]
     },
     "execution_count": 10,
     "metadata": {},
     "output_type": "execute_result"
    }
   ],
   "source": [
    "len(data)-data['is_ultra'].sum()"
   ]
  },
  {
   "cell_type": "code",
   "execution_count": 11,
   "id": "058672c6",
   "metadata": {},
   "outputs": [
    {
     "data": {
      "text/plain": [
       "0.693528313627878"
      ]
     },
     "execution_count": 11,
     "metadata": {},
     "output_type": "execute_result"
    }
   ],
   "source": [
    "(len(data)-data['is_ultra'].sum())/len(data)"
   ]
  },
  {
   "cell_type": "markdown",
   "id": "305fe95f",
   "metadata": {},
   "source": [
    "Если мы просто скажем, что все тарифы это Смарт, то точность будет 0.69, еще немного и получилась бы нужная точность в 0.75."
   ]
  },
  {
   "cell_type": "markdown",
   "id": "51dd7bf5",
   "metadata": {},
   "source": [
    "## Разделение на обучающую, валидационную и тестовые выборки."
   ]
  },
  {
   "cell_type": "markdown",
   "id": "31d162cd",
   "metadata": {},
   "source": [
    "Разделим данные на обучающую, валидационную и тестовые выборки в отношении 3:1:1. Для разделения будем использовать стратификацию по тарифу."
   ]
  },
  {
   "cell_type": "code",
   "execution_count": 12,
   "id": "8d9cf879",
   "metadata": {},
   "outputs": [],
   "source": [
    "features = data.drop(columns=['mb_used','is_ultra'])\n",
    "target = data['is_ultra']"
   ]
  },
  {
   "cell_type": "code",
   "execution_count": 13,
   "id": "e6e833a4",
   "metadata": {},
   "outputs": [],
   "source": [
    "features_train,features_check, target_train, target_check = train_test_split(features, target,\n",
    "                                                                             stratify=target,test_size=0.4,\n",
    "                                                                            random_state=12345)\n",
    "features_validate,features_test,target_validate,target_test = train_test_split(features_check,target_check,\n",
    "                                                                              stratify=target_check,\n",
    "                                                                              test_size=0.5,\n",
    "                                                                               random_state=12345)"
   ]
  },
  {
   "cell_type": "code",
   "execution_count": 14,
   "id": "1a4da403",
   "metadata": {},
   "outputs": [
    {
     "data": {
      "text/plain": [
       "(1928, 4)"
      ]
     },
     "execution_count": 14,
     "metadata": {},
     "output_type": "execute_result"
    }
   ],
   "source": [
    "features_train.shape"
   ]
  },
  {
   "cell_type": "code",
   "execution_count": 15,
   "id": "31a5ba53",
   "metadata": {},
   "outputs": [
    {
     "data": {
      "text/plain": [
       "(643, 4)"
      ]
     },
     "execution_count": 15,
     "metadata": {},
     "output_type": "execute_result"
    }
   ],
   "source": [
    "features_validate.shape"
   ]
  },
  {
   "cell_type": "code",
   "execution_count": 16,
   "id": "ec8551b6",
   "metadata": {},
   "outputs": [
    {
     "data": {
      "text/plain": [
       "(643, 4)"
      ]
     },
     "execution_count": 16,
     "metadata": {},
     "output_type": "execute_result"
    }
   ],
   "source": [
    "features_test.shape"
   ]
  },
  {
   "cell_type": "markdown",
   "id": "7a262608",
   "metadata": {},
   "source": [
    "Посмотрим на наличие парных корреляций.\n"
   ]
  },
  {
   "cell_type": "code",
   "execution_count": 17,
   "id": "694fee37",
   "metadata": {
    "scrolled": true
   },
   "outputs": [
    {
     "data": {
      "image/png": "[encoded data removed]",
      "text/plain": [
       "<Figure size 432x288 with 16 Axes>"
      ]
     },
     "metadata": {
      "needs_background": "light"
     },
     "output_type": "display_data"
    }
   ],
   "source": [
    "pd.plotting.scatter_matrix(features, alpha=0.2)\n",
    "plt.show()"
   ]
  },
  {
   "cell_type": "markdown",
   "id": "68bbacde",
   "metadata": {},
   "source": [
    "Похоже, что количество звонков и количество минут имеют сильную корреляцию и могут ухудшить прогноз. Можно оставить только количество минут."
   ]
  },
  {
   "cell_type": "code",
   "execution_count": 18,
   "id": "1c1a48e2",
   "metadata": {},
   "outputs": [],
   "source": [
    "features_train_no_calls = features_train.drop(columns=['calls'])\n",
    "features_validate_no_calls = features_validate.drop(columns=['calls'])\n",
    "features_test_no_calls = features_test.drop(columns=['calls'])"
   ]
  },
  {
   "cell_type": "markdown",
   "id": "dcae6a09",
   "metadata": {},
   "source": [
    "# Качество разных моделей."
   ]
  },
  {
   "cell_type": "markdown",
   "id": "10dd2f4f",
   "metadata": {},
   "source": [
    "### Дерево решений."
   ]
  },
  {
   "cell_type": "markdown",
   "id": "1b4cc3a2",
   "metadata": {},
   "source": [
    "Начнем с дерева решений с параметрами по умолчанию."
   ]
  },
  {
   "cell_type": "code",
   "execution_count": 19,
   "id": "d976368c",
   "metadata": {},
   "outputs": [
    {
     "data": {
      "text/plain": [
       "DecisionTreeClassifier(random_state=12345)"
      ]
     },
     "execution_count": 19,
     "metadata": {},
     "output_type": "execute_result"
    }
   ],
   "source": [
    "model = DecisionTreeClassifier(random_state=12345)\n",
    "model.fit(features_train, target_train)"
   ]
  },
  {
   "cell_type": "code",
   "execution_count": 20,
   "id": "eca68dc5",
   "metadata": {},
   "outputs": [],
   "source": [
    "predictions_validate = model.predict(features_validate)"
   ]
  },
  {
   "cell_type": "code",
   "execution_count": 21,
   "id": "6e96d79d",
   "metadata": {},
   "outputs": [
    {
     "data": {
      "text/plain": [
       "0.7076205287713841"
      ]
     },
     "execution_count": 21,
     "metadata": {},
     "output_type": "execute_result"
    }
   ],
   "source": [
    "accuracy_validate = accuracy_score(target_validate, predictions_validate)\n",
    "accuracy_validate"
   ]
  },
  {
   "cell_type": "markdown",
   "id": "be5f5819",
   "metadata": {},
   "source": [
    "Точность почти как если бы мы все записали в Смарт. До 0.75 немного не хватает, попробуем поменять глубину дерева решений."
   ]
  },
  {
   "cell_type": "code",
   "execution_count": 22,
   "id": "14f5568f",
   "metadata": {
    "scrolled": true
   },
   "outputs": [],
   "source": [
    "acc=[]\n",
    "for i in range(1,50):\n",
    "    model = DecisionTreeClassifier(random_state=12345, max_depth=i)\n",
    "    model.fit(features_train, target_train)\n",
    "    predictions_validate = model.predict(features_validate)\n",
    "    accuracy_validate = accuracy_score(target_validate, predictions_validate)\n",
    "    acc.append(accuracy_validate)\n",
    "    #print(i,accuracy_validate)"
   ]
  },
  {
   "cell_type": "code",
   "execution_count": 23,
   "id": "9abd8b18",
   "metadata": {},
   "outputs": [
    {
     "data": {
      "text/plain": [
       "Text(0.5, 0, 'Tree depth')"
      ]
     },
     "execution_count": 23,
     "metadata": {},
     "output_type": "execute_result"
    },
    {
     "data": {
      "image/png": "[encoded data removed]",
      "text/plain": [
       "<Figure size 432x288 with 1 Axes>"
      ]
     },
     "metadata": {
      "needs_background": "light"
     },
     "output_type": "display_data"
    }
   ],
   "source": [
    "plt.plot(range(1,50),acc)\n",
    "plt.ylim(0.7,0.8)\n",
    "plt.title('Decision tree accuracy')\n",
    "plt.ylabel('Accuracy')\n",
    "plt.xlabel('Tree depth')"
   ]
  },
  {
   "cell_type": "markdown",
   "id": "b0165d0c",
   "metadata": {},
   "source": [
    "При большой глубине дерево решений склонно к переобучению. Максимальная точность достигается при глубине равной 9, но, чтобы избежать переобучения, возьмем глубину равную 5, на ней почти такая же точность."
   ]
  },
  {
   "cell_type": "code",
   "execution_count": 24,
   "id": "af7837fd",
   "metadata": {},
   "outputs": [
    {
     "data": {
      "text/plain": [
       "0.8118195956454122"
      ]
     },
     "execution_count": 24,
     "metadata": {},
     "output_type": "execute_result"
    }
   ],
   "source": [
    "model = DecisionTreeClassifier(random_state=12345, max_depth=5)\n",
    "model.fit(features_train, target_train)\n",
    "predictions_test = model.predict(features_test)\n",
    "accuracy_test = accuracy_score(target_test, predictions_test)\n",
    "accuracy_test"
   ]
  },
  {
   "cell_type": "markdown",
   "id": "ee9cdff1",
   "metadata": {},
   "source": [
    "На тестовой выборке точность тоже получилась больше 0.75."
   ]
  },
  {
   "cell_type": "markdown",
   "id": "d5d3ee80",
   "metadata": {},
   "source": [
    "Посмотрим на метрики recall и precision."
   ]
  },
  {
   "cell_type": "code",
   "execution_count": 25,
   "id": "0a8b6836",
   "metadata": {},
   "outputs": [
    {
     "data": {
      "text/plain": [
       "0.5228426395939086"
      ]
     },
     "execution_count": 25,
     "metadata": {},
     "output_type": "execute_result"
    }
   ],
   "source": [
    "recall_score(target_test, predictions_test)"
   ]
  },
  {
   "cell_type": "markdown",
   "id": "64e6073f",
   "metadata": {},
   "source": [
    "Похоже, что мы находим далеко не все тарифы Ультра."
   ]
  },
  {
   "cell_type": "code",
   "execution_count": 26,
   "id": "d5139be1",
   "metadata": {},
   "outputs": [
    {
     "data": {
      "text/plain": [
       "0.7923076923076923"
      ]
     },
     "execution_count": 26,
     "metadata": {},
     "output_type": "execute_result"
    }
   ],
   "source": [
    "precision_score(target_test, predictions_test)"
   ]
  },
  {
   "cell_type": "markdown",
   "id": "d071c939",
   "metadata": {},
   "source": [
    "Смарт мы определяем точнее."
   ]
  },
  {
   "cell_type": "markdown",
   "id": "83e69ba0",
   "metadata": {},
   "source": [
    "Посмотрим на модель, если при обучении мы не будем учитывать кличество звонков. Не будем подбирать новые параметры, возмем те, которые уже есть."
   ]
  },
  {
   "cell_type": "code",
   "execution_count": 27,
   "id": "21be8eb8",
   "metadata": {
    "scrolled": true
   },
   "outputs": [
    {
     "data": {
      "text/plain": [
       "0.8040435458786936"
      ]
     },
     "execution_count": 27,
     "metadata": {},
     "output_type": "execute_result"
    }
   ],
   "source": [
    "model = DecisionTreeClassifier(random_state=12345, max_depth=5)\n",
    "model.fit(features_train_no_calls, target_train)\n",
    "predictions_test = model.predict(features_test_no_calls)\n",
    "accuracy_test = accuracy_score(target_test, predictions_test)\n",
    "accuracy_test"
   ]
  },
  {
   "cell_type": "markdown",
   "id": "f3784997",
   "metadata": {},
   "source": [
    "Точность практически не изменилась."
   ]
  },
  {
   "cell_type": "code",
   "execution_count": 28,
   "id": "739e6b4e",
   "metadata": {},
   "outputs": [
    {
     "data": {
      "text/plain": [
       "0.4619289340101523"
      ]
     },
     "execution_count": 28,
     "metadata": {},
     "output_type": "execute_result"
    }
   ],
   "source": [
    "recall_score(target_test, predictions_test)"
   ]
  },
  {
   "cell_type": "markdown",
   "id": "98a601b5",
   "metadata": {},
   "source": [
    "Ультру еще больше недопредсказываем."
   ]
  },
  {
   "cell_type": "code",
   "execution_count": 29,
   "id": "59fb50d0",
   "metadata": {},
   "outputs": [
    {
     "data": {
      "text/plain": [
       "0.8198198198198198"
      ]
     },
     "execution_count": 29,
     "metadata": {},
     "output_type": "execute_result"
    }
   ],
   "source": [
    "precision_score(target_test, predictions_test)"
   ]
  },
  {
   "cell_type": "markdown",
   "id": "5488a745",
   "metadata": {},
   "source": [
    "Смарт определяем более уверенно, чем раньше."
   ]
  },
  {
   "cell_type": "markdown",
   "id": "41fa28c8",
   "metadata": {},
   "source": [
    "### Случайный лес."
   ]
  },
  {
   "cell_type": "code",
   "execution_count": 30,
   "id": "e449c4e6",
   "metadata": {},
   "outputs": [
    {
     "data": {
      "text/plain": [
       "0.7884914463452566"
      ]
     },
     "execution_count": 30,
     "metadata": {},
     "output_type": "execute_result"
    }
   ],
   "source": [
    "model = RandomForestClassifier(random_state=12345)\n",
    "model.fit(features_train, target_train)\n",
    "predictions_validate = model.predict(features_validate)\n",
    "accuracy_validate = accuracy_score(target_validate, predictions_validate)\n",
    "accuracy_validate"
   ]
  },
  {
   "cell_type": "markdown",
   "id": "169d3371",
   "metadata": {},
   "source": [
    "Случайный лес уже по умолчанию дает результат выше 0.75. Попробуем поменять количество деревьев и глубину каждого дерева."
   ]
  },
  {
   "cell_type": "code",
   "execution_count": 31,
   "id": "b9963f07",
   "metadata": {},
   "outputs": [],
   "source": [
    "acc=[]\n",
    "for n_trees in range(10,51,5):\n",
    "    accc=[]\n",
    "    for depth in range(1,10):\n",
    "        model = RandomForestClassifier(n_estimators=n_trees,max_depth = depth,random_state=12345)\n",
    "        model.fit(features_train, target_train)\n",
    "        predictions_validate = model.predict(features_validate)\n",
    "        accuracy_validate = accuracy_score(target_validate, predictions_validate)\n",
    "        accc.append(accuracy_validate)\n",
    "    acc.append(accc)"
   ]
  },
  {
   "cell_type": "code",
   "execution_count": 32,
   "id": "fda1a8fa",
   "metadata": {
    "scrolled": false
   },
   "outputs": [
    {
     "name": "stderr",
     "output_type": "stream",
     "text": [
      "/tmp/ipykernel_204/264873340.py:4: UserWarning: FixedFormatter should only be used together with FixedLocator\n",
      "  ax.set_xticklabels(range(10))\n",
      "/tmp/ipykernel_204/264873340.py:5: UserWarning: FixedFormatter should only be used together with FixedLocator\n",
      "  ax.set_yticklabels(range(5,51,5))\n"
     ]
    },
    {
     "data": {
      "image/png": "[encoded data removed]",
      "text/plain": [
       "<Figure size 432x288 with 1 Axes>"
      ]
     },
     "metadata": {
      "needs_background": "light"
     },
     "output_type": "display_data"
    }
   ],
   "source": [
    "acc = np.array(acc)\n",
    "fig, ax = plt.subplots()\n",
    "im = ax.imshow(acc, aspect='auto')\n",
    "ax.set_xticklabels(range(10))\n",
    "ax.set_yticklabels(range(5,51,5))\n",
    "\n",
    "for i in range(9):\n",
    "    for j in range(9):\n",
    "        text = ax.text(j, i, round(acc[i, j],2),\n",
    "                       ha=\"center\", va=\"center\", color=\"w\")\n"
   ]
  },
  {
   "cell_type": "markdown",
   "id": "db8d67f4",
   "metadata": {},
   "source": [
    "Максимальная точность достигается при 30 деревьях и при глубине дерева 7. Проверим модель на тестовой выборке."
   ]
  },
  {
   "cell_type": "code",
   "execution_count": 33,
   "id": "3b26c39c",
   "metadata": {},
   "outputs": [
    {
     "data": {
      "text/plain": [
       "0.8164852255054432"
      ]
     },
     "execution_count": 33,
     "metadata": {},
     "output_type": "execute_result"
    }
   ],
   "source": [
    "model = RandomForestClassifier(n_estimators=30,max_depth = 7,random_state=12345)\n",
    "model.fit(features_train, target_train)\n",
    "predictions_test = model.predict(features_test)\n",
    "accuracy_test = accuracy_score(target_test, predictions_test)\n",
    "accuracy_test"
   ]
  },
  {
   "cell_type": "markdown",
   "id": "ced56682",
   "metadata": {},
   "source": [
    "Посмотрим на метрики recall и precision."
   ]
  },
  {
   "cell_type": "code",
   "execution_count": 34,
   "id": "4aa39d37",
   "metadata": {},
   "outputs": [
    {
     "data": {
      "text/plain": [
       "0.5431472081218274"
      ]
     },
     "execution_count": 34,
     "metadata": {},
     "output_type": "execute_result"
    }
   ],
   "source": [
    "recall_score(target_test, predictions_test)"
   ]
  },
  {
   "cell_type": "code",
   "execution_count": 35,
   "id": "b5398cef",
   "metadata": {},
   "outputs": [
    {
     "data": {
      "text/plain": [
       "0.7925925925925926"
      ]
     },
     "execution_count": 35,
     "metadata": {},
     "output_type": "execute_result"
    }
   ],
   "source": [
    "precision_score(target_test, predictions_test)"
   ]
  },
  {
   "cell_type": "markdown",
   "id": "71d6445c",
   "metadata": {},
   "source": [
    "Такая же ситуация, недопредсказываем количество тарифов Ультра."
   ]
  },
  {
   "cell_type": "markdown",
   "id": "540573da",
   "metadata": {},
   "source": [
    "Посмотрим на модель, если не будем учитывать количество звонков.\n"
   ]
  },
  {
   "cell_type": "code",
   "execution_count": 36,
   "id": "e50ff807",
   "metadata": {},
   "outputs": [
    {
     "data": {
      "text/plain": [
       "0.8180404354587869"
      ]
     },
     "execution_count": 36,
     "metadata": {},
     "output_type": "execute_result"
    }
   ],
   "source": [
    "model = RandomForestClassifier(n_estimators=30,max_depth = 7,random_state=12345)\n",
    "model.fit(features_train_no_calls, target_train)\n",
    "predictions_test = model.predict(features_test_no_calls)\n",
    "accuracy_test = accuracy_score(target_test, predictions_test)\n",
    "accuracy_test"
   ]
  },
  {
   "cell_type": "code",
   "execution_count": 37,
   "id": "e8dc4498",
   "metadata": {},
   "outputs": [
    {
     "data": {
      "text/plain": [
       "0.5025380710659898"
      ]
     },
     "execution_count": 37,
     "metadata": {},
     "output_type": "execute_result"
    }
   ],
   "source": [
    "recall_score(target_test, predictions_test)"
   ]
  },
  {
   "cell_type": "code",
   "execution_count": 38,
   "id": "9676b148",
   "metadata": {},
   "outputs": [
    {
     "data": {
      "text/plain": [
       "0.8389830508474576"
      ]
     },
     "execution_count": 38,
     "metadata": {},
     "output_type": "execute_result"
    }
   ],
   "source": [
    "precision_score(target_test, predictions_test)"
   ]
  },
  {
   "cell_type": "markdown",
   "id": "3785e0e3",
   "metadata": {},
   "source": [
    "Предсказательная способность модели не ухудшилась."
   ]
  },
  {
   "cell_type": "markdown",
   "id": "cfeb8712",
   "metadata": {},
   "source": [
    "### Логистическая регрессия."
   ]
  },
  {
   "cell_type": "code",
   "execution_count": 39,
   "id": "754a05cc",
   "metadata": {},
   "outputs": [
    {
     "data": {
      "text/plain": [
       "0.7402799377916018"
      ]
     },
     "execution_count": 39,
     "metadata": {},
     "output_type": "execute_result"
    }
   ],
   "source": [
    "model = LogisticRegression(random_state=12345)\n",
    "model.fit(features_train, target_train)\n",
    "predictions_validate = model.predict(features_validate)\n",
    "accuracy_validate = accuracy_score(target_validate, predictions_validate)\n",
    "accuracy_validate"
   ]
  },
  {
   "cell_type": "markdown",
   "id": "25e2e21b",
   "metadata": {},
   "source": [
    "Точности немного не хватает, проверим, что на тестовой выборке."
   ]
  },
  {
   "cell_type": "code",
   "execution_count": 40,
   "id": "c54285ea",
   "metadata": {},
   "outputs": [
    {
     "data": {
      "text/plain": [
       "0.7480559875583204"
      ]
     },
     "execution_count": 40,
     "metadata": {},
     "output_type": "execute_result"
    }
   ],
   "source": [
    "model = LogisticRegression(random_state=12345)\n",
    "model.fit(features_train, target_train)\n",
    "predictions_test = model.predict(features_test)\n",
    "accuracy_test = accuracy_score(target_test, predictions_test)\n",
    "accuracy_test"
   ]
  },
  {
   "cell_type": "markdown",
   "id": "eecd60b8",
   "metadata": {},
   "source": [
    "Посмотрим на метрики recall и precision.\n"
   ]
  },
  {
   "cell_type": "code",
   "execution_count": 41,
   "id": "8ef32811",
   "metadata": {
    "scrolled": true
   },
   "outputs": [
    {
     "data": {
      "text/plain": [
       "0.2233502538071066"
      ]
     },
     "execution_count": 41,
     "metadata": {},
     "output_type": "execute_result"
    }
   ],
   "source": [
    "recall_score(target_test, predictions_test)"
   ]
  },
  {
   "cell_type": "markdown",
   "id": "4f3e5cde",
   "metadata": {},
   "source": [
    "Совсем плохо, почти не распознаем тариф Ультра."
   ]
  },
  {
   "cell_type": "code",
   "execution_count": 42,
   "id": "b5534261",
   "metadata": {
    "scrolled": true
   },
   "outputs": [
    {
     "data": {
      "text/plain": [
       "0.8301886792452831"
      ]
     },
     "execution_count": 42,
     "metadata": {},
     "output_type": "execute_result"
    }
   ],
   "source": [
    "precision_score(target_test, predictions_test)"
   ]
  },
  {
   "cell_type": "markdown",
   "id": "6e977150",
   "metadata": {},
   "source": [
    "Смарт определяем неплохо."
   ]
  },
  {
   "cell_type": "markdown",
   "id": "35d43032",
   "metadata": {},
   "source": [
    "Посмотрим на модель, если не будем учитывать количество звонков."
   ]
  },
  {
   "cell_type": "code",
   "execution_count": 43,
   "id": "82aa2158",
   "metadata": {
    "scrolled": true
   },
   "outputs": [
    {
     "data": {
      "text/plain": [
       "0.7465007776049767"
      ]
     },
     "execution_count": 43,
     "metadata": {},
     "output_type": "execute_result"
    }
   ],
   "source": [
    "model = LogisticRegression(random_state=12345)\n",
    "model.fit(features_train_no_calls, target_train)\n",
    "predictions_test = model.predict(features_test_no_calls)\n",
    "accuracy_test = accuracy_score(target_test, predictions_test)\n",
    "accuracy_test"
   ]
  },
  {
   "cell_type": "code",
   "execution_count": 44,
   "id": "75a45d30",
   "metadata": {},
   "outputs": [
    {
     "data": {
      "text/plain": [
       "0.2233502538071066"
      ]
     },
     "execution_count": 44,
     "metadata": {},
     "output_type": "execute_result"
    }
   ],
   "source": [
    "recall_score(target_test, predictions_test)"
   ]
  },
  {
   "cell_type": "code",
   "execution_count": 45,
   "id": "4cfb4660",
   "metadata": {},
   "outputs": [
    {
     "data": {
      "text/plain": [
       "0.8148148148148148"
      ]
     },
     "execution_count": 45,
     "metadata": {},
     "output_type": "execute_result"
    }
   ],
   "source": [
    "precision_score(target_test, predictions_test)"
   ]
  },
  {
   "cell_type": "markdown",
   "id": "85a180ed",
   "metadata": {},
   "source": [
    "## Проверка моделей на адекватность."
   ]
  },
  {
   "cell_type": "markdown",
   "id": "01ff52b1",
   "metadata": {},
   "source": [
    "Проверим модель на адекватность."
   ]
  },
  {
   "cell_type": "markdown",
   "id": "16ee3a8c",
   "metadata": {},
   "source": [
    "Если мы все записываем в Смарт, то тут более менее все понятно. Точность ~0.7, мы не угадаем ни одной Ультры, Смарты угадаем все, но запишем еще и все Ульры в Смарты. Все наши модели дают точность лучше. По этому признаку они адекватные."
   ]
  },
  {
   "cell_type": "markdown",
   "id": "198c05ba",
   "metadata": {},
   "source": [
    "Посмотрим, может есть какой-нибудь признак, по которому можнопостроить простую модель и разделить тарифы."
   ]
  },
  {
   "cell_type": "code",
   "execution_count": 59,
   "id": "fe0ec42e",
   "metadata": {
    "scrolled": false
   },
   "outputs": [
    {
     "data": {
      "image/png": "[encoded data removed]",
      "text/plain": [
       "<Figure size 432x288 with 1 Axes>"
      ]
     },
     "metadata": {
      "needs_background": "light"
     },
     "output_type": "display_data"
    },
    {
     "data": {
      "image/png": "[encoded data removed]",
      "text/plain": [
       "<Figure size 432x288 with 1 Axes>"
      ]
     },
     "metadata": {
      "needs_background": "light"
     },
     "output_type": "display_data"
    },
    {
     "data": {
      "image/png": "[encoded data removed]",
      "text/plain": [
       "<Figure size 432x288 with 1 Axes>"
      ]
     },
     "metadata": {
      "needs_background": "light"
     },
     "output_type": "display_data"
    }
   ],
   "source": [
    "for column in ['gb_used','minutes','messages']:\n",
    "    sns.histplot(\n",
    "        data,\n",
    "        x=column, hue=\"is_ultra\",\n",
    "        multiple=\"stack\",\n",
    "        palette=\"light:m_r\",\n",
    "        edgecolor=\".3\",\n",
    "        linewidth=.5,\n",
    "       )\n",
    "    plt.show()"
   ]
  },
  {
   "cell_type": "markdown",
   "id": "bb02b947",
   "metadata": {},
   "source": [
    "К сожалению, такого признака нет, данные распределены равномерно и не разделяются. Странное поведение у пользователей, они зачем-то на Смарте получают больше услуг, чем на Ультре и наоборот на Ультре не пользуются услугами. Если уж пользователи не определились, тогда понятно, почему наша модель предсказывает немногим лучше, чем если мы все заполним Смартами."
   ]
  },
  {
   "cell_type": "markdown",
   "id": "ff48fe27",
   "metadata": {},
   "source": [
    "Для проверки используем DummyClassifier. Попробуем его с разными опциями. Доступны опции “most_frequent”, “prior”, “stratified”, “uniform”, “constant”. На сколько я понял “most_frequent” и “prior” примерно одно и то же. \"constan\" в нашем случае тоже означает, что все тарифы будут Смарт. Попробуем варианты “stratified”, “uniform”."
   ]
  },
  {
   "cell_type": "code",
   "execution_count": 60,
   "id": "4176ec07",
   "metadata": {},
   "outputs": [],
   "source": [
    "dummy_clf = DummyClassifier(strategy=\"prior\",random_state=1234)\n",
    "dummy_clf.fit(features_train_no_calls, target_train)\n",
    "predictions_dummy = dummy_clf.predict(features_test_no_calls)"
   ]
  },
  {
   "cell_type": "code",
   "execution_count": 61,
   "id": "edb0a27a",
   "metadata": {},
   "outputs": [
    {
     "data": {
      "text/plain": [
       "(0.6936236391912908, 0.0, 0.6936236391912908)"
      ]
     },
     "execution_count": 61,
     "metadata": {},
     "output_type": "execute_result"
    }
   ],
   "source": [
    "accuracy_score(target_test, predictions_dummy),recall_score(target_test, predictions_dummy),precision_score(target_test, predictions_dummy,average='micro')"
   ]
  },
  {
   "cell_type": "code",
   "execution_count": 62,
   "id": "59996e50",
   "metadata": {},
   "outputs": [],
   "source": [
    "dummy_clf = DummyClassifier(strategy=\"stratified\",random_state=1234)\n",
    "dummy_clf.fit(features_train_no_calls, target_train)\n",
    "predictions_dummy = dummy_clf.predict(features_test_no_calls)"
   ]
  },
  {
   "cell_type": "code",
   "execution_count": 63,
   "id": "92c40828",
   "metadata": {},
   "outputs": [
    {
     "data": {
      "text/plain": [
       "(0.5987558320373251, 0.38071065989847713, 0.35545023696682465)"
      ]
     },
     "execution_count": 63,
     "metadata": {},
     "output_type": "execute_result"
    }
   ],
   "source": [
    "accuracy_score(target_test, predictions_dummy),recall_score(target_test, predictions_dummy),precision_score(target_test, predictions_dummy)"
   ]
  },
  {
   "cell_type": "code",
   "execution_count": 64,
   "id": "79caf90d",
   "metadata": {},
   "outputs": [],
   "source": [
    "dummy_clf = DummyClassifier(strategy=\"uniform\",random_state=1234)\n",
    "dummy_clf.fit(features_train_no_calls, target_train)\n",
    "predictions_dummy = dummy_clf.predict(features_test_no_calls)"
   ]
  },
  {
   "cell_type": "code",
   "execution_count": 65,
   "id": "25770eeb",
   "metadata": {
    "scrolled": true
   },
   "outputs": [
    {
     "data": {
      "text/plain": [
       "(0.4572317262830482, 0.4517766497461929, 0.2696969696969697)"
      ]
     },
     "execution_count": 65,
     "metadata": {},
     "output_type": "execute_result"
    }
   ],
   "source": [
    "accuracy_score(target_test, predictions_dummy),recall_score(target_test, predictions_dummy),precision_score(target_test, predictions_dummy)"
   ]
  },
  {
   "cell_type": "markdown",
   "id": "2e19224f",
   "metadata": {},
   "source": [
    "Наши модели точно лучше."
   ]
  },
  {
   "cell_type": "markdown",
   "id": "7f02f1d4",
   "metadata": {},
   "source": [
    "## Вывод."
   ]
  },
  {
   "cell_type": "markdown",
   "id": "5089b09a",
   "metadata": {},
   "source": [
    "- Тарифом Ультра пользуется примерно 30% всех пользователей, поэтому если мы везде предскважем Смарт, то получим точность ~0.7. Поэтому точность наших моделей должна быть выше 0.7.\n",
    "- У дерева решений при глубине дерева равной 5 точность на валидационной выборке 0.79 а на тестовой 0.81. При этом в тех случаях, где заведомо должен быть Смарт или Ультра дерево решений дает правильный ответ (даже если все нули).\n",
    "- У случайного леса наибольшая точность на валидационной выборке равна 0.82 при количестве деревьев 30 и глубине 7.Точность на тестовой выборке 0.81. Проверку на адекватность случайный лес прошел с натяжкой, потому что если все поставить по нулям, то он рекомендует Ультру. Такой случай мы исключили, ведь тогда нам не нужен никакой тариф.\n",
    "- Чтобы случайный лес прошел проверку на адекватность в 0 пришлось снизить количество деревьев и их глубину.\n",
    "- У логистической регрессии самая низкая точность. На валидационной выборке 0.74, а на тестовой 0.75. При этом проверку на адекватность она прошла и в нуле тоже.\n",
    "- Рекомендуется ипользовать для решения задачи дерево решений. Эта модель дает точность соспоставимую со случайным лесом и выше чем у логистической регрессии. При этом случайный лес путается с прогнозом в нуле."
   ]
  }
 ],
 "metadata": {
  "ExecuteTimeLog": [
   {
    "duration": 1610,
    "start_time": "2022-07-15T07:32:50.732Z"
   },
   {
    "duration": 223,
    "start_time": "2022-07-15T07:32:52.344Z"
   },
   {
    "duration": 13,
    "start_time": "2022-07-15T07:32:52.568Z"
   },
   {
    "duration": 29,
    "start_time": "2022-07-15T07:32:52.582Z"
   },
   {
    "duration": 5,
    "start_time": "2022-07-15T07:32:52.613Z"
   },
   {
    "duration": 5,
    "start_time": "2022-07-15T07:32:52.619Z"
   },
   {
    "duration": 7,
    "start_time": "2022-07-15T07:32:52.625Z"
   },
   {
    "duration": 32,
    "start_time": "2022-07-15T07:32:52.634Z"
   },
   {
    "duration": 7,
    "start_time": "2022-07-15T07:32:52.668Z"
   },
   {
    "duration": 8,
    "start_time": "2022-07-15T07:32:52.678Z"
   },
   {
    "duration": 6,
    "start_time": "2022-07-15T07:32:52.688Z"
   },
   {
    "duration": 8,
    "start_time": "2022-07-15T07:32:52.695Z"
   },
   {
    "duration": 9,
    "start_time": "2022-07-15T07:32:52.704Z"
   },
   {
    "duration": 4,
    "start_time": "2022-07-15T07:32:52.715Z"
   },
   {
    "duration": 32,
    "start_time": "2022-07-15T07:32:52.721Z"
   },
   {
    "duration": 7,
    "start_time": "2022-07-15T07:32:52.756Z"
   },
   {
    "duration": 18,
    "start_time": "2022-07-15T07:32:52.764Z"
   },
   {
    "duration": 5,
    "start_time": "2022-07-15T07:32:52.784Z"
   },
   {
    "duration": 7,
    "start_time": "2022-07-15T07:32:52.791Z"
   },
   {
    "duration": 384,
    "start_time": "2022-07-15T07:32:52.800Z"
   },
   {
    "duration": 130,
    "start_time": "2022-07-15T07:32:53.186Z"
   },
   {
    "duration": 12,
    "start_time": "2022-07-15T07:32:53.317Z"
   },
   {
    "duration": 337,
    "start_time": "2022-07-15T07:32:53.330Z"
   },
   {
    "duration": 5169,
    "start_time": "2022-07-15T07:32:53.668Z"
   },
   {
    "duration": 503,
    "start_time": "2022-07-15T07:32:58.838Z"
   },
   {
    "duration": 83,
    "start_time": "2022-07-15T07:32:59.343Z"
   },
   {
    "duration": 40,
    "start_time": "2022-07-15T07:32:59.427Z"
   },
   {
    "duration": 27,
    "start_time": "2022-07-15T07:32:59.470Z"
   },
   {
    "duration": 7,
    "start_time": "2022-07-15T07:32:59.498Z"
   },
   {
    "duration": 9,
    "start_time": "2022-07-15T07:32:59.506Z"
   },
   {
    "duration": 13,
    "start_time": "2022-07-15T07:32:59.516Z"
   },
   {
    "duration": 5,
    "start_time": "2022-07-15T07:32:59.530Z"
   },
   {
    "duration": 84,
    "start_time": "2022-07-15T07:32:59.552Z"
   },
   {
    "duration": 29,
    "start_time": "2022-07-15T07:32:59.638Z"
   },
   {
    "duration": 8,
    "start_time": "2022-07-15T07:32:59.668Z"
   },
   {
    "duration": 10,
    "start_time": "2022-07-15T07:32:59.677Z"
   },
   {
    "duration": 25,
    "start_time": "2022-07-15T07:32:59.689Z"
   },
   {
    "duration": 7,
    "start_time": "2022-07-15T07:32:59.716Z"
   },
   {
    "duration": 50,
    "start_time": "2022-07-15T07:32:59.724Z"
   },
   {
    "duration": 22,
    "start_time": "2022-07-15T07:32:59.776Z"
   },
   {
    "duration": 6,
    "start_time": "2022-07-15T07:32:59.800Z"
   },
   {
    "duration": 3,
    "start_time": "2022-07-15T07:42:15.255Z"
   },
   {
    "duration": 1285,
    "start_time": "2022-07-15T07:44:43.805Z"
   },
   {
    "duration": 92,
    "start_time": "2022-07-15T07:44:45.093Z"
   },
   {
    "duration": 14,
    "start_time": "2022-07-15T07:44:45.187Z"
   },
   {
    "duration": 28,
    "start_time": "2022-07-15T07:44:45.204Z"
   },
   {
    "duration": 5,
    "start_time": "2022-07-15T07:44:45.234Z"
   },
   {
    "duration": 12,
    "start_time": "2022-07-15T07:44:45.241Z"
   },
   {
    "duration": 6,
    "start_time": "2022-07-15T07:44:45.255Z"
   },
   {
    "duration": 10,
    "start_time": "2022-07-15T07:44:45.263Z"
   },
   {
    "duration": 6,
    "start_time": "2022-07-15T07:44:45.274Z"
   },
   {
    "duration": 5,
    "start_time": "2022-07-15T07:44:45.283Z"
   },
   {
    "duration": 8,
    "start_time": "2022-07-15T07:44:45.290Z"
   },
   {
    "duration": 6,
    "start_time": "2022-07-15T07:44:45.299Z"
   },
   {
    "duration": 10,
    "start_time": "2022-07-15T07:44:45.307Z"
   },
   {
    "duration": 35,
    "start_time": "2022-07-15T07:44:45.318Z"
   },
   {
    "duration": 3,
    "start_time": "2022-07-15T07:44:45.355Z"
   },
   {
    "duration": 5,
    "start_time": "2022-07-15T07:44:45.360Z"
   },
   {
    "duration": 17,
    "start_time": "2022-07-15T07:44:45.367Z"
   },
   {
    "duration": 5,
    "start_time": "2022-07-15T07:44:45.385Z"
   },
   {
    "duration": 12,
    "start_time": "2022-07-15T07:44:45.391Z"
   },
   {
    "duration": 361,
    "start_time": "2022-07-15T07:44:45.404Z"
   },
   {
    "duration": 138,
    "start_time": "2022-07-15T07:44:45.766Z"
   },
   {
    "duration": 11,
    "start_time": "2022-07-15T07:44:45.906Z"
   },
   {
    "duration": 110,
    "start_time": "2022-07-15T07:44:45.918Z"
   },
   {
    "duration": 0,
    "start_time": "2022-07-15T07:44:46.030Z"
   },
   {
    "duration": 0,
    "start_time": "2022-07-15T07:44:46.032Z"
   },
   {
    "duration": 0,
    "start_time": "2022-07-15T07:44:46.033Z"
   },
   {
    "duration": 0,
    "start_time": "2022-07-15T07:44:46.035Z"
   },
   {
    "duration": 0,
    "start_time": "2022-07-15T07:44:46.037Z"
   },
   {
    "duration": 0,
    "start_time": "2022-07-15T07:44:46.055Z"
   },
   {
    "duration": 0,
    "start_time": "2022-07-15T07:44:46.056Z"
   },
   {
    "duration": 0,
    "start_time": "2022-07-15T07:44:46.058Z"
   },
   {
    "duration": 0,
    "start_time": "2022-07-15T07:44:46.059Z"
   },
   {
    "duration": 0,
    "start_time": "2022-07-15T07:44:46.061Z"
   },
   {
    "duration": 0,
    "start_time": "2022-07-15T07:44:46.062Z"
   },
   {
    "duration": 0,
    "start_time": "2022-07-15T07:44:46.064Z"
   },
   {
    "duration": 0,
    "start_time": "2022-07-15T07:44:46.066Z"
   },
   {
    "duration": 0,
    "start_time": "2022-07-15T07:44:46.067Z"
   },
   {
    "duration": 0,
    "start_time": "2022-07-15T07:44:46.068Z"
   },
   {
    "duration": 0,
    "start_time": "2022-07-15T07:44:46.070Z"
   },
   {
    "duration": 0,
    "start_time": "2022-07-15T07:44:46.071Z"
   },
   {
    "duration": 0,
    "start_time": "2022-07-15T07:44:46.072Z"
   },
   {
    "duration": 0,
    "start_time": "2022-07-15T07:44:46.074Z"
   },
   {
    "duration": 5,
    "start_time": "2022-07-15T07:45:15.905Z"
   },
   {
    "duration": 7,
    "start_time": "2022-07-15T07:53:30.816Z"
   },
   {
    "duration": 6,
    "start_time": "2022-07-15T07:54:18.537Z"
   },
   {
    "duration": 6,
    "start_time": "2022-07-15T07:59:52.021Z"
   },
   {
    "duration": 105,
    "start_time": "2022-07-15T08:00:06.084Z"
   },
   {
    "duration": 1341,
    "start_time": "2022-07-15T08:00:59.153Z"
   },
   {
    "duration": 715,
    "start_time": "2022-07-15T08:01:00.496Z"
   },
   {
    "duration": 12,
    "start_time": "2022-07-15T08:01:01.213Z"
   },
   {
    "duration": 31,
    "start_time": "2022-07-15T08:01:01.227Z"
   },
   {
    "duration": 8,
    "start_time": "2022-07-15T08:01:01.259Z"
   },
   {
    "duration": 11,
    "start_time": "2022-07-15T08:01:01.268Z"
   },
   {
    "duration": 14,
    "start_time": "2022-07-15T08:01:01.281Z"
   },
   {
    "duration": 15,
    "start_time": "2022-07-15T08:01:01.296Z"
   },
   {
    "duration": 30,
    "start_time": "2022-07-15T08:01:01.312Z"
   },
   {
    "duration": 8,
    "start_time": "2022-07-15T08:01:01.345Z"
   },
   {
    "duration": 14,
    "start_time": "2022-07-15T08:01:01.355Z"
   },
   {
    "duration": 11,
    "start_time": "2022-07-15T08:01:01.371Z"
   },
   {
    "duration": 14,
    "start_time": "2022-07-15T08:01:01.384Z"
   },
   {
    "duration": 15,
    "start_time": "2022-07-15T08:01:01.399Z"
   },
   {
    "duration": 28,
    "start_time": "2022-07-15T08:01:01.415Z"
   },
   {
    "duration": 19,
    "start_time": "2022-07-15T08:01:01.445Z"
   },
   {
    "duration": 24,
    "start_time": "2022-07-15T08:01:01.466Z"
   },
   {
    "duration": 10,
    "start_time": "2022-07-15T08:01:01.491Z"
   },
   {
    "duration": 20,
    "start_time": "2022-07-15T08:01:01.503Z"
   },
   {
    "duration": 361,
    "start_time": "2022-07-15T08:01:01.526Z"
   },
   {
    "duration": 133,
    "start_time": "2022-07-15T08:01:01.890Z"
   },
   {
    "duration": 13,
    "start_time": "2022-07-15T08:01:02.024Z"
   },
   {
    "duration": 20,
    "start_time": "2022-07-15T08:01:02.038Z"
   },
   {
    "duration": 14,
    "start_time": "2022-07-15T08:01:02.059Z"
   },
   {
    "duration": 324,
    "start_time": "2022-07-15T08:01:02.075Z"
   },
   {
    "duration": 4829,
    "start_time": "2022-07-15T08:01:02.401Z"
   },
   {
    "duration": 468,
    "start_time": "2022-07-15T08:01:07.232Z"
   },
   {
    "duration": 81,
    "start_time": "2022-07-15T08:01:07.704Z"
   },
   {
    "duration": 6,
    "start_time": "2022-07-15T08:01:07.786Z"
   },
   {
    "duration": 8,
    "start_time": "2022-07-15T08:01:07.794Z"
   },
   {
    "duration": 51,
    "start_time": "2022-07-15T08:01:07.804Z"
   },
   {
    "duration": 34,
    "start_time": "2022-07-15T08:01:07.857Z"
   },
   {
    "duration": 8,
    "start_time": "2022-07-15T08:01:07.893Z"
   },
   {
    "duration": 10,
    "start_time": "2022-07-15T08:01:07.902Z"
   },
   {
    "duration": 12,
    "start_time": "2022-07-15T08:01:07.913Z"
   },
   {
    "duration": 28,
    "start_time": "2022-07-15T08:01:07.926Z"
   },
   {
    "duration": 75,
    "start_time": "2022-07-15T08:01:07.956Z"
   },
   {
    "duration": 26,
    "start_time": "2022-07-15T08:01:08.033Z"
   },
   {
    "duration": 10,
    "start_time": "2022-07-15T08:01:08.060Z"
   },
   {
    "duration": 11,
    "start_time": "2022-07-15T08:01:08.071Z"
   },
   {
    "duration": 29,
    "start_time": "2022-07-15T08:01:08.083Z"
   },
   {
    "duration": 6,
    "start_time": "2022-07-15T08:01:08.113Z"
   },
   {
    "duration": 55,
    "start_time": "2022-07-15T08:01:08.121Z"
   },
   {
    "duration": 21,
    "start_time": "2022-07-15T08:01:08.177Z"
   },
   {
    "duration": 5,
    "start_time": "2022-07-15T08:01:08.200Z"
   },
   {
    "duration": 939,
    "start_time": "2022-07-15T08:08:08.168Z"
   },
   {
    "duration": 787,
    "start_time": "2022-07-15T08:09:12.893Z"
   },
   {
    "duration": 3,
    "start_time": "2022-07-15T08:19:14.261Z"
   },
   {
    "duration": 5,
    "start_time": "2022-07-15T08:19:58.155Z"
   },
   {
    "duration": 5,
    "start_time": "2022-07-15T08:20:49.266Z"
   },
   {
    "duration": 14,
    "start_time": "2022-07-15T08:24:33.422Z"
   },
   {
    "duration": 7,
    "start_time": "2022-07-15T08:25:05.437Z"
   },
   {
    "duration": 7,
    "start_time": "2022-07-15T08:25:35.901Z"
   },
   {
    "duration": 90,
    "start_time": "2022-07-15T08:36:26.686Z"
   },
   {
    "duration": 5,
    "start_time": "2022-07-15T08:37:45.781Z"
   },
   {
    "duration": 5,
    "start_time": "2022-07-15T08:38:00.762Z"
   },
   {
    "duration": 6,
    "start_time": "2022-07-15T08:40:16.773Z"
   },
   {
    "duration": 22,
    "start_time": "2022-07-15T08:40:18.919Z"
   },
   {
    "duration": 5,
    "start_time": "2022-07-15T08:40:22.557Z"
   },
   {
    "duration": 6,
    "start_time": "2022-07-15T08:41:20.889Z"
   },
   {
    "duration": 72,
    "start_time": "2022-07-15T08:41:56.711Z"
   },
   {
    "duration": 19,
    "start_time": "2022-07-15T08:42:54.308Z"
   },
   {
    "duration": 5,
    "start_time": "2022-07-15T08:43:09.621Z"
   },
   {
    "duration": 5,
    "start_time": "2022-07-15T08:43:23.134Z"
   },
   {
    "duration": 6,
    "start_time": "2022-07-15T08:55:22.856Z"
   },
   {
    "duration": 4,
    "start_time": "2022-07-15T08:55:47.753Z"
   },
   {
    "duration": 96,
    "start_time": "2022-07-15T08:56:00.459Z"
   },
   {
    "duration": 5,
    "start_time": "2022-07-15T08:56:07.279Z"
   },
   {
    "duration": 331,
    "start_time": "2022-07-15T09:03:00.806Z"
   },
   {
    "duration": 364,
    "start_time": "2022-07-15T09:05:03.735Z"
   },
   {
    "duration": 321,
    "start_time": "2022-07-15T09:05:29.106Z"
   },
   {
    "duration": 4,
    "start_time": "2022-07-15T09:05:44.184Z"
   },
   {
    "duration": 321,
    "start_time": "2022-07-15T09:06:20.059Z"
   },
   {
    "duration": 5,
    "start_time": "2022-07-15T09:06:37.692Z"
   },
   {
    "duration": 4,
    "start_time": "2022-07-15T09:07:02.567Z"
   },
   {
    "duration": 6,
    "start_time": "2022-07-15T09:07:29.750Z"
   },
   {
    "duration": 7,
    "start_time": "2022-07-15T09:09:15.671Z"
   },
   {
    "duration": 312,
    "start_time": "2022-07-15T09:13:17.042Z"
   },
   {
    "duration": 14,
    "start_time": "2022-07-15T09:13:32.071Z"
   },
   {
    "duration": 12,
    "start_time": "2022-07-15T09:13:57.847Z"
   },
   {
    "duration": 8,
    "start_time": "2022-07-15T09:14:06.158Z"
   },
   {
    "duration": 6,
    "start_time": "2022-07-15T09:14:20.662Z"
   },
   {
    "duration": 8,
    "start_time": "2022-07-15T09:14:24.902Z"
   },
   {
    "duration": 342,
    "start_time": "2022-07-15T09:15:30.039Z"
   },
   {
    "duration": 7,
    "start_time": "2022-07-15T09:20:39.376Z"
   },
   {
    "duration": 7,
    "start_time": "2022-07-15T09:20:47.970Z"
   },
   {
    "duration": 7,
    "start_time": "2022-07-15T09:21:14.122Z"
   },
   {
    "duration": 7,
    "start_time": "2022-07-15T09:21:38.748Z"
   },
   {
    "duration": 4,
    "start_time": "2022-07-15T09:21:52.314Z"
   },
   {
    "duration": 10,
    "start_time": "2022-07-15T09:24:30.208Z"
   },
   {
    "duration": 9,
    "start_time": "2022-07-15T09:24:33.647Z"
   },
   {
    "duration": 10,
    "start_time": "2022-07-15T09:25:08.318Z"
   },
   {
    "duration": 9,
    "start_time": "2022-07-15T09:25:12.823Z"
   },
   {
    "duration": 8,
    "start_time": "2022-07-15T09:25:19.139Z"
   },
   {
    "duration": 11,
    "start_time": "2022-07-15T09:25:31.688Z"
   },
   {
    "duration": 4,
    "start_time": "2022-07-15T09:25:58.927Z"
   },
   {
    "duration": 12,
    "start_time": "2022-07-15T09:26:43.370Z"
   },
   {
    "duration": 11,
    "start_time": "2022-07-15T09:26:58.741Z"
   },
   {
    "duration": 4,
    "start_time": "2022-07-15T09:27:04.935Z"
   },
   {
    "duration": 8,
    "start_time": "2022-07-15T09:27:07.495Z"
   },
   {
    "duration": 5,
    "start_time": "2022-07-15T09:27:09.369Z"
   },
   {
    "duration": 5,
    "start_time": "2022-07-15T09:27:11.439Z"
   },
   {
    "duration": 5,
    "start_time": "2022-07-15T09:27:37.243Z"
   },
   {
    "duration": 56,
    "start_time": "2022-07-15T10:05:35.278Z"
   },
   {
    "duration": 294,
    "start_time": "2022-07-15T10:08:22.803Z"
   },
   {
    "duration": 499,
    "start_time": "2022-07-15T10:09:10.166Z"
   },
   {
    "duration": 319,
    "start_time": "2022-07-15T10:09:22.754Z"
   },
   {
    "duration": 5,
    "start_time": "2022-07-15T10:09:46.862Z"
   },
   {
    "duration": 282,
    "start_time": "2022-07-15T10:10:01.314Z"
   },
   {
    "duration": 245,
    "start_time": "2022-07-15T10:10:37.319Z"
   },
   {
    "duration": 273,
    "start_time": "2022-07-15T10:11:23.380Z"
   },
   {
    "duration": 77,
    "start_time": "2022-07-15T10:19:13.032Z"
   },
   {
    "duration": 233,
    "start_time": "2022-07-15T10:19:20.495Z"
   },
   {
    "duration": 605,
    "start_time": "2022-07-15T10:19:34.709Z"
   },
   {
    "duration": 802,
    "start_time": "2022-07-15T10:19:56.388Z"
   },
   {
    "duration": 3,
    "start_time": "2022-07-15T10:21:09.667Z"
   },
   {
    "duration": 4,
    "start_time": "2022-07-15T10:21:42.212Z"
   },
   {
    "duration": 6,
    "start_time": "2022-07-15T10:23:48.571Z"
   },
   {
    "duration": 6,
    "start_time": "2022-07-15T10:24:10.285Z"
   },
   {
    "duration": 8,
    "start_time": "2022-07-15T10:24:33.801Z"
   },
   {
    "duration": 7,
    "start_time": "2022-07-15T10:25:03.328Z"
   },
   {
    "duration": 8,
    "start_time": "2022-07-15T10:27:13.036Z"
   },
   {
    "duration": 8,
    "start_time": "2022-07-15T10:27:22.600Z"
   },
   {
    "duration": 8,
    "start_time": "2022-07-15T10:27:29.269Z"
   },
   {
    "duration": 7,
    "start_time": "2022-07-15T10:28:02.976Z"
   },
   {
    "duration": 71,
    "start_time": "2022-07-15T10:33:31.263Z"
   },
   {
    "duration": 8,
    "start_time": "2022-07-15T10:34:03.278Z"
   },
   {
    "duration": 5,
    "start_time": "2022-07-15T10:34:08.068Z"
   },
   {
    "duration": 8,
    "start_time": "2022-07-15T10:34:11.720Z"
   },
   {
    "duration": 7,
    "start_time": "2022-07-15T10:34:15.650Z"
   },
   {
    "duration": 6,
    "start_time": "2022-07-15T10:35:52.265Z"
   },
   {
    "duration": 8,
    "start_time": "2022-07-15T10:36:08.737Z"
   },
   {
    "duration": 7,
    "start_time": "2022-07-15T10:36:47.964Z"
   },
   {
    "duration": 6,
    "start_time": "2022-07-15T11:01:33.659Z"
   },
   {
    "duration": 6,
    "start_time": "2022-07-15T11:08:21.570Z"
   },
   {
    "duration": 4,
    "start_time": "2022-07-15T11:09:13.020Z"
   },
   {
    "duration": 6,
    "start_time": "2022-07-15T11:09:51.141Z"
   },
   {
    "duration": 4,
    "start_time": "2022-07-15T11:11:44.202Z"
   },
   {
    "duration": 5,
    "start_time": "2022-07-15T11:11:47.491Z"
   },
   {
    "duration": 7,
    "start_time": "2022-07-15T11:12:37.855Z"
   },
   {
    "duration": 5,
    "start_time": "2022-07-15T11:13:26.414Z"
   },
   {
    "duration": 7,
    "start_time": "2022-07-15T11:13:34.961Z"
   },
   {
    "duration": 6,
    "start_time": "2022-07-15T11:16:41.583Z"
   },
   {
    "duration": 1705,
    "start_time": "2022-07-15T11:16:51.327Z"
   },
   {
    "duration": 296,
    "start_time": "2022-07-15T11:16:53.034Z"
   },
   {
    "duration": 15,
    "start_time": "2022-07-15T11:16:53.332Z"
   },
   {
    "duration": 39,
    "start_time": "2022-07-15T11:16:53.349Z"
   },
   {
    "duration": 19,
    "start_time": "2022-07-15T11:16:53.390Z"
   },
   {
    "duration": 13,
    "start_time": "2022-07-15T11:16:53.411Z"
   },
   {
    "duration": 28,
    "start_time": "2022-07-15T11:16:53.426Z"
   },
   {
    "duration": 28,
    "start_time": "2022-07-15T11:16:53.457Z"
   },
   {
    "duration": 27,
    "start_time": "2022-07-15T11:16:53.488Z"
   },
   {
    "duration": 30,
    "start_time": "2022-07-15T11:16:53.519Z"
   },
   {
    "duration": 16,
    "start_time": "2022-07-15T11:16:53.551Z"
   },
   {
    "duration": 33,
    "start_time": "2022-07-15T11:16:53.570Z"
   },
   {
    "duration": 27,
    "start_time": "2022-07-15T11:16:53.605Z"
   },
   {
    "duration": 15,
    "start_time": "2022-07-15T11:16:53.634Z"
   },
   {
    "duration": 25,
    "start_time": "2022-07-15T11:16:53.651Z"
   },
   {
    "duration": 20,
    "start_time": "2022-07-15T11:16:53.678Z"
   },
   {
    "duration": 1131,
    "start_time": "2022-07-15T11:16:53.700Z"
   },
   {
    "duration": 6,
    "start_time": "2022-07-15T11:16:54.833Z"
   },
   {
    "duration": 27,
    "start_time": "2022-07-15T11:16:54.841Z"
   },
   {
    "duration": 6,
    "start_time": "2022-07-15T11:16:54.870Z"
   },
   {
    "duration": 9,
    "start_time": "2022-07-15T11:16:54.879Z"
   },
   {
    "duration": 487,
    "start_time": "2022-07-15T11:16:54.890Z"
   },
   {
    "duration": 161,
    "start_time": "2022-07-15T11:16:55.379Z"
   },
   {
    "duration": 20,
    "start_time": "2022-07-15T11:16:55.542Z"
   },
   {
    "duration": 9,
    "start_time": "2022-07-15T11:16:55.565Z"
   },
   {
    "duration": 9,
    "start_time": "2022-07-15T11:16:55.577Z"
   },
   {
    "duration": 16,
    "start_time": "2022-07-15T11:16:55.588Z"
   },
   {
    "duration": 47,
    "start_time": "2022-07-15T11:16:55.609Z"
   },
   {
    "duration": 8,
    "start_time": "2022-07-15T11:16:55.658Z"
   },
   {
    "duration": 428,
    "start_time": "2022-07-15T11:16:55.668Z"
   },
   {
    "duration": 6188,
    "start_time": "2022-07-15T11:16:56.098Z"
   },
   {
    "duration": 569,
    "start_time": "2022-07-15T11:17:02.289Z"
   },
   {
    "duration": 94,
    "start_time": "2022-07-15T11:17:02.861Z"
   },
   {
    "duration": 7,
    "start_time": "2022-07-15T11:17:02.957Z"
   },
   {
    "duration": 26,
    "start_time": "2022-07-15T11:17:02.966Z"
   },
   {
    "duration": 95,
    "start_time": "2022-07-15T11:17:02.995Z"
   },
   {
    "duration": 7,
    "start_time": "2022-07-15T11:17:03.092Z"
   },
   {
    "duration": 16,
    "start_time": "2022-07-15T11:17:03.101Z"
   },
   {
    "duration": 36,
    "start_time": "2022-07-15T11:17:03.118Z"
   },
   {
    "duration": 37,
    "start_time": "2022-07-15T11:17:03.156Z"
   },
   {
    "duration": 7,
    "start_time": "2022-07-15T11:17:03.195Z"
   },
   {
    "duration": 12,
    "start_time": "2022-07-15T11:17:03.204Z"
   },
   {
    "duration": 44,
    "start_time": "2022-07-15T11:17:03.217Z"
   },
   {
    "duration": 7,
    "start_time": "2022-07-15T11:17:03.263Z"
   },
   {
    "duration": 8,
    "start_time": "2022-07-15T11:17:03.272Z"
   },
   {
    "duration": 12,
    "start_time": "2022-07-15T11:17:03.281Z"
   },
   {
    "duration": 14,
    "start_time": "2022-07-15T11:17:03.296Z"
   },
   {
    "duration": 45,
    "start_time": "2022-07-15T11:17:03.312Z"
   },
   {
    "duration": 8,
    "start_time": "2022-07-15T11:17:03.360Z"
   },
   {
    "duration": 101,
    "start_time": "2022-07-15T11:17:03.370Z"
   },
   {
    "duration": 12,
    "start_time": "2022-07-15T11:17:03.473Z"
   },
   {
    "duration": 14,
    "start_time": "2022-07-15T11:17:03.488Z"
   },
   {
    "duration": 12,
    "start_time": "2022-07-15T11:17:03.504Z"
   },
   {
    "duration": 58,
    "start_time": "2022-07-15T11:17:03.517Z"
   },
   {
    "duration": 10,
    "start_time": "2022-07-15T11:17:03.577Z"
   },
   {
    "duration": 30,
    "start_time": "2022-07-15T11:17:03.589Z"
   },
   {
    "duration": 49,
    "start_time": "2022-07-15T11:17:03.620Z"
   },
   {
    "duration": 6,
    "start_time": "2022-07-15T11:17:03.671Z"
   },
   {
    "duration": 1026,
    "start_time": "2022-07-15T11:17:03.679Z"
   },
   {
    "duration": 6,
    "start_time": "2022-07-15T11:17:04.707Z"
   },
   {
    "duration": 9,
    "start_time": "2022-07-15T11:17:04.715Z"
   },
   {
    "duration": 6,
    "start_time": "2022-07-15T11:17:04.726Z"
   },
   {
    "duration": 10,
    "start_time": "2022-07-15T11:17:04.734Z"
   },
   {
    "duration": 148,
    "start_time": "2022-07-15T11:24:13.914Z"
   },
   {
    "duration": 5,
    "start_time": "2022-07-15T11:25:03.837Z"
   },
   {
    "duration": 144,
    "start_time": "2022-07-15T11:25:25.923Z"
   },
   {
    "duration": 8,
    "start_time": "2022-07-15T11:25:58.162Z"
   },
   {
    "duration": 6,
    "start_time": "2022-07-15T11:26:22.519Z"
   },
   {
    "duration": 7,
    "start_time": "2022-07-15T11:26:29.968Z"
   },
   {
    "duration": 13,
    "start_time": "2022-07-15T11:33:24.886Z"
   },
   {
    "duration": 5,
    "start_time": "2022-07-15T11:33:27.952Z"
   },
   {
    "duration": 11,
    "start_time": "2022-07-15T11:33:38.030Z"
   },
   {
    "duration": 22,
    "start_time": "2022-07-15T11:34:00.159Z"
   },
   {
    "duration": 10,
    "start_time": "2022-07-15T11:34:23.464Z"
   },
   {
    "duration": 1496,
    "start_time": "2022-07-15T11:34:58.600Z"
   },
   {
    "duration": 77,
    "start_time": "2022-07-15T11:35:00.098Z"
   },
   {
    "duration": 13,
    "start_time": "2022-07-15T11:35:00.177Z"
   },
   {
    "duration": 25,
    "start_time": "2022-07-15T11:35:00.192Z"
   },
   {
    "duration": 8,
    "start_time": "2022-07-15T11:35:00.218Z"
   },
   {
    "duration": 27,
    "start_time": "2022-07-15T11:35:00.228Z"
   },
   {
    "duration": 11,
    "start_time": "2022-07-15T11:35:00.257Z"
   },
   {
    "duration": 16,
    "start_time": "2022-07-15T11:35:00.271Z"
   },
   {
    "duration": 17,
    "start_time": "2022-07-15T11:35:00.289Z"
   },
   {
    "duration": 13,
    "start_time": "2022-07-15T11:35:00.310Z"
   },
   {
    "duration": 19,
    "start_time": "2022-07-15T11:35:00.325Z"
   },
   {
    "duration": 21,
    "start_time": "2022-07-15T11:35:00.347Z"
   },
   {
    "duration": 20,
    "start_time": "2022-07-15T11:35:00.371Z"
   },
   {
    "duration": 24,
    "start_time": "2022-07-15T11:35:00.394Z"
   },
   {
    "duration": 16,
    "start_time": "2022-07-15T11:35:00.419Z"
   },
   {
    "duration": 28,
    "start_time": "2022-07-15T11:35:00.437Z"
   },
   {
    "duration": 1008,
    "start_time": "2022-07-15T11:35:00.467Z"
   },
   {
    "duration": 6,
    "start_time": "2022-07-15T11:35:01.477Z"
   },
   {
    "duration": 57,
    "start_time": "2022-07-15T11:35:01.484Z"
   },
   {
    "duration": 26,
    "start_time": "2022-07-15T11:35:01.543Z"
   },
   {
    "duration": 42,
    "start_time": "2022-07-15T11:35:01.571Z"
   },
   {
    "duration": 407,
    "start_time": "2022-07-15T11:35:01.615Z"
   },
   {
    "duration": 133,
    "start_time": "2022-07-15T11:35:02.024Z"
   },
   {
    "duration": 12,
    "start_time": "2022-07-15T11:35:02.159Z"
   },
   {
    "duration": 29,
    "start_time": "2022-07-15T11:35:02.173Z"
   },
   {
    "duration": 16,
    "start_time": "2022-07-15T11:35:02.204Z"
   },
   {
    "duration": 26,
    "start_time": "2022-07-15T11:35:02.222Z"
   },
   {
    "duration": 11,
    "start_time": "2022-07-15T11:35:02.253Z"
   },
   {
    "duration": 29,
    "start_time": "2022-07-15T11:35:02.265Z"
   },
   {
    "duration": 364,
    "start_time": "2022-07-15T11:35:02.296Z"
   },
   {
    "duration": 5661,
    "start_time": "2022-07-15T11:35:02.662Z"
   },
   {
    "duration": 575,
    "start_time": "2022-07-15T11:35:08.326Z"
   },
   {
    "duration": 110,
    "start_time": "2022-07-15T11:35:08.904Z"
   },
   {
    "duration": 6,
    "start_time": "2022-07-15T11:35:09.016Z"
   },
   {
    "duration": 7,
    "start_time": "2022-07-15T11:35:09.024Z"
   },
   {
    "duration": 89,
    "start_time": "2022-07-15T11:35:09.032Z"
   },
   {
    "duration": 6,
    "start_time": "2022-07-15T11:35:09.122Z"
   },
   {
    "duration": 6,
    "start_time": "2022-07-15T11:35:09.129Z"
   },
   {
    "duration": 29,
    "start_time": "2022-07-15T11:35:09.153Z"
   },
   {
    "duration": 39,
    "start_time": "2022-07-15T11:35:09.184Z"
   },
   {
    "duration": 30,
    "start_time": "2022-07-15T11:35:09.225Z"
   },
   {
    "duration": 7,
    "start_time": "2022-07-15T11:35:09.258Z"
   },
   {
    "duration": 28,
    "start_time": "2022-07-15T11:35:09.267Z"
   },
   {
    "duration": 5,
    "start_time": "2022-07-15T11:35:09.297Z"
   },
   {
    "duration": 23,
    "start_time": "2022-07-15T11:35:09.304Z"
   },
   {
    "duration": 28,
    "start_time": "2022-07-15T11:35:09.329Z"
   },
   {
    "duration": 18,
    "start_time": "2022-07-15T11:35:09.360Z"
   },
   {
    "duration": 39,
    "start_time": "2022-07-15T11:35:09.380Z"
   },
   {
    "duration": 28,
    "start_time": "2022-07-15T11:35:09.421Z"
   },
   {
    "duration": 85,
    "start_time": "2022-07-15T11:35:09.452Z"
   },
   {
    "duration": 23,
    "start_time": "2022-07-15T11:35:09.539Z"
   },
   {
    "duration": 22,
    "start_time": "2022-07-15T11:35:09.564Z"
   },
   {
    "duration": 24,
    "start_time": "2022-07-15T11:35:09.588Z"
   },
   {
    "duration": 50,
    "start_time": "2022-07-15T11:35:09.614Z"
   },
   {
    "duration": 10,
    "start_time": "2022-07-15T11:35:09.666Z"
   },
   {
    "duration": 44,
    "start_time": "2022-07-15T11:35:09.678Z"
   },
   {
    "duration": 49,
    "start_time": "2022-07-15T11:35:09.725Z"
   },
   {
    "duration": 7,
    "start_time": "2022-07-15T11:35:09.775Z"
   },
   {
    "duration": 971,
    "start_time": "2022-07-15T11:35:09.785Z"
   },
   {
    "duration": 5,
    "start_time": "2022-07-15T11:35:10.758Z"
   },
   {
    "duration": 14,
    "start_time": "2022-07-15T11:35:10.764Z"
   },
   {
    "duration": 16,
    "start_time": "2022-07-15T11:35:10.780Z"
   },
   {
    "duration": 126,
    "start_time": "2022-07-15T11:35:10.798Z"
   },
   {
    "duration": 0,
    "start_time": "2022-07-15T11:35:10.926Z"
   },
   {
    "duration": 0,
    "start_time": "2022-07-15T11:35:10.928Z"
   },
   {
    "duration": 10,
    "start_time": "2022-07-15T11:39:58.468Z"
   },
   {
    "duration": 6,
    "start_time": "2022-07-15T11:40:03.607Z"
   },
   {
    "duration": 2249,
    "start_time": "2022-07-15T11:40:10.215Z"
   },
   {
    "duration": 101,
    "start_time": "2022-07-15T11:40:12.468Z"
   },
   {
    "duration": 17,
    "start_time": "2022-07-15T11:40:12.571Z"
   },
   {
    "duration": 59,
    "start_time": "2022-07-15T11:40:12.591Z"
   },
   {
    "duration": 7,
    "start_time": "2022-07-15T11:40:12.652Z"
   },
   {
    "duration": 17,
    "start_time": "2022-07-15T11:40:12.665Z"
   },
   {
    "duration": 8,
    "start_time": "2022-07-15T11:40:12.684Z"
   },
   {
    "duration": 13,
    "start_time": "2022-07-15T11:40:12.694Z"
   },
   {
    "duration": 7,
    "start_time": "2022-07-15T11:40:12.709Z"
   },
   {
    "duration": 6,
    "start_time": "2022-07-15T11:40:12.720Z"
   },
   {
    "duration": 43,
    "start_time": "2022-07-15T11:40:12.728Z"
   },
   {
    "duration": 6,
    "start_time": "2022-07-15T11:40:12.774Z"
   },
   {
    "duration": 11,
    "start_time": "2022-07-15T11:40:12.782Z"
   },
   {
    "duration": 5,
    "start_time": "2022-07-15T11:40:12.795Z"
   },
   {
    "duration": 10,
    "start_time": "2022-07-15T11:40:12.802Z"
   },
   {
    "duration": 6,
    "start_time": "2022-07-15T11:40:12.814Z"
   },
   {
    "duration": 1101,
    "start_time": "2022-07-15T11:40:12.823Z"
   },
   {
    "duration": 6,
    "start_time": "2022-07-15T11:40:13.925Z"
   },
   {
    "duration": 15,
    "start_time": "2022-07-15T11:40:13.932Z"
   },
   {
    "duration": 12,
    "start_time": "2022-07-15T11:40:13.948Z"
   },
   {
    "duration": 9,
    "start_time": "2022-07-15T11:40:13.969Z"
   },
   {
    "duration": 410,
    "start_time": "2022-07-15T11:40:13.980Z"
   },
   {
    "duration": 141,
    "start_time": "2022-07-15T11:40:14.392Z"
   },
   {
    "duration": 31,
    "start_time": "2022-07-15T11:40:14.535Z"
   },
   {
    "duration": 7,
    "start_time": "2022-07-15T11:40:14.568Z"
   },
   {
    "duration": 8,
    "start_time": "2022-07-15T11:40:14.577Z"
   },
   {
    "duration": 13,
    "start_time": "2022-07-15T11:40:14.587Z"
   },
   {
    "duration": 7,
    "start_time": "2022-07-15T11:40:14.606Z"
   },
   {
    "duration": 9,
    "start_time": "2022-07-15T11:40:14.615Z"
   },
   {
    "duration": 399,
    "start_time": "2022-07-15T11:40:14.626Z"
   },
   {
    "duration": 5567,
    "start_time": "2022-07-15T11:40:15.027Z"
   },
   {
    "duration": 564,
    "start_time": "2022-07-15T11:40:20.596Z"
   },
   {
    "duration": 86,
    "start_time": "2022-07-15T11:40:21.171Z"
   },
   {
    "duration": 7,
    "start_time": "2022-07-15T11:40:21.262Z"
   },
   {
    "duration": 6,
    "start_time": "2022-07-15T11:40:21.271Z"
   },
   {
    "duration": 89,
    "start_time": "2022-07-15T11:40:21.279Z"
   },
   {
    "duration": 6,
    "start_time": "2022-07-15T11:40:21.370Z"
   },
   {
    "duration": 6,
    "start_time": "2022-07-15T11:40:21.378Z"
   },
   {
    "duration": 27,
    "start_time": "2022-07-15T11:40:21.385Z"
   },
   {
    "duration": 54,
    "start_time": "2022-07-15T11:40:21.414Z"
   },
   {
    "duration": 7,
    "start_time": "2022-07-15T11:40:21.471Z"
   },
   {
    "duration": 6,
    "start_time": "2022-07-15T11:40:21.479Z"
   },
   {
    "duration": 23,
    "start_time": "2022-07-15T11:40:21.487Z"
   },
   {
    "duration": 5,
    "start_time": "2022-07-15T11:40:21.512Z"
   },
   {
    "duration": 6,
    "start_time": "2022-07-15T11:40:21.519Z"
   },
   {
    "duration": 13,
    "start_time": "2022-07-15T11:40:21.553Z"
   },
   {
    "duration": 11,
    "start_time": "2022-07-15T11:40:21.568Z"
   },
   {
    "duration": 14,
    "start_time": "2022-07-15T11:40:21.580Z"
   },
   {
    "duration": 5,
    "start_time": "2022-07-15T11:40:21.596Z"
   },
   {
    "duration": 118,
    "start_time": "2022-07-15T11:40:21.603Z"
   },
   {
    "duration": 11,
    "start_time": "2022-07-15T11:40:21.723Z"
   },
   {
    "duration": 18,
    "start_time": "2022-07-15T11:40:21.735Z"
   },
   {
    "duration": 28,
    "start_time": "2022-07-15T11:40:21.754Z"
   },
   {
    "duration": 44,
    "start_time": "2022-07-15T11:40:21.785Z"
   },
   {
    "duration": 11,
    "start_time": "2022-07-15T11:40:21.831Z"
   },
   {
    "duration": 41,
    "start_time": "2022-07-15T11:40:21.844Z"
   },
   {
    "duration": 26,
    "start_time": "2022-07-15T11:40:21.886Z"
   },
   {
    "duration": 6,
    "start_time": "2022-07-15T11:40:21.914Z"
   },
   {
    "duration": 985,
    "start_time": "2022-07-15T11:40:21.922Z"
   },
   {
    "duration": 5,
    "start_time": "2022-07-15T11:40:22.910Z"
   },
   {
    "duration": 9,
    "start_time": "2022-07-15T11:40:22.917Z"
   },
   {
    "duration": 38,
    "start_time": "2022-07-15T11:40:22.929Z"
   },
   {
    "duration": 21,
    "start_time": "2022-07-15T11:40:22.968Z"
   },
   {
    "duration": 4,
    "start_time": "2022-07-15T11:40:22.991Z"
   },
   {
    "duration": 11,
    "start_time": "2022-07-15T11:40:22.997Z"
   }
  ],
  "kernelspec": {
   "display_name": "Python 3 (ipykernel)",
   "language": "python",
   "name": "python3"
  },
  "language_info": {
   "codemirror_mode": {
    "name": "ipython",
    "version": 3
   },
   "file_extension": ".py",
   "mimetype": "text/x-python",
   "name": "python",
   "nbconvert_exporter": "python",
   "pygments_lexer": "ipython3",
   "version": "3.9.13"
  },
  "toc": {
   "base_numbering": 1,
   "nav_menu": {},
   "number_sections": true,
   "sideBar": true,
   "skip_h1_title": true,
   "title_cell": "Содержание",
   "title_sidebar": "Содержание",
   "toc_cell": true,
   "toc_position": {
    "height": "calc(100% - 180px)",
    "left": "10px",
    "top": "150px",
    "width": "165px"
   },
   "toc_section_display": true,
   "toc_window_display": false
  }
 },
 "nbformat": 4,
 "nbformat_minor": 5
}
