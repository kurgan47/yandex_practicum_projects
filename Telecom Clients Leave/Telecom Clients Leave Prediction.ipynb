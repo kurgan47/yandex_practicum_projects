{
 "cells": [
  {
   "cell_type": "markdown",
   "id": "53433983",
   "metadata": {},
   "source": [
    "# Прогнозирование оттока клиентов оператора связи."
   ]
  },
  {
   "cell_type": "markdown",
   "id": "384c36a8",
   "metadata": {},
   "source": [
    "Необходимо научиться прогнозировать отток клиентов. Если выяснится, что пользователь планирует уйти, ему будут предложены промокоды и специальные условия. \n",
    "\n",
    "**Описание услуг**\n",
    "\n",
    "Оператор предоставляет два основных типа услуг: \n",
    "\n",
    "1. Стационарную телефонную связь. Возможно подключение телефонного аппарата к нескольким линиям одновременно.\n",
    "2. Интернет. Подключение может быть двух типов: через телефонную линию (DSL*,* от англ. *digital subscriber line*, «цифровая абонентская линия») или оптоволоконный кабель (*Fiber optic*).  \n",
    "\n",
    "Также доступны такие услуги:\n",
    "\n",
    "- Интернет-безопасность: антивирус (*DeviceProtection*) и блокировка небезопасных сайтов (*OnlineSecurity*);\n",
    "- Выделенная линия технической поддержки (*TechSupport*);\n",
    "- Облачное хранилище файлов для резервного копирования данных (*OnlineBackup*);\n",
    "- Стриминговое телевидение (*StreamingTV*) и каталог фильмов (*StreamingMovies*).\n",
    "\n",
    "За услуги клиенты могут платить каждый месяц или заключить договор на 1–2 года. Доступны различные способы расчёта и возможность получения электронного чека."
   ]
  },
  {
   "cell_type": "markdown",
   "id": "6651b1f3",
   "metadata": {},
   "source": [
    "# План работ "
   ]
  },
  {
   "cell_type": "markdown",
   "id": "78da0f05",
   "metadata": {},
   "source": [
    "- Загрузка и анализ данных.\n",
    "    - Загрузить данные.\n",
    "    - Привести названия колонок к стандартному виду.\n",
    "    - Оценить типы данных и наличие пропусков.\n",
    "- Первичная обработка данных и исследовательский анализ данных.\n",
    "    - Объелинить данные в одну таблицу.\n",
    "    - Заполнить пропуски.\n",
    "    - Оченить кросскорреляцию.\n",
    "    - Оценить влияние категориальных признаков на итоговый результат.\n",
    "    - Разбить данные на обучающую и тестовую выборки.\n",
    "    - Оценить дисбаланс классов.\n",
    "- Оценить различные модели.\n",
    "    - CatBoost, Random Forest, Logistic Regression.\n",
    "    - Опимальные параметры подбирать с GridSearchCV.\n",
    "    - Использовать метрику roc_auc.\n",
    "    - Для кодирования категориальных признаков для Random Forest применить технику One Hot Encoding.\n",
    "    - Для Logistic Regression применить масштабирование данных.\n",
    "- Проверка лучшей модели на тестовой выборке.\n",
    "    - Выбрать модель и параметры, показавшие наилучший результат.\n",
    "    - Оценить roc_auc и accuracy на тестовой выборке.\n",
    "    - Провести проверку модели на адекватность.\n",
    "\n"
   ]
  },
  {
   "cell_type": "markdown",
   "id": "00a6db17",
   "metadata": {},
   "source": [
    "## Загрузка и анализ данных."
   ]
  },
  {
   "cell_type": "code",
   "execution_count": 1,
   "id": "6bc21f51",
   "metadata": {},
   "outputs": [
    {
     "name": "stdout",
     "output_type": "stream",
     "text": [
      "Requirement already satisfied: scikit-plot in c:\\apps\\anaconda3\\envs\\ds_practicum_env\\lib\\site-packages (0.3.7)\n",
      "Requirement already satisfied: scipy>=0.9 in c:\\users\\sergey.polushkin\\appdata\\roaming\\python\\python39\\site-packages (from scikit-plot) (1.8.1)\n",
      "Requirement already satisfied: joblib>=0.10 in c:\\apps\\anaconda3\\envs\\ds_practicum_env\\lib\\site-packages (from scikit-plot) (1.1.0)\n",
      "Requirement already satisfied: scikit-learn>=0.18 in c:\\apps\\anaconda3\\envs\\ds_practicum_env\\lib\\site-packages (from scikit-plot) (0.24.1)\n",
      "Requirement already satisfied: matplotlib>=1.4.0 in c:\\apps\\anaconda3\\envs\\ds_practicum_env\\lib\\site-packages (from scikit-plot) (3.3.4)\n",
      "Requirement already satisfied: pillow>=6.2.0 in c:\\apps\\anaconda3\\envs\\ds_practicum_env\\lib\\site-packages (from matplotlib>=1.4.0->scikit-plot) (8.4.0)\n",
      "Requirement already satisfied: pyparsing!=2.0.4,!=2.1.2,!=2.1.6,>=2.0.3 in c:\\apps\\anaconda3\\envs\\ds_practicum_env\\lib\\site-packages (from matplotlib>=1.4.0->scikit-plot) (3.0.9)\n",
      "Requirement already satisfied: kiwisolver>=1.0.1 in c:\\apps\\anaconda3\\envs\\ds_practicum_env\\lib\\site-packages (from matplotlib>=1.4.0->scikit-plot) (1.4.3)\n",
      "Requirement already satisfied: cycler>=0.10 in c:\\apps\\anaconda3\\envs\\ds_practicum_env\\lib\\site-packages (from matplotlib>=1.4.0->scikit-plot) (0.11.0)\n",
      "Requirement already satisfied: numpy>=1.15 in c:\\apps\\anaconda3\\envs\\ds_practicum_env\\lib\\site-packages (from matplotlib>=1.4.0->scikit-plot) (1.20.1)\n",
      "Requirement already satisfied: python-dateutil>=2.1 in c:\\apps\\anaconda3\\envs\\ds_practicum_env\\lib\\site-packages (from matplotlib>=1.4.0->scikit-plot) (2.8.2)\n",
      "Requirement already satisfied: threadpoolctl>=2.0.0 in c:\\apps\\anaconda3\\envs\\ds_practicum_env\\lib\\site-packages (from scikit-learn>=0.18->scikit-plot) (3.1.0)\n",
      "Requirement already satisfied: six>=1.5 in c:\\apps\\anaconda3\\envs\\ds_practicum_env\\lib\\site-packages (from python-dateutil>=2.1->matplotlib>=1.4.0->scikit-plot) (1.16.0)\n"
     ]
    }
   ],
   "source": [
    "!pip install scikit-plot"
   ]
  },
  {
   "cell_type": "code",
   "execution_count": 2,
   "id": "644d4ad6",
   "metadata": {},
   "outputs": [],
   "source": [
    "import pandas as pd\n",
    "import numpy as np\n",
    "\n",
    "from sklearn.model_selection import train_test_split\n",
    "from sklearn.utils.class_weight import compute_class_weight\n",
    "from catboost import CatBoostClassifier, Pool\n",
    "from sklearn.ensemble import RandomForestClassifier\n",
    "from sklearn.preprocessing import OneHotEncoder\n",
    "from sklearn.model_selection import GridSearchCV\n",
    "from sklearn.model_selection import cross_val_score\n",
    "from sklearn.linear_model import LogisticRegression\n",
    "from sklearn.preprocessing import StandardScaler\n",
    "from sklearn.metrics import roc_auc_score\n",
    "from sklearn.metrics import accuracy_score\n",
    "from sklearn.pipeline import Pipeline\n",
    "from sklearn.compose import ColumnTransformer\n",
    "import scikitplot as skplt\n",
    "\n",
    "import seaborn as sns\n",
    "import matplotlib.pyplot as plt\n",
    "\n",
    "import re\n",
    "\n"
   ]
  },
  {
   "cell_type": "markdown",
   "id": "f3ddf4fb",
   "metadata": {},
   "source": [
    "Загрузим данные и посмотрим на них."
   ]
  },
  {
   "cell_type": "code",
   "execution_count": 3,
   "id": "fdea017e",
   "metadata": {},
   "outputs": [],
   "source": [
    "try:\n",
    "    contract = pd.read_csv('datasets/final_provider/contract.csv',index_col=0)\n",
    "    internet = pd.read_csv('datasets/final_provider/internet.csv',index_col=0)\n",
    "    personal  = pd.read_csv('datasets/final_provider/personal.csv',index_col=0)\n",
    "    phone = pd.read_csv('datasets/final_provider/phone.csv',index_col=0)\n",
    "except:\n",
    "    contract = pd.read_csv('/datasets/final_provider/contract.csv',index_col=0)\n",
    "    internet = pd.read_csv('/datasets/final_provider/internet.csv',index_col=0)\n",
    "    personal  = pd.read_csv('/datasets/final_provider/personal.csv',index_col=0)\n",
    "    phone = pd.read_csv('/datasets/final_provider/phone.csv',index_col=0)"
   ]
  },
  {
   "cell_type": "markdown",
   "id": "c0f56678",
   "metadata": {},
   "source": [
    "Приведем названия колонок к стандартному виду."
   ]
  },
  {
   "cell_type": "code",
   "execution_count": 4,
   "id": "24dffd5c",
   "metadata": {},
   "outputs": [
    {
     "name": "stdout",
     "output_type": "stream",
     "text": [
      "Index(['begin_date', 'end_date', 'type', 'paperless_billing', 'payment_method',\n",
      "       'monthly_charges', 'total_charges'],\n",
      "      dtype='object')\n",
      "Index(['internet_service', 'online_security', 'online_backup',\n",
      "       'device_protection', 'tech_support', 'streaming_tv',\n",
      "       'streaming_movies'],\n",
      "      dtype='object')\n",
      "Index(['gender', 'senior_citizen', 'partner', 'dependents'], dtype='object')\n",
      "Index(['multiple_lines'], dtype='object')\n"
     ]
    }
   ],
   "source": [
    "dfs = [contract,internet,personal,phone]\n",
    "for df in dfs:\n",
    "    col_dict = {}\n",
    "    for col in df.columns:\n",
    "        col_dict[col] = '_'.join(re.split('(?<=.)(?=[A-Z])', col)).lower()\n",
    "    df.rename(columns=col_dict,inplace=True)\n",
    "internet.rename(columns={'streaming_t_v':'streaming_tv'},inplace=True)\n",
    "for df in dfs:\n",
    "    print(df.columns)"
   ]
  },
  {
   "cell_type": "markdown",
   "id": "6c672017",
   "metadata": {},
   "source": [
    "### Контракт"
   ]
  },
  {
   "cell_type": "code",
   "execution_count": 5,
   "id": "ffaae89f",
   "metadata": {
    "scrolled": false
   },
   "outputs": [
    {
     "data": {
      "text/html": [
       "<div>\n",
       "<style scoped>\n",
       "    .dataframe tbody tr th:only-of-type {\n",
       "        vertical-align: middle;\n",
       "    }\n",
       "\n",
       "    .dataframe tbody tr th {\n",
       "        vertical-align: top;\n",
       "    }\n",
       "\n",
       "    .dataframe thead th {\n",
       "        text-align: right;\n",
       "    }\n",
       "</style>\n",
       "<table border=\"1\" class=\"dataframe\">\n",
       "  <thead>\n",
       "    <tr style=\"text-align: right;\">\n",
       "      <th></th>\n",
       "      <th>begin_date</th>\n",
       "      <th>end_date</th>\n",
       "      <th>type</th>\n",
       "      <th>paperless_billing</th>\n",
       "      <th>payment_method</th>\n",
       "      <th>monthly_charges</th>\n",
       "      <th>total_charges</th>\n",
       "    </tr>\n",
       "    <tr>\n",
       "      <th>customerID</th>\n",
       "      <th></th>\n",
       "      <th></th>\n",
       "      <th></th>\n",
       "      <th></th>\n",
       "      <th></th>\n",
       "      <th></th>\n",
       "      <th></th>\n",
       "    </tr>\n",
       "  </thead>\n",
       "  <tbody>\n",
       "    <tr>\n",
       "      <th>7590-VHVEG</th>\n",
       "      <td>2020-01-01</td>\n",
       "      <td>No</td>\n",
       "      <td>Month-to-month</td>\n",
       "      <td>Yes</td>\n",
       "      <td>Electronic check</td>\n",
       "      <td>29.85</td>\n",
       "      <td>29.85</td>\n",
       "    </tr>\n",
       "    <tr>\n",
       "      <th>5575-GNVDE</th>\n",
       "      <td>2017-04-01</td>\n",
       "      <td>No</td>\n",
       "      <td>One year</td>\n",
       "      <td>No</td>\n",
       "      <td>Mailed check</td>\n",
       "      <td>56.95</td>\n",
       "      <td>1889.5</td>\n",
       "    </tr>\n",
       "    <tr>\n",
       "      <th>3668-QPYBK</th>\n",
       "      <td>2019-10-01</td>\n",
       "      <td>2019-12-01 00:00:00</td>\n",
       "      <td>Month-to-month</td>\n",
       "      <td>Yes</td>\n",
       "      <td>Mailed check</td>\n",
       "      <td>53.85</td>\n",
       "      <td>108.15</td>\n",
       "    </tr>\n",
       "    <tr>\n",
       "      <th>7795-CFOCW</th>\n",
       "      <td>2016-05-01</td>\n",
       "      <td>No</td>\n",
       "      <td>One year</td>\n",
       "      <td>No</td>\n",
       "      <td>Bank transfer (automatic)</td>\n",
       "      <td>42.30</td>\n",
       "      <td>1840.75</td>\n",
       "    </tr>\n",
       "    <tr>\n",
       "      <th>9237-HQITU</th>\n",
       "      <td>2019-09-01</td>\n",
       "      <td>2019-11-01 00:00:00</td>\n",
       "      <td>Month-to-month</td>\n",
       "      <td>Yes</td>\n",
       "      <td>Electronic check</td>\n",
       "      <td>70.70</td>\n",
       "      <td>151.65</td>\n",
       "    </tr>\n",
       "  </tbody>\n",
       "</table>\n",
       "</div>"
      ],
      "text/plain": [
       "            begin_date             end_date            type paperless_billing  \\\n",
       "customerID                                                                      \n",
       "7590-VHVEG  2020-01-01                   No  Month-to-month               Yes   \n",
       "5575-GNVDE  2017-04-01                   No        One year                No   \n",
       "3668-QPYBK  2019-10-01  2019-12-01 00:00:00  Month-to-month               Yes   \n",
       "7795-CFOCW  2016-05-01                   No        One year                No   \n",
       "9237-HQITU  2019-09-01  2019-11-01 00:00:00  Month-to-month               Yes   \n",
       "\n",
       "                       payment_method  monthly_charges total_charges  \n",
       "customerID                                                            \n",
       "7590-VHVEG           Electronic check            29.85         29.85  \n",
       "5575-GNVDE               Mailed check            56.95        1889.5  \n",
       "3668-QPYBK               Mailed check            53.85        108.15  \n",
       "7795-CFOCW  Bank transfer (automatic)            42.30       1840.75  \n",
       "9237-HQITU           Electronic check            70.70        151.65  "
      ]
     },
     "execution_count": 5,
     "metadata": {},
     "output_type": "execute_result"
    }
   ],
   "source": [
    "contract.head()"
   ]
  },
  {
   "cell_type": "code",
   "execution_count": 6,
   "id": "ccdd859c",
   "metadata": {
    "scrolled": true
   },
   "outputs": [
    {
     "name": "stdout",
     "output_type": "stream",
     "text": [
      "<class 'pandas.core.frame.DataFrame'>\n",
      "Index: 7043 entries, 7590-VHVEG to 3186-AJIEK\n",
      "Data columns (total 7 columns):\n",
      " #   Column             Non-Null Count  Dtype  \n",
      "---  ------             --------------  -----  \n",
      " 0   begin_date         7043 non-null   object \n",
      " 1   end_date           7043 non-null   object \n",
      " 2   type               7043 non-null   object \n",
      " 3   paperless_billing  7043 non-null   object \n",
      " 4   payment_method     7043 non-null   object \n",
      " 5   monthly_charges    7043 non-null   float64\n",
      " 6   total_charges      7043 non-null   object \n",
      "dtypes: float64(1), object(6)\n",
      "memory usage: 440.2+ KB\n"
     ]
    }
   ],
   "source": [
    "contract.info()"
   ]
  },
  {
   "cell_type": "markdown",
   "id": "f23f0b50",
   "metadata": {},
   "source": [
    "Колонка `total_charges` строкового типа, хотя должна быть числом. Она содержит пробелы.  "
   ]
  },
  {
   "cell_type": "code",
   "execution_count": 7,
   "id": "47dbdd57",
   "metadata": {},
   "outputs": [
    {
     "data": {
      "text/html": [
       "<div>\n",
       "<style scoped>\n",
       "    .dataframe tbody tr th:only-of-type {\n",
       "        vertical-align: middle;\n",
       "    }\n",
       "\n",
       "    .dataframe tbody tr th {\n",
       "        vertical-align: top;\n",
       "    }\n",
       "\n",
       "    .dataframe thead th {\n",
       "        text-align: right;\n",
       "    }\n",
       "</style>\n",
       "<table border=\"1\" class=\"dataframe\">\n",
       "  <thead>\n",
       "    <tr style=\"text-align: right;\">\n",
       "      <th></th>\n",
       "      <th>begin_date</th>\n",
       "      <th>end_date</th>\n",
       "      <th>type</th>\n",
       "      <th>paperless_billing</th>\n",
       "      <th>payment_method</th>\n",
       "      <th>monthly_charges</th>\n",
       "      <th>total_charges</th>\n",
       "    </tr>\n",
       "    <tr>\n",
       "      <th>customerID</th>\n",
       "      <th></th>\n",
       "      <th></th>\n",
       "      <th></th>\n",
       "      <th></th>\n",
       "      <th></th>\n",
       "      <th></th>\n",
       "      <th></th>\n",
       "    </tr>\n",
       "  </thead>\n",
       "  <tbody>\n",
       "    <tr>\n",
       "      <th>4472-LVYGI</th>\n",
       "      <td>2020-02-01</td>\n",
       "      <td>No</td>\n",
       "      <td>Two year</td>\n",
       "      <td>Yes</td>\n",
       "      <td>Bank transfer (automatic)</td>\n",
       "      <td>52.55</td>\n",
       "      <td></td>\n",
       "    </tr>\n",
       "    <tr>\n",
       "      <th>3115-CZMZD</th>\n",
       "      <td>2020-02-01</td>\n",
       "      <td>No</td>\n",
       "      <td>Two year</td>\n",
       "      <td>No</td>\n",
       "      <td>Mailed check</td>\n",
       "      <td>20.25</td>\n",
       "      <td></td>\n",
       "    </tr>\n",
       "    <tr>\n",
       "      <th>5709-LVOEQ</th>\n",
       "      <td>2020-02-01</td>\n",
       "      <td>No</td>\n",
       "      <td>Two year</td>\n",
       "      <td>No</td>\n",
       "      <td>Mailed check</td>\n",
       "      <td>80.85</td>\n",
       "      <td></td>\n",
       "    </tr>\n",
       "    <tr>\n",
       "      <th>4367-NUYAO</th>\n",
       "      <td>2020-02-01</td>\n",
       "      <td>No</td>\n",
       "      <td>Two year</td>\n",
       "      <td>No</td>\n",
       "      <td>Mailed check</td>\n",
       "      <td>25.75</td>\n",
       "      <td></td>\n",
       "    </tr>\n",
       "    <tr>\n",
       "      <th>1371-DWPAZ</th>\n",
       "      <td>2020-02-01</td>\n",
       "      <td>No</td>\n",
       "      <td>Two year</td>\n",
       "      <td>No</td>\n",
       "      <td>Credit card (automatic)</td>\n",
       "      <td>56.05</td>\n",
       "      <td></td>\n",
       "    </tr>\n",
       "    <tr>\n",
       "      <th>7644-OMVMY</th>\n",
       "      <td>2020-02-01</td>\n",
       "      <td>No</td>\n",
       "      <td>Two year</td>\n",
       "      <td>No</td>\n",
       "      <td>Mailed check</td>\n",
       "      <td>19.85</td>\n",
       "      <td></td>\n",
       "    </tr>\n",
       "    <tr>\n",
       "      <th>3213-VVOLG</th>\n",
       "      <td>2020-02-01</td>\n",
       "      <td>No</td>\n",
       "      <td>Two year</td>\n",
       "      <td>No</td>\n",
       "      <td>Mailed check</td>\n",
       "      <td>25.35</td>\n",
       "      <td></td>\n",
       "    </tr>\n",
       "    <tr>\n",
       "      <th>2520-SGTTA</th>\n",
       "      <td>2020-02-01</td>\n",
       "      <td>No</td>\n",
       "      <td>Two year</td>\n",
       "      <td>No</td>\n",
       "      <td>Mailed check</td>\n",
       "      <td>20.00</td>\n",
       "      <td></td>\n",
       "    </tr>\n",
       "    <tr>\n",
       "      <th>2923-ARZLG</th>\n",
       "      <td>2020-02-01</td>\n",
       "      <td>No</td>\n",
       "      <td>One year</td>\n",
       "      <td>Yes</td>\n",
       "      <td>Mailed check</td>\n",
       "      <td>19.70</td>\n",
       "      <td></td>\n",
       "    </tr>\n",
       "    <tr>\n",
       "      <th>4075-WKNIU</th>\n",
       "      <td>2020-02-01</td>\n",
       "      <td>No</td>\n",
       "      <td>Two year</td>\n",
       "      <td>No</td>\n",
       "      <td>Mailed check</td>\n",
       "      <td>73.35</td>\n",
       "      <td></td>\n",
       "    </tr>\n",
       "    <tr>\n",
       "      <th>2775-SEFEE</th>\n",
       "      <td>2020-02-01</td>\n",
       "      <td>No</td>\n",
       "      <td>Two year</td>\n",
       "      <td>Yes</td>\n",
       "      <td>Bank transfer (automatic)</td>\n",
       "      <td>61.90</td>\n",
       "      <td></td>\n",
       "    </tr>\n",
       "  </tbody>\n",
       "</table>\n",
       "</div>"
      ],
      "text/plain": [
       "            begin_date end_date      type paperless_billing  \\\n",
       "customerID                                                    \n",
       "4472-LVYGI  2020-02-01       No  Two year               Yes   \n",
       "3115-CZMZD  2020-02-01       No  Two year                No   \n",
       "5709-LVOEQ  2020-02-01       No  Two year                No   \n",
       "4367-NUYAO  2020-02-01       No  Two year                No   \n",
       "1371-DWPAZ  2020-02-01       No  Two year                No   \n",
       "7644-OMVMY  2020-02-01       No  Two year                No   \n",
       "3213-VVOLG  2020-02-01       No  Two year                No   \n",
       "2520-SGTTA  2020-02-01       No  Two year                No   \n",
       "2923-ARZLG  2020-02-01       No  One year               Yes   \n",
       "4075-WKNIU  2020-02-01       No  Two year                No   \n",
       "2775-SEFEE  2020-02-01       No  Two year               Yes   \n",
       "\n",
       "                       payment_method  monthly_charges total_charges  \n",
       "customerID                                                            \n",
       "4472-LVYGI  Bank transfer (automatic)            52.55                \n",
       "3115-CZMZD               Mailed check            20.25                \n",
       "5709-LVOEQ               Mailed check            80.85                \n",
       "4367-NUYAO               Mailed check            25.75                \n",
       "1371-DWPAZ    Credit card (automatic)            56.05                \n",
       "7644-OMVMY               Mailed check            19.85                \n",
       "3213-VVOLG               Mailed check            25.35                \n",
       "2520-SGTTA               Mailed check            20.00                \n",
       "2923-ARZLG               Mailed check            19.70                \n",
       "4075-WKNIU               Mailed check            73.35                \n",
       "2775-SEFEE  Bank transfer (automatic)            61.90                "
      ]
     },
     "execution_count": 7,
     "metadata": {},
     "output_type": "execute_result"
    }
   ],
   "source": [
    "contract.loc[contract['total_charges'] ==' ']"
   ]
  },
  {
   "cell_type": "markdown",
   "id": "009b4ad3",
   "metadata": {},
   "source": [
    "Это новые контракты, по ним видимо еще не было выплат. Заменим пробелы на нули."
   ]
  },
  {
   "cell_type": "code",
   "execution_count": 8,
   "id": "74b24c7b",
   "metadata": {},
   "outputs": [],
   "source": [
    "contract.loc[contract['total_charges'] ==' ','total_charges'] = 0\n",
    "contract['total_charges'] = contract['total_charges'].astype(float)"
   ]
  },
  {
   "cell_type": "markdown",
   "id": "5465bbf8",
   "metadata": {},
   "source": [
    "### Интернет"
   ]
  },
  {
   "cell_type": "code",
   "execution_count": 9,
   "id": "b18bd53f",
   "metadata": {},
   "outputs": [
    {
     "name": "stdout",
     "output_type": "stream",
     "text": [
      "<class 'pandas.core.frame.DataFrame'>\n",
      "Index: 5517 entries, 7590-VHVEG to 3186-AJIEK\n",
      "Data columns (total 7 columns):\n",
      " #   Column             Non-Null Count  Dtype \n",
      "---  ------             --------------  ----- \n",
      " 0   internet_service   5517 non-null   object\n",
      " 1   online_security    5517 non-null   object\n",
      " 2   online_backup      5517 non-null   object\n",
      " 3   device_protection  5517 non-null   object\n",
      " 4   tech_support       5517 non-null   object\n",
      " 5   streaming_tv       5517 non-null   object\n",
      " 6   streaming_movies   5517 non-null   object\n",
      "dtypes: object(7)\n",
      "memory usage: 344.8+ KB\n"
     ]
    }
   ],
   "source": [
    "internet.info()"
   ]
  },
  {
   "cell_type": "code",
   "execution_count": 10,
   "id": "98101bc9",
   "metadata": {
    "scrolled": true
   },
   "outputs": [
    {
     "data": {
      "text/html": [
       "<div>\n",
       "<style scoped>\n",
       "    .dataframe tbody tr th:only-of-type {\n",
       "        vertical-align: middle;\n",
       "    }\n",
       "\n",
       "    .dataframe tbody tr th {\n",
       "        vertical-align: top;\n",
       "    }\n",
       "\n",
       "    .dataframe thead th {\n",
       "        text-align: right;\n",
       "    }\n",
       "</style>\n",
       "<table border=\"1\" class=\"dataframe\">\n",
       "  <thead>\n",
       "    <tr style=\"text-align: right;\">\n",
       "      <th></th>\n",
       "      <th>internet_service</th>\n",
       "      <th>online_security</th>\n",
       "      <th>online_backup</th>\n",
       "      <th>device_protection</th>\n",
       "      <th>tech_support</th>\n",
       "      <th>streaming_tv</th>\n",
       "      <th>streaming_movies</th>\n",
       "    </tr>\n",
       "    <tr>\n",
       "      <th>customerID</th>\n",
       "      <th></th>\n",
       "      <th></th>\n",
       "      <th></th>\n",
       "      <th></th>\n",
       "      <th></th>\n",
       "      <th></th>\n",
       "      <th></th>\n",
       "    </tr>\n",
       "  </thead>\n",
       "  <tbody>\n",
       "    <tr>\n",
       "      <th>7590-VHVEG</th>\n",
       "      <td>DSL</td>\n",
       "      <td>No</td>\n",
       "      <td>Yes</td>\n",
       "      <td>No</td>\n",
       "      <td>No</td>\n",
       "      <td>No</td>\n",
       "      <td>No</td>\n",
       "    </tr>\n",
       "    <tr>\n",
       "      <th>5575-GNVDE</th>\n",
       "      <td>DSL</td>\n",
       "      <td>Yes</td>\n",
       "      <td>No</td>\n",
       "      <td>Yes</td>\n",
       "      <td>No</td>\n",
       "      <td>No</td>\n",
       "      <td>No</td>\n",
       "    </tr>\n",
       "    <tr>\n",
       "      <th>3668-QPYBK</th>\n",
       "      <td>DSL</td>\n",
       "      <td>Yes</td>\n",
       "      <td>Yes</td>\n",
       "      <td>No</td>\n",
       "      <td>No</td>\n",
       "      <td>No</td>\n",
       "      <td>No</td>\n",
       "    </tr>\n",
       "    <tr>\n",
       "      <th>7795-CFOCW</th>\n",
       "      <td>DSL</td>\n",
       "      <td>Yes</td>\n",
       "      <td>No</td>\n",
       "      <td>Yes</td>\n",
       "      <td>Yes</td>\n",
       "      <td>No</td>\n",
       "      <td>No</td>\n",
       "    </tr>\n",
       "    <tr>\n",
       "      <th>9237-HQITU</th>\n",
       "      <td>Fiber optic</td>\n",
       "      <td>No</td>\n",
       "      <td>No</td>\n",
       "      <td>No</td>\n",
       "      <td>No</td>\n",
       "      <td>No</td>\n",
       "      <td>No</td>\n",
       "    </tr>\n",
       "  </tbody>\n",
       "</table>\n",
       "</div>"
      ],
      "text/plain": [
       "           internet_service online_security online_backup device_protection  \\\n",
       "customerID                                                                    \n",
       "7590-VHVEG              DSL              No           Yes                No   \n",
       "5575-GNVDE              DSL             Yes            No               Yes   \n",
       "3668-QPYBK              DSL             Yes           Yes                No   \n",
       "7795-CFOCW              DSL             Yes            No               Yes   \n",
       "9237-HQITU      Fiber optic              No            No                No   \n",
       "\n",
       "           tech_support streaming_tv streaming_movies  \n",
       "customerID                                             \n",
       "7590-VHVEG           No           No               No  \n",
       "5575-GNVDE           No           No               No  \n",
       "3668-QPYBK           No           No               No  \n",
       "7795-CFOCW          Yes           No               No  \n",
       "9237-HQITU           No           No               No  "
      ]
     },
     "execution_count": 10,
     "metadata": {},
     "output_type": "execute_result"
    }
   ],
   "source": [
    "internet.head()"
   ]
  },
  {
   "cell_type": "markdown",
   "id": "8b2f10b0",
   "metadata": {},
   "source": [
    "Тут все в порядке."
   ]
  },
  {
   "cell_type": "markdown",
   "id": "817fdc85",
   "metadata": {},
   "source": [
    "### Телефон."
   ]
  },
  {
   "cell_type": "code",
   "execution_count": 11,
   "id": "49b8997b",
   "metadata": {
    "scrolled": false
   },
   "outputs": [
    {
     "data": {
      "text/html": [
       "<div>\n",
       "<style scoped>\n",
       "    .dataframe tbody tr th:only-of-type {\n",
       "        vertical-align: middle;\n",
       "    }\n",
       "\n",
       "    .dataframe tbody tr th {\n",
       "        vertical-align: top;\n",
       "    }\n",
       "\n",
       "    .dataframe thead th {\n",
       "        text-align: right;\n",
       "    }\n",
       "</style>\n",
       "<table border=\"1\" class=\"dataframe\">\n",
       "  <thead>\n",
       "    <tr style=\"text-align: right;\">\n",
       "      <th></th>\n",
       "      <th>multiple_lines</th>\n",
       "    </tr>\n",
       "    <tr>\n",
       "      <th>customerID</th>\n",
       "      <th></th>\n",
       "    </tr>\n",
       "  </thead>\n",
       "  <tbody>\n",
       "    <tr>\n",
       "      <th>5575-GNVDE</th>\n",
       "      <td>No</td>\n",
       "    </tr>\n",
       "    <tr>\n",
       "      <th>3668-QPYBK</th>\n",
       "      <td>No</td>\n",
       "    </tr>\n",
       "    <tr>\n",
       "      <th>9237-HQITU</th>\n",
       "      <td>No</td>\n",
       "    </tr>\n",
       "    <tr>\n",
       "      <th>9305-CDSKC</th>\n",
       "      <td>Yes</td>\n",
       "    </tr>\n",
       "    <tr>\n",
       "      <th>1452-KIOVK</th>\n",
       "      <td>Yes</td>\n",
       "    </tr>\n",
       "  </tbody>\n",
       "</table>\n",
       "</div>"
      ],
      "text/plain": [
       "           multiple_lines\n",
       "customerID               \n",
       "5575-GNVDE             No\n",
       "3668-QPYBK             No\n",
       "9237-HQITU             No\n",
       "9305-CDSKC            Yes\n",
       "1452-KIOVK            Yes"
      ]
     },
     "execution_count": 11,
     "metadata": {},
     "output_type": "execute_result"
    }
   ],
   "source": [
    "phone.head()"
   ]
  },
  {
   "cell_type": "code",
   "execution_count": 12,
   "id": "100140f2",
   "metadata": {
    "scrolled": true
   },
   "outputs": [
    {
     "name": "stdout",
     "output_type": "stream",
     "text": [
      "<class 'pandas.core.frame.DataFrame'>\n",
      "Index: 6361 entries, 5575-GNVDE to 3186-AJIEK\n",
      "Data columns (total 1 columns):\n",
      " #   Column          Non-Null Count  Dtype \n",
      "---  ------          --------------  ----- \n",
      " 0   multiple_lines  6361 non-null   object\n",
      "dtypes: object(1)\n",
      "memory usage: 99.4+ KB\n"
     ]
    }
   ],
   "source": [
    "phone.info()"
   ]
  },
  {
   "cell_type": "markdown",
   "id": "d50048c7",
   "metadata": {},
   "source": [
    "### Персональные данные"
   ]
  },
  {
   "cell_type": "code",
   "execution_count": 13,
   "id": "511cb249",
   "metadata": {
    "scrolled": false
   },
   "outputs": [
    {
     "data": {
      "text/html": [
       "<div>\n",
       "<style scoped>\n",
       "    .dataframe tbody tr th:only-of-type {\n",
       "        vertical-align: middle;\n",
       "    }\n",
       "\n",
       "    .dataframe tbody tr th {\n",
       "        vertical-align: top;\n",
       "    }\n",
       "\n",
       "    .dataframe thead th {\n",
       "        text-align: right;\n",
       "    }\n",
       "</style>\n",
       "<table border=\"1\" class=\"dataframe\">\n",
       "  <thead>\n",
       "    <tr style=\"text-align: right;\">\n",
       "      <th></th>\n",
       "      <th>gender</th>\n",
       "      <th>senior_citizen</th>\n",
       "      <th>partner</th>\n",
       "      <th>dependents</th>\n",
       "    </tr>\n",
       "    <tr>\n",
       "      <th>customerID</th>\n",
       "      <th></th>\n",
       "      <th></th>\n",
       "      <th></th>\n",
       "      <th></th>\n",
       "    </tr>\n",
       "  </thead>\n",
       "  <tbody>\n",
       "    <tr>\n",
       "      <th>7590-VHVEG</th>\n",
       "      <td>Female</td>\n",
       "      <td>0</td>\n",
       "      <td>Yes</td>\n",
       "      <td>No</td>\n",
       "    </tr>\n",
       "    <tr>\n",
       "      <th>5575-GNVDE</th>\n",
       "      <td>Male</td>\n",
       "      <td>0</td>\n",
       "      <td>No</td>\n",
       "      <td>No</td>\n",
       "    </tr>\n",
       "    <tr>\n",
       "      <th>3668-QPYBK</th>\n",
       "      <td>Male</td>\n",
       "      <td>0</td>\n",
       "      <td>No</td>\n",
       "      <td>No</td>\n",
       "    </tr>\n",
       "    <tr>\n",
       "      <th>7795-CFOCW</th>\n",
       "      <td>Male</td>\n",
       "      <td>0</td>\n",
       "      <td>No</td>\n",
       "      <td>No</td>\n",
       "    </tr>\n",
       "    <tr>\n",
       "      <th>9237-HQITU</th>\n",
       "      <td>Female</td>\n",
       "      <td>0</td>\n",
       "      <td>No</td>\n",
       "      <td>No</td>\n",
       "    </tr>\n",
       "  </tbody>\n",
       "</table>\n",
       "</div>"
      ],
      "text/plain": [
       "            gender  senior_citizen partner dependents\n",
       "customerID                                           \n",
       "7590-VHVEG  Female               0     Yes         No\n",
       "5575-GNVDE    Male               0      No         No\n",
       "3668-QPYBK    Male               0      No         No\n",
       "7795-CFOCW    Male               0      No         No\n",
       "9237-HQITU  Female               0      No         No"
      ]
     },
     "execution_count": 13,
     "metadata": {},
     "output_type": "execute_result"
    }
   ],
   "source": [
    "personal.head()"
   ]
  },
  {
   "cell_type": "code",
   "execution_count": 14,
   "id": "65321f4b",
   "metadata": {
    "scrolled": true
   },
   "outputs": [
    {
     "name": "stdout",
     "output_type": "stream",
     "text": [
      "<class 'pandas.core.frame.DataFrame'>\n",
      "Index: 7043 entries, 7590-VHVEG to 3186-AJIEK\n",
      "Data columns (total 4 columns):\n",
      " #   Column          Non-Null Count  Dtype \n",
      "---  ------          --------------  ----- \n",
      " 0   gender          7043 non-null   object\n",
      " 1   senior_citizen  7043 non-null   int64 \n",
      " 2   partner         7043 non-null   object\n",
      " 3   dependents      7043 non-null   object\n",
      "dtypes: int64(1), object(3)\n",
      "memory usage: 275.1+ KB\n"
     ]
    }
   ],
   "source": [
    "personal.info()"
   ]
  },
  {
   "cell_type": "markdown",
   "id": "25be4e95",
   "metadata": {},
   "source": [
    "## Первичная обработка данных."
   ]
  },
  {
   "cell_type": "code",
   "execution_count": 15,
   "id": "a27a1e6f",
   "metadata": {
    "scrolled": true
   },
   "outputs": [
    {
     "data": {
      "text/html": [
       "<div>\n",
       "<style scoped>\n",
       "    .dataframe tbody tr th:only-of-type {\n",
       "        vertical-align: middle;\n",
       "    }\n",
       "\n",
       "    .dataframe tbody tr th {\n",
       "        vertical-align: top;\n",
       "    }\n",
       "\n",
       "    .dataframe thead th {\n",
       "        text-align: right;\n",
       "    }\n",
       "</style>\n",
       "<table border=\"1\" class=\"dataframe\">\n",
       "  <thead>\n",
       "    <tr style=\"text-align: right;\">\n",
       "      <th></th>\n",
       "      <th>begin_date</th>\n",
       "      <th>end_date</th>\n",
       "      <th>type</th>\n",
       "      <th>paperless_billing</th>\n",
       "      <th>payment_method</th>\n",
       "      <th>monthly_charges</th>\n",
       "      <th>total_charges</th>\n",
       "      <th>internet_service</th>\n",
       "      <th>online_security</th>\n",
       "      <th>online_backup</th>\n",
       "      <th>device_protection</th>\n",
       "      <th>tech_support</th>\n",
       "      <th>streaming_tv</th>\n",
       "      <th>streaming_movies</th>\n",
       "      <th>gender</th>\n",
       "      <th>senior_citizen</th>\n",
       "      <th>partner</th>\n",
       "      <th>dependents</th>\n",
       "      <th>multiple_lines</th>\n",
       "    </tr>\n",
       "    <tr>\n",
       "      <th>customerID</th>\n",
       "      <th></th>\n",
       "      <th></th>\n",
       "      <th></th>\n",
       "      <th></th>\n",
       "      <th></th>\n",
       "      <th></th>\n",
       "      <th></th>\n",
       "      <th></th>\n",
       "      <th></th>\n",
       "      <th></th>\n",
       "      <th></th>\n",
       "      <th></th>\n",
       "      <th></th>\n",
       "      <th></th>\n",
       "      <th></th>\n",
       "      <th></th>\n",
       "      <th></th>\n",
       "      <th></th>\n",
       "      <th></th>\n",
       "    </tr>\n",
       "  </thead>\n",
       "  <tbody>\n",
       "    <tr>\n",
       "      <th>7590-VHVEG</th>\n",
       "      <td>2020-01-01</td>\n",
       "      <td>No</td>\n",
       "      <td>Month-to-month</td>\n",
       "      <td>Yes</td>\n",
       "      <td>Electronic check</td>\n",
       "      <td>29.85</td>\n",
       "      <td>29.85</td>\n",
       "      <td>DSL</td>\n",
       "      <td>No</td>\n",
       "      <td>Yes</td>\n",
       "      <td>No</td>\n",
       "      <td>No</td>\n",
       "      <td>No</td>\n",
       "      <td>No</td>\n",
       "      <td>Female</td>\n",
       "      <td>0</td>\n",
       "      <td>Yes</td>\n",
       "      <td>No</td>\n",
       "      <td>NaN</td>\n",
       "    </tr>\n",
       "    <tr>\n",
       "      <th>5575-GNVDE</th>\n",
       "      <td>2017-04-01</td>\n",
       "      <td>No</td>\n",
       "      <td>One year</td>\n",
       "      <td>No</td>\n",
       "      <td>Mailed check</td>\n",
       "      <td>56.95</td>\n",
       "      <td>1889.50</td>\n",
       "      <td>DSL</td>\n",
       "      <td>Yes</td>\n",
       "      <td>No</td>\n",
       "      <td>Yes</td>\n",
       "      <td>No</td>\n",
       "      <td>No</td>\n",
       "      <td>No</td>\n",
       "      <td>Male</td>\n",
       "      <td>0</td>\n",
       "      <td>No</td>\n",
       "      <td>No</td>\n",
       "      <td>No</td>\n",
       "    </tr>\n",
       "    <tr>\n",
       "      <th>3668-QPYBK</th>\n",
       "      <td>2019-10-01</td>\n",
       "      <td>2019-12-01 00:00:00</td>\n",
       "      <td>Month-to-month</td>\n",
       "      <td>Yes</td>\n",
       "      <td>Mailed check</td>\n",
       "      <td>53.85</td>\n",
       "      <td>108.15</td>\n",
       "      <td>DSL</td>\n",
       "      <td>Yes</td>\n",
       "      <td>Yes</td>\n",
       "      <td>No</td>\n",
       "      <td>No</td>\n",
       "      <td>No</td>\n",
       "      <td>No</td>\n",
       "      <td>Male</td>\n",
       "      <td>0</td>\n",
       "      <td>No</td>\n",
       "      <td>No</td>\n",
       "      <td>No</td>\n",
       "    </tr>\n",
       "    <tr>\n",
       "      <th>7795-CFOCW</th>\n",
       "      <td>2016-05-01</td>\n",
       "      <td>No</td>\n",
       "      <td>One year</td>\n",
       "      <td>No</td>\n",
       "      <td>Bank transfer (automatic)</td>\n",
       "      <td>42.30</td>\n",
       "      <td>1840.75</td>\n",
       "      <td>DSL</td>\n",
       "      <td>Yes</td>\n",
       "      <td>No</td>\n",
       "      <td>Yes</td>\n",
       "      <td>Yes</td>\n",
       "      <td>No</td>\n",
       "      <td>No</td>\n",
       "      <td>Male</td>\n",
       "      <td>0</td>\n",
       "      <td>No</td>\n",
       "      <td>No</td>\n",
       "      <td>NaN</td>\n",
       "    </tr>\n",
       "    <tr>\n",
       "      <th>9237-HQITU</th>\n",
       "      <td>2019-09-01</td>\n",
       "      <td>2019-11-01 00:00:00</td>\n",
       "      <td>Month-to-month</td>\n",
       "      <td>Yes</td>\n",
       "      <td>Electronic check</td>\n",
       "      <td>70.70</td>\n",
       "      <td>151.65</td>\n",
       "      <td>Fiber optic</td>\n",
       "      <td>No</td>\n",
       "      <td>No</td>\n",
       "      <td>No</td>\n",
       "      <td>No</td>\n",
       "      <td>No</td>\n",
       "      <td>No</td>\n",
       "      <td>Female</td>\n",
       "      <td>0</td>\n",
       "      <td>No</td>\n",
       "      <td>No</td>\n",
       "      <td>No</td>\n",
       "    </tr>\n",
       "  </tbody>\n",
       "</table>\n",
       "</div>"
      ],
      "text/plain": [
       "            begin_date             end_date            type paperless_billing  \\\n",
       "customerID                                                                      \n",
       "7590-VHVEG  2020-01-01                   No  Month-to-month               Yes   \n",
       "5575-GNVDE  2017-04-01                   No        One year                No   \n",
       "3668-QPYBK  2019-10-01  2019-12-01 00:00:00  Month-to-month               Yes   \n",
       "7795-CFOCW  2016-05-01                   No        One year                No   \n",
       "9237-HQITU  2019-09-01  2019-11-01 00:00:00  Month-to-month               Yes   \n",
       "\n",
       "                       payment_method  monthly_charges  total_charges  \\\n",
       "customerID                                                              \n",
       "7590-VHVEG           Electronic check            29.85          29.85   \n",
       "5575-GNVDE               Mailed check            56.95        1889.50   \n",
       "3668-QPYBK               Mailed check            53.85         108.15   \n",
       "7795-CFOCW  Bank transfer (automatic)            42.30        1840.75   \n",
       "9237-HQITU           Electronic check            70.70         151.65   \n",
       "\n",
       "           internet_service online_security online_backup device_protection  \\\n",
       "customerID                                                                    \n",
       "7590-VHVEG              DSL              No           Yes                No   \n",
       "5575-GNVDE              DSL             Yes            No               Yes   \n",
       "3668-QPYBK              DSL             Yes           Yes                No   \n",
       "7795-CFOCW              DSL             Yes            No               Yes   \n",
       "9237-HQITU      Fiber optic              No            No                No   \n",
       "\n",
       "           tech_support streaming_tv streaming_movies  gender  senior_citizen  \\\n",
       "customerID                                                                      \n",
       "7590-VHVEG           No           No               No  Female               0   \n",
       "5575-GNVDE           No           No               No    Male               0   \n",
       "3668-QPYBK           No           No               No    Male               0   \n",
       "7795-CFOCW          Yes           No               No    Male               0   \n",
       "9237-HQITU           No           No               No  Female               0   \n",
       "\n",
       "           partner dependents multiple_lines  \n",
       "customerID                                    \n",
       "7590-VHVEG     Yes         No            NaN  \n",
       "5575-GNVDE      No         No             No  \n",
       "3668-QPYBK      No         No             No  \n",
       "7795-CFOCW      No         No            NaN  \n",
       "9237-HQITU      No         No             No  "
      ]
     },
     "execution_count": 15,
     "metadata": {},
     "output_type": "execute_result"
    }
   ],
   "source": [
    "data = contract.join([internet,personal,phone])\n",
    "data.head()"
   ]
  },
  {
   "cell_type": "code",
   "execution_count": 16,
   "id": "1404458e",
   "metadata": {
    "scrolled": false
   },
   "outputs": [
    {
     "name": "stdout",
     "output_type": "stream",
     "text": [
      "<class 'pandas.core.frame.DataFrame'>\n",
      "Index: 7043 entries, 7590-VHVEG to 3186-AJIEK\n",
      "Data columns (total 19 columns):\n",
      " #   Column             Non-Null Count  Dtype  \n",
      "---  ------             --------------  -----  \n",
      " 0   begin_date         7043 non-null   object \n",
      " 1   end_date           7043 non-null   object \n",
      " 2   type               7043 non-null   object \n",
      " 3   paperless_billing  7043 non-null   object \n",
      " 4   payment_method     7043 non-null   object \n",
      " 5   monthly_charges    7043 non-null   float64\n",
      " 6   total_charges      7043 non-null   float64\n",
      " 7   internet_service   5517 non-null   object \n",
      " 8   online_security    5517 non-null   object \n",
      " 9   online_backup      5517 non-null   object \n",
      " 10  device_protection  5517 non-null   object \n",
      " 11  tech_support       5517 non-null   object \n",
      " 12  streaming_tv       5517 non-null   object \n",
      " 13  streaming_movies   5517 non-null   object \n",
      " 14  gender             7043 non-null   object \n",
      " 15  senior_citizen     7043 non-null   int64  \n",
      " 16  partner            7043 non-null   object \n",
      " 17  dependents         7043 non-null   object \n",
      " 18  multiple_lines     6361 non-null   object \n",
      "dtypes: float64(2), int64(1), object(16)\n",
      "memory usage: 1.1+ MB\n"
     ]
    }
   ],
   "source": [
    "data.info()"
   ]
  },
  {
   "cell_type": "code",
   "execution_count": 17,
   "id": "5a74389a",
   "metadata": {
    "scrolled": true
   },
   "outputs": [
    {
     "data": {
      "text/plain": [
       "array([ True])"
      ]
     },
     "execution_count": 17,
     "metadata": {},
     "output_type": "execute_result"
    }
   ],
   "source": [
    "np.unique(data.index == contract.index)"
   ]
  },
  {
   "cell_type": "markdown",
   "id": "a571fd32",
   "metadata": {},
   "source": [
    "7043 элемента в таблице contracts и в таблице data, и у них одинаковые индексы, значит из contracts все данные сохранились. Поскольку целевой признак содержится только в contracts, то даже, если мы потеряем какие-то данные из других таблиц, то на итоговый результат это не повлияет. "
   ]
  },
  {
   "cell_type": "code",
   "execution_count": 19,
   "id": "8832390a",
   "metadata": {
    "scrolled": true
   },
   "outputs": [
    {
     "data": {
      "text/html": [
       "<div>\n",
       "<style scoped>\n",
       "    .dataframe tbody tr th:only-of-type {\n",
       "        vertical-align: middle;\n",
       "    }\n",
       "\n",
       "    .dataframe tbody tr th {\n",
       "        vertical-align: top;\n",
       "    }\n",
       "\n",
       "    .dataframe thead th {\n",
       "        text-align: right;\n",
       "    }\n",
       "</style>\n",
       "<table border=\"1\" class=\"dataframe\">\n",
       "  <thead>\n",
       "    <tr style=\"text-align: right;\">\n",
       "      <th></th>\n",
       "      <th>customerID</th>\n",
       "      <th>begin_date</th>\n",
       "      <th>end_date</th>\n",
       "      <th>type</th>\n",
       "      <th>paperless_billing</th>\n",
       "      <th>payment_method</th>\n",
       "      <th>monthly_charges</th>\n",
       "      <th>total_charges</th>\n",
       "      <th>internet_service</th>\n",
       "      <th>online_security</th>\n",
       "      <th>online_backup</th>\n",
       "      <th>device_protection</th>\n",
       "      <th>tech_support</th>\n",
       "      <th>streaming_tv</th>\n",
       "      <th>streaming_movies</th>\n",
       "      <th>gender</th>\n",
       "      <th>senior_citizen</th>\n",
       "      <th>partner</th>\n",
       "      <th>dependents</th>\n",
       "      <th>multiple_lines</th>\n",
       "    </tr>\n",
       "  </thead>\n",
       "  <tbody>\n",
       "    <tr>\n",
       "      <th>0</th>\n",
       "      <td>7590-VHVEG</td>\n",
       "      <td>2020-01-01</td>\n",
       "      <td>No</td>\n",
       "      <td>Month-to-month</td>\n",
       "      <td>Yes</td>\n",
       "      <td>Electronic check</td>\n",
       "      <td>29.85</td>\n",
       "      <td>29.85</td>\n",
       "      <td>DSL</td>\n",
       "      <td>No</td>\n",
       "      <td>Yes</td>\n",
       "      <td>No</td>\n",
       "      <td>No</td>\n",
       "      <td>No</td>\n",
       "      <td>No</td>\n",
       "      <td>Female</td>\n",
       "      <td>0</td>\n",
       "      <td>Yes</td>\n",
       "      <td>No</td>\n",
       "      <td>NaN</td>\n",
       "    </tr>\n",
       "    <tr>\n",
       "      <th>1</th>\n",
       "      <td>5575-GNVDE</td>\n",
       "      <td>2017-04-01</td>\n",
       "      <td>No</td>\n",
       "      <td>One year</td>\n",
       "      <td>No</td>\n",
       "      <td>Mailed check</td>\n",
       "      <td>56.95</td>\n",
       "      <td>1889.50</td>\n",
       "      <td>DSL</td>\n",
       "      <td>Yes</td>\n",
       "      <td>No</td>\n",
       "      <td>Yes</td>\n",
       "      <td>No</td>\n",
       "      <td>No</td>\n",
       "      <td>No</td>\n",
       "      <td>Male</td>\n",
       "      <td>0</td>\n",
       "      <td>No</td>\n",
       "      <td>No</td>\n",
       "      <td>No</td>\n",
       "    </tr>\n",
       "    <tr>\n",
       "      <th>2</th>\n",
       "      <td>3668-QPYBK</td>\n",
       "      <td>2019-10-01</td>\n",
       "      <td>2019-12-01 00:00:00</td>\n",
       "      <td>Month-to-month</td>\n",
       "      <td>Yes</td>\n",
       "      <td>Mailed check</td>\n",
       "      <td>53.85</td>\n",
       "      <td>108.15</td>\n",
       "      <td>DSL</td>\n",
       "      <td>Yes</td>\n",
       "      <td>Yes</td>\n",
       "      <td>No</td>\n",
       "      <td>No</td>\n",
       "      <td>No</td>\n",
       "      <td>No</td>\n",
       "      <td>Male</td>\n",
       "      <td>0</td>\n",
       "      <td>No</td>\n",
       "      <td>No</td>\n",
       "      <td>No</td>\n",
       "    </tr>\n",
       "    <tr>\n",
       "      <th>3</th>\n",
       "      <td>7795-CFOCW</td>\n",
       "      <td>2016-05-01</td>\n",
       "      <td>No</td>\n",
       "      <td>One year</td>\n",
       "      <td>No</td>\n",
       "      <td>Bank transfer (automatic)</td>\n",
       "      <td>42.30</td>\n",
       "      <td>1840.75</td>\n",
       "      <td>DSL</td>\n",
       "      <td>Yes</td>\n",
       "      <td>No</td>\n",
       "      <td>Yes</td>\n",
       "      <td>Yes</td>\n",
       "      <td>No</td>\n",
       "      <td>No</td>\n",
       "      <td>Male</td>\n",
       "      <td>0</td>\n",
       "      <td>No</td>\n",
       "      <td>No</td>\n",
       "      <td>NaN</td>\n",
       "    </tr>\n",
       "    <tr>\n",
       "      <th>4</th>\n",
       "      <td>9237-HQITU</td>\n",
       "      <td>2019-09-01</td>\n",
       "      <td>2019-11-01 00:00:00</td>\n",
       "      <td>Month-to-month</td>\n",
       "      <td>Yes</td>\n",
       "      <td>Electronic check</td>\n",
       "      <td>70.70</td>\n",
       "      <td>151.65</td>\n",
       "      <td>Fiber optic</td>\n",
       "      <td>No</td>\n",
       "      <td>No</td>\n",
       "      <td>No</td>\n",
       "      <td>No</td>\n",
       "      <td>No</td>\n",
       "      <td>No</td>\n",
       "      <td>Female</td>\n",
       "      <td>0</td>\n",
       "      <td>No</td>\n",
       "      <td>No</td>\n",
       "      <td>No</td>\n",
       "    </tr>\n",
       "  </tbody>\n",
       "</table>\n",
       "</div>"
      ],
      "text/plain": [
       "   customerID  begin_date             end_date            type  \\\n",
       "0  7590-VHVEG  2020-01-01                   No  Month-to-month   \n",
       "1  5575-GNVDE  2017-04-01                   No        One year   \n",
       "2  3668-QPYBK  2019-10-01  2019-12-01 00:00:00  Month-to-month   \n",
       "3  7795-CFOCW  2016-05-01                   No        One year   \n",
       "4  9237-HQITU  2019-09-01  2019-11-01 00:00:00  Month-to-month   \n",
       "\n",
       "  paperless_billing             payment_method  monthly_charges  \\\n",
       "0               Yes           Electronic check            29.85   \n",
       "1                No               Mailed check            56.95   \n",
       "2               Yes               Mailed check            53.85   \n",
       "3                No  Bank transfer (automatic)            42.30   \n",
       "4               Yes           Electronic check            70.70   \n",
       "\n",
       "   total_charges internet_service online_security online_backup  \\\n",
       "0          29.85              DSL              No           Yes   \n",
       "1        1889.50              DSL             Yes            No   \n",
       "2         108.15              DSL             Yes           Yes   \n",
       "3        1840.75              DSL             Yes            No   \n",
       "4         151.65      Fiber optic              No            No   \n",
       "\n",
       "  device_protection tech_support streaming_tv streaming_movies  gender  \\\n",
       "0                No           No           No               No  Female   \n",
       "1               Yes           No           No               No    Male   \n",
       "2                No           No           No               No    Male   \n",
       "3               Yes          Yes           No               No    Male   \n",
       "4                No           No           No               No  Female   \n",
       "\n",
       "   senior_citizen partner dependents multiple_lines  \n",
       "0               0     Yes         No            NaN  \n",
       "1               0      No         No             No  \n",
       "2               0      No         No             No  \n",
       "3               0      No         No            NaN  \n",
       "4               0      No         No             No  "
      ]
     },
     "execution_count": 19,
     "metadata": {},
     "output_type": "execute_result"
    }
   ],
   "source": [
    "data=data.reset_index()\n",
    "data.head()"
   ]
  },
  {
   "cell_type": "code",
   "execution_count": 20,
   "id": "fb781efe",
   "metadata": {},
   "outputs": [
    {
     "data": {
      "text/plain": [
       "0"
      ]
     },
     "execution_count": 20,
     "metadata": {},
     "output_type": "execute_result"
    }
   ],
   "source": [
    "data.duplicated().sum()"
   ]
  },
  {
   "cell_type": "markdown",
   "id": "b8d8bd0e",
   "metadata": {},
   "source": [
    "Создадим целевой признак, если у клиента есть значение в колонке end_date, то значит он ушёл. Заменим `No` в end_date на `2020-02-01`. Посчитаем длительность действия контракта. Даты удалим."
   ]
  },
  {
   "cell_type": "code",
   "execution_count": 24,
   "id": "42aed64c",
   "metadata": {
    "scrolled": false
   },
   "outputs": [
    {
     "data": {
      "text/html": [
       "<div>\n",
       "<style scoped>\n",
       "    .dataframe tbody tr th:only-of-type {\n",
       "        vertical-align: middle;\n",
       "    }\n",
       "\n",
       "    .dataframe tbody tr th {\n",
       "        vertical-align: top;\n",
       "    }\n",
       "\n",
       "    .dataframe thead th {\n",
       "        text-align: right;\n",
       "    }\n",
       "</style>\n",
       "<table border=\"1\" class=\"dataframe\">\n",
       "  <thead>\n",
       "    <tr style=\"text-align: right;\">\n",
       "      <th></th>\n",
       "      <th>type</th>\n",
       "      <th>paperless_billing</th>\n",
       "      <th>payment_method</th>\n",
       "      <th>monthly_charges</th>\n",
       "      <th>total_charges</th>\n",
       "      <th>internet_service</th>\n",
       "      <th>online_security</th>\n",
       "      <th>online_backup</th>\n",
       "      <th>device_protection</th>\n",
       "      <th>tech_support</th>\n",
       "      <th>streaming_tv</th>\n",
       "      <th>streaming_movies</th>\n",
       "      <th>gender</th>\n",
       "      <th>senior_citizen</th>\n",
       "      <th>partner</th>\n",
       "      <th>dependents</th>\n",
       "      <th>multiple_lines</th>\n",
       "      <th>target</th>\n",
       "      <th>duration</th>\n",
       "    </tr>\n",
       "  </thead>\n",
       "  <tbody>\n",
       "    <tr>\n",
       "      <th>0</th>\n",
       "      <td>Month-to-month</td>\n",
       "      <td>Yes</td>\n",
       "      <td>Electronic check</td>\n",
       "      <td>29.85</td>\n",
       "      <td>29.85</td>\n",
       "      <td>DSL</td>\n",
       "      <td>No</td>\n",
       "      <td>Yes</td>\n",
       "      <td>No</td>\n",
       "      <td>No</td>\n",
       "      <td>No</td>\n",
       "      <td>No</td>\n",
       "      <td>Female</td>\n",
       "      <td>0</td>\n",
       "      <td>Yes</td>\n",
       "      <td>No</td>\n",
       "      <td>NaN</td>\n",
       "      <td>0</td>\n",
       "      <td>1.0</td>\n",
       "    </tr>\n",
       "    <tr>\n",
       "      <th>1</th>\n",
       "      <td>One year</td>\n",
       "      <td>No</td>\n",
       "      <td>Mailed check</td>\n",
       "      <td>56.95</td>\n",
       "      <td>1889.50</td>\n",
       "      <td>DSL</td>\n",
       "      <td>Yes</td>\n",
       "      <td>No</td>\n",
       "      <td>Yes</td>\n",
       "      <td>No</td>\n",
       "      <td>No</td>\n",
       "      <td>No</td>\n",
       "      <td>Male</td>\n",
       "      <td>0</td>\n",
       "      <td>No</td>\n",
       "      <td>No</td>\n",
       "      <td>No</td>\n",
       "      <td>0</td>\n",
       "      <td>34.0</td>\n",
       "    </tr>\n",
       "    <tr>\n",
       "      <th>2</th>\n",
       "      <td>Month-to-month</td>\n",
       "      <td>Yes</td>\n",
       "      <td>Mailed check</td>\n",
       "      <td>53.85</td>\n",
       "      <td>108.15</td>\n",
       "      <td>DSL</td>\n",
       "      <td>Yes</td>\n",
       "      <td>Yes</td>\n",
       "      <td>No</td>\n",
       "      <td>No</td>\n",
       "      <td>No</td>\n",
       "      <td>No</td>\n",
       "      <td>Male</td>\n",
       "      <td>0</td>\n",
       "      <td>No</td>\n",
       "      <td>No</td>\n",
       "      <td>No</td>\n",
       "      <td>1</td>\n",
       "      <td>2.0</td>\n",
       "    </tr>\n",
       "    <tr>\n",
       "      <th>3</th>\n",
       "      <td>One year</td>\n",
       "      <td>No</td>\n",
       "      <td>Bank transfer (automatic)</td>\n",
       "      <td>42.30</td>\n",
       "      <td>1840.75</td>\n",
       "      <td>DSL</td>\n",
       "      <td>Yes</td>\n",
       "      <td>No</td>\n",
       "      <td>Yes</td>\n",
       "      <td>Yes</td>\n",
       "      <td>No</td>\n",
       "      <td>No</td>\n",
       "      <td>Male</td>\n",
       "      <td>0</td>\n",
       "      <td>No</td>\n",
       "      <td>No</td>\n",
       "      <td>NaN</td>\n",
       "      <td>0</td>\n",
       "      <td>45.0</td>\n",
       "    </tr>\n",
       "    <tr>\n",
       "      <th>4</th>\n",
       "      <td>Month-to-month</td>\n",
       "      <td>Yes</td>\n",
       "      <td>Electronic check</td>\n",
       "      <td>70.70</td>\n",
       "      <td>151.65</td>\n",
       "      <td>Fiber optic</td>\n",
       "      <td>No</td>\n",
       "      <td>No</td>\n",
       "      <td>No</td>\n",
       "      <td>No</td>\n",
       "      <td>No</td>\n",
       "      <td>No</td>\n",
       "      <td>Female</td>\n",
       "      <td>0</td>\n",
       "      <td>No</td>\n",
       "      <td>No</td>\n",
       "      <td>No</td>\n",
       "      <td>1</td>\n",
       "      <td>2.0</td>\n",
       "    </tr>\n",
       "  </tbody>\n",
       "</table>\n",
       "</div>"
      ],
      "text/plain": [
       "             type paperless_billing             payment_method  \\\n",
       "0  Month-to-month               Yes           Electronic check   \n",
       "1        One year                No               Mailed check   \n",
       "2  Month-to-month               Yes               Mailed check   \n",
       "3        One year                No  Bank transfer (automatic)   \n",
       "4  Month-to-month               Yes           Electronic check   \n",
       "\n",
       "   monthly_charges  total_charges internet_service online_security  \\\n",
       "0            29.85          29.85              DSL              No   \n",
       "1            56.95        1889.50              DSL             Yes   \n",
       "2            53.85         108.15              DSL             Yes   \n",
       "3            42.30        1840.75              DSL             Yes   \n",
       "4            70.70         151.65      Fiber optic              No   \n",
       "\n",
       "  online_backup device_protection tech_support streaming_tv streaming_movies  \\\n",
       "0           Yes                No           No           No               No   \n",
       "1            No               Yes           No           No               No   \n",
       "2           Yes                No           No           No               No   \n",
       "3            No               Yes          Yes           No               No   \n",
       "4            No                No           No           No               No   \n",
       "\n",
       "   gender  senior_citizen partner dependents multiple_lines  target  duration  \n",
       "0  Female               0     Yes         No            NaN       0       1.0  \n",
       "1    Male               0      No         No             No       0      34.0  \n",
       "2    Male               0      No         No             No       1       2.0  \n",
       "3    Male               0      No         No            NaN       0      45.0  \n",
       "4  Female               0      No         No             No       1       2.0  "
      ]
     },
     "execution_count": 24,
     "metadata": {},
     "output_type": "execute_result"
    }
   ],
   "source": [
    "data['target'] = 1\n",
    "data.loc[data['end_date']=='No','target'] = 0\n",
    "data.loc[data['end_date']=='No','end_date'] = '2020-02-01'\n",
    "data['duration'] = (pd.to_datetime(data['end_date'],format='%Y-%m-%d')-pd.to_datetime(data['begin_date'],format='%Y-%m-%d')).astype('timedelta64[M]')\n",
    "data = data.drop(columns=['begin_date','end_date'])\n",
    "data.head()"
   ]
  },
  {
   "cell_type": "markdown",
   "id": "d85c8e89",
   "metadata": {},
   "source": [
    "Посмотрим на пропуски, которые появились в результате объединения. Поскольку колонки с телефонией не применимы к интернету и наоборот, заполним их значениями *NA* - Not Aplicable"
   ]
  },
  {
   "cell_type": "code",
   "execution_count": 25,
   "id": "5b0cc217",
   "metadata": {
    "scrolled": false
   },
   "outputs": [
    {
     "data": {
      "text/plain": [
       "type                    0\n",
       "paperless_billing       0\n",
       "payment_method          0\n",
       "monthly_charges         0\n",
       "total_charges           0\n",
       "internet_service     1526\n",
       "online_security      1526\n",
       "online_backup        1526\n",
       "device_protection    1526\n",
       "tech_support         1526\n",
       "streaming_tv         1526\n",
       "streaming_movies     1526\n",
       "gender                  0\n",
       "senior_citizen          0\n",
       "partner                 0\n",
       "dependents              0\n",
       "multiple_lines        682\n",
       "target                  0\n",
       "duration                0\n",
       "dtype: int64"
      ]
     },
     "execution_count": 25,
     "metadata": {},
     "output_type": "execute_result"
    }
   ],
   "source": [
    "data.isna().sum()"
   ]
  },
  {
   "cell_type": "code",
   "execution_count": 26,
   "id": "b43a2e21",
   "metadata": {},
   "outputs": [],
   "source": [
    "internet_columns = internet.columns\n",
    "data.loc[:,internet_columns] = data.loc[:,internet_columns].fillna('NA')\n",
    "\n",
    "data['multiple_lines'] = data['multiple_lines'].fillna('NA')\n"
   ]
  },
  {
   "cell_type": "markdown",
   "id": "147608ca",
   "metadata": {},
   "source": [
    "### Линейная кросскорреляция."
   ]
  },
  {
   "cell_type": "markdown",
   "id": "25f57b53",
   "metadata": {},
   "source": [
    "Посмотрим на матрицу корреляции."
   ]
  },
  {
   "cell_type": "code",
   "execution_count": 27,
   "id": "8ea7281d",
   "metadata": {},
   "outputs": [
    {
     "data": {
      "text/plain": [
       "<AxesSubplot:>"
      ]
     },
     "execution_count": 27,
     "metadata": {},
     "output_type": "execute_result"
    },
    {
     "data": {
      "image/png": "[encoded data removed]",
      "text/plain": [
       "<Figure size 432x288 with 2 Axes>"
      ]
     },
     "metadata": {
      "needs_background": "light"
     },
     "output_type": "display_data"
    }
   ],
   "source": [
    "sns.heatmap(data.corr(),annot=True)"
   ]
  },
  {
   "cell_type": "markdown",
   "id": "73bb53f7",
   "metadata": {},
   "source": [
    "Наблюдается значительная корреляци между продолжительностью контракта и суммарными выплатами, что вобщем-то логично. Удалим суммарные выплаты из данных, но перед этим создадим новую переменную, которая равна разнице суммарных выплат и ежемесячных выплат, умноженных на длительность контракта.  "
   ]
  },
  {
   "cell_type": "code",
   "execution_count": 28,
   "id": "4f65a8d4",
   "metadata": {},
   "outputs": [],
   "source": [
    "data['random_pay'] = data['total_charges'] - data['monthly_charges']*data['duration']"
   ]
  },
  {
   "cell_type": "code",
   "execution_count": 29,
   "id": "00a87d9a",
   "metadata": {},
   "outputs": [],
   "source": [
    "data.drop(columns=['total_charges'], inplace=True)"
   ]
  },
  {
   "cell_type": "code",
   "execution_count": 30,
   "id": "a3898dfe",
   "metadata": {},
   "outputs": [
    {
     "data": {
      "text/plain": [
       "<AxesSubplot:>"
      ]
     },
     "execution_count": 30,
     "metadata": {},
     "output_type": "execute_result"
    },
    {
     "data": {
      "image/png": "[encoded data removed]",
      "text/plain": [
       "<Figure size 432x288 with 2 Axes>"
      ]
     },
     "metadata": {
      "needs_background": "light"
     },
     "output_type": "display_data"
    }
   ],
   "source": [
    "sns.heatmap(data.corr(),annot=True)"
   ]
  },
  {
   "cell_type": "code",
   "execution_count": 31,
   "id": "aa3ace36",
   "metadata": {
    "scrolled": false
   },
   "outputs": [
    {
     "data": {
      "text/plain": [
       "<seaborn.axisgrid.PairGrid at 0x2657dcb2460>"
      ]
     },
     "execution_count": 31,
     "metadata": {},
     "output_type": "execute_result"
    },
    {
     "data": {
      "image/png": "[encoded data removed]",
      "text/plain": [
       "<Figure size 762.375x720 with 20 Axes>"
      ]
     },
     "metadata": {
      "needs_background": "light"
     },
     "output_type": "display_data"
    }
   ],
   "source": [
    "sns.pairplot(data,hue='target')"
   ]
  },
  {
   "cell_type": "markdown",
   "id": "dc7ecfc7",
   "metadata": {},
   "source": [
    "- В основном уходят клиенты, у которых контракты длятся долго, если срок контракта ментьше ~2 лет, то остается и уходит примерно одинаковая доля клиентов, но с ростом продолжительности доля остающихся клиентов падает, а ушедших растет.\n",
    "- Чаще уходят те, у кого большие месячные выплаты."
   ]
  },
  {
   "cell_type": "markdown",
   "id": "09523288",
   "metadata": {},
   "source": [
    "### Категориальные признаки"
   ]
  },
  {
   "cell_type": "markdown",
   "id": "d692744d",
   "metadata": {},
   "source": [
    "Разделим категориальные и числовые признаки."
   ]
  },
  {
   "cell_type": "code",
   "execution_count": 32,
   "id": "064c9ada",
   "metadata": {
    "scrolled": true
   },
   "outputs": [
    {
     "data": {
      "text/plain": [
       "['partner',\n",
       " 'tech_support',\n",
       " 'paperless_billing',\n",
       " 'internet_service',\n",
       " 'device_protection',\n",
       " 'dependents',\n",
       " 'streaming_movies',\n",
       " 'gender',\n",
       " 'streaming_tv',\n",
       " 'multiple_lines',\n",
       " 'type',\n",
       " 'senior_citizen',\n",
       " 'payment_method',\n",
       " 'online_security',\n",
       " 'online_backup']"
      ]
     },
     "execution_count": 32,
     "metadata": {},
     "output_type": "execute_result"
    }
   ],
   "source": [
    "num_columns = ['monthly_charges','duration','random_pay']\n",
    "cat_columns = list(set(data.columns) - set(num_columns) - set(['target']))\n",
    "cat_columns"
   ]
  },
  {
   "cell_type": "markdown",
   "id": "13fac40a",
   "metadata": {},
   "source": [
    "Посмотрим на категориальные признаки."
   ]
  },
  {
   "cell_type": "code",
   "execution_count": 33,
   "id": "41e8ab54",
   "metadata": {},
   "outputs": [
    {
     "data": {
      "text/plain": [
       "15"
      ]
     },
     "execution_count": 33,
     "metadata": {},
     "output_type": "execute_result"
    }
   ],
   "source": [
    "len(cat_columns)"
   ]
  },
  {
   "cell_type": "code",
   "execution_count": 34,
   "id": "53117c6e",
   "metadata": {
    "scrolled": true
   },
   "outputs": [
    {
     "data": {
      "image/png": "[encoded data removed]",
      "text/plain": [
       "<Figure size 1080x1584 with 15 Axes>"
      ]
     },
     "metadata": {
      "needs_background": "light"
     },
     "output_type": "display_data"
    }
   ],
   "source": [
    "fig, axes = plt.subplots(5, 3, figsize=(15, 22))\n",
    "\n",
    "fig.tight_layout() \n",
    "plt.subplots_adjust(hspace=0.65)\n",
    "for i in range(3):\n",
    "    for j in range(5):\n",
    "        sns.countplot(data=data,x=cat_columns[3*j+i],hue='target',ax=axes[j,i])\n",
    "        axes[j,i].set_title(cat_columns[3*j+i])\n",
    "        axes[j,i].set(xlabel=None)\n",
    "        if i>0:\n",
    "            axes[j,i].set(ylabel=None)\n",
    "        axes[j,i].tick_params(axis='x', rotation=45)"
   ]
  },
  {
   "cell_type": "markdown",
   "id": "6249c485",
   "metadata": {},
   "source": [
    "- Мужчины и женщины одинаково часто уходят и остаются, этот признак не несет полезной информации. Удалим его.\n",
    "- Чаще уходят клиенты с помесячной оплатой.\n",
    "- Доля ушедших клиентов среди senior_citizen меньше, чем доля ушедших клиентов среди всех остальных.\n",
    "- Больше бездетных клиентов, соответственно и уходят они чаще.\n",
    "- Те, кто не пользуется техподдержкой, уходят занчительно чаще, чем те, кто пользуются.\n",
    "- Те, у кого оптоволокно, уходят чаще, чем те, у кого DSL.\n",
    "- Семейные уходят реже, чем те, у кого нет партнера.\n"
   ]
  },
  {
   "cell_type": "markdown",
   "id": "bba67788",
   "metadata": {},
   "source": [
    "### Дисбаланс классов."
   ]
  },
  {
   "cell_type": "markdown",
   "id": "7e72014b",
   "metadata": {},
   "source": [
    "Посмотрим на дисбаланс классов."
   ]
  },
  {
   "cell_type": "code",
   "execution_count": 35,
   "id": "28a774c9",
   "metadata": {
    "scrolled": true
   },
   "outputs": [
    {
     "data": {
      "text/plain": [
       "0    0.73463\n",
       "1    0.26537\n",
       "Name: target, dtype: float64"
      ]
     },
     "execution_count": 35,
     "metadata": {},
     "output_type": "execute_result"
    }
   ],
   "source": [
    "data['target'].value_counts(normalize=True)"
   ]
  },
  {
   "cell_type": "markdown",
   "id": "c06af688",
   "metadata": {},
   "source": [
    "### Разбиение на обучающую и тестовую выборки."
   ]
  },
  {
   "cell_type": "markdown",
   "id": "21e165c8",
   "metadata": {},
   "source": [
    "Выделим целевой признак"
   ]
  },
  {
   "cell_type": "code",
   "execution_count": 36,
   "id": "695c9c0b",
   "metadata": {
    "scrolled": false
   },
   "outputs": [],
   "source": [
    "X = data.drop(columns=['target'])\n",
    "y = data['target']"
   ]
  },
  {
   "cell_type": "markdown",
   "id": "ff8d731d",
   "metadata": {},
   "source": [
    "Разделим данные на обучающую и тестовую выборки."
   ]
  },
  {
   "cell_type": "code",
   "execution_count": 37,
   "id": "3f30d2c3",
   "metadata": {},
   "outputs": [],
   "source": [
    "RANDOM_STATE = 121222"
   ]
  },
  {
   "cell_type": "code",
   "execution_count": 38,
   "id": "394879b9",
   "metadata": {},
   "outputs": [],
   "source": [
    "X_train, X_test, y_train, y_test = train_test_split(X, y, test_size=0.25,stratify=y, random_state=RANDOM_STATE)"
   ]
  },
  {
   "cell_type": "markdown",
   "id": "c6bd2763",
   "metadata": {},
   "source": [
    "## Catboost"
   ]
  },
  {
   "cell_type": "code",
   "execution_count": 39,
   "id": "c5e0289f",
   "metadata": {},
   "outputs": [],
   "source": [
    "train_pool = Pool(X_train, y_train, cat_features=cat_columns)\n",
    "test_pool = Pool(X_test, cat_features=cat_columns) "
   ]
  },
  {
   "cell_type": "markdown",
   "id": "83fecedf",
   "metadata": {},
   "source": [
    " Посчитаем веса для классов, чтобы учесть дисбаланс при обучении."
   ]
  },
  {
   "cell_type": "code",
   "execution_count": 40,
   "id": "d597dccf",
   "metadata": {},
   "outputs": [
    {
     "data": {
      "text/plain": [
       "{0: 0.6806146115191342, 1: 1.8841626538255751}"
      ]
     },
     "execution_count": 40,
     "metadata": {},
     "output_type": "execute_result"
    }
   ],
   "source": [
    "classes = np.unique(y)\n",
    "weights = compute_class_weight(class_weight='balanced', classes=classes, y=y)\n",
    "class_weights = dict(zip(classes, weights))\n",
    "class_weights"
   ]
  },
  {
   "cell_type": "code",
   "execution_count": 41,
   "id": "50f0e75a",
   "metadata": {},
   "outputs": [],
   "source": [
    "model = CatBoostClassifier(logging_level='Silent',\n",
    "                           eval_metric='AUC:hints=skip_train~false',\n",
    "                           class_weights=[1.88,0.68],\n",
    "                           random_state =RANDOM_STATE)"
   ]
  },
  {
   "cell_type": "markdown",
   "id": "0dd6fe23",
   "metadata": {},
   "source": [
    "Ниже изначальные параметры для grid search, чтобы ускорить время работы, в итоговой версии их меньше."
   ]
  },
  {
   "cell_type": "markdown",
   "id": "9e755346",
   "metadata": {},
   "source": [
    "``` python\n",
    "grid = {'learning_rate': [0.001,0.03, 0.1],\n",
    "        'depth': [4, 6, 10],\n",
    "        'iterations':[50,100,500, 1000],\n",
    "        'l2_leaf_reg': [None,1, 3, 5,],\n",
    "        }\n",
    "\n",
    "{'depth': 4, 'l2_leaf_reg': 3, 'iterations': 1000, 'learning_rate': 0.03}\n",
    "roc_auc = 0.8643609646872065\n",
    "```"
   ]
  },
  {
   "cell_type": "code",
   "execution_count": 42,
   "id": "2ea7387d",
   "metadata": {},
   "outputs": [],
   "source": [
    "grid = {'learning_rate': [0.03, 0.1],\n",
    "        'depth': [4, 6],\n",
    "        'iterations':[1000],\n",
    "        'l2_leaf_reg': [3]\n",
    "        }"
   ]
  },
  {
   "cell_type": "code",
   "execution_count": 43,
   "id": "f1a1b7a2",
   "metadata": {
    "scrolled": false
   },
   "outputs": [
    {
     "data": {
      "application/vnd.jupyter.widget-view+json": {
       "model_id": "3ba61cc9bd8e407d9d00063054ac1566",
       "version_major": 2,
       "version_minor": 0
      },
      "text/plain": [
       "MetricVisualizer(layout=Layout(align_self='stretch', height='500px'))"
      ]
     },
     "metadata": {},
     "output_type": "display_data"
    }
   ],
   "source": [
    "cb_search_result = model.grid_search(grid, \n",
    "                                       train_pool,\n",
    "                                       cv=3, \n",
    "                                       verbose=False, \n",
    "                                       plot=True,\n",
    "                                       partition_random_seed=RANDOM_STATE)"
   ]
  },
  {
   "cell_type": "markdown",
   "id": "6b19e6b7",
   "metadata": {},
   "source": [
    "Посмотрим на важность входных параметров."
   ]
  },
  {
   "cell_type": "code",
   "execution_count": 44,
   "id": "77d567ce",
   "metadata": {
    "scrolled": false
   },
   "outputs": [
    {
     "data": {
      "text/plain": [
       "<AxesSubplot:xlabel='feature_importance', ylabel='feature_names'>"
      ]
     },
     "execution_count": 44,
     "metadata": {},
     "output_type": "execute_result"
    },
    {
     "data": {
      "image/png": "[encoded data removed]",
      "text/plain": [
       "<Figure size 432x288 with 1 Axes>"
      ]
     },
     "metadata": {
      "needs_background": "light"
     },
     "output_type": "display_data"
    }
   ],
   "source": [
    "fi = pd.DataFrame({'feature_importance': model.get_feature_importance(train_pool), \n",
    "              'feature_names': X.columns}).sort_values(by=['feature_importance'], \n",
    "                                                           ascending=False)\n",
    "sns.barplot(data=fi, x=\"feature_importance\", y=\"feature_names\")"
   ]
  },
  {
   "cell_type": "markdown",
   "id": "ff2d4aa8",
   "metadata": {},
   "source": [
    "Похоже что 4 последних можно было удалить."
   ]
  },
  {
   "cell_type": "code",
   "execution_count": 45,
   "id": "e9a11d6d",
   "metadata": {
    "scrolled": true
   },
   "outputs": [
    {
     "data": {
      "text/plain": [
       "{'depth': 4, 'l2_leaf_reg': 3, 'iterations': 1000, 'learning_rate': 0.03}"
      ]
     },
     "execution_count": 45,
     "metadata": {},
     "output_type": "execute_result"
    }
   ],
   "source": [
    "cb_best_params = cb_search_result['params']\n",
    "cb_best_params"
   ]
  },
  {
   "cell_type": "code",
   "execution_count": 46,
   "id": "6c151f6e",
   "metadata": {
    "scrolled": true
   },
   "outputs": [
    {
     "data": {
      "text/plain": [
       "0.8643609646872065"
      ]
     },
     "execution_count": 46,
     "metadata": {},
     "output_type": "execute_result"
    }
   ],
   "source": [
    "cb_best_score = max(cb_search_result['cv_results']['test-AUC-mean'])\n",
    "cb_best_score"
   ]
  },
  {
   "cell_type": "markdown",
   "id": "beda53e6",
   "metadata": {},
   "source": [
    "## Random Forest"
   ]
  },
  {
   "cell_type": "markdown",
   "id": "1cd32f50",
   "metadata": {},
   "source": [
    "Закодируем категориальные признаки отдельно."
   ]
  },
  {
   "cell_type": "code",
   "execution_count": 47,
   "id": "ca3b6a1f",
   "metadata": {},
   "outputs": [],
   "source": [
    "numeric_transformer = Pipeline(steps=[('scaler', StandardScaler())])\n",
    "categorical_transformer = OneHotEncoder(handle_unknown='ignore')\n",
    "preprocessor = ColumnTransformer(\n",
    "        transformers=[\n",
    "        ('num', numeric_transformer, num_columns),\n",
    "        ('cat', categorical_transformer, cat_columns)])\n",
    "preprocessor.fit(X_train)\n",
    "X_train_sc_ohe = preprocessor.transform(X_train)\n",
    "X_test_sc_ohe = preprocessor.transform(X_test)"
   ]
  },
  {
   "cell_type": "code",
   "execution_count": 48,
   "id": "64175944",
   "metadata": {},
   "outputs": [],
   "source": [
    "forest = RandomForestClassifier(random_state=RANDOM_STATE,class_weight='balanced')"
   ]
  },
  {
   "cell_type": "code",
   "execution_count": 49,
   "id": "6780a47b",
   "metadata": {},
   "outputs": [],
   "source": [
    "parameters = {'n_estimators':[50,100,500], 'max_depth':[5, 10,15]}"
   ]
  },
  {
   "cell_type": "code",
   "execution_count": 50,
   "id": "98a8d4cf",
   "metadata": {},
   "outputs": [],
   "source": [
    "forest_search_results = GridSearchCV(forest, parameters,cv=3,scoring='roc_auc')"
   ]
  },
  {
   "cell_type": "markdown",
   "id": "9c6044a4",
   "metadata": {},
   "source": [
    "``` python\n",
    "forest_search_results.fit(X_train_ohe,y_train)\n",
    "```"
   ]
  },
  {
   "cell_type": "code",
   "execution_count": 51,
   "id": "6b22ed42",
   "metadata": {},
   "outputs": [
    {
     "data": {
      "text/plain": [
       "GridSearchCV(cv=3,\n",
       "             estimator=RandomForestClassifier(class_weight='balanced',\n",
       "                                              random_state=121222),\n",
       "             param_grid={'max_depth': [5, 10, 15],\n",
       "                         'n_estimators': [50, 100, 500]},\n",
       "             scoring='roc_auc')"
      ]
     },
     "execution_count": 51,
     "metadata": {},
     "output_type": "execute_result"
    }
   ],
   "source": [
    "forest_search_results.fit(X_train_sc_ohe,y_train)"
   ]
  },
  {
   "cell_type": "code",
   "execution_count": 52,
   "id": "b8ec2136",
   "metadata": {
    "scrolled": true
   },
   "outputs": [
    {
     "data": {
      "text/plain": [
       "0.848733129583878"
      ]
     },
     "execution_count": 52,
     "metadata": {},
     "output_type": "execute_result"
    }
   ],
   "source": [
    "forest_best_score = forest_search_results.best_score_\n",
    "forest_best_score"
   ]
  },
  {
   "cell_type": "code",
   "execution_count": 53,
   "id": "f7486564",
   "metadata": {},
   "outputs": [
    {
     "data": {
      "text/plain": [
       "{'max_depth': 10, 'n_estimators': 500}"
      ]
     },
     "execution_count": 53,
     "metadata": {},
     "output_type": "execute_result"
    }
   ],
   "source": [
    "forest_best_params = forest_search_results.best_params_\n",
    "forest_best_params"
   ]
  },
  {
   "cell_type": "markdown",
   "id": "a2b991a9",
   "metadata": {},
   "source": [
    "## Logistic Regression"
   ]
  },
  {
   "cell_type": "markdown",
   "id": "6ede6783",
   "metadata": {},
   "source": [
    "Попробуем подобрать наилучщий метод и силу регуляризации."
   ]
  },
  {
   "cell_type": "code",
   "execution_count": 54,
   "id": "732e7fc6",
   "metadata": {},
   "outputs": [],
   "source": [
    "lr_pram_grid = {\n",
    "    'penalty':['l1','l2'],\n",
    "    'C':[10, 1, .1, 0.05,.01,.001]\n",
    "}"
   ]
  },
  {
   "cell_type": "code",
   "execution_count": 55,
   "id": "d7be40f1",
   "metadata": {},
   "outputs": [],
   "source": [
    "reg = LogisticRegression(random_state=RANDOM_STATE,solver='liblinear',class_weight='balanced')\n",
    "reg_search_results = GridSearchCV(reg, lr_pram_grid,cv=3,scoring='roc_auc')"
   ]
  },
  {
   "cell_type": "markdown",
   "id": "09896f04",
   "metadata": {},
   "source": [
    "``` python\n",
    "reg_search_results.fit(X_train_ohe,y_train)\n",
    "```"
   ]
  },
  {
   "cell_type": "code",
   "execution_count": 56,
   "id": "41dfd1c2",
   "metadata": {},
   "outputs": [
    {
     "data": {
      "text/plain": [
       "GridSearchCV(cv=3,\n",
       "             estimator=LogisticRegression(class_weight='balanced',\n",
       "                                          random_state=121222,\n",
       "                                          solver='liblinear'),\n",
       "             param_grid={'C': [10, 1, 0.1, 0.05, 0.01, 0.001],\n",
       "                         'penalty': ['l1', 'l2']},\n",
       "             scoring='roc_auc')"
      ]
     },
     "execution_count": 56,
     "metadata": {},
     "output_type": "execute_result"
    }
   ],
   "source": [
    "reg_search_results.fit(X_train_sc_ohe,y_train)"
   ]
  },
  {
   "cell_type": "code",
   "execution_count": 57,
   "id": "00177783",
   "metadata": {},
   "outputs": [
    {
     "data": {
      "text/plain": [
       "0.8519154307114721"
      ]
     },
     "execution_count": 57,
     "metadata": {},
     "output_type": "execute_result"
    }
   ],
   "source": [
    "reg_best_score = reg_search_results.best_score_\n",
    "reg_best_score"
   ]
  },
  {
   "cell_type": "code",
   "execution_count": 58,
   "id": "059dac9e",
   "metadata": {
    "scrolled": true
   },
   "outputs": [
    {
     "data": {
      "text/plain": [
       "{'C': 0.1, 'penalty': 'l2'}"
      ]
     },
     "execution_count": 58,
     "metadata": {},
     "output_type": "execute_result"
    }
   ],
   "source": [
    "reg_best_params = reg_search_results.best_params_\n",
    "reg_best_params"
   ]
  },
  {
   "cell_type": "markdown",
   "id": "55538472",
   "metadata": {},
   "source": [
    "## Проверка на тестовой выборке"
   ]
  },
  {
   "cell_type": "markdown",
   "id": "4671cfe0",
   "metadata": {},
   "source": [
    "Сравним результаты всех моделей."
   ]
  },
  {
   "cell_type": "code",
   "execution_count": 59,
   "id": "b2e36397",
   "metadata": {
    "scrolled": true
   },
   "outputs": [
    {
     "data": {
      "text/html": [
       "<div>\n",
       "<style scoped>\n",
       "    .dataframe tbody tr th:only-of-type {\n",
       "        vertical-align: middle;\n",
       "    }\n",
       "\n",
       "    .dataframe tbody tr th {\n",
       "        vertical-align: top;\n",
       "    }\n",
       "\n",
       "    .dataframe thead th {\n",
       "        text-align: right;\n",
       "    }\n",
       "</style>\n",
       "<table border=\"1\" class=\"dataframe\">\n",
       "  <thead>\n",
       "    <tr style=\"text-align: right;\">\n",
       "      <th></th>\n",
       "      <th>AUC</th>\n",
       "    </tr>\n",
       "  </thead>\n",
       "  <tbody>\n",
       "    <tr>\n",
       "      <th>CatBoost</th>\n",
       "      <td>0.864361</td>\n",
       "    </tr>\n",
       "    <tr>\n",
       "      <th>LogisticRegression</th>\n",
       "      <td>0.851915</td>\n",
       "    </tr>\n",
       "    <tr>\n",
       "      <th>RandomForest</th>\n",
       "      <td>0.848733</td>\n",
       "    </tr>\n",
       "  </tbody>\n",
       "</table>\n",
       "</div>"
      ],
      "text/plain": [
       "                         AUC\n",
       "CatBoost            0.864361\n",
       "LogisticRegression  0.851915\n",
       "RandomForest        0.848733"
      ]
     },
     "execution_count": 59,
     "metadata": {},
     "output_type": "execute_result"
    }
   ],
   "source": [
    "pd.DataFrame.from_dict({'CatBoost':cb_best_score,'RandomForest':forest_best_score,'LogisticRegression':reg_best_score},columns=['AUC'],orient='index').sort_values(by='AUC',ascending=False)"
   ]
  },
  {
   "cell_type": "markdown",
   "id": "74e23dce",
   "metadata": {},
   "source": [
    "Наилучший результат показал CatBoost, проверим как он сработает на тестовой выборке."
   ]
  },
  {
   "cell_type": "code",
   "execution_count": 60,
   "id": "cfd00b90",
   "metadata": {},
   "outputs": [
    {
     "data": {
      "text/plain": [
       "{'depth': 4, 'l2_leaf_reg': 3, 'iterations': 1000, 'learning_rate': 0.03}"
      ]
     },
     "execution_count": 60,
     "metadata": {},
     "output_type": "execute_result"
    }
   ],
   "source": [
    "cb_best_params"
   ]
  },
  {
   "cell_type": "code",
   "execution_count": 61,
   "id": "6e6ba7f0",
   "metadata": {},
   "outputs": [
    {
     "data": {
      "text/plain": [
       "<catboost.core.CatBoostClassifier at 0x2650300e9a0>"
      ]
     },
     "execution_count": 61,
     "metadata": {},
     "output_type": "execute_result"
    }
   ],
   "source": [
    "cb_model =CatBoostClassifier(logging_level='Silent',\n",
    "                           eval_metric='AUC:hints=skip_train~false',\n",
    "                           class_weights=[1.88,0.68],\n",
    "                           random_state =121222)\n",
    "cb_model.set_params(**cb_best_params)"
   ]
  },
  {
   "cell_type": "code",
   "execution_count": 62,
   "id": "07cf45a6",
   "metadata": {},
   "outputs": [
    {
     "data": {
      "text/plain": [
       "<catboost.core.CatBoostClassifier at 0x2650300e9a0>"
      ]
     },
     "execution_count": 62,
     "metadata": {},
     "output_type": "execute_result"
    }
   ],
   "source": [
    "cb_model.fit(train_pool)"
   ]
  },
  {
   "cell_type": "code",
   "execution_count": 63,
   "id": "3167f781",
   "metadata": {},
   "outputs": [
    {
     "data": {
      "text/plain": [
       "0.8661322724880771"
      ]
     },
     "execution_count": 63,
     "metadata": {},
     "output_type": "execute_result"
    }
   ],
   "source": [
    "roc_auc_score(y_test, cb_model.predict_proba(test_pool)[:, 1])"
   ]
  },
  {
   "cell_type": "markdown",
   "id": "e45beab6",
   "metadata": {},
   "source": [
    "Значение roc_auc ~0.866, а если бы мы предсказали, что все клиенты остаются, то оно бы было 0.5, поэтому наша модель имеет предсказательну силу."
   ]
  },
  {
   "cell_type": "markdown",
   "id": "e56387c1",
   "metadata": {},
   "source": [
    "Посмотрим на значение accuracy."
   ]
  },
  {
   "cell_type": "code",
   "execution_count": 64,
   "id": "a783d248",
   "metadata": {},
   "outputs": [
    {
     "data": {
      "text/plain": [
       "0.807495741056218"
      ]
     },
     "execution_count": 64,
     "metadata": {},
     "output_type": "execute_result"
    }
   ],
   "source": [
    "accuracy_score(y_test,  cb_model.predict(test_pool))"
   ]
  },
  {
   "cell_type": "code",
   "execution_count": 65,
   "id": "3bb19bfc",
   "metadata": {},
   "outputs": [
    {
     "data": {
      "text/plain": [
       "0.7348097671777399"
      ]
     },
     "execution_count": 65,
     "metadata": {},
     "output_type": "execute_result"
    }
   ],
   "source": [
    "accuracy_score(y_test,  np.zeros(len(y_test)))"
   ]
  },
  {
   "cell_type": "markdown",
   "id": "864c52e7",
   "metadata": {},
   "source": [
    "Значение accuracy тоже выше, чем, если бы мы предсказали, что все клиенты остаются."
   ]
  },
  {
   "cell_type": "markdown",
   "id": "cfa6c1e4",
   "metadata": {},
   "source": [
    "## Отчёт."
   ]
  },
  {
   "cell_type": "markdown",
   "id": "051a90b9",
   "metadata": {},
   "source": [
    "### Постановка задачи"
   ]
  },
  {
   "cell_type": "markdown",
   "id": "ecc5b3db",
   "metadata": {},
   "source": [
    "Прогноз оттока клиентов «Ниединогоразрыва.ком». В ходе работ необходимо подготовить и проанализировать данные, выбрать наилучшую модель и параметры для нее. Среди рассматриваемых моделей должен быть градиентный бустинг, простая модель, например логистическая регрессия и классическая модель, например случайный лес."
   ]
  },
  {
   "cell_type": "markdown",
   "id": "191cce7c",
   "metadata": {},
   "source": [
    "### Основные шаги."
   ]
  },
  {
   "cell_type": "markdown",
   "id": "1589c8a8",
   "metadata": {},
   "source": [
    "В работе были выполнены следующие шаги:\n",
    "\n",
    "**Этап загрузки и оценки данных:**\n",
    "\n",
    "Загрузил данные, привел названия колонок к стандартному виду, заполнил пропуски в колонке c сумарными выплатами нулями, потому что это были новые контракты, по которым выплат еще не было, привел данные к соответсвующему виду, посчитал длительность действия контракта, выделил целевой признак по дате окончания контракта, удалил колонки с датами.\n",
    "\n",
    "**На этапе исследовательского анализа данных:**\n",
    "\n",
    "Объединил данные в одну таблицу, разделил категориальные и количественные признаки, проверил корреляцию между количественными признаками. Наблюдалась корреляция между между длительностью контракта, ежемесячными выплатами и суммарными выплатами, чтобы этого избежать, я вычел из суммарных выплат ежемесячные выплаты умноженные на длительность контракта и удалил колонку с сумарными выплатами. Затем построил графики того, как соотносятся категориальные признаки с целевым показателем. Оценил дисбаланс классов. Разделил данные на обучающую и тестовую выборку с учетом дисбаланса, параметр `strtified=True`, размер тестовой выборки 25 % от всех данных.\n",
    "\n",
    "**Этап подбора модели и параметров:**\n",
    "\n",
    "Били рассмотрены 3 модели: CatBoost, RandomForest и LogisticRegression. Во всех моделях использовался метод балансировки весов классов. Подбор параметров осуществлялся через GridSearchCV. Для RandomForest и LogisticRegression категориальные признаки были закодированны методом One Hot Encoding, а для количественных было применено масштабирование StandardScaller. Для оценки моделей использовалась метрика roc_auc.\n",
    "\n",
    "**Этап проверки модели на тестовых данных:**\n",
    "\n",
    "Наилучший результат показал CatBoost. roc_auc на тестовых данных была близка к roc_auc на этапе подбора параметров. roc_auc и accuracy прошли проверку на адекватность и показали, что предсказательная способность модели выше, чем если бы мы для прогноза использовали только нулевой класс.\n",
    "\n",
    "`RANDOM_STATE = 121222`\n"
   ]
  },
  {
   "cell_type": "markdown",
   "id": "f7ec57f1",
   "metadata": {},
   "source": [
    "### CatBoost"
   ]
  },
  {
   "cell_type": "markdown",
   "id": "a072b37b",
   "metadata": {},
   "source": [
    "#### Веса для классов."
   ]
  },
  {
   "cell_type": "markdown",
   "id": "55cc439b",
   "metadata": {},
   "source": [
    "Немного неожиданными оказались значения весов для дисбаланса классов. Если дисбаланс классов ~ 0.7/0.3, то веса оказались такими:"
   ]
  },
  {
   "cell_type": "code",
   "execution_count": 66,
   "id": "a20a1896",
   "metadata": {},
   "outputs": [
    {
     "data": {
      "text/plain": [
       "array([1.88416265, 0.68061461])"
      ]
     },
     "execution_count": 66,
     "metadata": {},
     "output_type": "execute_result"
    }
   ],
   "source": [
    "classes = np.unique(y)\n",
    "weights = compute_class_weight(class_weight='balanced', classes=classes, y=y)\n",
    "weights[::-1]"
   ]
  },
  {
   "cell_type": "markdown",
   "id": "eb8ce86a",
   "metadata": {},
   "source": [
    "#### Наилучшие параметры модели и итоговые показатели"
   ]
  },
  {
   "cell_type": "markdown",
   "id": "7c2a2efc",
   "metadata": {},
   "source": [
    "В результате подбора коэффициентов были подобраны сдедующие значения:"
   ]
  },
  {
   "cell_type": "code",
   "execution_count": 67,
   "id": "bb28b00a",
   "metadata": {},
   "outputs": [
    {
     "data": {
      "text/plain": [
       "{'depth': 4, 'l2_leaf_reg': 3, 'iterations': 1000, 'learning_rate': 0.03}"
      ]
     },
     "execution_count": 67,
     "metadata": {},
     "output_type": "execute_result"
    }
   ],
   "source": [
    "cb_best_params"
   ]
  },
  {
   "cell_type": "markdown",
   "id": "d4bfc529",
   "metadata": {},
   "source": [
    "Было получено следующее значение метрики roc_auc"
   ]
  },
  {
   "cell_type": "code",
   "execution_count": 68,
   "id": "37dfbf8a",
   "metadata": {},
   "outputs": [
    {
     "data": {
      "text/plain": [
       "0.8643609646872065"
      ]
     },
     "execution_count": 68,
     "metadata": {},
     "output_type": "execute_result"
    }
   ],
   "source": [
    "cb_best_score"
   ]
  },
  {
   "cell_type": "markdown",
   "id": "7dcb6676",
   "metadata": {},
   "source": [
    "На тестовой выборке значение roc_auc даже оказалось чуть-чуть больше."
   ]
  },
  {
   "cell_type": "code",
   "execution_count": 69,
   "id": "36b6a10d",
   "metadata": {},
   "outputs": [
    {
     "data": {
      "text/plain": [
       "0.8661322724880771"
      ]
     },
     "execution_count": 69,
     "metadata": {},
     "output_type": "execute_result"
    }
   ],
   "source": [
    "roc_auc_score(y_test, cb_model.predict_proba(test_pool)[:, 1])"
   ]
  },
  {
   "cell_type": "markdown",
   "id": "08237663",
   "metadata": {},
   "source": [
    "И значение accuracy на тестовой выборке, тоже оказалось довольно высоким."
   ]
  },
  {
   "cell_type": "code",
   "execution_count": 70,
   "id": "e18d3dc4",
   "metadata": {},
   "outputs": [
    {
     "data": {
      "text/plain": [
       "0.807495741056218"
      ]
     },
     "execution_count": 70,
     "metadata": {},
     "output_type": "execute_result"
    }
   ],
   "source": [
    "accuracy_score(y_test,  cb_model.predict(test_pool))"
   ]
  },
  {
   "cell_type": "markdown",
   "id": "3d807c08",
   "metadata": {},
   "source": [
    "#### Важность параметров"
   ]
  },
  {
   "cell_type": "code",
   "execution_count": 71,
   "id": "3ca50baf",
   "metadata": {
    "scrolled": true
   },
   "outputs": [
    {
     "data": {
      "image/png": "[encoded data removed]",
      "text/plain": [
       "<Figure size 432x288 with 1 Axes>"
      ]
     },
     "metadata": {
      "needs_background": "light"
     },
     "output_type": "display_data"
    }
   ],
   "source": [
    "fi = pd.DataFrame({'feature_importance': cb_model.get_feature_importance(train_pool), \n",
    "              'feature_names': X.columns}).sort_values(by=['feature_importance'], \n",
    "                                                           ascending=False)\n",
    "sns.barplot(data=fi, x=\"feature_importance\", y=\"feature_names\")\n",
    "plt.show()"
   ]
  },
  {
   "cell_type": "markdown",
   "id": "64911bbe",
   "metadata": {},
   "source": [
    "Самыми важными параметрами оказались: Продолжительность контракта, тип контракта, ежемесячные выплаты, и разница сумарных выплат и месячных выплат, умноженных на продолжительность. Отчасти это было видно на этапе первичной обработки данных, хотя важность не всех параметров была очевидна."
   ]
  },
  {
   "cell_type": "markdown",
   "id": "1fee97c4",
   "metadata": {},
   "source": [
    "#### Визуализайия ROC"
   ]
  },
  {
   "cell_type": "code",
   "execution_count": 72,
   "id": "6119e5aa",
   "metadata": {},
   "outputs": [
    {
     "data": {
      "image/png": "[encoded data removed]",
      "text/plain": [
       "<Figure size 432x288 with 1 Axes>"
      ]
     },
     "metadata": {
      "needs_background": "light"
     },
     "output_type": "display_data"
    }
   ],
   "source": [
    "y_true = y_test\n",
    "y_probas =  cb_model.predict_proba(test_pool)\n",
    "skplt.metrics.plot_roc(y_true, y_probas)\n",
    "plt.show()"
   ]
  },
  {
   "cell_type": "markdown",
   "id": "cdc37f4e",
   "metadata": {},
   "source": [
    "### Вывод"
   ]
  },
  {
   "cell_type": "markdown",
   "id": "a4db2e18",
   "metadata": {},
   "source": [
    " - Наилучший результат показал CatBoost. Для прогноза оттока клиентов рекомендуется использовать его. Значение метрики roc_auc на тестовой выборке составило 0.87, что даже немного выше, чем при обучении и кроссвалидации.\n",
    " - На втором месте оказалась логистическая регрессия. В отличие от CatBoost она простая и быстро работает, возможно имеет смысл рассмотреть и эту модель для классификации."
   ]
  },
  {
   "cell_type": "code",
   "execution_count": null,
   "id": "61ff0f83",
   "metadata": {},
   "outputs": [],
   "source": []
  }
 ],
 "metadata": {
  "ExecuteTimeLog": [
   {
    "duration": 70,
    "start_time": "2022-12-18T11:32:19.311Z"
   },
   {
    "duration": 2228,
    "start_time": "2022-12-18T11:34:36.745Z"
   },
   {
    "duration": 145,
    "start_time": "2022-12-18T11:34:38.975Z"
   },
   {
    "duration": 7,
    "start_time": "2022-12-18T11:34:39.122Z"
   },
   {
    "duration": 16,
    "start_time": "2022-12-18T11:34:39.132Z"
   },
   {
    "duration": 13,
    "start_time": "2022-12-18T11:34:39.149Z"
   },
   {
    "duration": 16,
    "start_time": "2022-12-18T11:34:39.164Z"
   },
   {
    "duration": 8,
    "start_time": "2022-12-18T11:34:39.181Z"
   },
   {
    "duration": 24,
    "start_time": "2022-12-18T11:34:39.190Z"
   },
   {
    "duration": 11,
    "start_time": "2022-12-18T11:34:39.215Z"
   },
   {
    "duration": 7,
    "start_time": "2022-12-18T11:34:39.229Z"
   },
   {
    "duration": 10,
    "start_time": "2022-12-18T11:34:39.238Z"
   },
   {
    "duration": 8,
    "start_time": "2022-12-18T11:34:39.250Z"
   },
   {
    "duration": 11,
    "start_time": "2022-12-18T11:34:39.260Z"
   },
   {
    "duration": 56,
    "start_time": "2022-12-18T11:34:39.272Z"
   },
   {
    "duration": 13,
    "start_time": "2022-12-18T11:34:39.330Z"
   },
   {
    "duration": 13,
    "start_time": "2022-12-18T11:34:39.483Z"
   },
   {
    "duration": 15,
    "start_time": "2022-12-18T11:34:39.571Z"
   },
   {
    "duration": 27,
    "start_time": "2022-12-18T11:34:39.811Z"
   },
   {
    "duration": 10,
    "start_time": "2022-12-18T11:34:39.909Z"
   },
   {
    "duration": 17,
    "start_time": "2022-12-18T11:34:40.001Z"
   },
   {
    "duration": 335,
    "start_time": "2022-12-18T11:34:40.236Z"
   },
   {
    "duration": 5,
    "start_time": "2022-12-18T11:34:40.573Z"
   },
   {
    "duration": 6,
    "start_time": "2022-12-18T11:34:40.579Z"
   },
   {
    "duration": 386,
    "start_time": "2022-12-18T11:34:40.587Z"
   },
   {
    "duration": 6619,
    "start_time": "2022-12-18T11:34:40.975Z"
   },
   {
    "duration": 6,
    "start_time": "2022-12-18T11:34:47.596Z"
   },
   {
    "duration": 21,
    "start_time": "2022-12-18T11:34:47.604Z"
   },
   {
    "duration": 2291,
    "start_time": "2022-12-18T11:34:47.629Z"
   },
   {
    "duration": 6,
    "start_time": "2022-12-18T11:34:49.922Z"
   },
   {
    "duration": 6,
    "start_time": "2022-12-18T11:34:49.929Z"
   },
   {
    "duration": 13,
    "start_time": "2022-12-18T11:34:49.937Z"
   },
   {
    "duration": 24,
    "start_time": "2022-12-18T11:34:49.951Z"
   },
   {
    "duration": 29,
    "start_time": "2022-12-18T11:34:49.977Z"
   },
   {
    "duration": 3,
    "start_time": "2022-12-18T11:34:50.008Z"
   },
   {
    "duration": 13,
    "start_time": "2022-12-18T11:34:50.012Z"
   },
   {
    "duration": 35524,
    "start_time": "2022-12-18T11:34:50.026Z"
   },
   {
    "duration": 226,
    "start_time": "2022-12-18T11:35:25.551Z"
   },
   {
    "duration": 74,
    "start_time": "2022-12-18T11:46:50.707Z"
   },
   {
    "duration": 72,
    "start_time": "2022-12-18T11:47:56.760Z"
   },
   {
    "duration": 2295,
    "start_time": "2022-12-18T11:50:38.522Z"
   },
   {
    "duration": 143,
    "start_time": "2022-12-18T11:50:40.819Z"
   },
   {
    "duration": 6,
    "start_time": "2022-12-18T11:50:40.963Z"
   },
   {
    "duration": 16,
    "start_time": "2022-12-18T11:50:40.971Z"
   },
   {
    "duration": 12,
    "start_time": "2022-12-18T11:50:40.989Z"
   },
   {
    "duration": 22,
    "start_time": "2022-12-18T11:50:41.003Z"
   },
   {
    "duration": 8,
    "start_time": "2022-12-18T11:50:41.027Z"
   },
   {
    "duration": 14,
    "start_time": "2022-12-18T11:50:41.036Z"
   },
   {
    "duration": 12,
    "start_time": "2022-12-18T11:50:41.052Z"
   },
   {
    "duration": 8,
    "start_time": "2022-12-18T11:50:41.066Z"
   },
   {
    "duration": 37,
    "start_time": "2022-12-18T11:50:41.075Z"
   },
   {
    "duration": 11,
    "start_time": "2022-12-18T11:50:41.115Z"
   },
   {
    "duration": 13,
    "start_time": "2022-12-18T11:50:41.128Z"
   },
   {
    "duration": 31,
    "start_time": "2022-12-18T11:50:41.145Z"
   },
   {
    "duration": 14,
    "start_time": "2022-12-18T11:50:41.177Z"
   },
   {
    "duration": 17,
    "start_time": "2022-12-18T11:50:41.213Z"
   },
   {
    "duration": 13,
    "start_time": "2022-12-18T11:50:41.232Z"
   },
   {
    "duration": 27,
    "start_time": "2022-12-18T11:50:41.247Z"
   },
   {
    "duration": 9,
    "start_time": "2022-12-18T11:50:41.276Z"
   },
   {
    "duration": 34,
    "start_time": "2022-12-18T11:50:41.287Z"
   },
   {
    "duration": 406,
    "start_time": "2022-12-18T11:50:41.322Z"
   },
   {
    "duration": 5,
    "start_time": "2022-12-18T11:50:41.729Z"
   },
   {
    "duration": 7,
    "start_time": "2022-12-18T11:50:41.736Z"
   },
   {
    "duration": 346,
    "start_time": "2022-12-18T11:50:41.745Z"
   },
   {
    "duration": 7356,
    "start_time": "2022-12-18T11:50:42.093Z"
   },
   {
    "duration": 5,
    "start_time": "2022-12-18T11:50:49.451Z"
   },
   {
    "duration": 15,
    "start_time": "2022-12-18T11:50:49.458Z"
   },
   {
    "duration": 2369,
    "start_time": "2022-12-18T11:50:49.475Z"
   },
   {
    "duration": 6,
    "start_time": "2022-12-18T11:50:51.845Z"
   },
   {
    "duration": 12,
    "start_time": "2022-12-18T11:50:51.853Z"
   },
   {
    "duration": 11,
    "start_time": "2022-12-18T11:50:51.867Z"
   },
   {
    "duration": 47,
    "start_time": "2022-12-18T11:50:51.880Z"
   },
   {
    "duration": 7,
    "start_time": "2022-12-18T11:50:51.928Z"
   },
   {
    "duration": 5,
    "start_time": "2022-12-18T11:50:51.937Z"
   },
   {
    "duration": 5,
    "start_time": "2022-12-18T11:50:51.943Z"
   },
   {
    "duration": 36271,
    "start_time": "2022-12-18T11:50:51.950Z"
   },
   {
    "duration": 242,
    "start_time": "2022-12-18T11:51:28.223Z"
   },
   {
    "duration": 4,
    "start_time": "2022-12-18T11:51:28.467Z"
   },
   {
    "duration": 9,
    "start_time": "2022-12-18T11:51:28.472Z"
   },
   {
    "duration": 58,
    "start_time": "2022-12-18T11:51:28.485Z"
   },
   {
    "duration": 3,
    "start_time": "2022-12-18T11:51:28.547Z"
   },
   {
    "duration": 5,
    "start_time": "2022-12-18T11:51:28.551Z"
   },
   {
    "duration": 12,
    "start_time": "2022-12-18T11:51:28.557Z"
   },
   {
    "duration": 29223,
    "start_time": "2022-12-18T11:51:28.570Z"
   },
   {
    "duration": 10,
    "start_time": "2022-12-18T11:51:57.794Z"
   },
   {
    "duration": 3,
    "start_time": "2022-12-18T11:51:57.806Z"
   },
   {
    "duration": 18,
    "start_time": "2022-12-18T11:51:57.811Z"
   },
   {
    "duration": 128,
    "start_time": "2022-12-18T11:51:57.831Z"
   },
   {
    "duration": 9,
    "start_time": "2022-12-18T11:51:57.960Z"
   },
   {
    "duration": 19,
    "start_time": "2022-12-18T11:51:57.971Z"
   },
   {
    "duration": 15,
    "start_time": "2022-12-18T11:51:57.991Z"
   },
   {
    "duration": 1027,
    "start_time": "2022-12-18T11:51:58.007Z"
   },
   {
    "duration": 13,
    "start_time": "2022-12-18T11:51:59.036Z"
   },
   {
    "duration": 7,
    "start_time": "2022-12-18T11:51:59.051Z"
   },
   {
    "duration": 9,
    "start_time": "2022-12-18T11:51:59.060Z"
   },
   {
    "duration": 10,
    "start_time": "2022-12-18T11:51:59.071Z"
   },
   {
    "duration": 75,
    "start_time": "2022-12-18T11:53:34.923Z"
   },
   {
    "duration": 70,
    "start_time": "2022-12-18T11:53:52.432Z"
   },
   {
    "duration": 69,
    "start_time": "2022-12-18T11:54:37.525Z"
   },
   {
    "duration": 73,
    "start_time": "2022-12-18T11:55:19.820Z"
   },
   {
    "duration": 2366,
    "start_time": "2022-12-18T11:56:11.669Z"
   },
   {
    "duration": 163,
    "start_time": "2022-12-18T11:56:14.037Z"
   },
   {
    "duration": 11,
    "start_time": "2022-12-18T11:56:14.202Z"
   },
   {
    "duration": 17,
    "start_time": "2022-12-18T11:56:14.215Z"
   },
   {
    "duration": 12,
    "start_time": "2022-12-18T11:56:14.233Z"
   },
   {
    "duration": 13,
    "start_time": "2022-12-18T11:56:14.246Z"
   },
   {
    "duration": 8,
    "start_time": "2022-12-18T11:56:14.261Z"
   },
   {
    "duration": 40,
    "start_time": "2022-12-18T11:56:14.271Z"
   },
   {
    "duration": 10,
    "start_time": "2022-12-18T11:56:14.313Z"
   },
   {
    "duration": 9,
    "start_time": "2022-12-18T11:56:14.326Z"
   },
   {
    "duration": 20,
    "start_time": "2022-12-18T11:56:14.336Z"
   },
   {
    "duration": 13,
    "start_time": "2022-12-18T11:56:14.358Z"
   },
   {
    "duration": 32,
    "start_time": "2022-12-18T11:56:14.373Z"
   },
   {
    "duration": 42,
    "start_time": "2022-12-18T11:56:14.406Z"
   },
   {
    "duration": 16,
    "start_time": "2022-12-18T11:56:14.449Z"
   },
   {
    "duration": 23,
    "start_time": "2022-12-18T11:56:14.467Z"
   },
   {
    "duration": 16,
    "start_time": "2022-12-18T11:56:14.505Z"
   },
   {
    "duration": 28,
    "start_time": "2022-12-18T11:56:14.523Z"
   },
   {
    "duration": 14,
    "start_time": "2022-12-18T11:56:14.553Z"
   },
   {
    "duration": 46,
    "start_time": "2022-12-18T11:56:14.569Z"
   },
   {
    "duration": 388,
    "start_time": "2022-12-18T11:56:14.616Z"
   },
   {
    "duration": 7,
    "start_time": "2022-12-18T11:56:15.006Z"
   },
   {
    "duration": 17,
    "start_time": "2022-12-18T11:56:15.015Z"
   },
   {
    "duration": 375,
    "start_time": "2022-12-18T11:56:15.034Z"
   },
   {
    "duration": 7022,
    "start_time": "2022-12-18T11:56:15.411Z"
   },
   {
    "duration": 4,
    "start_time": "2022-12-18T11:56:22.435Z"
   },
   {
    "duration": 8,
    "start_time": "2022-12-18T11:56:22.441Z"
   },
   {
    "duration": 2320,
    "start_time": "2022-12-18T11:56:22.454Z"
   },
   {
    "duration": 6,
    "start_time": "2022-12-18T11:56:24.775Z"
   },
   {
    "duration": 7,
    "start_time": "2022-12-18T11:56:24.783Z"
   },
   {
    "duration": 21,
    "start_time": "2022-12-18T11:56:24.791Z"
   },
   {
    "duration": 24,
    "start_time": "2022-12-18T11:56:24.813Z"
   },
   {
    "duration": 9,
    "start_time": "2022-12-18T11:56:24.839Z"
   },
   {
    "duration": 4,
    "start_time": "2022-12-18T11:56:24.849Z"
   },
   {
    "duration": 5,
    "start_time": "2022-12-18T11:56:24.854Z"
   },
   {
    "duration": 38334,
    "start_time": "2022-12-18T11:56:24.860Z"
   },
   {
    "duration": 244,
    "start_time": "2022-12-18T11:57:03.196Z"
   },
   {
    "duration": 5,
    "start_time": "2022-12-18T11:57:03.442Z"
   },
   {
    "duration": 10,
    "start_time": "2022-12-18T11:57:03.448Z"
   },
   {
    "duration": 53,
    "start_time": "2022-12-18T11:57:03.459Z"
   },
   {
    "duration": 4,
    "start_time": "2022-12-18T11:57:03.514Z"
   },
   {
    "duration": 46,
    "start_time": "2022-12-18T11:57:03.521Z"
   },
   {
    "duration": 6,
    "start_time": "2022-12-18T11:57:03.568Z"
   },
   {
    "duration": 33167,
    "start_time": "2022-12-18T11:57:03.575Z"
   },
   {
    "duration": 4,
    "start_time": "2022-12-18T11:57:36.744Z"
   },
   {
    "duration": 9,
    "start_time": "2022-12-18T11:57:36.749Z"
   },
   {
    "duration": 14,
    "start_time": "2022-12-18T11:57:36.759Z"
   },
   {
    "duration": 169,
    "start_time": "2022-12-18T11:57:36.774Z"
   },
   {
    "duration": 7,
    "start_time": "2022-12-18T11:57:36.945Z"
   },
   {
    "duration": 11,
    "start_time": "2022-12-18T11:57:36.953Z"
   },
   {
    "duration": 8,
    "start_time": "2022-12-18T11:57:36.966Z"
   },
   {
    "duration": 1101,
    "start_time": "2022-12-18T11:57:36.975Z"
   },
   {
    "duration": 6,
    "start_time": "2022-12-18T11:57:38.078Z"
   },
   {
    "duration": 11,
    "start_time": "2022-12-18T11:57:38.085Z"
   },
   {
    "duration": 5,
    "start_time": "2022-12-18T11:57:38.097Z"
   },
   {
    "duration": 38,
    "start_time": "2022-12-18T11:57:38.104Z"
   },
   {
    "duration": 100,
    "start_time": "2022-12-18T11:57:38.145Z"
   },
   {
    "duration": 63,
    "start_time": "2022-12-18T11:58:14.339Z"
   },
   {
    "duration": 80,
    "start_time": "2022-12-18T11:59:20.849Z"
   },
   {
    "duration": 70,
    "start_time": "2022-12-18T12:00:24.022Z"
   },
   {
    "duration": 8,
    "start_time": "2022-12-19T07:23:03.991Z"
   },
   {
    "duration": 1645,
    "start_time": "2022-12-19T07:39:31.803Z"
   },
   {
    "duration": 361,
    "start_time": "2022-12-19T07:39:33.451Z"
   },
   {
    "duration": 8,
    "start_time": "2022-12-19T07:39:33.814Z"
   },
   {
    "duration": 18,
    "start_time": "2022-12-19T07:39:33.824Z"
   },
   {
    "duration": 13,
    "start_time": "2022-12-19T07:39:33.844Z"
   },
   {
    "duration": 33,
    "start_time": "2022-12-19T07:39:33.859Z"
   },
   {
    "duration": 9,
    "start_time": "2022-12-19T07:39:33.894Z"
   },
   {
    "duration": 13,
    "start_time": "2022-12-19T07:39:33.913Z"
   },
   {
    "duration": 18,
    "start_time": "2022-12-19T07:39:33.928Z"
   },
   {
    "duration": 14,
    "start_time": "2022-12-19T07:39:33.949Z"
   },
   {
    "duration": 18,
    "start_time": "2022-12-19T07:39:33.964Z"
   },
   {
    "duration": 11,
    "start_time": "2022-12-19T07:39:33.985Z"
   },
   {
    "duration": 41,
    "start_time": "2022-12-19T07:39:33.998Z"
   },
   {
    "duration": 33,
    "start_time": "2022-12-19T07:39:34.041Z"
   },
   {
    "duration": 13,
    "start_time": "2022-12-19T07:39:34.076Z"
   },
   {
    "duration": 14,
    "start_time": "2022-12-19T07:39:34.091Z"
   },
   {
    "duration": 14,
    "start_time": "2022-12-19T07:39:34.107Z"
   },
   {
    "duration": 28,
    "start_time": "2022-12-19T07:39:34.123Z"
   },
   {
    "duration": 36,
    "start_time": "2022-12-19T07:39:34.153Z"
   },
   {
    "duration": 49,
    "start_time": "2022-12-19T07:39:34.191Z"
   },
   {
    "duration": 459,
    "start_time": "2022-12-19T07:39:34.242Z"
   },
   {
    "duration": 10,
    "start_time": "2022-12-19T07:39:34.703Z"
   },
   {
    "duration": 5,
    "start_time": "2022-12-19T07:39:34.715Z"
   },
   {
    "duration": 388,
    "start_time": "2022-12-19T07:39:34.721Z"
   },
   {
    "duration": 6819,
    "start_time": "2022-12-19T07:39:35.110Z"
   },
   {
    "duration": 4,
    "start_time": "2022-12-19T07:39:41.931Z"
   },
   {
    "duration": 22,
    "start_time": "2022-12-19T07:39:41.938Z"
   },
   {
    "duration": 2322,
    "start_time": "2022-12-19T07:39:41.965Z"
   },
   {
    "duration": 7,
    "start_time": "2022-12-19T07:39:44.289Z"
   },
   {
    "duration": 15,
    "start_time": "2022-12-19T07:39:44.298Z"
   },
   {
    "duration": 5,
    "start_time": "2022-12-19T07:39:44.315Z"
   },
   {
    "duration": 12,
    "start_time": "2022-12-19T07:39:44.322Z"
   },
   {
    "duration": 23,
    "start_time": "2022-12-19T07:39:44.336Z"
   },
   {
    "duration": 10,
    "start_time": "2022-12-19T07:39:44.360Z"
   },
   {
    "duration": 10,
    "start_time": "2022-12-19T07:39:44.372Z"
   },
   {
    "duration": 18,
    "start_time": "2022-12-19T07:39:44.384Z"
   },
   {
    "duration": 35357,
    "start_time": "2022-12-19T07:39:44.414Z"
   },
   {
    "duration": 250,
    "start_time": "2022-12-19T07:40:19.772Z"
   },
   {
    "duration": 4,
    "start_time": "2022-12-19T07:40:20.024Z"
   },
   {
    "duration": 32,
    "start_time": "2022-12-19T07:40:20.029Z"
   },
   {
    "duration": 69,
    "start_time": "2022-12-19T07:40:20.063Z"
   },
   {
    "duration": 3,
    "start_time": "2022-12-19T07:40:20.134Z"
   },
   {
    "duration": 25,
    "start_time": "2022-12-19T07:40:20.138Z"
   },
   {
    "duration": 8,
    "start_time": "2022-12-19T07:40:20.164Z"
   },
   {
    "duration": 28070,
    "start_time": "2022-12-19T07:40:20.173Z"
   },
   {
    "duration": 4,
    "start_time": "2022-12-19T07:40:48.245Z"
   },
   {
    "duration": 12,
    "start_time": "2022-12-19T07:40:48.250Z"
   },
   {
    "duration": 21,
    "start_time": "2022-12-19T07:40:48.264Z"
   },
   {
    "duration": 140,
    "start_time": "2022-12-19T07:40:48.286Z"
   },
   {
    "duration": 3,
    "start_time": "2022-12-19T07:40:48.428Z"
   },
   {
    "duration": 8,
    "start_time": "2022-12-19T07:40:48.433Z"
   },
   {
    "duration": 1529,
    "start_time": "2022-12-19T07:40:48.443Z"
   },
   {
    "duration": 4,
    "start_time": "2022-12-19T07:40:49.974Z"
   },
   {
    "duration": 8,
    "start_time": "2022-12-19T07:40:49.980Z"
   },
   {
    "duration": 15,
    "start_time": "2022-12-19T07:40:49.990Z"
   },
   {
    "duration": 5,
    "start_time": "2022-12-19T07:40:50.013Z"
   },
   {
    "duration": 25,
    "start_time": "2022-12-19T07:40:50.020Z"
   },
   {
    "duration": 1178,
    "start_time": "2022-12-19T07:40:50.047Z"
   },
   {
    "duration": 9,
    "start_time": "2022-12-19T07:40:51.228Z"
   },
   {
    "duration": 7,
    "start_time": "2022-12-19T07:40:51.239Z"
   },
   {
    "duration": 5,
    "start_time": "2022-12-19T07:40:51.248Z"
   },
   {
    "duration": 5,
    "start_time": "2022-12-19T07:40:51.255Z"
   },
   {
    "duration": 1457,
    "start_time": "2022-12-19T07:41:46.973Z"
   },
   {
    "duration": 143,
    "start_time": "2022-12-19T07:41:48.432Z"
   },
   {
    "duration": 8,
    "start_time": "2022-12-19T07:41:48.577Z"
   },
   {
    "duration": 17,
    "start_time": "2022-12-19T07:41:48.587Z"
   },
   {
    "duration": 13,
    "start_time": "2022-12-19T07:41:48.606Z"
   },
   {
    "duration": 16,
    "start_time": "2022-12-19T07:41:48.621Z"
   },
   {
    "duration": 8,
    "start_time": "2022-12-19T07:41:48.639Z"
   },
   {
    "duration": 15,
    "start_time": "2022-12-19T07:41:48.649Z"
   },
   {
    "duration": 13,
    "start_time": "2022-12-19T07:41:48.666Z"
   },
   {
    "duration": 31,
    "start_time": "2022-12-19T07:41:48.682Z"
   },
   {
    "duration": 10,
    "start_time": "2022-12-19T07:41:48.715Z"
   },
   {
    "duration": 15,
    "start_time": "2022-12-19T07:41:48.727Z"
   },
   {
    "duration": 16,
    "start_time": "2022-12-19T07:41:48.744Z"
   },
   {
    "duration": 51,
    "start_time": "2022-12-19T07:41:48.763Z"
   },
   {
    "duration": 14,
    "start_time": "2022-12-19T07:41:48.816Z"
   },
   {
    "duration": 13,
    "start_time": "2022-12-19T07:41:48.832Z"
   },
   {
    "duration": 15,
    "start_time": "2022-12-19T07:41:48.847Z"
   },
   {
    "duration": 58,
    "start_time": "2022-12-19T07:41:48.863Z"
   },
   {
    "duration": 18,
    "start_time": "2022-12-19T07:41:48.923Z"
   },
   {
    "duration": 21,
    "start_time": "2022-12-19T07:41:48.943Z"
   },
   {
    "duration": 424,
    "start_time": "2022-12-19T07:41:48.967Z"
   },
   {
    "duration": 6,
    "start_time": "2022-12-19T07:41:49.393Z"
   },
   {
    "duration": 12,
    "start_time": "2022-12-19T07:41:49.401Z"
   },
   {
    "duration": 384,
    "start_time": "2022-12-19T07:41:49.415Z"
   },
   {
    "duration": 7008,
    "start_time": "2022-12-19T07:41:49.801Z"
   },
   {
    "duration": 4,
    "start_time": "2022-12-19T07:41:56.811Z"
   },
   {
    "duration": 6,
    "start_time": "2022-12-19T07:41:56.817Z"
   },
   {
    "duration": 2305,
    "start_time": "2022-12-19T07:41:56.827Z"
   },
   {
    "duration": 6,
    "start_time": "2022-12-19T07:41:59.134Z"
   },
   {
    "duration": 10,
    "start_time": "2022-12-19T07:41:59.142Z"
   },
   {
    "duration": 7,
    "start_time": "2022-12-19T07:41:59.153Z"
   },
   {
    "duration": 17,
    "start_time": "2022-12-19T07:41:59.161Z"
   },
   {
    "duration": 33,
    "start_time": "2022-12-19T07:41:59.180Z"
   },
   {
    "duration": 12,
    "start_time": "2022-12-19T07:41:59.215Z"
   },
   {
    "duration": 8,
    "start_time": "2022-12-19T07:41:59.229Z"
   },
   {
    "duration": 6,
    "start_time": "2022-12-19T07:41:59.238Z"
   },
   {
    "duration": 35422,
    "start_time": "2022-12-19T07:41:59.246Z"
   },
   {
    "duration": 238,
    "start_time": "2022-12-19T07:42:34.670Z"
   },
   {
    "duration": 4,
    "start_time": "2022-12-19T07:42:34.910Z"
   },
   {
    "duration": 25,
    "start_time": "2022-12-19T07:42:34.916Z"
   },
   {
    "duration": 41,
    "start_time": "2022-12-19T07:42:34.943Z"
   },
   {
    "duration": 3,
    "start_time": "2022-12-19T07:42:34.985Z"
   },
   {
    "duration": 8,
    "start_time": "2022-12-19T07:42:34.990Z"
   },
   {
    "duration": 13,
    "start_time": "2022-12-19T07:42:35.000Z"
   },
   {
    "duration": 28137,
    "start_time": "2022-12-19T07:42:35.015Z"
   },
   {
    "duration": 3,
    "start_time": "2022-12-19T07:43:03.153Z"
   },
   {
    "duration": 11,
    "start_time": "2022-12-19T07:43:03.158Z"
   },
   {
    "duration": 16,
    "start_time": "2022-12-19T07:43:03.171Z"
   },
   {
    "duration": 148,
    "start_time": "2022-12-19T07:43:03.189Z"
   },
   {
    "duration": 3,
    "start_time": "2022-12-19T07:43:03.338Z"
   },
   {
    "duration": 41,
    "start_time": "2022-12-19T07:43:03.343Z"
   },
   {
    "duration": 1550,
    "start_time": "2022-12-19T07:43:03.385Z"
   },
   {
    "duration": 112,
    "start_time": "2022-12-19T07:43:04.937Z"
   },
   {
    "duration": 0,
    "start_time": "2022-12-19T07:43:05.051Z"
   },
   {
    "duration": 0,
    "start_time": "2022-12-19T07:43:05.052Z"
   },
   {
    "duration": 0,
    "start_time": "2022-12-19T07:43:05.053Z"
   },
   {
    "duration": 0,
    "start_time": "2022-12-19T07:43:05.055Z"
   },
   {
    "duration": 0,
    "start_time": "2022-12-19T07:43:05.056Z"
   },
   {
    "duration": 0,
    "start_time": "2022-12-19T07:43:05.057Z"
   },
   {
    "duration": 0,
    "start_time": "2022-12-19T07:43:05.059Z"
   },
   {
    "duration": 0,
    "start_time": "2022-12-19T07:43:05.060Z"
   },
   {
    "duration": 0,
    "start_time": "2022-12-19T07:43:05.062Z"
   },
   {
    "duration": 4,
    "start_time": "2022-12-19T07:43:32.410Z"
   },
   {
    "duration": 4,
    "start_time": "2022-12-19T07:43:36.603Z"
   },
   {
    "duration": 9,
    "start_time": "2022-12-19T07:43:49.251Z"
   },
   {
    "duration": 11,
    "start_time": "2022-12-19T07:44:33.788Z"
   },
   {
    "duration": 8,
    "start_time": "2022-12-19T07:44:42.611Z"
   },
   {
    "duration": 10,
    "start_time": "2022-12-19T07:45:01.539Z"
   },
   {
    "duration": 14,
    "start_time": "2022-12-19T07:45:10.595Z"
   },
   {
    "duration": 6,
    "start_time": "2022-12-19T07:45:32.451Z"
   },
   {
    "duration": 5,
    "start_time": "2022-12-19T07:45:33.042Z"
   },
   {
    "duration": 933,
    "start_time": "2022-12-19T07:45:33.714Z"
   },
   {
    "duration": 9,
    "start_time": "2022-12-19T07:45:35.309Z"
   },
   {
    "duration": 8,
    "start_time": "2022-12-19T07:45:38.795Z"
   },
   {
    "duration": 7,
    "start_time": "2022-12-19T07:45:39.563Z"
   },
   {
    "duration": 7,
    "start_time": "2022-12-19T07:45:41.731Z"
   },
   {
    "duration": 14,
    "start_time": "2022-12-19T07:48:55.771Z"
   },
   {
    "duration": 135,
    "start_time": "2022-12-19T07:49:08.898Z"
   },
   {
    "duration": 7,
    "start_time": "2022-12-19T07:49:11.843Z"
   },
   {
    "duration": 140,
    "start_time": "2022-12-19T07:49:55.005Z"
   },
   {
    "duration": 7,
    "start_time": "2022-12-19T07:49:56.698Z"
   },
   {
    "duration": 11,
    "start_time": "2022-12-19T07:49:58.775Z"
   },
   {
    "duration": 12,
    "start_time": "2022-12-19T07:49:59.812Z"
   },
   {
    "duration": 14,
    "start_time": "2022-12-19T07:50:04.588Z"
   },
   {
    "duration": 7,
    "start_time": "2022-12-19T07:50:10.714Z"
   },
   {
    "duration": 12,
    "start_time": "2022-12-19T07:50:21.579Z"
   },
   {
    "duration": 12,
    "start_time": "2022-12-19T07:50:22.252Z"
   },
   {
    "duration": 7,
    "start_time": "2022-12-19T07:50:24.053Z"
   },
   {
    "duration": 15,
    "start_time": "2022-12-19T07:50:24.491Z"
   },
   {
    "duration": 12,
    "start_time": "2022-12-19T07:50:25.962Z"
   },
   {
    "duration": 18,
    "start_time": "2022-12-19T07:50:26.467Z"
   },
   {
    "duration": 49,
    "start_time": "2022-12-19T07:50:28.620Z"
   },
   {
    "duration": 15,
    "start_time": "2022-12-19T07:50:29.676Z"
   },
   {
    "duration": 5,
    "start_time": "2022-12-19T08:16:31.401Z"
   },
   {
    "duration": 10,
    "start_time": "2022-12-19T08:16:44.443Z"
   },
   {
    "duration": 10,
    "start_time": "2022-12-19T08:16:50.621Z"
   },
   {
    "duration": 7,
    "start_time": "2022-12-19T08:16:59.780Z"
   },
   {
    "duration": 10,
    "start_time": "2022-12-19T08:23:22.779Z"
   },
   {
    "duration": 9,
    "start_time": "2022-12-19T08:23:40.619Z"
   },
   {
    "duration": 11,
    "start_time": "2022-12-19T08:28:52.642Z"
   },
   {
    "duration": 11,
    "start_time": "2022-12-19T08:28:57.204Z"
   },
   {
    "duration": 10,
    "start_time": "2022-12-19T08:29:16.028Z"
   },
   {
    "duration": 13,
    "start_time": "2022-12-19T08:29:32.051Z"
   },
   {
    "duration": 654,
    "start_time": "2022-12-19T08:29:59.052Z"
   },
   {
    "duration": 25,
    "start_time": "2022-12-19T09:05:08.382Z"
   },
   {
    "duration": 29,
    "start_time": "2022-12-19T09:07:50.767Z"
   },
   {
    "duration": 27,
    "start_time": "2022-12-19T09:44:37.358Z"
   },
   {
    "duration": 24,
    "start_time": "2022-12-19T09:48:03.272Z"
   },
   {
    "duration": 12,
    "start_time": "2022-12-19T09:48:31.375Z"
   },
   {
    "duration": 27,
    "start_time": "2022-12-19T09:49:08.064Z"
   },
   {
    "duration": 1594,
    "start_time": "2022-12-19T09:49:51.120Z"
   },
   {
    "duration": 1174,
    "start_time": "2022-12-19T09:50:16.906Z"
   },
   {
    "duration": 5,
    "start_time": "2022-12-19T09:50:28.804Z"
   },
   {
    "duration": 16,
    "start_time": "2022-12-19T09:51:35.481Z"
   },
   {
    "duration": 8,
    "start_time": "2022-12-19T09:53:21.823Z"
   },
   {
    "duration": 8,
    "start_time": "2022-12-19T09:53:32.097Z"
   },
   {
    "duration": 1552,
    "start_time": "2022-12-19T09:53:47.726Z"
   },
   {
    "duration": 140,
    "start_time": "2022-12-19T09:53:49.280Z"
   },
   {
    "duration": 8,
    "start_time": "2022-12-19T09:53:49.422Z"
   },
   {
    "duration": 18,
    "start_time": "2022-12-19T09:53:49.432Z"
   },
   {
    "duration": 14,
    "start_time": "2022-12-19T09:53:49.452Z"
   },
   {
    "duration": 17,
    "start_time": "2022-12-19T09:53:49.468Z"
   },
   {
    "duration": 26,
    "start_time": "2022-12-19T09:53:49.487Z"
   },
   {
    "duration": 13,
    "start_time": "2022-12-19T09:53:49.515Z"
   },
   {
    "duration": 13,
    "start_time": "2022-12-19T09:53:49.529Z"
   },
   {
    "duration": 8,
    "start_time": "2022-12-19T09:53:49.545Z"
   },
   {
    "duration": 12,
    "start_time": "2022-12-19T09:53:49.555Z"
   },
   {
    "duration": 11,
    "start_time": "2022-12-19T09:53:49.569Z"
   },
   {
    "duration": 42,
    "start_time": "2022-12-19T09:53:49.581Z"
   },
   {
    "duration": 34,
    "start_time": "2022-12-19T09:53:49.625Z"
   },
   {
    "duration": 15,
    "start_time": "2022-12-19T09:53:49.661Z"
   },
   {
    "duration": 12,
    "start_time": "2022-12-19T09:53:49.677Z"
   },
   {
    "duration": 35,
    "start_time": "2022-12-19T09:53:49.690Z"
   },
   {
    "duration": 9,
    "start_time": "2022-12-19T09:53:49.726Z"
   },
   {
    "duration": 13,
    "start_time": "2022-12-19T09:53:49.736Z"
   },
   {
    "duration": 15,
    "start_time": "2022-12-19T09:53:49.751Z"
   },
   {
    "duration": 59,
    "start_time": "2022-12-19T09:53:49.767Z"
   },
   {
    "duration": 9,
    "start_time": "2022-12-19T09:53:49.828Z"
   },
   {
    "duration": 23,
    "start_time": "2022-12-19T09:53:49.839Z"
   },
   {
    "duration": 457,
    "start_time": "2022-12-19T09:53:49.864Z"
   },
   {
    "duration": 7,
    "start_time": "2022-12-19T09:53:50.323Z"
   },
   {
    "duration": 14,
    "start_time": "2022-12-19T09:53:50.332Z"
   },
   {
    "duration": 384,
    "start_time": "2022-12-19T09:53:50.348Z"
   },
   {
    "duration": 6904,
    "start_time": "2022-12-19T09:53:50.737Z"
   },
   {
    "duration": 5,
    "start_time": "2022-12-19T09:53:57.643Z"
   },
   {
    "duration": 7,
    "start_time": "2022-12-19T09:53:57.650Z"
   },
   {
    "duration": 2267,
    "start_time": "2022-12-19T09:53:57.659Z"
   },
   {
    "duration": 7,
    "start_time": "2022-12-19T09:53:59.928Z"
   },
   {
    "duration": 14,
    "start_time": "2022-12-19T09:53:59.936Z"
   },
   {
    "duration": 6,
    "start_time": "2022-12-19T09:53:59.952Z"
   },
   {
    "duration": 18,
    "start_time": "2022-12-19T09:53:59.960Z"
   },
   {
    "duration": 24,
    "start_time": "2022-12-19T09:53:59.980Z"
   },
   {
    "duration": 25,
    "start_time": "2022-12-19T09:54:00.006Z"
   },
   {
    "duration": 16,
    "start_time": "2022-12-19T09:54:00.032Z"
   },
   {
    "duration": 8,
    "start_time": "2022-12-19T09:54:00.051Z"
   },
   {
    "duration": 36205,
    "start_time": "2022-12-19T09:54:00.060Z"
   },
   {
    "duration": 236,
    "start_time": "2022-12-19T09:54:36.267Z"
   },
   {
    "duration": 3,
    "start_time": "2022-12-19T09:54:36.505Z"
   },
   {
    "duration": 6,
    "start_time": "2022-12-19T09:54:36.512Z"
   },
   {
    "duration": 50,
    "start_time": "2022-12-19T09:54:36.519Z"
   },
   {
    "duration": 3,
    "start_time": "2022-12-19T09:54:36.571Z"
   },
   {
    "duration": 26,
    "start_time": "2022-12-19T09:54:36.575Z"
   },
   {
    "duration": 15,
    "start_time": "2022-12-19T09:54:36.603Z"
   },
   {
    "duration": 28449,
    "start_time": "2022-12-19T09:54:36.620Z"
   },
   {
    "duration": 5,
    "start_time": "2022-12-19T09:55:05.070Z"
   },
   {
    "duration": 10,
    "start_time": "2022-12-19T09:55:05.077Z"
   },
   {
    "duration": 12,
    "start_time": "2022-12-19T09:55:05.088Z"
   },
   {
    "duration": 153,
    "start_time": "2022-12-19T09:55:05.112Z"
   },
   {
    "duration": 3,
    "start_time": "2022-12-19T09:55:05.267Z"
   },
   {
    "duration": 6,
    "start_time": "2022-12-19T09:55:05.271Z"
   },
   {
    "duration": 1527,
    "start_time": "2022-12-19T09:55:05.279Z"
   },
   {
    "duration": 7,
    "start_time": "2022-12-19T09:55:06.807Z"
   },
   {
    "duration": 18,
    "start_time": "2022-12-19T09:55:06.815Z"
   },
   {
    "duration": 11,
    "start_time": "2022-12-19T09:55:06.834Z"
   },
   {
    "duration": 6,
    "start_time": "2022-12-19T09:55:06.846Z"
   },
   {
    "duration": 8,
    "start_time": "2022-12-19T09:55:06.854Z"
   },
   {
    "duration": 909,
    "start_time": "2022-12-19T09:55:06.864Z"
   },
   {
    "duration": 6,
    "start_time": "2022-12-19T09:55:07.775Z"
   },
   {
    "duration": 8,
    "start_time": "2022-12-19T09:55:07.782Z"
   },
   {
    "duration": 5,
    "start_time": "2022-12-19T09:55:07.791Z"
   },
   {
    "duration": 4,
    "start_time": "2022-12-19T09:55:07.798Z"
   },
   {
    "duration": 18,
    "start_time": "2022-12-19T09:59:14.524Z"
   },
   {
    "duration": 9,
    "start_time": "2022-12-19T09:59:43.640Z"
   },
   {
    "duration": 10,
    "start_time": "2022-12-19T10:00:04.707Z"
   },
   {
    "duration": 17,
    "start_time": "2022-12-19T10:00:25.544Z"
   },
   {
    "duration": 4,
    "start_time": "2022-12-19T10:02:15.745Z"
   },
   {
    "duration": 23,
    "start_time": "2022-12-19T10:02:22.463Z"
   },
   {
    "duration": 17,
    "start_time": "2022-12-19T10:02:45.489Z"
   },
   {
    "duration": 77,
    "start_time": "2022-12-19T10:03:53.409Z"
   },
   {
    "duration": 3,
    "start_time": "2022-12-19T10:04:06.967Z"
   },
   {
    "duration": 120,
    "start_time": "2022-12-19T10:05:04.760Z"
   },
   {
    "duration": 5,
    "start_time": "2022-12-19T10:05:11.714Z"
   },
   {
    "duration": 35,
    "start_time": "2022-12-19T10:07:43.080Z"
   },
   {
    "duration": 23,
    "start_time": "2022-12-19T10:07:44.057Z"
   },
   {
    "duration": 5,
    "start_time": "2022-12-19T10:07:47.871Z"
   },
   {
    "duration": 13,
    "start_time": "2022-12-19T10:07:52.576Z"
   },
   {
    "duration": 18,
    "start_time": "2022-12-19T10:07:58.224Z"
   },
   {
    "duration": 25,
    "start_time": "2022-12-19T10:08:19.504Z"
   },
   {
    "duration": 11,
    "start_time": "2022-12-19T10:08:43.719Z"
   },
   {
    "duration": 17,
    "start_time": "2022-12-19T10:08:49.321Z"
   },
   {
    "duration": 5,
    "start_time": "2022-12-19T10:09:15.328Z"
   },
   {
    "duration": 1570,
    "start_time": "2022-12-19T10:09:39.678Z"
   },
   {
    "duration": 146,
    "start_time": "2022-12-19T10:09:41.251Z"
   },
   {
    "duration": 8,
    "start_time": "2022-12-19T10:09:41.398Z"
   },
   {
    "duration": 23,
    "start_time": "2022-12-19T10:09:41.408Z"
   },
   {
    "duration": 13,
    "start_time": "2022-12-19T10:09:41.433Z"
   },
   {
    "duration": 32,
    "start_time": "2022-12-19T10:09:41.448Z"
   },
   {
    "duration": 11,
    "start_time": "2022-12-19T10:09:41.481Z"
   },
   {
    "duration": 25,
    "start_time": "2022-12-19T10:09:41.494Z"
   },
   {
    "duration": 13,
    "start_time": "2022-12-19T10:09:41.521Z"
   },
   {
    "duration": 10,
    "start_time": "2022-12-19T10:09:41.535Z"
   },
   {
    "duration": 18,
    "start_time": "2022-12-19T10:09:41.547Z"
   },
   {
    "duration": 22,
    "start_time": "2022-12-19T10:09:41.567Z"
   },
   {
    "duration": 27,
    "start_time": "2022-12-19T10:09:41.591Z"
   },
   {
    "duration": 30,
    "start_time": "2022-12-19T10:09:41.622Z"
   },
   {
    "duration": 14,
    "start_time": "2022-12-19T10:09:41.653Z"
   },
   {
    "duration": 4,
    "start_time": "2022-12-19T10:09:41.669Z"
   },
   {
    "duration": 50,
    "start_time": "2022-12-19T10:09:41.675Z"
   },
   {
    "duration": 23,
    "start_time": "2022-12-19T10:09:41.726Z"
   },
   {
    "duration": 133,
    "start_time": "2022-12-19T10:09:41.750Z"
   },
   {
    "duration": 0,
    "start_time": "2022-12-19T10:09:41.887Z"
   },
   {
    "duration": 0,
    "start_time": "2022-12-19T10:09:41.888Z"
   },
   {
    "duration": 0,
    "start_time": "2022-12-19T10:09:41.890Z"
   },
   {
    "duration": 0,
    "start_time": "2022-12-19T10:09:41.891Z"
   },
   {
    "duration": 0,
    "start_time": "2022-12-19T10:09:41.892Z"
   },
   {
    "duration": 0,
    "start_time": "2022-12-19T10:09:41.893Z"
   },
   {
    "duration": 0,
    "start_time": "2022-12-19T10:09:41.894Z"
   },
   {
    "duration": 0,
    "start_time": "2022-12-19T10:09:41.913Z"
   },
   {
    "duration": 0,
    "start_time": "2022-12-19T10:09:41.915Z"
   },
   {
    "duration": 0,
    "start_time": "2022-12-19T10:09:41.916Z"
   },
   {
    "duration": 0,
    "start_time": "2022-12-19T10:09:41.917Z"
   },
   {
    "duration": 0,
    "start_time": "2022-12-19T10:09:41.918Z"
   },
   {
    "duration": 0,
    "start_time": "2022-12-19T10:09:41.919Z"
   },
   {
    "duration": 0,
    "start_time": "2022-12-19T10:09:41.921Z"
   },
   {
    "duration": 0,
    "start_time": "2022-12-19T10:09:41.922Z"
   },
   {
    "duration": 0,
    "start_time": "2022-12-19T10:09:41.923Z"
   },
   {
    "duration": 0,
    "start_time": "2022-12-19T10:09:41.925Z"
   },
   {
    "duration": 0,
    "start_time": "2022-12-19T10:09:41.927Z"
   },
   {
    "duration": 0,
    "start_time": "2022-12-19T10:09:41.928Z"
   },
   {
    "duration": 0,
    "start_time": "2022-12-19T10:09:41.930Z"
   },
   {
    "duration": 0,
    "start_time": "2022-12-19T10:09:41.931Z"
   },
   {
    "duration": 0,
    "start_time": "2022-12-19T10:09:41.933Z"
   },
   {
    "duration": 0,
    "start_time": "2022-12-19T10:09:41.934Z"
   },
   {
    "duration": 0,
    "start_time": "2022-12-19T10:09:41.936Z"
   },
   {
    "duration": 0,
    "start_time": "2022-12-19T10:09:41.938Z"
   },
   {
    "duration": 0,
    "start_time": "2022-12-19T10:09:41.939Z"
   },
   {
    "duration": 0,
    "start_time": "2022-12-19T10:09:41.941Z"
   },
   {
    "duration": 0,
    "start_time": "2022-12-19T10:09:41.942Z"
   },
   {
    "duration": 0,
    "start_time": "2022-12-19T10:09:41.943Z"
   },
   {
    "duration": 0,
    "start_time": "2022-12-19T10:09:41.944Z"
   },
   {
    "duration": 0,
    "start_time": "2022-12-19T10:09:41.945Z"
   },
   {
    "duration": 0,
    "start_time": "2022-12-19T10:09:41.946Z"
   },
   {
    "duration": 0,
    "start_time": "2022-12-19T10:09:41.947Z"
   },
   {
    "duration": 0,
    "start_time": "2022-12-19T10:09:41.949Z"
   },
   {
    "duration": 0,
    "start_time": "2022-12-19T10:09:41.950Z"
   },
   {
    "duration": 0,
    "start_time": "2022-12-19T10:09:42.013Z"
   },
   {
    "duration": 0,
    "start_time": "2022-12-19T10:09:42.014Z"
   },
   {
    "duration": 0,
    "start_time": "2022-12-19T10:09:42.015Z"
   },
   {
    "duration": 0,
    "start_time": "2022-12-19T10:09:42.016Z"
   },
   {
    "duration": 0,
    "start_time": "2022-12-19T10:09:42.017Z"
   },
   {
    "duration": 0,
    "start_time": "2022-12-19T10:09:42.018Z"
   },
   {
    "duration": 0,
    "start_time": "2022-12-19T10:09:42.020Z"
   },
   {
    "duration": 0,
    "start_time": "2022-12-19T10:09:42.020Z"
   },
   {
    "duration": 0,
    "start_time": "2022-12-19T10:09:42.022Z"
   },
   {
    "duration": 0,
    "start_time": "2022-12-19T10:09:42.023Z"
   },
   {
    "duration": 0,
    "start_time": "2022-12-19T10:09:42.024Z"
   },
   {
    "duration": 0,
    "start_time": "2022-12-19T10:09:42.025Z"
   },
   {
    "duration": 0,
    "start_time": "2022-12-19T10:09:42.026Z"
   },
   {
    "duration": 0,
    "start_time": "2022-12-19T10:09:42.027Z"
   },
   {
    "duration": 10,
    "start_time": "2022-12-19T10:10:19.224Z"
   },
   {
    "duration": 5,
    "start_time": "2022-12-19T10:10:23.082Z"
   },
   {
    "duration": 1445,
    "start_time": "2022-12-19T10:10:48.053Z"
   },
   {
    "duration": 143,
    "start_time": "2022-12-19T10:10:49.500Z"
   },
   {
    "duration": 7,
    "start_time": "2022-12-19T10:10:49.644Z"
   },
   {
    "duration": 22,
    "start_time": "2022-12-19T10:10:49.653Z"
   },
   {
    "duration": 23,
    "start_time": "2022-12-19T10:10:49.677Z"
   },
   {
    "duration": 20,
    "start_time": "2022-12-19T10:10:49.702Z"
   },
   {
    "duration": 9,
    "start_time": "2022-12-19T10:10:49.724Z"
   },
   {
    "duration": 22,
    "start_time": "2022-12-19T10:10:49.735Z"
   },
   {
    "duration": 13,
    "start_time": "2022-12-19T10:10:49.758Z"
   },
   {
    "duration": 10,
    "start_time": "2022-12-19T10:10:49.774Z"
   },
   {
    "duration": 16,
    "start_time": "2022-12-19T10:10:49.785Z"
   },
   {
    "duration": 16,
    "start_time": "2022-12-19T10:10:49.803Z"
   },
   {
    "duration": 12,
    "start_time": "2022-12-19T10:10:49.821Z"
   },
   {
    "duration": 79,
    "start_time": "2022-12-19T10:10:49.834Z"
   },
   {
    "duration": 15,
    "start_time": "2022-12-19T10:10:49.915Z"
   },
   {
    "duration": 4,
    "start_time": "2022-12-19T10:10:49.932Z"
   },
   {
    "duration": 15,
    "start_time": "2022-12-19T10:10:49.938Z"
   },
   {
    "duration": 20,
    "start_time": "2022-12-19T10:10:49.955Z"
   },
   {
    "duration": 55,
    "start_time": "2022-12-19T10:10:49.978Z"
   },
   {
    "duration": 3,
    "start_time": "2022-12-19T10:10:50.035Z"
   },
   {
    "duration": 14,
    "start_time": "2022-12-19T10:10:50.040Z"
   },
   {
    "duration": 57,
    "start_time": "2022-12-19T10:10:50.057Z"
   },
   {
    "duration": 98,
    "start_time": "2022-12-19T10:10:50.116Z"
   },
   {
    "duration": 15,
    "start_time": "2022-12-19T10:10:50.217Z"
   },
   {
    "duration": 30,
    "start_time": "2022-12-19T10:10:50.234Z"
   },
   {
    "duration": 418,
    "start_time": "2022-12-19T10:10:50.267Z"
   },
   {
    "duration": 6,
    "start_time": "2022-12-19T10:10:50.686Z"
   },
   {
    "duration": 17,
    "start_time": "2022-12-19T10:10:50.695Z"
   },
   {
    "duration": 369,
    "start_time": "2022-12-19T10:10:50.714Z"
   },
   {
    "duration": 6852,
    "start_time": "2022-12-19T10:10:51.085Z"
   },
   {
    "duration": 5,
    "start_time": "2022-12-19T10:10:57.939Z"
   },
   {
    "duration": 9,
    "start_time": "2022-12-19T10:10:57.946Z"
   },
   {
    "duration": 2226,
    "start_time": "2022-12-19T10:10:57.957Z"
   },
   {
    "duration": 7,
    "start_time": "2022-12-19T10:11:00.185Z"
   },
   {
    "duration": 32,
    "start_time": "2022-12-19T10:11:00.194Z"
   },
   {
    "duration": 16,
    "start_time": "2022-12-19T10:11:00.228Z"
   },
   {
    "duration": 37,
    "start_time": "2022-12-19T10:11:00.245Z"
   },
   {
    "duration": 55,
    "start_time": "2022-12-19T10:11:00.284Z"
   },
   {
    "duration": 21,
    "start_time": "2022-12-19T10:11:00.341Z"
   },
   {
    "duration": 41,
    "start_time": "2022-12-19T10:11:00.364Z"
   },
   {
    "duration": 37,
    "start_time": "2022-12-19T10:11:00.408Z"
   },
   {
    "duration": 50751,
    "start_time": "2022-12-19T10:11:00.448Z"
   },
   {
    "duration": 260,
    "start_time": "2022-12-19T10:11:51.201Z"
   },
   {
    "duration": 5,
    "start_time": "2022-12-19T10:11:51.464Z"
   },
   {
    "duration": 14,
    "start_time": "2022-12-19T10:11:51.471Z"
   },
   {
    "duration": 48,
    "start_time": "2022-12-19T10:11:51.487Z"
   },
   {
    "duration": 119,
    "start_time": "2022-12-19T10:11:51.537Z"
   },
   {
    "duration": 13,
    "start_time": "2022-12-19T10:11:51.658Z"
   },
   {
    "duration": 6,
    "start_time": "2022-12-19T10:11:51.672Z"
   },
   {
    "duration": 28714,
    "start_time": "2022-12-19T10:11:51.680Z"
   },
   {
    "duration": 5,
    "start_time": "2022-12-19T10:12:20.396Z"
   },
   {
    "duration": 24,
    "start_time": "2022-12-19T10:12:20.402Z"
   },
   {
    "duration": 26,
    "start_time": "2022-12-19T10:12:20.429Z"
   },
   {
    "duration": 157,
    "start_time": "2022-12-19T10:12:20.457Z"
   },
   {
    "duration": 3,
    "start_time": "2022-12-19T10:12:20.615Z"
   },
   {
    "duration": 25,
    "start_time": "2022-12-19T10:12:20.620Z"
   },
   {
    "duration": 1376,
    "start_time": "2022-12-19T10:12:20.647Z"
   },
   {
    "duration": 4,
    "start_time": "2022-12-19T10:12:22.025Z"
   },
   {
    "duration": 12,
    "start_time": "2022-12-19T10:12:22.030Z"
   },
   {
    "duration": 20,
    "start_time": "2022-12-19T10:12:22.045Z"
   },
   {
    "duration": 7,
    "start_time": "2022-12-19T10:12:22.068Z"
   },
   {
    "duration": 8,
    "start_time": "2022-12-19T10:12:22.078Z"
   },
   {
    "duration": 5747,
    "start_time": "2022-12-19T10:12:22.089Z"
   },
   {
    "duration": 9,
    "start_time": "2022-12-19T10:12:27.838Z"
   },
   {
    "duration": 8,
    "start_time": "2022-12-19T10:12:27.849Z"
   },
   {
    "duration": 5,
    "start_time": "2022-12-19T10:12:27.859Z"
   },
   {
    "duration": 8,
    "start_time": "2022-12-19T10:12:27.866Z"
   },
   {
    "duration": 110,
    "start_time": "2022-12-19T10:17:13.168Z"
   },
   {
    "duration": 1550,
    "start_time": "2022-12-19T10:18:09.668Z"
   },
   {
    "duration": 138,
    "start_time": "2022-12-19T10:18:11.222Z"
   },
   {
    "duration": 8,
    "start_time": "2022-12-19T10:18:11.362Z"
   },
   {
    "duration": 25,
    "start_time": "2022-12-19T10:18:11.373Z"
   },
   {
    "duration": 13,
    "start_time": "2022-12-19T10:18:11.400Z"
   },
   {
    "duration": 23,
    "start_time": "2022-12-19T10:18:11.414Z"
   },
   {
    "duration": 12,
    "start_time": "2022-12-19T10:18:11.439Z"
   },
   {
    "duration": 20,
    "start_time": "2022-12-19T10:18:11.453Z"
   },
   {
    "duration": 15,
    "start_time": "2022-12-19T10:18:11.475Z"
   },
   {
    "duration": 23,
    "start_time": "2022-12-19T10:18:11.493Z"
   },
   {
    "duration": 15,
    "start_time": "2022-12-19T10:18:11.518Z"
   },
   {
    "duration": 19,
    "start_time": "2022-12-19T10:18:11.535Z"
   },
   {
    "duration": 17,
    "start_time": "2022-12-19T10:18:11.557Z"
   },
   {
    "duration": 51,
    "start_time": "2022-12-19T10:18:11.576Z"
   },
   {
    "duration": 15,
    "start_time": "2022-12-19T10:18:11.629Z"
   },
   {
    "duration": 4,
    "start_time": "2022-12-19T10:18:11.646Z"
   },
   {
    "duration": 19,
    "start_time": "2022-12-19T10:18:11.652Z"
   },
   {
    "duration": 44,
    "start_time": "2022-12-19T10:18:11.673Z"
   },
   {
    "duration": 20,
    "start_time": "2022-12-19T10:18:11.719Z"
   },
   {
    "duration": 2,
    "start_time": "2022-12-19T10:18:11.741Z"
   },
   {
    "duration": 7,
    "start_time": "2022-12-19T10:18:11.745Z"
   },
   {
    "duration": 11,
    "start_time": "2022-12-19T10:18:11.753Z"
   },
   {
    "duration": 52,
    "start_time": "2022-12-19T10:18:11.766Z"
   },
   {
    "duration": 9,
    "start_time": "2022-12-19T10:18:11.820Z"
   },
   {
    "duration": 11,
    "start_time": "2022-12-19T10:18:11.831Z"
   },
   {
    "duration": 370,
    "start_time": "2022-12-19T10:18:11.844Z"
   },
   {
    "duration": 6,
    "start_time": "2022-12-19T10:18:12.216Z"
   },
   {
    "duration": 13,
    "start_time": "2022-12-19T10:18:12.226Z"
   },
   {
    "duration": 355,
    "start_time": "2022-12-19T10:18:12.241Z"
   },
   {
    "duration": 6884,
    "start_time": "2022-12-19T10:18:12.597Z"
   },
   {
    "duration": 5,
    "start_time": "2022-12-19T10:18:19.483Z"
   },
   {
    "duration": 15,
    "start_time": "2022-12-19T10:18:19.490Z"
   },
   {
    "duration": 2311,
    "start_time": "2022-12-19T10:18:19.507Z"
   },
   {
    "duration": 6,
    "start_time": "2022-12-19T10:18:21.821Z"
   },
   {
    "duration": 6,
    "start_time": "2022-12-19T10:18:21.829Z"
   },
   {
    "duration": 4,
    "start_time": "2022-12-19T10:18:21.837Z"
   },
   {
    "duration": 12,
    "start_time": "2022-12-19T10:18:21.843Z"
   },
   {
    "duration": 24,
    "start_time": "2022-12-19T10:18:21.857Z"
   },
   {
    "duration": 31,
    "start_time": "2022-12-19T10:18:21.883Z"
   },
   {
    "duration": 2,
    "start_time": "2022-12-19T10:18:21.917Z"
   },
   {
    "duration": 7,
    "start_time": "2022-12-19T10:18:21.921Z"
   },
   {
    "duration": 48399,
    "start_time": "2022-12-19T10:18:21.929Z"
   },
   {
    "duration": 278,
    "start_time": "2022-12-19T10:19:10.330Z"
   },
   {
    "duration": 4,
    "start_time": "2022-12-19T10:19:10.612Z"
   },
   {
    "duration": 7,
    "start_time": "2022-12-19T10:19:10.618Z"
   },
   {
    "duration": 38,
    "start_time": "2022-12-19T10:19:10.626Z"
   },
   {
    "duration": 3,
    "start_time": "2022-12-19T10:19:10.666Z"
   },
   {
    "duration": 6,
    "start_time": "2022-12-19T10:19:10.670Z"
   },
   {
    "duration": 5,
    "start_time": "2022-12-19T10:19:10.677Z"
   },
   {
    "duration": 28103,
    "start_time": "2022-12-19T10:19:10.684Z"
   },
   {
    "duration": 3,
    "start_time": "2022-12-19T10:19:38.789Z"
   },
   {
    "duration": 9,
    "start_time": "2022-12-19T10:19:38.794Z"
   },
   {
    "duration": 8,
    "start_time": "2022-12-19T10:19:38.812Z"
   },
   {
    "duration": 144,
    "start_time": "2022-12-19T10:19:38.822Z"
   },
   {
    "duration": 3,
    "start_time": "2022-12-19T10:19:38.968Z"
   },
   {
    "duration": 8,
    "start_time": "2022-12-19T10:19:38.972Z"
   },
   {
    "duration": 1409,
    "start_time": "2022-12-19T10:19:38.982Z"
   },
   {
    "duration": 6,
    "start_time": "2022-12-19T10:19:40.393Z"
   },
   {
    "duration": 5,
    "start_time": "2022-12-19T10:19:40.415Z"
   },
   {
    "duration": 19,
    "start_time": "2022-12-19T10:19:40.423Z"
   },
   {
    "duration": 10,
    "start_time": "2022-12-19T10:19:40.444Z"
   },
   {
    "duration": 15,
    "start_time": "2022-12-19T10:19:40.455Z"
   },
   {
    "duration": 5295,
    "start_time": "2022-12-19T10:19:40.472Z"
   },
   {
    "duration": 9,
    "start_time": "2022-12-19T10:19:45.768Z"
   },
   {
    "duration": 9,
    "start_time": "2022-12-19T10:19:45.779Z"
   },
   {
    "duration": 5,
    "start_time": "2022-12-19T10:19:45.790Z"
   },
   {
    "duration": 13,
    "start_time": "2022-12-19T10:19:45.797Z"
   },
   {
    "duration": 3,
    "start_time": "2022-12-19T10:21:32.169Z"
   },
   {
    "duration": 3,
    "start_time": "2022-12-19T10:21:36.168Z"
   },
   {
    "duration": 7,
    "start_time": "2022-12-19T10:22:02.323Z"
   },
   {
    "duration": 1396,
    "start_time": "2022-12-19T10:22:32.450Z"
   },
   {
    "duration": 142,
    "start_time": "2022-12-19T10:22:33.848Z"
   },
   {
    "duration": 9,
    "start_time": "2022-12-19T10:22:33.991Z"
   },
   {
    "duration": 21,
    "start_time": "2022-12-19T10:22:34.002Z"
   },
   {
    "duration": 14,
    "start_time": "2022-12-19T10:22:34.025Z"
   },
   {
    "duration": 13,
    "start_time": "2022-12-19T10:22:34.040Z"
   },
   {
    "duration": 9,
    "start_time": "2022-12-19T10:22:34.055Z"
   },
   {
    "duration": 12,
    "start_time": "2022-12-19T10:22:34.066Z"
   },
   {
    "duration": 34,
    "start_time": "2022-12-19T10:22:34.080Z"
   },
   {
    "duration": 9,
    "start_time": "2022-12-19T10:22:34.116Z"
   },
   {
    "duration": 11,
    "start_time": "2022-12-19T10:22:34.127Z"
   },
   {
    "duration": 15,
    "start_time": "2022-12-19T10:22:34.139Z"
   },
   {
    "duration": 12,
    "start_time": "2022-12-19T10:22:34.156Z"
   },
   {
    "duration": 48,
    "start_time": "2022-12-19T10:22:34.169Z"
   },
   {
    "duration": 16,
    "start_time": "2022-12-19T10:22:34.219Z"
   },
   {
    "duration": 5,
    "start_time": "2022-12-19T10:22:34.236Z"
   },
   {
    "duration": 18,
    "start_time": "2022-12-19T10:22:34.242Z"
   },
   {
    "duration": 30,
    "start_time": "2022-12-19T10:22:34.261Z"
   },
   {
    "duration": 17,
    "start_time": "2022-12-19T10:22:34.312Z"
   },
   {
    "duration": 2,
    "start_time": "2022-12-19T10:22:34.331Z"
   },
   {
    "duration": 5,
    "start_time": "2022-12-19T10:22:34.335Z"
   },
   {
    "duration": 12,
    "start_time": "2022-12-19T10:22:34.342Z"
   },
   {
    "duration": 29,
    "start_time": "2022-12-19T10:22:34.356Z"
   },
   {
    "duration": 30,
    "start_time": "2022-12-19T10:22:34.387Z"
   },
   {
    "duration": 11,
    "start_time": "2022-12-19T10:22:34.419Z"
   },
   {
    "duration": 391,
    "start_time": "2022-12-19T10:22:34.432Z"
   },
   {
    "duration": 6,
    "start_time": "2022-12-19T10:22:34.825Z"
   },
   {
    "duration": 17,
    "start_time": "2022-12-19T10:22:34.835Z"
   },
   {
    "duration": 361,
    "start_time": "2022-12-19T10:22:34.854Z"
   },
   {
    "duration": 6876,
    "start_time": "2022-12-19T10:22:35.217Z"
   },
   {
    "duration": 5,
    "start_time": "2022-12-19T10:22:42.095Z"
   },
   {
    "duration": 20,
    "start_time": "2022-12-19T10:22:42.101Z"
   },
   {
    "duration": 2236,
    "start_time": "2022-12-19T10:22:42.123Z"
   },
   {
    "duration": 6,
    "start_time": "2022-12-19T10:22:44.361Z"
   },
   {
    "duration": 6,
    "start_time": "2022-12-19T10:22:44.369Z"
   },
   {
    "duration": 5,
    "start_time": "2022-12-19T10:22:44.376Z"
   },
   {
    "duration": 32,
    "start_time": "2022-12-19T10:22:44.383Z"
   },
   {
    "duration": 24,
    "start_time": "2022-12-19T10:22:44.417Z"
   },
   {
    "duration": 11,
    "start_time": "2022-12-19T10:22:44.443Z"
   },
   {
    "duration": 9,
    "start_time": "2022-12-19T10:22:44.455Z"
   },
   {
    "duration": 15,
    "start_time": "2022-12-19T10:22:44.465Z"
   },
   {
    "duration": 871939,
    "start_time": "2022-12-19T10:22:44.482Z"
   },
   {
    "duration": 275,
    "start_time": "2022-12-19T10:37:16.423Z"
   },
   {
    "duration": 14,
    "start_time": "2022-12-19T10:37:16.700Z"
   },
   {
    "duration": 7,
    "start_time": "2022-12-19T10:37:16.715Z"
   },
   {
    "duration": 47,
    "start_time": "2022-12-19T10:37:16.724Z"
   },
   {
    "duration": 3,
    "start_time": "2022-12-19T10:37:16.772Z"
   },
   {
    "duration": 20,
    "start_time": "2022-12-19T10:37:16.776Z"
   },
   {
    "duration": 39,
    "start_time": "2022-12-19T10:37:16.797Z"
   },
   {
    "duration": 28156,
    "start_time": "2022-12-19T10:37:16.838Z"
   },
   {
    "duration": 4,
    "start_time": "2022-12-19T10:37:44.996Z"
   },
   {
    "duration": 16,
    "start_time": "2022-12-19T10:37:45.001Z"
   },
   {
    "duration": 18,
    "start_time": "2022-12-19T10:37:45.018Z"
   },
   {
    "duration": 132,
    "start_time": "2022-12-19T10:37:45.038Z"
   },
   {
    "duration": 2,
    "start_time": "2022-12-19T10:37:45.172Z"
   },
   {
    "duration": 11,
    "start_time": "2022-12-19T10:37:45.176Z"
   },
   {
    "duration": 1384,
    "start_time": "2022-12-19T10:37:45.189Z"
   },
   {
    "duration": 4,
    "start_time": "2022-12-19T10:37:46.574Z"
   },
   {
    "duration": 11,
    "start_time": "2022-12-19T10:37:46.579Z"
   },
   {
    "duration": 26,
    "start_time": "2022-12-19T10:37:46.592Z"
   },
   {
    "duration": 8,
    "start_time": "2022-12-19T10:37:46.620Z"
   },
   {
    "duration": 11,
    "start_time": "2022-12-19T10:37:46.630Z"
   },
   {
    "duration": 10380,
    "start_time": "2022-12-19T10:37:46.642Z"
   },
   {
    "duration": 10,
    "start_time": "2022-12-19T10:37:57.024Z"
   },
   {
    "duration": 12,
    "start_time": "2022-12-19T10:37:57.036Z"
   },
   {
    "duration": 6,
    "start_time": "2022-12-19T10:37:57.050Z"
   },
   {
    "duration": 8,
    "start_time": "2022-12-19T10:37:57.058Z"
   },
   {
    "duration": 4,
    "start_time": "2022-12-19T10:38:26.904Z"
   },
   {
    "duration": 1438,
    "start_time": "2022-12-19T10:39:12.727Z"
   },
   {
    "duration": 150,
    "start_time": "2022-12-19T10:39:14.167Z"
   },
   {
    "duration": 8,
    "start_time": "2022-12-19T10:39:14.319Z"
   },
   {
    "duration": 16,
    "start_time": "2022-12-19T10:39:14.330Z"
   },
   {
    "duration": 12,
    "start_time": "2022-12-19T10:39:14.348Z"
   },
   {
    "duration": 16,
    "start_time": "2022-12-19T10:39:14.362Z"
   },
   {
    "duration": 11,
    "start_time": "2022-12-19T10:39:14.379Z"
   },
   {
    "duration": 32,
    "start_time": "2022-12-19T10:39:14.392Z"
   },
   {
    "duration": 17,
    "start_time": "2022-12-19T10:39:14.426Z"
   },
   {
    "duration": 21,
    "start_time": "2022-12-19T10:39:14.446Z"
   },
   {
    "duration": 12,
    "start_time": "2022-12-19T10:39:14.469Z"
   },
   {
    "duration": 12,
    "start_time": "2022-12-19T10:39:14.483Z"
   },
   {
    "duration": 25,
    "start_time": "2022-12-19T10:39:14.497Z"
   },
   {
    "duration": 34,
    "start_time": "2022-12-19T10:39:14.524Z"
   },
   {
    "duration": 15,
    "start_time": "2022-12-19T10:39:14.560Z"
   },
   {
    "duration": 5,
    "start_time": "2022-12-19T10:39:14.577Z"
   },
   {
    "duration": 41,
    "start_time": "2022-12-19T10:39:14.584Z"
   },
   {
    "duration": 20,
    "start_time": "2022-12-19T10:39:14.627Z"
   },
   {
    "duration": 31,
    "start_time": "2022-12-19T10:39:14.649Z"
   },
   {
    "duration": 2,
    "start_time": "2022-12-19T10:39:14.682Z"
   },
   {
    "duration": 27,
    "start_time": "2022-12-19T10:39:14.686Z"
   },
   {
    "duration": 12,
    "start_time": "2022-12-19T10:39:14.715Z"
   },
   {
    "duration": 34,
    "start_time": "2022-12-19T10:39:14.729Z"
   },
   {
    "duration": 9,
    "start_time": "2022-12-19T10:39:14.764Z"
   },
   {
    "duration": 11,
    "start_time": "2022-12-19T10:39:14.775Z"
   },
   {
    "duration": 398,
    "start_time": "2022-12-19T10:39:14.788Z"
   },
   {
    "duration": 7,
    "start_time": "2022-12-19T10:39:15.188Z"
   },
   {
    "duration": 6,
    "start_time": "2022-12-19T10:39:15.212Z"
   },
   {
    "duration": 380,
    "start_time": "2022-12-19T10:39:15.220Z"
   },
   {
    "duration": 7032,
    "start_time": "2022-12-19T10:39:15.602Z"
   },
   {
    "duration": 5,
    "start_time": "2022-12-19T10:39:22.636Z"
   },
   {
    "duration": 15,
    "start_time": "2022-12-19T10:39:22.643Z"
   },
   {
    "duration": 2338,
    "start_time": "2022-12-19T10:39:22.660Z"
   },
   {
    "duration": 14,
    "start_time": "2022-12-19T10:39:25.001Z"
   },
   {
    "duration": 8,
    "start_time": "2022-12-19T10:39:25.016Z"
   },
   {
    "duration": 14,
    "start_time": "2022-12-19T10:39:25.026Z"
   },
   {
    "duration": 14,
    "start_time": "2022-12-19T10:39:25.042Z"
   },
   {
    "duration": 24,
    "start_time": "2022-12-19T10:39:25.059Z"
   },
   {
    "duration": 11,
    "start_time": "2022-12-19T10:39:25.084Z"
   },
   {
    "duration": 3,
    "start_time": "2022-12-19T10:39:25.097Z"
   },
   {
    "duration": 19,
    "start_time": "2022-12-19T10:39:25.102Z"
   },
   {
    "duration": 77619,
    "start_time": "2022-12-19T10:39:25.123Z"
   },
   {
    "duration": 260,
    "start_time": "2022-12-19T10:40:42.744Z"
   },
   {
    "duration": 4,
    "start_time": "2022-12-19T10:40:43.006Z"
   },
   {
    "duration": 11,
    "start_time": "2022-12-19T10:40:43.011Z"
   },
   {
    "duration": 41,
    "start_time": "2022-12-19T10:40:43.024Z"
   },
   {
    "duration": 4,
    "start_time": "2022-12-19T10:40:43.066Z"
   },
   {
    "duration": 9,
    "start_time": "2022-12-19T10:40:43.071Z"
   },
   {
    "duration": 7,
    "start_time": "2022-12-19T10:40:43.082Z"
   },
   {
    "duration": 28560,
    "start_time": "2022-12-19T10:40:43.091Z"
   },
   {
    "duration": 4,
    "start_time": "2022-12-19T10:41:11.652Z"
   },
   {
    "duration": 9,
    "start_time": "2022-12-19T10:41:11.657Z"
   },
   {
    "duration": 13,
    "start_time": "2022-12-19T10:41:11.667Z"
   },
   {
    "duration": 145,
    "start_time": "2022-12-19T10:41:11.682Z"
   },
   {
    "duration": 3,
    "start_time": "2022-12-19T10:41:11.829Z"
   },
   {
    "duration": 7,
    "start_time": "2022-12-19T10:41:11.834Z"
   },
   {
    "duration": 1435,
    "start_time": "2022-12-19T10:41:11.843Z"
   },
   {
    "duration": 4,
    "start_time": "2022-12-19T10:41:13.280Z"
   },
   {
    "duration": 16,
    "start_time": "2022-12-19T10:41:13.285Z"
   },
   {
    "duration": 17,
    "start_time": "2022-12-19T10:41:13.303Z"
   },
   {
    "duration": 18,
    "start_time": "2022-12-19T10:41:13.322Z"
   },
   {
    "duration": 15,
    "start_time": "2022-12-19T10:41:13.342Z"
   },
   {
    "duration": 10441,
    "start_time": "2022-12-19T10:41:13.358Z"
   },
   {
    "duration": 10,
    "start_time": "2022-12-19T10:41:23.800Z"
   },
   {
    "duration": 16,
    "start_time": "2022-12-19T10:41:23.811Z"
   },
   {
    "duration": 5,
    "start_time": "2022-12-19T10:41:23.828Z"
   },
   {
    "duration": 6,
    "start_time": "2022-12-19T10:41:23.834Z"
   },
   {
    "duration": 2479,
    "start_time": "2022-12-22T11:17:34.381Z"
   },
   {
    "duration": 274,
    "start_time": "2022-12-22T11:17:36.862Z"
   },
   {
    "duration": 9,
    "start_time": "2022-12-22T11:17:37.139Z"
   },
   {
    "duration": 22,
    "start_time": "2022-12-22T11:17:37.150Z"
   },
   {
    "duration": 21,
    "start_time": "2022-12-22T11:17:37.175Z"
   },
   {
    "duration": 16,
    "start_time": "2022-12-22T11:17:37.197Z"
   },
   {
    "duration": 10,
    "start_time": "2022-12-22T11:17:37.215Z"
   },
   {
    "duration": 22,
    "start_time": "2022-12-22T11:17:37.227Z"
   },
   {
    "duration": 17,
    "start_time": "2022-12-22T11:17:37.251Z"
   },
   {
    "duration": 10,
    "start_time": "2022-12-22T11:17:37.271Z"
   },
   {
    "duration": 30,
    "start_time": "2022-12-22T11:17:37.283Z"
   },
   {
    "duration": 15,
    "start_time": "2022-12-22T11:17:37.316Z"
   },
   {
    "duration": 23,
    "start_time": "2022-12-22T11:17:37.333Z"
   },
   {
    "duration": 44,
    "start_time": "2022-12-22T11:17:37.359Z"
   },
   {
    "duration": 21,
    "start_time": "2022-12-22T11:17:37.405Z"
   },
   {
    "duration": 5,
    "start_time": "2022-12-22T11:17:37.428Z"
   },
   {
    "duration": 16,
    "start_time": "2022-12-22T11:17:37.435Z"
   },
   {
    "duration": 24,
    "start_time": "2022-12-22T11:17:37.453Z"
   },
   {
    "duration": 18,
    "start_time": "2022-12-22T11:17:37.512Z"
   },
   {
    "duration": 2,
    "start_time": "2022-12-22T11:17:37.533Z"
   },
   {
    "duration": 5,
    "start_time": "2022-12-22T11:17:37.537Z"
   },
   {
    "duration": 10,
    "start_time": "2022-12-22T11:17:37.544Z"
   },
   {
    "duration": 64,
    "start_time": "2022-12-22T11:17:37.556Z"
   },
   {
    "duration": 10,
    "start_time": "2022-12-22T11:17:37.622Z"
   },
   {
    "duration": 24,
    "start_time": "2022-12-22T11:17:37.634Z"
   },
   {
    "duration": 443,
    "start_time": "2022-12-22T11:17:37.660Z"
   },
   {
    "duration": 12,
    "start_time": "2022-12-22T11:17:38.105Z"
   },
   {
    "duration": 20,
    "start_time": "2022-12-22T11:17:38.119Z"
   },
   {
    "duration": 392,
    "start_time": "2022-12-22T11:17:38.142Z"
   },
   {
    "duration": 7381,
    "start_time": "2022-12-22T11:17:38.535Z"
   },
   {
    "duration": 5,
    "start_time": "2022-12-22T11:17:45.918Z"
   },
   {
    "duration": 13,
    "start_time": "2022-12-22T11:17:45.926Z"
   },
   {
    "duration": 2448,
    "start_time": "2022-12-22T11:17:45.942Z"
   },
   {
    "duration": 8,
    "start_time": "2022-12-22T11:17:48.392Z"
   },
   {
    "duration": 28,
    "start_time": "2022-12-22T11:17:48.413Z"
   },
   {
    "duration": 22,
    "start_time": "2022-12-22T11:17:48.443Z"
   },
   {
    "duration": 21,
    "start_time": "2022-12-22T11:17:48.467Z"
   },
   {
    "duration": 55,
    "start_time": "2022-12-22T11:17:48.490Z"
   },
   {
    "duration": 24,
    "start_time": "2022-12-22T11:17:48.546Z"
   },
   {
    "duration": 20,
    "start_time": "2022-12-22T11:17:48.572Z"
   },
   {
    "duration": 19,
    "start_time": "2022-12-22T11:17:48.597Z"
   },
   {
    "duration": 85392,
    "start_time": "2022-12-22T11:17:48.618Z"
   },
   {
    "duration": 341,
    "start_time": "2022-12-22T11:19:14.012Z"
   },
   {
    "duration": 5,
    "start_time": "2022-12-22T11:19:14.355Z"
   },
   {
    "duration": 35,
    "start_time": "2022-12-22T11:19:14.362Z"
   },
   {
    "duration": 70,
    "start_time": "2022-12-22T11:19:14.399Z"
   },
   {
    "duration": 4,
    "start_time": "2022-12-22T11:19:14.471Z"
   },
   {
    "duration": 32,
    "start_time": "2022-12-22T11:19:14.477Z"
   },
   {
    "duration": 25,
    "start_time": "2022-12-22T11:19:14.511Z"
   },
   {
    "duration": 30791,
    "start_time": "2022-12-22T11:19:14.537Z"
   },
   {
    "duration": 5,
    "start_time": "2022-12-22T11:19:45.331Z"
   },
   {
    "duration": 14,
    "start_time": "2022-12-22T11:19:45.338Z"
   },
   {
    "duration": 55,
    "start_time": "2022-12-22T11:19:45.354Z"
   },
   {
    "duration": 144,
    "start_time": "2022-12-22T11:19:45.411Z"
   },
   {
    "duration": 4,
    "start_time": "2022-12-22T11:19:45.557Z"
   },
   {
    "duration": 5,
    "start_time": "2022-12-22T11:19:45.562Z"
   },
   {
    "duration": 1608,
    "start_time": "2022-12-22T11:19:45.569Z"
   },
   {
    "duration": 4,
    "start_time": "2022-12-22T11:19:47.179Z"
   },
   {
    "duration": 18,
    "start_time": "2022-12-22T11:19:47.192Z"
   },
   {
    "duration": 11,
    "start_time": "2022-12-22T11:19:47.212Z"
   },
   {
    "duration": 9,
    "start_time": "2022-12-22T11:19:47.224Z"
   },
   {
    "duration": 10,
    "start_time": "2022-12-22T11:19:47.234Z"
   },
   {
    "duration": 11400,
    "start_time": "2022-12-22T11:19:47.246Z"
   },
   {
    "duration": 13,
    "start_time": "2022-12-22T11:19:58.648Z"
   },
   {
    "duration": 10,
    "start_time": "2022-12-22T11:19:58.663Z"
   },
   {
    "duration": 6,
    "start_time": "2022-12-22T11:19:58.675Z"
   },
   {
    "duration": 13,
    "start_time": "2022-12-22T11:19:58.683Z"
   },
   {
    "duration": 45,
    "start_time": "2022-12-22T11:20:10.560Z"
   },
   {
    "duration": 49,
    "start_time": "2022-12-22T11:20:28.831Z"
   },
   {
    "duration": 64,
    "start_time": "2022-12-22T12:00:14.853Z"
   },
   {
    "duration": 43,
    "start_time": "2022-12-22T12:00:37.322Z"
   },
   {
    "duration": 148,
    "start_time": "2022-12-22T12:18:46.679Z"
   },
   {
    "duration": 235,
    "start_time": "2022-12-22T17:01:36.187Z"
   },
   {
    "duration": 53,
    "start_time": "2022-12-22T17:02:19.469Z"
   },
   {
    "duration": 47,
    "start_time": "2022-12-22T17:02:53.756Z"
   },
   {
    "duration": 3,
    "start_time": "2022-12-22T17:02:57.889Z"
   },
   {
    "duration": 101,
    "start_time": "2022-12-22T17:03:00.019Z"
   },
   {
    "duration": 4,
    "start_time": "2022-12-22T17:03:02.884Z"
   },
   {
    "duration": 47,
    "start_time": "2022-12-22T17:03:11.608Z"
   },
   {
    "duration": 49,
    "start_time": "2022-12-22T17:03:14.176Z"
   },
   {
    "duration": 53,
    "start_time": "2022-12-22T17:03:18.354Z"
   },
   {
    "duration": 1298,
    "start_time": "2022-12-22T17:03:50.689Z"
   },
   {
    "duration": 146,
    "start_time": "2022-12-22T17:03:51.989Z"
   },
   {
    "duration": 8,
    "start_time": "2022-12-22T17:03:52.137Z"
   },
   {
    "duration": 17,
    "start_time": "2022-12-22T17:03:52.146Z"
   },
   {
    "duration": 13,
    "start_time": "2022-12-22T17:03:52.165Z"
   },
   {
    "duration": 16,
    "start_time": "2022-12-22T17:03:52.179Z"
   },
   {
    "duration": 28,
    "start_time": "2022-12-22T17:03:52.196Z"
   },
   {
    "duration": 17,
    "start_time": "2022-12-22T17:03:52.226Z"
   },
   {
    "duration": 20,
    "start_time": "2022-12-22T17:03:52.244Z"
   },
   {
    "duration": 16,
    "start_time": "2022-12-22T17:03:52.266Z"
   },
   {
    "duration": 11,
    "start_time": "2022-12-22T17:03:52.284Z"
   },
   {
    "duration": 16,
    "start_time": "2022-12-22T17:03:52.297Z"
   },
   {
    "duration": 12,
    "start_time": "2022-12-22T17:03:52.315Z"
   },
   {
    "duration": 32,
    "start_time": "2022-12-22T17:03:52.330Z"
   },
   {
    "duration": 16,
    "start_time": "2022-12-22T17:03:52.363Z"
   },
   {
    "duration": 35,
    "start_time": "2022-12-22T17:03:52.381Z"
   },
   {
    "duration": 19,
    "start_time": "2022-12-22T17:03:52.418Z"
   },
   {
    "duration": 20,
    "start_time": "2022-12-22T17:03:52.439Z"
   },
   {
    "duration": 17,
    "start_time": "2022-12-22T17:03:52.460Z"
   },
   {
    "duration": 2,
    "start_time": "2022-12-22T17:03:52.479Z"
   },
   {
    "duration": 4,
    "start_time": "2022-12-22T17:03:52.511Z"
   },
   {
    "duration": 10,
    "start_time": "2022-12-22T17:03:52.516Z"
   },
   {
    "duration": 29,
    "start_time": "2022-12-22T17:03:52.527Z"
   },
   {
    "duration": 9,
    "start_time": "2022-12-22T17:03:52.557Z"
   },
   {
    "duration": 11,
    "start_time": "2022-12-22T17:03:52.568Z"
   },
   {
    "duration": 427,
    "start_time": "2022-12-22T17:03:52.580Z"
   },
   {
    "duration": 7,
    "start_time": "2022-12-22T17:03:53.009Z"
   },
   {
    "duration": 11,
    "start_time": "2022-12-22T17:03:53.017Z"
   },
   {
    "duration": 366,
    "start_time": "2022-12-22T17:03:53.030Z"
   },
   {
    "duration": 7364,
    "start_time": "2022-12-22T17:03:53.398Z"
   },
   {
    "duration": 7,
    "start_time": "2022-12-22T17:04:00.764Z"
   },
   {
    "duration": 22,
    "start_time": "2022-12-22T17:04:00.773Z"
   },
   {
    "duration": 2455,
    "start_time": "2022-12-22T17:04:00.797Z"
   },
   {
    "duration": 7,
    "start_time": "2022-12-22T17:04:03.254Z"
   },
   {
    "duration": 29,
    "start_time": "2022-12-22T17:04:03.263Z"
   },
   {
    "duration": 12,
    "start_time": "2022-12-22T17:04:03.294Z"
   },
   {
    "duration": 33,
    "start_time": "2022-12-22T17:04:03.308Z"
   },
   {
    "duration": 48,
    "start_time": "2022-12-22T17:04:03.343Z"
   },
   {
    "duration": 20,
    "start_time": "2022-12-22T17:04:03.392Z"
   },
   {
    "duration": 15,
    "start_time": "2022-12-22T17:04:03.414Z"
   },
   {
    "duration": 25,
    "start_time": "2022-12-22T17:04:03.433Z"
   },
   {
    "duration": 82063,
    "start_time": "2022-12-22T17:04:03.459Z"
   },
   {
    "duration": 267,
    "start_time": "2022-12-22T17:05:25.524Z"
   },
   {
    "duration": 5,
    "start_time": "2022-12-22T17:05:25.793Z"
   },
   {
    "duration": 4,
    "start_time": "2022-12-22T17:05:25.812Z"
   },
   {
    "duration": 67,
    "start_time": "2022-12-22T17:05:25.818Z"
   },
   {
    "duration": 4,
    "start_time": "2022-12-22T17:05:25.887Z"
   },
   {
    "duration": 21,
    "start_time": "2022-12-22T17:05:25.893Z"
   },
   {
    "duration": 5,
    "start_time": "2022-12-22T17:05:25.916Z"
   },
   {
    "duration": 22268,
    "start_time": "2022-12-22T17:05:25.922Z"
   },
   {
    "duration": 6,
    "start_time": "2022-12-22T17:05:48.192Z"
   },
   {
    "duration": 20,
    "start_time": "2022-12-22T17:05:48.201Z"
   },
   {
    "duration": 16,
    "start_time": "2022-12-22T17:05:48.222Z"
   },
   {
    "duration": 6,
    "start_time": "2022-12-22T17:05:48.240Z"
   },
   {
    "duration": 6575,
    "start_time": "2022-12-22T17:05:48.248Z"
   },
   {
    "duration": 5,
    "start_time": "2022-12-22T17:05:54.825Z"
   },
   {
    "duration": 13,
    "start_time": "2022-12-22T17:05:54.832Z"
   },
   {
    "duration": 10,
    "start_time": "2022-12-22T17:05:54.847Z"
   },
   {
    "duration": 14,
    "start_time": "2022-12-22T17:05:54.859Z"
   },
   {
    "duration": 10,
    "start_time": "2022-12-22T17:05:54.876Z"
   },
   {
    "duration": 10563,
    "start_time": "2022-12-22T17:05:54.889Z"
   },
   {
    "duration": 10,
    "start_time": "2022-12-22T17:06:05.454Z"
   },
   {
    "duration": 24,
    "start_time": "2022-12-22T17:06:05.465Z"
   },
   {
    "duration": 19,
    "start_time": "2022-12-22T17:06:05.491Z"
   },
   {
    "duration": 85,
    "start_time": "2022-12-23T06:17:58.496Z"
   },
   {
    "duration": 56,
    "start_time": "2022-12-23T07:13:04.905Z"
   }
  ],
  "kernelspec": {
   "display_name": "Python 3 (ipykernel)",
   "language": "python",
   "name": "python3"
  },
  "language_info": {
   "codemirror_mode": {
    "name": "ipython",
    "version": 3
   },
   "file_extension": ".py",
   "mimetype": "text/x-python",
   "name": "python",
   "nbconvert_exporter": "python",
   "pygments_lexer": "ipython3",
   "version": "3.9.13"
  },
  "toc": {
   "base_numbering": 1,
   "nav_menu": {},
   "number_sections": true,
   "sideBar": true,
   "skip_h1_title": true,
   "title_cell": "Table of Contents",
   "title_sidebar": "Contents",
   "toc_cell": false,
   "toc_position": {
    "height": "calc(100% - 180px)",
    "left": "10px",
    "top": "150px",
    "width": "224.562px"
   },
   "toc_section_display": true,
   "toc_window_display": true
  }
 },
 "nbformat": 4,
 "nbformat_minor": 5
}
