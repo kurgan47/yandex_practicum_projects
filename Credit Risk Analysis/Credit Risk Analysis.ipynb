{
 "cells": [
  {
   "cell_type": "markdown",
   "id": "91f4496a",
   "metadata": {},
   "source": [
    "# Исследование надежности заемщиков."
   ]
  },
  {
   "cell_type": "markdown",
   "id": "a4ce6d39",
   "metadata": {},
   "source": [
    "Заказчик — кредитный отдел банка. Нужно разобраться, влияет ли семейное положение и количество детей клиента на факт погашения кредита в срок. Входные данные от банка — статистика о платёжеспособности клиентов.\n",
    "Результаты исследования будут учтены при построении модели кредитного скоринга — специальной системы, которая оценивает способность потенциального заёмщика вернуть кредит банку."
   ]
  },
  {
   "cell_type": "markdown",
   "id": "52fca6af",
   "metadata": {},
   "source": [
    "### Шаг 1. Обзор данных"
   ]
  },
  {
   "cell_type": "markdown",
   "id": "8707b71f",
   "metadata": {},
   "source": [
    "#### Загружаем данные и выводим первые 10 строк на экран"
   ]
  },
  {
   "cell_type": "code",
   "execution_count": 1,
   "id": "8e7a26d0",
   "metadata": {},
   "outputs": [
    {
     "data": {
      "text/html": [
       "<div>\n",
       "<style scoped>\n",
       "    .dataframe tbody tr th:only-of-type {\n",
       "        vertical-align: middle;\n",
       "    }\n",
       "\n",
       "    .dataframe tbody tr th {\n",
       "        vertical-align: top;\n",
       "    }\n",
       "\n",
       "    .dataframe thead th {\n",
       "        text-align: right;\n",
       "    }\n",
       "</style>\n",
       "<table border=\"1\" class=\"dataframe\">\n",
       "  <thead>\n",
       "    <tr style=\"text-align: right;\">\n",
       "      <th></th>\n",
       "      <th>children</th>\n",
       "      <th>days_employed</th>\n",
       "      <th>dob_years</th>\n",
       "      <th>education</th>\n",
       "      <th>education_id</th>\n",
       "      <th>family_status</th>\n",
       "      <th>family_status_id</th>\n",
       "      <th>gender</th>\n",
       "      <th>income_type</th>\n",
       "      <th>debt</th>\n",
       "      <th>total_income</th>\n",
       "      <th>purpose</th>\n",
       "    </tr>\n",
       "  </thead>\n",
       "  <tbody>\n",
       "    <tr>\n",
       "      <th>0</th>\n",
       "      <td>1</td>\n",
       "      <td>-8437.673028</td>\n",
       "      <td>42</td>\n",
       "      <td>высшее</td>\n",
       "      <td>0</td>\n",
       "      <td>женат / замужем</td>\n",
       "      <td>0</td>\n",
       "      <td>F</td>\n",
       "      <td>сотрудник</td>\n",
       "      <td>0</td>\n",
       "      <td>253875.639453</td>\n",
       "      <td>покупка жилья</td>\n",
       "    </tr>\n",
       "    <tr>\n",
       "      <th>1</th>\n",
       "      <td>1</td>\n",
       "      <td>-4024.803754</td>\n",
       "      <td>36</td>\n",
       "      <td>среднее</td>\n",
       "      <td>1</td>\n",
       "      <td>женат / замужем</td>\n",
       "      <td>0</td>\n",
       "      <td>F</td>\n",
       "      <td>сотрудник</td>\n",
       "      <td>0</td>\n",
       "      <td>112080.014102</td>\n",
       "      <td>приобретение автомобиля</td>\n",
       "    </tr>\n",
       "    <tr>\n",
       "      <th>2</th>\n",
       "      <td>0</td>\n",
       "      <td>-5623.422610</td>\n",
       "      <td>33</td>\n",
       "      <td>Среднее</td>\n",
       "      <td>1</td>\n",
       "      <td>женат / замужем</td>\n",
       "      <td>0</td>\n",
       "      <td>M</td>\n",
       "      <td>сотрудник</td>\n",
       "      <td>0</td>\n",
       "      <td>145885.952297</td>\n",
       "      <td>покупка жилья</td>\n",
       "    </tr>\n",
       "    <tr>\n",
       "      <th>3</th>\n",
       "      <td>3</td>\n",
       "      <td>-4124.747207</td>\n",
       "      <td>32</td>\n",
       "      <td>среднее</td>\n",
       "      <td>1</td>\n",
       "      <td>женат / замужем</td>\n",
       "      <td>0</td>\n",
       "      <td>M</td>\n",
       "      <td>сотрудник</td>\n",
       "      <td>0</td>\n",
       "      <td>267628.550329</td>\n",
       "      <td>дополнительное образование</td>\n",
       "    </tr>\n",
       "    <tr>\n",
       "      <th>4</th>\n",
       "      <td>0</td>\n",
       "      <td>340266.072047</td>\n",
       "      <td>53</td>\n",
       "      <td>среднее</td>\n",
       "      <td>1</td>\n",
       "      <td>гражданский брак</td>\n",
       "      <td>1</td>\n",
       "      <td>F</td>\n",
       "      <td>пенсионер</td>\n",
       "      <td>0</td>\n",
       "      <td>158616.077870</td>\n",
       "      <td>сыграть свадьбу</td>\n",
       "    </tr>\n",
       "    <tr>\n",
       "      <th>5</th>\n",
       "      <td>0</td>\n",
       "      <td>-926.185831</td>\n",
       "      <td>27</td>\n",
       "      <td>высшее</td>\n",
       "      <td>0</td>\n",
       "      <td>гражданский брак</td>\n",
       "      <td>1</td>\n",
       "      <td>M</td>\n",
       "      <td>компаньон</td>\n",
       "      <td>0</td>\n",
       "      <td>255763.565419</td>\n",
       "      <td>покупка жилья</td>\n",
       "    </tr>\n",
       "    <tr>\n",
       "      <th>6</th>\n",
       "      <td>0</td>\n",
       "      <td>-2879.202052</td>\n",
       "      <td>43</td>\n",
       "      <td>высшее</td>\n",
       "      <td>0</td>\n",
       "      <td>женат / замужем</td>\n",
       "      <td>0</td>\n",
       "      <td>F</td>\n",
       "      <td>компаньон</td>\n",
       "      <td>0</td>\n",
       "      <td>240525.971920</td>\n",
       "      <td>операции с жильем</td>\n",
       "    </tr>\n",
       "    <tr>\n",
       "      <th>7</th>\n",
       "      <td>0</td>\n",
       "      <td>-152.779569</td>\n",
       "      <td>50</td>\n",
       "      <td>СРЕДНЕЕ</td>\n",
       "      <td>1</td>\n",
       "      <td>женат / замужем</td>\n",
       "      <td>0</td>\n",
       "      <td>M</td>\n",
       "      <td>сотрудник</td>\n",
       "      <td>0</td>\n",
       "      <td>135823.934197</td>\n",
       "      <td>образование</td>\n",
       "    </tr>\n",
       "    <tr>\n",
       "      <th>8</th>\n",
       "      <td>2</td>\n",
       "      <td>-6929.865299</td>\n",
       "      <td>35</td>\n",
       "      <td>ВЫСШЕЕ</td>\n",
       "      <td>0</td>\n",
       "      <td>гражданский брак</td>\n",
       "      <td>1</td>\n",
       "      <td>F</td>\n",
       "      <td>сотрудник</td>\n",
       "      <td>0</td>\n",
       "      <td>95856.832424</td>\n",
       "      <td>на проведение свадьбы</td>\n",
       "    </tr>\n",
       "    <tr>\n",
       "      <th>9</th>\n",
       "      <td>0</td>\n",
       "      <td>-2188.756445</td>\n",
       "      <td>41</td>\n",
       "      <td>среднее</td>\n",
       "      <td>1</td>\n",
       "      <td>женат / замужем</td>\n",
       "      <td>0</td>\n",
       "      <td>M</td>\n",
       "      <td>сотрудник</td>\n",
       "      <td>0</td>\n",
       "      <td>144425.938277</td>\n",
       "      <td>покупка жилья для семьи</td>\n",
       "    </tr>\n",
       "  </tbody>\n",
       "</table>\n",
       "</div>"
      ],
      "text/plain": [
       "   children  days_employed  dob_years education  education_id  \\\n",
       "0         1   -8437.673028         42    высшее             0   \n",
       "1         1   -4024.803754         36   среднее             1   \n",
       "2         0   -5623.422610         33   Среднее             1   \n",
       "3         3   -4124.747207         32   среднее             1   \n",
       "4         0  340266.072047         53   среднее             1   \n",
       "5         0    -926.185831         27    высшее             0   \n",
       "6         0   -2879.202052         43    высшее             0   \n",
       "7         0    -152.779569         50   СРЕДНЕЕ             1   \n",
       "8         2   -6929.865299         35    ВЫСШЕЕ             0   \n",
       "9         0   -2188.756445         41   среднее             1   \n",
       "\n",
       "      family_status  family_status_id gender income_type  debt   total_income  \\\n",
       "0   женат / замужем                 0      F   сотрудник     0  253875.639453   \n",
       "1   женат / замужем                 0      F   сотрудник     0  112080.014102   \n",
       "2   женат / замужем                 0      M   сотрудник     0  145885.952297   \n",
       "3   женат / замужем                 0      M   сотрудник     0  267628.550329   \n",
       "4  гражданский брак                 1      F   пенсионер     0  158616.077870   \n",
       "5  гражданский брак                 1      M   компаньон     0  255763.565419   \n",
       "6   женат / замужем                 0      F   компаньон     0  240525.971920   \n",
       "7   женат / замужем                 0      M   сотрудник     0  135823.934197   \n",
       "8  гражданский брак                 1      F   сотрудник     0   95856.832424   \n",
       "9   женат / замужем                 0      M   сотрудник     0  144425.938277   \n",
       "\n",
       "                      purpose  \n",
       "0               покупка жилья  \n",
       "1     приобретение автомобиля  \n",
       "2               покупка жилья  \n",
       "3  дополнительное образование  \n",
       "4             сыграть свадьбу  \n",
       "5               покупка жилья  \n",
       "6           операции с жильем  \n",
       "7                 образование  \n",
       "8       на проведение свадьбы  \n",
       "9     покупка жилья для семьи  "
      ]
     },
     "execution_count": 1,
     "metadata": {},
     "output_type": "execute_result"
    }
   ],
   "source": [
    "import pandas as pd\n",
    "data = pd.read_csv('https://code.s3.yandex.net/datasets/data.csv')\n",
    "data.head(10)"
   ]
  },
  {
   "cell_type": "markdown",
   "id": "1c16882b",
   "metadata": {},
   "source": [
    "**При просмотре данных появились следующие комментарии:**\n",
    "\n",
    "- Колличество отработанных дней в колонке `days_employed` часто имеет отрицательное значение, так же встречаются пропуски и положительные значения.\n",
    "\n",
    "- В колонке `education` для написания одних и тех же значений используется разный региср, например **ВЫСШЕЕ/высшее** или **СРЕДНЕЕ/Среднее/среднее**.\n",
    "\n",
    "- В колонке `purpose` одинаковы цели могут быть написаны по-разному, например **покупка жилья/покупка жилья для семьи/операции с жильем** и т.д."
   ]
  },
  {
   "cell_type": "markdown",
   "id": "bccf1c2f",
   "metadata": {},
   "source": [
    "#### Посмотрим информацию о таблице командой `info()`"
   ]
  },
  {
   "cell_type": "code",
   "execution_count": 2,
   "id": "f21edecf",
   "metadata": {
    "scrolled": true
   },
   "outputs": [
    {
     "name": "stdout",
     "output_type": "stream",
     "text": [
      "<class 'pandas.core.frame.DataFrame'>\n",
      "RangeIndex: 21525 entries, 0 to 21524\n",
      "Data columns (total 12 columns):\n",
      " #   Column            Non-Null Count  Dtype  \n",
      "---  ------            --------------  -----  \n",
      " 0   children          21525 non-null  int64  \n",
      " 1   days_employed     19351 non-null  float64\n",
      " 2   dob_years         21525 non-null  int64  \n",
      " 3   education         21525 non-null  object \n",
      " 4   education_id      21525 non-null  int64  \n",
      " 5   family_status     21525 non-null  object \n",
      " 6   family_status_id  21525 non-null  int64  \n",
      " 7   gender            21525 non-null  object \n",
      " 8   income_type       21525 non-null  object \n",
      " 9   debt              21525 non-null  int64  \n",
      " 10  total_income      19351 non-null  float64\n",
      " 11  purpose           21525 non-null  object \n",
      "dtypes: float64(2), int64(5), object(5)\n",
      "memory usage: 2.0+ MB\n"
     ]
    }
   ],
   "source": [
    "data.info()"
   ]
  },
  {
   "cell_type": "markdown",
   "id": "b136bf9d",
   "metadata": {},
   "source": [
    "Пропуски есть в колонках `days_employed` и `total_income`, причем их количество одинаковое. <br>\n",
    "Проверим совпадают ли они:"
   ]
  },
  {
   "cell_type": "code",
   "execution_count": 3,
   "id": "d0fc5dcb",
   "metadata": {},
   "outputs": [
    {
     "data": {
      "text/plain": [
       "array([ True])"
      ]
     },
     "execution_count": 3,
     "metadata": {},
     "output_type": "execute_result"
    }
   ],
   "source": [
    "(data['days_employed'].isna()==data['total_income'].isna()).unique()"
   ]
  },
  {
   "cell_type": "markdown",
   "id": "61f1852c",
   "metadata": {},
   "source": [
    "Везде, где не указано количиство отработанных дней, нет информации о доходе. Пропуски в колонках `days_employed` и `total_income` совпадают"
   ]
  },
  {
   "cell_type": "markdown",
   "id": "c1fdaacc",
   "metadata": {},
   "source": [
    "### Шаг 2.1 Заполнение пропусков"
   ]
  },
  {
   "cell_type": "markdown",
   "id": "b567f15d",
   "metadata": {},
   "source": [
    "#### Посчитаем количество пропусков в столбце `total_income`"
   ]
  },
  {
   "cell_type": "code",
   "execution_count": 4,
   "id": "94898070",
   "metadata": {},
   "outputs": [
    {
     "data": {
      "text/plain": [
       "2174"
      ]
     },
     "execution_count": 4,
     "metadata": {},
     "output_type": "execute_result"
    }
   ],
   "source": [
    "data['total_income'].isnull().sum()"
   ]
  },
  {
   "cell_type": "markdown",
   "id": "e0aa13f8",
   "metadata": {},
   "source": [
    "####  Количество пропусков\n",
    "В колонках `days_employed` и `total_income` по 2174 пропуска. Возможно, те граждане, у которых не указаны данные брали небольшие суммы или брали кредит под залог чего-то, поэтому не требовалось указывать информацию о работе и доходе. К сожалению такой информации в таблице нет. Или просто операторы по какой-то причине не внесли данные.\n"
   ]
  },
  {
   "cell_type": "markdown",
   "id": "beae1b2f",
   "metadata": {},
   "source": [
    "#### Заполнение пропусков в колонке с доходами медианым значением\n",
    "Заполним пропуски в доходах медианным значением. Оно лучше всего описывает наиболее часто встречающиеся значения. Среднее значение хуже, потому что появление в выборки нескольких человек с высоким доходом существенно повысит среднее значение.<br>\n",
    "Посчитаем медианное значение дохода:"
   ]
  },
  {
   "cell_type": "code",
   "execution_count": 5,
   "id": "4a734c39",
   "metadata": {},
   "outputs": [
    {
     "data": {
      "text/plain": [
       "145017.93753253992"
      ]
     },
     "execution_count": 5,
     "metadata": {},
     "output_type": "execute_result"
    }
   ],
   "source": [
    "income_median = data['total_income'].median()\n",
    "income_median"
   ]
  },
  {
   "cell_type": "markdown",
   "id": "737473de",
   "metadata": {},
   "source": [
    "Заполним пропуске в столбце `total_income` медианным значением и посчитаем количество пустых значений после заполнения"
   ]
  },
  {
   "cell_type": "code",
   "execution_count": 6,
   "id": "ddad843c",
   "metadata": {},
   "outputs": [
    {
     "data": {
      "text/plain": [
       "0"
      ]
     },
     "execution_count": 6,
     "metadata": {},
     "output_type": "execute_result"
    }
   ],
   "source": [
    "data['total_income'] = data['total_income'].fillna(income_median)\n",
    "data['total_income'].isnull().sum()"
   ]
  },
  {
   "cell_type": "markdown",
   "id": "aff629ef",
   "metadata": {},
   "source": [
    "Пустых значений больше нет."
   ]
  },
  {
   "cell_type": "markdown",
   "id": "9c24d319",
   "metadata": {},
   "source": [
    "#### Отрицательные значения в колонке `days_employed`\n",
    "В столбце `days_employed` есть отрицательные значения, посчитаем сколько их, а так же сколько положительных и пустых значений:"
   ]
  },
  {
   "cell_type": "code",
   "execution_count": 7,
   "id": "7a972185",
   "metadata": {},
   "outputs": [
    {
     "data": {
      "text/plain": [
       "15906"
      ]
     },
     "metadata": {},
     "output_type": "display_data"
    },
    {
     "data": {
      "text/plain": [
       "3445"
      ]
     },
     "metadata": {},
     "output_type": "display_data"
    },
    {
     "data": {
      "text/plain": [
       "2174"
      ]
     },
     "execution_count": 7,
     "metadata": {},
     "output_type": "execute_result"
    }
   ],
   "source": [
    "display(data[data['days_employed']<0]['days_employed'].count()) # Количество отрицательных значений\n",
    "display(data[data['days_employed']>0]['days_employed'].count()) # Количество положительных значений\n",
    "data['days_employed'].isnull().sum() # Количество пустых значений"
   ]
  },
  {
   "cell_type": "markdown",
   "id": "a9e45b42",
   "metadata": {},
   "source": [
    "#### Возможные причины отрицательных значений\n",
    "Отрицательных значений намного больше, чем положительных, вряд ли это опечатка. Возможно в части банков в системе момент подачи заявки на кредит расматривается как 0, а количесвто отработанных дней на момент подачи заявки получается отрицаетльным."
   ]
  },
  {
   "cell_type": "markdown",
   "id": "fd52b832",
   "metadata": {},
   "source": [
    "#### Перевод отрицательных значений в положительные\n",
    "Возьмем модуль от столбца и проверим, что все отрицательные значения стали положительными, посмотрев на первые 10 строк таблицы"
   ]
  },
  {
   "cell_type": "code",
   "execution_count": 8,
   "id": "056b05e8",
   "metadata": {},
   "outputs": [
    {
     "data": {
      "text/html": [
       "<div>\n",
       "<style scoped>\n",
       "    .dataframe tbody tr th:only-of-type {\n",
       "        vertical-align: middle;\n",
       "    }\n",
       "\n",
       "    .dataframe tbody tr th {\n",
       "        vertical-align: top;\n",
       "    }\n",
       "\n",
       "    .dataframe thead th {\n",
       "        text-align: right;\n",
       "    }\n",
       "</style>\n",
       "<table border=\"1\" class=\"dataframe\">\n",
       "  <thead>\n",
       "    <tr style=\"text-align: right;\">\n",
       "      <th></th>\n",
       "      <th>children</th>\n",
       "      <th>days_employed</th>\n",
       "      <th>dob_years</th>\n",
       "      <th>education</th>\n",
       "      <th>education_id</th>\n",
       "      <th>family_status</th>\n",
       "      <th>family_status_id</th>\n",
       "      <th>gender</th>\n",
       "      <th>income_type</th>\n",
       "      <th>debt</th>\n",
       "      <th>total_income</th>\n",
       "      <th>purpose</th>\n",
       "    </tr>\n",
       "  </thead>\n",
       "  <tbody>\n",
       "    <tr>\n",
       "      <th>0</th>\n",
       "      <td>1</td>\n",
       "      <td>8437.673028</td>\n",
       "      <td>42</td>\n",
       "      <td>высшее</td>\n",
       "      <td>0</td>\n",
       "      <td>женат / замужем</td>\n",
       "      <td>0</td>\n",
       "      <td>F</td>\n",
       "      <td>сотрудник</td>\n",
       "      <td>0</td>\n",
       "      <td>253875.639453</td>\n",
       "      <td>покупка жилья</td>\n",
       "    </tr>\n",
       "    <tr>\n",
       "      <th>1</th>\n",
       "      <td>1</td>\n",
       "      <td>4024.803754</td>\n",
       "      <td>36</td>\n",
       "      <td>среднее</td>\n",
       "      <td>1</td>\n",
       "      <td>женат / замужем</td>\n",
       "      <td>0</td>\n",
       "      <td>F</td>\n",
       "      <td>сотрудник</td>\n",
       "      <td>0</td>\n",
       "      <td>112080.014102</td>\n",
       "      <td>приобретение автомобиля</td>\n",
       "    </tr>\n",
       "    <tr>\n",
       "      <th>2</th>\n",
       "      <td>0</td>\n",
       "      <td>5623.422610</td>\n",
       "      <td>33</td>\n",
       "      <td>Среднее</td>\n",
       "      <td>1</td>\n",
       "      <td>женат / замужем</td>\n",
       "      <td>0</td>\n",
       "      <td>M</td>\n",
       "      <td>сотрудник</td>\n",
       "      <td>0</td>\n",
       "      <td>145885.952297</td>\n",
       "      <td>покупка жилья</td>\n",
       "    </tr>\n",
       "    <tr>\n",
       "      <th>3</th>\n",
       "      <td>3</td>\n",
       "      <td>4124.747207</td>\n",
       "      <td>32</td>\n",
       "      <td>среднее</td>\n",
       "      <td>1</td>\n",
       "      <td>женат / замужем</td>\n",
       "      <td>0</td>\n",
       "      <td>M</td>\n",
       "      <td>сотрудник</td>\n",
       "      <td>0</td>\n",
       "      <td>267628.550329</td>\n",
       "      <td>дополнительное образование</td>\n",
       "    </tr>\n",
       "    <tr>\n",
       "      <th>4</th>\n",
       "      <td>0</td>\n",
       "      <td>340266.072047</td>\n",
       "      <td>53</td>\n",
       "      <td>среднее</td>\n",
       "      <td>1</td>\n",
       "      <td>гражданский брак</td>\n",
       "      <td>1</td>\n",
       "      <td>F</td>\n",
       "      <td>пенсионер</td>\n",
       "      <td>0</td>\n",
       "      <td>158616.077870</td>\n",
       "      <td>сыграть свадьбу</td>\n",
       "    </tr>\n",
       "    <tr>\n",
       "      <th>5</th>\n",
       "      <td>0</td>\n",
       "      <td>926.185831</td>\n",
       "      <td>27</td>\n",
       "      <td>высшее</td>\n",
       "      <td>0</td>\n",
       "      <td>гражданский брак</td>\n",
       "      <td>1</td>\n",
       "      <td>M</td>\n",
       "      <td>компаньон</td>\n",
       "      <td>0</td>\n",
       "      <td>255763.565419</td>\n",
       "      <td>покупка жилья</td>\n",
       "    </tr>\n",
       "    <tr>\n",
       "      <th>6</th>\n",
       "      <td>0</td>\n",
       "      <td>2879.202052</td>\n",
       "      <td>43</td>\n",
       "      <td>высшее</td>\n",
       "      <td>0</td>\n",
       "      <td>женат / замужем</td>\n",
       "      <td>0</td>\n",
       "      <td>F</td>\n",
       "      <td>компаньон</td>\n",
       "      <td>0</td>\n",
       "      <td>240525.971920</td>\n",
       "      <td>операции с жильем</td>\n",
       "    </tr>\n",
       "    <tr>\n",
       "      <th>7</th>\n",
       "      <td>0</td>\n",
       "      <td>152.779569</td>\n",
       "      <td>50</td>\n",
       "      <td>СРЕДНЕЕ</td>\n",
       "      <td>1</td>\n",
       "      <td>женат / замужем</td>\n",
       "      <td>0</td>\n",
       "      <td>M</td>\n",
       "      <td>сотрудник</td>\n",
       "      <td>0</td>\n",
       "      <td>135823.934197</td>\n",
       "      <td>образование</td>\n",
       "    </tr>\n",
       "    <tr>\n",
       "      <th>8</th>\n",
       "      <td>2</td>\n",
       "      <td>6929.865299</td>\n",
       "      <td>35</td>\n",
       "      <td>ВЫСШЕЕ</td>\n",
       "      <td>0</td>\n",
       "      <td>гражданский брак</td>\n",
       "      <td>1</td>\n",
       "      <td>F</td>\n",
       "      <td>сотрудник</td>\n",
       "      <td>0</td>\n",
       "      <td>95856.832424</td>\n",
       "      <td>на проведение свадьбы</td>\n",
       "    </tr>\n",
       "    <tr>\n",
       "      <th>9</th>\n",
       "      <td>0</td>\n",
       "      <td>2188.756445</td>\n",
       "      <td>41</td>\n",
       "      <td>среднее</td>\n",
       "      <td>1</td>\n",
       "      <td>женат / замужем</td>\n",
       "      <td>0</td>\n",
       "      <td>M</td>\n",
       "      <td>сотрудник</td>\n",
       "      <td>0</td>\n",
       "      <td>144425.938277</td>\n",
       "      <td>покупка жилья для семьи</td>\n",
       "    </tr>\n",
       "  </tbody>\n",
       "</table>\n",
       "</div>"
      ],
      "text/plain": [
       "   children  days_employed  dob_years education  education_id  \\\n",
       "0         1    8437.673028         42    высшее             0   \n",
       "1         1    4024.803754         36   среднее             1   \n",
       "2         0    5623.422610         33   Среднее             1   \n",
       "3         3    4124.747207         32   среднее             1   \n",
       "4         0  340266.072047         53   среднее             1   \n",
       "5         0     926.185831         27    высшее             0   \n",
       "6         0    2879.202052         43    высшее             0   \n",
       "7         0     152.779569         50   СРЕДНЕЕ             1   \n",
       "8         2    6929.865299         35    ВЫСШЕЕ             0   \n",
       "9         0    2188.756445         41   среднее             1   \n",
       "\n",
       "      family_status  family_status_id gender income_type  debt   total_income  \\\n",
       "0   женат / замужем                 0      F   сотрудник     0  253875.639453   \n",
       "1   женат / замужем                 0      F   сотрудник     0  112080.014102   \n",
       "2   женат / замужем                 0      M   сотрудник     0  145885.952297   \n",
       "3   женат / замужем                 0      M   сотрудник     0  267628.550329   \n",
       "4  гражданский брак                 1      F   пенсионер     0  158616.077870   \n",
       "5  гражданский брак                 1      M   компаньон     0  255763.565419   \n",
       "6   женат / замужем                 0      F   компаньон     0  240525.971920   \n",
       "7   женат / замужем                 0      M   сотрудник     0  135823.934197   \n",
       "8  гражданский брак                 1      F   сотрудник     0   95856.832424   \n",
       "9   женат / замужем                 0      M   сотрудник     0  144425.938277   \n",
       "\n",
       "                      purpose  \n",
       "0               покупка жилья  \n",
       "1     приобретение автомобиля  \n",
       "2               покупка жилья  \n",
       "3  дополнительное образование  \n",
       "4             сыграть свадьбу  \n",
       "5               покупка жилья  \n",
       "6           операции с жильем  \n",
       "7                 образование  \n",
       "8       на проведение свадьбы  \n",
       "9     покупка жилья для семьи  "
      ]
     },
     "execution_count": 8,
     "metadata": {},
     "output_type": "execute_result"
    }
   ],
   "source": [
    "data['days_employed'] = data['days_employed'].abs()\n",
    "data.head(10)"
   ]
  },
  {
   "cell_type": "markdown",
   "id": "6df83a4d",
   "metadata": {},
   "source": [
    "#### Заполнение пропусков в колонке `days_employed` медианными значениями\n",
    "Вычислим медианое значение и заполним им пропуски. По той же причине, что и в столбце с доходами, медиана лучше подходит для описания времени работы для большинства людей. Несколько высоких значений существенно сдвигают среднее в область больших значений, поэтому среднее хуже описывает наиболее типичную продолжительность работы."
   ]
  },
  {
   "cell_type": "code",
   "execution_count": 9,
   "id": "fe3cdca0",
   "metadata": {},
   "outputs": [
    {
     "data": {
      "text/plain": [
       "2194.220566878695"
      ]
     },
     "metadata": {},
     "output_type": "display_data"
    },
    {
     "data": {
      "text/plain": [
       "0"
      ]
     },
     "execution_count": 9,
     "metadata": {},
     "output_type": "execute_result"
    }
   ],
   "source": [
    "days_employed_median = data['days_employed'].median() #Вычисляем медиану\n",
    "display(days_employed_median) # Выводим медиану на экран\n",
    "data['days_employed'] = data['days_employed'].fillna(days_employed_median) # Заполняем пропуски медианой\n",
    "data['days_employed'].isnull().sum() #Проверяем, что пропусков больше нет\n"
   ]
  },
  {
   "cell_type": "markdown",
   "id": "f1733dfd",
   "metadata": {},
   "source": [
    "### Шаг 2.2 Проверка данных на аномалии и исправления."
   ]
  },
  {
   "cell_type": "markdown",
   "id": "70a4ee3e",
   "metadata": {},
   "source": [
    "#### Приведение к единому регистру\n",
    "Чтобы корректно обработать дубликаты приведем значения в столбце `education` к единому регистру\n",
    "Сначала посмотрим какие значения есть в столбце"
   ]
  },
  {
   "cell_type": "code",
   "execution_count": 10,
   "id": "56ba3944",
   "metadata": {},
   "outputs": [
    {
     "data": {
      "text/plain": [
       "среднее                13750\n",
       "высшее                  4718\n",
       "СРЕДНЕЕ                  772\n",
       "Среднее                  711\n",
       "неоконченное высшее      668\n",
       "ВЫСШЕЕ                   274\n",
       "Высшее                   268\n",
       "начальное                250\n",
       "Неоконченное высшее       47\n",
       "НЕОКОНЧЕННОЕ ВЫСШЕЕ       29\n",
       "НАЧАЛЬНОЕ                 17\n",
       "Начальное                 15\n",
       "ученая степень             4\n",
       "Ученая степень             1\n",
       "УЧЕНАЯ СТЕПЕНЬ             1\n",
       "Name: education, dtype: int64"
      ]
     },
     "execution_count": 10,
     "metadata": {},
     "output_type": "execute_result"
    }
   ],
   "source": [
    "data['education'].value_counts()"
   ]
  },
  {
   "cell_type": "markdown",
   "id": "3a2939d9",
   "metadata": {},
   "source": [
    "Приведем все к нижнему регистру и проверим результат"
   ]
  },
  {
   "cell_type": "code",
   "execution_count": 11,
   "id": "786e1f06",
   "metadata": {},
   "outputs": [
    {
     "data": {
      "text/plain": [
       "среднее                15233\n",
       "высшее                  5260\n",
       "неоконченное высшее      744\n",
       "начальное                282\n",
       "ученая степень             6\n",
       "Name: education, dtype: int64"
      ]
     },
     "execution_count": 11,
     "metadata": {},
     "output_type": "execute_result"
    }
   ],
   "source": [
    "data['education'] = data['education'].str.lower()\n",
    "data['education'].value_counts()"
   ]
  },
  {
   "cell_type": "markdown",
   "id": "9db922e2",
   "metadata": {},
   "source": [
    "Проверим колонку `family_status`"
   ]
  },
  {
   "cell_type": "code",
   "execution_count": 12,
   "id": "3c1167d7",
   "metadata": {},
   "outputs": [
    {
     "data": {
      "text/plain": [
       "женат / замужем          12380\n",
       "гражданский брак          4177\n",
       "Не женат / не замужем     2813\n",
       "в разводе                 1195\n",
       "вдовец / вдова             960\n",
       "Name: family_status, dtype: int64"
      ]
     },
     "execution_count": 12,
     "metadata": {},
     "output_type": "execute_result"
    }
   ],
   "source": [
    "data['family_status'].value_counts()"
   ]
  },
  {
   "cell_type": "markdown",
   "id": "557d1226",
   "metadata": {},
   "source": [
    "Все статусы начинаются с маленькой буквы, а 'Не женат / не замужем' с большой, приведем все к единому виду"
   ]
  },
  {
   "cell_type": "code",
   "execution_count": 13,
   "id": "977115d0",
   "metadata": {},
   "outputs": [
    {
     "data": {
      "text/plain": [
       "женат / замужем          12380\n",
       "гражданский брак          4177\n",
       "не женат / не замужем     2813\n",
       "в разводе                 1195\n",
       "вдовец / вдова             960\n",
       "Name: family_status, dtype: int64"
      ]
     },
     "execution_count": 13,
     "metadata": {},
     "output_type": "execute_result"
    }
   ],
   "source": [
    "data['family_status'] = data['family_status'].str.lower()\n",
    "data['family_status'].value_counts()"
   ]
  },
  {
   "cell_type": "markdown",
   "id": "790abe82",
   "metadata": {},
   "source": [
    "#### Колонка `children`\n",
    "\n",
    "Посмотрим какие значения есть в колонеке `children`"
   ]
  },
  {
   "cell_type": "code",
   "execution_count": 14,
   "id": "e7405027",
   "metadata": {
    "scrolled": true
   },
   "outputs": [
    {
     "data": {
      "text/plain": [
       " 0     14149\n",
       " 1      4818\n",
       " 2      2055\n",
       " 3       330\n",
       " 20       76\n",
       "-1        47\n",
       " 4        41\n",
       " 5         9\n",
       "Name: children, dtype: int64"
      ]
     },
     "execution_count": 14,
     "metadata": {},
     "output_type": "execute_result"
    }
   ],
   "source": [
    "data['children'].value_counts()"
   ]
  },
  {
   "cell_type": "markdown",
   "id": "ccc6d7a0",
   "metadata": {},
   "source": [
    "Встречаются значения -1. Исправим это значение на 0. Есть значение 20. Cкорее всего это опечатка и имелось ввиду 2 ребенка. Но проверить это мы не можем, и таких значений относительно немного, поэтому лучше удалим их."
   ]
  },
  {
   "cell_type": "code",
   "execution_count": 15,
   "id": "5f65fe07",
   "metadata": {},
   "outputs": [
    {
     "data": {
      "text/plain": [
       "0     14196\n",
       "1      4818\n",
       "2      2055\n",
       "3       330\n",
       "20       76\n",
       "4        41\n",
       "5         9\n",
       "Name: children, dtype: int64"
      ]
     },
     "execution_count": 15,
     "metadata": {},
     "output_type": "execute_result"
    }
   ],
   "source": [
    "data.loc[data['children']==-1,'children'] = 0\n",
    "data['children'].value_counts()"
   ]
  },
  {
   "cell_type": "code",
   "execution_count": 16,
   "id": "529830ca",
   "metadata": {},
   "outputs": [
    {
     "data": {
      "text/plain": [
       "0    14196\n",
       "1     4818\n",
       "2     2055\n",
       "3      330\n",
       "4       41\n",
       "5        9\n",
       "Name: children, dtype: int64"
      ]
     },
     "execution_count": 16,
     "metadata": {},
     "output_type": "execute_result"
    }
   ],
   "source": [
    "data = data.drop(data[data['children']==20].index)\n",
    "data['children'].value_counts()"
   ]
  },
  {
   "cell_type": "markdown",
   "id": "64957f4f",
   "metadata": {},
   "source": [
    "#### Колонка `gender`"
   ]
  },
  {
   "cell_type": "code",
   "execution_count": 17,
   "id": "9298412a",
   "metadata": {},
   "outputs": [
    {
     "data": {
      "text/plain": [
       "F      14189\n",
       "M       7259\n",
       "XNA        1\n",
       "Name: gender, dtype: int64"
      ]
     },
     "execution_count": 17,
     "metadata": {},
     "output_type": "execute_result"
    }
   ],
   "source": [
    "data['gender'].value_counts()"
   ]
  },
  {
   "cell_type": "markdown",
   "id": "252cdaf9",
   "metadata": {},
   "source": [
    "В одной строке есть неопределившийся с полом, такие нам не нужны, по крайней мере, если мы никуда не собираемся уезжать."
   ]
  },
  {
   "cell_type": "code",
   "execution_count": 18,
   "id": "f903c1b7",
   "metadata": {},
   "outputs": [
    {
     "data": {
      "text/plain": [
       "F    14189\n",
       "M     7259\n",
       "Name: gender, dtype: int64"
      ]
     },
     "execution_count": 18,
     "metadata": {},
     "output_type": "execute_result"
    }
   ],
   "source": [
    "data = data.drop(data[data['gender']=='XNA'].index)\n",
    "data['gender'].value_counts()"
   ]
  },
  {
   "cell_type": "markdown",
   "id": "dfcfc739",
   "metadata": {},
   "source": [
    "### Шаг 2.3. Изменение типов данных."
   ]
  },
  {
   "cell_type": "markdown",
   "id": "a2f36410",
   "metadata": {},
   "source": [
    "Заменим тип данных в столбце `total_income` на целочисленный и проверим результат"
   ]
  },
  {
   "cell_type": "code",
   "execution_count": 19,
   "id": "624caea9",
   "metadata": {},
   "outputs": [
    {
     "name": "stdout",
     "output_type": "stream",
     "text": [
      "<class 'pandas.core.frame.DataFrame'>\n",
      "Int64Index: 21448 entries, 0 to 21524\n",
      "Data columns (total 12 columns):\n",
      " #   Column            Non-Null Count  Dtype  \n",
      "---  ------            --------------  -----  \n",
      " 0   children          21448 non-null  int64  \n",
      " 1   days_employed     21448 non-null  float64\n",
      " 2   dob_years         21448 non-null  int64  \n",
      " 3   education         21448 non-null  object \n",
      " 4   education_id      21448 non-null  int64  \n",
      " 5   family_status     21448 non-null  object \n",
      " 6   family_status_id  21448 non-null  int64  \n",
      " 7   gender            21448 non-null  object \n",
      " 8   income_type       21448 non-null  object \n",
      " 9   debt              21448 non-null  int64  \n",
      " 10  total_income      21448 non-null  int64  \n",
      " 11  purpose           21448 non-null  object \n",
      "dtypes: float64(1), int64(6), object(5)\n",
      "memory usage: 2.1+ MB\n"
     ]
    }
   ],
   "source": [
    "data['total_income'] = data['total_income'].astype('int64')\n",
    "data.info()"
   ]
  },
  {
   "cell_type": "markdown",
   "id": "b2c8ff6c",
   "metadata": {},
   "source": [
    "### Шаг 2.4. Удаление дубликатов."
   ]
  },
  {
   "cell_type": "markdown",
   "id": "e8e030d2",
   "metadata": {},
   "source": [
    "#### Удаление явных дубликатов"
   ]
  },
  {
   "cell_type": "markdown",
   "id": "c0a75178",
   "metadata": {},
   "source": [
    "Псмотрим есть ли в таблице явные дубликаты"
   ]
  },
  {
   "cell_type": "code",
   "execution_count": 20,
   "id": "9a3007c1",
   "metadata": {},
   "outputs": [
    {
     "data": {
      "text/plain": [
       "71"
      ]
     },
     "execution_count": 20,
     "metadata": {},
     "output_type": "execute_result"
    }
   ],
   "source": [
    "data.duplicated().sum()"
   ]
  },
  {
   "cell_type": "markdown",
   "id": "caa7e252",
   "metadata": {},
   "source": [
    "После приведения столбца `eduction` к единому регистру в таблице найден 71 явный дубликат.  Избавимся от них методом `drop_duplicates()`, перезапишем индексы попрядку и проверим результат."
   ]
  },
  {
   "cell_type": "code",
   "execution_count": 21,
   "id": "36719f07",
   "metadata": {},
   "outputs": [
    {
     "data": {
      "text/plain": [
       "0"
      ]
     },
     "execution_count": 21,
     "metadata": {},
     "output_type": "execute_result"
    }
   ],
   "source": [
    "data = data.drop_duplicates().reset_index(drop=True)\n",
    "data.duplicated().sum()"
   ]
  },
  {
   "cell_type": "markdown",
   "id": "21df2c43",
   "metadata": {},
   "source": [
    "Дубликаты появились только после приведения к единому регистру и их не так много, возможно во время занесения данных возникали какие-то технические неполадки, и данные внесли повторно, слегка изменив их."
   ]
  },
  {
   "cell_type": "markdown",
   "id": "55d6f37f",
   "metadata": {},
   "source": [
    "### Шаг 2.5. Формирование дополнительных датафреймов словарей, декомпозиция исходного датафрейма."
   ]
  },
  {
   "cell_type": "markdown",
   "id": "427116be",
   "metadata": {},
   "source": [
    "Создадим датафрейм `education_df`, где каждому уникальному значению из `education` соответствует уникальное значение `education_id`"
   ]
  },
  {
   "cell_type": "code",
   "execution_count": 22,
   "id": "4009daba",
   "metadata": {
    "scrolled": true
   },
   "outputs": [
    {
     "data": {
      "text/html": [
       "<div>\n",
       "<style scoped>\n",
       "    .dataframe tbody tr th:only-of-type {\n",
       "        vertical-align: middle;\n",
       "    }\n",
       "\n",
       "    .dataframe tbody tr th {\n",
       "        vertical-align: top;\n",
       "    }\n",
       "\n",
       "    .dataframe thead th {\n",
       "        text-align: right;\n",
       "    }\n",
       "</style>\n",
       "<table border=\"1\" class=\"dataframe\">\n",
       "  <thead>\n",
       "    <tr style=\"text-align: right;\">\n",
       "      <th></th>\n",
       "      <th>education_id</th>\n",
       "      <th>education</th>\n",
       "    </tr>\n",
       "  </thead>\n",
       "  <tbody>\n",
       "    <tr>\n",
       "      <th>0</th>\n",
       "      <td>0</td>\n",
       "      <td>высшее</td>\n",
       "    </tr>\n",
       "    <tr>\n",
       "      <th>1</th>\n",
       "      <td>1</td>\n",
       "      <td>среднее</td>\n",
       "    </tr>\n",
       "    <tr>\n",
       "      <th>2</th>\n",
       "      <td>1</td>\n",
       "      <td>среднее</td>\n",
       "    </tr>\n",
       "    <tr>\n",
       "      <th>3</th>\n",
       "      <td>1</td>\n",
       "      <td>среднее</td>\n",
       "    </tr>\n",
       "    <tr>\n",
       "      <th>4</th>\n",
       "      <td>1</td>\n",
       "      <td>среднее</td>\n",
       "    </tr>\n",
       "    <tr>\n",
       "      <th>5</th>\n",
       "      <td>0</td>\n",
       "      <td>высшее</td>\n",
       "    </tr>\n",
       "    <tr>\n",
       "      <th>6</th>\n",
       "      <td>0</td>\n",
       "      <td>высшее</td>\n",
       "    </tr>\n",
       "    <tr>\n",
       "      <th>7</th>\n",
       "      <td>1</td>\n",
       "      <td>среднее</td>\n",
       "    </tr>\n",
       "    <tr>\n",
       "      <th>8</th>\n",
       "      <td>0</td>\n",
       "      <td>высшее</td>\n",
       "    </tr>\n",
       "    <tr>\n",
       "      <th>9</th>\n",
       "      <td>1</td>\n",
       "      <td>среднее</td>\n",
       "    </tr>\n",
       "  </tbody>\n",
       "</table>\n",
       "</div>"
      ],
      "text/plain": [
       "   education_id education\n",
       "0             0    высшее\n",
       "1             1   среднее\n",
       "2             1   среднее\n",
       "3             1   среднее\n",
       "4             1   среднее\n",
       "5             0    высшее\n",
       "6             0    высшее\n",
       "7             1   среднее\n",
       "8             0    высшее\n",
       "9             1   среднее"
      ]
     },
     "execution_count": 22,
     "metadata": {},
     "output_type": "execute_result"
    }
   ],
   "source": [
    "education_df = data[['education_id','education']]\n",
    "education_df.head(10)"
   ]
  },
  {
   "cell_type": "markdown",
   "id": "1f340eaf",
   "metadata": {},
   "source": [
    "Посмотрим какой id соответствует каждому типу образования, удалим все дубликаты."
   ]
  },
  {
   "cell_type": "code",
   "execution_count": 23,
   "id": "4307dccf",
   "metadata": {
    "scrolled": true
   },
   "outputs": [
    {
     "data": {
      "text/html": [
       "<div>\n",
       "<style scoped>\n",
       "    .dataframe tbody tr th:only-of-type {\n",
       "        vertical-align: middle;\n",
       "    }\n",
       "\n",
       "    .dataframe tbody tr th {\n",
       "        vertical-align: top;\n",
       "    }\n",
       "\n",
       "    .dataframe thead th {\n",
       "        text-align: right;\n",
       "    }\n",
       "</style>\n",
       "<table border=\"1\" class=\"dataframe\">\n",
       "  <thead>\n",
       "    <tr style=\"text-align: right;\">\n",
       "      <th></th>\n",
       "      <th>education_id</th>\n",
       "      <th>education</th>\n",
       "    </tr>\n",
       "  </thead>\n",
       "  <tbody>\n",
       "    <tr>\n",
       "      <th>0</th>\n",
       "      <td>0</td>\n",
       "      <td>высшее</td>\n",
       "    </tr>\n",
       "    <tr>\n",
       "      <th>1</th>\n",
       "      <td>1</td>\n",
       "      <td>среднее</td>\n",
       "    </tr>\n",
       "    <tr>\n",
       "      <th>2</th>\n",
       "      <td>2</td>\n",
       "      <td>неоконченное высшее</td>\n",
       "    </tr>\n",
       "    <tr>\n",
       "      <th>3</th>\n",
       "      <td>3</td>\n",
       "      <td>начальное</td>\n",
       "    </tr>\n",
       "    <tr>\n",
       "      <th>4</th>\n",
       "      <td>4</td>\n",
       "      <td>ученая степень</td>\n",
       "    </tr>\n",
       "  </tbody>\n",
       "</table>\n",
       "</div>"
      ],
      "text/plain": [
       "   education_id            education\n",
       "0             0               высшее\n",
       "1             1              среднее\n",
       "2             2  неоконченное высшее\n",
       "3             3            начальное\n",
       "4             4       ученая степень"
      ]
     },
     "execution_count": 23,
     "metadata": {},
     "output_type": "execute_result"
    }
   ],
   "source": [
    "education_df = education_df.drop_duplicates().reset_index(drop=True)\n",
    "education_df"
   ]
  },
  {
   "cell_type": "markdown",
   "id": "15641a99",
   "metadata": {},
   "source": [
    "Проделаем тже самое для семейного статуса. Создадим датафрейм `family_status_df`, где каждому уникальному значению из `family_status` соответствует уникальное значение `family_status_id`. "
   ]
  },
  {
   "cell_type": "code",
   "execution_count": 24,
   "id": "059097e8",
   "metadata": {
    "scrolled": true
   },
   "outputs": [
    {
     "data": {
      "text/html": [
       "<div>\n",
       "<style scoped>\n",
       "    .dataframe tbody tr th:only-of-type {\n",
       "        vertical-align: middle;\n",
       "    }\n",
       "\n",
       "    .dataframe tbody tr th {\n",
       "        vertical-align: top;\n",
       "    }\n",
       "\n",
       "    .dataframe thead th {\n",
       "        text-align: right;\n",
       "    }\n",
       "</style>\n",
       "<table border=\"1\" class=\"dataframe\">\n",
       "  <thead>\n",
       "    <tr style=\"text-align: right;\">\n",
       "      <th></th>\n",
       "      <th>family_status_id</th>\n",
       "      <th>family_status</th>\n",
       "    </tr>\n",
       "  </thead>\n",
       "  <tbody>\n",
       "    <tr>\n",
       "      <th>0</th>\n",
       "      <td>0</td>\n",
       "      <td>женат / замужем</td>\n",
       "    </tr>\n",
       "    <tr>\n",
       "      <th>1</th>\n",
       "      <td>0</td>\n",
       "      <td>женат / замужем</td>\n",
       "    </tr>\n",
       "    <tr>\n",
       "      <th>2</th>\n",
       "      <td>0</td>\n",
       "      <td>женат / замужем</td>\n",
       "    </tr>\n",
       "    <tr>\n",
       "      <th>3</th>\n",
       "      <td>0</td>\n",
       "      <td>женат / замужем</td>\n",
       "    </tr>\n",
       "    <tr>\n",
       "      <th>4</th>\n",
       "      <td>1</td>\n",
       "      <td>гражданский брак</td>\n",
       "    </tr>\n",
       "  </tbody>\n",
       "</table>\n",
       "</div>"
      ],
      "text/plain": [
       "   family_status_id     family_status\n",
       "0                 0   женат / замужем\n",
       "1                 0   женат / замужем\n",
       "2                 0   женат / замужем\n",
       "3                 0   женат / замужем\n",
       "4                 1  гражданский брак"
      ]
     },
     "execution_count": 24,
     "metadata": {},
     "output_type": "execute_result"
    }
   ],
   "source": [
    "family_status_df = data[['family_status_id','family_status']]\n",
    "family_status_df.head()"
   ]
  },
  {
   "cell_type": "markdown",
   "id": "74cf8e82",
   "metadata": {},
   "source": [
    "Посмотрим соответсвие семейного статуса и категории. Удалим дубликаты."
   ]
  },
  {
   "cell_type": "code",
   "execution_count": 25,
   "id": "81847397",
   "metadata": {},
   "outputs": [
    {
     "data": {
      "text/html": [
       "<div>\n",
       "<style scoped>\n",
       "    .dataframe tbody tr th:only-of-type {\n",
       "        vertical-align: middle;\n",
       "    }\n",
       "\n",
       "    .dataframe tbody tr th {\n",
       "        vertical-align: top;\n",
       "    }\n",
       "\n",
       "    .dataframe thead th {\n",
       "        text-align: right;\n",
       "    }\n",
       "</style>\n",
       "<table border=\"1\" class=\"dataframe\">\n",
       "  <thead>\n",
       "    <tr style=\"text-align: right;\">\n",
       "      <th></th>\n",
       "      <th>family_status_id</th>\n",
       "      <th>family_status</th>\n",
       "    </tr>\n",
       "  </thead>\n",
       "  <tbody>\n",
       "    <tr>\n",
       "      <th>0</th>\n",
       "      <td>0</td>\n",
       "      <td>женат / замужем</td>\n",
       "    </tr>\n",
       "    <tr>\n",
       "      <th>1</th>\n",
       "      <td>1</td>\n",
       "      <td>гражданский брак</td>\n",
       "    </tr>\n",
       "    <tr>\n",
       "      <th>2</th>\n",
       "      <td>2</td>\n",
       "      <td>вдовец / вдова</td>\n",
       "    </tr>\n",
       "    <tr>\n",
       "      <th>3</th>\n",
       "      <td>3</td>\n",
       "      <td>в разводе</td>\n",
       "    </tr>\n",
       "    <tr>\n",
       "      <th>4</th>\n",
       "      <td>4</td>\n",
       "      <td>не женат / не замужем</td>\n",
       "    </tr>\n",
       "  </tbody>\n",
       "</table>\n",
       "</div>"
      ],
      "text/plain": [
       "   family_status_id          family_status\n",
       "0                 0        женат / замужем\n",
       "1                 1       гражданский брак\n",
       "2                 2         вдовец / вдова\n",
       "3                 3              в разводе\n",
       "4                 4  не женат / не замужем"
      ]
     },
     "execution_count": 25,
     "metadata": {},
     "output_type": "execute_result"
    }
   ],
   "source": [
    "family_status_df = family_status_df.drop_duplicates().reset_index(drop=True)\n",
    "family_status_df"
   ]
  },
  {
   "cell_type": "markdown",
   "id": "a4d55646",
   "metadata": {},
   "source": [
    "Удалим колонки `education` и `family_status` из исходной таблицы."
   ]
  },
  {
   "cell_type": "code",
   "execution_count": 26,
   "id": "3dff351d",
   "metadata": {},
   "outputs": [
    {
     "data": {
      "text/plain": [
       "Index(['children', 'days_employed', 'dob_years', 'education_id',\n",
       "       'family_status_id', 'gender', 'income_type', 'debt', 'total_income',\n",
       "       'purpose'],\n",
       "      dtype='object')"
      ]
     },
     "execution_count": 26,
     "metadata": {},
     "output_type": "execute_result"
    }
   ],
   "source": [
    "data = data.drop(columns=['family_status','education'])\n",
    "data.columns"
   ]
  },
  {
   "cell_type": "markdown",
   "id": "595745b0",
   "metadata": {},
   "source": [
    "### Шаг 2.6. Категоризация дохода."
   ]
  },
  {
   "cell_type": "markdown",
   "id": "8f76639c",
   "metadata": {},
   "source": [
    "Опишем функцию которая возвращает категорию в зависимости от дохода\n",
    "- 0–30000 — 'E';\n",
    "- 30001–50000 — 'D';\n",
    "- 50001–200000 — 'C';\n",
    "- 200001–1000000 — 'B';\n",
    "- 1000001 и выше — 'A'.\n",
    "И проверим как она работает"
   ]
  },
  {
   "cell_type": "code",
   "execution_count": 27,
   "id": "8783a59f",
   "metadata": {},
   "outputs": [
    {
     "data": {
      "text/plain": [
       "'E'"
      ]
     },
     "metadata": {},
     "output_type": "display_data"
    },
    {
     "data": {
      "text/plain": [
       "'C'"
      ]
     },
     "execution_count": 27,
     "metadata": {},
     "output_type": "execute_result"
    }
   ],
   "source": [
    "def income_category(income):\n",
    "    if 0<=income<=30000:\n",
    "        return 'E'\n",
    "    elif 30001<=income<=50000:\n",
    "        return 'D'\n",
    "    elif 50001<=income<=200000:\n",
    "        return 'C'\n",
    "    elif 200001<=income<1000000:\n",
    "        return 'B'\n",
    "    else:\n",
    "        return 'A'\n",
    "display(income_category(20000))\n",
    "income_category(50001)"
   ]
  },
  {
   "cell_type": "markdown",
   "id": "c013e2c3",
   "metadata": {},
   "source": [
    "Создадим столбец `total_income_category` методом `apply()` и посмотрим шапку."
   ]
  },
  {
   "cell_type": "code",
   "execution_count": 28,
   "id": "bdc33aef",
   "metadata": {
    "scrolled": false
   },
   "outputs": [
    {
     "data": {
      "text/html": [
       "<div>\n",
       "<style scoped>\n",
       "    .dataframe tbody tr th:only-of-type {\n",
       "        vertical-align: middle;\n",
       "    }\n",
       "\n",
       "    .dataframe tbody tr th {\n",
       "        vertical-align: top;\n",
       "    }\n",
       "\n",
       "    .dataframe thead th {\n",
       "        text-align: right;\n",
       "    }\n",
       "</style>\n",
       "<table border=\"1\" class=\"dataframe\">\n",
       "  <thead>\n",
       "    <tr style=\"text-align: right;\">\n",
       "      <th></th>\n",
       "      <th>children</th>\n",
       "      <th>days_employed</th>\n",
       "      <th>dob_years</th>\n",
       "      <th>education_id</th>\n",
       "      <th>family_status_id</th>\n",
       "      <th>gender</th>\n",
       "      <th>income_type</th>\n",
       "      <th>debt</th>\n",
       "      <th>total_income</th>\n",
       "      <th>purpose</th>\n",
       "      <th>total_income_category</th>\n",
       "    </tr>\n",
       "  </thead>\n",
       "  <tbody>\n",
       "    <tr>\n",
       "      <th>0</th>\n",
       "      <td>1</td>\n",
       "      <td>8437.673028</td>\n",
       "      <td>42</td>\n",
       "      <td>0</td>\n",
       "      <td>0</td>\n",
       "      <td>F</td>\n",
       "      <td>сотрудник</td>\n",
       "      <td>0</td>\n",
       "      <td>253875</td>\n",
       "      <td>покупка жилья</td>\n",
       "      <td>B</td>\n",
       "    </tr>\n",
       "    <tr>\n",
       "      <th>1</th>\n",
       "      <td>1</td>\n",
       "      <td>4024.803754</td>\n",
       "      <td>36</td>\n",
       "      <td>1</td>\n",
       "      <td>0</td>\n",
       "      <td>F</td>\n",
       "      <td>сотрудник</td>\n",
       "      <td>0</td>\n",
       "      <td>112080</td>\n",
       "      <td>приобретение автомобиля</td>\n",
       "      <td>C</td>\n",
       "    </tr>\n",
       "    <tr>\n",
       "      <th>2</th>\n",
       "      <td>0</td>\n",
       "      <td>5623.422610</td>\n",
       "      <td>33</td>\n",
       "      <td>1</td>\n",
       "      <td>0</td>\n",
       "      <td>M</td>\n",
       "      <td>сотрудник</td>\n",
       "      <td>0</td>\n",
       "      <td>145885</td>\n",
       "      <td>покупка жилья</td>\n",
       "      <td>C</td>\n",
       "    </tr>\n",
       "    <tr>\n",
       "      <th>3</th>\n",
       "      <td>3</td>\n",
       "      <td>4124.747207</td>\n",
       "      <td>32</td>\n",
       "      <td>1</td>\n",
       "      <td>0</td>\n",
       "      <td>M</td>\n",
       "      <td>сотрудник</td>\n",
       "      <td>0</td>\n",
       "      <td>267628</td>\n",
       "      <td>дополнительное образование</td>\n",
       "      <td>B</td>\n",
       "    </tr>\n",
       "    <tr>\n",
       "      <th>4</th>\n",
       "      <td>0</td>\n",
       "      <td>340266.072047</td>\n",
       "      <td>53</td>\n",
       "      <td>1</td>\n",
       "      <td>1</td>\n",
       "      <td>F</td>\n",
       "      <td>пенсионер</td>\n",
       "      <td>0</td>\n",
       "      <td>158616</td>\n",
       "      <td>сыграть свадьбу</td>\n",
       "      <td>C</td>\n",
       "    </tr>\n",
       "  </tbody>\n",
       "</table>\n",
       "</div>"
      ],
      "text/plain": [
       "   children  days_employed  dob_years  education_id  family_status_id gender  \\\n",
       "0         1    8437.673028         42             0                 0      F   \n",
       "1         1    4024.803754         36             1                 0      F   \n",
       "2         0    5623.422610         33             1                 0      M   \n",
       "3         3    4124.747207         32             1                 0      M   \n",
       "4         0  340266.072047         53             1                 1      F   \n",
       "\n",
       "  income_type  debt  total_income                     purpose  \\\n",
       "0   сотрудник     0        253875               покупка жилья   \n",
       "1   сотрудник     0        112080     приобретение автомобиля   \n",
       "2   сотрудник     0        145885               покупка жилья   \n",
       "3   сотрудник     0        267628  дополнительное образование   \n",
       "4   пенсионер     0        158616             сыграть свадьбу   \n",
       "\n",
       "  total_income_category  \n",
       "0                     B  \n",
       "1                     C  \n",
       "2                     C  \n",
       "3                     B  \n",
       "4                     C  "
      ]
     },
     "execution_count": 28,
     "metadata": {},
     "output_type": "execute_result"
    }
   ],
   "source": [
    "data['total_income_category'] = data['total_income'].apply(income_category)\n",
    "data.head()"
   ]
  },
  {
   "cell_type": "markdown",
   "id": "b6cd30ab",
   "metadata": {},
   "source": [
    "Интересно, сколько человек получают больше 1000000 рублей в месяц"
   ]
  },
  {
   "cell_type": "code",
   "execution_count": 29,
   "id": "069123b6",
   "metadata": {},
   "outputs": [
    {
     "data": {
      "text/plain": [
       "C    15960\n",
       "B     5020\n",
       "D      350\n",
       "A       25\n",
       "E       22\n",
       "Name: total_income_category, dtype: int64"
      ]
     },
     "execution_count": 29,
     "metadata": {},
     "output_type": "execute_result"
    }
   ],
   "source": [
    "data['total_income_category'].value_counts()"
   ]
  },
  {
   "cell_type": "markdown",
   "id": "d514e182",
   "metadata": {},
   "source": [
    "### Шаг 2.7. Категоризация целей кредита."
   ]
  },
  {
   "cell_type": "markdown",
   "id": "ec198760",
   "metadata": {},
   "source": [
    "Напишем функцию, которая будет возвращать категорию кредита\n",
    "- 'операции с автомобилем',\n",
    "- 'операции с недвижимостью',\n",
    "- 'проведение свадьбы',\n",
    "- 'получение образования'.\n",
    "\n",
    "Но сначала посмотрим на уникальные значения в столбце `purpose`"
   ]
  },
  {
   "cell_type": "code",
   "execution_count": 30,
   "id": "1a6b1055",
   "metadata": {},
   "outputs": [
    {
     "data": {
      "text/plain": [
       "свадьба                                   790\n",
       "на проведение свадьбы                     764\n",
       "сыграть свадьбу                           761\n",
       "операции с недвижимостью                  674\n",
       "покупка коммерческой недвижимости         658\n",
       "покупка жилья для сдачи                   650\n",
       "операции с жильем                         648\n",
       "операции с коммерческой недвижимостью     646\n",
       "покупка жилья                             643\n",
       "жилье                                     642\n",
       "покупка жилья для семьи                   637\n",
       "недвижимость                              632\n",
       "строительство собственной недвижимости    629\n",
       "операции со своей недвижимостью           626\n",
       "строительство жилой недвижимости          623\n",
       "покупка своего жилья                      620\n",
       "строительство недвижимости                619\n",
       "покупка недвижимости                      618\n",
       "ремонт жилью                              605\n",
       "покупка жилой недвижимости                604\n",
       "на покупку своего автомобиля              505\n",
       "заняться высшим образованием              496\n",
       "автомобиль                                493\n",
       "сделка с подержанным автомобилем          482\n",
       "автомобили                                477\n",
       "свой автомобиль                           475\n",
       "на покупку подержанного автомобиля        472\n",
       "на покупку автомобиля                     470\n",
       "приобретение автомобиля                   461\n",
       "дополнительное образование                457\n",
       "сделка с автомобилем                      455\n",
       "высшее образование                        447\n",
       "образование                               445\n",
       "получение дополнительного образования     445\n",
       "получение образования                     441\n",
       "профильное образование                    434\n",
       "получение высшего образования             425\n",
       "заняться образованием                     408\n",
       "Name: purpose, dtype: int64"
      ]
     },
     "execution_count": 30,
     "metadata": {},
     "output_type": "execute_result"
    }
   ],
   "source": [
    "data['purpose'].value_counts()"
   ]
  },
  {
   "cell_type": "markdown",
   "id": "79f90e8b",
   "metadata": {},
   "source": [
    "Жилье и недвижимость попадают в одну категорию 'операции с недвижимостью'. Бидем проверять, чтобы в строке было 'жиль' или 'недвижим'.<br>\n",
    "В 'операции с автомобилем' попадут строки, где есть 'автомоб'.<br>\n",
    "В 'проведение свадьбы', где есть 'свадьб'.<br>\n",
    "В 'получение образования', где есть 'образован'\n",
    "\n",
    "\n",
    "\n"
   ]
  },
  {
   "cell_type": "code",
   "execution_count": 31,
   "id": "ff8d6ef9",
   "metadata": {},
   "outputs": [],
   "source": [
    "def purpose_category(purpose):\n",
    "    if 'автомоб' in purpose:\n",
    "        return 'операции с автомобилем'\n",
    "    elif 'жиль' in purpose or 'недвижим' in purpose:\n",
    "        return 'операции с недвижимостью'\n",
    "    elif 'свадьб' in purpose:\n",
    "        return 'проведение свадьбы'\n",
    "    elif 'образован' in purpose:\n",
    "        return 'получение образования'\n",
    "    else:\n",
    "        return 'unknown'\n",
    "    "
   ]
  },
  {
   "cell_type": "markdown",
   "id": "0cffeb5f",
   "metadata": {},
   "source": [
    "Применим полученную функцию к столбцу `purpose`"
   ]
  },
  {
   "cell_type": "code",
   "execution_count": 32,
   "id": "51e94668",
   "metadata": {
    "scrolled": false
   },
   "outputs": [
    {
     "data": {
      "text/html": [
       "<div>\n",
       "<style scoped>\n",
       "    .dataframe tbody tr th:only-of-type {\n",
       "        vertical-align: middle;\n",
       "    }\n",
       "\n",
       "    .dataframe tbody tr th {\n",
       "        vertical-align: top;\n",
       "    }\n",
       "\n",
       "    .dataframe thead th {\n",
       "        text-align: right;\n",
       "    }\n",
       "</style>\n",
       "<table border=\"1\" class=\"dataframe\">\n",
       "  <thead>\n",
       "    <tr style=\"text-align: right;\">\n",
       "      <th></th>\n",
       "      <th>children</th>\n",
       "      <th>days_employed</th>\n",
       "      <th>dob_years</th>\n",
       "      <th>education_id</th>\n",
       "      <th>family_status_id</th>\n",
       "      <th>gender</th>\n",
       "      <th>income_type</th>\n",
       "      <th>debt</th>\n",
       "      <th>total_income</th>\n",
       "      <th>purpose</th>\n",
       "      <th>total_income_category</th>\n",
       "      <th>purpose_category</th>\n",
       "    </tr>\n",
       "  </thead>\n",
       "  <tbody>\n",
       "    <tr>\n",
       "      <th>0</th>\n",
       "      <td>1</td>\n",
       "      <td>8437.673028</td>\n",
       "      <td>42</td>\n",
       "      <td>0</td>\n",
       "      <td>0</td>\n",
       "      <td>F</td>\n",
       "      <td>сотрудник</td>\n",
       "      <td>0</td>\n",
       "      <td>253875</td>\n",
       "      <td>покупка жилья</td>\n",
       "      <td>B</td>\n",
       "      <td>операции с недвижимостью</td>\n",
       "    </tr>\n",
       "    <tr>\n",
       "      <th>1</th>\n",
       "      <td>1</td>\n",
       "      <td>4024.803754</td>\n",
       "      <td>36</td>\n",
       "      <td>1</td>\n",
       "      <td>0</td>\n",
       "      <td>F</td>\n",
       "      <td>сотрудник</td>\n",
       "      <td>0</td>\n",
       "      <td>112080</td>\n",
       "      <td>приобретение автомобиля</td>\n",
       "      <td>C</td>\n",
       "      <td>операции с автомобилем</td>\n",
       "    </tr>\n",
       "    <tr>\n",
       "      <th>2</th>\n",
       "      <td>0</td>\n",
       "      <td>5623.422610</td>\n",
       "      <td>33</td>\n",
       "      <td>1</td>\n",
       "      <td>0</td>\n",
       "      <td>M</td>\n",
       "      <td>сотрудник</td>\n",
       "      <td>0</td>\n",
       "      <td>145885</td>\n",
       "      <td>покупка жилья</td>\n",
       "      <td>C</td>\n",
       "      <td>операции с недвижимостью</td>\n",
       "    </tr>\n",
       "    <tr>\n",
       "      <th>3</th>\n",
       "      <td>3</td>\n",
       "      <td>4124.747207</td>\n",
       "      <td>32</td>\n",
       "      <td>1</td>\n",
       "      <td>0</td>\n",
       "      <td>M</td>\n",
       "      <td>сотрудник</td>\n",
       "      <td>0</td>\n",
       "      <td>267628</td>\n",
       "      <td>дополнительное образование</td>\n",
       "      <td>B</td>\n",
       "      <td>получение образования</td>\n",
       "    </tr>\n",
       "    <tr>\n",
       "      <th>4</th>\n",
       "      <td>0</td>\n",
       "      <td>340266.072047</td>\n",
       "      <td>53</td>\n",
       "      <td>1</td>\n",
       "      <td>1</td>\n",
       "      <td>F</td>\n",
       "      <td>пенсионер</td>\n",
       "      <td>0</td>\n",
       "      <td>158616</td>\n",
       "      <td>сыграть свадьбу</td>\n",
       "      <td>C</td>\n",
       "      <td>проведение свадьбы</td>\n",
       "    </tr>\n",
       "  </tbody>\n",
       "</table>\n",
       "</div>"
      ],
      "text/plain": [
       "   children  days_employed  dob_years  education_id  family_status_id gender  \\\n",
       "0         1    8437.673028         42             0                 0      F   \n",
       "1         1    4024.803754         36             1                 0      F   \n",
       "2         0    5623.422610         33             1                 0      M   \n",
       "3         3    4124.747207         32             1                 0      M   \n",
       "4         0  340266.072047         53             1                 1      F   \n",
       "\n",
       "  income_type  debt  total_income                     purpose  \\\n",
       "0   сотрудник     0        253875               покупка жилья   \n",
       "1   сотрудник     0        112080     приобретение автомобиля   \n",
       "2   сотрудник     0        145885               покупка жилья   \n",
       "3   сотрудник     0        267628  дополнительное образование   \n",
       "4   пенсионер     0        158616             сыграть свадьбу   \n",
       "\n",
       "  total_income_category          purpose_category  \n",
       "0                     B  операции с недвижимостью  \n",
       "1                     C    операции с автомобилем  \n",
       "2                     C  операции с недвижимостью  \n",
       "3                     B     получение образования  \n",
       "4                     C        проведение свадьбы  "
      ]
     },
     "execution_count": 32,
     "metadata": {},
     "output_type": "execute_result"
    }
   ],
   "source": [
    "data['purpose_category'] = data['purpose'].apply(purpose_category)\n",
    "data.head()"
   ]
  },
  {
   "cell_type": "markdown",
   "id": "35e880d2",
   "metadata": {},
   "source": [
    "Посмотрим как она сработала, заменила ли она все значения на нужные категории?"
   ]
  },
  {
   "cell_type": "code",
   "execution_count": 33,
   "id": "6d4ff15b",
   "metadata": {
    "scrolled": true
   },
   "outputs": [
    {
     "data": {
      "text/plain": [
       "операции с недвижимостью    10774\n",
       "операции с автомобилем       4290\n",
       "получение образования        3998\n",
       "проведение свадьбы           2315\n",
       "Name: purpose_category, dtype: int64"
      ]
     },
     "execution_count": 33,
     "metadata": {},
     "output_type": "execute_result"
    }
   ],
   "source": [
    "data['purpose_category'].value_counts()"
   ]
  },
  {
   "cell_type": "markdown",
   "id": "b1b2099d",
   "metadata": {},
   "source": [
    "### Ответы на вопросы."
   ]
  },
  {
   "cell_type": "markdown",
   "id": "bb8b85fe",
   "metadata": {},
   "source": [
    "##### Вопрос 1: Есть ли зависимость между количеством детей и возвратом кредита в срок?"
   ]
  },
  {
   "cell_type": "markdown",
   "id": "aac5f961",
   "metadata": {},
   "source": [
    "Сначала сгруппируем данные до количеству детей и посмотрим, есть ли зависимость между количиством детей и наличием долга."
   ]
  },
  {
   "cell_type": "code",
   "execution_count": 34,
   "id": "449fd610",
   "metadata": {},
   "outputs": [
    {
     "data": {
      "text/html": [
       "<div>\n",
       "<style scoped>\n",
       "    .dataframe tbody tr th:only-of-type {\n",
       "        vertical-align: middle;\n",
       "    }\n",
       "\n",
       "    .dataframe tbody tr th {\n",
       "        vertical-align: top;\n",
       "    }\n",
       "\n",
       "    .dataframe thead th {\n",
       "        text-align: right;\n",
       "    }\n",
       "</style>\n",
       "<table border=\"1\" class=\"dataframe\">\n",
       "  <thead>\n",
       "    <tr style=\"text-align: right;\">\n",
       "      <th></th>\n",
       "      <th>mean</th>\n",
       "      <th>count</th>\n",
       "      <th>sum</th>\n",
       "    </tr>\n",
       "    <tr>\n",
       "      <th>children</th>\n",
       "      <th></th>\n",
       "      <th></th>\n",
       "      <th></th>\n",
       "    </tr>\n",
       "  </thead>\n",
       "  <tbody>\n",
       "    <tr>\n",
       "      <th>0</th>\n",
       "      <td>0.075263</td>\n",
       "      <td>14137</td>\n",
       "      <td>1064</td>\n",
       "    </tr>\n",
       "    <tr>\n",
       "      <th>1</th>\n",
       "      <td>0.092346</td>\n",
       "      <td>4808</td>\n",
       "      <td>444</td>\n",
       "    </tr>\n",
       "    <tr>\n",
       "      <th>2</th>\n",
       "      <td>0.094542</td>\n",
       "      <td>2052</td>\n",
       "      <td>194</td>\n",
       "    </tr>\n",
       "    <tr>\n",
       "      <th>3</th>\n",
       "      <td>0.081818</td>\n",
       "      <td>330</td>\n",
       "      <td>27</td>\n",
       "    </tr>\n",
       "    <tr>\n",
       "      <th>4</th>\n",
       "      <td>0.097561</td>\n",
       "      <td>41</td>\n",
       "      <td>4</td>\n",
       "    </tr>\n",
       "    <tr>\n",
       "      <th>5</th>\n",
       "      <td>0.000000</td>\n",
       "      <td>9</td>\n",
       "      <td>0</td>\n",
       "    </tr>\n",
       "  </tbody>\n",
       "</table>\n",
       "</div>"
      ],
      "text/plain": [
       "              mean  count   sum\n",
       "children                       \n",
       "0         0.075263  14137  1064\n",
       "1         0.092346   4808   444\n",
       "2         0.094542   2052   194\n",
       "3         0.081818    330    27\n",
       "4         0.097561     41     4\n",
       "5         0.000000      9     0"
      ]
     },
     "execution_count": 34,
     "metadata": {},
     "output_type": "execute_result"
    }
   ],
   "source": [
    "data.groupby('children')['debt'].agg(['mean','count','sum'])"
   ]
  },
  {
   "cell_type": "markdown",
   "id": "01016831",
   "metadata": {},
   "source": [
    "На первый взгляд очевидно, что чем меньше детей, тем больше долгов. Посмотрим сколько всего людей с детьми взяли кредиты."
   ]
  },
  {
   "cell_type": "code",
   "execution_count": 35,
   "id": "69fc44d8",
   "metadata": {
    "scrolled": true
   },
   "outputs": [
    {
     "data": {
      "text/plain": [
       "children\n",
       "0    14137\n",
       "1     4808\n",
       "2     2052\n",
       "3      330\n",
       "4       41\n",
       "5        9\n",
       "Name: debt, dtype: int64"
      ]
     },
     "execution_count": 35,
     "metadata": {},
     "output_type": "execute_result"
    }
   ],
   "source": [
    "data.groupby('children')['debt'].count()\n"
   ]
  },
  {
   "cell_type": "markdown",
   "id": "59bb95b1",
   "metadata": {},
   "source": [
    "Бездетные взяли больше всего кредитов, поэтому у них и больше неплатежей.\n",
    "Нужно посмотреть долю неплатежей относительно общего числа кредитов в группе. \n",
    "Среднее как раз показывает отношение неплатежей к общему числу кредитов. Посчитаем процент неплатежей по кредиту для каждой группы."
   ]
  },
  {
   "cell_type": "code",
   "execution_count": 36,
   "id": "3f588c52",
   "metadata": {},
   "outputs": [
    {
     "data": {
      "text/plain": [
       "children\n",
       "0    7\n",
       "1    9\n",
       "2    9\n",
       "3    8\n",
       "4    9\n",
       "5    0\n",
       "Name: debt, dtype: int32"
      ]
     },
     "execution_count": 36,
     "metadata": {},
     "output_type": "execute_result"
    }
   ],
   "source": [
    "(data.groupby('children')['debt'].mean()*100).astype('int')"
   ]
  },
  {
   "cell_type": "markdown",
   "id": "5372a133",
   "metadata": {},
   "source": [
    "Явной связи между количеством детей и неплатежами по кредиту нет. Те у кого 5 детей почти не берут кредиты, но платят вовремя. Семей с 5 детьми достаточно мало."
   ]
  },
  {
   "cell_type": "markdown",
   "id": "b2e45f39",
   "metadata": {},
   "source": []
  },
  {
   "cell_type": "markdown",
   "id": "af7ba231",
   "metadata": {},
   "source": [
    "Посмотрим есть ли зависимость с семейным положением. Создадим сводную таблицу со средними значениями."
   ]
  },
  {
   "cell_type": "code",
   "execution_count": 37,
   "id": "b1acf240",
   "metadata": {
    "scrolled": true
   },
   "outputs": [
    {
     "data": {
      "text/html": [
       "<div>\n",
       "<style scoped>\n",
       "    .dataframe tbody tr th:only-of-type {\n",
       "        vertical-align: middle;\n",
       "    }\n",
       "\n",
       "    .dataframe tbody tr th {\n",
       "        vertical-align: top;\n",
       "    }\n",
       "\n",
       "    .dataframe thead th {\n",
       "        text-align: right;\n",
       "    }\n",
       "</style>\n",
       "<table border=\"1\" class=\"dataframe\">\n",
       "  <thead>\n",
       "    <tr style=\"text-align: right;\">\n",
       "      <th>children</th>\n",
       "      <th>0</th>\n",
       "      <th>1</th>\n",
       "      <th>2</th>\n",
       "      <th>3</th>\n",
       "      <th>4</th>\n",
       "      <th>5</th>\n",
       "    </tr>\n",
       "    <tr>\n",
       "      <th>family_status_id</th>\n",
       "      <th></th>\n",
       "      <th></th>\n",
       "      <th></th>\n",
       "      <th></th>\n",
       "      <th></th>\n",
       "      <th></th>\n",
       "    </tr>\n",
       "  </thead>\n",
       "  <tbody>\n",
       "    <tr>\n",
       "      <th>женат / замужем</th>\n",
       "      <td>6</td>\n",
       "      <td>8</td>\n",
       "      <td>9</td>\n",
       "      <td>6</td>\n",
       "      <td>10</td>\n",
       "      <td>0</td>\n",
       "    </tr>\n",
       "    <tr>\n",
       "      <th>гражданский брак</th>\n",
       "      <td>8</td>\n",
       "      <td>11</td>\n",
       "      <td>8</td>\n",
       "      <td>14</td>\n",
       "      <td>0</td>\n",
       "      <td>0</td>\n",
       "    </tr>\n",
       "    <tr>\n",
       "      <th>вдовец / вдова</th>\n",
       "      <td>6</td>\n",
       "      <td>9</td>\n",
       "      <td>15</td>\n",
       "      <td>0</td>\n",
       "      <td>0</td>\n",
       "      <td>0</td>\n",
       "    </tr>\n",
       "    <tr>\n",
       "      <th>в разводе</th>\n",
       "      <td>6</td>\n",
       "      <td>6</td>\n",
       "      <td>8</td>\n",
       "      <td>9</td>\n",
       "      <td>0</td>\n",
       "      <td>0</td>\n",
       "    </tr>\n",
       "    <tr>\n",
       "      <th>не женат / не замужем</th>\n",
       "      <td>9</td>\n",
       "      <td>11</td>\n",
       "      <td>12</td>\n",
       "      <td>12</td>\n",
       "      <td>50</td>\n",
       "      <td>0</td>\n",
       "    </tr>\n",
       "  </tbody>\n",
       "</table>\n",
       "</div>"
      ],
      "text/plain": [
       "children               0   1   2   3   4  5\n",
       "family_status_id                           \n",
       "женат / замужем        6   8   9   6  10  0\n",
       "гражданский брак       8  11   8  14   0  0\n",
       "вдовец / вдова         6   9  15   0   0  0\n",
       "в разводе              6   6   8   9   0  0\n",
       "не женат / не замужем  9  11  12  12  50  0"
      ]
     },
     "execution_count": 37,
     "metadata": {},
     "output_type": "execute_result"
    }
   ],
   "source": [
    "data_pivot = data.pivot_table(index=['family_status_id'],columns='children', values='debt', aggfunc='mean',dropna=True, fill_value=0)\n",
    "data_pivot =(data_pivot.rename(index = dict(family_status_df.values))*100).astype('int')\n",
    "data_pivot"
   ]
  },
  {
   "cell_type": "markdown",
   "id": "63d0bcb3",
   "metadata": {},
   "source": [
    "Доля неплатежей среди неженатых с 4 детьми 50%. Скорее всего выборка в этой категории нерепрезентативная. Посмотрим, сколько всего человек брали кредит."
   ]
  },
  {
   "cell_type": "code",
   "execution_count": 38,
   "id": "4a32d202",
   "metadata": {},
   "outputs": [
    {
     "data": {
      "text/html": [
       "<div>\n",
       "<style scoped>\n",
       "    .dataframe tbody tr th:only-of-type {\n",
       "        vertical-align: middle;\n",
       "    }\n",
       "\n",
       "    .dataframe tbody tr th {\n",
       "        vertical-align: top;\n",
       "    }\n",
       "\n",
       "    .dataframe thead th {\n",
       "        text-align: right;\n",
       "    }\n",
       "</style>\n",
       "<table border=\"1\" class=\"dataframe\">\n",
       "  <thead>\n",
       "    <tr style=\"text-align: right;\">\n",
       "      <th>children</th>\n",
       "      <th>0</th>\n",
       "      <th>1</th>\n",
       "      <th>2</th>\n",
       "      <th>3</th>\n",
       "      <th>4</th>\n",
       "      <th>5</th>\n",
       "    </tr>\n",
       "    <tr>\n",
       "      <th>family_status_id</th>\n",
       "      <th></th>\n",
       "      <th></th>\n",
       "      <th></th>\n",
       "      <th></th>\n",
       "      <th></th>\n",
       "      <th></th>\n",
       "    </tr>\n",
       "  </thead>\n",
       "  <tbody>\n",
       "    <tr>\n",
       "      <th>женат / замужем</th>\n",
       "      <td>7497</td>\n",
       "      <td>2975</td>\n",
       "      <td>1533</td>\n",
       "      <td>249</td>\n",
       "      <td>29</td>\n",
       "      <td>7</td>\n",
       "    </tr>\n",
       "    <tr>\n",
       "      <th>гражданский брак</th>\n",
       "      <td>2734</td>\n",
       "      <td>995</td>\n",
       "      <td>343</td>\n",
       "      <td>56</td>\n",
       "      <td>8</td>\n",
       "      <td>2</td>\n",
       "    </tr>\n",
       "    <tr>\n",
       "      <th>вдовец / вдова</th>\n",
       "      <td>851</td>\n",
       "      <td>77</td>\n",
       "      <td>20</td>\n",
       "      <td>6</td>\n",
       "      <td>1</td>\n",
       "      <td>0</td>\n",
       "    </tr>\n",
       "    <tr>\n",
       "      <th>в разводе</th>\n",
       "      <td>788</td>\n",
       "      <td>312</td>\n",
       "      <td>81</td>\n",
       "      <td>11</td>\n",
       "      <td>1</td>\n",
       "      <td>0</td>\n",
       "    </tr>\n",
       "    <tr>\n",
       "      <th>не женат / не замужем</th>\n",
       "      <td>2267</td>\n",
       "      <td>449</td>\n",
       "      <td>75</td>\n",
       "      <td>8</td>\n",
       "      <td>2</td>\n",
       "      <td>0</td>\n",
       "    </tr>\n",
       "  </tbody>\n",
       "</table>\n",
       "</div>"
      ],
      "text/plain": [
       "children                  0     1     2    3   4  5\n",
       "family_status_id                                   \n",
       "женат / замужем        7497  2975  1533  249  29  7\n",
       "гражданский брак       2734   995   343   56   8  2\n",
       "вдовец / вдова          851    77    20    6   1  0\n",
       "в разводе               788   312    81   11   1  0\n",
       "не женат / не замужем  2267   449    75    8   2  0"
      ]
     },
     "execution_count": 38,
     "metadata": {},
     "output_type": "execute_result"
    }
   ],
   "source": [
    "data_pivot = data.pivot_table(index=['family_status_id'],columns='children', values='debt', aggfunc='count',dropna=True, fill_value=0)\n",
    "data_pivot =data_pivot.rename(index = dict(family_status_df.values))\n",
    "data_pivot"
   ]
  },
  {
   "cell_type": "markdown",
   "id": "c2d4fbc1",
   "metadata": {},
   "source": [
    "Всего двое неженатых с 4 детьми взяли кредит и один из них не заплатил вовремя."
   ]
  },
  {
   "cell_type": "markdown",
   "id": "2221bd86",
   "metadata": {},
   "source": [
    "Посмотрим связь неплатежей с количеством детей и образованием."
   ]
  },
  {
   "cell_type": "code",
   "execution_count": 39,
   "id": "b48e02c2",
   "metadata": {},
   "outputs": [
    {
     "data": {
      "text/html": [
       "<div>\n",
       "<style scoped>\n",
       "    .dataframe tbody tr th:only-of-type {\n",
       "        vertical-align: middle;\n",
       "    }\n",
       "\n",
       "    .dataframe tbody tr th {\n",
       "        vertical-align: top;\n",
       "    }\n",
       "\n",
       "    .dataframe thead th {\n",
       "        text-align: right;\n",
       "    }\n",
       "</style>\n",
       "<table border=\"1\" class=\"dataframe\">\n",
       "  <thead>\n",
       "    <tr style=\"text-align: right;\">\n",
       "      <th>children</th>\n",
       "      <th>0</th>\n",
       "      <th>1</th>\n",
       "      <th>2</th>\n",
       "      <th>3</th>\n",
       "      <th>4</th>\n",
       "      <th>5</th>\n",
       "    </tr>\n",
       "    <tr>\n",
       "      <th>education_id</th>\n",
       "      <th></th>\n",
       "      <th></th>\n",
       "      <th></th>\n",
       "      <th></th>\n",
       "      <th></th>\n",
       "      <th></th>\n",
       "    </tr>\n",
       "  </thead>\n",
       "  <tbody>\n",
       "    <tr>\n",
       "      <th>высшее</th>\n",
       "      <td>5</td>\n",
       "      <td>5</td>\n",
       "      <td>5</td>\n",
       "      <td>4</td>\n",
       "      <td>0</td>\n",
       "      <td>0</td>\n",
       "    </tr>\n",
       "    <tr>\n",
       "      <th>среднее</th>\n",
       "      <td>8</td>\n",
       "      <td>10</td>\n",
       "      <td>10</td>\n",
       "      <td>9</td>\n",
       "      <td>12</td>\n",
       "      <td>0</td>\n",
       "    </tr>\n",
       "    <tr>\n",
       "      <th>неоконченное высшее</th>\n",
       "      <td>7</td>\n",
       "      <td>11</td>\n",
       "      <td>12</td>\n",
       "      <td>25</td>\n",
       "      <td>0</td>\n",
       "      <td>0</td>\n",
       "    </tr>\n",
       "    <tr>\n",
       "      <th>начальное</th>\n",
       "      <td>7</td>\n",
       "      <td>16</td>\n",
       "      <td>24</td>\n",
       "      <td>0</td>\n",
       "      <td>0</td>\n",
       "      <td>0</td>\n",
       "    </tr>\n",
       "    <tr>\n",
       "      <th>ученая степень</th>\n",
       "      <td>0</td>\n",
       "      <td>0</td>\n",
       "      <td>0</td>\n",
       "      <td>0</td>\n",
       "      <td>0</td>\n",
       "      <td>0</td>\n",
       "    </tr>\n",
       "  </tbody>\n",
       "</table>\n",
       "</div>"
      ],
      "text/plain": [
       "children             0   1   2   3   4  5\n",
       "education_id                             \n",
       "высшее               5   5   5   4   0  0\n",
       "среднее              8  10  10   9  12  0\n",
       "неоконченное высшее  7  11  12  25   0  0\n",
       "начальное            7  16  24   0   0  0\n",
       "ученая степень       0   0   0   0   0  0"
      ]
     },
     "execution_count": 39,
     "metadata": {},
     "output_type": "execute_result"
    }
   ],
   "source": [
    "data_pivot = data.pivot_table(index=['education_id'],columns='children', values='debt', aggfunc='mean',dropna=True, fill_value=0)\n",
    "data_pivot = (data_pivot.rename(index=dict(education_df.values))*100).astype('int')\n",
    "data_pivot"
   ]
  },
  {
   "cell_type": "markdown",
   "id": "c7a68e88",
   "metadata": {},
   "source": [
    "Наибольший процент неплатежей у людей c неоконченным высшим образованием и 3 детьми. Примерно такой же процент неплатежей у людей с начальным образованием и 2 детьми. У людей со средним и высшим образованием процент неплатежей практически не зависит от количества детей и составляет ~ 10% и ~ 5 % соответственно.Кандидаты и доктора наук платят по кредитам вовремя, но и кредитов они берут мало."
   ]
  },
  {
   "cell_type": "markdown",
   "id": "4e1c281c",
   "metadata": {},
   "source": [
    "Создадим сводную таблицу с целью кредита и количеством детей."
   ]
  },
  {
   "cell_type": "code",
   "execution_count": 40,
   "id": "bd37e522",
   "metadata": {},
   "outputs": [
    {
     "data": {
      "text/html": [
       "<div>\n",
       "<style scoped>\n",
       "    .dataframe tbody tr th:only-of-type {\n",
       "        vertical-align: middle;\n",
       "    }\n",
       "\n",
       "    .dataframe tbody tr th {\n",
       "        vertical-align: top;\n",
       "    }\n",
       "\n",
       "    .dataframe thead th {\n",
       "        text-align: right;\n",
       "    }\n",
       "</style>\n",
       "<table border=\"1\" class=\"dataframe\">\n",
       "  <thead>\n",
       "    <tr style=\"text-align: right;\">\n",
       "      <th>children</th>\n",
       "      <th>0</th>\n",
       "      <th>1</th>\n",
       "      <th>2</th>\n",
       "      <th>3</th>\n",
       "      <th>4</th>\n",
       "      <th>5</th>\n",
       "    </tr>\n",
       "    <tr>\n",
       "      <th>purpose_category</th>\n",
       "      <th></th>\n",
       "      <th></th>\n",
       "      <th></th>\n",
       "      <th></th>\n",
       "      <th></th>\n",
       "      <th></th>\n",
       "    </tr>\n",
       "  </thead>\n",
       "  <tbody>\n",
       "    <tr>\n",
       "      <th>операции с автомобилем</th>\n",
       "      <td>8</td>\n",
       "      <td>10</td>\n",
       "      <td>12</td>\n",
       "      <td>8</td>\n",
       "      <td>10</td>\n",
       "      <td>0</td>\n",
       "    </tr>\n",
       "    <tr>\n",
       "      <th>операции с недвижимостью</th>\n",
       "      <td>6</td>\n",
       "      <td>8</td>\n",
       "      <td>8</td>\n",
       "      <td>7</td>\n",
       "      <td>14</td>\n",
       "      <td>0</td>\n",
       "    </tr>\n",
       "    <tr>\n",
       "      <th>получение образования</th>\n",
       "      <td>8</td>\n",
       "      <td>10</td>\n",
       "      <td>11</td>\n",
       "      <td>5</td>\n",
       "      <td>0</td>\n",
       "      <td>0</td>\n",
       "    </tr>\n",
       "    <tr>\n",
       "      <th>проведение свадьбы</th>\n",
       "      <td>7</td>\n",
       "      <td>9</td>\n",
       "      <td>5</td>\n",
       "      <td>15</td>\n",
       "      <td>0</td>\n",
       "      <td>0</td>\n",
       "    </tr>\n",
       "  </tbody>\n",
       "</table>\n",
       "</div>"
      ],
      "text/plain": [
       "children                  0   1   2   3   4  5\n",
       "purpose_category                              \n",
       "операции с автомобилем    8  10  12   8  10  0\n",
       "операции с недвижимостью  6   8   8   7  14  0\n",
       "получение образования     8  10  11   5   0  0\n",
       "проведение свадьбы        7   9   5  15   0  0"
      ]
     },
     "execution_count": 40,
     "metadata": {},
     "output_type": "execute_result"
    }
   ],
   "source": [
    "data_pivot = data.pivot_table(index=['purpose_category'],columns='children', values='debt', aggfunc='mean',dropna=True, fill_value=0)\n",
    "(data_pivot*100).astype('int')"
   ]
  },
  {
   "cell_type": "markdown",
   "id": "43f4bc31",
   "metadata": {},
   "source": [
    "15% неплатежей у людей с 3 детьми, которые берут кредит на свадьбу. 14% неплатежей у людей с 4 детьми которые берут кредит на недвижимость."
   ]
  },
  {
   "cell_type": "markdown",
   "id": "2b27a990",
   "metadata": {},
   "source": [
    "Посмотрим на уровень дохода, тип занятости, количество детей и наличие задолженности."
   ]
  },
  {
   "cell_type": "code",
   "execution_count": 41,
   "id": "8d29322f",
   "metadata": {
    "scrolled": true
   },
   "outputs": [
    {
     "data": {
      "text/html": [
       "<div>\n",
       "<style scoped>\n",
       "    .dataframe tbody tr th:only-of-type {\n",
       "        vertical-align: middle;\n",
       "    }\n",
       "\n",
       "    .dataframe tbody tr th {\n",
       "        vertical-align: top;\n",
       "    }\n",
       "\n",
       "    .dataframe thead th {\n",
       "        text-align: right;\n",
       "    }\n",
       "</style>\n",
       "<table border=\"1\" class=\"dataframe\">\n",
       "  <thead>\n",
       "    <tr style=\"text-align: right;\">\n",
       "      <th>children</th>\n",
       "      <th>0</th>\n",
       "      <th>1</th>\n",
       "      <th>2</th>\n",
       "      <th>3</th>\n",
       "      <th>4</th>\n",
       "      <th>5</th>\n",
       "    </tr>\n",
       "    <tr>\n",
       "      <th>total_income_category</th>\n",
       "      <th></th>\n",
       "      <th></th>\n",
       "      <th></th>\n",
       "      <th></th>\n",
       "      <th></th>\n",
       "      <th></th>\n",
       "    </tr>\n",
       "  </thead>\n",
       "  <tbody>\n",
       "    <tr>\n",
       "      <th>A</th>\n",
       "      <td>8</td>\n",
       "      <td>11</td>\n",
       "      <td>0</td>\n",
       "      <td>0</td>\n",
       "      <td>0</td>\n",
       "      <td>0</td>\n",
       "    </tr>\n",
       "    <tr>\n",
       "      <th>B</th>\n",
       "      <td>6</td>\n",
       "      <td>7</td>\n",
       "      <td>8</td>\n",
       "      <td>4</td>\n",
       "      <td>14</td>\n",
       "      <td>0</td>\n",
       "    </tr>\n",
       "    <tr>\n",
       "      <th>C</th>\n",
       "      <td>7</td>\n",
       "      <td>9</td>\n",
       "      <td>9</td>\n",
       "      <td>9</td>\n",
       "      <td>8</td>\n",
       "      <td>0</td>\n",
       "    </tr>\n",
       "    <tr>\n",
       "      <th>D</th>\n",
       "      <td>4</td>\n",
       "      <td>6</td>\n",
       "      <td>11</td>\n",
       "      <td>20</td>\n",
       "      <td>0</td>\n",
       "      <td>0</td>\n",
       "    </tr>\n",
       "    <tr>\n",
       "      <th>E</th>\n",
       "      <td>11</td>\n",
       "      <td>0</td>\n",
       "      <td>0</td>\n",
       "      <td>0</td>\n",
       "      <td>0</td>\n",
       "      <td>0</td>\n",
       "    </tr>\n",
       "  </tbody>\n",
       "</table>\n",
       "</div>"
      ],
      "text/plain": [
       "children                0   1   2   3   4  5\n",
       "total_income_category                       \n",
       "A                       8  11   0   0   0  0\n",
       "B                       6   7   8   4  14  0\n",
       "C                       7   9   9   9   8  0\n",
       "D                       4   6  11  20   0  0\n",
       "E                      11   0   0   0   0  0"
      ]
     },
     "execution_count": 41,
     "metadata": {},
     "output_type": "execute_result"
    }
   ],
   "source": [
    "data_pivot = data.pivot_table(index=['total_income_category'],columns='children', values='debt', aggfunc='mean',dropna=True, fill_value=0)\n",
    "(data_pivot*100).astype('int')"
   ]
  },
  {
   "cell_type": "code",
   "execution_count": 42,
   "id": "13537916",
   "metadata": {},
   "outputs": [
    {
     "data": {
      "text/html": [
       "<div>\n",
       "<style scoped>\n",
       "    .dataframe tbody tr th:only-of-type {\n",
       "        vertical-align: middle;\n",
       "    }\n",
       "\n",
       "    .dataframe tbody tr th {\n",
       "        vertical-align: top;\n",
       "    }\n",
       "\n",
       "    .dataframe thead th {\n",
       "        text-align: right;\n",
       "    }\n",
       "</style>\n",
       "<table border=\"1\" class=\"dataframe\">\n",
       "  <thead>\n",
       "    <tr style=\"text-align: right;\">\n",
       "      <th>children</th>\n",
       "      <th>0</th>\n",
       "      <th>1</th>\n",
       "      <th>2</th>\n",
       "      <th>3</th>\n",
       "      <th>4</th>\n",
       "      <th>5</th>\n",
       "    </tr>\n",
       "    <tr>\n",
       "      <th>total_income_category</th>\n",
       "      <th></th>\n",
       "      <th></th>\n",
       "      <th></th>\n",
       "      <th></th>\n",
       "      <th></th>\n",
       "      <th></th>\n",
       "    </tr>\n",
       "  </thead>\n",
       "  <tbody>\n",
       "    <tr>\n",
       "      <th>A</th>\n",
       "      <td>12</td>\n",
       "      <td>9</td>\n",
       "      <td>3</td>\n",
       "      <td>1</td>\n",
       "      <td>0</td>\n",
       "      <td>0</td>\n",
       "    </tr>\n",
       "    <tr>\n",
       "      <th>B</th>\n",
       "      <td>3252</td>\n",
       "      <td>1167</td>\n",
       "      <td>502</td>\n",
       "      <td>88</td>\n",
       "      <td>7</td>\n",
       "      <td>4</td>\n",
       "    </tr>\n",
       "    <tr>\n",
       "      <th>C</th>\n",
       "      <td>10612</td>\n",
       "      <td>3562</td>\n",
       "      <td>1512</td>\n",
       "      <td>236</td>\n",
       "      <td>34</td>\n",
       "      <td>4</td>\n",
       "    </tr>\n",
       "    <tr>\n",
       "      <th>D</th>\n",
       "      <td>244</td>\n",
       "      <td>66</td>\n",
       "      <td>34</td>\n",
       "      <td>5</td>\n",
       "      <td>0</td>\n",
       "      <td>1</td>\n",
       "    </tr>\n",
       "    <tr>\n",
       "      <th>E</th>\n",
       "      <td>17</td>\n",
       "      <td>4</td>\n",
       "      <td>1</td>\n",
       "      <td>0</td>\n",
       "      <td>0</td>\n",
       "      <td>0</td>\n",
       "    </tr>\n",
       "  </tbody>\n",
       "</table>\n",
       "</div>"
      ],
      "text/plain": [
       "children                   0     1     2    3   4  5\n",
       "total_income_category                               \n",
       "A                         12     9     3    1   0  0\n",
       "B                       3252  1167   502   88   7  4\n",
       "C                      10612  3562  1512  236  34  4\n",
       "D                        244    66    34    5   0  1\n",
       "E                         17     4     1    0   0  0"
      ]
     },
     "execution_count": 42,
     "metadata": {},
     "output_type": "execute_result"
    }
   ],
   "source": [
    "data_pivot = data.pivot_table(index=['total_income_category'],columns='children', values='debt', aggfunc='count',dropna=True, fill_value=0)\n",
    "data_pivot"
   ]
  },
  {
   "cell_type": "markdown",
   "id": "980724ca",
   "metadata": {},
   "source": [
    "В категории дохода D (ниже среднего) чем больше детей, тем больше неплатежей. В других категориях однозначной зависимости нет. Но количество кредитов в этой категории у людей с 3 детьми небольшое, выборка нерепрезентативная, поэтому 20% неплатежей это недостоверный результат."
   ]
  },
  {
   "cell_type": "markdown",
   "id": "ccc0ed39",
   "metadata": {},
   "source": [
    "Посмотрим на тип доходов, наличие детей и количество неплатежей."
   ]
  },
  {
   "cell_type": "code",
   "execution_count": 43,
   "id": "3fb93df1",
   "metadata": {},
   "outputs": [
    {
     "data": {
      "text/html": [
       "<div>\n",
       "<style scoped>\n",
       "    .dataframe tbody tr th:only-of-type {\n",
       "        vertical-align: middle;\n",
       "    }\n",
       "\n",
       "    .dataframe tbody tr th {\n",
       "        vertical-align: top;\n",
       "    }\n",
       "\n",
       "    .dataframe thead th {\n",
       "        text-align: right;\n",
       "    }\n",
       "</style>\n",
       "<table border=\"1\" class=\"dataframe\">\n",
       "  <thead>\n",
       "    <tr style=\"text-align: right;\">\n",
       "      <th>children</th>\n",
       "      <th>0</th>\n",
       "      <th>1</th>\n",
       "      <th>2</th>\n",
       "      <th>3</th>\n",
       "      <th>4</th>\n",
       "      <th>5</th>\n",
       "    </tr>\n",
       "    <tr>\n",
       "      <th>income_type</th>\n",
       "      <th></th>\n",
       "      <th></th>\n",
       "      <th></th>\n",
       "      <th></th>\n",
       "      <th></th>\n",
       "      <th></th>\n",
       "    </tr>\n",
       "  </thead>\n",
       "  <tbody>\n",
       "    <tr>\n",
       "      <th>безработный</th>\n",
       "      <td>0</td>\n",
       "      <td>100</td>\n",
       "      <td>0</td>\n",
       "      <td>0</td>\n",
       "      <td>0</td>\n",
       "      <td>0</td>\n",
       "    </tr>\n",
       "    <tr>\n",
       "      <th>в декрете</th>\n",
       "      <td>0</td>\n",
       "      <td>0</td>\n",
       "      <td>100</td>\n",
       "      <td>0</td>\n",
       "      <td>0</td>\n",
       "      <td>0</td>\n",
       "    </tr>\n",
       "    <tr>\n",
       "      <th>госслужащий</th>\n",
       "      <td>6</td>\n",
       "      <td>5</td>\n",
       "      <td>3</td>\n",
       "      <td>5</td>\n",
       "      <td>0</td>\n",
       "      <td>0</td>\n",
       "    </tr>\n",
       "    <tr>\n",
       "      <th>компаньон</th>\n",
       "      <td>7</td>\n",
       "      <td>8</td>\n",
       "      <td>6</td>\n",
       "      <td>6</td>\n",
       "      <td>0</td>\n",
       "      <td>0</td>\n",
       "    </tr>\n",
       "    <tr>\n",
       "      <th>пенсионер</th>\n",
       "      <td>5</td>\n",
       "      <td>5</td>\n",
       "      <td>15</td>\n",
       "      <td>16</td>\n",
       "      <td>0</td>\n",
       "      <td>0</td>\n",
       "    </tr>\n",
       "    <tr>\n",
       "      <th>предприниматель</th>\n",
       "      <td>0</td>\n",
       "      <td>0</td>\n",
       "      <td>0</td>\n",
       "      <td>0</td>\n",
       "      <td>0</td>\n",
       "      <td>0</td>\n",
       "    </tr>\n",
       "    <tr>\n",
       "      <th>сотрудник</th>\n",
       "      <td>8</td>\n",
       "      <td>10</td>\n",
       "      <td>11</td>\n",
       "      <td>9</td>\n",
       "      <td>12</td>\n",
       "      <td>0</td>\n",
       "    </tr>\n",
       "    <tr>\n",
       "      <th>студент</th>\n",
       "      <td>0</td>\n",
       "      <td>0</td>\n",
       "      <td>0</td>\n",
       "      <td>0</td>\n",
       "      <td>0</td>\n",
       "      <td>0</td>\n",
       "    </tr>\n",
       "  </tbody>\n",
       "</table>\n",
       "</div>"
      ],
      "text/plain": [
       "children         0    1    2   3   4  5\n",
       "income_type                            \n",
       "безработный      0  100    0   0   0  0\n",
       "в декрете        0    0  100   0   0  0\n",
       "госслужащий      6    5    3   5   0  0\n",
       "компаньон        7    8    6   6   0  0\n",
       "пенсионер        5    5   15  16   0  0\n",
       "предприниматель  0    0    0   0   0  0\n",
       "сотрудник        8   10   11   9  12  0\n",
       "студент          0    0    0   0   0  0"
      ]
     },
     "execution_count": 43,
     "metadata": {},
     "output_type": "execute_result"
    }
   ],
   "source": [
    "data_pivot = data.pivot_table(index=['income_type'],columns='children', values='debt', aggfunc=('mean'),dropna=True, fill_value=0)\n",
    "(data_pivot*100).astype('int')"
   ]
  },
  {
   "cell_type": "markdown",
   "id": "c3d9d805",
   "metadata": {},
   "source": [
    "У пенсионеров, чем больше детей, тем больше процент неплатежей. Наблюдаются большой процент просрочек у безработных и тех, кто в декрете, но однозначно сказать, что жто связано с количеством детей нельзя, там очень маленька выборка."
   ]
  },
  {
   "cell_type": "markdown",
   "id": "e6184012",
   "metadata": {},
   "source": [
    "##### Вывод 1: Зависимость между количеством детей и возвратом кредита в срок.\n",
    "- Больше всего кредитов берут бездетные люди, поэтому по ним и больше всего задержек с платежами. Правильнее сравнивать процент невозвратов по каждой группе. Проблема в том, что при увеличении количесва детей выборка может стать нерепрезентативной.\n",
    "- Однозначная зависимость между количеством детей и просрочками по кредитам отсктствует.\n",
    "- У одиноких граждан, а так же граждан с неоконченным высшим или начальным образованием и пенсионеров при увеличении количества детей возрастает процент невозвратов по кердитам.\n",
    "- Процент неплатежей выше по кредитам на свадьбу у людей с 3 детьми и по кредитам на недвижимость у людей с 4 детьми.\n"
   ]
  },
  {
   "cell_type": "markdown",
   "id": "cbab0e60",
   "metadata": {},
   "source": [
    "##### Вопрос 2:  Есть ли зависимость между семейным положением и возвратом кредита в срок?"
   ]
  },
  {
   "cell_type": "markdown",
   "id": "fd84cba4",
   "metadata": {},
   "source": [
    "Сгруппируем данные по семейному положению и посчитаем среднее по долгу.Чтобы было удобнее смотреть, переведем все в проценты."
   ]
  },
  {
   "cell_type": "code",
   "execution_count": 44,
   "id": "1f8c820e",
   "metadata": {},
   "outputs": [
    {
     "data": {
      "text/plain": [
       "family_status_id\n",
       "0    7\n",
       "1    9\n",
       "2    6\n",
       "3    7\n",
       "4    9\n",
       "Name: debt, dtype: int32"
      ]
     },
     "execution_count": 44,
     "metadata": {},
     "output_type": "execute_result"
    }
   ],
   "source": [
    "(data.groupby('family_status_id')['debt'].mean()*100).astype('int')"
   ]
  },
  {
   "cell_type": "code",
   "execution_count": 45,
   "id": "6a91ef2d",
   "metadata": {},
   "outputs": [
    {
     "data": {
      "text/plain": [
       "family_status_id\n",
       "0    928\n",
       "1    385\n",
       "2     63\n",
       "3     84\n",
       "4    273\n",
       "Name: debt, dtype: int64"
      ]
     },
     "execution_count": 45,
     "metadata": {},
     "output_type": "execute_result"
    }
   ],
   "source": [
    "data.groupby('family_status_id')['debt'].sum()"
   ]
  },
  {
   "cell_type": "code",
   "execution_count": 46,
   "id": "4260aa89",
   "metadata": {},
   "outputs": [
    {
     "data": {
      "text/plain": [
       "family_status_id\n",
       "0    12290\n",
       "1     4138\n",
       "2      955\n",
       "3     1193\n",
       "4     2801\n",
       "Name: debt, dtype: int64"
      ]
     },
     "execution_count": 46,
     "metadata": {},
     "output_type": "execute_result"
    }
   ],
   "source": [
    "data.groupby('family_status_id')['debt'].count()"
   ]
  },
  {
   "cell_type": "markdown",
   "id": "78b7cd3f",
   "metadata": {},
   "source": [
    "Связь между семейным положением и процентам неплатежей отсутсвует. Хотя у тех, кто живет гражданским браком и неженатых процент неплатежей немного выше."
   ]
  },
  {
   "cell_type": "markdown",
   "id": "d82ed8eb",
   "metadata": {},
   "source": [
    "Посмотрим на разные сочетания семейного положения и других параметров. С количеством детей мы уже определились выше. Посмотрим на образование."
   ]
  },
  {
   "cell_type": "code",
   "execution_count": 47,
   "id": "7f97bf8c",
   "metadata": {
    "scrolled": true
   },
   "outputs": [
    {
     "data": {
      "text/html": [
       "<div>\n",
       "<style scoped>\n",
       "    .dataframe tbody tr th:only-of-type {\n",
       "        vertical-align: middle;\n",
       "    }\n",
       "\n",
       "    .dataframe tbody tr th {\n",
       "        vertical-align: top;\n",
       "    }\n",
       "\n",
       "    .dataframe thead th {\n",
       "        text-align: right;\n",
       "    }\n",
       "</style>\n",
       "<table border=\"1\" class=\"dataframe\">\n",
       "  <thead>\n",
       "    <tr style=\"text-align: right;\">\n",
       "      <th>education_id</th>\n",
       "      <th>высшее</th>\n",
       "      <th>среднее</th>\n",
       "      <th>неоконченное высшее</th>\n",
       "      <th>начальное</th>\n",
       "      <th>ученая степень</th>\n",
       "    </tr>\n",
       "    <tr>\n",
       "      <th>family_status_id</th>\n",
       "      <th></th>\n",
       "      <th></th>\n",
       "      <th></th>\n",
       "      <th></th>\n",
       "      <th></th>\n",
       "    </tr>\n",
       "  </thead>\n",
       "  <tbody>\n",
       "    <tr>\n",
       "      <th>женат / замужем</th>\n",
       "      <td>5</td>\n",
       "      <td>8</td>\n",
       "      <td>8</td>\n",
       "      <td>10</td>\n",
       "      <td>0</td>\n",
       "    </tr>\n",
       "    <tr>\n",
       "      <th>гражданский брак</th>\n",
       "      <td>5</td>\n",
       "      <td>10</td>\n",
       "      <td>8</td>\n",
       "      <td>19</td>\n",
       "      <td>0</td>\n",
       "    </tr>\n",
       "    <tr>\n",
       "      <th>вдовец / вдова</th>\n",
       "      <td>5</td>\n",
       "      <td>6</td>\n",
       "      <td>15</td>\n",
       "      <td>0</td>\n",
       "      <td>0</td>\n",
       "    </tr>\n",
       "    <tr>\n",
       "      <th>в разводе</th>\n",
       "      <td>4</td>\n",
       "      <td>7</td>\n",
       "      <td>12</td>\n",
       "      <td>10</td>\n",
       "      <td>0</td>\n",
       "    </tr>\n",
       "    <tr>\n",
       "      <th>не женат / не замужем</th>\n",
       "      <td>5</td>\n",
       "      <td>11</td>\n",
       "      <td>9</td>\n",
       "      <td>8</td>\n",
       "      <td>0</td>\n",
       "    </tr>\n",
       "  </tbody>\n",
       "</table>\n",
       "</div>"
      ],
      "text/plain": [
       "education_id           высшее  среднее  неоконченное высшее  начальное  \\\n",
       "family_status_id                                                         \n",
       "женат / замужем             5        8                    8         10   \n",
       "гражданский брак            5       10                    8         19   \n",
       "вдовец / вдова              5        6                   15          0   \n",
       "в разводе                   4        7                   12         10   \n",
       "не женат / не замужем       5       11                    9          8   \n",
       "\n",
       "education_id           ученая степень  \n",
       "family_status_id                       \n",
       "женат / замужем                     0  \n",
       "гражданский брак                    0  \n",
       "вдовец / вдова                      0  \n",
       "в разводе                           0  \n",
       "не женат / не замужем               0  "
      ]
     },
     "execution_count": 47,
     "metadata": {},
     "output_type": "execute_result"
    }
   ],
   "source": [
    "data_pivot = data.pivot_table(index=['family_status_id'],columns='education_id', values='debt', aggfunc='mean',dropna=True, fill_value=0)\n",
    "data_pivot = data_pivot.rename(index = dict(family_status_df.values))\n",
    "data_pivot = (data_pivot.rename(columns=dict(education_df.values))*100).astype('int')\n",
    "data_pivot"
   ]
  },
  {
   "cell_type": "markdown",
   "id": "d271a248",
   "metadata": {},
   "source": [
    "Наибольший процент неплатежей у тех, кто живет гражданским браком и имеет начальное образование, а так же у овдовевших и разведенных с неоконченным высшим."
   ]
  },
  {
   "cell_type": "markdown",
   "id": "5dacf8fe",
   "metadata": {},
   "source": [
    "Посмотрим на семейный статус и цель кредита."
   ]
  },
  {
   "cell_type": "code",
   "execution_count": 48,
   "id": "b63ce1e1",
   "metadata": {},
   "outputs": [
    {
     "data": {
      "text/html": [
       "<div>\n",
       "<style scoped>\n",
       "    .dataframe tbody tr th:only-of-type {\n",
       "        vertical-align: middle;\n",
       "    }\n",
       "\n",
       "    .dataframe tbody tr th {\n",
       "        vertical-align: top;\n",
       "    }\n",
       "\n",
       "    .dataframe thead th {\n",
       "        text-align: right;\n",
       "    }\n",
       "</style>\n",
       "<table border=\"1\" class=\"dataframe\">\n",
       "  <thead>\n",
       "    <tr style=\"text-align: right;\">\n",
       "      <th>purpose_category</th>\n",
       "      <th>операции с автомобилем</th>\n",
       "      <th>операции с недвижимостью</th>\n",
       "      <th>получение образования</th>\n",
       "      <th>проведение свадьбы</th>\n",
       "    </tr>\n",
       "    <tr>\n",
       "      <th>family_status_id</th>\n",
       "      <th></th>\n",
       "      <th></th>\n",
       "      <th></th>\n",
       "      <th></th>\n",
       "    </tr>\n",
       "  </thead>\n",
       "  <tbody>\n",
       "    <tr>\n",
       "      <th>женат / замужем</th>\n",
       "      <td>8</td>\n",
       "      <td>6</td>\n",
       "      <td>8</td>\n",
       "      <td>0</td>\n",
       "    </tr>\n",
       "    <tr>\n",
       "      <th>гражданский брак</th>\n",
       "      <td>11</td>\n",
       "      <td>9</td>\n",
       "      <td>14</td>\n",
       "      <td>7</td>\n",
       "    </tr>\n",
       "    <tr>\n",
       "      <th>вдовец / вдова</th>\n",
       "      <td>9</td>\n",
       "      <td>5</td>\n",
       "      <td>7</td>\n",
       "      <td>0</td>\n",
       "    </tr>\n",
       "    <tr>\n",
       "      <th>в разводе</th>\n",
       "      <td>7</td>\n",
       "      <td>6</td>\n",
       "      <td>7</td>\n",
       "      <td>0</td>\n",
       "    </tr>\n",
       "    <tr>\n",
       "      <th>не женат / не замужем</th>\n",
       "      <td>12</td>\n",
       "      <td>8</td>\n",
       "      <td>10</td>\n",
       "      <td>0</td>\n",
       "    </tr>\n",
       "  </tbody>\n",
       "</table>\n",
       "</div>"
      ],
      "text/plain": [
       "purpose_category       операции с автомобилем  операции с недвижимостью  \\\n",
       "family_status_id                                                          \n",
       "женат / замужем                             8                         6   \n",
       "гражданский брак                           11                         9   \n",
       "вдовец / вдова                              9                         5   \n",
       "в разводе                                   7                         6   \n",
       "не женат / не замужем                      12                         8   \n",
       "\n",
       "purpose_category       получение образования  проведение свадьбы  \n",
       "family_status_id                                                  \n",
       "женат / замужем                            8                   0  \n",
       "гражданский брак                          14                   7  \n",
       "вдовец / вдова                             7                   0  \n",
       "в разводе                                  7                   0  \n",
       "не женат / не замужем                     10                   0  "
      ]
     },
     "execution_count": 48,
     "metadata": {},
     "output_type": "execute_result"
    }
   ],
   "source": [
    "data_pivot = data.pivot_table(index=['family_status_id'],columns='purpose_category', values='debt', aggfunc='mean',dropna=True, fill_value=0)\n",
    "data_pivot = data_pivot.rename(index = dict(family_status_df.values))\n",
    "data_pivot = (data_pivot.rename(columns=dict(education_df.values))*100).astype('int')\n",
    "data_pivot"
   ]
  },
  {
   "cell_type": "markdown",
   "id": "1699d0d7",
   "metadata": {},
   "source": [
    "По всем категориям кредитов процент невозвратов немного выше у тех, кто живет гражданским браком и у неженатых."
   ]
  },
  {
   "cell_type": "markdown",
   "id": "0fbb3f49",
   "metadata": {},
   "source": [
    "Посмотрим семейный статус и категорию дохода."
   ]
  },
  {
   "cell_type": "code",
   "execution_count": 49,
   "id": "6d0cd5fd",
   "metadata": {},
   "outputs": [
    {
     "data": {
      "text/html": [
       "<div>\n",
       "<style scoped>\n",
       "    .dataframe tbody tr th:only-of-type {\n",
       "        vertical-align: middle;\n",
       "    }\n",
       "\n",
       "    .dataframe tbody tr th {\n",
       "        vertical-align: top;\n",
       "    }\n",
       "\n",
       "    .dataframe thead th {\n",
       "        text-align: right;\n",
       "    }\n",
       "</style>\n",
       "<table border=\"1\" class=\"dataframe\">\n",
       "  <thead>\n",
       "    <tr style=\"text-align: right;\">\n",
       "      <th>income_type</th>\n",
       "      <th>безработный</th>\n",
       "      <th>в декрете</th>\n",
       "      <th>госслужащий</th>\n",
       "      <th>компаньон</th>\n",
       "      <th>пенсионер</th>\n",
       "      <th>предприниматель</th>\n",
       "      <th>сотрудник</th>\n",
       "      <th>студент</th>\n",
       "    </tr>\n",
       "    <tr>\n",
       "      <th>family_status_id</th>\n",
       "      <th></th>\n",
       "      <th></th>\n",
       "      <th></th>\n",
       "      <th></th>\n",
       "      <th></th>\n",
       "      <th></th>\n",
       "      <th></th>\n",
       "      <th></th>\n",
       "    </tr>\n",
       "  </thead>\n",
       "  <tbody>\n",
       "    <tr>\n",
       "      <th>женат / замужем</th>\n",
       "      <td>100</td>\n",
       "      <td>100</td>\n",
       "      <td>5</td>\n",
       "      <td>6</td>\n",
       "      <td>5</td>\n",
       "      <td>0</td>\n",
       "      <td>8</td>\n",
       "      <td>0</td>\n",
       "    </tr>\n",
       "    <tr>\n",
       "      <th>гражданский брак</th>\n",
       "      <td>0</td>\n",
       "      <td>0</td>\n",
       "      <td>6</td>\n",
       "      <td>9</td>\n",
       "      <td>5</td>\n",
       "      <td>0</td>\n",
       "      <td>10</td>\n",
       "      <td>0</td>\n",
       "    </tr>\n",
       "    <tr>\n",
       "      <th>вдовец / вдова</th>\n",
       "      <td>0</td>\n",
       "      <td>0</td>\n",
       "      <td>4</td>\n",
       "      <td>9</td>\n",
       "      <td>6</td>\n",
       "      <td>0</td>\n",
       "      <td>5</td>\n",
       "      <td>0</td>\n",
       "    </tr>\n",
       "    <tr>\n",
       "      <th>в разводе</th>\n",
       "      <td>0</td>\n",
       "      <td>0</td>\n",
       "      <td>4</td>\n",
       "      <td>2</td>\n",
       "      <td>5</td>\n",
       "      <td>0</td>\n",
       "      <td>9</td>\n",
       "      <td>0</td>\n",
       "    </tr>\n",
       "    <tr>\n",
       "      <th>не женат / не замужем</th>\n",
       "      <td>0</td>\n",
       "      <td>0</td>\n",
       "      <td>7</td>\n",
       "      <td>8</td>\n",
       "      <td>4</td>\n",
       "      <td>0</td>\n",
       "      <td>11</td>\n",
       "      <td>0</td>\n",
       "    </tr>\n",
       "  </tbody>\n",
       "</table>\n",
       "</div>"
      ],
      "text/plain": [
       "income_type            безработный  в декрете  госслужащий  компаньон  \\\n",
       "family_status_id                                                        \n",
       "женат / замужем                100        100            5          6   \n",
       "гражданский брак                 0          0            6          9   \n",
       "вдовец / вдова                   0          0            4          9   \n",
       "в разводе                        0          0            4          2   \n",
       "не женат / не замужем            0          0            7          8   \n",
       "\n",
       "income_type            пенсионер  предприниматель  сотрудник  студент  \n",
       "family_status_id                                                       \n",
       "женат / замужем                5                0          8        0  \n",
       "гражданский брак               5                0         10        0  \n",
       "вдовец / вдова                 6                0          5        0  \n",
       "в разводе                      5                0          9        0  \n",
       "не женат / не замужем          4                0         11        0  "
      ]
     },
     "execution_count": 49,
     "metadata": {},
     "output_type": "execute_result"
    }
   ],
   "source": [
    "data_pivot = data.pivot_table(index=['family_status_id'],columns='income_type', values='debt', aggfunc='mean',dropna=True, fill_value=0)\n",
    "data_pivot = (data_pivot.rename(index = dict(family_status_df.values))*100).astype('int')\n",
    "data_pivot"
   ]
  },
  {
   "cell_type": "markdown",
   "id": "04b794c1",
   "metadata": {},
   "source": [
    "Связь между семейным положением, категорией дохода и неплатежами отсутсвует. Выборка по безработным, декретникам, предпренимателям и студентам нерепрезентативная. Видимо им кредиты не дают."
   ]
  },
  {
   "cell_type": "code",
   "execution_count": 50,
   "id": "e1df77bb",
   "metadata": {
    "scrolled": true
   },
   "outputs": [
    {
     "data": {
      "text/html": [
       "<div>\n",
       "<style scoped>\n",
       "    .dataframe tbody tr th:only-of-type {\n",
       "        vertical-align: middle;\n",
       "    }\n",
       "\n",
       "    .dataframe tbody tr th {\n",
       "        vertical-align: top;\n",
       "    }\n",
       "\n",
       "    .dataframe thead th {\n",
       "        text-align: right;\n",
       "    }\n",
       "</style>\n",
       "<table border=\"1\" class=\"dataframe\">\n",
       "  <thead>\n",
       "    <tr style=\"text-align: right;\">\n",
       "      <th>total_income_category</th>\n",
       "      <th>A</th>\n",
       "      <th>B</th>\n",
       "      <th>C</th>\n",
       "      <th>D</th>\n",
       "      <th>E</th>\n",
       "    </tr>\n",
       "    <tr>\n",
       "      <th>family_status_id</th>\n",
       "      <th></th>\n",
       "      <th></th>\n",
       "      <th></th>\n",
       "      <th></th>\n",
       "      <th></th>\n",
       "    </tr>\n",
       "  </thead>\n",
       "  <tbody>\n",
       "    <tr>\n",
       "      <th>женат / замужем</th>\n",
       "      <td>7</td>\n",
       "      <td>6</td>\n",
       "      <td>7</td>\n",
       "      <td>5</td>\n",
       "      <td>14</td>\n",
       "    </tr>\n",
       "    <tr>\n",
       "      <th>гражданский брак</th>\n",
       "      <td>16</td>\n",
       "      <td>6</td>\n",
       "      <td>10</td>\n",
       "      <td>8</td>\n",
       "      <td>0</td>\n",
       "    </tr>\n",
       "    <tr>\n",
       "      <th>вдовец / вдова</th>\n",
       "      <td>0</td>\n",
       "      <td>5</td>\n",
       "      <td>6</td>\n",
       "      <td>0</td>\n",
       "      <td>0</td>\n",
       "    </tr>\n",
       "    <tr>\n",
       "      <th>в разводе</th>\n",
       "      <td>0</td>\n",
       "      <td>6</td>\n",
       "      <td>7</td>\n",
       "      <td>11</td>\n",
       "      <td>0</td>\n",
       "    </tr>\n",
       "    <tr>\n",
       "      <th>не женат / не замужем</th>\n",
       "      <td>0</td>\n",
       "      <td>9</td>\n",
       "      <td>9</td>\n",
       "      <td>8</td>\n",
       "      <td>0</td>\n",
       "    </tr>\n",
       "  </tbody>\n",
       "</table>\n",
       "</div>"
      ],
      "text/plain": [
       "total_income_category   A  B   C   D   E\n",
       "family_status_id                        \n",
       "женат / замужем         7  6   7   5  14\n",
       "гражданский брак       16  6  10   8   0\n",
       "вдовец / вдова          0  5   6   0   0\n",
       "в разводе               0  6   7  11   0\n",
       "не женат / не замужем   0  9   9   8   0"
      ]
     },
     "execution_count": 50,
     "metadata": {},
     "output_type": "execute_result"
    }
   ],
   "source": [
    "data_pivot = data.pivot_table(index=['family_status_id'],columns='total_income_category', values='debt', aggfunc='mean',dropna=True, fill_value=0)\n",
    "data_pivot = (data_pivot.rename(index = dict(family_status_df.values))*100).astype('int')\n",
    "data_pivot"
   ]
  },
  {
   "cell_type": "markdown",
   "id": "ea862637",
   "metadata": {},
   "source": [
    "Видимо самые богатые не берут кредиты, а самым бедным не дают, поэтому колонки `A` и `E` не являются репрезентативными. Связь между уровнем дохода, семейным положением и долгами отсутсвует."
   ]
  },
  {
   "cell_type": "markdown",
   "id": "2fcb7e00",
   "metadata": {},
   "source": [
    "##### Вывод 2: Зависимость между семейным положением и возвратом кредита в срок.\n",
    "- Зависимость между семейным положением и неплатежами по кредитам отсутствует.\n",
    "- Если смотреть по целям кредита, то у тех, кто живет гражданским браком или неженат процент невозвратов по всем категорям кредитов немного выше, чем у других.\n",
    "- У тех, кто живет гражданским браком и начальное образование, процент невозвратов достаточно высокий ~19%. А так же у овдовевших и разведенных с неоконченным высшим процент невозвратов выше, чем у остальных."
   ]
  },
  {
   "cell_type": "markdown",
   "id": "c5d4b4eb",
   "metadata": {},
   "source": [
    "##### Вопрос 3:  Есть ли зависимость между уровнем дохода и возвратом кредита в срок?"
   ]
  },
  {
   "cell_type": "markdown",
   "id": "c5b5f138",
   "metadata": {},
   "source": [
    "Посмотрим на долю невозвратов, количество невозвратов и общее количество кредитов по категорям дохода."
   ]
  },
  {
   "cell_type": "code",
   "execution_count": 51,
   "id": "ff538065",
   "metadata": {
    "scrolled": true
   },
   "outputs": [
    {
     "data": {
      "text/plain": [
       "total_income_category\n",
       "A    8\n",
       "B    7\n",
       "C    8\n",
       "D    6\n",
       "E    9\n",
       "Name: debt, dtype: int32"
      ]
     },
     "execution_count": 51,
     "metadata": {},
     "output_type": "execute_result"
    }
   ],
   "source": [
    "(data.groupby('total_income_category')['debt'].mean()*100).astype('int')"
   ]
  },
  {
   "cell_type": "code",
   "execution_count": 52,
   "id": "6acb7fd4",
   "metadata": {},
   "outputs": [
    {
     "data": {
      "text/plain": [
       "total_income_category\n",
       "A       2\n",
       "B     354\n",
       "C    1354\n",
       "D      21\n",
       "E       2\n",
       "Name: debt, dtype: int64"
      ]
     },
     "execution_count": 52,
     "metadata": {},
     "output_type": "execute_result"
    }
   ],
   "source": [
    "data.groupby('total_income_category')['debt'].sum()"
   ]
  },
  {
   "cell_type": "code",
   "execution_count": 53,
   "id": "08ab44cd",
   "metadata": {},
   "outputs": [
    {
     "data": {
      "text/plain": [
       "total_income_category\n",
       "A       25\n",
       "B     5020\n",
       "C    15960\n",
       "D      350\n",
       "E       22\n",
       "Name: debt, dtype: int64"
      ]
     },
     "execution_count": 53,
     "metadata": {},
     "output_type": "execute_result"
    }
   ],
   "source": [
    "data.groupby('total_income_category')['debt'].count()"
   ]
  },
  {
   "cell_type": "markdown",
   "id": "91428451",
   "metadata": {},
   "source": [
    "Связь между уровнем дохода и неплатежами отсутсвует. Хоятя у самых бедных процент невозвратов немного выше."
   ]
  },
  {
   "cell_type": "code",
   "execution_count": 54,
   "id": "bd35fe06",
   "metadata": {},
   "outputs": [
    {
     "data": {
      "text/html": [
       "<div>\n",
       "<style scoped>\n",
       "    .dataframe tbody tr th:only-of-type {\n",
       "        vertical-align: middle;\n",
       "    }\n",
       "\n",
       "    .dataframe tbody tr th {\n",
       "        vertical-align: top;\n",
       "    }\n",
       "\n",
       "    .dataframe thead th {\n",
       "        text-align: right;\n",
       "    }\n",
       "</style>\n",
       "<table border=\"1\" class=\"dataframe\">\n",
       "  <thead>\n",
       "    <tr style=\"text-align: right;\">\n",
       "      <th>education_id</th>\n",
       "      <th>высшее</th>\n",
       "      <th>среднее</th>\n",
       "      <th>неоконченное высшее</th>\n",
       "      <th>начальное</th>\n",
       "      <th>ученая степень</th>\n",
       "    </tr>\n",
       "    <tr>\n",
       "      <th>total_income_category</th>\n",
       "      <th></th>\n",
       "      <th></th>\n",
       "      <th></th>\n",
       "      <th></th>\n",
       "      <th></th>\n",
       "    </tr>\n",
       "  </thead>\n",
       "  <tbody>\n",
       "    <tr>\n",
       "      <th>A</th>\n",
       "      <td>5</td>\n",
       "      <td>14</td>\n",
       "      <td>0</td>\n",
       "      <td>0</td>\n",
       "      <td>0</td>\n",
       "    </tr>\n",
       "    <tr>\n",
       "      <th>B</th>\n",
       "      <td>4</td>\n",
       "      <td>8</td>\n",
       "      <td>12</td>\n",
       "      <td>10</td>\n",
       "      <td>0</td>\n",
       "    </tr>\n",
       "    <tr>\n",
       "      <th>C</th>\n",
       "      <td>5</td>\n",
       "      <td>9</td>\n",
       "      <td>7</td>\n",
       "      <td>11</td>\n",
       "      <td>0</td>\n",
       "    </tr>\n",
       "    <tr>\n",
       "      <th>D</th>\n",
       "      <td>3</td>\n",
       "      <td>6</td>\n",
       "      <td>0</td>\n",
       "      <td>0</td>\n",
       "      <td>0</td>\n",
       "    </tr>\n",
       "    <tr>\n",
       "      <th>E</th>\n",
       "      <td>0</td>\n",
       "      <td>9</td>\n",
       "      <td>0</td>\n",
       "      <td>0</td>\n",
       "      <td>0</td>\n",
       "    </tr>\n",
       "  </tbody>\n",
       "</table>\n",
       "</div>"
      ],
      "text/plain": [
       "education_id           высшее  среднее  неоконченное высшее  начальное  \\\n",
       "total_income_category                                                    \n",
       "A                           5       14                    0          0   \n",
       "B                           4        8                   12         10   \n",
       "C                           5        9                    7         11   \n",
       "D                           3        6                    0          0   \n",
       "E                           0        9                    0          0   \n",
       "\n",
       "education_id           ученая степень  \n",
       "total_income_category                  \n",
       "A                                   0  \n",
       "B                                   0  \n",
       "C                                   0  \n",
       "D                                   0  \n",
       "E                                   0  "
      ]
     },
     "execution_count": 54,
     "metadata": {},
     "output_type": "execute_result"
    }
   ],
   "source": [
    "data_pivot = data.pivot_table(index=['total_income_category'],columns='education_id', values='debt', aggfunc='mean',dropna=True, fill_value=0)\n",
    "data_pivot = (data_pivot.rename(columns = dict(education_df.values))*100).astype('int')\n",
    "data_pivot"
   ]
  },
  {
   "cell_type": "markdown",
   "id": "5c82a2a4",
   "metadata": {},
   "source": [
    "Процент неплатежей немного выше у людей с средним `C` или высоким доходом `B` и начальным образованием и высоким доходом `B` и неоконченным высшим образованием."
   ]
  },
  {
   "cell_type": "code",
   "execution_count": 55,
   "id": "f0be8779",
   "metadata": {
    "scrolled": false
   },
   "outputs": [
    {
     "data": {
      "text/html": [
       "<div>\n",
       "<style scoped>\n",
       "    .dataframe tbody tr th:only-of-type {\n",
       "        vertical-align: middle;\n",
       "    }\n",
       "\n",
       "    .dataframe tbody tr th {\n",
       "        vertical-align: top;\n",
       "    }\n",
       "\n",
       "    .dataframe thead th {\n",
       "        text-align: right;\n",
       "    }\n",
       "</style>\n",
       "<table border=\"1\" class=\"dataframe\">\n",
       "  <thead>\n",
       "    <tr style=\"text-align: right;\">\n",
       "      <th>purpose_category</th>\n",
       "      <th>операции с автомобилем</th>\n",
       "      <th>операции с недвижимостью</th>\n",
       "      <th>получение образования</th>\n",
       "      <th>проведение свадьбы</th>\n",
       "    </tr>\n",
       "    <tr>\n",
       "      <th>total_income_category</th>\n",
       "      <th></th>\n",
       "      <th></th>\n",
       "      <th></th>\n",
       "      <th></th>\n",
       "    </tr>\n",
       "  </thead>\n",
       "  <tbody>\n",
       "    <tr>\n",
       "      <th>A</th>\n",
       "      <td>0</td>\n",
       "      <td>5</td>\n",
       "      <td>25</td>\n",
       "      <td>0</td>\n",
       "    </tr>\n",
       "    <tr>\n",
       "      <th>B</th>\n",
       "      <td>8</td>\n",
       "      <td>6</td>\n",
       "      <td>7</td>\n",
       "      <td>5</td>\n",
       "    </tr>\n",
       "    <tr>\n",
       "      <th>C</th>\n",
       "      <td>9</td>\n",
       "      <td>7</td>\n",
       "      <td>9</td>\n",
       "      <td>8</td>\n",
       "    </tr>\n",
       "    <tr>\n",
       "      <th>D</th>\n",
       "      <td>13</td>\n",
       "      <td>3</td>\n",
       "      <td>2</td>\n",
       "      <td>8</td>\n",
       "    </tr>\n",
       "    <tr>\n",
       "      <th>E</th>\n",
       "      <td>0</td>\n",
       "      <td>18</td>\n",
       "      <td>0</td>\n",
       "      <td>0</td>\n",
       "    </tr>\n",
       "  </tbody>\n",
       "</table>\n",
       "</div>"
      ],
      "text/plain": [
       "purpose_category       операции с автомобилем  операции с недвижимостью  \\\n",
       "total_income_category                                                     \n",
       "A                                           0                         5   \n",
       "B                                           8                         6   \n",
       "C                                           9                         7   \n",
       "D                                          13                         3   \n",
       "E                                           0                        18   \n",
       "\n",
       "purpose_category       получение образования  проведение свадьбы  \n",
       "total_income_category                                             \n",
       "A                                         25                   0  \n",
       "B                                          7                   5  \n",
       "C                                          9                   8  \n",
       "D                                          2                   8  \n",
       "E                                          0                   0  "
      ]
     },
     "execution_count": 55,
     "metadata": {},
     "output_type": "execute_result"
    }
   ],
   "source": [
    "data_pivot = data.pivot_table(index=['total_income_category'],columns='purpose_category', values='debt', aggfunc='mean',dropna=True, fill_value=0)\n",
    "data_pivot = (data_pivot.rename(columns = dict(education_df.values))*100).astype('int')\n",
    "data_pivot"
   ]
  },
  {
   "cell_type": "markdown",
   "id": "6b632c34",
   "metadata": {},
   "source": [
    "Связь между уровнем дохода, целью крудита и долгами отсутсвует. В строках `A` и `E` мало значений, поэтому они нерепрезентативные. Граждане с низким доходом `D` чаще не платят вовремя за автомобильные кредиты."
   ]
  },
  {
   "cell_type": "code",
   "execution_count": 56,
   "id": "d0ace0f1",
   "metadata": {
    "scrolled": true
   },
   "outputs": [
    {
     "data": {
      "text/html": [
       "<div>\n",
       "<style scoped>\n",
       "    .dataframe tbody tr th:only-of-type {\n",
       "        vertical-align: middle;\n",
       "    }\n",
       "\n",
       "    .dataframe tbody tr th {\n",
       "        vertical-align: top;\n",
       "    }\n",
       "\n",
       "    .dataframe thead th {\n",
       "        text-align: right;\n",
       "    }\n",
       "</style>\n",
       "<table border=\"1\" class=\"dataframe\">\n",
       "  <thead>\n",
       "    <tr style=\"text-align: right;\">\n",
       "      <th>income_type</th>\n",
       "      <th>безработный</th>\n",
       "      <th>в декрете</th>\n",
       "      <th>госслужащий</th>\n",
       "      <th>компаньон</th>\n",
       "      <th>пенсионер</th>\n",
       "      <th>предприниматель</th>\n",
       "      <th>сотрудник</th>\n",
       "      <th>студент</th>\n",
       "    </tr>\n",
       "    <tr>\n",
       "      <th>total_income_category</th>\n",
       "      <th></th>\n",
       "      <th></th>\n",
       "      <th></th>\n",
       "      <th></th>\n",
       "      <th></th>\n",
       "      <th></th>\n",
       "      <th></th>\n",
       "      <th></th>\n",
       "    </tr>\n",
       "  </thead>\n",
       "  <tbody>\n",
       "    <tr>\n",
       "      <th>A</th>\n",
       "      <td>0</td>\n",
       "      <td>0</td>\n",
       "      <td>0</td>\n",
       "      <td>13</td>\n",
       "      <td>0</td>\n",
       "      <td>0</td>\n",
       "      <td>0</td>\n",
       "      <td>0</td>\n",
       "    </tr>\n",
       "    <tr>\n",
       "      <th>B</th>\n",
       "      <td>0</td>\n",
       "      <td>0</td>\n",
       "      <td>4</td>\n",
       "      <td>6</td>\n",
       "      <td>5</td>\n",
       "      <td>0</td>\n",
       "      <td>8</td>\n",
       "      <td>0</td>\n",
       "    </tr>\n",
       "    <tr>\n",
       "      <th>C</th>\n",
       "      <td>100</td>\n",
       "      <td>100</td>\n",
       "      <td>6</td>\n",
       "      <td>7</td>\n",
       "      <td>5</td>\n",
       "      <td>0</td>\n",
       "      <td>9</td>\n",
       "      <td>0</td>\n",
       "    </tr>\n",
       "    <tr>\n",
       "      <th>D</th>\n",
       "      <td>0</td>\n",
       "      <td>0</td>\n",
       "      <td>4</td>\n",
       "      <td>4</td>\n",
       "      <td>4</td>\n",
       "      <td>0</td>\n",
       "      <td>8</td>\n",
       "      <td>0</td>\n",
       "    </tr>\n",
       "    <tr>\n",
       "      <th>E</th>\n",
       "      <td>0</td>\n",
       "      <td>0</td>\n",
       "      <td>0</td>\n",
       "      <td>0</td>\n",
       "      <td>13</td>\n",
       "      <td>0</td>\n",
       "      <td>0</td>\n",
       "      <td>0</td>\n",
       "    </tr>\n",
       "  </tbody>\n",
       "</table>\n",
       "</div>"
      ],
      "text/plain": [
       "income_type            безработный  в декрете  госслужащий  компаньон  \\\n",
       "total_income_category                                                   \n",
       "A                                0          0            0         13   \n",
       "B                                0          0            4          6   \n",
       "C                              100        100            6          7   \n",
       "D                                0          0            4          4   \n",
       "E                                0          0            0          0   \n",
       "\n",
       "income_type            пенсионер  предприниматель  сотрудник  студент  \n",
       "total_income_category                                                  \n",
       "A                              0                0          0        0  \n",
       "B                              5                0          8        0  \n",
       "C                              5                0          9        0  \n",
       "D                              4                0          8        0  \n",
       "E                             13                0          0        0  "
      ]
     },
     "execution_count": 56,
     "metadata": {},
     "output_type": "execute_result"
    }
   ],
   "source": [
    "data_pivot = data.pivot_table(index=['total_income_category'],columns='income_type', values='debt', aggfunc='mean',dropna=True, fill_value=0)\n",
    "data_pivot = (data_pivot.rename(columns = dict(education_df.values))*100).astype('int')\n",
    "data_pivot"
   ]
  },
  {
   "cell_type": "markdown",
   "id": "8bf0604c",
   "metadata": {},
   "source": [
    "Связь между уровнем дохода, местом работы и долгами отсутсвует. В строках A и E мало значений, поэтому они нерепрезентативные. В колонках `безработный` и `в декрете` тоже мало значений, они тоже нерепрезентативные. Бедные пенсионеры и богатые компаньены одинаково часто неплатят по кредитам."
   ]
  },
  {
   "cell_type": "markdown",
   "id": "88531f4a",
   "metadata": {},
   "source": [
    "##### Вывод 3: Зависимость между уровнем дохода и возвратом кредита в срок.\n",
    "- Зависимость между уровнем дохода и неплатежами отсутсвует. Видимо размер кредита зависит от уровня дохода, поэтому процент неплатежей примерно одинаковый в разных категорях дохода.\n",
    "- Категори с самым высоким и самым низким доходом берут мало кредитов, и выборки в этих категориях не такие репрезентативные как в других категориях.\n",
    "- В категории с низким доходом `D` чаще не платят за кредиты по автомобилям."
   ]
  },
  {
   "cell_type": "markdown",
   "id": "1fcc4a12",
   "metadata": {},
   "source": [
    "##### Вопро 4: Как разные цели кредита влияют на его возврат в срок?"
   ]
  },
  {
   "cell_type": "code",
   "execution_count": 57,
   "id": "4693e7cd",
   "metadata": {
    "scrolled": true
   },
   "outputs": [
    {
     "data": {
      "text/plain": [
       "purpose_category\n",
       "операции с автомобилем      9\n",
       "операции с недвижимостью    7\n",
       "получение образования       9\n",
       "проведение свадьбы          7\n",
       "Name: debt, dtype: int32"
      ]
     },
     "execution_count": 57,
     "metadata": {},
     "output_type": "execute_result"
    }
   ],
   "source": [
    "(data.groupby('purpose_category')['debt'].mean()*100).astype('int')"
   ]
  },
  {
   "cell_type": "code",
   "execution_count": 58,
   "id": "8e6fc5d8",
   "metadata": {},
   "outputs": [
    {
     "data": {
      "text/plain": [
       "purpose_category\n",
       "операции с автомобилем      401\n",
       "операции с недвижимостью    780\n",
       "получение образования       369\n",
       "проведение свадьбы          183\n",
       "Name: debt, dtype: int64"
      ]
     },
     "execution_count": 58,
     "metadata": {},
     "output_type": "execute_result"
    }
   ],
   "source": [
    "data.groupby('purpose_category')['debt'].sum()"
   ]
  },
  {
   "cell_type": "code",
   "execution_count": 59,
   "id": "da531d2b",
   "metadata": {},
   "outputs": [
    {
     "data": {
      "text/plain": [
       "purpose_category\n",
       "операции с автомобилем       4290\n",
       "операции с недвижимостью    10774\n",
       "получение образования        3998\n",
       "проведение свадьбы           2315\n",
       "Name: debt, dtype: int64"
      ]
     },
     "execution_count": 59,
     "metadata": {},
     "output_type": "execute_result"
    }
   ],
   "source": [
    "data.groupby('purpose_category')['debt'].count()"
   ]
  },
  {
   "cell_type": "markdown",
   "id": "ce713ff7",
   "metadata": {},
   "source": [
    "Возврат кредита в срок не зависит от целей крудита."
   ]
  },
  {
   "cell_type": "code",
   "execution_count": 60,
   "id": "3c78a6e8",
   "metadata": {
    "scrolled": false
   },
   "outputs": [
    {
     "data": {
      "text/html": [
       "<div>\n",
       "<style scoped>\n",
       "    .dataframe tbody tr th:only-of-type {\n",
       "        vertical-align: middle;\n",
       "    }\n",
       "\n",
       "    .dataframe tbody tr th {\n",
       "        vertical-align: top;\n",
       "    }\n",
       "\n",
       "    .dataframe thead th {\n",
       "        text-align: right;\n",
       "    }\n",
       "</style>\n",
       "<table border=\"1\" class=\"dataframe\">\n",
       "  <thead>\n",
       "    <tr style=\"text-align: right;\">\n",
       "      <th>education_id</th>\n",
       "      <th>высшее</th>\n",
       "      <th>среднее</th>\n",
       "      <th>неоконченное высшее</th>\n",
       "      <th>начальное</th>\n",
       "      <th>ученая степень</th>\n",
       "    </tr>\n",
       "    <tr>\n",
       "      <th>purpose_category</th>\n",
       "      <th></th>\n",
       "      <th></th>\n",
       "      <th></th>\n",
       "      <th></th>\n",
       "      <th></th>\n",
       "    </tr>\n",
       "  </thead>\n",
       "  <tbody>\n",
       "    <tr>\n",
       "      <th>операции с автомобилем</th>\n",
       "      <td>6</td>\n",
       "      <td>10</td>\n",
       "      <td>10</td>\n",
       "      <td>10</td>\n",
       "      <td>0</td>\n",
       "    </tr>\n",
       "    <tr>\n",
       "      <th>операции с недвижимостью</th>\n",
       "      <td>4</td>\n",
       "      <td>7</td>\n",
       "      <td>8</td>\n",
       "      <td>11</td>\n",
       "      <td>0</td>\n",
       "    </tr>\n",
       "    <tr>\n",
       "      <th>получение образования</th>\n",
       "      <td>5</td>\n",
       "      <td>10</td>\n",
       "      <td>9</td>\n",
       "      <td>9</td>\n",
       "      <td>0</td>\n",
       "    </tr>\n",
       "    <tr>\n",
       "      <th>проведение свадьбы</th>\n",
       "      <td>4</td>\n",
       "      <td>9</td>\n",
       "      <td>7</td>\n",
       "      <td>14</td>\n",
       "      <td>0</td>\n",
       "    </tr>\n",
       "  </tbody>\n",
       "</table>\n",
       "</div>"
      ],
      "text/plain": [
       "education_id              высшее  среднее  неоконченное высшее  начальное  \\\n",
       "purpose_category                                                            \n",
       "операции с автомобилем         6       10                   10         10   \n",
       "операции с недвижимостью       4        7                    8         11   \n",
       "получение образования          5       10                    9          9   \n",
       "проведение свадьбы             4        9                    7         14   \n",
       "\n",
       "education_id              ученая степень  \n",
       "purpose_category                          \n",
       "операции с автомобилем                 0  \n",
       "операции с недвижимостью               0  \n",
       "получение образования                  0  \n",
       "проведение свадьбы                     0  "
      ]
     },
     "execution_count": 60,
     "metadata": {},
     "output_type": "execute_result"
    }
   ],
   "source": [
    "data_pivot = data.pivot_table(index=['purpose_category'],columns='education_id', values='debt', aggfunc='mean',dropna=True, fill_value=0)\n",
    "data_pivot = (data_pivot.rename(columns = dict(education_df.values))*100).astype('int')\n",
    "data_pivot"
   ]
  },
  {
   "cell_type": "markdown",
   "id": "127cf564",
   "metadata": {},
   "source": [
    "Чаще всего не платят по кредитам на свадьбу люди с начальным образованием."
   ]
  },
  {
   "cell_type": "code",
   "execution_count": 61,
   "id": "6267afbe",
   "metadata": {
    "scrolled": true
   },
   "outputs": [
    {
     "data": {
      "text/html": [
       "<div>\n",
       "<style scoped>\n",
       "    .dataframe tbody tr th:only-of-type {\n",
       "        vertical-align: middle;\n",
       "    }\n",
       "\n",
       "    .dataframe tbody tr th {\n",
       "        vertical-align: top;\n",
       "    }\n",
       "\n",
       "    .dataframe thead th {\n",
       "        text-align: right;\n",
       "    }\n",
       "</style>\n",
       "<table border=\"1\" class=\"dataframe\">\n",
       "  <thead>\n",
       "    <tr style=\"text-align: right;\">\n",
       "      <th>income_type</th>\n",
       "      <th>безработный</th>\n",
       "      <th>в декрете</th>\n",
       "      <th>госслужащий</th>\n",
       "      <th>компаньон</th>\n",
       "      <th>пенсионер</th>\n",
       "      <th>предприниматель</th>\n",
       "      <th>сотрудник</th>\n",
       "      <th>студент</th>\n",
       "    </tr>\n",
       "    <tr>\n",
       "      <th>purpose_category</th>\n",
       "      <th></th>\n",
       "      <th></th>\n",
       "      <th></th>\n",
       "      <th></th>\n",
       "      <th></th>\n",
       "      <th></th>\n",
       "      <th></th>\n",
       "      <th></th>\n",
       "    </tr>\n",
       "  </thead>\n",
       "  <tbody>\n",
       "    <tr>\n",
       "      <th>операции с автомобилем</th>\n",
       "      <td>0</td>\n",
       "      <td>100</td>\n",
       "      <td>7</td>\n",
       "      <td>8</td>\n",
       "      <td>6</td>\n",
       "      <td>0</td>\n",
       "      <td>11</td>\n",
       "      <td>0</td>\n",
       "    </tr>\n",
       "    <tr>\n",
       "      <th>операции с недвижимостью</th>\n",
       "      <td>50</td>\n",
       "      <td>0</td>\n",
       "      <td>4</td>\n",
       "      <td>6</td>\n",
       "      <td>4</td>\n",
       "      <td>0</td>\n",
       "      <td>8</td>\n",
       "      <td>0</td>\n",
       "    </tr>\n",
       "    <tr>\n",
       "      <th>получение образования</th>\n",
       "      <td>0</td>\n",
       "      <td>0</td>\n",
       "      <td>8</td>\n",
       "      <td>7</td>\n",
       "      <td>6</td>\n",
       "      <td>0</td>\n",
       "      <td>11</td>\n",
       "      <td>0</td>\n",
       "    </tr>\n",
       "    <tr>\n",
       "      <th>проведение свадьбы</th>\n",
       "      <td>0</td>\n",
       "      <td>0</td>\n",
       "      <td>4</td>\n",
       "      <td>9</td>\n",
       "      <td>5</td>\n",
       "      <td>0</td>\n",
       "      <td>8</td>\n",
       "      <td>0</td>\n",
       "    </tr>\n",
       "  </tbody>\n",
       "</table>\n",
       "</div>"
      ],
      "text/plain": [
       "income_type               безработный  в декрете  госслужащий  компаньон  \\\n",
       "purpose_category                                                           \n",
       "операции с автомобилем              0        100            7          8   \n",
       "операции с недвижимостью           50          0            4          6   \n",
       "получение образования               0          0            8          7   \n",
       "проведение свадьбы                  0          0            4          9   \n",
       "\n",
       "income_type               пенсионер  предприниматель  сотрудник  студент  \n",
       "purpose_category                                                          \n",
       "операции с автомобилем            6                0         11        0  \n",
       "операции с недвижимостью          4                0          8        0  \n",
       "получение образования             6                0         11        0  \n",
       "проведение свадьбы                5                0          8        0  "
      ]
     },
     "execution_count": 61,
     "metadata": {},
     "output_type": "execute_result"
    }
   ],
   "source": [
    "data_pivot = data.pivot_table(index=['purpose_category'],columns='income_type', values='debt', aggfunc='mean',dropna=True, fill_value=0)\n",
    "(data_pivot*100).astype('int')"
   ]
  },
  {
   "cell_type": "markdown",
   "id": "52d6fabd",
   "metadata": {},
   "source": [
    "Связь между целью кредита, местом работы и неплатежами отсутсвует. По безработным и декретным выборка нерепрезентативная."
   ]
  },
  {
   "cell_type": "markdown",
   "id": "320cb0b1",
   "metadata": {},
   "source": [
    "##### Вывод 4: Как разные цели кредита влияют на его возврат в срок?\n",
    "- Цели кредита не влияют на его возврат в срок.\n",
    "- Наибольший процент неплатежей среди кредитов на свадьбу у людей с начальным образованием.\n"
   ]
  },
  {
   "cell_type": "markdown",
   "id": "a74a0aea",
   "metadata": {},
   "source": [
    "## Общий вывод:"
   ]
  },
  {
   "cell_type": "markdown",
   "id": "4c141647",
   "metadata": {},
   "source": [
    "**- Есть ли зависимость между количеством детей и возвратом кредита в срок?**\n",
    " - Больше всего кредитов берут женатые без детей, соответсвенно в этой же категории больше всего невозвратов. Сравнивать абсолютные значения между категориями некорректно, поэтому правильнее смотреть на долю невозвратов в каждой категории.\n",
    " - Связь между количеством детей и процентом невозвратов кретита в срок отсутсвуюет.\n",
    " - У одиноких граждан, граждан с неоконченным высшим или начальным образованием, пенсионеров c большим количеством детей процент неплатежей выше, чем у остальных.\n",
    " - Доля неплатежей по кредитам на свадьбу у граждан с 3 детьми и по кредитам на недвижимость у граждан с 4 детьми выше, чем у остальных. Но таких кредитов достаточно мало, поэтому выборка по этим категориям может быть нерепрезентативной.\n",
    " \n",
    "**- Есть ли зависимость между семейным положением и возвратом кредита в срок?**\n",
    " - Больше всего кредитов берут женатые, соответственно и неплатежей больше среди женатых. \n",
    " - Связь между долей неплатежей и семейным статусом отсутсвует. Хотя у тех кто живет гражданским браком и у нежинатых процент неплатежей немного выше.\n",
    " - Наибольший процент неплатежей у живущих гражданским браком с начальным образованием. Так же высокая доля неплатежей у разведенных и вдовцов с неоконченным высшим.\n",
    " - Наибольший процент неплатежей по кредитам на образование у тех, кто живет гражданским браком.\n",
    " \n",
    "**- Есть ли зависимость между уровнем дохода и возвратом кредита в срок?**\n",
    " - Самые богатые и самые бедные категории граждан реже берут кредиты, поэтому информации в этих группах меньше, чем в остальных и она может быть нерепрезентативной.\n",
    " - Больше всего кредитов берут граждани со средним доходом или с доходом выше среднего, соответсвенно больше всего неплатежей в этих же категориях.\n",
    " - Однозначная связь между уровнем дохода и долей неплатежей по группам дохода отсутсвует.\n",
    " - Процент неплатежей немного выше у самой бедной группы.\n",
    " - Бедные пенсионеры и богатые компаньены одинаково часто не платят во время по кредитам, доля неплатежей выше, чем у остальных групп.\n",
    " - Граждане с доходом ниже среднего чаще всего не платят за автомобильные кредиты.\n",
    " \n",
    "**- Как разные цели кредита влияют на его возврат в срок?**\n",
    "\n",
    "   - Больше всего кредитов берут на недвижимость, соответственно в этой категории и больше всего неплатежей.\n",
    "   - Однозначная связь между целью кредита и долей неплатежей отсутсвует.\n",
    "   - По кредитам на свадьбу и на автомобиль процент неплатежей немного выше, чем по остальным категориям.\n",
    "   - Чаще всего по кредитам на свадьбу не платят люди с начальным образованием.\n"
   ]
  }
 ],
 "metadata": {
  "ExecuteTimeLog": [
   {
    "duration": 684,
    "start_time": "2022-05-19T09:29:56.094Z"
   },
   {
    "duration": 374,
    "start_time": "2022-05-19T09:31:12.558Z"
   },
   {
    "duration": 82,
    "start_time": "2022-05-19T09:35:06.325Z"
   },
   {
    "duration": 81,
    "start_time": "2022-05-19T09:35:22.109Z"
   },
   {
    "duration": 109,
    "start_time": "2022-05-19T09:36:13.346Z"
   },
   {
    "duration": 115,
    "start_time": "2022-05-19T10:00:00.883Z"
   },
   {
    "duration": 93,
    "start_time": "2022-05-19T10:02:28.431Z"
   },
   {
    "duration": 83,
    "start_time": "2022-05-19T10:44:43.370Z"
   },
   {
    "duration": 12,
    "start_time": "2022-05-19T10:46:11.332Z"
   },
   {
    "duration": 15,
    "start_time": "2022-05-19T10:46:17.127Z"
   },
   {
    "duration": 113,
    "start_time": "2022-05-19T10:52:17.679Z"
   },
   {
    "duration": 97,
    "start_time": "2022-05-19T10:55:33.030Z"
   },
   {
    "duration": 361,
    "start_time": "2022-05-19T10:58:02.212Z"
   },
   {
    "duration": 7,
    "start_time": "2022-05-19T10:58:43.489Z"
   },
   {
    "duration": 6,
    "start_time": "2022-05-19T10:58:48.904Z"
   },
   {
    "duration": 4,
    "start_time": "2022-05-19T11:18:21.438Z"
   },
   {
    "duration": 8,
    "start_time": "2022-05-19T11:18:58.981Z"
   },
   {
    "duration": 5,
    "start_time": "2022-05-19T11:22:31.902Z"
   },
   {
    "duration": 4,
    "start_time": "2022-05-19T11:22:41.002Z"
   },
   {
    "duration": 41,
    "start_time": "2022-05-19T11:24:14.881Z"
   },
   {
    "duration": 8,
    "start_time": "2022-05-19T11:32:27.917Z"
   },
   {
    "duration": 11,
    "start_time": "2022-05-19T11:33:33.468Z"
   },
   {
    "duration": 12,
    "start_time": "2022-05-19T11:34:32.880Z"
   },
   {
    "duration": 100,
    "start_time": "2022-05-19T11:34:51.980Z"
   },
   {
    "duration": 10,
    "start_time": "2022-05-19T11:34:59.363Z"
   },
   {
    "duration": 8,
    "start_time": "2022-05-19T11:38:15.694Z"
   },
   {
    "duration": 7,
    "start_time": "2022-05-19T11:38:31.285Z"
   },
   {
    "duration": 6,
    "start_time": "2022-05-19T11:38:49.593Z"
   },
   {
    "duration": 11,
    "start_time": "2022-05-19T11:39:01.774Z"
   },
   {
    "duration": 22,
    "start_time": "2022-05-19T11:39:11.883Z"
   },
   {
    "duration": 49,
    "start_time": "2022-05-19T11:40:58.436Z"
   },
   {
    "duration": 9,
    "start_time": "2022-05-19T11:41:39.481Z"
   },
   {
    "duration": 8,
    "start_time": "2022-05-19T11:41:54.574Z"
   },
   {
    "duration": 9,
    "start_time": "2022-05-19T11:43:37.314Z"
   },
   {
    "duration": 11,
    "start_time": "2022-05-19T11:44:16.254Z"
   },
   {
    "duration": 7,
    "start_time": "2022-05-19T11:44:32.673Z"
   },
   {
    "duration": 8,
    "start_time": "2022-05-19T11:44:50.020Z"
   },
   {
    "duration": 90,
    "start_time": "2022-05-19T11:56:10.762Z"
   },
   {
    "duration": 85,
    "start_time": "2022-05-19T11:56:38.078Z"
   },
   {
    "duration": 80,
    "start_time": "2022-05-19T11:58:37.452Z"
   },
   {
    "duration": 37,
    "start_time": "2022-05-19T12:00:51.599Z"
   },
   {
    "duration": 50,
    "start_time": "2022-05-19T12:10:12.329Z"
   },
   {
    "duration": 6,
    "start_time": "2022-05-19T12:14:16.569Z"
   },
   {
    "duration": 6,
    "start_time": "2022-05-19T12:14:55.897Z"
   },
   {
    "duration": 6,
    "start_time": "2022-05-19T12:15:11.013Z"
   },
   {
    "duration": 10,
    "start_time": "2022-05-19T12:15:43.157Z"
   },
   {
    "duration": 4,
    "start_time": "2022-05-19T12:19:42.554Z"
   },
   {
    "duration": 8,
    "start_time": "2022-05-19T12:19:45.661Z"
   },
   {
    "duration": 3,
    "start_time": "2022-05-19T12:19:49.826Z"
   },
   {
    "duration": 58,
    "start_time": "2022-05-19T12:19:58.025Z"
   },
   {
    "duration": 6,
    "start_time": "2022-05-19T12:20:13.908Z"
   },
   {
    "duration": 6,
    "start_time": "2022-05-19T12:20:37.715Z"
   },
   {
    "duration": 6,
    "start_time": "2022-05-19T12:27:45.184Z"
   },
   {
    "duration": 4,
    "start_time": "2022-05-19T12:27:58.474Z"
   },
   {
    "duration": 5,
    "start_time": "2022-05-19T12:28:05.577Z"
   },
   {
    "duration": 15,
    "start_time": "2022-05-19T12:29:05.961Z"
   },
   {
    "duration": 5,
    "start_time": "2022-05-19T12:49:57.339Z"
   },
   {
    "duration": 6,
    "start_time": "2022-05-19T12:50:09.424Z"
   },
   {
    "duration": 16,
    "start_time": "2022-05-19T12:50:34.053Z"
   },
   {
    "duration": 10,
    "start_time": "2022-05-19T12:51:02.812Z"
   },
   {
    "duration": 9,
    "start_time": "2022-05-19T12:51:14.893Z"
   },
   {
    "duration": 11,
    "start_time": "2022-05-19T12:51:45.705Z"
   },
   {
    "duration": 17,
    "start_time": "2022-05-19T16:50:07.740Z"
   },
   {
    "duration": 10,
    "start_time": "2022-05-19T17:15:22.766Z"
   },
   {
    "duration": 5,
    "start_time": "2022-05-19T17:15:33.592Z"
   },
   {
    "duration": 9,
    "start_time": "2022-05-19T17:16:56.974Z"
   },
   {
    "duration": 13,
    "start_time": "2022-05-19T17:19:34.614Z"
   },
   {
    "duration": 11,
    "start_time": "2022-05-19T17:19:42.026Z"
   },
   {
    "duration": 641,
    "start_time": "2022-05-19T17:19:50.847Z"
   },
   {
    "duration": 15,
    "start_time": "2022-05-19T17:19:51.490Z"
   },
   {
    "duration": 35,
    "start_time": "2022-05-19T17:19:51.506Z"
   },
   {
    "duration": 25,
    "start_time": "2022-05-19T17:19:51.543Z"
   },
   {
    "duration": 47,
    "start_time": "2022-05-19T17:19:51.571Z"
   },
   {
    "duration": 27,
    "start_time": "2022-05-19T17:19:51.619Z"
   },
   {
    "duration": 41,
    "start_time": "2022-05-19T17:19:51.648Z"
   },
   {
    "duration": 37,
    "start_time": "2022-05-19T17:19:51.691Z"
   },
   {
    "duration": 24,
    "start_time": "2022-05-19T17:19:51.730Z"
   },
   {
    "duration": 30,
    "start_time": "2022-05-19T17:19:51.756Z"
   },
   {
    "duration": 18,
    "start_time": "2022-05-19T17:19:51.788Z"
   },
   {
    "duration": 8,
    "start_time": "2022-05-19T17:22:35.681Z"
   },
   {
    "duration": 2,
    "start_time": "2022-05-19T17:24:49.845Z"
   },
   {
    "duration": 10,
    "start_time": "2022-05-19T17:30:07.773Z"
   },
   {
    "duration": 17,
    "start_time": "2022-05-19T17:31:58.280Z"
   },
   {
    "duration": 22,
    "start_time": "2022-05-19T17:36:18.596Z"
   },
   {
    "duration": 48,
    "start_time": "2022-05-19T17:37:12.512Z"
   },
   {
    "duration": 8,
    "start_time": "2022-05-19T17:38:06.260Z"
   },
   {
    "duration": 29,
    "start_time": "2022-05-19T17:40:52.456Z"
   },
   {
    "duration": 653,
    "start_time": "2022-05-19T17:42:26.883Z"
   },
   {
    "duration": 6,
    "start_time": "2022-05-19T17:42:50.383Z"
   },
   {
    "duration": 8,
    "start_time": "2022-05-19T17:43:31.605Z"
   },
   {
    "duration": 45,
    "start_time": "2022-05-19T17:45:04.439Z"
   },
   {
    "duration": 16,
    "start_time": "2022-05-19T17:46:36.007Z"
   },
   {
    "duration": 9,
    "start_time": "2022-05-19T17:49:24.946Z"
   },
   {
    "duration": 20,
    "start_time": "2022-05-19T17:49:33.497Z"
   },
   {
    "duration": 21,
    "start_time": "2022-05-19T17:53:03.235Z"
   },
   {
    "duration": 21,
    "start_time": "2022-05-19T17:53:07.409Z"
   },
   {
    "duration": 37,
    "start_time": "2022-05-19T17:53:21.067Z"
   },
   {
    "duration": 30,
    "start_time": "2022-05-19T17:53:25.792Z"
   },
   {
    "duration": 29,
    "start_time": "2022-05-19T17:54:25.477Z"
   },
   {
    "duration": 33,
    "start_time": "2022-05-19T17:55:09.994Z"
   },
   {
    "duration": 43,
    "start_time": "2022-05-19T17:55:43.350Z"
   },
   {
    "duration": 30,
    "start_time": "2022-05-19T17:56:14.028Z"
   },
   {
    "duration": 61,
    "start_time": "2022-05-19T17:56:21.624Z"
   },
   {
    "duration": 34,
    "start_time": "2022-05-19T17:57:06.039Z"
   },
   {
    "duration": 55,
    "start_time": "2022-05-19T17:58:01.167Z"
   },
   {
    "duration": 52,
    "start_time": "2022-05-19T17:59:16.652Z"
   },
   {
    "duration": 39,
    "start_time": "2022-05-19T17:59:39.565Z"
   },
   {
    "duration": 33,
    "start_time": "2022-05-19T17:59:43.376Z"
   },
   {
    "duration": 729,
    "start_time": "2022-05-19T18:00:18.543Z"
   },
   {
    "duration": 778,
    "start_time": "2022-05-19T18:00:47.815Z"
   },
   {
    "duration": 47,
    "start_time": "2022-05-19T18:01:24.171Z"
   },
   {
    "duration": 47,
    "start_time": "2022-05-19T18:01:59.465Z"
   },
   {
    "duration": 53,
    "start_time": "2022-05-19T18:04:49.776Z"
   },
   {
    "duration": 43,
    "start_time": "2022-05-19T18:05:57.811Z"
   },
   {
    "duration": 23,
    "start_time": "2022-05-19T18:07:04.589Z"
   },
   {
    "duration": 8,
    "start_time": "2022-05-19T18:07:10.893Z"
   },
   {
    "duration": 12,
    "start_time": "2022-05-19T18:15:48.814Z"
   },
   {
    "duration": 13,
    "start_time": "2022-05-19T18:15:55.788Z"
   },
   {
    "duration": 6,
    "start_time": "2022-05-19T18:22:02.253Z"
   },
   {
    "duration": 6,
    "start_time": "2022-05-19T18:22:45.821Z"
   },
   {
    "duration": 12,
    "start_time": "2022-05-19T18:25:18.397Z"
   },
   {
    "duration": 20,
    "start_time": "2022-05-19T18:26:03.495Z"
   },
   {
    "duration": 647,
    "start_time": "2022-05-19T18:29:56.909Z"
   },
   {
    "duration": 19,
    "start_time": "2022-05-19T18:30:35.926Z"
   },
   {
    "duration": 7,
    "start_time": "2022-05-19T18:30:39.794Z"
   },
   {
    "duration": 512,
    "start_time": "2022-05-19T18:33:06.985Z"
   },
   {
    "duration": 16,
    "start_time": "2022-05-19T18:33:07.500Z"
   },
   {
    "duration": 7,
    "start_time": "2022-05-19T18:33:07.517Z"
   },
   {
    "duration": 8,
    "start_time": "2022-05-19T18:33:07.525Z"
   },
   {
    "duration": 41,
    "start_time": "2022-05-19T18:33:07.536Z"
   },
   {
    "duration": 14,
    "start_time": "2022-05-19T18:33:07.583Z"
   },
   {
    "duration": 5,
    "start_time": "2022-05-19T18:33:07.599Z"
   },
   {
    "duration": 12,
    "start_time": "2022-05-19T18:33:07.605Z"
   },
   {
    "duration": 13,
    "start_time": "2022-05-19T18:33:07.619Z"
   },
   {
    "duration": 17,
    "start_time": "2022-05-19T18:33:07.633Z"
   },
   {
    "duration": 45,
    "start_time": "2022-05-19T18:33:07.652Z"
   },
   {
    "duration": 7,
    "start_time": "2022-05-19T18:33:07.698Z"
   },
   {
    "duration": 19,
    "start_time": "2022-05-19T18:33:07.706Z"
   },
   {
    "duration": 8,
    "start_time": "2022-05-19T18:33:07.728Z"
   },
   {
    "duration": 19,
    "start_time": "2022-05-19T18:33:07.738Z"
   },
   {
    "duration": 27,
    "start_time": "2022-05-19T18:33:07.759Z"
   },
   {
    "duration": 29,
    "start_time": "2022-05-19T18:33:07.791Z"
   },
   {
    "duration": 34,
    "start_time": "2022-05-19T18:33:07.822Z"
   },
   {
    "duration": 43,
    "start_time": "2022-05-19T18:33:07.858Z"
   },
   {
    "duration": 23,
    "start_time": "2022-05-19T18:33:07.902Z"
   },
   {
    "duration": 9,
    "start_time": "2022-05-19T18:33:07.926Z"
   },
   {
    "duration": 10,
    "start_time": "2022-05-19T18:42:54.335Z"
   },
   {
    "duration": 4,
    "start_time": "2022-05-19T19:23:14.822Z"
   },
   {
    "duration": 24,
    "start_time": "2022-05-19T19:25:01.506Z"
   },
   {
    "duration": 20,
    "start_time": "2022-05-19T19:25:46.686Z"
   },
   {
    "duration": 593,
    "start_time": "2022-05-20T06:05:36.656Z"
   },
   {
    "duration": 20,
    "start_time": "2022-05-20T06:05:37.252Z"
   },
   {
    "duration": 7,
    "start_time": "2022-05-20T06:05:37.274Z"
   },
   {
    "duration": 11,
    "start_time": "2022-05-20T06:05:37.295Z"
   },
   {
    "duration": 18,
    "start_time": "2022-05-20T06:05:37.309Z"
   },
   {
    "duration": 13,
    "start_time": "2022-05-20T06:05:37.330Z"
   },
   {
    "duration": 9,
    "start_time": "2022-05-20T06:05:37.345Z"
   },
   {
    "duration": 6,
    "start_time": "2022-05-20T06:05:37.356Z"
   },
   {
    "duration": 15,
    "start_time": "2022-05-20T06:05:37.394Z"
   },
   {
    "duration": 16,
    "start_time": "2022-05-20T06:05:37.411Z"
   },
   {
    "duration": 26,
    "start_time": "2022-05-20T06:05:37.428Z"
   },
   {
    "duration": 9,
    "start_time": "2022-05-20T06:05:37.457Z"
   },
   {
    "duration": 45,
    "start_time": "2022-05-20T06:05:37.468Z"
   },
   {
    "duration": 22,
    "start_time": "2022-05-20T06:05:37.515Z"
   },
   {
    "duration": 35,
    "start_time": "2022-05-20T06:05:37.540Z"
   },
   {
    "duration": 43,
    "start_time": "2022-05-20T06:05:37.577Z"
   },
   {
    "duration": 29,
    "start_time": "2022-05-20T06:05:37.622Z"
   },
   {
    "duration": 53,
    "start_time": "2022-05-20T06:05:37.653Z"
   },
   {
    "duration": 13,
    "start_time": "2022-05-20T06:05:37.708Z"
   },
   {
    "duration": 47,
    "start_time": "2022-05-20T06:05:37.723Z"
   },
   {
    "duration": 29,
    "start_time": "2022-05-20T06:05:37.772Z"
   },
   {
    "duration": 19,
    "start_time": "2022-05-20T06:05:37.803Z"
   },
   {
    "duration": 10,
    "start_time": "2022-05-20T06:05:37.825Z"
   },
   {
    "duration": 33,
    "start_time": "2022-05-20T06:05:37.837Z"
   },
   {
    "duration": 26,
    "start_time": "2022-05-20T06:05:37.873Z"
   },
   {
    "duration": 563,
    "start_time": "2022-05-20T06:11:02.206Z"
   },
   {
    "duration": 25,
    "start_time": "2022-05-20T06:11:02.771Z"
   },
   {
    "duration": 10,
    "start_time": "2022-05-20T06:11:02.798Z"
   },
   {
    "duration": 10,
    "start_time": "2022-05-20T06:11:02.809Z"
   },
   {
    "duration": 6,
    "start_time": "2022-05-20T06:11:02.822Z"
   },
   {
    "duration": 8,
    "start_time": "2022-05-20T06:11:02.830Z"
   },
   {
    "duration": 13,
    "start_time": "2022-05-20T06:11:02.839Z"
   },
   {
    "duration": 57,
    "start_time": "2022-05-20T06:11:02.853Z"
   },
   {
    "duration": 11,
    "start_time": "2022-05-20T06:11:02.911Z"
   },
   {
    "duration": 9,
    "start_time": "2022-05-20T06:11:02.924Z"
   },
   {
    "duration": 22,
    "start_time": "2022-05-20T06:11:02.935Z"
   },
   {
    "duration": 11,
    "start_time": "2022-05-20T06:11:02.959Z"
   },
   {
    "duration": 46,
    "start_time": "2022-05-20T06:11:02.972Z"
   },
   {
    "duration": 18,
    "start_time": "2022-05-20T06:11:03.021Z"
   },
   {
    "duration": 20,
    "start_time": "2022-05-20T06:11:03.041Z"
   },
   {
    "duration": 56,
    "start_time": "2022-05-20T06:11:03.063Z"
   },
   {
    "duration": 6,
    "start_time": "2022-05-20T06:11:03.120Z"
   },
   {
    "duration": 22,
    "start_time": "2022-05-20T06:11:03.128Z"
   },
   {
    "duration": 6,
    "start_time": "2022-05-20T06:11:03.152Z"
   },
   {
    "duration": 44,
    "start_time": "2022-05-20T06:11:03.160Z"
   },
   {
    "duration": 4,
    "start_time": "2022-05-20T06:11:03.208Z"
   },
   {
    "duration": 31,
    "start_time": "2022-05-20T06:11:03.214Z"
   },
   {
    "duration": 11,
    "start_time": "2022-05-20T06:11:03.246Z"
   },
   {
    "duration": 85,
    "start_time": "2022-05-20T06:24:18.586Z"
   },
   {
    "duration": 5,
    "start_time": "2022-05-20T06:24:21.619Z"
   },
   {
    "duration": 13,
    "start_time": "2022-05-20T06:25:25.610Z"
   },
   {
    "duration": 7,
    "start_time": "2022-05-20T06:26:08.376Z"
   },
   {
    "duration": 13,
    "start_time": "2022-05-20T06:26:17.844Z"
   },
   {
    "duration": 13,
    "start_time": "2022-05-20T06:28:40.011Z"
   },
   {
    "duration": 13,
    "start_time": "2022-05-20T06:28:43.707Z"
   },
   {
    "duration": 13,
    "start_time": "2022-05-20T06:28:48.563Z"
   },
   {
    "duration": 25,
    "start_time": "2022-05-20T06:30:23.202Z"
   },
   {
    "duration": 9,
    "start_time": "2022-05-20T06:30:38.409Z"
   },
   {
    "duration": 24,
    "start_time": "2022-05-20T06:30:46.607Z"
   },
   {
    "duration": 17,
    "start_time": "2022-05-20T06:31:15.913Z"
   },
   {
    "duration": 9,
    "start_time": "2022-05-20T06:36:13.103Z"
   },
   {
    "duration": 11,
    "start_time": "2022-05-20T06:47:35.518Z"
   },
   {
    "duration": 11,
    "start_time": "2022-05-20T06:47:44.597Z"
   },
   {
    "duration": 13,
    "start_time": "2022-05-20T06:49:23.640Z"
   },
   {
    "duration": 12,
    "start_time": "2022-05-20T06:49:30.970Z"
   },
   {
    "duration": 9,
    "start_time": "2022-05-20T06:49:42.806Z"
   },
   {
    "duration": 9,
    "start_time": "2022-05-20T06:49:56.181Z"
   },
   {
    "duration": 10,
    "start_time": "2022-05-20T06:50:42.623Z"
   },
   {
    "duration": 11,
    "start_time": "2022-05-20T07:15:50.040Z"
   },
   {
    "duration": 10,
    "start_time": "2022-05-20T07:23:45.880Z"
   },
   {
    "duration": 13,
    "start_time": "2022-05-20T07:24:30.131Z"
   },
   {
    "duration": 11,
    "start_time": "2022-05-20T07:24:44.523Z"
   },
   {
    "duration": 14,
    "start_time": "2022-05-20T07:31:57.432Z"
   },
   {
    "duration": 15,
    "start_time": "2022-05-20T07:33:28.670Z"
   },
   {
    "duration": 9,
    "start_time": "2022-05-20T07:37:16.266Z"
   },
   {
    "duration": 24,
    "start_time": "2022-05-20T07:38:31.886Z"
   },
   {
    "duration": 10,
    "start_time": "2022-05-20T07:38:35.475Z"
   },
   {
    "duration": 557,
    "start_time": "2022-05-20T07:38:44.532Z"
   },
   {
    "duration": 29,
    "start_time": "2022-05-20T07:38:45.091Z"
   },
   {
    "duration": 7,
    "start_time": "2022-05-20T07:38:45.122Z"
   },
   {
    "duration": 6,
    "start_time": "2022-05-20T07:38:45.131Z"
   },
   {
    "duration": 16,
    "start_time": "2022-05-20T07:38:45.140Z"
   },
   {
    "duration": 9,
    "start_time": "2022-05-20T07:38:45.158Z"
   },
   {
    "duration": 45,
    "start_time": "2022-05-20T07:38:45.169Z"
   },
   {
    "duration": 15,
    "start_time": "2022-05-20T07:38:45.216Z"
   },
   {
    "duration": 14,
    "start_time": "2022-05-20T07:38:45.233Z"
   },
   {
    "duration": 11,
    "start_time": "2022-05-20T07:38:45.249Z"
   },
   {
    "duration": 39,
    "start_time": "2022-05-20T07:38:45.262Z"
   },
   {
    "duration": 16,
    "start_time": "2022-05-20T07:38:45.303Z"
   },
   {
    "duration": 31,
    "start_time": "2022-05-20T07:38:45.321Z"
   },
   {
    "duration": 23,
    "start_time": "2022-05-20T07:38:45.354Z"
   },
   {
    "duration": 36,
    "start_time": "2022-05-20T07:38:45.379Z"
   },
   {
    "duration": 45,
    "start_time": "2022-05-20T07:38:45.417Z"
   },
   {
    "duration": 11,
    "start_time": "2022-05-20T07:38:45.463Z"
   },
   {
    "duration": 14,
    "start_time": "2022-05-20T07:38:45.494Z"
   },
   {
    "duration": 11,
    "start_time": "2022-05-20T07:38:45.510Z"
   },
   {
    "duration": 37,
    "start_time": "2022-05-20T07:38:45.523Z"
   },
   {
    "duration": 12,
    "start_time": "2022-05-20T07:38:45.561Z"
   },
   {
    "duration": 17,
    "start_time": "2022-05-20T07:38:45.575Z"
   },
   {
    "duration": 28,
    "start_time": "2022-05-20T07:38:45.595Z"
   },
   {
    "duration": 12,
    "start_time": "2022-05-20T07:38:45.625Z"
   },
   {
    "duration": 15,
    "start_time": "2022-05-20T07:38:45.639Z"
   },
   {
    "duration": 7,
    "start_time": "2022-05-20T07:38:45.656Z"
   },
   {
    "duration": 43,
    "start_time": "2022-05-20T07:38:45.664Z"
   },
   {
    "duration": 8,
    "start_time": "2022-05-20T07:38:45.711Z"
   },
   {
    "duration": 98,
    "start_time": "2022-05-20T08:06:50.927Z"
   },
   {
    "duration": 27,
    "start_time": "2022-05-20T08:08:55.943Z"
   },
   {
    "duration": 10,
    "start_time": "2022-05-20T08:10:50.608Z"
   },
   {
    "duration": 6,
    "start_time": "2022-05-20T08:11:53.911Z"
   },
   {
    "duration": 609,
    "start_time": "2022-05-20T08:12:42.617Z"
   },
   {
    "duration": 19,
    "start_time": "2022-05-20T08:12:43.229Z"
   },
   {
    "duration": 8,
    "start_time": "2022-05-20T08:12:43.250Z"
   },
   {
    "duration": 16,
    "start_time": "2022-05-20T08:12:43.261Z"
   },
   {
    "duration": 29,
    "start_time": "2022-05-20T08:12:43.279Z"
   },
   {
    "duration": 15,
    "start_time": "2022-05-20T08:12:43.309Z"
   },
   {
    "duration": 24,
    "start_time": "2022-05-20T08:12:43.326Z"
   },
   {
    "duration": 24,
    "start_time": "2022-05-20T08:12:43.352Z"
   },
   {
    "duration": 43,
    "start_time": "2022-05-20T08:12:43.378Z"
   },
   {
    "duration": 29,
    "start_time": "2022-05-20T08:12:43.425Z"
   },
   {
    "duration": 42,
    "start_time": "2022-05-20T08:12:43.458Z"
   },
   {
    "duration": 22,
    "start_time": "2022-05-20T08:12:43.501Z"
   },
   {
    "duration": 23,
    "start_time": "2022-05-20T08:12:43.525Z"
   },
   {
    "duration": 18,
    "start_time": "2022-05-20T08:12:43.550Z"
   },
   {
    "duration": 43,
    "start_time": "2022-05-20T08:12:43.571Z"
   },
   {
    "duration": 39,
    "start_time": "2022-05-20T08:12:43.616Z"
   },
   {
    "duration": 9,
    "start_time": "2022-05-20T08:12:43.657Z"
   },
   {
    "duration": 44,
    "start_time": "2022-05-20T08:12:43.668Z"
   },
   {
    "duration": 11,
    "start_time": "2022-05-20T08:12:43.715Z"
   },
   {
    "duration": 23,
    "start_time": "2022-05-20T08:12:43.728Z"
   },
   {
    "duration": 8,
    "start_time": "2022-05-20T08:12:43.753Z"
   },
   {
    "duration": 11,
    "start_time": "2022-05-20T08:12:43.762Z"
   },
   {
    "duration": 50,
    "start_time": "2022-05-20T08:12:43.776Z"
   },
   {
    "duration": 8,
    "start_time": "2022-05-20T08:12:43.828Z"
   },
   {
    "duration": 10,
    "start_time": "2022-05-20T08:12:43.838Z"
   },
   {
    "duration": 6,
    "start_time": "2022-05-20T08:12:43.849Z"
   },
   {
    "duration": 49,
    "start_time": "2022-05-20T08:12:43.857Z"
   },
   {
    "duration": 7,
    "start_time": "2022-05-20T08:12:43.909Z"
   },
   {
    "duration": 31,
    "start_time": "2022-05-20T08:12:43.918Z"
   },
   {
    "duration": 6,
    "start_time": "2022-05-20T08:12:43.951Z"
   },
   {
    "duration": 8,
    "start_time": "2022-05-20T08:12:43.958Z"
   },
   {
    "duration": 97,
    "start_time": "2022-05-20T08:17:02.134Z"
   },
   {
    "duration": 7,
    "start_time": "2022-05-20T08:17:10.309Z"
   },
   {
    "duration": 7,
    "start_time": "2022-05-20T08:26:15.465Z"
   },
   {
    "duration": 531,
    "start_time": "2022-05-20T08:30:00.654Z"
   },
   {
    "duration": 621,
    "start_time": "2022-05-20T08:30:08.490Z"
   },
   {
    "duration": 532,
    "start_time": "2022-05-20T08:30:13.846Z"
   },
   {
    "duration": 5,
    "start_time": "2022-05-20T08:30:31.979Z"
   },
   {
    "duration": 7,
    "start_time": "2022-05-20T08:30:45.121Z"
   },
   {
    "duration": 7,
    "start_time": "2022-05-20T08:30:52.626Z"
   },
   {
    "duration": 9,
    "start_time": "2022-05-20T08:30:58.940Z"
   },
   {
    "duration": 578,
    "start_time": "2022-05-20T08:31:25.976Z"
   },
   {
    "duration": 19,
    "start_time": "2022-05-20T08:31:26.556Z"
   },
   {
    "duration": 26,
    "start_time": "2022-05-20T08:31:26.577Z"
   },
   {
    "duration": 13,
    "start_time": "2022-05-20T08:31:26.606Z"
   },
   {
    "duration": 7,
    "start_time": "2022-05-20T08:31:26.621Z"
   },
   {
    "duration": 7,
    "start_time": "2022-05-20T08:31:26.630Z"
   },
   {
    "duration": 13,
    "start_time": "2022-05-20T08:31:26.639Z"
   },
   {
    "duration": 14,
    "start_time": "2022-05-20T08:31:26.654Z"
   },
   {
    "duration": 43,
    "start_time": "2022-05-20T08:31:26.670Z"
   },
   {
    "duration": 8,
    "start_time": "2022-05-20T08:31:26.715Z"
   },
   {
    "duration": 23,
    "start_time": "2022-05-20T08:31:26.724Z"
   },
   {
    "duration": 9,
    "start_time": "2022-05-20T08:31:26.749Z"
   },
   {
    "duration": 40,
    "start_time": "2022-05-20T08:31:26.760Z"
   },
   {
    "duration": 8,
    "start_time": "2022-05-20T08:31:26.803Z"
   },
   {
    "duration": 19,
    "start_time": "2022-05-20T08:31:26.812Z"
   },
   {
    "duration": 23,
    "start_time": "2022-05-20T08:31:26.832Z"
   },
   {
    "duration": 22,
    "start_time": "2022-05-20T08:31:26.857Z"
   },
   {
    "duration": 58,
    "start_time": "2022-05-20T08:31:26.881Z"
   },
   {
    "duration": 9,
    "start_time": "2022-05-20T08:31:26.940Z"
   },
   {
    "duration": 19,
    "start_time": "2022-05-20T08:31:26.952Z"
   },
   {
    "duration": 9,
    "start_time": "2022-05-20T08:31:26.972Z"
   },
   {
    "duration": 26,
    "start_time": "2022-05-20T08:31:26.983Z"
   },
   {
    "duration": 8,
    "start_time": "2022-05-20T08:31:27.011Z"
   },
   {
    "duration": 10,
    "start_time": "2022-05-20T08:31:27.021Z"
   },
   {
    "duration": 32,
    "start_time": "2022-05-20T08:31:27.033Z"
   },
   {
    "duration": 37,
    "start_time": "2022-05-20T08:31:27.066Z"
   },
   {
    "duration": 12,
    "start_time": "2022-05-20T08:31:27.106Z"
   },
   {
    "duration": 4,
    "start_time": "2022-05-20T08:31:27.121Z"
   },
   {
    "duration": 23,
    "start_time": "2022-05-20T08:31:27.126Z"
   },
   {
    "duration": 7,
    "start_time": "2022-05-20T08:31:27.151Z"
   },
   {
    "duration": 50,
    "start_time": "2022-05-20T08:31:27.160Z"
   },
   {
    "duration": 6,
    "start_time": "2022-05-20T08:31:27.211Z"
   },
   {
    "duration": 13,
    "start_time": "2022-05-20T08:31:27.218Z"
   },
   {
    "duration": 88,
    "start_time": "2022-05-20T08:46:14.571Z"
   },
   {
    "duration": 15,
    "start_time": "2022-05-20T08:46:50.807Z"
   },
   {
    "duration": 14,
    "start_time": "2022-05-20T08:46:55.296Z"
   },
   {
    "duration": 16,
    "start_time": "2022-05-20T08:47:16.640Z"
   },
   {
    "duration": 14,
    "start_time": "2022-05-20T08:47:26.629Z"
   },
   {
    "duration": 21,
    "start_time": "2022-05-20T08:48:30.785Z"
   },
   {
    "duration": 7,
    "start_time": "2022-05-20T08:49:07.783Z"
   },
   {
    "duration": 20,
    "start_time": "2022-05-20T08:49:50.492Z"
   },
   {
    "duration": 10,
    "start_time": "2022-05-20T08:50:28.705Z"
   },
   {
    "duration": 9,
    "start_time": "2022-05-20T08:50:38.508Z"
   },
   {
    "duration": 14,
    "start_time": "2022-05-20T08:50:42.813Z"
   },
   {
    "duration": 3,
    "start_time": "2022-05-20T08:51:07.324Z"
   },
   {
    "duration": 14,
    "start_time": "2022-05-20T08:51:15.645Z"
   },
   {
    "duration": 18,
    "start_time": "2022-05-20T08:51:29.017Z"
   },
   {
    "duration": 15,
    "start_time": "2022-05-20T08:51:31.573Z"
   },
   {
    "duration": 513,
    "start_time": "2022-05-20T08:51:40.009Z"
   },
   {
    "duration": 16,
    "start_time": "2022-05-20T08:51:40.524Z"
   },
   {
    "duration": 15,
    "start_time": "2022-05-20T08:51:40.542Z"
   },
   {
    "duration": 8,
    "start_time": "2022-05-20T08:51:40.559Z"
   },
   {
    "duration": 13,
    "start_time": "2022-05-20T08:51:40.569Z"
   },
   {
    "duration": 18,
    "start_time": "2022-05-20T08:51:40.583Z"
   },
   {
    "duration": 16,
    "start_time": "2022-05-20T08:51:40.602Z"
   },
   {
    "duration": 23,
    "start_time": "2022-05-20T08:51:40.619Z"
   },
   {
    "duration": 22,
    "start_time": "2022-05-20T08:51:40.644Z"
   },
   {
    "duration": 13,
    "start_time": "2022-05-20T08:51:40.669Z"
   },
   {
    "duration": 38,
    "start_time": "2022-05-20T08:51:40.684Z"
   },
   {
    "duration": 27,
    "start_time": "2022-05-20T08:51:40.724Z"
   },
   {
    "duration": 27,
    "start_time": "2022-05-20T08:51:40.753Z"
   },
   {
    "duration": 19,
    "start_time": "2022-05-20T08:51:40.782Z"
   },
   {
    "duration": 11,
    "start_time": "2022-05-20T08:51:40.803Z"
   },
   {
    "duration": 105,
    "start_time": "2022-05-20T08:51:40.815Z"
   },
   {
    "duration": 0,
    "start_time": "2022-05-20T08:51:40.922Z"
   },
   {
    "duration": 0,
    "start_time": "2022-05-20T08:51:40.923Z"
   },
   {
    "duration": 0,
    "start_time": "2022-05-20T08:51:40.924Z"
   },
   {
    "duration": 0,
    "start_time": "2022-05-20T08:51:40.926Z"
   },
   {
    "duration": 0,
    "start_time": "2022-05-20T08:51:40.927Z"
   },
   {
    "duration": 0,
    "start_time": "2022-05-20T08:51:40.928Z"
   },
   {
    "duration": 0,
    "start_time": "2022-05-20T08:51:40.930Z"
   },
   {
    "duration": 0,
    "start_time": "2022-05-20T08:51:40.931Z"
   },
   {
    "duration": 0,
    "start_time": "2022-05-20T08:51:40.932Z"
   },
   {
    "duration": 0,
    "start_time": "2022-05-20T08:51:40.933Z"
   },
   {
    "duration": 0,
    "start_time": "2022-05-20T08:51:40.934Z"
   },
   {
    "duration": 0,
    "start_time": "2022-05-20T08:51:40.935Z"
   },
   {
    "duration": 0,
    "start_time": "2022-05-20T08:51:40.936Z"
   },
   {
    "duration": 0,
    "start_time": "2022-05-20T08:51:40.937Z"
   },
   {
    "duration": 0,
    "start_time": "2022-05-20T08:51:40.938Z"
   },
   {
    "duration": 0,
    "start_time": "2022-05-20T08:51:40.940Z"
   },
   {
    "duration": 0,
    "start_time": "2022-05-20T08:51:40.941Z"
   },
   {
    "duration": 0,
    "start_time": "2022-05-20T08:51:40.942Z"
   },
   {
    "duration": 24,
    "start_time": "2022-05-20T08:51:55.461Z"
   },
   {
    "duration": 542,
    "start_time": "2022-05-20T08:52:13.701Z"
   },
   {
    "duration": 18,
    "start_time": "2022-05-20T08:52:14.245Z"
   },
   {
    "duration": 7,
    "start_time": "2022-05-20T08:52:14.265Z"
   },
   {
    "duration": 22,
    "start_time": "2022-05-20T08:52:14.275Z"
   },
   {
    "duration": 9,
    "start_time": "2022-05-20T08:52:14.299Z"
   },
   {
    "duration": 12,
    "start_time": "2022-05-20T08:52:14.309Z"
   },
   {
    "duration": 14,
    "start_time": "2022-05-20T08:52:14.323Z"
   },
   {
    "duration": 15,
    "start_time": "2022-05-20T08:52:14.339Z"
   },
   {
    "duration": 39,
    "start_time": "2022-05-20T08:52:14.356Z"
   },
   {
    "duration": 7,
    "start_time": "2022-05-20T08:52:14.399Z"
   },
   {
    "duration": 20,
    "start_time": "2022-05-20T08:52:14.407Z"
   },
   {
    "duration": 7,
    "start_time": "2022-05-20T08:52:14.429Z"
   },
   {
    "duration": 22,
    "start_time": "2022-05-20T08:52:14.437Z"
   },
   {
    "duration": 34,
    "start_time": "2022-05-20T08:52:14.461Z"
   },
   {
    "duration": 6,
    "start_time": "2022-05-20T08:52:14.497Z"
   },
   {
    "duration": 10,
    "start_time": "2022-05-20T08:52:14.505Z"
   },
   {
    "duration": 18,
    "start_time": "2022-05-20T08:52:14.517Z"
   },
   {
    "duration": 23,
    "start_time": "2022-05-20T08:52:14.537Z"
   },
   {
    "duration": 67,
    "start_time": "2022-05-20T08:52:14.562Z"
   },
   {
    "duration": 8,
    "start_time": "2022-05-20T08:52:14.631Z"
   },
   {
    "duration": 12,
    "start_time": "2022-05-20T08:52:14.641Z"
   },
   {
    "duration": 10,
    "start_time": "2022-05-20T08:52:14.655Z"
   },
   {
    "duration": 33,
    "start_time": "2022-05-20T08:52:14.667Z"
   },
   {
    "duration": 7,
    "start_time": "2022-05-20T08:52:14.701Z"
   },
   {
    "duration": 8,
    "start_time": "2022-05-20T08:52:14.710Z"
   },
   {
    "duration": 21,
    "start_time": "2022-05-20T08:52:14.719Z"
   },
   {
    "duration": 7,
    "start_time": "2022-05-20T08:52:14.742Z"
   },
   {
    "duration": 9,
    "start_time": "2022-05-20T08:52:14.752Z"
   },
   {
    "duration": 33,
    "start_time": "2022-05-20T08:52:14.762Z"
   },
   {
    "duration": 20,
    "start_time": "2022-05-20T08:52:14.797Z"
   },
   {
    "duration": 6,
    "start_time": "2022-05-20T08:52:14.819Z"
   },
   {
    "duration": 26,
    "start_time": "2022-05-20T08:52:14.827Z"
   },
   {
    "duration": 5,
    "start_time": "2022-05-20T08:52:14.855Z"
   },
   {
    "duration": 37,
    "start_time": "2022-05-20T08:52:14.863Z"
   },
   {
    "duration": 10,
    "start_time": "2022-05-20T08:52:47.309Z"
   },
   {
    "duration": 495,
    "start_time": "2022-05-20T08:52:54.748Z"
   },
   {
    "duration": 19,
    "start_time": "2022-05-20T08:52:55.246Z"
   },
   {
    "duration": 6,
    "start_time": "2022-05-20T08:52:55.267Z"
   },
   {
    "duration": 20,
    "start_time": "2022-05-20T08:52:55.275Z"
   },
   {
    "duration": 4,
    "start_time": "2022-05-20T08:52:55.297Z"
   },
   {
    "duration": 29,
    "start_time": "2022-05-20T08:52:55.303Z"
   },
   {
    "duration": 44,
    "start_time": "2022-05-20T08:52:55.334Z"
   },
   {
    "duration": 16,
    "start_time": "2022-05-20T08:52:55.380Z"
   },
   {
    "duration": 28,
    "start_time": "2022-05-20T08:52:55.398Z"
   },
   {
    "duration": 27,
    "start_time": "2022-05-20T08:52:55.429Z"
   },
   {
    "duration": 40,
    "start_time": "2022-05-20T08:52:55.457Z"
   },
   {
    "duration": 37,
    "start_time": "2022-05-20T08:52:55.499Z"
   },
   {
    "duration": 26,
    "start_time": "2022-05-20T08:52:55.538Z"
   },
   {
    "duration": 5,
    "start_time": "2022-05-20T08:52:55.566Z"
   },
   {
    "duration": 9,
    "start_time": "2022-05-20T08:52:55.572Z"
   },
   {
    "duration": 12,
    "start_time": "2022-05-20T08:52:55.582Z"
   },
   {
    "duration": 18,
    "start_time": "2022-05-20T08:52:55.595Z"
   },
   {
    "duration": 29,
    "start_time": "2022-05-20T08:52:55.615Z"
   },
   {
    "duration": 53,
    "start_time": "2022-05-20T08:52:55.645Z"
   },
   {
    "duration": 9,
    "start_time": "2022-05-20T08:52:55.700Z"
   },
   {
    "duration": 28,
    "start_time": "2022-05-20T08:52:55.710Z"
   },
   {
    "duration": 29,
    "start_time": "2022-05-20T08:52:55.740Z"
   },
   {
    "duration": 12,
    "start_time": "2022-05-20T08:52:55.771Z"
   },
   {
    "duration": 19,
    "start_time": "2022-05-20T08:52:55.785Z"
   },
   {
    "duration": 27,
    "start_time": "2022-05-20T08:52:55.805Z"
   },
   {
    "duration": 23,
    "start_time": "2022-05-20T08:52:55.834Z"
   },
   {
    "duration": 28,
    "start_time": "2022-05-20T08:52:55.859Z"
   },
   {
    "duration": 11,
    "start_time": "2022-05-20T08:52:55.891Z"
   },
   {
    "duration": 18,
    "start_time": "2022-05-20T08:52:55.904Z"
   },
   {
    "duration": 36,
    "start_time": "2022-05-20T08:52:55.924Z"
   },
   {
    "duration": 26,
    "start_time": "2022-05-20T08:52:55.961Z"
   },
   {
    "duration": 36,
    "start_time": "2022-05-20T08:52:55.989Z"
   },
   {
    "duration": 5,
    "start_time": "2022-05-20T08:52:56.027Z"
   },
   {
    "duration": 11,
    "start_time": "2022-05-20T08:52:56.034Z"
   },
   {
    "duration": 10,
    "start_time": "2022-05-20T08:54:06.075Z"
   },
   {
    "duration": 13,
    "start_time": "2022-05-20T08:54:54.173Z"
   },
   {
    "duration": 539,
    "start_time": "2022-05-20T08:55:09.571Z"
   },
   {
    "duration": 18,
    "start_time": "2022-05-20T08:55:10.113Z"
   },
   {
    "duration": 6,
    "start_time": "2022-05-20T08:55:10.133Z"
   },
   {
    "duration": 5,
    "start_time": "2022-05-20T08:55:10.140Z"
   },
   {
    "duration": 10,
    "start_time": "2022-05-20T08:55:10.148Z"
   },
   {
    "duration": 36,
    "start_time": "2022-05-20T08:55:10.159Z"
   },
   {
    "duration": 13,
    "start_time": "2022-05-20T08:55:10.198Z"
   },
   {
    "duration": 16,
    "start_time": "2022-05-20T08:55:10.213Z"
   },
   {
    "duration": 12,
    "start_time": "2022-05-20T08:55:10.231Z"
   },
   {
    "duration": 8,
    "start_time": "2022-05-20T08:55:10.245Z"
   },
   {
    "duration": 17,
    "start_time": "2022-05-20T08:55:10.294Z"
   },
   {
    "duration": 8,
    "start_time": "2022-05-20T08:55:10.314Z"
   },
   {
    "duration": 21,
    "start_time": "2022-05-20T08:55:10.324Z"
   },
   {
    "duration": 6,
    "start_time": "2022-05-20T08:55:10.349Z"
   },
   {
    "duration": 39,
    "start_time": "2022-05-20T08:55:10.357Z"
   },
   {
    "duration": 11,
    "start_time": "2022-05-20T08:55:10.399Z"
   },
   {
    "duration": 16,
    "start_time": "2022-05-20T08:55:10.412Z"
   },
   {
    "duration": 21,
    "start_time": "2022-05-20T08:55:10.429Z"
   },
   {
    "duration": 66,
    "start_time": "2022-05-20T08:55:10.451Z"
   },
   {
    "duration": 8,
    "start_time": "2022-05-20T08:55:10.519Z"
   },
   {
    "duration": 14,
    "start_time": "2022-05-20T08:55:10.529Z"
   },
   {
    "duration": 7,
    "start_time": "2022-05-20T08:55:10.545Z"
   },
   {
    "duration": 17,
    "start_time": "2022-05-20T08:55:10.554Z"
   },
   {
    "duration": 7,
    "start_time": "2022-05-20T08:55:10.595Z"
   },
   {
    "duration": 11,
    "start_time": "2022-05-20T08:55:10.604Z"
   },
   {
    "duration": 30,
    "start_time": "2022-05-20T08:55:10.617Z"
   },
   {
    "duration": 12,
    "start_time": "2022-05-20T08:55:10.648Z"
   },
   {
    "duration": 9,
    "start_time": "2022-05-20T08:55:10.662Z"
   },
   {
    "duration": 22,
    "start_time": "2022-05-20T08:55:10.673Z"
   },
   {
    "duration": 25,
    "start_time": "2022-05-20T08:55:10.697Z"
   },
   {
    "duration": 12,
    "start_time": "2022-05-20T08:55:10.724Z"
   },
   {
    "duration": 28,
    "start_time": "2022-05-20T08:55:10.738Z"
   },
   {
    "duration": 29,
    "start_time": "2022-05-20T08:55:10.768Z"
   },
   {
    "duration": 7,
    "start_time": "2022-05-20T08:55:10.799Z"
   },
   {
    "duration": 7,
    "start_time": "2022-05-20T08:58:40.499Z"
   },
   {
    "duration": 17,
    "start_time": "2022-05-20T09:00:53.781Z"
   },
   {
    "duration": 23,
    "start_time": "2022-05-20T09:01:19.556Z"
   },
   {
    "duration": 92,
    "start_time": "2022-05-20T09:04:04.304Z"
   },
   {
    "duration": 26,
    "start_time": "2022-05-20T09:04:09.474Z"
   },
   {
    "duration": 21,
    "start_time": "2022-05-20T09:04:12.587Z"
   },
   {
    "duration": 17,
    "start_time": "2022-05-20T09:04:17.132Z"
   },
   {
    "duration": 32,
    "start_time": "2022-05-20T09:04:30.769Z"
   },
   {
    "duration": 537,
    "start_time": "2022-05-20T09:05:43.894Z"
   },
   {
    "duration": 17,
    "start_time": "2022-05-20T09:05:44.434Z"
   },
   {
    "duration": 23,
    "start_time": "2022-05-20T09:05:44.453Z"
   },
   {
    "duration": 20,
    "start_time": "2022-05-20T09:05:44.478Z"
   },
   {
    "duration": 19,
    "start_time": "2022-05-20T09:05:44.499Z"
   },
   {
    "duration": 10,
    "start_time": "2022-05-20T09:05:44.520Z"
   },
   {
    "duration": 28,
    "start_time": "2022-05-20T09:05:44.532Z"
   },
   {
    "duration": 26,
    "start_time": "2022-05-20T09:05:44.562Z"
   },
   {
    "duration": 16,
    "start_time": "2022-05-20T09:05:44.591Z"
   },
   {
    "duration": 17,
    "start_time": "2022-05-20T09:05:44.610Z"
   },
   {
    "duration": 29,
    "start_time": "2022-05-20T09:05:44.629Z"
   },
   {
    "duration": 34,
    "start_time": "2022-05-20T09:05:44.660Z"
   },
   {
    "duration": 35,
    "start_time": "2022-05-20T09:05:44.696Z"
   },
   {
    "duration": 23,
    "start_time": "2022-05-20T09:05:44.733Z"
   },
   {
    "duration": 19,
    "start_time": "2022-05-20T09:05:44.758Z"
   },
   {
    "duration": 26,
    "start_time": "2022-05-20T09:05:44.778Z"
   },
   {
    "duration": 24,
    "start_time": "2022-05-20T09:05:44.806Z"
   },
   {
    "duration": 36,
    "start_time": "2022-05-20T09:05:44.832Z"
   },
   {
    "duration": 40,
    "start_time": "2022-05-20T09:05:44.869Z"
   },
   {
    "duration": 9,
    "start_time": "2022-05-20T09:05:44.911Z"
   },
   {
    "duration": 32,
    "start_time": "2022-05-20T09:05:44.922Z"
   },
   {
    "duration": 17,
    "start_time": "2022-05-20T09:05:44.955Z"
   },
   {
    "duration": 28,
    "start_time": "2022-05-20T09:05:44.974Z"
   },
   {
    "duration": 32,
    "start_time": "2022-05-20T09:05:45.004Z"
   },
   {
    "duration": 31,
    "start_time": "2022-05-20T09:05:45.038Z"
   },
   {
    "duration": 40,
    "start_time": "2022-05-20T09:05:45.071Z"
   },
   {
    "duration": 26,
    "start_time": "2022-05-20T09:05:45.113Z"
   },
   {
    "duration": 45,
    "start_time": "2022-05-20T09:05:45.142Z"
   },
   {
    "duration": 28,
    "start_time": "2022-05-20T09:05:45.189Z"
   },
   {
    "duration": 59,
    "start_time": "2022-05-20T09:05:45.219Z"
   },
   {
    "duration": 27,
    "start_time": "2022-05-20T09:05:45.280Z"
   },
   {
    "duration": 44,
    "start_time": "2022-05-20T09:05:45.309Z"
   },
   {
    "duration": 6,
    "start_time": "2022-05-20T09:05:45.355Z"
   },
   {
    "duration": 22,
    "start_time": "2022-05-20T09:05:45.363Z"
   },
   {
    "duration": 21,
    "start_time": "2022-05-20T09:06:30.004Z"
   },
   {
    "duration": 93,
    "start_time": "2022-05-20T09:09:13.085Z"
   },
   {
    "duration": 12,
    "start_time": "2022-05-20T09:09:25.737Z"
   },
   {
    "duration": 15,
    "start_time": "2022-05-20T09:12:22.444Z"
   },
   {
    "duration": 8,
    "start_time": "2022-05-20T09:12:37.167Z"
   },
   {
    "duration": 13,
    "start_time": "2022-05-20T09:13:01.105Z"
   },
   {
    "duration": 5,
    "start_time": "2022-05-20T09:13:16.662Z"
   },
   {
    "duration": 9,
    "start_time": "2022-05-20T09:13:24.045Z"
   },
   {
    "duration": 7,
    "start_time": "2022-05-20T09:14:14.776Z"
   },
   {
    "duration": 20,
    "start_time": "2022-05-20T09:27:13.671Z"
   },
   {
    "duration": 35,
    "start_time": "2022-05-20T09:29:49.094Z"
   },
   {
    "duration": 36,
    "start_time": "2022-05-20T09:29:59.996Z"
   },
   {
    "duration": 9,
    "start_time": "2022-05-20T09:35:48.250Z"
   },
   {
    "duration": 22,
    "start_time": "2022-05-20T09:38:26.576Z"
   },
   {
    "duration": 7,
    "start_time": "2022-05-20T09:38:57.948Z"
   },
   {
    "duration": 23,
    "start_time": "2022-05-20T09:39:11.115Z"
   },
   {
    "duration": 26,
    "start_time": "2022-05-20T09:42:22.743Z"
   },
   {
    "duration": 29,
    "start_time": "2022-05-20T09:43:02.418Z"
   },
   {
    "duration": 27,
    "start_time": "2022-05-20T09:43:13.439Z"
   },
   {
    "duration": 22,
    "start_time": "2022-05-20T09:43:45.502Z"
   },
   {
    "duration": 22,
    "start_time": "2022-05-20T09:43:55.630Z"
   },
   {
    "duration": 16,
    "start_time": "2022-05-20T09:45:30.452Z"
   },
   {
    "duration": 22,
    "start_time": "2022-05-20T09:45:47.052Z"
   },
   {
    "duration": 7,
    "start_time": "2022-05-20T09:47:42.851Z"
   },
   {
    "duration": 23,
    "start_time": "2022-05-20T09:48:24.704Z"
   },
   {
    "duration": 4,
    "start_time": "2022-05-20T09:56:31.353Z"
   },
   {
    "duration": 9,
    "start_time": "2022-05-20T09:56:53.171Z"
   },
   {
    "duration": 7,
    "start_time": "2022-05-20T10:00:30.457Z"
   },
   {
    "duration": 12,
    "start_time": "2022-05-20T10:00:37.787Z"
   },
   {
    "duration": 11,
    "start_time": "2022-05-20T10:01:55.500Z"
   },
   {
    "duration": 29,
    "start_time": "2022-05-20T10:02:55.257Z"
   },
   {
    "duration": 23,
    "start_time": "2022-05-20T10:03:32.913Z"
   },
   {
    "duration": 21,
    "start_time": "2022-05-20T10:03:45.036Z"
   },
   {
    "duration": 22,
    "start_time": "2022-05-20T10:04:03.335Z"
   },
   {
    "duration": 28,
    "start_time": "2022-05-20T10:06:33.856Z"
   },
   {
    "duration": 22,
    "start_time": "2022-05-20T10:06:46.339Z"
   },
   {
    "duration": 563,
    "start_time": "2022-05-20T10:24:43.103Z"
   },
   {
    "duration": 16,
    "start_time": "2022-05-20T10:24:43.669Z"
   },
   {
    "duration": 7,
    "start_time": "2022-05-20T10:24:43.695Z"
   },
   {
    "duration": 5,
    "start_time": "2022-05-20T10:24:43.704Z"
   },
   {
    "duration": 9,
    "start_time": "2022-05-20T10:24:43.711Z"
   },
   {
    "duration": 7,
    "start_time": "2022-05-20T10:24:43.722Z"
   },
   {
    "duration": 13,
    "start_time": "2022-05-20T10:24:43.730Z"
   },
   {
    "duration": 52,
    "start_time": "2022-05-20T10:24:43.744Z"
   },
   {
    "duration": 11,
    "start_time": "2022-05-20T10:24:43.798Z"
   },
   {
    "duration": 13,
    "start_time": "2022-05-20T10:24:43.813Z"
   },
   {
    "duration": 30,
    "start_time": "2022-05-20T10:24:43.828Z"
   },
   {
    "duration": 11,
    "start_time": "2022-05-20T10:24:43.860Z"
   },
   {
    "duration": 37,
    "start_time": "2022-05-20T10:24:43.873Z"
   },
   {
    "duration": 6,
    "start_time": "2022-05-20T10:24:43.912Z"
   },
   {
    "duration": 18,
    "start_time": "2022-05-20T10:24:43.919Z"
   },
   {
    "duration": 15,
    "start_time": "2022-05-20T10:24:43.939Z"
   },
   {
    "duration": 32,
    "start_time": "2022-05-20T10:24:43.955Z"
   },
   {
    "duration": 25,
    "start_time": "2022-05-20T10:24:43.994Z"
   },
   {
    "duration": 50,
    "start_time": "2022-05-20T10:24:44.021Z"
   },
   {
    "duration": 29,
    "start_time": "2022-05-20T10:24:44.074Z"
   },
   {
    "duration": 24,
    "start_time": "2022-05-20T10:24:44.105Z"
   },
   {
    "duration": 11,
    "start_time": "2022-05-20T10:24:44.132Z"
   },
   {
    "duration": 18,
    "start_time": "2022-05-20T10:24:44.145Z"
   },
   {
    "duration": 33,
    "start_time": "2022-05-20T10:24:44.165Z"
   },
   {
    "duration": 54,
    "start_time": "2022-05-20T10:24:44.200Z"
   },
   {
    "duration": 39,
    "start_time": "2022-05-20T10:24:44.256Z"
   },
   {
    "duration": 26,
    "start_time": "2022-05-20T10:24:44.297Z"
   },
   {
    "duration": 27,
    "start_time": "2022-05-20T10:24:44.326Z"
   },
   {
    "duration": 17,
    "start_time": "2022-05-20T10:24:44.355Z"
   },
   {
    "duration": 37,
    "start_time": "2022-05-20T10:24:44.374Z"
   },
   {
    "duration": 13,
    "start_time": "2022-05-20T10:24:44.413Z"
   },
   {
    "duration": 51,
    "start_time": "2022-05-20T10:24:44.428Z"
   },
   {
    "duration": 25,
    "start_time": "2022-05-20T10:24:44.481Z"
   },
   {
    "duration": 9,
    "start_time": "2022-05-20T10:24:44.508Z"
   },
   {
    "duration": 15,
    "start_time": "2022-05-20T10:24:44.518Z"
   },
   {
    "duration": 8,
    "start_time": "2022-05-20T10:28:59.239Z"
   },
   {
    "duration": 32,
    "start_time": "2022-05-20T10:31:37.240Z"
   },
   {
    "duration": 22,
    "start_time": "2022-05-20T10:34:59.815Z"
   },
   {
    "duration": 101,
    "start_time": "2022-05-20T10:36:52.978Z"
   },
   {
    "duration": 19,
    "start_time": "2022-05-20T10:37:03.547Z"
   },
   {
    "duration": 34,
    "start_time": "2022-05-20T10:37:33.021Z"
   },
   {
    "duration": 24,
    "start_time": "2022-05-20T10:37:54.047Z"
   },
   {
    "duration": 22,
    "start_time": "2022-05-20T10:38:01.337Z"
   },
   {
    "duration": 36,
    "start_time": "2022-05-20T10:38:20.256Z"
   },
   {
    "duration": 22,
    "start_time": "2022-05-20T10:38:24.510Z"
   },
   {
    "duration": 42,
    "start_time": "2022-05-20T10:39:00.682Z"
   },
   {
    "duration": 23,
    "start_time": "2022-05-20T10:39:09.920Z"
   },
   {
    "duration": 9,
    "start_time": "2022-05-20T10:57:55.998Z"
   },
   {
    "duration": 6,
    "start_time": "2022-05-20T10:58:04.199Z"
   },
   {
    "duration": 458,
    "start_time": "2022-05-20T10:58:34.262Z"
   },
   {
    "duration": 481,
    "start_time": "2022-05-20T10:58:40.627Z"
   },
   {
    "duration": 6,
    "start_time": "2022-05-20T10:58:52.768Z"
   },
   {
    "duration": 6,
    "start_time": "2022-05-20T11:06:48.712Z"
   },
   {
    "duration": 10,
    "start_time": "2022-05-20T11:08:37.008Z"
   },
   {
    "duration": 7,
    "start_time": "2022-05-20T11:08:42.488Z"
   },
   {
    "duration": 9,
    "start_time": "2022-05-20T11:09:13.701Z"
   },
   {
    "duration": 8,
    "start_time": "2022-05-20T11:09:36.597Z"
   },
   {
    "duration": 7,
    "start_time": "2022-05-20T11:09:43.026Z"
   },
   {
    "duration": 11,
    "start_time": "2022-05-20T11:10:44.166Z"
   },
   {
    "duration": 7,
    "start_time": "2022-05-20T11:10:54.192Z"
   },
   {
    "duration": 9,
    "start_time": "2022-05-20T11:15:10.661Z"
   },
   {
    "duration": 5,
    "start_time": "2022-05-20T11:15:32.920Z"
   },
   {
    "duration": 10,
    "start_time": "2022-05-20T11:15:40.750Z"
   },
   {
    "duration": 11,
    "start_time": "2022-05-20T11:16:55.176Z"
   },
   {
    "duration": 11,
    "start_time": "2022-05-20T11:17:02.580Z"
   },
   {
    "duration": 9,
    "start_time": "2022-05-20T11:18:17.216Z"
   },
   {
    "duration": 13,
    "start_time": "2022-05-20T11:19:59.750Z"
   },
   {
    "duration": 19,
    "start_time": "2022-05-20T11:20:06.709Z"
   },
   {
    "duration": 11,
    "start_time": "2022-05-20T11:20:48.236Z"
   },
   {
    "duration": 23,
    "start_time": "2022-05-20T11:23:10.469Z"
   },
   {
    "duration": 40,
    "start_time": "2022-05-20T11:35:26.843Z"
   },
   {
    "duration": 27,
    "start_time": "2022-05-20T11:35:41.823Z"
   },
   {
    "duration": 26,
    "start_time": "2022-05-20T11:36:40.544Z"
   },
   {
    "duration": 35,
    "start_time": "2022-05-20T11:38:16.727Z"
   },
   {
    "duration": 9,
    "start_time": "2022-05-20T11:40:24.571Z"
   },
   {
    "duration": 9,
    "start_time": "2022-05-20T11:40:33.381Z"
   },
   {
    "duration": 11,
    "start_time": "2022-05-20T11:40:38.856Z"
   },
   {
    "duration": 9,
    "start_time": "2022-05-20T11:42:43.697Z"
   },
   {
    "duration": 10,
    "start_time": "2022-05-20T11:43:21.783Z"
   },
   {
    "duration": 24,
    "start_time": "2022-05-20T11:44:01.486Z"
   },
   {
    "duration": 26,
    "start_time": "2022-05-20T11:44:32.478Z"
   },
   {
    "duration": 20,
    "start_time": "2022-05-20T11:47:13.415Z"
   },
   {
    "duration": 10,
    "start_time": "2022-05-20T11:50:51.213Z"
   },
   {
    "duration": 9,
    "start_time": "2022-05-20T11:51:02.595Z"
   },
   {
    "duration": 8,
    "start_time": "2022-05-20T11:51:12.210Z"
   },
   {
    "duration": 12,
    "start_time": "2022-05-20T12:28:15.102Z"
   },
   {
    "duration": 5,
    "start_time": "2022-05-20T12:28:23.618Z"
   },
   {
    "duration": 9,
    "start_time": "2022-05-20T12:28:46.652Z"
   },
   {
    "duration": 46,
    "start_time": "2022-05-20T12:29:28.786Z"
   },
   {
    "duration": 10,
    "start_time": "2022-05-20T12:29:36.080Z"
   },
   {
    "duration": 27,
    "start_time": "2022-05-20T12:36:56.095Z"
   },
   {
    "duration": 19,
    "start_time": "2022-05-20T12:37:45.462Z"
   },
   {
    "duration": 24,
    "start_time": "2022-05-20T12:46:02.713Z"
   },
   {
    "duration": 25,
    "start_time": "2022-05-20T12:46:17.046Z"
   },
   {
    "duration": 4,
    "start_time": "2022-05-20T13:01:04.717Z"
   },
   {
    "duration": 41,
    "start_time": "2022-05-20T13:02:35.461Z"
   },
   {
    "duration": 35,
    "start_time": "2022-05-20T13:11:24.971Z"
   },
   {
    "duration": 29,
    "start_time": "2022-05-20T13:13:02.412Z"
   },
   {
    "duration": 11,
    "start_time": "2022-05-20T13:14:17.458Z"
   },
   {
    "duration": 12,
    "start_time": "2022-05-20T13:14:22.633Z"
   },
   {
    "duration": 17,
    "start_time": "2022-05-20T13:17:27.650Z"
   },
   {
    "duration": 710,
    "start_time": "2022-05-20T13:17:36.170Z"
   },
   {
    "duration": 30,
    "start_time": "2022-05-20T13:17:36.882Z"
   },
   {
    "duration": 10,
    "start_time": "2022-05-20T13:17:36.914Z"
   },
   {
    "duration": 6,
    "start_time": "2022-05-20T13:17:36.927Z"
   },
   {
    "duration": 15,
    "start_time": "2022-05-20T13:17:36.935Z"
   },
   {
    "duration": 9,
    "start_time": "2022-05-20T13:17:36.952Z"
   },
   {
    "duration": 44,
    "start_time": "2022-05-20T13:17:36.963Z"
   },
   {
    "duration": 21,
    "start_time": "2022-05-20T13:17:37.009Z"
   },
   {
    "duration": 15,
    "start_time": "2022-05-20T13:17:37.032Z"
   },
   {
    "duration": 10,
    "start_time": "2022-05-20T13:17:37.051Z"
   },
   {
    "duration": 56,
    "start_time": "2022-05-20T13:17:37.064Z"
   },
   {
    "duration": 12,
    "start_time": "2022-05-20T13:17:37.122Z"
   },
   {
    "duration": 57,
    "start_time": "2022-05-20T13:17:37.137Z"
   },
   {
    "duration": 8,
    "start_time": "2022-05-20T13:17:37.197Z"
   },
   {
    "duration": 17,
    "start_time": "2022-05-20T13:17:37.207Z"
   },
   {
    "duration": 18,
    "start_time": "2022-05-20T13:17:37.227Z"
   },
   {
    "duration": 19,
    "start_time": "2022-05-20T13:17:37.248Z"
   },
   {
    "duration": 43,
    "start_time": "2022-05-20T13:17:37.269Z"
   },
   {
    "duration": 22,
    "start_time": "2022-05-20T13:17:37.316Z"
   },
   {
    "duration": 23,
    "start_time": "2022-05-20T13:17:37.340Z"
   },
   {
    "duration": 82,
    "start_time": "2022-05-20T13:17:37.365Z"
   },
   {
    "duration": 13,
    "start_time": "2022-05-20T13:17:37.450Z"
   },
   {
    "duration": 33,
    "start_time": "2022-05-20T13:17:37.465Z"
   },
   {
    "duration": 13,
    "start_time": "2022-05-20T13:17:37.501Z"
   },
   {
    "duration": 26,
    "start_time": "2022-05-20T13:17:37.518Z"
   },
   {
    "duration": 7,
    "start_time": "2022-05-20T13:17:37.546Z"
   },
   {
    "duration": 14,
    "start_time": "2022-05-20T13:17:37.555Z"
   },
   {
    "duration": 32,
    "start_time": "2022-05-20T13:17:37.598Z"
   },
   {
    "duration": 10,
    "start_time": "2022-05-20T13:17:37.632Z"
   },
   {
    "duration": 13,
    "start_time": "2022-05-20T13:17:37.645Z"
   },
   {
    "duration": 7,
    "start_time": "2022-05-20T13:17:37.661Z"
   },
   {
    "duration": 47,
    "start_time": "2022-05-20T13:17:37.670Z"
   },
   {
    "duration": 23,
    "start_time": "2022-05-20T13:17:37.720Z"
   },
   {
    "duration": 11,
    "start_time": "2022-05-20T13:17:37.745Z"
   },
   {
    "duration": 9,
    "start_time": "2022-05-20T13:17:37.758Z"
   },
   {
    "duration": 29,
    "start_time": "2022-05-20T13:17:37.769Z"
   },
   {
    "duration": 33,
    "start_time": "2022-05-20T13:17:37.800Z"
   },
   {
    "duration": 30,
    "start_time": "2022-05-20T13:17:37.835Z"
   },
   {
    "duration": 55,
    "start_time": "2022-05-20T13:17:37.868Z"
   },
   {
    "duration": 9,
    "start_time": "2022-05-20T13:20:18.509Z"
   },
   {
    "duration": 583,
    "start_time": "2022-05-20T13:20:24.080Z"
   },
   {
    "duration": 28,
    "start_time": "2022-05-20T13:20:24.666Z"
   },
   {
    "duration": 12,
    "start_time": "2022-05-20T13:20:24.696Z"
   },
   {
    "duration": 8,
    "start_time": "2022-05-20T13:20:24.711Z"
   },
   {
    "duration": 15,
    "start_time": "2022-05-20T13:20:24.721Z"
   },
   {
    "duration": 9,
    "start_time": "2022-05-20T13:20:24.738Z"
   },
   {
    "duration": 45,
    "start_time": "2022-05-20T13:20:24.749Z"
   },
   {
    "duration": 21,
    "start_time": "2022-05-20T13:20:24.797Z"
   },
   {
    "duration": 22,
    "start_time": "2022-05-20T13:20:24.820Z"
   },
   {
    "duration": 8,
    "start_time": "2022-05-20T13:20:24.845Z"
   },
   {
    "duration": 49,
    "start_time": "2022-05-20T13:20:24.855Z"
   },
   {
    "duration": 12,
    "start_time": "2022-05-20T13:20:24.907Z"
   },
   {
    "duration": 23,
    "start_time": "2022-05-20T13:20:24.921Z"
   },
   {
    "duration": 7,
    "start_time": "2022-05-20T13:20:24.946Z"
   },
   {
    "duration": 39,
    "start_time": "2022-05-20T13:20:24.955Z"
   },
   {
    "duration": 14,
    "start_time": "2022-05-20T13:20:24.996Z"
   },
   {
    "duration": 8,
    "start_time": "2022-05-20T13:20:25.012Z"
   },
   {
    "duration": 18,
    "start_time": "2022-05-20T13:20:25.021Z"
   },
   {
    "duration": 19,
    "start_time": "2022-05-20T13:20:25.041Z"
   },
   {
    "duration": 25,
    "start_time": "2022-05-20T13:20:25.094Z"
   },
   {
    "duration": 48,
    "start_time": "2022-05-20T13:20:25.122Z"
   },
   {
    "duration": 10,
    "start_time": "2022-05-20T13:20:25.195Z"
   },
   {
    "duration": 18,
    "start_time": "2022-05-20T13:20:25.207Z"
   },
   {
    "duration": 11,
    "start_time": "2022-05-20T13:20:25.227Z"
   },
   {
    "duration": 18,
    "start_time": "2022-05-20T13:20:25.240Z"
   },
   {
    "duration": 8,
    "start_time": "2022-05-20T13:20:25.294Z"
   },
   {
    "duration": 15,
    "start_time": "2022-05-20T13:20:25.305Z"
   },
   {
    "duration": 52,
    "start_time": "2022-05-20T13:20:25.324Z"
   },
   {
    "duration": 32,
    "start_time": "2022-05-20T13:20:25.377Z"
   },
   {
    "duration": 14,
    "start_time": "2022-05-20T13:20:25.411Z"
   },
   {
    "duration": 8,
    "start_time": "2022-05-20T13:20:25.427Z"
   },
   {
    "duration": 31,
    "start_time": "2022-05-20T13:20:25.437Z"
   },
   {
    "duration": 11,
    "start_time": "2022-05-20T13:20:25.470Z"
   },
   {
    "duration": 11,
    "start_time": "2022-05-20T13:20:25.495Z"
   },
   {
    "duration": 9,
    "start_time": "2022-05-20T13:20:25.509Z"
   },
   {
    "duration": 9,
    "start_time": "2022-05-20T13:20:25.520Z"
   },
   {
    "duration": 64,
    "start_time": "2022-05-20T13:20:25.531Z"
   },
   {
    "duration": 36,
    "start_time": "2022-05-20T13:20:25.597Z"
   },
   {
    "duration": 32,
    "start_time": "2022-05-20T13:20:25.636Z"
   },
   {
    "duration": 18,
    "start_time": "2022-05-20T13:20:53.622Z"
   },
   {
    "duration": 34,
    "start_time": "2022-05-20T13:24:00.684Z"
   },
   {
    "duration": 30,
    "start_time": "2022-05-20T13:29:03.339Z"
   },
   {
    "duration": 23,
    "start_time": "2022-05-20T13:29:22.291Z"
   },
   {
    "duration": 4,
    "start_time": "2022-05-20T13:39:52.627Z"
   },
   {
    "duration": 28,
    "start_time": "2022-05-20T13:40:18.015Z"
   },
   {
    "duration": 80,
    "start_time": "2022-05-20T13:41:34.944Z"
   },
   {
    "duration": 54,
    "start_time": "2022-05-20T13:41:38.886Z"
   },
   {
    "duration": 30,
    "start_time": "2022-05-20T13:41:42.949Z"
   },
   {
    "duration": 29,
    "start_time": "2022-05-20T13:49:18.525Z"
   },
   {
    "duration": 25,
    "start_time": "2022-05-20T13:50:51.680Z"
   },
   {
    "duration": 52,
    "start_time": "2022-05-20T13:51:34.048Z"
   },
   {
    "duration": 27,
    "start_time": "2022-05-20T13:58:37.184Z"
   },
   {
    "duration": 24,
    "start_time": "2022-05-20T13:59:00.166Z"
   },
   {
    "duration": 12,
    "start_time": "2022-05-20T14:02:38.031Z"
   },
   {
    "duration": 5,
    "start_time": "2022-05-20T14:02:41.222Z"
   },
   {
    "duration": 16,
    "start_time": "2022-05-20T14:04:00.592Z"
   },
   {
    "duration": 23,
    "start_time": "2022-05-20T14:04:09.287Z"
   },
   {
    "duration": 5,
    "start_time": "2022-05-20T15:01:54.769Z"
   },
   {
    "duration": 6,
    "start_time": "2022-05-20T15:02:50.110Z"
   },
   {
    "duration": 7,
    "start_time": "2022-05-20T15:03:12.761Z"
   },
   {
    "duration": 4,
    "start_time": "2022-05-20T15:08:15.251Z"
   },
   {
    "duration": 25,
    "start_time": "2022-05-20T15:08:38.785Z"
   },
   {
    "duration": 21,
    "start_time": "2022-05-20T15:09:48.324Z"
   },
   {
    "duration": 4,
    "start_time": "2022-05-20T15:16:31.285Z"
   },
   {
    "duration": 28,
    "start_time": "2022-05-20T15:16:56.946Z"
   },
   {
    "duration": 21,
    "start_time": "2022-05-20T15:19:06.557Z"
   },
   {
    "duration": 25,
    "start_time": "2022-05-20T15:24:01.683Z"
   },
   {
    "duration": 18,
    "start_time": "2022-05-20T15:24:55.956Z"
   },
   {
    "duration": 24,
    "start_time": "2022-05-20T15:25:03.807Z"
   },
   {
    "duration": 21,
    "start_time": "2022-05-20T15:25:50.434Z"
   },
   {
    "duration": 48,
    "start_time": "2022-05-20T15:25:58.092Z"
   },
   {
    "duration": 24,
    "start_time": "2022-05-20T15:26:07.113Z"
   },
   {
    "duration": 22,
    "start_time": "2022-05-20T15:27:50.640Z"
   },
   {
    "duration": 26,
    "start_time": "2022-05-20T15:28:01.079Z"
   },
   {
    "duration": 26,
    "start_time": "2022-05-20T15:31:13.584Z"
   },
   {
    "duration": 20,
    "start_time": "2022-05-20T15:31:42.556Z"
   },
   {
    "duration": 18,
    "start_time": "2022-05-20T15:35:53.416Z"
   },
   {
    "duration": 25,
    "start_time": "2022-05-20T15:36:13.034Z"
   },
   {
    "duration": 57,
    "start_time": "2022-05-20T15:38:38.857Z"
   },
   {
    "duration": 31,
    "start_time": "2022-05-20T15:38:44.716Z"
   },
   {
    "duration": 38,
    "start_time": "2022-05-20T15:39:05.992Z"
   },
   {
    "duration": 21,
    "start_time": "2022-05-20T15:46:36.932Z"
   },
   {
    "duration": 19,
    "start_time": "2022-05-20T15:47:07.672Z"
   },
   {
    "duration": 23,
    "start_time": "2022-05-20T15:48:01.174Z"
   },
   {
    "duration": 36,
    "start_time": "2022-05-20T15:48:31.778Z"
   },
   {
    "duration": 35,
    "start_time": "2022-05-20T15:49:35.070Z"
   },
   {
    "duration": 22,
    "start_time": "2022-05-20T15:50:08.567Z"
   },
   {
    "duration": 24,
    "start_time": "2022-05-20T15:53:36.012Z"
   },
   {
    "duration": 33,
    "start_time": "2022-05-20T15:53:46.812Z"
   },
   {
    "duration": 46,
    "start_time": "2022-05-20T15:54:42.243Z"
   },
   {
    "duration": 23,
    "start_time": "2022-05-20T15:55:06.335Z"
   },
   {
    "duration": 34,
    "start_time": "2022-05-20T15:57:13.618Z"
   },
   {
    "duration": 36,
    "start_time": "2022-05-20T15:57:32.841Z"
   },
   {
    "duration": 25,
    "start_time": "2022-05-20T15:58:47.295Z"
   },
   {
    "duration": 25,
    "start_time": "2022-05-20T15:58:58.275Z"
   },
   {
    "duration": 21,
    "start_time": "2022-05-20T15:59:51.926Z"
   },
   {
    "duration": 23,
    "start_time": "2022-05-20T16:00:10.232Z"
   },
   {
    "duration": 5,
    "start_time": "2022-05-20T16:00:48.969Z"
   },
   {
    "duration": 20,
    "start_time": "2022-05-20T16:02:02.753Z"
   },
   {
    "duration": 3,
    "start_time": "2022-05-20T16:02:58.721Z"
   },
   {
    "duration": 19,
    "start_time": "2022-05-20T16:03:07.357Z"
   },
   {
    "duration": 19,
    "start_time": "2022-05-20T16:10:09.342Z"
   },
   {
    "duration": 5,
    "start_time": "2022-05-20T16:14:01.324Z"
   },
   {
    "duration": 6,
    "start_time": "2022-05-20T16:16:55.824Z"
   },
   {
    "duration": 20,
    "start_time": "2022-05-20T16:23:26.681Z"
   },
   {
    "duration": 6,
    "start_time": "2022-05-20T16:31:31.416Z"
   },
   {
    "duration": 16,
    "start_time": "2022-05-20T16:32:54.091Z"
   },
   {
    "duration": 8,
    "start_time": "2022-05-20T16:33:11.421Z"
   },
   {
    "duration": 8,
    "start_time": "2022-05-20T16:33:47.757Z"
   },
   {
    "duration": 6,
    "start_time": "2022-05-20T16:34:06.408Z"
   },
   {
    "duration": 4,
    "start_time": "2022-05-20T16:38:33.434Z"
   },
   {
    "duration": 40,
    "start_time": "2022-05-20T16:39:39.829Z"
   },
   {
    "duration": 21,
    "start_time": "2022-05-20T16:42:04.856Z"
   },
   {
    "duration": 20,
    "start_time": "2022-05-20T16:42:32.735Z"
   },
   {
    "duration": 20,
    "start_time": "2022-05-20T16:42:48.627Z"
   },
   {
    "duration": 10,
    "start_time": "2022-05-20T16:44:05.607Z"
   },
   {
    "duration": 20,
    "start_time": "2022-05-20T16:44:43.813Z"
   },
   {
    "duration": 25,
    "start_time": "2022-05-20T16:45:30.927Z"
   },
   {
    "duration": 9,
    "start_time": "2022-05-20T16:50:44.891Z"
   },
   {
    "duration": 4,
    "start_time": "2022-05-20T16:50:49.409Z"
   },
   {
    "duration": 5,
    "start_time": "2022-05-20T16:51:48.089Z"
   },
   {
    "duration": 21,
    "start_time": "2022-05-20T16:52:18.066Z"
   },
   {
    "duration": 18,
    "start_time": "2022-05-20T16:52:52.712Z"
   },
   {
    "duration": 19,
    "start_time": "2022-05-20T16:53:07.175Z"
   },
   {
    "duration": 7,
    "start_time": "2022-05-20T16:55:52.517Z"
   },
   {
    "duration": 35,
    "start_time": "2022-05-20T16:56:31.590Z"
   },
   {
    "duration": 7,
    "start_time": "2022-05-20T17:10:29.926Z"
   },
   {
    "duration": 4,
    "start_time": "2022-05-20T17:10:41.626Z"
   },
   {
    "duration": 8,
    "start_time": "2022-05-20T17:11:32.789Z"
   },
   {
    "duration": 7,
    "start_time": "2022-05-20T17:12:15.284Z"
   },
   {
    "duration": 8,
    "start_time": "2022-05-20T17:12:24.694Z"
   },
   {
    "duration": 8,
    "start_time": "2022-05-20T17:12:41.132Z"
   },
   {
    "duration": 4,
    "start_time": "2022-05-20T17:23:30.394Z"
   },
   {
    "duration": 21,
    "start_time": "2022-05-20T17:24:44.303Z"
   },
   {
    "duration": 19,
    "start_time": "2022-05-20T17:26:26.709Z"
   },
   {
    "duration": 21,
    "start_time": "2022-05-20T17:26:38.071Z"
   },
   {
    "duration": 25,
    "start_time": "2022-05-20T17:29:37.277Z"
   },
   {
    "duration": 23,
    "start_time": "2022-05-20T17:29:58.981Z"
   },
   {
    "duration": 22,
    "start_time": "2022-05-20T17:30:09.569Z"
   },
   {
    "duration": 753,
    "start_time": "2022-05-21T07:52:30.401Z"
   },
   {
    "duration": 16,
    "start_time": "2022-05-21T07:52:31.156Z"
   },
   {
    "duration": 7,
    "start_time": "2022-05-21T07:52:31.174Z"
   },
   {
    "duration": 6,
    "start_time": "2022-05-21T07:52:31.182Z"
   },
   {
    "duration": 5,
    "start_time": "2022-05-21T07:52:31.191Z"
   },
   {
    "duration": 12,
    "start_time": "2022-05-21T07:52:31.198Z"
   },
   {
    "duration": 17,
    "start_time": "2022-05-21T07:52:31.212Z"
   },
   {
    "duration": 13,
    "start_time": "2022-05-21T07:52:31.231Z"
   },
   {
    "duration": 40,
    "start_time": "2022-05-21T07:52:31.245Z"
   },
   {
    "duration": 7,
    "start_time": "2022-05-21T07:52:31.287Z"
   },
   {
    "duration": 18,
    "start_time": "2022-05-21T07:52:31.296Z"
   },
   {
    "duration": 8,
    "start_time": "2022-05-21T07:52:31.316Z"
   },
   {
    "duration": 20,
    "start_time": "2022-05-21T07:52:31.326Z"
   },
   {
    "duration": 34,
    "start_time": "2022-05-21T07:52:31.350Z"
   },
   {
    "duration": 7,
    "start_time": "2022-05-21T07:52:31.386Z"
   },
   {
    "duration": 9,
    "start_time": "2022-05-21T07:52:31.395Z"
   },
   {
    "duration": 7,
    "start_time": "2022-05-21T07:52:31.406Z"
   },
   {
    "duration": 26,
    "start_time": "2022-05-21T07:52:31.415Z"
   },
   {
    "duration": 17,
    "start_time": "2022-05-21T07:52:31.443Z"
   },
   {
    "duration": 38,
    "start_time": "2022-05-21T07:52:31.462Z"
   },
   {
    "duration": 33,
    "start_time": "2022-05-21T07:52:31.502Z"
   },
   {
    "duration": 8,
    "start_time": "2022-05-21T07:52:31.538Z"
   },
   {
    "duration": 37,
    "start_time": "2022-05-21T07:52:31.548Z"
   },
   {
    "duration": 9,
    "start_time": "2022-05-21T07:52:31.587Z"
   },
   {
    "duration": 12,
    "start_time": "2022-05-21T07:52:31.598Z"
   },
   {
    "duration": 7,
    "start_time": "2022-05-21T07:52:31.612Z"
   },
   {
    "duration": 10,
    "start_time": "2022-05-21T07:52:31.620Z"
   },
   {
    "duration": 52,
    "start_time": "2022-05-21T07:52:31.632Z"
   },
   {
    "duration": 7,
    "start_time": "2022-05-21T07:52:31.686Z"
   },
   {
    "duration": 10,
    "start_time": "2022-05-21T07:52:31.695Z"
   },
   {
    "duration": 5,
    "start_time": "2022-05-21T07:52:31.706Z"
   },
   {
    "duration": 23,
    "start_time": "2022-05-21T07:52:31.713Z"
   },
   {
    "duration": 7,
    "start_time": "2022-05-21T07:52:31.737Z"
   },
   {
    "duration": 13,
    "start_time": "2022-05-21T07:52:31.745Z"
   },
   {
    "duration": 24,
    "start_time": "2022-05-21T07:52:31.760Z"
   },
   {
    "duration": 6,
    "start_time": "2022-05-21T07:52:31.785Z"
   },
   {
    "duration": 23,
    "start_time": "2022-05-21T07:52:31.793Z"
   },
   {
    "duration": 16,
    "start_time": "2022-05-21T07:52:31.818Z"
   },
   {
    "duration": 20,
    "start_time": "2022-05-21T07:52:31.836Z"
   },
   {
    "duration": 24,
    "start_time": "2022-05-21T07:52:31.884Z"
   },
   {
    "duration": 23,
    "start_time": "2022-05-21T07:52:31.912Z"
   },
   {
    "duration": 20,
    "start_time": "2022-05-21T07:52:31.937Z"
   },
   {
    "duration": 22,
    "start_time": "2022-05-21T07:52:31.984Z"
   },
   {
    "duration": 6,
    "start_time": "2022-05-21T07:52:32.008Z"
   },
   {
    "duration": 21,
    "start_time": "2022-05-21T07:52:32.015Z"
   },
   {
    "duration": 46,
    "start_time": "2022-05-21T07:52:32.038Z"
   },
   {
    "duration": 23,
    "start_time": "2022-05-21T07:52:32.086Z"
   },
   {
    "duration": 21,
    "start_time": "2022-05-21T07:52:32.110Z"
   },
   {
    "duration": 7,
    "start_time": "2022-05-21T07:52:32.132Z"
   },
   {
    "duration": 6,
    "start_time": "2022-05-21T07:52:32.140Z"
   },
   {
    "duration": 37,
    "start_time": "2022-05-21T07:52:32.148Z"
   },
   {
    "duration": 25,
    "start_time": "2022-05-21T07:52:32.186Z"
   },
   {
    "duration": 21,
    "start_time": "2022-05-21T07:52:32.212Z"
   },
   {
    "duration": 22,
    "start_time": "2022-05-21T07:52:32.234Z"
   },
   {
    "duration": 31,
    "start_time": "2022-05-21T07:52:32.258Z"
   },
   {
    "duration": 7,
    "start_time": "2022-05-21T07:52:32.291Z"
   },
   {
    "duration": 7,
    "start_time": "2022-05-21T07:52:32.299Z"
   },
   {
    "duration": 23,
    "start_time": "2022-05-21T07:52:32.307Z"
   },
   {
    "duration": 22,
    "start_time": "2022-05-21T07:52:32.331Z"
   },
   {
    "duration": 506,
    "start_time": "2022-05-21T07:54:32.899Z"
   },
   {
    "duration": 16,
    "start_time": "2022-05-21T07:54:33.407Z"
   },
   {
    "duration": 6,
    "start_time": "2022-05-21T07:54:33.424Z"
   },
   {
    "duration": 4,
    "start_time": "2022-05-21T07:54:33.432Z"
   },
   {
    "duration": 8,
    "start_time": "2022-05-21T07:54:33.437Z"
   },
   {
    "duration": 9,
    "start_time": "2022-05-21T07:54:33.446Z"
   },
   {
    "duration": 36,
    "start_time": "2022-05-21T07:54:33.456Z"
   },
   {
    "duration": 13,
    "start_time": "2022-05-21T07:54:33.493Z"
   },
   {
    "duration": 10,
    "start_time": "2022-05-21T07:54:33.508Z"
   },
   {
    "duration": 8,
    "start_time": "2022-05-21T07:54:33.520Z"
   },
   {
    "duration": 19,
    "start_time": "2022-05-21T07:54:33.530Z"
   },
   {
    "duration": 5,
    "start_time": "2022-05-21T07:54:33.551Z"
   },
   {
    "duration": 17,
    "start_time": "2022-05-21T07:54:33.584Z"
   },
   {
    "duration": 7,
    "start_time": "2022-05-21T07:54:33.602Z"
   },
   {
    "duration": 9,
    "start_time": "2022-05-21T07:54:33.611Z"
   },
   {
    "duration": 9,
    "start_time": "2022-05-21T07:54:33.621Z"
   },
   {
    "duration": 6,
    "start_time": "2022-05-21T07:54:33.632Z"
   },
   {
    "duration": 14,
    "start_time": "2022-05-21T07:54:33.639Z"
   },
   {
    "duration": 19,
    "start_time": "2022-05-21T07:54:33.684Z"
   },
   {
    "duration": 22,
    "start_time": "2022-05-21T07:54:33.705Z"
   },
   {
    "duration": 58,
    "start_time": "2022-05-21T07:54:33.729Z"
   },
   {
    "duration": 9,
    "start_time": "2022-05-21T07:54:33.789Z"
   },
   {
    "duration": 12,
    "start_time": "2022-05-21T07:54:33.799Z"
   },
   {
    "duration": 7,
    "start_time": "2022-05-21T07:54:33.813Z"
   },
   {
    "duration": 12,
    "start_time": "2022-05-21T07:54:33.822Z"
   },
   {
    "duration": 18,
    "start_time": "2022-05-21T07:54:33.836Z"
   },
   {
    "duration": 33,
    "start_time": "2022-05-21T07:54:33.856Z"
   },
   {
    "duration": 17,
    "start_time": "2022-05-21T07:54:33.892Z"
   },
   {
    "duration": 8,
    "start_time": "2022-05-21T07:54:33.911Z"
   },
   {
    "duration": 9,
    "start_time": "2022-05-21T07:54:33.920Z"
   },
   {
    "duration": 6,
    "start_time": "2022-05-21T07:54:33.930Z"
   },
   {
    "duration": 24,
    "start_time": "2022-05-21T07:54:33.937Z"
   },
   {
    "duration": 27,
    "start_time": "2022-05-21T07:54:33.962Z"
   },
   {
    "duration": 12,
    "start_time": "2022-05-21T07:54:33.991Z"
   },
   {
    "duration": 6,
    "start_time": "2022-05-21T07:54:34.004Z"
   },
   {
    "duration": 8,
    "start_time": "2022-05-21T07:54:34.012Z"
   },
   {
    "duration": 28,
    "start_time": "2022-05-21T07:54:34.022Z"
   },
   {
    "duration": 47,
    "start_time": "2022-05-21T07:54:34.052Z"
   },
   {
    "duration": 19,
    "start_time": "2022-05-21T07:54:34.101Z"
   },
   {
    "duration": 20,
    "start_time": "2022-05-21T07:54:34.122Z"
   },
   {
    "duration": 43,
    "start_time": "2022-05-21T07:54:34.143Z"
   },
   {
    "duration": 17,
    "start_time": "2022-05-21T07:54:34.187Z"
   },
   {
    "duration": 28,
    "start_time": "2022-05-21T07:54:34.205Z"
   },
   {
    "duration": 6,
    "start_time": "2022-05-21T07:54:34.234Z"
   },
   {
    "duration": 50,
    "start_time": "2022-05-21T07:54:34.241Z"
   },
   {
    "duration": 22,
    "start_time": "2022-05-21T07:54:34.292Z"
   },
   {
    "duration": 22,
    "start_time": "2022-05-21T07:54:34.316Z"
   },
   {
    "duration": 45,
    "start_time": "2022-05-21T07:54:34.340Z"
   },
   {
    "duration": 8,
    "start_time": "2022-05-21T07:54:34.386Z"
   },
   {
    "duration": 7,
    "start_time": "2022-05-21T07:54:34.395Z"
   },
   {
    "duration": 6,
    "start_time": "2022-05-21T07:54:34.403Z"
   },
   {
    "duration": 23,
    "start_time": "2022-05-21T07:54:34.410Z"
   },
   {
    "duration": 52,
    "start_time": "2022-05-21T07:54:34.435Z"
   },
   {
    "duration": 23,
    "start_time": "2022-05-21T07:54:34.488Z"
   },
   {
    "duration": 7,
    "start_time": "2022-05-21T07:54:34.513Z"
   },
   {
    "duration": 9,
    "start_time": "2022-05-21T07:54:34.522Z"
   },
   {
    "duration": 7,
    "start_time": "2022-05-21T07:54:34.533Z"
   },
   {
    "duration": 51,
    "start_time": "2022-05-21T07:54:34.542Z"
   },
   {
    "duration": 23,
    "start_time": "2022-05-21T07:54:34.594Z"
   },
   {
    "duration": 54,
    "start_time": "2022-05-21T08:01:56.306Z"
   },
   {
    "duration": 89,
    "start_time": "2022-05-21T08:02:03.891Z"
   },
   {
    "duration": 14,
    "start_time": "2022-05-21T08:02:07.601Z"
   },
   {
    "duration": 527,
    "start_time": "2022-05-21T08:03:00.903Z"
   },
   {
    "duration": 15,
    "start_time": "2022-05-21T08:03:01.432Z"
   },
   {
    "duration": 6,
    "start_time": "2022-05-21T08:03:01.449Z"
   },
   {
    "duration": 9,
    "start_time": "2022-05-21T08:03:01.457Z"
   },
   {
    "duration": 18,
    "start_time": "2022-05-21T08:03:01.468Z"
   },
   {
    "duration": 20,
    "start_time": "2022-05-21T08:03:01.487Z"
   },
   {
    "duration": 20,
    "start_time": "2022-05-21T08:03:01.509Z"
   },
   {
    "duration": 22,
    "start_time": "2022-05-21T08:03:01.530Z"
   },
   {
    "duration": 8,
    "start_time": "2022-05-21T08:03:01.553Z"
   },
   {
    "duration": 24,
    "start_time": "2022-05-21T08:03:01.562Z"
   },
   {
    "duration": 28,
    "start_time": "2022-05-21T08:03:01.588Z"
   },
   {
    "duration": 8,
    "start_time": "2022-05-21T08:03:01.617Z"
   },
   {
    "duration": 33,
    "start_time": "2022-05-21T08:03:01.627Z"
   },
   {
    "duration": 5,
    "start_time": "2022-05-21T08:03:01.664Z"
   },
   {
    "duration": 13,
    "start_time": "2022-05-21T08:03:01.671Z"
   },
   {
    "duration": 14,
    "start_time": "2022-05-21T08:03:01.685Z"
   },
   {
    "duration": 12,
    "start_time": "2022-05-21T08:03:01.702Z"
   },
   {
    "duration": 16,
    "start_time": "2022-05-21T08:03:01.715Z"
   },
   {
    "duration": 15,
    "start_time": "2022-05-21T08:03:01.733Z"
   },
   {
    "duration": 41,
    "start_time": "2022-05-21T08:03:01.749Z"
   },
   {
    "duration": 37,
    "start_time": "2022-05-21T08:03:01.794Z"
   },
   {
    "duration": 10,
    "start_time": "2022-05-21T08:03:01.833Z"
   },
   {
    "duration": 13,
    "start_time": "2022-05-21T08:03:01.845Z"
   },
   {
    "duration": 32,
    "start_time": "2022-05-21T08:03:01.859Z"
   },
   {
    "duration": 19,
    "start_time": "2022-05-21T08:03:01.893Z"
   },
   {
    "duration": 26,
    "start_time": "2022-05-21T08:03:01.914Z"
   },
   {
    "duration": 12,
    "start_time": "2022-05-21T08:03:01.942Z"
   },
   {
    "duration": 24,
    "start_time": "2022-05-21T08:03:01.955Z"
   },
   {
    "duration": 22,
    "start_time": "2022-05-21T08:03:01.983Z"
   },
   {
    "duration": 19,
    "start_time": "2022-05-21T08:03:02.007Z"
   },
   {
    "duration": 18,
    "start_time": "2022-05-21T08:03:02.028Z"
   },
   {
    "duration": 25,
    "start_time": "2022-05-21T08:03:02.048Z"
   },
   {
    "duration": 37,
    "start_time": "2022-05-21T08:03:02.074Z"
   },
   {
    "duration": 69,
    "start_time": "2022-05-21T08:03:02.112Z"
   },
   {
    "duration": 29,
    "start_time": "2022-05-21T08:03:02.182Z"
   },
   {
    "duration": 19,
    "start_time": "2022-05-21T08:03:02.213Z"
   },
   {
    "duration": 27,
    "start_time": "2022-05-21T08:03:02.234Z"
   },
   {
    "duration": 19,
    "start_time": "2022-05-21T08:03:02.262Z"
   },
   {
    "duration": 21,
    "start_time": "2022-05-21T08:03:02.282Z"
   },
   {
    "duration": 22,
    "start_time": "2022-05-21T08:03:02.305Z"
   },
   {
    "duration": 22,
    "start_time": "2022-05-21T08:03:02.330Z"
   },
   {
    "duration": 42,
    "start_time": "2022-05-21T08:03:02.353Z"
   },
   {
    "duration": 23,
    "start_time": "2022-05-21T08:03:02.397Z"
   },
   {
    "duration": 7,
    "start_time": "2022-05-21T08:03:02.421Z"
   },
   {
    "duration": 22,
    "start_time": "2022-05-21T08:03:02.429Z"
   },
   {
    "duration": 51,
    "start_time": "2022-05-21T08:03:02.453Z"
   },
   {
    "duration": 23,
    "start_time": "2022-05-21T08:03:02.506Z"
   },
   {
    "duration": 22,
    "start_time": "2022-05-21T08:03:02.530Z"
   },
   {
    "duration": 31,
    "start_time": "2022-05-21T08:03:02.553Z"
   },
   {
    "duration": 16,
    "start_time": "2022-05-21T08:03:02.586Z"
   },
   {
    "duration": 12,
    "start_time": "2022-05-21T08:03:02.604Z"
   },
   {
    "duration": 26,
    "start_time": "2022-05-21T08:03:02.617Z"
   },
   {
    "duration": 40,
    "start_time": "2022-05-21T08:03:02.645Z"
   },
   {
    "duration": 29,
    "start_time": "2022-05-21T08:03:02.686Z"
   },
   {
    "duration": 7,
    "start_time": "2022-05-21T08:03:02.717Z"
   },
   {
    "duration": 9,
    "start_time": "2022-05-21T08:03:02.726Z"
   },
   {
    "duration": 16,
    "start_time": "2022-05-21T08:03:02.736Z"
   },
   {
    "duration": 50,
    "start_time": "2022-05-21T08:03:02.753Z"
   },
   {
    "duration": 25,
    "start_time": "2022-05-21T08:03:02.805Z"
   },
   {
    "duration": 9,
    "start_time": "2022-05-21T08:04:30.263Z"
   },
   {
    "duration": 75,
    "start_time": "2022-05-21T08:05:51.984Z"
   },
   {
    "duration": 511,
    "start_time": "2022-05-21T08:06:01.929Z"
   },
   {
    "duration": 25,
    "start_time": "2022-05-21T08:06:02.443Z"
   },
   {
    "duration": 20,
    "start_time": "2022-05-21T08:06:02.470Z"
   },
   {
    "duration": 6,
    "start_time": "2022-05-21T08:06:02.492Z"
   },
   {
    "duration": 5,
    "start_time": "2022-05-21T08:06:02.501Z"
   },
   {
    "duration": 7,
    "start_time": "2022-05-21T08:06:02.508Z"
   },
   {
    "duration": 12,
    "start_time": "2022-05-21T08:06:02.517Z"
   },
   {
    "duration": 54,
    "start_time": "2022-05-21T08:06:02.531Z"
   },
   {
    "duration": 14,
    "start_time": "2022-05-21T08:06:02.587Z"
   },
   {
    "duration": 7,
    "start_time": "2022-05-21T08:06:02.603Z"
   },
   {
    "duration": 16,
    "start_time": "2022-05-21T08:06:02.613Z"
   },
   {
    "duration": 6,
    "start_time": "2022-05-21T08:06:02.631Z"
   },
   {
    "duration": 20,
    "start_time": "2022-05-21T08:06:02.639Z"
   },
   {
    "duration": 5,
    "start_time": "2022-05-21T08:06:02.686Z"
   },
   {
    "duration": 8,
    "start_time": "2022-05-21T08:06:02.693Z"
   },
   {
    "duration": 11,
    "start_time": "2022-05-21T08:06:02.702Z"
   },
   {
    "duration": 7,
    "start_time": "2022-05-21T08:06:02.714Z"
   },
   {
    "duration": 14,
    "start_time": "2022-05-21T08:06:02.722Z"
   },
   {
    "duration": 60,
    "start_time": "2022-05-21T08:06:02.738Z"
   },
   {
    "duration": 21,
    "start_time": "2022-05-21T08:06:02.801Z"
   },
   {
    "duration": 34,
    "start_time": "2022-05-21T08:06:02.824Z"
   },
   {
    "duration": 28,
    "start_time": "2022-05-21T08:06:02.860Z"
   },
   {
    "duration": 16,
    "start_time": "2022-05-21T08:06:02.889Z"
   },
   {
    "duration": 10,
    "start_time": "2022-05-21T08:06:02.907Z"
   },
   {
    "duration": 14,
    "start_time": "2022-05-21T08:06:02.919Z"
   },
   {
    "duration": 7,
    "start_time": "2022-05-21T08:06:02.935Z"
   },
   {
    "duration": 41,
    "start_time": "2022-05-21T08:06:02.944Z"
   },
   {
    "duration": 27,
    "start_time": "2022-05-21T08:06:02.987Z"
   },
   {
    "duration": 7,
    "start_time": "2022-05-21T08:06:03.016Z"
   },
   {
    "duration": 8,
    "start_time": "2022-05-21T08:06:03.024Z"
   },
   {
    "duration": 4,
    "start_time": "2022-05-21T08:06:03.033Z"
   },
   {
    "duration": 51,
    "start_time": "2022-05-21T08:06:03.039Z"
   },
   {
    "duration": 7,
    "start_time": "2022-05-21T08:06:03.091Z"
   },
   {
    "duration": 8,
    "start_time": "2022-05-21T08:06:03.100Z"
   },
   {
    "duration": 7,
    "start_time": "2022-05-21T08:06:03.109Z"
   },
   {
    "duration": 6,
    "start_time": "2022-05-21T08:06:03.118Z"
   },
   {
    "duration": 65,
    "start_time": "2022-05-21T08:06:03.126Z"
   },
   {
    "duration": 28,
    "start_time": "2022-05-21T08:06:03.193Z"
   },
   {
    "duration": 23,
    "start_time": "2022-05-21T08:06:03.223Z"
   },
   {
    "duration": 50,
    "start_time": "2022-05-21T08:06:03.248Z"
   },
   {
    "duration": 22,
    "start_time": "2022-05-21T08:06:03.302Z"
   },
   {
    "duration": 20,
    "start_time": "2022-05-21T08:06:03.326Z"
   },
   {
    "duration": 50,
    "start_time": "2022-05-21T08:06:03.348Z"
   },
   {
    "duration": 8,
    "start_time": "2022-05-21T08:06:03.400Z"
   },
   {
    "duration": 23,
    "start_time": "2022-05-21T08:06:03.409Z"
   },
   {
    "duration": 52,
    "start_time": "2022-05-21T08:06:03.433Z"
   },
   {
    "duration": 32,
    "start_time": "2022-05-21T08:06:03.486Z"
   },
   {
    "duration": 31,
    "start_time": "2022-05-21T08:06:03.520Z"
   },
   {
    "duration": 32,
    "start_time": "2022-05-21T08:06:03.552Z"
   },
   {
    "duration": 9,
    "start_time": "2022-05-21T08:06:03.586Z"
   },
   {
    "duration": 6,
    "start_time": "2022-05-21T08:06:03.597Z"
   },
   {
    "duration": 23,
    "start_time": "2022-05-21T08:06:03.605Z"
   },
   {
    "duration": 55,
    "start_time": "2022-05-21T08:06:03.629Z"
   },
   {
    "duration": 45,
    "start_time": "2022-05-21T08:06:03.687Z"
   },
   {
    "duration": 13,
    "start_time": "2022-05-21T08:06:03.734Z"
   },
   {
    "duration": 8,
    "start_time": "2022-05-21T08:06:03.749Z"
   },
   {
    "duration": 28,
    "start_time": "2022-05-21T08:06:03.759Z"
   },
   {
    "duration": 24,
    "start_time": "2022-05-21T08:06:03.788Z"
   },
   {
    "duration": 27,
    "start_time": "2022-05-21T08:06:03.813Z"
   },
   {
    "duration": 59,
    "start_time": "2022-05-21T14:01:38.642Z"
   },
   {
    "duration": 755,
    "start_time": "2022-05-21T14:01:57.409Z"
   },
   {
    "duration": 16,
    "start_time": "2022-05-21T14:01:58.166Z"
   },
   {
    "duration": 7,
    "start_time": "2022-05-21T14:01:58.184Z"
   },
   {
    "duration": 5,
    "start_time": "2022-05-21T14:01:58.193Z"
   },
   {
    "duration": 6,
    "start_time": "2022-05-21T14:01:58.199Z"
   },
   {
    "duration": 5,
    "start_time": "2022-05-21T14:01:58.207Z"
   },
   {
    "duration": 12,
    "start_time": "2022-05-21T14:01:58.213Z"
   },
   {
    "duration": 14,
    "start_time": "2022-05-21T14:01:58.226Z"
   },
   {
    "duration": 48,
    "start_time": "2022-05-21T14:01:58.242Z"
   },
   {
    "duration": 7,
    "start_time": "2022-05-21T14:01:58.292Z"
   },
   {
    "duration": 17,
    "start_time": "2022-05-21T14:01:58.300Z"
   },
   {
    "duration": 6,
    "start_time": "2022-05-21T14:01:58.319Z"
   },
   {
    "duration": 28,
    "start_time": "2022-05-21T14:01:58.327Z"
   },
   {
    "duration": 28,
    "start_time": "2022-05-21T14:01:58.356Z"
   },
   {
    "duration": 6,
    "start_time": "2022-05-21T14:01:58.386Z"
   },
   {
    "duration": 9,
    "start_time": "2022-05-21T14:01:58.394Z"
   },
   {
    "duration": 7,
    "start_time": "2022-05-21T14:01:58.405Z"
   },
   {
    "duration": 17,
    "start_time": "2022-05-21T14:01:58.413Z"
   },
   {
    "duration": 16,
    "start_time": "2022-05-21T14:01:58.432Z"
   },
   {
    "duration": 42,
    "start_time": "2022-05-21T14:01:58.450Z"
   },
   {
    "duration": 35,
    "start_time": "2022-05-21T14:01:58.494Z"
   },
   {
    "duration": 7,
    "start_time": "2022-05-21T14:01:58.531Z"
   },
   {
    "duration": 12,
    "start_time": "2022-05-21T14:01:58.540Z"
   },
   {
    "duration": 30,
    "start_time": "2022-05-21T14:01:58.554Z"
   },
   {
    "duration": 10,
    "start_time": "2022-05-21T14:01:58.586Z"
   },
   {
    "duration": 6,
    "start_time": "2022-05-21T14:01:58.597Z"
   },
   {
    "duration": 7,
    "start_time": "2022-05-21T14:01:58.605Z"
   },
   {
    "duration": 19,
    "start_time": "2022-05-21T14:01:58.615Z"
   },
   {
    "duration": 6,
    "start_time": "2022-05-21T14:01:58.635Z"
   },
   {
    "duration": 44,
    "start_time": "2022-05-21T14:01:58.643Z"
   },
   {
    "duration": 4,
    "start_time": "2022-05-21T14:01:58.689Z"
   },
   {
    "duration": 19,
    "start_time": "2022-05-21T14:01:58.694Z"
   },
   {
    "duration": 6,
    "start_time": "2022-05-21T14:01:58.715Z"
   },
   {
    "duration": 9,
    "start_time": "2022-05-21T14:01:58.723Z"
   },
   {
    "duration": 6,
    "start_time": "2022-05-21T14:01:58.734Z"
   },
   {
    "duration": 9,
    "start_time": "2022-05-21T14:01:58.741Z"
   },
   {
    "duration": 40,
    "start_time": "2022-05-21T14:01:58.785Z"
   },
   {
    "duration": 18,
    "start_time": "2022-05-21T14:01:58.827Z"
   },
   {
    "duration": 44,
    "start_time": "2022-05-21T14:01:58.847Z"
   },
   {
    "duration": 18,
    "start_time": "2022-05-21T14:01:58.893Z"
   },
   {
    "duration": 20,
    "start_time": "2022-05-21T14:01:58.913Z"
   },
   {
    "duration": 17,
    "start_time": "2022-05-21T14:01:58.934Z"
   },
   {
    "duration": 49,
    "start_time": "2022-05-21T14:01:58.953Z"
   },
   {
    "duration": 7,
    "start_time": "2022-05-21T14:01:59.004Z"
   },
   {
    "duration": 29,
    "start_time": "2022-05-21T14:01:59.012Z"
   },
   {
    "duration": 47,
    "start_time": "2022-05-21T14:01:59.043Z"
   },
   {
    "duration": 25,
    "start_time": "2022-05-21T14:01:59.092Z"
   },
   {
    "duration": 22,
    "start_time": "2022-05-21T14:01:59.118Z"
   },
   {
    "duration": 7,
    "start_time": "2022-05-21T14:01:59.141Z"
   },
   {
    "duration": 41,
    "start_time": "2022-05-21T14:01:59.149Z"
   },
   {
    "duration": 11,
    "start_time": "2022-05-21T14:01:59.191Z"
   },
   {
    "duration": 29,
    "start_time": "2022-05-21T14:01:59.203Z"
   },
   {
    "duration": 20,
    "start_time": "2022-05-21T14:01:59.234Z"
   },
   {
    "duration": 46,
    "start_time": "2022-05-21T14:01:59.256Z"
   },
   {
    "duration": 8,
    "start_time": "2022-05-21T14:01:59.304Z"
   },
   {
    "duration": 15,
    "start_time": "2022-05-21T14:01:59.314Z"
   },
   {
    "duration": 26,
    "start_time": "2022-05-21T14:01:59.330Z"
   },
   {
    "duration": 27,
    "start_time": "2022-05-21T14:01:59.357Z"
   },
   {
    "duration": 25,
    "start_time": "2022-05-21T14:01:59.386Z"
   },
   {
    "duration": 22,
    "start_time": "2022-05-21T14:02:43.861Z"
   },
   {
    "duration": 21,
    "start_time": "2022-05-21T14:16:18.369Z"
   },
   {
    "duration": 25,
    "start_time": "2022-05-21T14:16:30.607Z"
   },
   {
    "duration": 23,
    "start_time": "2022-05-21T14:17:09.556Z"
   },
   {
    "duration": 22,
    "start_time": "2022-05-21T14:17:40.490Z"
   },
   {
    "duration": 21,
    "start_time": "2022-05-21T14:24:10.481Z"
   },
   {
    "duration": 24,
    "start_time": "2022-05-21T14:24:18.057Z"
   },
   {
    "duration": 20,
    "start_time": "2022-05-21T14:24:38.669Z"
   },
   {
    "duration": 24,
    "start_time": "2022-05-21T14:25:19.525Z"
   },
   {
    "duration": 7,
    "start_time": "2022-05-21T14:28:28.314Z"
   },
   {
    "duration": 5,
    "start_time": "2022-05-21T14:28:50.068Z"
   },
   {
    "duration": 73,
    "start_time": "2022-05-21T14:29:38.830Z"
   },
   {
    "duration": 507,
    "start_time": "2022-05-21T14:29:47.024Z"
   },
   {
    "duration": 16,
    "start_time": "2022-05-21T14:29:47.533Z"
   },
   {
    "duration": 6,
    "start_time": "2022-05-21T14:29:47.551Z"
   },
   {
    "duration": 26,
    "start_time": "2022-05-21T14:29:47.559Z"
   },
   {
    "duration": 6,
    "start_time": "2022-05-21T14:29:47.587Z"
   },
   {
    "duration": 6,
    "start_time": "2022-05-21T14:29:47.595Z"
   },
   {
    "duration": 12,
    "start_time": "2022-05-21T14:29:47.603Z"
   },
   {
    "duration": 14,
    "start_time": "2022-05-21T14:29:47.617Z"
   },
   {
    "duration": 9,
    "start_time": "2022-05-21T14:29:47.632Z"
   },
   {
    "duration": 8,
    "start_time": "2022-05-21T14:29:47.687Z"
   },
   {
    "duration": 21,
    "start_time": "2022-05-21T14:29:47.697Z"
   },
   {
    "duration": 7,
    "start_time": "2022-05-21T14:29:47.720Z"
   },
   {
    "duration": 22,
    "start_time": "2022-05-21T14:29:47.729Z"
   },
   {
    "duration": 31,
    "start_time": "2022-05-21T14:29:47.753Z"
   },
   {
    "duration": 6,
    "start_time": "2022-05-21T14:29:47.786Z"
   },
   {
    "duration": 9,
    "start_time": "2022-05-21T14:29:47.794Z"
   },
   {
    "duration": 6,
    "start_time": "2022-05-21T14:29:47.804Z"
   },
   {
    "duration": 16,
    "start_time": "2022-05-21T14:29:47.812Z"
   },
   {
    "duration": 14,
    "start_time": "2022-05-21T14:29:47.830Z"
   },
   {
    "duration": 27,
    "start_time": "2022-05-21T14:29:47.884Z"
   },
   {
    "duration": 42,
    "start_time": "2022-05-21T14:29:47.914Z"
   },
   {
    "duration": 28,
    "start_time": "2022-05-21T14:29:47.958Z"
   },
   {
    "duration": 13,
    "start_time": "2022-05-21T14:29:47.989Z"
   },
   {
    "duration": 9,
    "start_time": "2022-05-21T14:29:48.006Z"
   },
   {
    "duration": 19,
    "start_time": "2022-05-21T14:29:48.017Z"
   },
   {
    "duration": 7,
    "start_time": "2022-05-21T14:29:48.038Z"
   },
   {
    "duration": 44,
    "start_time": "2022-05-21T14:29:48.047Z"
   },
   {
    "duration": 48,
    "start_time": "2022-05-21T14:29:48.096Z"
   },
   {
    "duration": 9,
    "start_time": "2022-05-21T14:29:48.146Z"
   },
   {
    "duration": 10,
    "start_time": "2022-05-21T14:29:48.157Z"
   },
   {
    "duration": 4,
    "start_time": "2022-05-21T14:29:48.169Z"
   },
   {
    "duration": 22,
    "start_time": "2022-05-21T14:29:48.175Z"
   },
   {
    "duration": 7,
    "start_time": "2022-05-21T14:29:48.198Z"
   },
   {
    "duration": 12,
    "start_time": "2022-05-21T14:29:48.206Z"
   },
   {
    "duration": 5,
    "start_time": "2022-05-21T14:29:48.220Z"
   },
   {
    "duration": 6,
    "start_time": "2022-05-21T14:29:48.226Z"
   },
   {
    "duration": 55,
    "start_time": "2022-05-21T14:29:48.233Z"
   },
   {
    "duration": 19,
    "start_time": "2022-05-21T14:29:48.290Z"
   },
   {
    "duration": 22,
    "start_time": "2022-05-21T14:29:48.311Z"
   },
   {
    "duration": 24,
    "start_time": "2022-05-21T14:29:48.335Z"
   },
   {
    "duration": 44,
    "start_time": "2022-05-21T14:29:48.360Z"
   },
   {
    "duration": 18,
    "start_time": "2022-05-21T14:29:48.405Z"
   },
   {
    "duration": 21,
    "start_time": "2022-05-21T14:29:48.424Z"
   },
   {
    "duration": 6,
    "start_time": "2022-05-21T14:29:48.447Z"
   },
   {
    "duration": 12,
    "start_time": "2022-05-21T14:29:48.484Z"
   },
   {
    "duration": 6,
    "start_time": "2022-05-21T14:29:48.497Z"
   },
   {
    "duration": 91,
    "start_time": "2022-05-21T14:29:48.504Z"
   },
   {
    "duration": 0,
    "start_time": "2022-05-21T14:29:48.596Z"
   },
   {
    "duration": 0,
    "start_time": "2022-05-21T14:29:48.597Z"
   },
   {
    "duration": 0,
    "start_time": "2022-05-21T14:29:48.598Z"
   },
   {
    "duration": 0,
    "start_time": "2022-05-21T14:29:48.599Z"
   },
   {
    "duration": 0,
    "start_time": "2022-05-21T14:29:48.600Z"
   },
   {
    "duration": 0,
    "start_time": "2022-05-21T14:29:48.601Z"
   },
   {
    "duration": 0,
    "start_time": "2022-05-21T14:29:48.603Z"
   },
   {
    "duration": 0,
    "start_time": "2022-05-21T14:29:48.603Z"
   },
   {
    "duration": 0,
    "start_time": "2022-05-21T14:29:48.604Z"
   },
   {
    "duration": 0,
    "start_time": "2022-05-21T14:29:48.606Z"
   },
   {
    "duration": 0,
    "start_time": "2022-05-21T14:29:48.607Z"
   },
   {
    "duration": 0,
    "start_time": "2022-05-21T14:29:48.608Z"
   },
   {
    "duration": 0,
    "start_time": "2022-05-21T14:29:48.609Z"
   },
   {
    "duration": 0,
    "start_time": "2022-05-21T14:29:48.610Z"
   },
   {
    "duration": 21,
    "start_time": "2022-05-21T14:30:07.306Z"
   },
   {
    "duration": 24,
    "start_time": "2022-05-21T14:30:22.949Z"
   },
   {
    "duration": 25,
    "start_time": "2022-05-21T14:33:44.355Z"
   },
   {
    "duration": 24,
    "start_time": "2022-05-21T14:36:48.888Z"
   },
   {
    "duration": 617,
    "start_time": "2022-05-21T14:39:57.553Z"
   },
   {
    "duration": 17,
    "start_time": "2022-05-21T14:39:58.172Z"
   },
   {
    "duration": 19,
    "start_time": "2022-05-21T14:39:58.191Z"
   },
   {
    "duration": 10,
    "start_time": "2022-05-21T14:39:58.212Z"
   },
   {
    "duration": 16,
    "start_time": "2022-05-21T14:39:58.224Z"
   },
   {
    "duration": 25,
    "start_time": "2022-05-21T14:39:58.242Z"
   },
   {
    "duration": 21,
    "start_time": "2022-05-21T14:39:58.269Z"
   },
   {
    "duration": 17,
    "start_time": "2022-05-21T14:39:58.292Z"
   },
   {
    "duration": 9,
    "start_time": "2022-05-21T14:39:58.311Z"
   },
   {
    "duration": 26,
    "start_time": "2022-05-21T14:39:58.322Z"
   },
   {
    "duration": 30,
    "start_time": "2022-05-21T14:39:58.350Z"
   },
   {
    "duration": 21,
    "start_time": "2022-05-21T14:39:58.382Z"
   },
   {
    "duration": 37,
    "start_time": "2022-05-21T14:39:58.405Z"
   },
   {
    "duration": 10,
    "start_time": "2022-05-21T14:39:58.446Z"
   },
   {
    "duration": 27,
    "start_time": "2022-05-21T14:39:58.457Z"
   },
   {
    "duration": 22,
    "start_time": "2022-05-21T14:39:58.485Z"
   },
   {
    "duration": 8,
    "start_time": "2022-05-21T14:39:58.508Z"
   },
   {
    "duration": 32,
    "start_time": "2022-05-21T14:39:58.518Z"
   },
   {
    "duration": 29,
    "start_time": "2022-05-21T14:39:58.552Z"
   },
   {
    "duration": 21,
    "start_time": "2022-05-21T14:39:58.583Z"
   },
   {
    "duration": 35,
    "start_time": "2022-05-21T14:39:58.605Z"
   },
   {
    "duration": 8,
    "start_time": "2022-05-21T14:39:58.642Z"
   },
   {
    "duration": 33,
    "start_time": "2022-05-21T14:39:58.652Z"
   },
   {
    "duration": 9,
    "start_time": "2022-05-21T14:39:58.686Z"
   },
   {
    "duration": 21,
    "start_time": "2022-05-21T14:39:58.697Z"
   },
   {
    "duration": 7,
    "start_time": "2022-05-21T14:39:58.719Z"
   },
   {
    "duration": 31,
    "start_time": "2022-05-21T14:39:58.728Z"
   },
   {
    "duration": 52,
    "start_time": "2022-05-21T14:39:58.761Z"
   },
   {
    "duration": 54,
    "start_time": "2022-05-21T14:39:58.814Z"
   },
   {
    "duration": 34,
    "start_time": "2022-05-21T14:39:58.869Z"
   },
   {
    "duration": 21,
    "start_time": "2022-05-21T14:39:58.905Z"
   },
   {
    "duration": 43,
    "start_time": "2022-05-21T14:39:58.928Z"
   },
   {
    "duration": 21,
    "start_time": "2022-05-21T14:39:58.973Z"
   },
   {
    "duration": 20,
    "start_time": "2022-05-21T14:39:58.995Z"
   },
   {
    "duration": 30,
    "start_time": "2022-05-21T14:39:59.017Z"
   },
   {
    "duration": 22,
    "start_time": "2022-05-21T14:39:59.048Z"
   },
   {
    "duration": 55,
    "start_time": "2022-05-21T14:39:59.071Z"
   },
   {
    "duration": 19,
    "start_time": "2022-05-21T14:39:59.127Z"
   },
   {
    "duration": 31,
    "start_time": "2022-05-21T14:39:59.147Z"
   },
   {
    "duration": 50,
    "start_time": "2022-05-21T14:39:59.180Z"
   },
   {
    "duration": 20,
    "start_time": "2022-05-21T14:39:59.234Z"
   },
   {
    "duration": 20,
    "start_time": "2022-05-21T14:39:59.256Z"
   },
   {
    "duration": 30,
    "start_time": "2022-05-21T14:39:59.277Z"
   },
   {
    "duration": 17,
    "start_time": "2022-05-21T14:39:59.309Z"
   },
   {
    "duration": 25,
    "start_time": "2022-05-21T14:39:59.327Z"
   },
   {
    "duration": 21,
    "start_time": "2022-05-21T14:39:59.354Z"
   },
   {
    "duration": 43,
    "start_time": "2022-05-21T14:39:59.376Z"
   },
   {
    "duration": 23,
    "start_time": "2022-05-21T14:39:59.421Z"
   },
   {
    "duration": 37,
    "start_time": "2022-05-21T14:39:59.445Z"
   },
   {
    "duration": 22,
    "start_time": "2022-05-21T14:39:59.484Z"
   },
   {
    "duration": 8,
    "start_time": "2022-05-21T14:39:59.508Z"
   },
   {
    "duration": 8,
    "start_time": "2022-05-21T14:39:59.517Z"
   },
   {
    "duration": 6,
    "start_time": "2022-05-21T14:39:59.527Z"
   },
   {
    "duration": 63,
    "start_time": "2022-05-21T14:39:59.535Z"
   },
   {
    "duration": 24,
    "start_time": "2022-05-21T14:39:59.601Z"
   },
   {
    "duration": 33,
    "start_time": "2022-05-21T14:39:59.626Z"
   },
   {
    "duration": 24,
    "start_time": "2022-05-21T14:39:59.661Z"
   },
   {
    "duration": 8,
    "start_time": "2022-05-21T14:39:59.686Z"
   },
   {
    "duration": 10,
    "start_time": "2022-05-21T14:39:59.697Z"
   },
   {
    "duration": 23,
    "start_time": "2022-05-21T14:39:59.709Z"
   },
   {
    "duration": 60,
    "start_time": "2022-05-21T14:39:59.734Z"
   },
   {
    "duration": 20,
    "start_time": "2022-05-21T14:45:11.308Z"
   },
   {
    "duration": 25,
    "start_time": "2022-05-21T14:45:25.806Z"
   },
   {
    "duration": 28,
    "start_time": "2022-05-21T15:01:43.688Z"
   },
   {
    "duration": 29,
    "start_time": "2022-05-21T15:02:03.455Z"
   },
   {
    "duration": 25,
    "start_time": "2022-05-21T15:06:53.703Z"
   },
   {
    "duration": 28,
    "start_time": "2022-05-21T15:07:02.628Z"
   },
   {
    "duration": 520,
    "start_time": "2022-05-21T21:08:53.112Z"
   },
   {
    "duration": 17,
    "start_time": "2022-05-21T21:08:53.634Z"
   },
   {
    "duration": 7,
    "start_time": "2022-05-21T21:08:53.653Z"
   },
   {
    "duration": 7,
    "start_time": "2022-05-21T21:08:53.661Z"
   },
   {
    "duration": 31,
    "start_time": "2022-05-21T21:08:53.670Z"
   },
   {
    "duration": 6,
    "start_time": "2022-05-21T21:08:53.703Z"
   },
   {
    "duration": 15,
    "start_time": "2022-05-21T21:08:53.710Z"
   },
   {
    "duration": 15,
    "start_time": "2022-05-21T21:08:53.727Z"
   },
   {
    "duration": 9,
    "start_time": "2022-05-21T21:08:53.744Z"
   },
   {
    "duration": 42,
    "start_time": "2022-05-21T21:08:53.755Z"
   },
   {
    "duration": 18,
    "start_time": "2022-05-21T21:08:53.799Z"
   },
   {
    "duration": 8,
    "start_time": "2022-05-21T21:08:53.819Z"
   },
   {
    "duration": 20,
    "start_time": "2022-05-21T21:08:53.829Z"
   },
   {
    "duration": 5,
    "start_time": "2022-05-21T21:08:53.852Z"
   },
   {
    "duration": 36,
    "start_time": "2022-05-21T21:08:53.859Z"
   },
   {
    "duration": 10,
    "start_time": "2022-05-21T21:08:53.896Z"
   },
   {
    "duration": 7,
    "start_time": "2022-05-21T21:08:53.907Z"
   },
   {
    "duration": 15,
    "start_time": "2022-05-21T21:08:53.915Z"
   },
   {
    "duration": 16,
    "start_time": "2022-05-21T21:08:53.931Z"
   },
   {
    "duration": 51,
    "start_time": "2022-05-21T21:08:53.948Z"
   },
   {
    "duration": 45,
    "start_time": "2022-05-21T21:08:54.001Z"
   },
   {
    "duration": 8,
    "start_time": "2022-05-21T21:08:54.048Z"
   },
   {
    "duration": 17,
    "start_time": "2022-05-21T21:08:54.057Z"
   },
   {
    "duration": 24,
    "start_time": "2022-05-21T21:08:54.076Z"
   },
   {
    "duration": 12,
    "start_time": "2022-05-21T21:08:54.102Z"
   },
   {
    "duration": 7,
    "start_time": "2022-05-21T21:08:54.115Z"
   },
   {
    "duration": 8,
    "start_time": "2022-05-21T21:08:54.123Z"
   },
   {
    "duration": 18,
    "start_time": "2022-05-21T21:08:54.133Z"
   },
   {
    "duration": 43,
    "start_time": "2022-05-21T21:08:54.153Z"
   },
   {
    "duration": 8,
    "start_time": "2022-05-21T21:08:54.198Z"
   },
   {
    "duration": 4,
    "start_time": "2022-05-21T21:08:54.208Z"
   },
   {
    "duration": 20,
    "start_time": "2022-05-21T21:08:54.214Z"
   },
   {
    "duration": 9,
    "start_time": "2022-05-21T21:08:54.235Z"
   },
   {
    "duration": 8,
    "start_time": "2022-05-21T21:08:54.246Z"
   },
   {
    "duration": 43,
    "start_time": "2022-05-21T21:08:54.256Z"
   },
   {
    "duration": 9,
    "start_time": "2022-05-21T21:08:54.300Z"
   },
   {
    "duration": 24,
    "start_time": "2022-05-21T21:08:54.311Z"
   },
   {
    "duration": 59,
    "start_time": "2022-05-21T21:08:54.337Z"
   },
   {
    "duration": 24,
    "start_time": "2022-05-21T21:08:54.398Z"
   },
   {
    "duration": 23,
    "start_time": "2022-05-21T21:08:54.424Z"
   },
   {
    "duration": 45,
    "start_time": "2022-05-21T21:08:54.452Z"
   },
   {
    "duration": 21,
    "start_time": "2022-05-21T21:08:54.500Z"
   },
   {
    "duration": 23,
    "start_time": "2022-05-21T21:08:54.523Z"
   },
   {
    "duration": 9,
    "start_time": "2022-05-21T21:08:54.548Z"
   },
   {
    "duration": 39,
    "start_time": "2022-05-21T21:08:54.559Z"
   },
   {
    "duration": 8,
    "start_time": "2022-05-21T21:08:54.600Z"
   },
   {
    "duration": 38,
    "start_time": "2022-05-21T21:08:54.610Z"
   },
   {
    "duration": 52,
    "start_time": "2022-05-21T21:08:54.650Z"
   },
   {
    "duration": 26,
    "start_time": "2022-05-21T21:08:54.704Z"
   },
   {
    "duration": 29,
    "start_time": "2022-05-21T21:08:54.732Z"
   },
   {
    "duration": 36,
    "start_time": "2022-05-21T21:08:54.763Z"
   },
   {
    "duration": 9,
    "start_time": "2022-05-21T21:08:54.801Z"
   },
   {
    "duration": 13,
    "start_time": "2022-05-21T21:08:54.812Z"
   },
   {
    "duration": 28,
    "start_time": "2022-05-21T21:08:54.828Z"
   },
   {
    "duration": 53,
    "start_time": "2022-05-21T21:08:54.858Z"
   },
   {
    "duration": 51,
    "start_time": "2022-05-21T21:08:54.915Z"
   },
   {
    "duration": 28,
    "start_time": "2022-05-21T21:08:54.968Z"
   },
   {
    "duration": 9,
    "start_time": "2022-05-21T21:08:54.997Z"
   },
   {
    "duration": 8,
    "start_time": "2022-05-21T21:08:55.007Z"
   },
   {
    "duration": 25,
    "start_time": "2022-05-21T21:08:55.017Z"
   },
   {
    "duration": 56,
    "start_time": "2022-05-21T21:08:55.044Z"
   },
   {
    "duration": 22,
    "start_time": "2022-05-21T21:10:09.758Z"
   },
   {
    "duration": 10,
    "start_time": "2022-05-21T21:14:55.676Z"
   },
   {
    "duration": 67,
    "start_time": "2022-05-23T14:40:21.315Z"
   },
   {
    "duration": 549,
    "start_time": "2022-05-23T14:40:28.395Z"
   },
   {
    "duration": 17,
    "start_time": "2022-05-23T14:40:28.946Z"
   },
   {
    "duration": 6,
    "start_time": "2022-05-23T14:40:28.965Z"
   },
   {
    "duration": 7,
    "start_time": "2022-05-23T14:40:28.973Z"
   },
   {
    "duration": 9,
    "start_time": "2022-05-23T14:40:28.981Z"
   },
   {
    "duration": 7,
    "start_time": "2022-05-23T14:40:28.992Z"
   },
   {
    "duration": 13,
    "start_time": "2022-05-23T14:40:29.001Z"
   },
   {
    "duration": 41,
    "start_time": "2022-05-23T14:40:29.016Z"
   },
   {
    "duration": 16,
    "start_time": "2022-05-23T14:40:29.059Z"
   },
   {
    "duration": 10,
    "start_time": "2022-05-23T14:40:29.078Z"
   },
   {
    "duration": 18,
    "start_time": "2022-05-23T14:40:29.090Z"
   },
   {
    "duration": 7,
    "start_time": "2022-05-23T14:40:29.110Z"
   },
   {
    "duration": 48,
    "start_time": "2022-05-23T14:40:29.118Z"
   },
   {
    "duration": 6,
    "start_time": "2022-05-23T14:40:29.168Z"
   },
   {
    "duration": 9,
    "start_time": "2022-05-23T14:40:29.176Z"
   },
   {
    "duration": 13,
    "start_time": "2022-05-23T14:40:29.186Z"
   },
   {
    "duration": 10,
    "start_time": "2022-05-23T14:40:29.200Z"
   },
   {
    "duration": 32,
    "start_time": "2022-05-23T14:40:29.211Z"
   },
   {
    "duration": 25,
    "start_time": "2022-05-23T14:40:29.252Z"
   },
   {
    "duration": 22,
    "start_time": "2022-05-23T14:40:29.279Z"
   },
   {
    "duration": 58,
    "start_time": "2022-05-23T14:40:29.303Z"
   },
   {
    "duration": 10,
    "start_time": "2022-05-23T14:40:29.363Z"
   },
   {
    "duration": 26,
    "start_time": "2022-05-23T14:40:29.375Z"
   },
   {
    "duration": 8,
    "start_time": "2022-05-23T14:40:29.403Z"
   },
   {
    "duration": 26,
    "start_time": "2022-05-23T14:40:29.412Z"
   },
   {
    "duration": 25,
    "start_time": "2022-05-23T14:40:29.439Z"
   },
   {
    "duration": 32,
    "start_time": "2022-05-23T14:40:29.467Z"
   },
   {
    "duration": 41,
    "start_time": "2022-05-23T14:40:29.502Z"
   },
   {
    "duration": 7,
    "start_time": "2022-05-23T14:40:29.545Z"
   },
   {
    "duration": 26,
    "start_time": "2022-05-23T14:40:29.554Z"
   },
   {
    "duration": 27,
    "start_time": "2022-05-23T14:40:29.581Z"
   },
   {
    "duration": 37,
    "start_time": "2022-05-23T14:40:29.610Z"
   },
   {
    "duration": 19,
    "start_time": "2022-05-23T14:40:29.649Z"
   },
   {
    "duration": 88,
    "start_time": "2022-05-23T14:40:29.670Z"
   },
   {
    "duration": 0,
    "start_time": "2022-05-23T14:40:29.760Z"
   },
   {
    "duration": 0,
    "start_time": "2022-05-23T14:40:29.761Z"
   },
   {
    "duration": 0,
    "start_time": "2022-05-23T14:40:29.762Z"
   },
   {
    "duration": 0,
    "start_time": "2022-05-23T14:40:29.763Z"
   },
   {
    "duration": 0,
    "start_time": "2022-05-23T14:40:29.764Z"
   },
   {
    "duration": 0,
    "start_time": "2022-05-23T14:40:29.765Z"
   },
   {
    "duration": 0,
    "start_time": "2022-05-23T14:40:29.766Z"
   },
   {
    "duration": 0,
    "start_time": "2022-05-23T14:40:29.768Z"
   },
   {
    "duration": 0,
    "start_time": "2022-05-23T14:40:29.770Z"
   },
   {
    "duration": 0,
    "start_time": "2022-05-23T14:40:29.771Z"
   },
   {
    "duration": 0,
    "start_time": "2022-05-23T14:40:29.772Z"
   },
   {
    "duration": 0,
    "start_time": "2022-05-23T14:40:29.773Z"
   },
   {
    "duration": 0,
    "start_time": "2022-05-23T14:40:29.774Z"
   },
   {
    "duration": 0,
    "start_time": "2022-05-23T14:40:29.776Z"
   },
   {
    "duration": 0,
    "start_time": "2022-05-23T14:40:29.778Z"
   },
   {
    "duration": 0,
    "start_time": "2022-05-23T14:40:29.779Z"
   },
   {
    "duration": 0,
    "start_time": "2022-05-23T14:40:29.780Z"
   },
   {
    "duration": 0,
    "start_time": "2022-05-23T14:40:29.781Z"
   },
   {
    "duration": 0,
    "start_time": "2022-05-23T14:40:29.782Z"
   },
   {
    "duration": 0,
    "start_time": "2022-05-23T14:40:29.784Z"
   },
   {
    "duration": 0,
    "start_time": "2022-05-23T14:40:29.786Z"
   },
   {
    "duration": 0,
    "start_time": "2022-05-23T14:40:29.787Z"
   },
   {
    "duration": 0,
    "start_time": "2022-05-23T14:40:29.789Z"
   },
   {
    "duration": 0,
    "start_time": "2022-05-23T14:40:29.790Z"
   },
   {
    "duration": 0,
    "start_time": "2022-05-23T14:40:29.791Z"
   },
   {
    "duration": 0,
    "start_time": "2022-05-23T14:40:29.792Z"
   },
   {
    "duration": 0,
    "start_time": "2022-05-23T14:40:29.793Z"
   },
   {
    "duration": 9,
    "start_time": "2022-05-23T14:41:44.779Z"
   },
   {
    "duration": 12,
    "start_time": "2022-05-23T14:42:19.166Z"
   },
   {
    "duration": 8,
    "start_time": "2022-05-23T14:42:41.356Z"
   },
   {
    "duration": 5,
    "start_time": "2022-05-23T14:43:07.486Z"
   },
   {
    "duration": 16,
    "start_time": "2022-05-23T14:43:12.584Z"
   },
   {
    "duration": 16,
    "start_time": "2022-05-23T14:43:25.160Z"
   },
   {
    "duration": 12,
    "start_time": "2022-05-23T14:43:34.547Z"
   },
   {
    "duration": 10,
    "start_time": "2022-05-23T14:44:27.289Z"
   },
   {
    "duration": 12,
    "start_time": "2022-05-23T14:44:32.985Z"
   }
  ],
  "kernelspec": {
   "display_name": "Python 3 (ipykernel)",
   "language": "python",
   "name": "python3"
  },
  "language_info": {
   "codemirror_mode": {
    "name": "ipython",
    "version": 3
   },
   "file_extension": ".py",
   "mimetype": "text/x-python",
   "name": "python",
   "nbconvert_exporter": "python",
   "pygments_lexer": "ipython3",
   "version": "3.9.13"
  },
  "toc": {
   "base_numbering": 1,
   "nav_menu": {},
   "number_sections": true,
   "sideBar": true,
   "skip_h1_title": true,
   "title_cell": "Table of Contents",
   "title_sidebar": "Contents",
   "toc_cell": false,
   "toc_position": {},
   "toc_section_display": true,
   "toc_window_display": false
  }
 },
 "nbformat": 4,
 "nbformat_minor": 5
}
