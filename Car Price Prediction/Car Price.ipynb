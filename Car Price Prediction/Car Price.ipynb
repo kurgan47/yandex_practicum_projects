{
 "cells": [
  {
   "cell_type": "markdown",
   "metadata": {},
   "source": [
    "# Определение стоимости автомобилей"
   ]
  },
  {
   "cell_type": "markdown",
   "metadata": {},
   "source": [
    "Сервис по продаже автомобилей с пробегом разрабатывает приложение для привлечения новых клиентов. В нём можно быстро узнать рыночную стоимость своего автомобиля. Имеются исторические данные: технические характеристики, комплектации и цены автомобилей. Необходимо построить модель для определения стоимости. "
   ]
  },
  {
   "cell_type": "markdown",
   "metadata": {},
   "source": [
    "## Подготовка данных"
   ]
  },
  {
   "cell_type": "code",
   "execution_count": 1,
   "metadata": {},
   "outputs": [],
   "source": [
    "import pandas as pd\n",
    "import numpy as np\n",
    "import re\n",
    "\n",
    "from sklearn.model_selection import train_test_split\n",
    "from sklearn.metrics import mean_squared_error\n",
    "from sklearn.preprocessing import LabelEncoder\n",
    "from sklearn.linear_model import SGDRegressor\n",
    "from sklearn.preprocessing import OneHotEncoder\n",
    "from sklearn.linear_model import LinearRegression\n",
    "from sklearn.ensemble import RandomForestRegressor\n",
    "from sklearn.model_selection import GridSearchCV\n",
    "from sklearn.preprocessing import StandardScaler\n",
    "from sklearn.model_selection import cross_val_score\n",
    "\n",
    "\n",
    "import lightgbm as lgb\n",
    "from catboost import Pool, CatBoostRegressor, cv\n",
    "\n",
    "import seaborn as sns\n",
    "import matplotlib.pyplot as plt"
   ]
  },
  {
   "cell_type": "code",
   "execution_count": 2,
   "metadata": {
    "scrolled": true
   },
   "outputs": [
    {
     "data": {
      "text/html": [
       "<div>\n",
       "<style scoped>\n",
       "    .dataframe tbody tr th:only-of-type {\n",
       "        vertical-align: middle;\n",
       "    }\n",
       "\n",
       "    .dataframe tbody tr th {\n",
       "        vertical-align: top;\n",
       "    }\n",
       "\n",
       "    .dataframe thead th {\n",
       "        text-align: right;\n",
       "    }\n",
       "</style>\n",
       "<table border=\"1\" class=\"dataframe\">\n",
       "  <thead>\n",
       "    <tr style=\"text-align: right;\">\n",
       "      <th></th>\n",
       "      <th>DateCrawled</th>\n",
       "      <th>Price</th>\n",
       "      <th>VehicleType</th>\n",
       "      <th>RegistrationYear</th>\n",
       "      <th>Gearbox</th>\n",
       "      <th>Power</th>\n",
       "      <th>Model</th>\n",
       "      <th>Kilometer</th>\n",
       "      <th>RegistrationMonth</th>\n",
       "      <th>FuelType</th>\n",
       "      <th>Brand</th>\n",
       "      <th>NotRepaired</th>\n",
       "      <th>DateCreated</th>\n",
       "      <th>NumberOfPictures</th>\n",
       "      <th>PostalCode</th>\n",
       "      <th>LastSeen</th>\n",
       "    </tr>\n",
       "  </thead>\n",
       "  <tbody>\n",
       "    <tr>\n",
       "      <th>0</th>\n",
       "      <td>2016-03-24 11:52:17</td>\n",
       "      <td>480</td>\n",
       "      <td>NaN</td>\n",
       "      <td>1993</td>\n",
       "      <td>manual</td>\n",
       "      <td>0</td>\n",
       "      <td>golf</td>\n",
       "      <td>150000</td>\n",
       "      <td>0</td>\n",
       "      <td>petrol</td>\n",
       "      <td>volkswagen</td>\n",
       "      <td>NaN</td>\n",
       "      <td>2016-03-24 00:00:00</td>\n",
       "      <td>0</td>\n",
       "      <td>70435</td>\n",
       "      <td>2016-04-07 03:16:57</td>\n",
       "    </tr>\n",
       "    <tr>\n",
       "      <th>1</th>\n",
       "      <td>2016-03-24 10:58:45</td>\n",
       "      <td>18300</td>\n",
       "      <td>coupe</td>\n",
       "      <td>2011</td>\n",
       "      <td>manual</td>\n",
       "      <td>190</td>\n",
       "      <td>NaN</td>\n",
       "      <td>125000</td>\n",
       "      <td>5</td>\n",
       "      <td>gasoline</td>\n",
       "      <td>audi</td>\n",
       "      <td>yes</td>\n",
       "      <td>2016-03-24 00:00:00</td>\n",
       "      <td>0</td>\n",
       "      <td>66954</td>\n",
       "      <td>2016-04-07 01:46:50</td>\n",
       "    </tr>\n",
       "    <tr>\n",
       "      <th>2</th>\n",
       "      <td>2016-03-14 12:52:21</td>\n",
       "      <td>9800</td>\n",
       "      <td>suv</td>\n",
       "      <td>2004</td>\n",
       "      <td>auto</td>\n",
       "      <td>163</td>\n",
       "      <td>grand</td>\n",
       "      <td>125000</td>\n",
       "      <td>8</td>\n",
       "      <td>gasoline</td>\n",
       "      <td>jeep</td>\n",
       "      <td>NaN</td>\n",
       "      <td>2016-03-14 00:00:00</td>\n",
       "      <td>0</td>\n",
       "      <td>90480</td>\n",
       "      <td>2016-04-05 12:47:46</td>\n",
       "    </tr>\n",
       "    <tr>\n",
       "      <th>3</th>\n",
       "      <td>2016-03-17 16:54:04</td>\n",
       "      <td>1500</td>\n",
       "      <td>small</td>\n",
       "      <td>2001</td>\n",
       "      <td>manual</td>\n",
       "      <td>75</td>\n",
       "      <td>golf</td>\n",
       "      <td>150000</td>\n",
       "      <td>6</td>\n",
       "      <td>petrol</td>\n",
       "      <td>volkswagen</td>\n",
       "      <td>no</td>\n",
       "      <td>2016-03-17 00:00:00</td>\n",
       "      <td>0</td>\n",
       "      <td>91074</td>\n",
       "      <td>2016-03-17 17:40:17</td>\n",
       "    </tr>\n",
       "    <tr>\n",
       "      <th>4</th>\n",
       "      <td>2016-03-31 17:25:20</td>\n",
       "      <td>3600</td>\n",
       "      <td>small</td>\n",
       "      <td>2008</td>\n",
       "      <td>manual</td>\n",
       "      <td>69</td>\n",
       "      <td>fabia</td>\n",
       "      <td>90000</td>\n",
       "      <td>7</td>\n",
       "      <td>gasoline</td>\n",
       "      <td>skoda</td>\n",
       "      <td>no</td>\n",
       "      <td>2016-03-31 00:00:00</td>\n",
       "      <td>0</td>\n",
       "      <td>60437</td>\n",
       "      <td>2016-04-06 10:17:21</td>\n",
       "    </tr>\n",
       "  </tbody>\n",
       "</table>\n",
       "</div>"
      ],
      "text/plain": [
       "           DateCrawled  Price VehicleType  RegistrationYear Gearbox  Power  \\\n",
       "0  2016-03-24 11:52:17    480         NaN              1993  manual      0   \n",
       "1  2016-03-24 10:58:45  18300       coupe              2011  manual    190   \n",
       "2  2016-03-14 12:52:21   9800         suv              2004    auto    163   \n",
       "3  2016-03-17 16:54:04   1500       small              2001  manual     75   \n",
       "4  2016-03-31 17:25:20   3600       small              2008  manual     69   \n",
       "\n",
       "   Model  Kilometer  RegistrationMonth  FuelType       Brand NotRepaired  \\\n",
       "0   golf     150000                  0    petrol  volkswagen         NaN   \n",
       "1    NaN     125000                  5  gasoline        audi         yes   \n",
       "2  grand     125000                  8  gasoline        jeep         NaN   \n",
       "3   golf     150000                  6    petrol  volkswagen          no   \n",
       "4  fabia      90000                  7  gasoline       skoda          no   \n",
       "\n",
       "           DateCreated  NumberOfPictures  PostalCode             LastSeen  \n",
       "0  2016-03-24 00:00:00                 0       70435  2016-04-07 03:16:57  \n",
       "1  2016-03-24 00:00:00                 0       66954  2016-04-07 01:46:50  \n",
       "2  2016-03-14 00:00:00                 0       90480  2016-04-05 12:47:46  \n",
       "3  2016-03-17 00:00:00                 0       91074  2016-03-17 17:40:17  \n",
       "4  2016-03-31 00:00:00                 0       60437  2016-04-06 10:17:21  "
      ]
     },
     "execution_count": 2,
     "metadata": {},
     "output_type": "execute_result"
    }
   ],
   "source": [
    "data = pd.read_csv('https://code.s3.yandex.net/datasets/autos.csv')\n",
    "data.head()"
   ]
  },
  {
   "cell_type": "markdown",
   "metadata": {},
   "source": [
    "Приведем названия колонок к стандартному виду."
   ]
  },
  {
   "cell_type": "code",
   "execution_count": 3,
   "metadata": {},
   "outputs": [
    {
     "data": {
      "text/plain": [
       "Index(['date_crawled', 'price', 'vehicle_type', 'registration_year', 'gearbox',\n",
       "       'power', 'model', 'kilometer', 'registration_month', 'fuel_type',\n",
       "       'brand', 'not_repaired', 'date_created', 'number_of_pictures',\n",
       "       'postal_code', 'last_seen'],\n",
       "      dtype='object')"
      ]
     },
     "execution_count": 3,
     "metadata": {},
     "output_type": "execute_result"
    }
   ],
   "source": [
    "new_names = {}\n",
    "for col in data.columns:\n",
    "    new_names[col] = '_'.join(re.findall('[A-Z][^A-Z]*', col)).lower()\n",
    "data = data.rename(columns = new_names)\n",
    "data.columns"
   ]
  },
  {
   "cell_type": "markdown",
   "metadata": {},
   "source": [
    "Посмотрим на явные дубликаты."
   ]
  },
  {
   "cell_type": "code",
   "execution_count": 4,
   "metadata": {},
   "outputs": [
    {
     "data": {
      "text/plain": [
       "4"
      ]
     },
     "execution_count": 4,
     "metadata": {},
     "output_type": "execute_result"
    }
   ],
   "source": [
    "data.duplicated().sum()"
   ]
  },
  {
   "cell_type": "code",
   "execution_count": 5,
   "metadata": {},
   "outputs": [],
   "source": [
    "data = data.drop_duplicates()"
   ]
  },
  {
   "cell_type": "code",
   "execution_count": 6,
   "metadata": {},
   "outputs": [
    {
     "data": {
      "text/plain": [
       "0"
      ]
     },
     "execution_count": 6,
     "metadata": {},
     "output_type": "execute_result"
    }
   ],
   "source": [
    "data.duplicated().sum()"
   ]
  },
  {
   "cell_type": "code",
   "execution_count": 7,
   "metadata": {
    "scrolled": false
   },
   "outputs": [
    {
     "name": "stdout",
     "output_type": "stream",
     "text": [
      "<class 'pandas.core.frame.DataFrame'>\n",
      "Int64Index: 354365 entries, 0 to 354368\n",
      "Data columns (total 16 columns):\n",
      " #   Column              Non-Null Count   Dtype \n",
      "---  ------              --------------   ----- \n",
      " 0   date_crawled        354365 non-null  object\n",
      " 1   price               354365 non-null  int64 \n",
      " 2   vehicle_type        316875 non-null  object\n",
      " 3   registration_year   354365 non-null  int64 \n",
      " 4   gearbox             334532 non-null  object\n",
      " 5   power               354365 non-null  int64 \n",
      " 6   model               334660 non-null  object\n",
      " 7   kilometer           354365 non-null  int64 \n",
      " 8   registration_month  354365 non-null  int64 \n",
      " 9   fuel_type           321470 non-null  object\n",
      " 10  brand               354365 non-null  object\n",
      " 11  not_repaired        283211 non-null  object\n",
      " 12  date_created        354365 non-null  object\n",
      " 13  number_of_pictures  354365 non-null  int64 \n",
      " 14  postal_code         354365 non-null  int64 \n",
      " 15  last_seen           354365 non-null  object\n",
      "dtypes: int64(7), object(9)\n",
      "memory usage: 46.0+ MB\n"
     ]
    }
   ],
   "source": [
    "data.info()"
   ]
  },
  {
   "cell_type": "code",
   "execution_count": 8,
   "metadata": {},
   "outputs": [
    {
     "data": {
      "text/html": [
       "<div>\n",
       "<style scoped>\n",
       "    .dataframe tbody tr th:only-of-type {\n",
       "        vertical-align: middle;\n",
       "    }\n",
       "\n",
       "    .dataframe tbody tr th {\n",
       "        vertical-align: top;\n",
       "    }\n",
       "\n",
       "    .dataframe thead th {\n",
       "        text-align: right;\n",
       "    }\n",
       "</style>\n",
       "<table border=\"1\" class=\"dataframe\">\n",
       "  <thead>\n",
       "    <tr style=\"text-align: right;\">\n",
       "      <th></th>\n",
       "      <th>price</th>\n",
       "      <th>registration_year</th>\n",
       "      <th>power</th>\n",
       "      <th>kilometer</th>\n",
       "      <th>registration_month</th>\n",
       "      <th>number_of_pictures</th>\n",
       "      <th>postal_code</th>\n",
       "    </tr>\n",
       "  </thead>\n",
       "  <tbody>\n",
       "    <tr>\n",
       "      <th>count</th>\n",
       "      <td>354365.000000</td>\n",
       "      <td>354365.000000</td>\n",
       "      <td>354365.000000</td>\n",
       "      <td>354365.000000</td>\n",
       "      <td>354365.000000</td>\n",
       "      <td>354365.0</td>\n",
       "      <td>354365.000000</td>\n",
       "    </tr>\n",
       "    <tr>\n",
       "      <th>mean</th>\n",
       "      <td>4416.679830</td>\n",
       "      <td>2004.234481</td>\n",
       "      <td>110.093816</td>\n",
       "      <td>128211.363989</td>\n",
       "      <td>5.714650</td>\n",
       "      <td>0.0</td>\n",
       "      <td>50508.503800</td>\n",
       "    </tr>\n",
       "    <tr>\n",
       "      <th>std</th>\n",
       "      <td>4514.176349</td>\n",
       "      <td>90.228466</td>\n",
       "      <td>189.851330</td>\n",
       "      <td>37905.083858</td>\n",
       "      <td>3.726432</td>\n",
       "      <td>0.0</td>\n",
       "      <td>25783.100078</td>\n",
       "    </tr>\n",
       "    <tr>\n",
       "      <th>min</th>\n",
       "      <td>0.000000</td>\n",
       "      <td>1000.000000</td>\n",
       "      <td>0.000000</td>\n",
       "      <td>5000.000000</td>\n",
       "      <td>0.000000</td>\n",
       "      <td>0.0</td>\n",
       "      <td>1067.000000</td>\n",
       "    </tr>\n",
       "    <tr>\n",
       "      <th>25%</th>\n",
       "      <td>1050.000000</td>\n",
       "      <td>1999.000000</td>\n",
       "      <td>69.000000</td>\n",
       "      <td>125000.000000</td>\n",
       "      <td>3.000000</td>\n",
       "      <td>0.0</td>\n",
       "      <td>30165.000000</td>\n",
       "    </tr>\n",
       "    <tr>\n",
       "      <th>50%</th>\n",
       "      <td>2700.000000</td>\n",
       "      <td>2003.000000</td>\n",
       "      <td>105.000000</td>\n",
       "      <td>150000.000000</td>\n",
       "      <td>6.000000</td>\n",
       "      <td>0.0</td>\n",
       "      <td>49413.000000</td>\n",
       "    </tr>\n",
       "    <tr>\n",
       "      <th>75%</th>\n",
       "      <td>6400.000000</td>\n",
       "      <td>2008.000000</td>\n",
       "      <td>143.000000</td>\n",
       "      <td>150000.000000</td>\n",
       "      <td>9.000000</td>\n",
       "      <td>0.0</td>\n",
       "      <td>71083.000000</td>\n",
       "    </tr>\n",
       "    <tr>\n",
       "      <th>max</th>\n",
       "      <td>20000.000000</td>\n",
       "      <td>9999.000000</td>\n",
       "      <td>20000.000000</td>\n",
       "      <td>150000.000000</td>\n",
       "      <td>12.000000</td>\n",
       "      <td>0.0</td>\n",
       "      <td>99998.000000</td>\n",
       "    </tr>\n",
       "  </tbody>\n",
       "</table>\n",
       "</div>"
      ],
      "text/plain": [
       "               price  registration_year          power      kilometer  \\\n",
       "count  354365.000000      354365.000000  354365.000000  354365.000000   \n",
       "mean     4416.679830        2004.234481     110.093816  128211.363989   \n",
       "std      4514.176349          90.228466     189.851330   37905.083858   \n",
       "min         0.000000        1000.000000       0.000000    5000.000000   \n",
       "25%      1050.000000        1999.000000      69.000000  125000.000000   \n",
       "50%      2700.000000        2003.000000     105.000000  150000.000000   \n",
       "75%      6400.000000        2008.000000     143.000000  150000.000000   \n",
       "max     20000.000000        9999.000000   20000.000000  150000.000000   \n",
       "\n",
       "       registration_month  number_of_pictures    postal_code  \n",
       "count       354365.000000            354365.0  354365.000000  \n",
       "mean             5.714650                 0.0   50508.503800  \n",
       "std              3.726432                 0.0   25783.100078  \n",
       "min              0.000000                 0.0    1067.000000  \n",
       "25%              3.000000                 0.0   30165.000000  \n",
       "50%              6.000000                 0.0   49413.000000  \n",
       "75%              9.000000                 0.0   71083.000000  \n",
       "max             12.000000                 0.0   99998.000000  "
      ]
     },
     "execution_count": 8,
     "metadata": {},
     "output_type": "execute_result"
    }
   ],
   "source": [
    "data.describe()"
   ]
  },
  {
   "cell_type": "markdown",
   "metadata": {},
   "source": [
    "Похоже, что количество фотографий везде равно 0."
   ]
  },
  {
   "cell_type": "code",
   "execution_count": 9,
   "metadata": {},
   "outputs": [
    {
     "data": {
      "text/plain": [
       "0    354365\n",
       "Name: number_of_pictures, dtype: int64"
      ]
     },
     "execution_count": 9,
     "metadata": {},
     "output_type": "execute_result"
    }
   ],
   "source": [
    "data['number_of_pictures'].value_counts()"
   ]
  },
  {
   "cell_type": "code",
   "execution_count": 10,
   "metadata": {},
   "outputs": [],
   "source": [
    "data = data.drop(columns=['number_of_pictures'])"
   ]
  },
  {
   "cell_type": "markdown",
   "metadata": {},
   "source": [
    "Стоимость автомобиля может зависеть от места продажи. Например, японскую машину лучше всего купить где-нибудь на дальнем востоке. Почтовые индексы тут явно не российские, первый почтовый индекс 70435 может быть в Луизиане, Германии, Литве, Мексике и Украине. Как-то разделить индексы по территориям не получится. Эта колонка не несет полезной информации."
   ]
  },
  {
   "cell_type": "code",
   "execution_count": 11,
   "metadata": {},
   "outputs": [],
   "source": [
    "data = data.drop(columns=['postal_code'])"
   ]
  },
  {
   "cell_type": "markdown",
   "metadata": {},
   "source": [
    "Есть 3 колонки с датами, пока не понятно, будем ли мы их использовать в дальнейшем, но на всякий случай переведем их в формат дата/время."
   ]
  },
  {
   "cell_type": "code",
   "execution_count": 12,
   "metadata": {},
   "outputs": [],
   "source": [
    "for col in ['date_crawled','date_created', 'last_seen' ]:\n",
    "    data[col] = pd.to_datetime(data[col],format='%Y-%m-%d %H:%M:%S')"
   ]
  },
  {
   "cell_type": "markdown",
   "metadata": {},
   "source": [
    "Посмотрим, когда были выгруженны данные?"
   ]
  },
  {
   "cell_type": "code",
   "execution_count": 13,
   "metadata": {},
   "outputs": [
    {
     "data": {
      "text/plain": [
       "2016    354365\n",
       "Name: year_crawled, dtype: int64"
      ]
     },
     "execution_count": 13,
     "metadata": {},
     "output_type": "execute_result"
    }
   ],
   "source": [
    "data['year_crawled'] = data['date_crawled'].dt.year\n",
    "data['month_crawled'] = data['date_crawled'].dt.month\n",
    "data['year_crawled'].value_counts()"
   ]
  },
  {
   "cell_type": "code",
   "execution_count": 14,
   "metadata": {
    "scrolled": true
   },
   "outputs": [
    {
     "data": {
      "text/plain": [
       "3    296821\n",
       "4     57544\n",
       "Name: month_crawled, dtype: int64"
      ]
     },
     "execution_count": 14,
     "metadata": {},
     "output_type": "execute_result"
    }
   ],
   "source": [
    "data['month_crawled'].value_counts()"
   ]
  },
  {
   "cell_type": "markdown",
   "metadata": {},
   "source": [
    "Часть данных выгруженна в марте 2016, а часть в апреле. Стоимость автомобиля не должна зависеть от даты выгрузки."
   ]
  },
  {
   "cell_type": "code",
   "execution_count": 15,
   "metadata": {},
   "outputs": [],
   "source": [
    "data = data.drop(columns=['year_crawled','date_crawled','month_crawled'])"
   ]
  },
  {
   "cell_type": "markdown",
   "metadata": {},
   "source": [
    "Посмотрим на даты создания анкет."
   ]
  },
  {
   "cell_type": "code",
   "execution_count": 16,
   "metadata": {
    "scrolled": true
   },
   "outputs": [
    {
     "data": {
      "text/plain": [
       "2016    354339\n",
       "2015        25\n",
       "2014         1\n",
       "Name: year_created, dtype: int64"
      ]
     },
     "execution_count": 16,
     "metadata": {},
     "output_type": "execute_result"
    }
   ],
   "source": [
    "data['year_created'] = data['date_created'].dt.year\n",
    "data['month_created'] = data['date_created'].dt.month\n",
    "data['year_created'].value_counts()"
   ]
  },
  {
   "cell_type": "code",
   "execution_count": 17,
   "metadata": {
    "scrolled": false
   },
   "outputs": [
    {
     "data": {
      "text/plain": [
       "3     296756\n",
       "4      57118\n",
       "2        397\n",
       "1         70\n",
       "11         9\n",
       "12         9\n",
       "9          3\n",
       "8          2\n",
       "6          1\n",
       "Name: month_created, dtype: int64"
      ]
     },
     "execution_count": 17,
     "metadata": {},
     "output_type": "execute_result"
    }
   ],
   "source": [
    "data['month_created'].value_counts()"
   ]
  },
  {
   "cell_type": "markdown",
   "metadata": {},
   "source": [
    "Большинство анкет созданы тогда же, когда и скачаны, в марте и апреле 2016. Вообще стоимость может зависеть от даты размещения, до кризиса одна стоимость, после кризиса другая. "
   ]
  },
  {
   "cell_type": "markdown",
   "metadata": {},
   "source": [
    "Посмотрим на последнюю активность поьзователя."
   ]
  },
  {
   "cell_type": "code",
   "execution_count": 18,
   "metadata": {},
   "outputs": [
    {
     "data": {
      "text/plain": [
       "2016    354365\n",
       "Name: year_last_seen, dtype: int64"
      ]
     },
     "execution_count": 18,
     "metadata": {},
     "output_type": "execute_result"
    }
   ],
   "source": [
    "data['year_last_seen'] = data['last_seen'].dt.year\n",
    "data['month_last_seen'] = data['last_seen'].dt.month\n",
    "data['year_last_seen'].value_counts()"
   ]
  },
  {
   "cell_type": "code",
   "execution_count": 19,
   "metadata": {
    "scrolled": true
   },
   "outputs": [
    {
     "data": {
      "text/plain": [
       "4    200213\n",
       "3    154152\n",
       "Name: month_last_seen, dtype: int64"
      ]
     },
     "execution_count": 19,
     "metadata": {},
     "output_type": "execute_result"
    }
   ],
   "source": [
    "data['month_last_seen'].value_counts()"
   ]
  },
  {
   "cell_type": "markdown",
   "metadata": {},
   "source": [
    "Похоже, что выгружали завки, где пользователи проявляют активность, скорее всего  эта колонка являлась признаком для выгрузки актуальных данных и не влияет на стоимость автомобиля. Избавимся от неё."
   ]
  },
  {
   "cell_type": "code",
   "execution_count": 20,
   "metadata": {},
   "outputs": [],
   "source": [
    "data = data.drop(columns=['year_last_seen','month_last_seen','last_seen'])"
   ]
  },
  {
   "cell_type": "markdown",
   "metadata": {},
   "source": [
    "Поскольку анкеты скачивались в марте и апреле 2016 года и размещались раньше, то автомобиль не может быть зарегестрирован позже апреля 2016 года. "
   ]
  },
  {
   "cell_type": "code",
   "execution_count": 21,
   "metadata": {},
   "outputs": [
    {
     "data": {
      "text/plain": [
       "2017    10441\n",
       "2018     3959\n",
       "9999       26\n",
       "2019       25\n",
       "5000       17\n",
       "3000        7\n",
       "6000        5\n",
       "2500        4\n",
       "7000        4\n",
       "4000        3\n",
       "9000        3\n",
       "8000        2\n",
       "5555        2\n",
       "2222        2\n",
       "2800        2\n",
       "4500        2\n",
       "5911        2\n",
       "3700        1\n",
       "3500        1\n",
       "2900        1\n",
       "8500        1\n",
       "4100        1\n",
       "9450        1\n",
       "5900        1\n",
       "6500        1\n",
       "7100        1\n",
       "5300        1\n",
       "7800        1\n",
       "8888        1\n",
       "8200        1\n",
       "9996        1\n",
       "8455        1\n",
       "2290        1\n",
       "2066        1\n",
       "5600        1\n",
       "4800        1\n",
       "3800        1\n",
       "3200        1\n",
       "9229        1\n",
       "2200        1\n",
       "7500        1\n",
       "Name: registration_year, dtype: int64"
      ]
     },
     "execution_count": 21,
     "metadata": {},
     "output_type": "execute_result"
    }
   ],
   "source": [
    "data.query('registration_year > 2016')['registration_year'].value_counts()"
   ]
  },
  {
   "cell_type": "code",
   "execution_count": 22,
   "metadata": {
    "scrolled": true
   },
   "outputs": [
    {
     "data": {
      "text/plain": [
       "6     761\n",
       "5     707\n",
       "10    604\n",
       "7     593\n",
       "8     548\n",
       "11    509\n",
       "9     500\n",
       "12    468\n",
       "Name: registration_month, dtype: int64"
      ]
     },
     "execution_count": 22,
     "metadata": {},
     "output_type": "execute_result"
    }
   ],
   "source": [
    "data.query('registration_year == 2016 &registration_month>4')['registration_month'].value_counts()"
   ]
  },
  {
   "cell_type": "markdown",
   "metadata": {},
   "source": [
    "Удалим эти данные."
   ]
  },
  {
   "cell_type": "code",
   "execution_count": 23,
   "metadata": {},
   "outputs": [],
   "source": [
    "data = data.drop(data.query('registration_year > 2016').index)\n",
    "data = data.drop(data.query('registration_year == 2016 & registration_month>4').index)"
   ]
  },
  {
   "cell_type": "markdown",
   "metadata": {},
   "source": [
    "Есть какие-то странные значения года регистрации, например в прошлом веке или даже тысячелетии. "
   ]
  },
  {
   "cell_type": "code",
   "execution_count": 24,
   "metadata": {
    "scrolled": true
   },
   "outputs": [
    {
     "data": {
      "image/png": "[encoded data removed]",
      "text/plain": [
       "<Figure size 1440x360 with 1 Axes>"
      ]
     },
     "metadata": {
      "needs_background": "light"
     },
     "output_type": "display_data"
    }
   ],
   "source": [
    "plt.figure(figsize=(20,5))\n",
    "sns.countplot(data=data,x='registration_year')\n",
    "plt.xticks(rotation=90)\n",
    "plt.show()"
   ]
  },
  {
   "cell_type": "markdown",
   "metadata": {},
   "source": [
    "Даже если и есть старые машины в продаже, то это штучный товар и их цена уже не определяется стандартными параметрами. Отбросим данные до 1985 года. "
   ]
  },
  {
   "cell_type": "code",
   "execution_count": 25,
   "metadata": {},
   "outputs": [],
   "source": [
    "data = data.drop(data.query('registration_year < 1985').index)"
   ]
  },
  {
   "cell_type": "markdown",
   "metadata": {},
   "source": [
    "Посмотрим на пропуски."
   ]
  },
  {
   "cell_type": "code",
   "execution_count": 26,
   "metadata": {},
   "outputs": [
    {
     "data": {
      "text/plain": [
       "price                     0\n",
       "vehicle_type          17537\n",
       "registration_year         0\n",
       "gearbox               16416\n",
       "power                     0\n",
       "model                 15857\n",
       "kilometer                 0\n",
       "registration_month        0\n",
       "fuel_type             24241\n",
       "brand                     0\n",
       "not_repaired          61071\n",
       "date_created              0\n",
       "year_created              0\n",
       "month_created             0\n",
       "dtype: int64"
      ]
     },
     "execution_count": 26,
     "metadata": {},
     "output_type": "execute_result"
    }
   ],
   "source": [
    "data.isna().sum()"
   ]
  },
  {
   "cell_type": "markdown",
   "metadata": {},
   "source": [
    "Пропусков достаточно много, жалко отбрасывать столько данных, попробуем их заполнить."
   ]
  },
  {
   "cell_type": "markdown",
   "metadata": {},
   "source": [
    "Посмотрим на тип кузова."
   ]
  },
  {
   "cell_type": "code",
   "execution_count": 27,
   "metadata": {},
   "outputs": [
    {
     "data": {
      "text/plain": [
       "sedan          89705\n",
       "small          79353\n",
       "wagon          64956\n",
       "bus            28545\n",
       "convertible    19578\n",
       "coupe          15262\n",
       "suv            11713\n",
       "other           3048\n",
       "Name: vehicle_type, dtype: int64"
      ]
     },
     "execution_count": 27,
     "metadata": {},
     "output_type": "execute_result"
    }
   ],
   "source": [
    "data['vehicle_type'].value_counts()"
   ]
  },
  {
   "cell_type": "markdown",
   "metadata": {},
   "source": [
    "Есть категория с неизвестным типом кузова 'other'. Этим значением и заполним пропуски."
   ]
  },
  {
   "cell_type": "code",
   "execution_count": 28,
   "metadata": {},
   "outputs": [],
   "source": [
    "data['vehicle_type'] = data['vehicle_type'].fillna('other')"
   ]
  },
  {
   "cell_type": "markdown",
   "metadata": {},
   "source": [
    "Посмотрим на тип коробки передач."
   ]
  },
  {
   "cell_type": "code",
   "execution_count": 29,
   "metadata": {
    "scrolled": true
   },
   "outputs": [
    {
     "data": {
      "text/plain": [
       "manual    250602\n",
       "auto       62679\n",
       "Name: gearbox, dtype: int64"
      ]
     },
     "execution_count": 29,
     "metadata": {},
     "output_type": "execute_result"
    }
   ],
   "source": [
    "data['gearbox'].value_counts()"
   ]
  },
  {
   "cell_type": "markdown",
   "metadata": {},
   "source": [
    "Это категориальная переменная, обычно их заполняют наиболее часто встречающимся значением. Скорее всего, если бы коробка передач была бы автоматической, то это бы подняло стоимость автомобиля, и владелец бы захотел указать это. Поэтому пропуски заполним ручной коробкой передач."
   ]
  },
  {
   "cell_type": "code",
   "execution_count": 30,
   "metadata": {},
   "outputs": [],
   "source": [
    "data['gearbox'] = data['gearbox'].fillna('manual')"
   ]
  },
  {
   "cell_type": "markdown",
   "metadata": {},
   "source": [
    "В моделях тоже есть значение 'other'. Заполним им пустые значения."
   ]
  },
  {
   "cell_type": "code",
   "execution_count": 31,
   "metadata": {},
   "outputs": [],
   "source": [
    "data['model'] = data['model'].fillna('other')"
   ]
  },
  {
   "cell_type": "markdown",
   "metadata": {},
   "source": [
    "Посмотрим на тип топлива."
   ]
  },
  {
   "cell_type": "code",
   "execution_count": 32,
   "metadata": {
    "scrolled": false
   },
   "outputs": [
    {
     "data": {
      "text/plain": [
       "petrol      204097\n",
       "gasoline     95294\n",
       "lpg           5076\n",
       "cng            530\n",
       "hybrid         218\n",
       "other          153\n",
       "electric        88\n",
       "Name: fuel_type, dtype: int64"
      ]
     },
     "execution_count": 32,
     "metadata": {},
     "output_type": "execute_result"
    }
   ],
   "source": [
    "data['fuel_type'].value_counts()"
   ]
  },
  {
   "cell_type": "markdown",
   "metadata": {},
   "source": [
    "Тут тоеже заменим пропуски на 'other'"
   ]
  },
  {
   "cell_type": "code",
   "execution_count": 33,
   "metadata": {},
   "outputs": [],
   "source": [
    "data['fuel_type'] = data['fuel_type'].fillna('other')"
   ]
  },
  {
   "cell_type": "markdown",
   "metadata": {},
   "source": [
    "Данные по ремонту автомобилей тоже заполним строкой 'other'. Непонятны причины по которым владелец не стал указывать данные о ремонте, а это может повлиять на стоимость автомобиля."
   ]
  },
  {
   "cell_type": "code",
   "execution_count": 34,
   "metadata": {},
   "outputs": [],
   "source": [
    "data['not_repaired'] = data['not_repaired'].fillna('other')"
   ]
  },
  {
   "cell_type": "markdown",
   "metadata": {},
   "source": [
    "Есть много данных со стоимостью автомобиля равной 0. Посмотрим, ошибка ли это или кто-то хочет избавится от ненужного автомобиля и отдает его за бесплатно."
   ]
  },
  {
   "cell_type": "code",
   "execution_count": 35,
   "metadata": {
    "scrolled": true
   },
   "outputs": [
    {
     "data": {
      "text/plain": [
       "0.028289611370440133"
      ]
     },
     "execution_count": 35,
     "metadata": {},
     "output_type": "execute_result"
    }
   ],
   "source": [
    "len(data.query('price==0')['price'])/len(data)"
   ]
  },
  {
   "cell_type": "code",
   "execution_count": 36,
   "metadata": {},
   "outputs": [
    {
     "data": {
      "text/plain": [
       "9327"
      ]
     },
     "execution_count": 36,
     "metadata": {},
     "output_type": "execute_result"
    }
   ],
   "source": [
    "len(data.query('price==0')['price'])"
   ]
  },
  {
   "cell_type": "markdown",
   "metadata": {},
   "source": [
    "С одной стороны ~ 9 тыс. анкет со стоимостью автомобиля равной 0. Это много, чтобы быть случайной ошибкой. А с другой стороны, это всего ~3% от всех данных."
   ]
  },
  {
   "cell_type": "code",
   "execution_count": 37,
   "metadata": {},
   "outputs": [
    {
     "data": {
      "text/html": [
       "<div>\n",
       "<style scoped>\n",
       "    .dataframe tbody tr th:only-of-type {\n",
       "        vertical-align: middle;\n",
       "    }\n",
       "\n",
       "    .dataframe tbody tr th {\n",
       "        vertical-align: top;\n",
       "    }\n",
       "\n",
       "    .dataframe thead th {\n",
       "        text-align: right;\n",
       "    }\n",
       "</style>\n",
       "<table border=\"1\" class=\"dataframe\">\n",
       "  <thead>\n",
       "    <tr style=\"text-align: right;\">\n",
       "      <th></th>\n",
       "      <th>price</th>\n",
       "      <th>vehicle_type</th>\n",
       "      <th>registration_year</th>\n",
       "      <th>gearbox</th>\n",
       "      <th>power</th>\n",
       "      <th>model</th>\n",
       "      <th>kilometer</th>\n",
       "      <th>registration_month</th>\n",
       "      <th>fuel_type</th>\n",
       "      <th>brand</th>\n",
       "      <th>not_repaired</th>\n",
       "      <th>date_created</th>\n",
       "      <th>year_created</th>\n",
       "      <th>month_created</th>\n",
       "    </tr>\n",
       "  </thead>\n",
       "  <tbody>\n",
       "    <tr>\n",
       "      <th>40</th>\n",
       "      <td>0</td>\n",
       "      <td>other</td>\n",
       "      <td>1990</td>\n",
       "      <td>manual</td>\n",
       "      <td>0</td>\n",
       "      <td>corsa</td>\n",
       "      <td>150000</td>\n",
       "      <td>1</td>\n",
       "      <td>petrol</td>\n",
       "      <td>opel</td>\n",
       "      <td>other</td>\n",
       "      <td>2016-03-26</td>\n",
       "      <td>2016</td>\n",
       "      <td>3</td>\n",
       "    </tr>\n",
       "    <tr>\n",
       "      <th>115</th>\n",
       "      <td>0</td>\n",
       "      <td>small</td>\n",
       "      <td>1999</td>\n",
       "      <td>manual</td>\n",
       "      <td>0</td>\n",
       "      <td>other</td>\n",
       "      <td>5000</td>\n",
       "      <td>0</td>\n",
       "      <td>petrol</td>\n",
       "      <td>volkswagen</td>\n",
       "      <td>other</td>\n",
       "      <td>2016-03-20</td>\n",
       "      <td>2016</td>\n",
       "      <td>3</td>\n",
       "    </tr>\n",
       "    <tr>\n",
       "      <th>152</th>\n",
       "      <td>0</td>\n",
       "      <td>bus</td>\n",
       "      <td>2004</td>\n",
       "      <td>manual</td>\n",
       "      <td>101</td>\n",
       "      <td>meriva</td>\n",
       "      <td>150000</td>\n",
       "      <td>10</td>\n",
       "      <td>lpg</td>\n",
       "      <td>opel</td>\n",
       "      <td>yes</td>\n",
       "      <td>2016-03-11</td>\n",
       "      <td>2016</td>\n",
       "      <td>3</td>\n",
       "    </tr>\n",
       "    <tr>\n",
       "      <th>154</th>\n",
       "      <td>0</td>\n",
       "      <td>other</td>\n",
       "      <td>2006</td>\n",
       "      <td>manual</td>\n",
       "      <td>0</td>\n",
       "      <td>other</td>\n",
       "      <td>5000</td>\n",
       "      <td>0</td>\n",
       "      <td>other</td>\n",
       "      <td>fiat</td>\n",
       "      <td>other</td>\n",
       "      <td>2016-03-22</td>\n",
       "      <td>2016</td>\n",
       "      <td>3</td>\n",
       "    </tr>\n",
       "    <tr>\n",
       "      <th>231</th>\n",
       "      <td>0</td>\n",
       "      <td>wagon</td>\n",
       "      <td>2001</td>\n",
       "      <td>manual</td>\n",
       "      <td>115</td>\n",
       "      <td>mondeo</td>\n",
       "      <td>150000</td>\n",
       "      <td>0</td>\n",
       "      <td>other</td>\n",
       "      <td>ford</td>\n",
       "      <td>other</td>\n",
       "      <td>2016-03-16</td>\n",
       "      <td>2016</td>\n",
       "      <td>3</td>\n",
       "    </tr>\n",
       "    <tr>\n",
       "      <th>334</th>\n",
       "      <td>0</td>\n",
       "      <td>other</td>\n",
       "      <td>2005</td>\n",
       "      <td>manual</td>\n",
       "      <td>0</td>\n",
       "      <td>polo</td>\n",
       "      <td>150000</td>\n",
       "      <td>0</td>\n",
       "      <td>petrol</td>\n",
       "      <td>volkswagen</td>\n",
       "      <td>other</td>\n",
       "      <td>2016-03-06</td>\n",
       "      <td>2016</td>\n",
       "      <td>3</td>\n",
       "    </tr>\n",
       "    <tr>\n",
       "      <th>415</th>\n",
       "      <td>0</td>\n",
       "      <td>other</td>\n",
       "      <td>1985</td>\n",
       "      <td>manual</td>\n",
       "      <td>0</td>\n",
       "      <td>3er</td>\n",
       "      <td>150000</td>\n",
       "      <td>0</td>\n",
       "      <td>other</td>\n",
       "      <td>bmw</td>\n",
       "      <td>other</td>\n",
       "      <td>2016-03-11</td>\n",
       "      <td>2016</td>\n",
       "      <td>3</td>\n",
       "    </tr>\n",
       "    <tr>\n",
       "      <th>471</th>\n",
       "      <td>0</td>\n",
       "      <td>other</td>\n",
       "      <td>1990</td>\n",
       "      <td>manual</td>\n",
       "      <td>0</td>\n",
       "      <td>3er</td>\n",
       "      <td>5000</td>\n",
       "      <td>0</td>\n",
       "      <td>other</td>\n",
       "      <td>bmw</td>\n",
       "      <td>other</td>\n",
       "      <td>2016-04-04</td>\n",
       "      <td>2016</td>\n",
       "      <td>4</td>\n",
       "    </tr>\n",
       "    <tr>\n",
       "      <th>478</th>\n",
       "      <td>0</td>\n",
       "      <td>other</td>\n",
       "      <td>2000</td>\n",
       "      <td>manual</td>\n",
       "      <td>0</td>\n",
       "      <td>other</td>\n",
       "      <td>150000</td>\n",
       "      <td>0</td>\n",
       "      <td>other</td>\n",
       "      <td>audi</td>\n",
       "      <td>yes</td>\n",
       "      <td>2016-03-24</td>\n",
       "      <td>2016</td>\n",
       "      <td>3</td>\n",
       "    </tr>\n",
       "    <tr>\n",
       "      <th>522</th>\n",
       "      <td>0</td>\n",
       "      <td>other</td>\n",
       "      <td>2000</td>\n",
       "      <td>manual</td>\n",
       "      <td>0</td>\n",
       "      <td>other</td>\n",
       "      <td>150000</td>\n",
       "      <td>0</td>\n",
       "      <td>other</td>\n",
       "      <td>volvo</td>\n",
       "      <td>other</td>\n",
       "      <td>2016-03-14</td>\n",
       "      <td>2016</td>\n",
       "      <td>3</td>\n",
       "    </tr>\n",
       "    <tr>\n",
       "      <th>524</th>\n",
       "      <td>0</td>\n",
       "      <td>other</td>\n",
       "      <td>2005</td>\n",
       "      <td>manual</td>\n",
       "      <td>136</td>\n",
       "      <td>other</td>\n",
       "      <td>100000</td>\n",
       "      <td>10</td>\n",
       "      <td>other</td>\n",
       "      <td>toyota</td>\n",
       "      <td>other</td>\n",
       "      <td>2016-03-25</td>\n",
       "      <td>2016</td>\n",
       "      <td>3</td>\n",
       "    </tr>\n",
       "    <tr>\n",
       "      <th>563</th>\n",
       "      <td>0</td>\n",
       "      <td>sedan</td>\n",
       "      <td>1998</td>\n",
       "      <td>auto</td>\n",
       "      <td>230</td>\n",
       "      <td>other</td>\n",
       "      <td>150000</td>\n",
       "      <td>10</td>\n",
       "      <td>petrol</td>\n",
       "      <td>saab</td>\n",
       "      <td>other</td>\n",
       "      <td>2016-03-21</td>\n",
       "      <td>2016</td>\n",
       "      <td>3</td>\n",
       "    </tr>\n",
       "    <tr>\n",
       "      <th>579</th>\n",
       "      <td>0</td>\n",
       "      <td>sedan</td>\n",
       "      <td>1996</td>\n",
       "      <td>manual</td>\n",
       "      <td>170</td>\n",
       "      <td>5er</td>\n",
       "      <td>150000</td>\n",
       "      <td>0</td>\n",
       "      <td>petrol</td>\n",
       "      <td>bmw</td>\n",
       "      <td>no</td>\n",
       "      <td>2016-03-27</td>\n",
       "      <td>2016</td>\n",
       "      <td>3</td>\n",
       "    </tr>\n",
       "    <tr>\n",
       "      <th>590</th>\n",
       "      <td>0</td>\n",
       "      <td>sedan</td>\n",
       "      <td>1997</td>\n",
       "      <td>manual</td>\n",
       "      <td>0</td>\n",
       "      <td>3er</td>\n",
       "      <td>150000</td>\n",
       "      <td>0</td>\n",
       "      <td>petrol</td>\n",
       "      <td>bmw</td>\n",
       "      <td>other</td>\n",
       "      <td>2016-03-20</td>\n",
       "      <td>2016</td>\n",
       "      <td>3</td>\n",
       "    </tr>\n",
       "    <tr>\n",
       "      <th>615</th>\n",
       "      <td>0</td>\n",
       "      <td>sedan</td>\n",
       "      <td>1998</td>\n",
       "      <td>manual</td>\n",
       "      <td>75</td>\n",
       "      <td>polo</td>\n",
       "      <td>150000</td>\n",
       "      <td>0</td>\n",
       "      <td>petrol</td>\n",
       "      <td>volkswagen</td>\n",
       "      <td>yes</td>\n",
       "      <td>2016-04-05</td>\n",
       "      <td>2016</td>\n",
       "      <td>4</td>\n",
       "    </tr>\n",
       "    <tr>\n",
       "      <th>730</th>\n",
       "      <td>0</td>\n",
       "      <td>small</td>\n",
       "      <td>2005</td>\n",
       "      <td>manual</td>\n",
       "      <td>75</td>\n",
       "      <td>2_reihe</td>\n",
       "      <td>150000</td>\n",
       "      <td>0</td>\n",
       "      <td>petrol</td>\n",
       "      <td>peugeot</td>\n",
       "      <td>other</td>\n",
       "      <td>2016-03-06</td>\n",
       "      <td>2016</td>\n",
       "      <td>3</td>\n",
       "    </tr>\n",
       "    <tr>\n",
       "      <th>789</th>\n",
       "      <td>0</td>\n",
       "      <td>other</td>\n",
       "      <td>2000</td>\n",
       "      <td>manual</td>\n",
       "      <td>0</td>\n",
       "      <td>astra</td>\n",
       "      <td>5000</td>\n",
       "      <td>0</td>\n",
       "      <td>petrol</td>\n",
       "      <td>opel</td>\n",
       "      <td>other</td>\n",
       "      <td>2016-03-28</td>\n",
       "      <td>2016</td>\n",
       "      <td>3</td>\n",
       "    </tr>\n",
       "    <tr>\n",
       "      <th>859</th>\n",
       "      <td>0</td>\n",
       "      <td>wagon</td>\n",
       "      <td>2009</td>\n",
       "      <td>manual</td>\n",
       "      <td>170</td>\n",
       "      <td>a6</td>\n",
       "      <td>150000</td>\n",
       "      <td>1</td>\n",
       "      <td>gasoline</td>\n",
       "      <td>audi</td>\n",
       "      <td>yes</td>\n",
       "      <td>2016-03-09</td>\n",
       "      <td>2016</td>\n",
       "      <td>3</td>\n",
       "    </tr>\n",
       "    <tr>\n",
       "      <th>950</th>\n",
       "      <td>0</td>\n",
       "      <td>small</td>\n",
       "      <td>2000</td>\n",
       "      <td>manual</td>\n",
       "      <td>0</td>\n",
       "      <td>corsa</td>\n",
       "      <td>150000</td>\n",
       "      <td>5</td>\n",
       "      <td>petrol</td>\n",
       "      <td>opel</td>\n",
       "      <td>no</td>\n",
       "      <td>2016-03-26</td>\n",
       "      <td>2016</td>\n",
       "      <td>3</td>\n",
       "    </tr>\n",
       "    <tr>\n",
       "      <th>969</th>\n",
       "      <td>0</td>\n",
       "      <td>other</td>\n",
       "      <td>1990</td>\n",
       "      <td>manual</td>\n",
       "      <td>0</td>\n",
       "      <td>3er</td>\n",
       "      <td>150000</td>\n",
       "      <td>0</td>\n",
       "      <td>other</td>\n",
       "      <td>bmw</td>\n",
       "      <td>other</td>\n",
       "      <td>2016-03-25</td>\n",
       "      <td>2016</td>\n",
       "      <td>3</td>\n",
       "    </tr>\n",
       "  </tbody>\n",
       "</table>\n",
       "</div>"
      ],
      "text/plain": [
       "     price vehicle_type  registration_year gearbox  power    model  kilometer  \\\n",
       "40       0        other               1990  manual      0    corsa     150000   \n",
       "115      0        small               1999  manual      0    other       5000   \n",
       "152      0          bus               2004  manual    101   meriva     150000   \n",
       "154      0        other               2006  manual      0    other       5000   \n",
       "231      0        wagon               2001  manual    115   mondeo     150000   \n",
       "334      0        other               2005  manual      0     polo     150000   \n",
       "415      0        other               1985  manual      0      3er     150000   \n",
       "471      0        other               1990  manual      0      3er       5000   \n",
       "478      0        other               2000  manual      0    other     150000   \n",
       "522      0        other               2000  manual      0    other     150000   \n",
       "524      0        other               2005  manual    136    other     100000   \n",
       "563      0        sedan               1998    auto    230    other     150000   \n",
       "579      0        sedan               1996  manual    170      5er     150000   \n",
       "590      0        sedan               1997  manual      0      3er     150000   \n",
       "615      0        sedan               1998  manual     75     polo     150000   \n",
       "730      0        small               2005  manual     75  2_reihe     150000   \n",
       "789      0        other               2000  manual      0    astra       5000   \n",
       "859      0        wagon               2009  manual    170       a6     150000   \n",
       "950      0        small               2000  manual      0    corsa     150000   \n",
       "969      0        other               1990  manual      0      3er     150000   \n",
       "\n",
       "     registration_month fuel_type       brand not_repaired date_created  \\\n",
       "40                    1    petrol        opel        other   2016-03-26   \n",
       "115                   0    petrol  volkswagen        other   2016-03-20   \n",
       "152                  10       lpg        opel          yes   2016-03-11   \n",
       "154                   0     other        fiat        other   2016-03-22   \n",
       "231                   0     other        ford        other   2016-03-16   \n",
       "334                   0    petrol  volkswagen        other   2016-03-06   \n",
       "415                   0     other         bmw        other   2016-03-11   \n",
       "471                   0     other         bmw        other   2016-04-04   \n",
       "478                   0     other        audi          yes   2016-03-24   \n",
       "522                   0     other       volvo        other   2016-03-14   \n",
       "524                  10     other      toyota        other   2016-03-25   \n",
       "563                  10    petrol        saab        other   2016-03-21   \n",
       "579                   0    petrol         bmw           no   2016-03-27   \n",
       "590                   0    petrol         bmw        other   2016-03-20   \n",
       "615                   0    petrol  volkswagen          yes   2016-04-05   \n",
       "730                   0    petrol     peugeot        other   2016-03-06   \n",
       "789                   0    petrol        opel        other   2016-03-28   \n",
       "859                   1  gasoline        audi          yes   2016-03-09   \n",
       "950                   5    petrol        opel           no   2016-03-26   \n",
       "969                   0     other         bmw        other   2016-03-25   \n",
       "\n",
       "     year_created  month_created  \n",
       "40           2016              3  \n",
       "115          2016              3  \n",
       "152          2016              3  \n",
       "154          2016              3  \n",
       "231          2016              3  \n",
       "334          2016              3  \n",
       "415          2016              3  \n",
       "471          2016              4  \n",
       "478          2016              3  \n",
       "522          2016              3  \n",
       "524          2016              3  \n",
       "563          2016              3  \n",
       "579          2016              3  \n",
       "590          2016              3  \n",
       "615          2016              4  \n",
       "730          2016              3  \n",
       "789          2016              3  \n",
       "859          2016              3  \n",
       "950          2016              3  \n",
       "969          2016              3  "
      ]
     },
     "execution_count": 37,
     "metadata": {},
     "output_type": "execute_result"
    }
   ],
   "source": [
    "data.query('price==0').head(20)"
   ]
  },
  {
   "cell_type": "markdown",
   "metadata": {},
   "source": [
    "Никаких очевидных закономерностей нет. Поскольку мы все-таки прогнозируем не нулевую стоимость автомобиля, то удалим записи, где она равна нулю."
   ]
  },
  {
   "cell_type": "code",
   "execution_count": 38,
   "metadata": {},
   "outputs": [],
   "source": [
    "data = data.drop(data.query('price==0').index)"
   ]
  },
  {
   "cell_type": "markdown",
   "metadata": {},
   "source": [
    "Посмотрим на мощьность двигателя."
   ]
  },
  {
   "cell_type": "code",
   "execution_count": 39,
   "metadata": {
    "scrolled": false
   },
   "outputs": [
    {
     "data": {
      "image/png": "[encoded data removed]",
      "text/plain": [
       "<Figure size 360x360 with 1 Axes>"
      ]
     },
     "metadata": {
      "needs_background": "light"
     },
     "output_type": "display_data"
    }
   ],
   "source": [
    "sns.displot(data=data, x=\"power\")\n",
    "plt.xticks(rotation=90)\n",
    "plt.xlim(0,500)\n",
    "plt.ylim(0,25000)\n",
    "plt.show()"
   ]
  },
  {
   "cell_type": "code",
   "execution_count": 40,
   "metadata": {
    "scrolled": false
   },
   "outputs": [
    {
     "data": {
      "text/html": [
       "<div>\n",
       "<style scoped>\n",
       "    .dataframe tbody tr th:only-of-type {\n",
       "        vertical-align: middle;\n",
       "    }\n",
       "\n",
       "    .dataframe tbody tr th {\n",
       "        vertical-align: top;\n",
       "    }\n",
       "\n",
       "    .dataframe thead th {\n",
       "        text-align: right;\n",
       "    }\n",
       "</style>\n",
       "<table border=\"1\" class=\"dataframe\">\n",
       "  <thead>\n",
       "    <tr style=\"text-align: right;\">\n",
       "      <th></th>\n",
       "      <th>price</th>\n",
       "      <th>vehicle_type</th>\n",
       "      <th>registration_year</th>\n",
       "      <th>gearbox</th>\n",
       "      <th>power</th>\n",
       "      <th>model</th>\n",
       "      <th>kilometer</th>\n",
       "      <th>registration_month</th>\n",
       "      <th>fuel_type</th>\n",
       "      <th>brand</th>\n",
       "      <th>not_repaired</th>\n",
       "      <th>date_created</th>\n",
       "      <th>year_created</th>\n",
       "      <th>month_created</th>\n",
       "    </tr>\n",
       "  </thead>\n",
       "  <tbody>\n",
       "    <tr>\n",
       "      <th>1816</th>\n",
       "      <td>3200</td>\n",
       "      <td>small</td>\n",
       "      <td>2004</td>\n",
       "      <td>manual</td>\n",
       "      <td>1398</td>\n",
       "      <td>corolla</td>\n",
       "      <td>5000</td>\n",
       "      <td>6</td>\n",
       "      <td>petrol</td>\n",
       "      <td>toyota</td>\n",
       "      <td>no</td>\n",
       "      <td>2016-03-22</td>\n",
       "      <td>2016</td>\n",
       "      <td>3</td>\n",
       "    </tr>\n",
       "    <tr>\n",
       "      <th>4060</th>\n",
       "      <td>3100</td>\n",
       "      <td>sedan</td>\n",
       "      <td>2005</td>\n",
       "      <td>manual</td>\n",
       "      <td>953</td>\n",
       "      <td>colt</td>\n",
       "      <td>150000</td>\n",
       "      <td>4</td>\n",
       "      <td>gasoline</td>\n",
       "      <td>mitsubishi</td>\n",
       "      <td>no</td>\n",
       "      <td>2016-04-03</td>\n",
       "      <td>2016</td>\n",
       "      <td>4</td>\n",
       "    </tr>\n",
       "    <tr>\n",
       "      <th>5328</th>\n",
       "      <td>500</td>\n",
       "      <td>wagon</td>\n",
       "      <td>1999</td>\n",
       "      <td>manual</td>\n",
       "      <td>1001</td>\n",
       "      <td>astra</td>\n",
       "      <td>150000</td>\n",
       "      <td>7</td>\n",
       "      <td>petrol</td>\n",
       "      <td>opel</td>\n",
       "      <td>other</td>\n",
       "      <td>2016-03-29</td>\n",
       "      <td>2016</td>\n",
       "      <td>3</td>\n",
       "    </tr>\n",
       "    <tr>\n",
       "      <th>6296</th>\n",
       "      <td>599</td>\n",
       "      <td>small</td>\n",
       "      <td>2002</td>\n",
       "      <td>manual</td>\n",
       "      <td>603</td>\n",
       "      <td>matiz</td>\n",
       "      <td>5000</td>\n",
       "      <td>11</td>\n",
       "      <td>petrol</td>\n",
       "      <td>chevrolet</td>\n",
       "      <td>yes</td>\n",
       "      <td>2016-03-31</td>\n",
       "      <td>2016</td>\n",
       "      <td>3</td>\n",
       "    </tr>\n",
       "    <tr>\n",
       "      <th>6504</th>\n",
       "      <td>3000</td>\n",
       "      <td>small</td>\n",
       "      <td>2009</td>\n",
       "      <td>manual</td>\n",
       "      <td>771</td>\n",
       "      <td>punto</td>\n",
       "      <td>125000</td>\n",
       "      <td>0</td>\n",
       "      <td>petrol</td>\n",
       "      <td>fiat</td>\n",
       "      <td>other</td>\n",
       "      <td>2016-03-14</td>\n",
       "      <td>2016</td>\n",
       "      <td>3</td>\n",
       "    </tr>\n",
       "  </tbody>\n",
       "</table>\n",
       "</div>"
      ],
      "text/plain": [
       "      price vehicle_type  registration_year gearbox  power    model  \\\n",
       "1816   3200        small               2004  manual   1398  corolla   \n",
       "4060   3100        sedan               2005  manual    953     colt   \n",
       "5328    500        wagon               1999  manual   1001    astra   \n",
       "6296    599        small               2002  manual    603    matiz   \n",
       "6504   3000        small               2009  manual    771    punto   \n",
       "\n",
       "      kilometer  registration_month fuel_type       brand not_repaired  \\\n",
       "1816       5000                   6    petrol      toyota           no   \n",
       "4060     150000                   4  gasoline  mitsubishi           no   \n",
       "5328     150000                   7    petrol        opel        other   \n",
       "6296       5000                  11    petrol   chevrolet          yes   \n",
       "6504     125000                   0    petrol        fiat        other   \n",
       "\n",
       "     date_created  year_created  month_created  \n",
       "1816   2016-03-22          2016              3  \n",
       "4060   2016-04-03          2016              4  \n",
       "5328   2016-03-29          2016              3  \n",
       "6296   2016-03-31          2016              3  \n",
       "6504   2016-03-14          2016              3  "
      ]
     },
     "execution_count": 40,
     "metadata": {},
     "output_type": "execute_result"
    }
   ],
   "source": [
    "data.query('power>500').head()"
   ]
  },
  {
   "cell_type": "markdown",
   "metadata": {},
   "source": [
    "Вряд ли бывают тойоты кароллы мощностью 1398 л.с. Как пишут в интернете, для машины, чтобы ехать со скоростью 100 км/ч. при идеальной погоде, не считая работы генератора и сопротивления дороги необходим двигатель мощщьностью ~20 л.с. А если взять реальные условия, то мощьность должна быть больше. Отбросим данные с мощьностью больше, чем 350 л.с. и меньше, чем 50 л.с."
   ]
  },
  {
   "cell_type": "code",
   "execution_count": 41,
   "metadata": {},
   "outputs": [],
   "source": [
    "data = data.drop(data.query('power<50').index)\n",
    "data = data.drop(data.query('power>350').index)"
   ]
  },
  {
   "cell_type": "markdown",
   "metadata": {},
   "source": [
    "Посмотрим на пробег."
   ]
  },
  {
   "cell_type": "code",
   "execution_count": 42,
   "metadata": {
    "scrolled": false
   },
   "outputs": [
    {
     "data": {
      "image/png": "[encoded data removed]",
      "text/plain": [
       "<Figure size 432x288 with 1 Axes>"
      ]
     },
     "metadata": {
      "needs_background": "light"
     },
     "output_type": "display_data"
    }
   ],
   "source": [
    "sns.boxplot(data=data, x='kilometer', y='price')\n",
    "plt.xticks(rotation=90)\n",
    "plt.show()"
   ]
  },
  {
   "cell_type": "markdown",
   "metadata": {},
   "source": [
    "Похоже, что с пробегом все в порядке. Чем больше пробег, тем меньше стоимость."
   ]
  },
  {
   "cell_type": "markdown",
   "metadata": {},
   "source": [
    "Посмотрим на год и месяц регистрации."
   ]
  },
  {
   "cell_type": "code",
   "execution_count": 43,
   "metadata": {
    "scrolled": true
   },
   "outputs": [
    {
     "data": {
      "image/png": "[encoded data removed]",
      "text/plain": [
       "<Figure size 432x288 with 1 Axes>"
      ]
     },
     "metadata": {
      "needs_background": "light"
     },
     "output_type": "display_data"
    }
   ],
   "source": [
    "sns.boxplot(data=data, x='registration_year', y='price')\n",
    "plt.xticks(rotation=90)\n",
    "plt.show()"
   ]
  },
  {
   "cell_type": "code",
   "execution_count": 44,
   "metadata": {},
   "outputs": [
    {
     "data": {
      "image/png": "[encoded data removed]",
      "text/plain": [
       "<Figure size 432x288 with 1 Axes>"
      ]
     },
     "metadata": {
      "needs_background": "light"
     },
     "output_type": "display_data"
    }
   ],
   "source": [
    "sns.boxplot(data=data,x='registration_month', y='price')\n",
    "plt.xticks(rotation=90)\n",
    "plt.show()"
   ]
  },
  {
   "cell_type": "markdown",
   "metadata": {},
   "source": [
    "От месяца регистрации цена зависит мало.  Я просмотрел все картинки по годам и месяцам, и там тоже от месяца к месяцу цена меняется незначительно. А вот год регистрации имеет значение, поэтому оставим только год, а месяц удалим. "
   ]
  },
  {
   "cell_type": "code",
   "execution_count": 45,
   "metadata": {},
   "outputs": [],
   "source": [
    "data = data.drop(columns=['registration_month'])"
   ]
  },
  {
   "cell_type": "markdown",
   "metadata": {},
   "source": [
    "Посмотрим, как меняется стоимость в зависимости от месяца размещения бъвления."
   ]
  },
  {
   "cell_type": "code",
   "execution_count": 46,
   "metadata": {
    "scrolled": false
   },
   "outputs": [
    {
     "data": {
      "text/plain": [
       "<AxesSubplot:xlabel='year_created', ylabel='price'>"
      ]
     },
     "execution_count": 46,
     "metadata": {},
     "output_type": "execute_result"
    },
    {
     "data": {
      "image/png": "[encoded data removed]",
      "text/plain": [
       "<Figure size 432x288 with 1 Axes>"
      ]
     },
     "metadata": {
      "needs_background": "light"
     },
     "output_type": "display_data"
    }
   ],
   "source": [
    "sns.boxplot(data=data, x='year_created', y='price', hue='month_created')"
   ]
  },
  {
   "cell_type": "code",
   "execution_count": 47,
   "metadata": {
    "scrolled": false
   },
   "outputs": [
    {
     "data": {
      "text/plain": [
       "12    9\n",
       "11    8\n",
       "9     3\n",
       "8     2\n",
       "3     1\n",
       "Name: month_created, dtype: int64"
      ]
     },
     "execution_count": 47,
     "metadata": {},
     "output_type": "execute_result"
    }
   ],
   "source": [
    "data.query('year_created==2015')['month_created'].value_counts()"
   ]
  },
  {
   "cell_type": "code",
   "execution_count": 48,
   "metadata": {},
   "outputs": [
    {
     "data": {
      "text/plain": [
       "3    237645\n",
       "4     46024\n",
       "2       337\n",
       "1        56\n",
       "Name: month_created, dtype: int64"
      ]
     },
     "execution_count": 48,
     "metadata": {},
     "output_type": "execute_result"
    }
   ],
   "source": [
    "data.query('year_created==2016')['month_created'].value_counts()"
   ]
  },
  {
   "cell_type": "markdown",
   "metadata": {},
   "source": [
    "Все-таки тут месц размещения играет более важную роль, чем месяц регистрации. Видно, что в 2016 году цены на автомобили снижаются. В 2015 году всего одна запись сделана в апреле. Понятно, что если месяц август, сентябрь, ноябрь или декабрь, то год создания объявления 2015, а если январь, февраль, март или апрель, за исключением одной записи, то год 2016. Данные, размещенные в 2014 году удалились раньше."
   ]
  },
  {
   "cell_type": "code",
   "execution_count": 49,
   "metadata": {},
   "outputs": [],
   "source": [
    "data = data.drop(columns=['date_created'])\n",
    "data = data.drop(columns=['year_created'])"
   ]
  },
  {
   "cell_type": "markdown",
   "metadata": {},
   "source": [
    "### Вывод\n",
    "В ходе первичной обработки данных была проделана следущая работа:\n",
    "- Удалены явные дубликаты.\n",
    "- Удалена колонка с количеством фотографий, поскольку она состояла из нулей.\n",
    "- Удалена колонка с почтовыми индексами, потому что они не российские и определить по ним регион невозможно.\n",
    "- Удалена колонка с датой последней активности пользователя, она скорее использовалась для выбора \"живых\" анкет и не связана со стоимостью автомобиля.\n",
    "- Удалены аномальные значения года регистрации автомобиля. Анкеты были скачаны в марте и в апреле 2016 года, значит автомобиль не может быть зарегестрирован позже. В прошлом тысячелетии и автомобилей то не было, а если и продаются старинные автомобили, то это штучный товар и их стоимость определяется индивидуально. Ппоэтому были оставлены только данные с 1985 по 2016 год.\n",
    "- Пропуски почти везде, за исключением типа коробки передач были запонены значением 'other'. В колонке с типом коробки передач пропуски были заполнены на ручной тип, потому что это наиболее часто встречающееся значение, и, автоматическая коробка передач повышает стоимость автомобиля, поэтому владелец бы это указал в объявлении. \n",
    "- Были отброшены аномальные значения мощьности. Оставлен интервал от 50 до 350 л.с. в котором содержится большинство данных. \n",
    "- Поскольку мы хотим прогнозировать не нулевую стоимость автомобиля, то все анкеты, где стоимость равна 0 были удалены.\n",
    "- Было показано, что есть взаимосвяз между годом регистрации и стоимостью, а так же пробегом и стоимостью.\n",
    "- Из информации по размещению объявления был оставлен только месяц, по нему практически однозначно можно восстановить год размещения. В 2015 году мало данных, но в 2016 видно, что цена с начала года падает."
   ]
  },
  {
   "cell_type": "markdown",
   "metadata": {},
   "source": [
    "## Обучение моделей"
   ]
  },
  {
   "cell_type": "markdown",
   "metadata": {},
   "source": [
    "### LightGBM"
   ]
  },
  {
   "cell_type": "markdown",
   "metadata": {},
   "source": [
    "Как оказалось, строки LightGBM не нравятся. Воспользуемся LabelEncoder, чтобы преобразовать строковые признаки в числовые."
   ]
  },
  {
   "cell_type": "code",
   "execution_count": 50,
   "metadata": {},
   "outputs": [
    {
     "data": {
      "text/html": [
       "<div>\n",
       "<style scoped>\n",
       "    .dataframe tbody tr th:only-of-type {\n",
       "        vertical-align: middle;\n",
       "    }\n",
       "\n",
       "    .dataframe tbody tr th {\n",
       "        vertical-align: top;\n",
       "    }\n",
       "\n",
       "    .dataframe thead th {\n",
       "        text-align: right;\n",
       "    }\n",
       "</style>\n",
       "<table border=\"1\" class=\"dataframe\">\n",
       "  <thead>\n",
       "    <tr style=\"text-align: right;\">\n",
       "      <th></th>\n",
       "      <th>price</th>\n",
       "      <th>vehicle_type</th>\n",
       "      <th>registration_year</th>\n",
       "      <th>gearbox</th>\n",
       "      <th>power</th>\n",
       "      <th>model</th>\n",
       "      <th>kilometer</th>\n",
       "      <th>fuel_type</th>\n",
       "      <th>brand</th>\n",
       "      <th>not_repaired</th>\n",
       "      <th>month_created</th>\n",
       "    </tr>\n",
       "  </thead>\n",
       "  <tbody>\n",
       "    <tr>\n",
       "      <th>1</th>\n",
       "      <td>18300</td>\n",
       "      <td>2</td>\n",
       "      <td>2011</td>\n",
       "      <td>1</td>\n",
       "      <td>190</td>\n",
       "      <td>166</td>\n",
       "      <td>125000</td>\n",
       "      <td>2</td>\n",
       "      <td>1</td>\n",
       "      <td>2</td>\n",
       "      <td>3</td>\n",
       "    </tr>\n",
       "    <tr>\n",
       "      <th>2</th>\n",
       "      <td>9800</td>\n",
       "      <td>6</td>\n",
       "      <td>2004</td>\n",
       "      <td>0</td>\n",
       "      <td>163</td>\n",
       "      <td>117</td>\n",
       "      <td>125000</td>\n",
       "      <td>2</td>\n",
       "      <td>14</td>\n",
       "      <td>1</td>\n",
       "      <td>3</td>\n",
       "    </tr>\n",
       "    <tr>\n",
       "      <th>3</th>\n",
       "      <td>1500</td>\n",
       "      <td>5</td>\n",
       "      <td>2001</td>\n",
       "      <td>1</td>\n",
       "      <td>75</td>\n",
       "      <td>116</td>\n",
       "      <td>150000</td>\n",
       "      <td>6</td>\n",
       "      <td>38</td>\n",
       "      <td>0</td>\n",
       "      <td>3</td>\n",
       "    </tr>\n",
       "    <tr>\n",
       "      <th>4</th>\n",
       "      <td>3600</td>\n",
       "      <td>5</td>\n",
       "      <td>2008</td>\n",
       "      <td>1</td>\n",
       "      <td>69</td>\n",
       "      <td>101</td>\n",
       "      <td>90000</td>\n",
       "      <td>2</td>\n",
       "      <td>31</td>\n",
       "      <td>0</td>\n",
       "      <td>3</td>\n",
       "    </tr>\n",
       "    <tr>\n",
       "      <th>5</th>\n",
       "      <td>650</td>\n",
       "      <td>4</td>\n",
       "      <td>1995</td>\n",
       "      <td>1</td>\n",
       "      <td>102</td>\n",
       "      <td>11</td>\n",
       "      <td>150000</td>\n",
       "      <td>6</td>\n",
       "      <td>2</td>\n",
       "      <td>2</td>\n",
       "      <td>4</td>\n",
       "    </tr>\n",
       "  </tbody>\n",
       "</table>\n",
       "</div>"
      ],
      "text/plain": [
       "   price  vehicle_type  registration_year  gearbox  power  model  kilometer  \\\n",
       "1  18300             2               2011        1    190    166     125000   \n",
       "2   9800             6               2004        0    163    117     125000   \n",
       "3   1500             5               2001        1     75    116     150000   \n",
       "4   3600             5               2008        1     69    101      90000   \n",
       "5    650             4               1995        1    102     11     150000   \n",
       "\n",
       "   fuel_type  brand  not_repaired  month_created  \n",
       "1          2      1             2              3  \n",
       "2          2     14             1              3  \n",
       "3          6     38             0              3  \n",
       "4          2     31             0              3  \n",
       "5          6      2             2              4  "
      ]
     },
     "execution_count": 50,
     "metadata": {},
     "output_type": "execute_result"
    }
   ],
   "source": [
    "lgb_data = data.copy()\n",
    "lbl = LabelEncoder()\n",
    "for col in ['vehicle_type','gearbox','gearbox','model','fuel_type', 'brand', 'not_repaired']:\n",
    "    lgb_data[col] = lbl.fit_transform(lgb_data[col])\n",
    "lgb_data.head()"
   ]
  },
  {
   "cell_type": "markdown",
   "metadata": {},
   "source": [
    "Выделим целевой параметр в отдельную переменную."
   ]
  },
  {
   "cell_type": "code",
   "execution_count": 51,
   "metadata": {},
   "outputs": [],
   "source": [
    "y = lgb_data['price']\n",
    "X = lgb_data.drop(columns=['price'])"
   ]
  },
  {
   "cell_type": "markdown",
   "metadata": {},
   "source": [
    "Для обучения LightGBM нужна валидационная выборка. Чтобы проверить модель разделим данные на валидационную и тестовую выборки."
   ]
  },
  {
   "cell_type": "code",
   "execution_count": 52,
   "metadata": {},
   "outputs": [],
   "source": [
    "x_train, x_test, y_train, y_test = train_test_split(X, y, test_size=0.25, random_state=12345)"
   ]
  },
  {
   "cell_type": "markdown",
   "metadata": {},
   "source": [
    "Преобразуем их в подходящий формат для LightGBM."
   ]
  },
  {
   "cell_type": "code",
   "execution_count": 53,
   "metadata": {},
   "outputs": [],
   "source": [
    "lgb_train = lgb.Dataset(x_train, y_train, feature_name='auto', categorical_feature=None,free_raw_data=False)"
   ]
  },
  {
   "cell_type": "markdown",
   "metadata": {},
   "source": [
    "Параметры возбмем как в примере в документации."
   ]
  },
  {
   "cell_type": "code",
   "execution_count": 54,
   "metadata": {},
   "outputs": [],
   "source": [
    "params = {\n",
    "    'task': 'train', \n",
    "    'boosting': 'gbdt',\n",
    "    'objective': 'regression',\n",
    "    'num_leaves': 10,\n",
    "    'learning_rate': 0.05,\n",
    "    'metric': 'l2',\n",
    "    'verbose': -1\n",
    "}\n"
   ]
  },
  {
   "cell_type": "code",
   "execution_count": 55,
   "metadata": {
    "scrolled": false
   },
   "outputs": [
    {
     "name": "stderr",
     "output_type": "stream",
     "text": [
      "/opt/conda/lib/python3.9/site-packages/sklearn/model_selection/_split.py:666: UserWarning: The least populated class in y has only 1 members, which is less than n_splits=3.\n",
      "  warnings.warn((\"The least populated class in y has only %d\"\n",
      "/opt/conda/lib/python3.9/site-packages/lightgbm/engine.py:620: UserWarning: 'verbose_eval' argument is deprecated and will be removed in a future release of LightGBM. Pass 'log_evaluation()' callback via 'callbacks' argument instead.\n",
      "  _log_warning(\"'verbose_eval' argument is deprecated and will be removed in a future release of LightGBM. \"\n"
     ]
    },
    {
     "name": "stdout",
     "output_type": "stream",
     "text": [
      "[1]\tcv_agg's rmse: 4443.23 + 1.51877\n",
      "[2]\tcv_agg's rmse: 4300.3 + 1.60165\n",
      "[3]\tcv_agg's rmse: 4166.75 + 1.63221\n",
      "[4]\tcv_agg's rmse: 4038.84 + 0.847663\n",
      "[5]\tcv_agg's rmse: 3921.98 + 0.941446\n",
      "[6]\tcv_agg's rmse: 3808.85 + 1.93887\n",
      "[7]\tcv_agg's rmse: 3702.04 + 2.19427\n",
      "[8]\tcv_agg's rmse: 3603.61 + 2.61179\n",
      "[9]\tcv_agg's rmse: 3509.75 + 2.06098\n",
      "[10]\tcv_agg's rmse: 3421.8 + 2.21417\n",
      "[11]\tcv_agg's rmse: 3338.33 + 3.21394\n",
      "[12]\tcv_agg's rmse: 3260.11 + 3.88408\n",
      "[13]\tcv_agg's rmse: 3186.54 + 3.53176\n",
      "[14]\tcv_agg's rmse: 3118.6 + 3.67848\n",
      "[15]\tcv_agg's rmse: 3054.15 + 3.10994\n",
      "[16]\tcv_agg's rmse: 2993.74 + 2.34297\n",
      "[17]\tcv_agg's rmse: 2937.39 + 2.557\n",
      "[18]\tcv_agg's rmse: 2884.98 + 2.53653\n",
      "[19]\tcv_agg's rmse: 2835.07 + 2.23184\n",
      "[20]\tcv_agg's rmse: 2787.93 + 3.80311\n",
      "[21]\tcv_agg's rmse: 2742.65 + 4.51491\n",
      "[22]\tcv_agg's rmse: 2700.25 + 3.43204\n",
      "[23]\tcv_agg's rmse: 2660.43 + 4.58119\n",
      "[24]\tcv_agg's rmse: 2621.73 + 4.81507\n",
      "[25]\tcv_agg's rmse: 2586.68 + 5.23116\n",
      "[26]\tcv_agg's rmse: 2553.53 + 4.97643\n",
      "[27]\tcv_agg's rmse: 2521.96 + 6.0319\n",
      "[28]\tcv_agg's rmse: 2492.39 + 5.69803\n",
      "[29]\tcv_agg's rmse: 2464.27 + 5.82013\n",
      "[30]\tcv_agg's rmse: 2438.47 + 5.91788\n",
      "[31]\tcv_agg's rmse: 2414.16 + 6.12635\n",
      "[32]\tcv_agg's rmse: 2390.87 + 5.31163\n",
      "[33]\tcv_agg's rmse: 2368.84 + 6.29777\n",
      "[34]\tcv_agg's rmse: 2348.56 + 5.59088\n",
      "[35]\tcv_agg's rmse: 2328.75 + 5.72372\n",
      "[36]\tcv_agg's rmse: 2310.33 + 5.86604\n",
      "[37]\tcv_agg's rmse: 2292.13 + 5.9969\n",
      "[38]\tcv_agg's rmse: 2275.46 + 6.2148\n",
      "[39]\tcv_agg's rmse: 2259.41 + 6.72489\n",
      "[40]\tcv_agg's rmse: 2243.96 + 6.34639\n",
      "[41]\tcv_agg's rmse: 2229.36 + 6.78034\n",
      "[42]\tcv_agg's rmse: 2215.65 + 7.12437\n",
      "[43]\tcv_agg's rmse: 2201.09 + 7.40834\n",
      "[44]\tcv_agg's rmse: 2187.43 + 7.46977\n",
      "[45]\tcv_agg's rmse: 2174.4 + 7.51644\n",
      "[46]\tcv_agg's rmse: 2162.07 + 7.58203\n",
      "[47]\tcv_agg's rmse: 2149.18 + 7.11062\n",
      "[48]\tcv_agg's rmse: 2138.12 + 7.06656\n",
      "[49]\tcv_agg's rmse: 2127.07 + 7.53573\n",
      "[50]\tcv_agg's rmse: 2117.14 + 7.67196\n",
      "[51]\tcv_agg's rmse: 2107.22 + 7.91647\n",
      "[52]\tcv_agg's rmse: 2096.82 + 9.73877\n",
      "[53]\tcv_agg's rmse: 2086.72 + 9.10746\n",
      "[54]\tcv_agg's rmse: 2076.77 + 8.51999\n",
      "[55]\tcv_agg's rmse: 2067.99 + 8.11508\n",
      "[56]\tcv_agg's rmse: 2059.54 + 8.27385\n",
      "[57]\tcv_agg's rmse: 2051.6 + 8.94396\n",
      "[58]\tcv_agg's rmse: 2042.84 + 10.3854\n",
      "[59]\tcv_agg's rmse: 2035.69 + 10.4484\n",
      "[60]\tcv_agg's rmse: 2027.55 + 9.75885\n",
      "[61]\tcv_agg's rmse: 2019.24 + 9.03969\n",
      "[62]\tcv_agg's rmse: 2011.78 + 10.6693\n",
      "[63]\tcv_agg's rmse: 2005.63 + 10.5982\n",
      "[64]\tcv_agg's rmse: 1999.39 + 10.7463\n",
      "[65]\tcv_agg's rmse: 1993.05 + 11.0736\n",
      "[66]\tcv_agg's rmse: 1985.97 + 10.7513\n",
      "[67]\tcv_agg's rmse: 1979.89 + 10.4945\n",
      "[68]\tcv_agg's rmse: 1974.82 + 10.2602\n",
      "[69]\tcv_agg's rmse: 1968.94 + 10.2835\n",
      "[70]\tcv_agg's rmse: 1964.3 + 10.5072\n",
      "[71]\tcv_agg's rmse: 1959.62 + 10.092\n",
      "[72]\tcv_agg's rmse: 1954.97 + 9.97469\n",
      "[73]\tcv_agg's rmse: 1949.53 + 9.68267\n",
      "[74]\tcv_agg's rmse: 1945.49 + 9.32767\n",
      "[75]\tcv_agg's rmse: 1940.53 + 9.44332\n",
      "[76]\tcv_agg's rmse: 1936.65 + 9.29985\n",
      "[77]\tcv_agg's rmse: 1932.73 + 8.90207\n",
      "[78]\tcv_agg's rmse: 1928.62 + 9.00712\n",
      "[79]\tcv_agg's rmse: 1924.47 + 9.08743\n",
      "[80]\tcv_agg's rmse: 1920.92 + 9.10487\n",
      "[81]\tcv_agg's rmse: 1917.18 + 8.84992\n",
      "[82]\tcv_agg's rmse: 1914.1 + 9.23005\n",
      "[83]\tcv_agg's rmse: 1910.45 + 9.40075\n",
      "[84]\tcv_agg's rmse: 1906.93 + 9.01466\n",
      "[85]\tcv_agg's rmse: 1903.3 + 8.56973\n",
      "[86]\tcv_agg's rmse: 1900.08 + 8.82578\n",
      "[87]\tcv_agg's rmse: 1897.2 + 8.55041\n",
      "[88]\tcv_agg's rmse: 1894.78 + 8.68043\n",
      "[89]\tcv_agg's rmse: 1891.38 + 8.31858\n",
      "[90]\tcv_agg's rmse: 1887.57 + 8.23986\n",
      "[91]\tcv_agg's rmse: 1884.21 + 8.79736\n",
      "[92]\tcv_agg's rmse: 1881.36 + 8.66981\n",
      "[93]\tcv_agg's rmse: 1878.98 + 8.46812\n",
      "[94]\tcv_agg's rmse: 1876.05 + 8.32843\n",
      "[95]\tcv_agg's rmse: 1873.33 + 8.52783\n",
      "[96]\tcv_agg's rmse: 1871.01 + 8.83693\n",
      "[97]\tcv_agg's rmse: 1867.67 + 9.01174\n",
      "[98]\tcv_agg's rmse: 1865.18 + 9.39022\n",
      "[99]\tcv_agg's rmse: 1862.87 + 9.62705\n",
      "[100]\tcv_agg's rmse: 1860.05 + 9.47657\n"
     ]
    }
   ],
   "source": [
    "cv_results = lgb.cv(params, lgb_train, nfold = 3, verbose_eval  = True, metrics = 'rmse')"
   ]
  },
  {
   "cell_type": "code",
   "execution_count": 56,
   "metadata": {
    "scrolled": true
   },
   "outputs": [
    {
     "name": "stderr",
     "output_type": "stream",
     "text": [
      "/opt/conda/lib/python3.9/site-packages/lightgbm/basic.py:2068: UserWarning: categorical_feature in Dataset is overridden.\n",
      "New categorical_feature is ['brand', 'fuel_type', 'gearbox', 'model', 'not_repaired', 'vehicle_type']\n",
      "  _log_warning('categorical_feature in Dataset is overridden.\\n'\n"
     ]
    },
    {
     "name": "stdout",
     "output_type": "stream",
     "text": [
      "CPU times: user 4.86 s, sys: 5.47 ms, total: 4.86 s\n",
      "Wall time: 4.9 s\n"
     ]
    }
   ],
   "source": [
    "%%time\n",
    "model = lgb.train(params,\n",
    "                 train_set=lgb_train,\n",
    "                 categorical_feature=['vehicle_type','gearbox','model','fuel_type', 'brand', 'not_repaired'])"
   ]
  },
  {
   "cell_type": "markdown",
   "metadata": {},
   "source": [
    " Вынесем предсказание в отдельную ячейку, чтобы оценить время."
   ]
  },
  {
   "cell_type": "code",
   "execution_count": 57,
   "metadata": {},
   "outputs": [
    {
     "name": "stdout",
     "output_type": "stream",
     "text": [
      "CPU times: user 1.4 s, sys: 232 µs, total: 1.4 s\n",
      "Wall time: 1.4 s\n"
     ]
    }
   ],
   "source": [
    "%%time\n",
    "y_pred = model.predict(x_train)"
   ]
  },
  {
   "cell_type": "code",
   "execution_count": 58,
   "metadata": {},
   "outputs": [
    {
     "data": {
      "text/plain": [
       "<AxesSubplot:title={'center':'Feature importance'}, xlabel='Feature importance', ylabel='Features'>"
      ]
     },
     "execution_count": 58,
     "metadata": {},
     "output_type": "execute_result"
    },
    {
     "data": {
      "image/png": "[encoded data removed]",
      "text/plain": [
       "<Figure size 432x288 with 1 Axes>"
      ]
     },
     "metadata": {
      "needs_background": "light"
     },
     "output_type": "display_data"
    }
   ],
   "source": [
    "#mse = mean_squared_error(y_test, y_pred)\n",
    "#rmse = mse**(0.5)\n",
    "#print(\"MSE: %.2f\" % mse)\n",
    "#print(\"RMSE: %.2f\" % rmse) \n",
    "lgb.plot_importance(model,height=0.5)"
   ]
  },
  {
   "cell_type": "code",
   "execution_count": 59,
   "metadata": {},
   "outputs": [
    {
     "data": {
      "text/plain": [
       "{'LGBM': [1860.05, '28.2 s', '1.39 s']}"
      ]
     },
     "execution_count": 59,
     "metadata": {},
     "output_type": "execute_result"
    }
   ],
   "source": [
    "performance_dict = {'LGBM':[1860.05, '28.2 s','1.39 s']}\n",
    "performance_dict"
   ]
  },
  {
   "cell_type": "markdown",
   "metadata": {},
   "source": [
    "RMSE меньше, чем 2500. Можно принимать модель. В задании нужно поменять несколько параметров и посмотреть, как изменится результат."
   ]
  },
  {
   "cell_type": "code",
   "execution_count": 60,
   "metadata": {},
   "outputs": [],
   "source": [
    "params = {\n",
    "    'task': 'train', \n",
    "    'boosting': 'gbdt',\n",
    "    'objective': 'regression',\n",
    "    'n_estimators': 50,\n",
    "    'max_depth':10,\n",
    "    'learning_rate': 0.05,\n",
    "    'metric': 'l2',\n",
    "    'verbose': -1\n",
    "}"
   ]
  },
  {
   "cell_type": "code",
   "execution_count": 61,
   "metadata": {
    "scrolled": true
   },
   "outputs": [
    {
     "name": "stderr",
     "output_type": "stream",
     "text": [
      "/opt/conda/lib/python3.9/site-packages/lightgbm/engine.py:573: UserWarning: Found `n_estimators` in params. Will use it instead of argument\n",
      "  _log_warning(f\"Found `{alias}` in params. Will use it instead of argument\")\n",
      "/opt/conda/lib/python3.9/site-packages/lightgbm/basic.py:2065: UserWarning: Using categorical_feature in Dataset.\n",
      "  _log_warning('Using categorical_feature in Dataset.')\n",
      "/opt/conda/lib/python3.9/site-packages/sklearn/model_selection/_split.py:666: UserWarning: The least populated class in y has only 1 members, which is less than n_splits=3.\n",
      "  warnings.warn((\"The least populated class in y has only %d\"\n",
      "/opt/conda/lib/python3.9/site-packages/lightgbm/engine.py:620: UserWarning: 'verbose_eval' argument is deprecated and will be removed in a future release of LightGBM. Pass 'log_evaluation()' callback via 'callbacks' argument instead.\n",
      "  _log_warning(\"'verbose_eval' argument is deprecated and will be removed in a future release of LightGBM. \"\n"
     ]
    },
    {
     "name": "stdout",
     "output_type": "stream",
     "text": [
      "[1]\tcv_agg's rmse: 4420.5 + 1.61148\n",
      "[2]\tcv_agg's rmse: 4254.84 + 1.62833\n",
      "[3]\tcv_agg's rmse: 4099.33 + 1.24712\n",
      "[4]\tcv_agg's rmse: 3953.83 + 1.34821\n",
      "[5]\tcv_agg's rmse: 3817.25 + 1.81669\n",
      "[6]\tcv_agg's rmse: 3688.42 + 1.56325\n",
      "[7]\tcv_agg's rmse: 3566.45 + 1.63799\n",
      "[8]\tcv_agg's rmse: 3450.77 + 1.727\n",
      "[9]\tcv_agg's rmse: 3342.27 + 2.53018\n",
      "[10]\tcv_agg's rmse: 3239.95 + 3.03697\n",
      "[11]\tcv_agg's rmse: 3143.42 + 3.53584\n",
      "[12]\tcv_agg's rmse: 3052.76 + 3.13353\n",
      "[13]\tcv_agg's rmse: 2967.54 + 3.72793\n",
      "[14]\tcv_agg's rmse: 2888.11 + 3.25434\n",
      "[15]\tcv_agg's rmse: 2811.88 + 4.20281\n",
      "[16]\tcv_agg's rmse: 2740.73 + 4.29888\n",
      "[17]\tcv_agg's rmse: 2674.21 + 4.79575\n",
      "[18]\tcv_agg's rmse: 2609.74 + 4.76615\n",
      "[19]\tcv_agg's rmse: 2551.24 + 5.35624\n",
      "[20]\tcv_agg's rmse: 2495.39 + 4.84868\n",
      "[21]\tcv_agg's rmse: 2443.53 + 5.08907\n",
      "[22]\tcv_agg's rmse: 2393.99 + 4.91962\n",
      "[23]\tcv_agg's rmse: 2347.74 + 5.14604\n",
      "[24]\tcv_agg's rmse: 2303.98 + 5.10212\n",
      "[25]\tcv_agg's rmse: 2262.73 + 5.89009\n",
      "[26]\tcv_agg's rmse: 2223.85 + 5.82894\n",
      "[27]\tcv_agg's rmse: 2187.45 + 5.85171\n",
      "[28]\tcv_agg's rmse: 2153.12 + 6.00592\n",
      "[29]\tcv_agg's rmse: 2120.78 + 6.40877\n",
      "[30]\tcv_agg's rmse: 2090.12 + 5.92618\n",
      "[31]\tcv_agg's rmse: 2061.95 + 6.16298\n",
      "[32]\tcv_agg's rmse: 2035.56 + 6.46354\n",
      "[33]\tcv_agg's rmse: 2010.22 + 6.65364\n",
      "[34]\tcv_agg's rmse: 1986.7 + 6.66353\n",
      "[35]\tcv_agg's rmse: 1965.18 + 6.76114\n",
      "[36]\tcv_agg's rmse: 1944.56 + 7.03974\n",
      "[37]\tcv_agg's rmse: 1925.33 + 7.02957\n",
      "[38]\tcv_agg's rmse: 1907.28 + 7.22759\n",
      "[39]\tcv_agg's rmse: 1890.27 + 7.36625\n",
      "[40]\tcv_agg's rmse: 1874.45 + 7.02704\n",
      "[41]\tcv_agg's rmse: 1859.57 + 7.23852\n",
      "[42]\tcv_agg's rmse: 1845.83 + 7.14248\n",
      "[43]\tcv_agg's rmse: 1832.42 + 7.0821\n",
      "[44]\tcv_agg's rmse: 1819.92 + 7.04061\n",
      "[45]\tcv_agg's rmse: 1808.21 + 7.20712\n",
      "[46]\tcv_agg's rmse: 1797.24 + 7.07469\n",
      "[47]\tcv_agg's rmse: 1786.63 + 7.20614\n",
      "[48]\tcv_agg's rmse: 1776.85 + 7.20154\n",
      "[49]\tcv_agg's rmse: 1767.46 + 6.88885\n",
      "[50]\tcv_agg's rmse: 1758.67 + 6.88795\n"
     ]
    }
   ],
   "source": [
    "cv_results = lgb.cv(params, lgb_train, nfold = 3, verbose_eval  = True, metrics = 'rmse')"
   ]
  },
  {
   "cell_type": "markdown",
   "metadata": {},
   "source": [
    "RMSE тоже подходит. Определим врямя обучени и прогноза. Оооочень долго считал.  "
   ]
  },
  {
   "cell_type": "code",
   "execution_count": 62,
   "metadata": {},
   "outputs": [
    {
     "name": "stderr",
     "output_type": "stream",
     "text": [
      "/opt/conda/lib/python3.9/site-packages/lightgbm/engine.py:177: UserWarning: Found `n_estimators` in params. Will use it instead of argument\n",
      "  _log_warning(f\"Found `{alias}` in params. Will use it instead of argument\")\n"
     ]
    },
    {
     "name": "stdout",
     "output_type": "stream",
     "text": [
      "CPU times: user 3.49 s, sys: 13.1 ms, total: 3.51 s\n",
      "Wall time: 3.5 s\n"
     ]
    }
   ],
   "source": [
    "%%time\n",
    "model = lgb.train(params,\n",
    "                 train_set=lgb_train,\n",
    "                 categorical_feature=['vehicle_type','gearbox','model','fuel_type', 'brand', 'not_repaired']\n",
    "                 )"
   ]
  },
  {
   "cell_type": "code",
   "execution_count": 63,
   "metadata": {},
   "outputs": [
    {
     "name": "stdout",
     "output_type": "stream",
     "text": [
      "CPU times: user 932 ms, sys: 0 ns, total: 932 ms\n",
      "Wall time: 908 ms\n"
     ]
    }
   ],
   "source": [
    "%%time\n",
    "y_pred = model.predict(x_train)"
   ]
  },
  {
   "cell_type": "code",
   "execution_count": 64,
   "metadata": {},
   "outputs": [
    {
     "data": {
      "text/plain": [
       "<AxesSubplot:title={'center':'Feature importance'}, xlabel='Feature importance', ylabel='Features'>"
      ]
     },
     "execution_count": 64,
     "metadata": {},
     "output_type": "execute_result"
    },
    {
     "data": {
      "image/png": "[encoded data removed]",
      "text/plain": [
       "<Figure size 432x288 with 1 Axes>"
      ]
     },
     "metadata": {
      "needs_background": "light"
     },
     "output_type": "display_data"
    }
   ],
   "source": [
    "#mse = mean_squared_error(y_test, y_pred)\n",
    "#rmse = mse**(0.5)\n",
    "#print(\"MSE: %.2f\" % mse)\n",
    "#print(\"RMSE: %.2f\" % rmse) \n",
    "lgb.plot_importance(model,height=0.5)"
   ]
  },
  {
   "cell_type": "code",
   "execution_count": 65,
   "metadata": {},
   "outputs": [
    {
     "data": {
      "text/plain": [
       "{'LGBM': [1860.05, '28.2 s', '1.39 s'],\n",
       " 'LGBM_50_10': [1758.67, '1 min 16 s', '1.06 s']}"
      ]
     },
     "execution_count": 65,
     "metadata": {},
     "output_type": "execute_result"
    }
   ],
   "source": [
    "performance_dict['LGBM_50_10'] = [1758.67, '1 min 16 s', '1.06 s']\n",
    "performance_dict"
   ]
  },
  {
   "cell_type": "markdown",
   "metadata": {},
   "source": [
    "Уменьшили количество деревьев со 100 до 50 и результат стал хуже, оставим все как было. Интересно, что порядок важности признаков изменился."
   ]
  },
  {
   "cell_type": "code",
   "execution_count": 66,
   "metadata": {},
   "outputs": [],
   "source": [
    "del lgb_data\n",
    "del lgb_train"
   ]
  },
  {
   "cell_type": "markdown",
   "metadata": {},
   "source": [
    "### Catboost"
   ]
  },
  {
   "cell_type": "markdown",
   "metadata": {},
   "source": [
    "Раз уж все так хвалят CatBoost, то нужно его попробовать."
   ]
  },
  {
   "cell_type": "code",
   "execution_count": 67,
   "metadata": {},
   "outputs": [],
   "source": [
    "cb_data = data.copy()\n",
    "X = cb_data.drop(columns=['price'])\n",
    "y = cb_data['price']"
   ]
  },
  {
   "cell_type": "code",
   "execution_count": 68,
   "metadata": {},
   "outputs": [],
   "source": [
    "x_train, x_test, y_train, y_test_cb = train_test_split(X, y, test_size=0.25,random_state=12345)"
   ]
  },
  {
   "cell_type": "code",
   "execution_count": 69,
   "metadata": {},
   "outputs": [],
   "source": [
    "train_pool = Pool(x_train, y_train, cat_features=[0,2,4,6,7,8])\n",
    "test_pool = Pool(x_test,cat_features=[0,2,4,6,7,8]) "
   ]
  },
  {
   "cell_type": "code",
   "execution_count": 70,
   "metadata": {},
   "outputs": [],
   "source": [
    "params = {\"iterations\": 100,\n",
    "          \"depth\":10,\n",
    "          'learning_rate':0.05,\n",
    "          'loss_function':'RMSE'}"
   ]
  },
  {
   "cell_type": "code",
   "execution_count": 71,
   "metadata": {
    "scrolled": false
   },
   "outputs": [
    {
     "data": {
      "application/vnd.jupyter.widget-view+json": {
       "model_id": "d5d90cf9ee7b452d938a6460bd1efd2a",
       "version_major": 2,
       "version_minor": 0
      },
      "text/plain": [
       "MetricVisualizer(layout=Layout(align_self='stretch', height='500px'))"
      ]
     },
     "metadata": {},
     "output_type": "display_data"
    },
    {
     "name": "stdout",
     "output_type": "stream",
     "text": [
      "Training on fold [0/2]\n",
      "\n",
      "bestTest = 1663.045683\n",
      "bestIteration = 99\n",
      "\n",
      "Training on fold [1/2]\n",
      "\n",
      "bestTest = 1681.920678\n",
      "bestIteration = 99\n",
      "\n"
     ]
    }
   ],
   "source": [
    "scores = cv(train_pool,\n",
    "            params,\n",
    "            fold_count=2, \n",
    "            plot=\"True\",\n",
    "            verbose=False\n",
    "           )"
   ]
  },
  {
   "cell_type": "code",
   "execution_count": 72,
   "metadata": {},
   "outputs": [],
   "source": [
    "model = CatBoostRegressor(logging_level='Silent',loss_function='RMSE')"
   ]
  },
  {
   "cell_type": "code",
   "execution_count": 73,
   "metadata": {},
   "outputs": [],
   "source": [
    "grid = {'learning_rate': [0.03, 0.1],\n",
    "        'depth': [4, 6, 10],\n",
    "        'iterations':[30, 70, 100],\n",
    "        }"
   ]
  },
  {
   "cell_type": "code",
   "execution_count": 74,
   "metadata": {
    "scrolled": false
   },
   "outputs": [
    {
     "data": {
      "application/vnd.jupyter.widget-view+json": {
       "model_id": "43054b59c825448780f9b836465c0c40",
       "version_major": 2,
       "version_minor": 0
      },
      "text/plain": [
       "MetricVisualizer(layout=Layout(align_self='stretch', height='500px'))"
      ]
     },
     "metadata": {},
     "output_type": "display_data"
    }
   ],
   "source": [
    "grid_search_result = model.grid_search(grid, train_pool, verbose=False, plot=True)"
   ]
  },
  {
   "cell_type": "code",
   "execution_count": 75,
   "metadata": {
    "scrolled": true
   },
   "outputs": [
    {
     "data": {
      "text/plain": [
       "{'depth': 10, 'iterations': 100, 'learning_rate': 0.1}"
      ]
     },
     "execution_count": 75,
     "metadata": {},
     "output_type": "execute_result"
    }
   ],
   "source": [
    "grid_search_result['params']"
   ]
  },
  {
   "cell_type": "markdown",
   "metadata": {},
   "source": [
    "Посмотрим сколько модель обучается и предсказывает.\n"
   ]
  },
  {
   "cell_type": "code",
   "execution_count": 76,
   "metadata": {
    "scrolled": false
   },
   "outputs": [
    {
     "name": "stdout",
     "output_type": "stream",
     "text": [
      "CPU times: user 10.7 s, sys: 72.7 ms, total: 10.8 s\n",
      "Wall time: 11.4 s\n"
     ]
    },
    {
     "data": {
      "text/plain": [
       "<catboost.core.CatBoostRegressor at 0x7fc3d91afcd0>"
      ]
     },
     "execution_count": 76,
     "metadata": {},
     "output_type": "execute_result"
    }
   ],
   "source": [
    "%%time\n",
    "cb_model = CatBoostRegressor(iterations=100, \n",
    "                          depth=10, \n",
    "                          learning_rate=0.1, \n",
    "                          loss_function='RMSE',\n",
    "                         logging_level='Silent')\n",
    "\n",
    "cb_model.fit(train_pool)"
   ]
  },
  {
   "cell_type": "code",
   "execution_count": 77,
   "metadata": {},
   "outputs": [
    {
     "name": "stdout",
     "output_type": "stream",
     "text": [
      "CPU times: user 105 ms, sys: 3.92 ms, total: 109 ms\n",
      "Wall time: 107 ms\n"
     ]
    }
   ],
   "source": [
    "%%time\n",
    "y_pred = cb_model.predict(train_pool)\n",
    "#mse = mean_squared_error(y_test, y_pred)\n",
    "#rmse = mse**(0.5)\n",
    "#print(\"MSE: %.2f\" % mse)\n",
    "#print(\"RMSE: %.2f\" % rmse) "
   ]
  },
  {
   "cell_type": "code",
   "execution_count": 78,
   "metadata": {
    "scrolled": true
   },
   "outputs": [
    {
     "data": {
      "text/plain": [
       "{'LGBM': [1860.05, '28.2 s', '1.39 s'],\n",
       " 'LGBM_50_10': [1758.67, '1 min 16 s', '1.06 s'],\n",
       " 'CatBoost_100_10': [1582.7, '11.4 s', '111 ms']}"
      ]
     },
     "execution_count": 78,
     "metadata": {},
     "output_type": "execute_result"
    }
   ],
   "source": [
    "performance_dict['CatBoost_100_10'] = [1582.7, '11.4 s','111 ms']\n",
    "performance_dict"
   ]
  },
  {
   "cell_type": "markdown",
   "metadata": {},
   "source": [
    "Попробуем поменять несколько параметров."
   ]
  },
  {
   "cell_type": "code",
   "execution_count": 79,
   "metadata": {
    "scrolled": true
   },
   "outputs": [],
   "source": [
    "#%%time\n",
    "#model = CatBoostRegressor(iterations=50, \n",
    "#                          depth=10, \n",
    "#                          learning_rate=0.05, \n",
    "#                          loss_function='RMSE')\n",
    "#\n",
    "#model.fit(train_pool)"
   ]
  },
  {
   "cell_type": "code",
   "execution_count": 80,
   "metadata": {},
   "outputs": [],
   "source": [
    "#y_pred = model.predict(train_pool)\n",
    "#mse = mean_squared_error(y_test, y_pred)\n",
    "#rmse = mse**(0.5)\n",
    "#print(\"MSE: %.2f\" % mse)\n",
    "#print(\"RMSE: %.2f\" % rmse) "
   ]
  },
  {
   "cell_type": "markdown",
   "metadata": {},
   "source": [
    "Cтало хуже. Лучше оставим все как было."
   ]
  },
  {
   "cell_type": "code",
   "execution_count": 81,
   "metadata": {
    "scrolled": true
   },
   "outputs": [],
   "source": [
    "#performance_dict['CatBoost_50_10'] = [rmse, '5.81 s']\n",
    "#performance_dict"
   ]
  },
  {
   "cell_type": "markdown",
   "metadata": {},
   "source": [
    "###  SGDRegressor"
   ]
  },
  {
   "cell_type": "code",
   "execution_count": 82,
   "metadata": {},
   "outputs": [],
   "source": [
    "sgd_data = data.copy()\n",
    "y = sgd_data['price']\n",
    "X = sgd_data.drop(columns=['price'])"
   ]
  },
  {
   "cell_type": "code",
   "execution_count": 83,
   "metadata": {},
   "outputs": [],
   "source": [
    "X = OneHotEncoder(drop='first').fit_transform(X)"
   ]
  },
  {
   "cell_type": "code",
   "execution_count": 84,
   "metadata": {},
   "outputs": [],
   "source": [
    "x_train, x_test, y_train, y_test = train_test_split(X, y, test_size=0.25,random_state=12345)"
   ]
  },
  {
   "cell_type": "markdown",
   "metadata": {},
   "source": [
    "Добавим масштабирование."
   ]
  },
  {
   "cell_type": "code",
   "execution_count": 85,
   "metadata": {},
   "outputs": [],
   "source": [
    "scaler = StandardScaler(with_mean=False)\n",
    "scaler.fit(x_train)\n",
    "x_train_scaled = scaler.transform(x_train)\n",
    "x_test_scaled = scaler.transform(x_test)"
   ]
  },
  {
   "cell_type": "markdown",
   "metadata": {},
   "source": [
    "Попробуем отмасштабировать только численные признаки."
   ]
  },
  {
   "cell_type": "code",
   "execution_count": 86,
   "metadata": {},
   "outputs": [],
   "source": [
    "X_num_cat = sgd_data.drop(columns=['price'])\n",
    "columns_to_scale = ['registration_year','power','kilometer','month_created']\n",
    "columns_to_encode  = ['vehicle_type', 'gearbox','model','fuel_type', 'brand', 'not_repaired']\n",
    "scaler = StandardScaler()\n",
    "ohe    = OneHotEncoder(sparse=False)\n",
    "scaled_columns  = scaler.fit_transform(X_num_cat[columns_to_scale]) \n",
    "encoded_columns =    ohe.fit_transform(X_num_cat[columns_to_encode])\n",
    "processed_data = np.concatenate([scaled_columns, encoded_columns], axis=1)"
   ]
  },
  {
   "cell_type": "code",
   "execution_count": 87,
   "metadata": {},
   "outputs": [],
   "source": [
    "x_train_scaled_2, x_test_scaled_2, y_train_2, y_test_2 = train_test_split(processed_data, y, test_size=0.25,random_state=12345)"
   ]
  },
  {
   "cell_type": "code",
   "execution_count": 88,
   "metadata": {},
   "outputs": [],
   "source": [
    "#%%time\n",
    "#reg = SGDRegressor(max_iter=1000, tol=1e-3,random_state=12345)\n",
    "#reg.fit(x_train,y_train)"
   ]
  },
  {
   "cell_type": "code",
   "execution_count": 89,
   "metadata": {},
   "outputs": [],
   "source": [
    "#y_pred = reg.predict(x_test)\n",
    "#mse = mean_squared_error(y_test, y_pred)\n",
    "#rmse = mse**(0.5)\n",
    "#print(\"MSE: %.2f\" % mse)\n",
    "#print(\"RMSE: %.2f\" % rmse)  "
   ]
  },
  {
   "cell_type": "code",
   "execution_count": 90,
   "metadata": {},
   "outputs": [],
   "source": [
    "#performance_dict['SGDR'] = [rmse, '16.4 s']\n",
    "#performance_dict"
   ]
  },
  {
   "cell_type": "markdown",
   "metadata": {},
   "source": [
    "Совсем неплохо, быстро и RMSE приемлемое."
   ]
  },
  {
   "cell_type": "markdown",
   "metadata": {},
   "source": [
    "Попробуем поиграть с регуляризацией. По умолчанию стоит регуляризация l2. Попробуем другие варианты."
   ]
  },
  {
   "cell_type": "code",
   "execution_count": 91,
   "metadata": {
    "scrolled": true
   },
   "outputs": [],
   "source": [
    "#%%time\n",
    "#reg = SGDRegressor(max_iter=1000, tol=1e-3,penalty='l1',random_state=12345)\n",
    "#reg.fit(x_train,y_train)"
   ]
  },
  {
   "cell_type": "code",
   "execution_count": 92,
   "metadata": {
    "scrolled": true
   },
   "outputs": [],
   "source": [
    "#y_pred = reg.predict(x_test)\n",
    "#mse = mean_squared_error(y_test, y_pred)\n",
    "#rmse = mse**(0.5)\n",
    "#print(\"MSE: %.2f\" % mse)\n",
    "#print(\"RMSE: %.2f\" % rmse)  "
   ]
  },
  {
   "cell_type": "code",
   "execution_count": 93,
   "metadata": {},
   "outputs": [],
   "source": [
    "#performance_dict['SGDR_l1'] = [rmse, '24.1 s']\n",
    "#performance_dict"
   ]
  },
  {
   "cell_type": "code",
   "execution_count": 94,
   "metadata": {},
   "outputs": [],
   "source": [
    "#%%time\n",
    "#reg = SGDRegressor(max_iter=1000, tol=1e-3,penalty='elasticnet',random_state=12345)\n",
    "#reg.fit(x_train,y_train)"
   ]
  },
  {
   "cell_type": "code",
   "execution_count": 95,
   "metadata": {},
   "outputs": [],
   "source": [
    "#y_pred = reg.predict(x_test)\n",
    "#mse = mean_squared_error(y_test, y_pred)\n",
    "#rmse = mse**(0.5)\n",
    "#print(\"MSE: %.2f\" % mse)\n",
    "#print(\"RMSE: %.2f\" % rmse) "
   ]
  },
  {
   "cell_type": "code",
   "execution_count": 96,
   "metadata": {},
   "outputs": [],
   "source": [
    "#performance_dict['SGDR_elasticnet'] = [rmse,'22 s']\n",
    "#performance_dict"
   ]
  },
  {
   "cell_type": "markdown",
   "metadata": {},
   "source": [
    "Попробуем разные регуляризации через GridSerchCV"
   ]
  },
  {
   "cell_type": "code",
   "execution_count": 97,
   "metadata": {},
   "outputs": [],
   "source": [
    "reg = SGDRegressor(random_state=12345,max_iter=1000,tol=1e-3)\n",
    "parameters = {'penalty':['l1','l2','elasticnet'],\n",
    "             'alpha':[0.0001, 0.1]}"
   ]
  },
  {
   "cell_type": "code",
   "execution_count": 98,
   "metadata": {},
   "outputs": [
    {
     "data": {
      "text/plain": [
       "GridSearchCV(cv=3, estimator=SGDRegressor(random_state=12345),\n",
       "             param_grid={'alpha': [0.0001, 0.1],\n",
       "                         'penalty': ['l1', 'l2', 'elasticnet']},\n",
       "             scoring='neg_mean_squared_error')"
      ]
     },
     "execution_count": 98,
     "metadata": {},
     "output_type": "execute_result"
    }
   ],
   "source": [
    "model = GridSearchCV(reg, parameters, scoring='neg_mean_squared_error', cv = 3)\n",
    "model.fit(x_train,y_train)"
   ]
  },
  {
   "cell_type": "code",
   "execution_count": 99,
   "metadata": {},
   "outputs": [
    {
     "data": {
      "text/plain": [
       "{'alpha': 0.0001, 'penalty': 'l1'}"
      ]
     },
     "execution_count": 99,
     "metadata": {},
     "output_type": "execute_result"
    }
   ],
   "source": [
    "model.best_params_"
   ]
  },
  {
   "cell_type": "code",
   "execution_count": 100,
   "metadata": {},
   "outputs": [
    {
     "data": {
      "text/plain": [
       "1934.2847507704057"
      ]
     },
     "execution_count": 100,
     "metadata": {},
     "output_type": "execute_result"
    }
   ],
   "source": [
    "(-model.best_score_)**0.5"
   ]
  },
  {
   "cell_type": "code",
   "execution_count": 101,
   "metadata": {
    "scrolled": false
   },
   "outputs": [
    {
     "name": "stdout",
     "output_type": "stream",
     "text": [
      "CPU times: user 21.3 s, sys: 124 ms, total: 21.4 s\n",
      "Wall time: 21.4 s\n"
     ]
    },
    {
     "data": {
      "text/plain": [
       "SGDRegressor(penalty='l1', random_state=12345)"
      ]
     },
     "execution_count": 101,
     "metadata": {},
     "output_type": "execute_result"
    }
   ],
   "source": [
    "%%time\n",
    "model = SGDRegressor(random_state=12345,max_iter=1000,tol=1e-3, penalty='l1',alpha=0.0001)\n",
    "model.fit(x_train,y_train)"
   ]
  },
  {
   "cell_type": "code",
   "execution_count": 102,
   "metadata": {},
   "outputs": [
    {
     "name": "stdout",
     "output_type": "stream",
     "text": [
      "CPU times: user 5.93 ms, sys: 14 µs, total: 5.94 ms\n",
      "Wall time: 4.78 ms\n"
     ]
    },
    {
     "data": {
      "text/plain": [
       "array([ 4311.00448337,  6860.98809113, 14191.19926801, ...,\n",
       "       10903.73531955,  2837.89875142,  5829.0137613 ])"
      ]
     },
     "execution_count": 102,
     "metadata": {},
     "output_type": "execute_result"
    }
   ],
   "source": [
    "%%time\n",
    "model.predict(x_train)"
   ]
  },
  {
   "cell_type": "code",
   "execution_count": 103,
   "metadata": {},
   "outputs": [
    {
     "data": {
      "text/plain": [
       "{'LGBM': [1860.05, '28.2 s', '1.39 s'],\n",
       " 'LGBM_50_10': [1758.67, '1 min 16 s', '1.06 s'],\n",
       " 'CatBoost_100_10': [1582.7, '11.4 s', '111 ms'],\n",
       " 'SGDR_l1': [1934.28, '22 s', '6.54 ms']}"
      ]
     },
     "execution_count": 103,
     "metadata": {},
     "output_type": "execute_result"
    }
   ],
   "source": [
    "performance_dict['SGDR_l1'] = [1934.28,'22 s','6.54 ms']\n",
    "performance_dict"
   ]
  },
  {
   "cell_type": "markdown",
   "metadata": {},
   "source": [
    "### Линейная регрессия"
   ]
  },
  {
   "cell_type": "code",
   "execution_count": 104,
   "metadata": {},
   "outputs": [
    {
     "name": "stdout",
     "output_type": "stream",
     "text": [
      "CPU times: user 22.1 s, sys: 32.4 s, total: 54.5 s\n",
      "Wall time: 54.9 s\n"
     ]
    },
    {
     "data": {
      "text/plain": [
       "LinearRegression()"
      ]
     },
     "execution_count": 104,
     "metadata": {},
     "output_type": "execute_result"
    }
   ],
   "source": [
    "%%time\n",
    "reg = LinearRegression()\n",
    "reg.fit(x_train, y_train)"
   ]
  },
  {
   "cell_type": "code",
   "execution_count": 105,
   "metadata": {
    "scrolled": false
   },
   "outputs": [
    {
     "name": "stdout",
     "output_type": "stream",
     "text": [
      "CPU times: user 7.03 ms, sys: 11.7 ms, total: 18.7 ms\n",
      "Wall time: 5.93 ms\n"
     ]
    }
   ],
   "source": [
    "%%time\n",
    "y_pred = reg.predict(x_train)\n",
    "#mse = mean_squared_error(y_test, y_pred)\n",
    "#rmse = mse**(0.5)\n",
    "#print(\"MSE: %.2f\" % mse)\n",
    "#print(\"RMSE: %.2f\" % rmse)  "
   ]
  },
  {
   "cell_type": "code",
   "execution_count": 106,
   "metadata": {},
   "outputs": [],
   "source": [
    "#performance_dict['LinearReg'] = [rmse, '1 min']\n",
    "#performance_dict"
   ]
  },
  {
   "cell_type": "markdown",
   "metadata": {},
   "source": [
    "RMSE почти такое же как у градиентного спуска, а обучается значительно дольше."
   ]
  },
  {
   "cell_type": "code",
   "execution_count": 107,
   "metadata": {},
   "outputs": [
    {
     "data": {
      "text/plain": [
       "1924.5192248305593"
      ]
     },
     "execution_count": 107,
     "metadata": {},
     "output_type": "execute_result"
    }
   ],
   "source": [
    "cvs = cross_val_score(reg, x_train_scaled, y_train, scoring='neg_mean_squared_error',cv=3)\n",
    "((-cvs)**0.5).mean()"
   ]
  },
  {
   "cell_type": "code",
   "execution_count": 108,
   "metadata": {
    "scrolled": true
   },
   "outputs": [
    {
     "data": {
      "text/plain": [
       "1924.5286163347607"
      ]
     },
     "execution_count": 108,
     "metadata": {},
     "output_type": "execute_result"
    }
   ],
   "source": [
    "cvs = cross_val_score(reg, x_train, y_train, scoring='neg_mean_squared_error',cv=3)\n",
    "((-cvs)**0.5).mean()"
   ]
  },
  {
   "cell_type": "code",
   "execution_count": 109,
   "metadata": {},
   "outputs": [],
   "source": [
    "performance_dict['LinearReg'] = [1942.69, '1 min','48.7 ms']"
   ]
  },
  {
   "cell_type": "code",
   "execution_count": 110,
   "metadata": {},
   "outputs": [],
   "source": [
    "#cvs = cross_val_score(reg, x_train_scaled_2, y_train_2, scoring='neg_mean_squared_error',cv=3)\n",
    "#((-cvs)**0.5).mean()"
   ]
  },
  {
   "cell_type": "markdown",
   "metadata": {},
   "source": [
    "### Случайный лес."
   ]
  },
  {
   "cell_type": "markdown",
   "metadata": {},
   "source": [
    "Попробуем случайный лес с такими же параметрами как и CatBoost."
   ]
  },
  {
   "cell_type": "markdown",
   "metadata": {},
   "source": [
    "Добавим подбор гиперпараметров в случайный лес.  "
   ]
  },
  {
   "cell_type": "code",
   "execution_count": 111,
   "metadata": {},
   "outputs": [
    {
     "data": {
      "text/plain": [
       "GridSearchCV(cv=2, estimator=RandomForestRegressor(random_state=12345),\n",
       "             param_grid={'max_depth': [5, 10], 'n_estimators': [50, 100]},\n",
       "             scoring='neg_mean_squared_error')"
      ]
     },
     "execution_count": 111,
     "metadata": {},
     "output_type": "execute_result"
    }
   ],
   "source": [
    "reg = RandomForestRegressor(random_state=12345)\n",
    "parameters = {'n_estimators':[50,100],\n",
    "                 'max_depth':[5,10]}\n",
    "model = GridSearchCV(reg, parameters, scoring='neg_mean_squared_error', cv = 2)\n",
    "model.fit(x_train,y_train)"
   ]
  },
  {
   "cell_type": "code",
   "execution_count": 112,
   "metadata": {},
   "outputs": [
    {
     "data": {
      "text/plain": [
       "{'max_depth': 10, 'n_estimators': 100}"
      ]
     },
     "execution_count": 112,
     "metadata": {},
     "output_type": "execute_result"
    }
   ],
   "source": [
    "model.best_params_"
   ]
  },
  {
   "cell_type": "code",
   "execution_count": 113,
   "metadata": {},
   "outputs": [
    {
     "data": {
      "text/plain": [
       "2693.2676176881287"
      ]
     },
     "execution_count": 113,
     "metadata": {},
     "output_type": "execute_result"
    }
   ],
   "source": [
    "(-model.best_score_)**0.5"
   ]
  },
  {
   "cell_type": "code",
   "execution_count": 114,
   "metadata": {
    "scrolled": false
   },
   "outputs": [
    {
     "name": "stdout",
     "output_type": "stream",
     "text": [
      "CPU times: user 2min 37s, sys: 0 ns, total: 2min 37s\n",
      "Wall time: 2min 37s\n"
     ]
    },
    {
     "data": {
      "text/plain": [
       "RandomForestRegressor(max_depth=10, random_state=12345)"
      ]
     },
     "execution_count": 114,
     "metadata": {},
     "output_type": "execute_result"
    }
   ],
   "source": [
    "%%time\n",
    "reg = RandomForestRegressor(n_estimators=100, max_depth=10, random_state=12345)\n",
    "reg.fit(x_train, y_train)"
   ]
  },
  {
   "cell_type": "markdown",
   "metadata": {},
   "source": [
    "Какой он долгий, и это ещё без кроссвалидации и подбора параметров."
   ]
  },
  {
   "cell_type": "code",
   "execution_count": 115,
   "metadata": {},
   "outputs": [
    {
     "name": "stdout",
     "output_type": "stream",
     "text": [
      "CPU times: user 1.1 s, sys: 0 ns, total: 1.1 s\n",
      "Wall time: 1.11 s\n"
     ]
    }
   ],
   "source": [
    "%%time\n",
    "y_pred = reg.predict(x_train)\n",
    "#mse = mean_squared_error(y_test, y_pred)\n",
    "#rmse = mse**(0.5)\n",
    "#print(\"MSE: %.2f\" % mse)\n",
    "#print(\"RMSE: %.2f\" % rmse)  "
   ]
  },
  {
   "cell_type": "code",
   "execution_count": 116,
   "metadata": {},
   "outputs": [
    {
     "data": {
      "text/plain": [
       "{'LGBM': [1860.05, '28.2 s', '1.39 s'],\n",
       " 'LGBM_50_10': [1758.67, '1 min 16 s', '1.06 s'],\n",
       " 'CatBoost_100_10': [1582.7, '11.4 s', '111 ms'],\n",
       " 'SGDR_l1': [1934.28, '22 s', '6.54 ms'],\n",
       " 'LinearReg': [1942.69, '1 min', '48.7 ms'],\n",
       " 'RandForestReg_100_10': [2693.27, '3 min 14 s', '1 s']}"
      ]
     },
     "execution_count": 116,
     "metadata": {},
     "output_type": "execute_result"
    }
   ],
   "source": [
    "performance_dict['RandForestReg_100_10'] = [2693.27, '3 min 14 s','1 s']\n",
    "performance_dict"
   ]
  },
  {
   "cell_type": "markdown",
   "metadata": {},
   "source": [
    "А RMSE не проходит, получилось больше, чем 2500."
   ]
  },
  {
   "cell_type": "markdown",
   "metadata": {},
   "source": [
    "## Анализ моделей"
   ]
  },
  {
   "cell_type": "code",
   "execution_count": 117,
   "metadata": {
    "scrolled": true
   },
   "outputs": [
    {
     "data": {
      "text/html": [
       "<div>\n",
       "<style scoped>\n",
       "    .dataframe tbody tr th:only-of-type {\n",
       "        vertical-align: middle;\n",
       "    }\n",
       "\n",
       "    .dataframe tbody tr th {\n",
       "        vertical-align: top;\n",
       "    }\n",
       "\n",
       "    .dataframe thead th {\n",
       "        text-align: right;\n",
       "    }\n",
       "</style>\n",
       "<table border=\"1\" class=\"dataframe\">\n",
       "  <thead>\n",
       "    <tr style=\"text-align: right;\">\n",
       "      <th></th>\n",
       "      <th>rmse</th>\n",
       "      <th>learning_time</th>\n",
       "      <th>prediciton_time</th>\n",
       "    </tr>\n",
       "  </thead>\n",
       "  <tbody>\n",
       "    <tr>\n",
       "      <th>CatBoost_100_10</th>\n",
       "      <td>1582.7</td>\n",
       "      <td>11.4 s</td>\n",
       "      <td>111 ms</td>\n",
       "    </tr>\n",
       "    <tr>\n",
       "      <th>LGBM_50_10</th>\n",
       "      <td>1758.67</td>\n",
       "      <td>1 min 16 s</td>\n",
       "      <td>1.06 s</td>\n",
       "    </tr>\n",
       "    <tr>\n",
       "      <th>LGBM</th>\n",
       "      <td>1860.05</td>\n",
       "      <td>28.2 s</td>\n",
       "      <td>1.39 s</td>\n",
       "    </tr>\n",
       "    <tr>\n",
       "      <th>SGDR_l1</th>\n",
       "      <td>1934.28</td>\n",
       "      <td>22 s</td>\n",
       "      <td>6.54 ms</td>\n",
       "    </tr>\n",
       "    <tr>\n",
       "      <th>LinearReg</th>\n",
       "      <td>1942.69</td>\n",
       "      <td>1 min</td>\n",
       "      <td>48.7 ms</td>\n",
       "    </tr>\n",
       "    <tr>\n",
       "      <th>RandForestReg_100_10</th>\n",
       "      <td>2693.27</td>\n",
       "      <td>3 min 14 s</td>\n",
       "      <td>1 s</td>\n",
       "    </tr>\n",
       "  </tbody>\n",
       "</table>\n",
       "</div>"
      ],
      "text/plain": [
       "                         rmse learning_time prediciton_time\n",
       "CatBoost_100_10        1582.7        11.4 s          111 ms\n",
       "LGBM_50_10            1758.67    1 min 16 s          1.06 s\n",
       "LGBM                  1860.05        28.2 s          1.39 s\n",
       "SGDR_l1               1934.28          22 s         6.54 ms\n",
       "LinearReg             1942.69         1 min         48.7 ms\n",
       "RandForestReg_100_10  2693.27    3 min 14 s             1 s"
      ]
     },
     "execution_count": 117,
     "metadata": {},
     "output_type": "execute_result"
    }
   ],
   "source": [
    "pd.DataFrame(performance_dict,index=['rmse','learning_time','prediciton_time']).T.sort_values(by=['rmse'])"
   ]
  },
  {
   "cell_type": "markdown",
   "metadata": {},
   "source": [
    "### Вывод.\n",
    "- В ходе предварительной обработки было выявленно и отброшено много невалидных данных. Например 1000 год регистрации или год реистрации после даты выгрузки. Аномальные значения мощьности и т.д. Так же были удалены колонки с количеством фотографий, потому что там были нули, почтовый индекс, потому что он не позволяет однозначно определить место продажи, дата выгрузки и дата активности, потому и что она не влияет на стоимость автомобилей.\n",
    "- Самый лучшей результат показал CatBoost, у него самая низкая RMSE и достаточно быстрое время работы. На втором месте LightGBM, он и хуже считает, и работает медленне, и не работает с категориальными строковыми переменными.\n",
    "- Хорошо работает линейная регрессия, но она достаточно медленная, а стохастический градиентный спуск работает примерно так же, но в разы быстрее.\n",
    "- Случайный лес показал самые плохие результаты, RMSE оказалось больше порогового значения и работает он дольше всех.\n",
    "\n"
   ]
  },
  {
   "cell_type": "markdown",
   "metadata": {},
   "source": [
    "Берем CatBoost. Он быстрый и точный. Проверим его на тестовой выборке."
   ]
  },
  {
   "cell_type": "code",
   "execution_count": 118,
   "metadata": {},
   "outputs": [
    {
     "name": "stdout",
     "output_type": "stream",
     "text": [
      "MSE: 2552583.45\n",
      "RMSE: 1597.68\n"
     ]
    }
   ],
   "source": [
    "y_pred = cb_model.predict(test_pool)\n",
    "mse = mean_squared_error(y_test_cb, y_pred)\n",
    "rmse = mse**(0.5)\n",
    "print(\"MSE: %.2f\" % mse)\n",
    "print(\"RMSE: %.2f\" % rmse)  "
   ]
  }
 ],
 "metadata": {
  "ExecuteTimeLog": [
   {
    "duration": 445,
    "start_time": "2022-09-19T13:27:39.167Z"
   },
   {
    "duration": 1882,
    "start_time": "2022-09-19T13:29:03.878Z"
   },
   {
    "duration": 167,
    "start_time": "2022-09-19T13:30:56.671Z"
   },
   {
    "duration": 1036,
    "start_time": "2022-09-19T13:35:20.223Z"
   },
   {
    "duration": 112347,
    "start_time": "2022-09-19T13:35:43.009Z"
   },
   {
    "duration": 5,
    "start_time": "2022-09-19T13:52:23.015Z"
   },
   {
    "duration": 4,
    "start_time": "2022-09-19T13:52:29.843Z"
   },
   {
    "duration": 4,
    "start_time": "2022-09-19T13:52:54.206Z"
   },
   {
    "duration": 4,
    "start_time": "2022-09-19T13:53:06.478Z"
   },
   {
    "duration": 5,
    "start_time": "2022-09-19T13:53:49.981Z"
   },
   {
    "duration": 106,
    "start_time": "2022-09-19T13:58:58.533Z"
   },
   {
    "duration": 10,
    "start_time": "2022-09-19T13:59:18.885Z"
   },
   {
    "duration": 6,
    "start_time": "2022-09-19T13:59:34.629Z"
   },
   {
    "duration": 92,
    "start_time": "2022-09-19T13:59:52.869Z"
   },
   {
    "duration": 8,
    "start_time": "2022-09-19T14:00:03.245Z"
   },
   {
    "duration": 3,
    "start_time": "2022-09-19T14:01:45.517Z"
   },
   {
    "duration": 5,
    "start_time": "2022-09-19T14:05:59.749Z"
   },
   {
    "duration": 71,
    "start_time": "2022-09-19T14:11:04.502Z"
   },
   {
    "duration": 56,
    "start_time": "2022-09-19T14:11:14.366Z"
   },
   {
    "duration": 135,
    "start_time": "2022-09-19T14:11:23.027Z"
   },
   {
    "duration": 6,
    "start_time": "2022-09-19T14:23:24.981Z"
   },
   {
    "duration": 96,
    "start_time": "2022-09-19T14:24:28.452Z"
   },
   {
    "duration": 6,
    "start_time": "2022-09-19T14:24:29.564Z"
   },
   {
    "duration": 1349,
    "start_time": "2022-09-19T14:24:50.711Z"
   },
   {
    "duration": 1480,
    "start_time": "2022-09-19T14:24:52.062Z"
   },
   {
    "duration": 65,
    "start_time": "2022-09-19T14:24:53.543Z"
   },
   {
    "duration": 151,
    "start_time": "2022-09-19T14:24:53.610Z"
   },
   {
    "duration": 115,
    "start_time": "2022-09-19T14:24:53.763Z"
   },
   {
    "duration": 6,
    "start_time": "2022-09-19T14:24:53.879Z"
   },
   {
    "duration": 1182,
    "start_time": "2022-09-19T14:25:10.495Z"
   },
   {
    "duration": 1502,
    "start_time": "2022-09-19T14:25:11.679Z"
   },
   {
    "duration": 58,
    "start_time": "2022-09-19T14:25:13.183Z"
   },
   {
    "duration": 146,
    "start_time": "2022-09-19T14:25:13.242Z"
   },
   {
    "duration": 5,
    "start_time": "2022-09-19T14:25:13.397Z"
   },
   {
    "duration": 109,
    "start_time": "2022-09-19T14:25:13.404Z"
   },
   {
    "duration": 5,
    "start_time": "2022-09-19T14:25:13.515Z"
   },
   {
    "duration": 99,
    "start_time": "2022-09-19T14:27:47.118Z"
   },
   {
    "duration": 1462,
    "start_time": "2022-09-19T14:27:58.037Z"
   },
   {
    "duration": 1164,
    "start_time": "2022-09-19T14:28:31.910Z"
   },
   {
    "duration": 1597,
    "start_time": "2022-09-19T14:28:33.077Z"
   },
   {
    "duration": 67,
    "start_time": "2022-09-19T14:28:34.676Z"
   },
   {
    "duration": 157,
    "start_time": "2022-09-19T14:28:34.744Z"
   },
   {
    "duration": 1379,
    "start_time": "2022-09-19T14:28:34.907Z"
   },
   {
    "duration": 0,
    "start_time": "2022-09-19T14:28:36.288Z"
   },
   {
    "duration": 281,
    "start_time": "2022-09-19T14:28:47.020Z"
   },
   {
    "duration": 301,
    "start_time": "2022-09-19T14:30:45.460Z"
   },
   {
    "duration": 1276,
    "start_time": "2022-09-19T14:31:35.819Z"
   },
   {
    "duration": 1920,
    "start_time": "2022-09-19T14:31:37.097Z"
   },
   {
    "duration": 58,
    "start_time": "2022-09-19T14:31:39.019Z"
   },
   {
    "duration": 513,
    "start_time": "2022-09-19T14:31:39.079Z"
   },
   {
    "duration": 135,
    "start_time": "2022-09-19T14:31:39.594Z"
   },
   {
    "duration": 300,
    "start_time": "2022-09-19T14:31:39.731Z"
   },
   {
    "duration": 332,
    "start_time": "2022-09-19T14:32:40.349Z"
   },
   {
    "duration": 286,
    "start_time": "2022-09-19T14:32:47.543Z"
   },
   {
    "duration": 1263,
    "start_time": "2022-09-19T14:33:29.604Z"
   },
   {
    "duration": 1555,
    "start_time": "2022-09-19T14:33:30.869Z"
   },
   {
    "duration": 58,
    "start_time": "2022-09-19T14:33:32.426Z"
   },
   {
    "duration": 565,
    "start_time": "2022-09-19T14:33:32.486Z"
   },
   {
    "duration": 552,
    "start_time": "2022-09-19T14:33:33.054Z"
   },
   {
    "duration": 492,
    "start_time": "2022-09-19T14:33:33.608Z"
   },
   {
    "duration": 140,
    "start_time": "2022-09-19T14:33:34.101Z"
   },
   {
    "duration": 2,
    "start_time": "2022-09-19T14:33:34.243Z"
   },
   {
    "duration": 104,
    "start_time": "2022-09-19T14:34:40.620Z"
   },
   {
    "duration": 105,
    "start_time": "2022-09-19T14:37:15.254Z"
   },
   {
    "duration": 10,
    "start_time": "2022-09-19T14:37:20.565Z"
   },
   {
    "duration": 9,
    "start_time": "2022-09-19T14:37:29.597Z"
   },
   {
    "duration": 8,
    "start_time": "2022-09-19T14:37:38.868Z"
   },
   {
    "duration": 5,
    "start_time": "2022-09-19T14:44:38.883Z"
   },
   {
    "duration": 11,
    "start_time": "2022-09-19T14:45:02.013Z"
   },
   {
    "duration": 47,
    "start_time": "2022-09-19T14:46:23.399Z"
   },
   {
    "duration": 47,
    "start_time": "2022-09-19T19:08:16.533Z"
   },
   {
    "duration": 1272,
    "start_time": "2022-09-19T19:08:23.346Z"
   },
   {
    "duration": 2137,
    "start_time": "2022-09-19T19:08:24.620Z"
   },
   {
    "duration": 47,
    "start_time": "2022-09-19T19:08:26.760Z"
   },
   {
    "duration": 423,
    "start_time": "2022-09-19T19:08:26.809Z"
   },
   {
    "duration": 468,
    "start_time": "2022-09-19T19:08:27.237Z"
   },
   {
    "duration": 448,
    "start_time": "2022-09-19T19:08:27.707Z"
   },
   {
    "duration": 104,
    "start_time": "2022-09-19T19:08:28.157Z"
   },
   {
    "duration": 83,
    "start_time": "2022-09-19T19:08:28.263Z"
   },
   {
    "duration": 10,
    "start_time": "2022-09-19T19:08:28.347Z"
   },
   {
    "duration": 39,
    "start_time": "2022-09-19T19:08:28.358Z"
   },
   {
    "duration": 10,
    "start_time": "2022-09-19T19:08:28.398Z"
   },
   {
    "duration": 5,
    "start_time": "2022-09-19T19:08:28.423Z"
   },
   {
    "duration": 27,
    "start_time": "2022-09-19T19:08:28.429Z"
   },
   {
    "duration": 45,
    "start_time": "2022-09-19T19:18:41.871Z"
   },
   {
    "duration": 195,
    "start_time": "2022-09-19T19:20:26.939Z"
   },
   {
    "duration": 116,
    "start_time": "2022-09-19T19:29:16.763Z"
   },
   {
    "duration": 55,
    "start_time": "2022-09-19T19:29:24.806Z"
   },
   {
    "duration": 67,
    "start_time": "2022-09-19T19:29:50.666Z"
   },
   {
    "duration": 7,
    "start_time": "2022-09-19T19:30:15.962Z"
   },
   {
    "duration": 36,
    "start_time": "2022-09-19T19:33:59.372Z"
   },
   {
    "duration": 4,
    "start_time": "2022-09-19T19:34:00.446Z"
   },
   {
    "duration": 64,
    "start_time": "2022-09-19T19:38:34.036Z"
   },
   {
    "duration": 7,
    "start_time": "2022-09-19T19:40:04.496Z"
   },
   {
    "duration": 26,
    "start_time": "2022-09-19T19:46:10.270Z"
   },
   {
    "duration": 94,
    "start_time": "2022-09-19T19:47:20.216Z"
   },
   {
    "duration": 10,
    "start_time": "2022-09-19T19:47:26.969Z"
   },
   {
    "duration": 13,
    "start_time": "2022-09-19T19:47:46.519Z"
   },
   {
    "duration": 23,
    "start_time": "2022-09-19T19:47:53.560Z"
   },
   {
    "duration": 253,
    "start_time": "2022-09-19T19:48:35.919Z"
   },
   {
    "duration": 19,
    "start_time": "2022-09-19T19:51:06.046Z"
   },
   {
    "duration": 1123,
    "start_time": "2022-09-19T19:51:14.346Z"
   },
   {
    "duration": 1772,
    "start_time": "2022-09-19T19:51:15.471Z"
   },
   {
    "duration": 53,
    "start_time": "2022-09-19T19:51:17.244Z"
   },
   {
    "duration": 446,
    "start_time": "2022-09-19T19:51:17.298Z"
   },
   {
    "duration": 489,
    "start_time": "2022-09-19T19:51:17.747Z"
   },
   {
    "duration": 377,
    "start_time": "2022-09-19T19:51:18.237Z"
   },
   {
    "duration": 113,
    "start_time": "2022-09-19T19:51:18.616Z"
   },
   {
    "duration": 83,
    "start_time": "2022-09-19T19:51:18.731Z"
   },
   {
    "duration": 16,
    "start_time": "2022-09-19T19:51:18.821Z"
   },
   {
    "duration": 44,
    "start_time": "2022-09-19T19:51:18.839Z"
   },
   {
    "duration": 55,
    "start_time": "2022-09-19T19:51:18.885Z"
   },
   {
    "duration": 205,
    "start_time": "2022-09-19T19:51:18.942Z"
   },
   {
    "duration": 82,
    "start_time": "2022-09-19T19:51:19.148Z"
   },
   {
    "duration": 7,
    "start_time": "2022-09-19T19:51:19.234Z"
   },
   {
    "duration": 36,
    "start_time": "2022-09-19T19:51:19.243Z"
   },
   {
    "duration": 4,
    "start_time": "2022-09-19T19:51:19.280Z"
   },
   {
    "duration": 78,
    "start_time": "2022-09-19T19:51:19.285Z"
   },
   {
    "duration": 9,
    "start_time": "2022-09-19T19:51:19.364Z"
   },
   {
    "duration": 116,
    "start_time": "2022-09-19T19:51:19.375Z"
   },
   {
    "duration": 0,
    "start_time": "2022-09-19T19:51:19.492Z"
   },
   {
    "duration": 202,
    "start_time": "2022-09-19T19:51:33.738Z"
   },
   {
    "duration": 4,
    "start_time": "2022-09-19T19:57:07.256Z"
   },
   {
    "duration": 489,
    "start_time": "2022-09-19T19:58:54.531Z"
   },
   {
    "duration": 468,
    "start_time": "2022-09-19T20:00:00.074Z"
   },
   {
    "duration": 785,
    "start_time": "2022-09-19T20:04:04.696Z"
   },
   {
    "duration": 526,
    "start_time": "2022-09-19T20:07:18.673Z"
   },
   {
    "duration": 198,
    "start_time": "2022-09-19T20:08:37.279Z"
   },
   {
    "duration": 481,
    "start_time": "2022-09-19T20:08:55.205Z"
   },
   {
    "duration": 480,
    "start_time": "2022-09-19T20:09:52.740Z"
   },
   {
    "duration": 65,
    "start_time": "2022-09-19T20:14:07.386Z"
   },
   {
    "duration": 7,
    "start_time": "2022-09-19T20:14:28.789Z"
   },
   {
    "duration": 374,
    "start_time": "2022-09-19T20:18:01.342Z"
   },
   {
    "duration": 550,
    "start_time": "2022-09-19T20:18:23.885Z"
   },
   {
    "duration": 49,
    "start_time": "2022-09-19T20:19:21.956Z"
   },
   {
    "duration": 34,
    "start_time": "2022-09-19T20:21:05.979Z"
   },
   {
    "duration": 12,
    "start_time": "2022-09-19T20:21:17.585Z"
   },
   {
    "duration": 52,
    "start_time": "2022-09-20T07:13:24.567Z"
   },
   {
    "duration": 1457,
    "start_time": "2022-09-20T07:13:30.482Z"
   },
   {
    "duration": 1505,
    "start_time": "2022-09-20T07:13:31.942Z"
   },
   {
    "duration": 54,
    "start_time": "2022-09-20T07:13:33.449Z"
   },
   {
    "duration": 481,
    "start_time": "2022-09-20T07:13:33.505Z"
   },
   {
    "duration": 519,
    "start_time": "2022-09-20T07:13:33.989Z"
   },
   {
    "duration": 447,
    "start_time": "2022-09-20T07:13:34.510Z"
   },
   {
    "duration": 108,
    "start_time": "2022-09-20T07:13:34.958Z"
   },
   {
    "duration": 109,
    "start_time": "2022-09-20T07:13:35.077Z"
   },
   {
    "duration": 9,
    "start_time": "2022-09-20T07:13:35.189Z"
   },
   {
    "duration": 61,
    "start_time": "2022-09-20T07:13:35.200Z"
   },
   {
    "duration": 55,
    "start_time": "2022-09-20T07:13:35.263Z"
   },
   {
    "duration": 231,
    "start_time": "2022-09-20T07:13:35.320Z"
   },
   {
    "duration": 64,
    "start_time": "2022-09-20T07:13:35.554Z"
   },
   {
    "duration": 7,
    "start_time": "2022-09-20T07:13:35.621Z"
   },
   {
    "duration": 54,
    "start_time": "2022-09-20T07:13:35.629Z"
   },
   {
    "duration": 62,
    "start_time": "2022-09-20T07:13:35.685Z"
   },
   {
    "duration": 7,
    "start_time": "2022-09-20T07:13:35.749Z"
   },
   {
    "duration": 89,
    "start_time": "2022-09-20T07:13:35.757Z"
   },
   {
    "duration": 7,
    "start_time": "2022-09-20T07:13:35.848Z"
   },
   {
    "duration": 47,
    "start_time": "2022-09-20T07:13:35.857Z"
   },
   {
    "duration": 17,
    "start_time": "2022-09-20T07:13:35.906Z"
   },
   {
    "duration": 13,
    "start_time": "2022-09-20T07:13:35.925Z"
   },
   {
    "duration": 603,
    "start_time": "2022-09-20T07:13:35.939Z"
   },
   {
    "duration": 891,
    "start_time": "2022-09-20T07:13:36.544Z"
   },
   {
    "duration": 204,
    "start_time": "2022-09-20T07:13:37.438Z"
   },
   {
    "duration": 1196,
    "start_time": "2022-09-20T07:21:32.858Z"
   },
   {
    "duration": 898,
    "start_time": "2022-09-20T07:21:42.761Z"
   },
   {
    "duration": 1151,
    "start_time": "2022-09-20T07:21:52.066Z"
   },
   {
    "duration": 1557,
    "start_time": "2022-09-20T07:21:53.219Z"
   },
   {
    "duration": 49,
    "start_time": "2022-09-20T07:21:54.777Z"
   },
   {
    "duration": 457,
    "start_time": "2022-09-20T07:21:54.828Z"
   },
   {
    "duration": 526,
    "start_time": "2022-09-20T07:21:55.288Z"
   },
   {
    "duration": 409,
    "start_time": "2022-09-20T07:21:55.815Z"
   },
   {
    "duration": 110,
    "start_time": "2022-09-20T07:21:56.226Z"
   },
   {
    "duration": 98,
    "start_time": "2022-09-20T07:21:56.338Z"
   },
   {
    "duration": 7,
    "start_time": "2022-09-20T07:21:56.437Z"
   },
   {
    "duration": 56,
    "start_time": "2022-09-20T07:21:56.446Z"
   },
   {
    "duration": 45,
    "start_time": "2022-09-20T07:21:56.504Z"
   },
   {
    "duration": 288,
    "start_time": "2022-09-20T07:21:56.551Z"
   },
   {
    "duration": 78,
    "start_time": "2022-09-20T07:21:56.840Z"
   },
   {
    "duration": 7,
    "start_time": "2022-09-20T07:21:56.922Z"
   },
   {
    "duration": 53,
    "start_time": "2022-09-20T07:21:56.931Z"
   },
   {
    "duration": 70,
    "start_time": "2022-09-20T07:21:56.986Z"
   },
   {
    "duration": 22,
    "start_time": "2022-09-20T07:21:57.058Z"
   },
   {
    "duration": 69,
    "start_time": "2022-09-20T07:21:57.082Z"
   },
   {
    "duration": 24,
    "start_time": "2022-09-20T07:21:57.153Z"
   },
   {
    "duration": 35,
    "start_time": "2022-09-20T07:21:57.178Z"
   },
   {
    "duration": 15,
    "start_time": "2022-09-20T07:21:57.215Z"
   },
   {
    "duration": 4,
    "start_time": "2022-09-20T07:21:57.231Z"
   },
   {
    "duration": 585,
    "start_time": "2022-09-20T07:21:57.237Z"
   },
   {
    "duration": 836,
    "start_time": "2022-09-20T07:21:57.824Z"
   },
   {
    "duration": 212,
    "start_time": "2022-09-20T07:21:58.662Z"
   },
   {
    "duration": 28760,
    "start_time": "2022-09-20T07:28:44.176Z"
   },
   {
    "duration": 15,
    "start_time": "2022-09-20T07:30:32.984Z"
   },
   {
    "duration": 12,
    "start_time": "2022-09-20T07:32:14.234Z"
   },
   {
    "duration": 16,
    "start_time": "2022-09-20T07:32:36.237Z"
   },
   {
    "duration": 97,
    "start_time": "2022-09-20T07:36:17.537Z"
   },
   {
    "duration": 22867,
    "start_time": "2022-09-20T07:36:23.192Z"
   },
   {
    "duration": 3,
    "start_time": "2022-09-20T07:37:37.767Z"
   },
   {
    "duration": 233,
    "start_time": "2022-09-20T07:37:44.873Z"
   },
   {
    "duration": 306,
    "start_time": "2022-09-20T07:43:31.040Z"
   },
   {
    "duration": 11,
    "start_time": "2022-09-20T07:44:13.337Z"
   },
   {
    "duration": 359,
    "start_time": "2022-09-20T07:44:19.977Z"
   },
   {
    "duration": 172,
    "start_time": "2022-09-20T07:44:40.136Z"
   },
   {
    "duration": 2317,
    "start_time": "2022-09-20T07:45:07.377Z"
   },
   {
    "duration": 16956,
    "start_time": "2022-09-20T07:45:58.608Z"
   },
   {
    "duration": 115,
    "start_time": "2022-09-20T07:47:28.298Z"
   },
   {
    "duration": 18148,
    "start_time": "2022-09-20T07:48:03.792Z"
   },
   {
    "duration": 18382,
    "start_time": "2022-09-20T07:48:53.744Z"
   },
   {
    "duration": 59992,
    "start_time": "2022-09-20T07:49:36.240Z"
   },
   {
    "duration": 385,
    "start_time": "2022-09-20T07:53:19.720Z"
   },
   {
    "duration": 169,
    "start_time": "2022-09-20T07:54:45.688Z"
   },
   {
    "duration": 166,
    "start_time": "2022-09-20T07:55:11.248Z"
   },
   {
    "duration": 12,
    "start_time": "2022-09-20T07:56:38.633Z"
   },
   {
    "duration": 16,
    "start_time": "2022-09-20T07:58:14.033Z"
   },
   {
    "duration": 16,
    "start_time": "2022-09-20T07:58:58.432Z"
   },
   {
    "duration": 13,
    "start_time": "2022-09-20T07:59:13.449Z"
   },
   {
    "duration": 12,
    "start_time": "2022-09-20T07:59:47.192Z"
   },
   {
    "duration": 13,
    "start_time": "2022-09-20T08:00:07.800Z"
   },
   {
    "duration": 14,
    "start_time": "2022-09-20T08:15:41.744Z"
   },
   {
    "duration": 1643,
    "start_time": "2022-09-20T08:21:44.657Z"
   },
   {
    "duration": 40,
    "start_time": "2022-09-20T08:22:09.369Z"
   },
   {
    "duration": 80,
    "start_time": "2022-09-20T08:22:49.536Z"
   },
   {
    "duration": 88,
    "start_time": "2022-09-20T08:23:16.521Z"
   },
   {
    "duration": 14,
    "start_time": "2022-09-20T08:24:24.719Z"
   },
   {
    "duration": 16,
    "start_time": "2022-09-20T08:24:29.153Z"
   },
   {
    "duration": 137,
    "start_time": "2022-09-20T08:26:26.657Z"
   },
   {
    "duration": 77,
    "start_time": "2022-09-20T08:27:36.881Z"
   },
   {
    "duration": 36,
    "start_time": "2022-09-20T08:29:09.311Z"
   },
   {
    "duration": 31,
    "start_time": "2022-09-20T08:33:20.521Z"
   },
   {
    "duration": 19,
    "start_time": "2022-09-20T08:38:45.455Z"
   },
   {
    "duration": 29,
    "start_time": "2022-09-20T08:39:00.000Z"
   },
   {
    "duration": 29,
    "start_time": "2022-09-20T08:40:34.736Z"
   },
   {
    "duration": 361,
    "start_time": "2022-09-20T08:46:40.456Z"
   },
   {
    "duration": 2043,
    "start_time": "2022-09-20T08:46:55.047Z"
   },
   {
    "duration": 1973,
    "start_time": "2022-09-20T08:47:17.542Z"
   },
   {
    "duration": 401,
    "start_time": "2022-09-20T08:47:44.496Z"
   },
   {
    "duration": 2597,
    "start_time": "2022-09-20T08:48:46.448Z"
   },
   {
    "duration": 1816,
    "start_time": "2022-09-20T09:35:50.261Z"
   },
   {
    "duration": 16,
    "start_time": "2022-09-20T09:36:20.436Z"
   },
   {
    "duration": 31,
    "start_time": "2022-09-20T09:37:59.801Z"
   },
   {
    "duration": 23,
    "start_time": "2022-09-20T09:38:35.821Z"
   },
   {
    "duration": 29,
    "start_time": "2022-09-20T09:45:40.868Z"
   },
   {
    "duration": 49,
    "start_time": "2022-09-20T09:46:17.981Z"
   },
   {
    "duration": 10,
    "start_time": "2022-09-20T09:47:07.415Z"
   },
   {
    "duration": 23,
    "start_time": "2022-09-20T09:47:13.260Z"
   },
   {
    "duration": 28,
    "start_time": "2022-09-20T09:53:40.725Z"
   },
   {
    "duration": 28,
    "start_time": "2022-09-20T10:00:13.645Z"
   },
   {
    "duration": 9,
    "start_time": "2022-09-20T10:12:24.492Z"
   },
   {
    "duration": 29,
    "start_time": "2022-09-20T10:12:33.581Z"
   },
   {
    "duration": 1940,
    "start_time": "2022-09-20T10:15:21.980Z"
   },
   {
    "duration": 2307,
    "start_time": "2022-09-20T10:15:42.916Z"
   },
   {
    "duration": 10,
    "start_time": "2022-09-20T10:27:18.580Z"
   },
   {
    "duration": 5,
    "start_time": "2022-09-20T10:27:35.644Z"
   },
   {
    "duration": 15,
    "start_time": "2022-09-20T10:28:18.209Z"
   },
   {
    "duration": 19,
    "start_time": "2022-09-20T10:28:34.932Z"
   },
   {
    "duration": 26,
    "start_time": "2022-09-20T10:29:08.556Z"
   },
   {
    "duration": 29,
    "start_time": "2022-09-20T10:29:29.788Z"
   },
   {
    "duration": 38,
    "start_time": "2022-09-20T10:31:21.034Z"
   },
   {
    "duration": 52,
    "start_time": "2022-09-20T10:34:03.213Z"
   },
   {
    "duration": 6,
    "start_time": "2022-09-20T10:37:47.299Z"
   },
   {
    "duration": 10,
    "start_time": "2022-09-20T10:40:32.084Z"
   },
   {
    "duration": 6,
    "start_time": "2022-09-20T10:40:43.563Z"
   },
   {
    "duration": 2041,
    "start_time": "2022-09-20T10:48:12.833Z"
   },
   {
    "duration": 1931,
    "start_time": "2022-09-20T10:48:29.386Z"
   },
   {
    "duration": 1635,
    "start_time": "2022-09-20T10:50:04.891Z"
   },
   {
    "duration": 179,
    "start_time": "2022-09-20T10:51:01.465Z"
   },
   {
    "duration": 174,
    "start_time": "2022-09-20T10:51:27.218Z"
   },
   {
    "duration": 170,
    "start_time": "2022-09-20T10:51:42.874Z"
   },
   {
    "duration": 184,
    "start_time": "2022-09-20T10:51:51.324Z"
   },
   {
    "duration": 1684,
    "start_time": "2022-09-20T10:52:29.058Z"
   },
   {
    "duration": 168,
    "start_time": "2022-09-20T10:53:04.322Z"
   },
   {
    "duration": 1902,
    "start_time": "2022-09-20T10:54:26.619Z"
   },
   {
    "duration": 1639,
    "start_time": "2022-09-20T10:55:15.777Z"
   },
   {
    "duration": 1714,
    "start_time": "2022-09-20T10:55:47.827Z"
   },
   {
    "duration": 2055,
    "start_time": "2022-09-20T10:55:58.362Z"
   },
   {
    "duration": 1532,
    "start_time": "2022-09-20T10:56:19.249Z"
   },
   {
    "duration": 47,
    "start_time": "2022-09-20T11:44:57.657Z"
   },
   {
    "duration": 1263,
    "start_time": "2022-09-20T11:45:08.309Z"
   },
   {
    "duration": 1718,
    "start_time": "2022-09-20T11:45:09.574Z"
   },
   {
    "duration": 68,
    "start_time": "2022-09-20T11:45:11.295Z"
   },
   {
    "duration": 553,
    "start_time": "2022-09-20T11:45:11.365Z"
   },
   {
    "duration": 589,
    "start_time": "2022-09-20T11:45:11.921Z"
   },
   {
    "duration": 506,
    "start_time": "2022-09-20T11:45:12.512Z"
   },
   {
    "duration": 127,
    "start_time": "2022-09-20T11:45:13.020Z"
   },
   {
    "duration": 114,
    "start_time": "2022-09-20T11:45:13.148Z"
   },
   {
    "duration": 19,
    "start_time": "2022-09-20T11:45:13.264Z"
   },
   {
    "duration": 55,
    "start_time": "2022-09-20T11:45:13.286Z"
   },
   {
    "duration": 55,
    "start_time": "2022-09-20T11:45:13.342Z"
   },
   {
    "duration": 230,
    "start_time": "2022-09-20T11:45:13.399Z"
   },
   {
    "duration": 74,
    "start_time": "2022-09-20T11:45:13.631Z"
   },
   {
    "duration": 8,
    "start_time": "2022-09-20T11:45:13.707Z"
   },
   {
    "duration": 75,
    "start_time": "2022-09-20T11:45:13.717Z"
   },
   {
    "duration": 65,
    "start_time": "2022-09-20T11:45:13.793Z"
   },
   {
    "duration": 7,
    "start_time": "2022-09-20T11:45:13.859Z"
   },
   {
    "duration": 92,
    "start_time": "2022-09-20T11:45:13.867Z"
   },
   {
    "duration": 7,
    "start_time": "2022-09-20T11:45:13.960Z"
   },
   {
    "duration": 70,
    "start_time": "2022-09-20T11:45:13.969Z"
   },
   {
    "duration": 17,
    "start_time": "2022-09-20T11:45:14.041Z"
   },
   {
    "duration": 21,
    "start_time": "2022-09-20T11:45:14.060Z"
   },
   {
    "duration": 114,
    "start_time": "2022-09-20T11:45:14.087Z"
   },
   {
    "duration": 1698,
    "start_time": "2022-09-20T11:45:14.202Z"
   },
   {
    "duration": 41,
    "start_time": "2022-09-20T11:45:15.901Z"
   },
   {
    "duration": 91,
    "start_time": "2022-09-20T11:45:15.945Z"
   },
   {
    "duration": 66,
    "start_time": "2022-09-20T11:45:16.038Z"
   },
   {
    "duration": 23,
    "start_time": "2022-09-20T11:45:16.109Z"
   },
   {
    "duration": 41,
    "start_time": "2022-09-20T11:45:16.134Z"
   },
   {
    "duration": 32,
    "start_time": "2022-09-20T11:45:16.180Z"
   },
   {
    "duration": 19,
    "start_time": "2022-09-20T11:45:16.214Z"
   },
   {
    "duration": 36,
    "start_time": "2022-09-20T11:45:16.234Z"
   },
   {
    "duration": 41,
    "start_time": "2022-09-20T11:45:16.273Z"
   },
   {
    "duration": 33,
    "start_time": "2022-09-20T11:45:16.315Z"
   },
   {
    "duration": 15,
    "start_time": "2022-09-20T11:45:16.349Z"
   },
   {
    "duration": 18,
    "start_time": "2022-09-20T11:45:16.366Z"
   },
   {
    "duration": 15,
    "start_time": "2022-09-20T11:45:16.393Z"
   },
   {
    "duration": 4,
    "start_time": "2022-09-20T11:45:16.410Z"
   },
   {
    "duration": 604,
    "start_time": "2022-09-20T11:45:16.415Z"
   },
   {
    "duration": 847,
    "start_time": "2022-09-20T11:45:17.022Z"
   },
   {
    "duration": 197,
    "start_time": "2022-09-20T11:45:17.871Z"
   },
   {
    "duration": 49,
    "start_time": "2022-09-20T11:47:00.004Z"
   },
   {
    "duration": 63,
    "start_time": "2022-09-20T11:47:03.305Z"
   },
   {
    "duration": 1205,
    "start_time": "2022-09-20T11:47:20.427Z"
   },
   {
    "duration": 2603,
    "start_time": "2022-09-20T11:47:21.634Z"
   },
   {
    "duration": 73,
    "start_time": "2022-09-20T11:47:24.239Z"
   },
   {
    "duration": 510,
    "start_time": "2022-09-20T11:47:24.321Z"
   },
   {
    "duration": 670,
    "start_time": "2022-09-20T11:47:24.833Z"
   },
   {
    "duration": 522,
    "start_time": "2022-09-20T11:47:25.508Z"
   },
   {
    "duration": 152,
    "start_time": "2022-09-20T11:47:26.032Z"
   },
   {
    "duration": 110,
    "start_time": "2022-09-20T11:47:26.185Z"
   },
   {
    "duration": 10,
    "start_time": "2022-09-20T11:47:26.296Z"
   },
   {
    "duration": 75,
    "start_time": "2022-09-20T11:47:26.309Z"
   },
   {
    "duration": 52,
    "start_time": "2022-09-20T11:47:26.385Z"
   },
   {
    "duration": 293,
    "start_time": "2022-09-20T11:47:26.438Z"
   },
   {
    "duration": 79,
    "start_time": "2022-09-20T11:47:26.732Z"
   },
   {
    "duration": 22,
    "start_time": "2022-09-20T11:47:26.813Z"
   },
   {
    "duration": 47,
    "start_time": "2022-09-20T11:47:26.845Z"
   },
   {
    "duration": 82,
    "start_time": "2022-09-20T11:47:26.893Z"
   },
   {
    "duration": 10,
    "start_time": "2022-09-20T11:47:26.976Z"
   },
   {
    "duration": 115,
    "start_time": "2022-09-20T11:47:26.988Z"
   },
   {
    "duration": 8,
    "start_time": "2022-09-20T11:47:27.105Z"
   },
   {
    "duration": 48,
    "start_time": "2022-09-20T11:47:27.115Z"
   },
   {
    "duration": 32,
    "start_time": "2022-09-20T11:47:27.165Z"
   },
   {
    "duration": 15,
    "start_time": "2022-09-20T11:47:27.198Z"
   },
   {
    "duration": 108,
    "start_time": "2022-09-20T11:47:27.214Z"
   },
   {
    "duration": 1720,
    "start_time": "2022-09-20T11:47:27.324Z"
   },
   {
    "duration": 59,
    "start_time": "2022-09-20T11:47:29.045Z"
   },
   {
    "duration": 66,
    "start_time": "2022-09-20T11:47:29.108Z"
   },
   {
    "duration": 47,
    "start_time": "2022-09-20T11:47:29.176Z"
   },
   {
    "duration": 16,
    "start_time": "2022-09-20T11:47:29.227Z"
   },
   {
    "duration": 40,
    "start_time": "2022-09-20T11:47:29.245Z"
   },
   {
    "duration": 33,
    "start_time": "2022-09-20T11:47:29.293Z"
   },
   {
    "duration": 22,
    "start_time": "2022-09-20T11:47:29.327Z"
   },
   {
    "duration": 47,
    "start_time": "2022-09-20T11:47:29.351Z"
   },
   {
    "duration": 23,
    "start_time": "2022-09-20T11:47:29.404Z"
   },
   {
    "duration": 29,
    "start_time": "2022-09-20T11:47:29.429Z"
   },
   {
    "duration": 10,
    "start_time": "2022-09-20T11:47:29.459Z"
   },
   {
    "duration": 20,
    "start_time": "2022-09-20T11:47:29.470Z"
   },
   {
    "duration": 29,
    "start_time": "2022-09-20T11:47:29.492Z"
   },
   {
    "duration": 4,
    "start_time": "2022-09-20T11:47:29.523Z"
   },
   {
    "duration": 638,
    "start_time": "2022-09-20T11:47:29.528Z"
   },
   {
    "duration": 925,
    "start_time": "2022-09-20T11:47:30.168Z"
   },
   {
    "duration": 209,
    "start_time": "2022-09-20T11:47:31.102Z"
   },
   {
    "duration": 36,
    "start_time": "2022-09-20T11:49:53.125Z"
   },
   {
    "duration": 18,
    "start_time": "2022-09-20T11:55:38.952Z"
   },
   {
    "duration": 24,
    "start_time": "2022-09-20T11:57:30.117Z"
   },
   {
    "duration": 14,
    "start_time": "2022-09-20T11:58:36.756Z"
   },
   {
    "duration": 27,
    "start_time": "2022-09-20T11:59:05.056Z"
   },
   {
    "duration": 99,
    "start_time": "2022-09-20T12:00:35.573Z"
   },
   {
    "duration": 12,
    "start_time": "2022-09-20T12:00:44.649Z"
   },
   {
    "duration": 28,
    "start_time": "2022-09-20T12:02:33.156Z"
   },
   {
    "duration": 50,
    "start_time": "2022-09-20T12:15:17.933Z"
   },
   {
    "duration": 9,
    "start_time": "2022-09-20T12:18:59.664Z"
   },
   {
    "duration": 14554,
    "start_time": "2022-09-20T12:20:47.436Z"
   },
   {
    "duration": 8966,
    "start_time": "2022-09-20T12:21:18.556Z"
   },
   {
    "duration": 9006,
    "start_time": "2022-09-20T12:22:23.354Z"
   },
   {
    "duration": 8540,
    "start_time": "2022-09-20T12:23:35.492Z"
   },
   {
    "duration": 17722,
    "start_time": "2022-09-20T12:25:10.070Z"
   },
   {
    "duration": 19651,
    "start_time": "2022-09-20T12:26:19.517Z"
   },
   {
    "duration": 20775,
    "start_time": "2022-09-20T12:26:54.756Z"
   },
   {
    "duration": 18984,
    "start_time": "2022-09-20T12:29:55.614Z"
   },
   {
    "duration": 18352,
    "start_time": "2022-09-20T12:36:06.490Z"
   },
   {
    "duration": 23,
    "start_time": "2022-09-20T12:36:52.837Z"
   },
   {
    "duration": 18825,
    "start_time": "2022-09-20T12:39:32.294Z"
   },
   {
    "duration": 26,
    "start_time": "2022-09-20T12:40:06.269Z"
   },
   {
    "duration": 26,
    "start_time": "2022-09-20T12:41:34.762Z"
   },
   {
    "duration": 22,
    "start_time": "2022-09-20T12:41:43.101Z"
   },
   {
    "duration": 15711,
    "start_time": "2022-09-20T12:42:40.942Z"
   },
   {
    "duration": 16666,
    "start_time": "2022-09-20T12:43:08.669Z"
   },
   {
    "duration": 17884,
    "start_time": "2022-09-20T12:47:35.501Z"
   },
   {
    "duration": 16820,
    "start_time": "2022-09-20T12:48:35.573Z"
   },
   {
    "duration": 18001,
    "start_time": "2022-09-20T12:52:48.814Z"
   },
   {
    "duration": 17262,
    "start_time": "2022-09-20T12:53:38.463Z"
   },
   {
    "duration": 106,
    "start_time": "2022-09-20T13:03:43.911Z"
   },
   {
    "duration": 6,
    "start_time": "2022-09-20T13:03:47.230Z"
   },
   {
    "duration": 1465,
    "start_time": "2022-09-20T13:06:18.142Z"
   },
   {
    "duration": 639,
    "start_time": "2022-09-20T13:06:49.272Z"
   },
   {
    "duration": 848,
    "start_time": "2022-09-20T13:09:00.394Z"
   },
   {
    "duration": 13,
    "start_time": "2022-09-20T13:11:57.833Z"
   },
   {
    "duration": 39,
    "start_time": "2022-09-20T13:12:26.758Z"
   },
   {
    "duration": 146,
    "start_time": "2022-09-20T13:12:51.213Z"
   },
   {
    "duration": 412,
    "start_time": "2022-09-20T13:13:03.534Z"
   },
   {
    "duration": 148,
    "start_time": "2022-09-20T13:14:16.606Z"
   },
   {
    "duration": 271,
    "start_time": "2022-09-20T13:14:37.081Z"
   },
   {
    "duration": 865,
    "start_time": "2022-09-20T13:14:42.671Z"
   },
   {
    "duration": 841,
    "start_time": "2022-09-20T13:15:03.709Z"
   },
   {
    "duration": 7,
    "start_time": "2022-09-20T13:27:45.848Z"
   },
   {
    "duration": 540,
    "start_time": "2022-09-20T13:31:19.871Z"
   },
   {
    "duration": 809,
    "start_time": "2022-09-20T13:33:19.199Z"
   },
   {
    "duration": 540,
    "start_time": "2022-09-20T13:33:32.100Z"
   },
   {
    "duration": 3433,
    "start_time": "2022-09-20T13:33:34.807Z"
   },
   {
    "duration": 715,
    "start_time": "2022-09-20T13:37:15.220Z"
   },
   {
    "duration": 646,
    "start_time": "2022-09-20T13:38:52.693Z"
   },
   {
    "duration": 334,
    "start_time": "2022-09-20T13:39:50.592Z"
   },
   {
    "duration": 82,
    "start_time": "2022-09-20T13:44:21.931Z"
   },
   {
    "duration": 57,
    "start_time": "2022-09-20T13:44:55.018Z"
   },
   {
    "duration": 0,
    "start_time": "2022-09-20T13:49:24.679Z"
   },
   {
    "duration": 0,
    "start_time": "2022-09-20T13:50:57.449Z"
   },
   {
    "duration": 0,
    "start_time": "2022-09-20T13:58:37.429Z"
   },
   {
    "duration": 340,
    "start_time": "2022-09-20T13:58:41.633Z"
   },
   {
    "duration": 315,
    "start_time": "2022-09-20T13:59:32.648Z"
   },
   {
    "duration": 269,
    "start_time": "2022-09-20T14:05:14.576Z"
   },
   {
    "duration": 1443,
    "start_time": "2022-09-20T14:06:50.376Z"
   },
   {
    "duration": 1342,
    "start_time": "2022-09-20T14:07:04.617Z"
   },
   {
    "duration": 1755,
    "start_time": "2022-09-20T14:08:00.415Z"
   },
   {
    "duration": 815,
    "start_time": "2022-09-20T14:09:03.327Z"
   },
   {
    "duration": 4,
    "start_time": "2022-09-20T14:10:50.040Z"
   },
   {
    "duration": 14,
    "start_time": "2022-09-20T14:11:19.696Z"
   },
   {
    "duration": 141,
    "start_time": "2022-09-20T14:25:41.118Z"
   },
   {
    "duration": 28,
    "start_time": "2022-09-20T14:25:47.750Z"
   },
   {
    "duration": 9,
    "start_time": "2022-09-20T14:26:00.600Z"
   },
   {
    "duration": 6,
    "start_time": "2022-09-20T14:26:15.004Z"
   },
   {
    "duration": 1105,
    "start_time": "2022-09-20T14:55:11.136Z"
   },
   {
    "duration": 1837,
    "start_time": "2022-09-20T14:55:12.243Z"
   },
   {
    "duration": 53,
    "start_time": "2022-09-20T14:55:14.081Z"
   },
   {
    "duration": 538,
    "start_time": "2022-09-20T14:55:14.136Z"
   },
   {
    "duration": 590,
    "start_time": "2022-09-20T14:55:14.676Z"
   },
   {
    "duration": 498,
    "start_time": "2022-09-20T14:55:15.268Z"
   },
   {
    "duration": 123,
    "start_time": "2022-09-20T14:55:15.768Z"
   },
   {
    "duration": 102,
    "start_time": "2022-09-20T14:55:15.893Z"
   },
   {
    "duration": 7,
    "start_time": "2022-09-20T14:55:15.997Z"
   },
   {
    "duration": 47,
    "start_time": "2022-09-20T14:55:16.006Z"
   },
   {
    "duration": 71,
    "start_time": "2022-09-20T14:55:16.055Z"
   },
   {
    "duration": 242,
    "start_time": "2022-09-20T14:55:16.128Z"
   },
   {
    "duration": 74,
    "start_time": "2022-09-20T14:55:16.372Z"
   },
   {
    "duration": 8,
    "start_time": "2022-09-20T14:55:16.447Z"
   },
   {
    "duration": 58,
    "start_time": "2022-09-20T14:55:16.457Z"
   },
   {
    "duration": 82,
    "start_time": "2022-09-20T14:55:16.517Z"
   },
   {
    "duration": 7,
    "start_time": "2022-09-20T14:55:16.601Z"
   },
   {
    "duration": 99,
    "start_time": "2022-09-20T14:55:16.610Z"
   },
   {
    "duration": 9,
    "start_time": "2022-09-20T14:55:16.711Z"
   },
   {
    "duration": 35,
    "start_time": "2022-09-20T14:55:16.722Z"
   },
   {
    "duration": 30,
    "start_time": "2022-09-20T14:55:16.759Z"
   },
   {
    "duration": 14,
    "start_time": "2022-09-20T14:55:16.792Z"
   },
   {
    "duration": 108,
    "start_time": "2022-09-20T14:55:16.807Z"
   },
   {
    "duration": 1614,
    "start_time": "2022-09-20T14:55:16.918Z"
   },
   {
    "duration": 50,
    "start_time": "2022-09-20T14:55:18.534Z"
   },
   {
    "duration": 65,
    "start_time": "2022-09-20T14:55:18.594Z"
   },
   {
    "duration": 35,
    "start_time": "2022-09-20T14:55:18.660Z"
   },
   {
    "duration": 16,
    "start_time": "2022-09-20T14:55:18.698Z"
   },
   {
    "duration": 28,
    "start_time": "2022-09-20T14:55:18.716Z"
   },
   {
    "duration": 39,
    "start_time": "2022-09-20T14:55:18.745Z"
   },
   {
    "duration": 17,
    "start_time": "2022-09-20T14:55:18.789Z"
   },
   {
    "duration": 35,
    "start_time": "2022-09-20T14:55:18.807Z"
   },
   {
    "duration": 20,
    "start_time": "2022-09-20T14:55:18.844Z"
   },
   {
    "duration": 22,
    "start_time": "2022-09-20T14:55:18.865Z"
   },
   {
    "duration": 22,
    "start_time": "2022-09-20T14:55:18.889Z"
   },
   {
    "duration": 12,
    "start_time": "2022-09-20T14:55:18.913Z"
   },
   {
    "duration": 23,
    "start_time": "2022-09-20T14:55:18.927Z"
   },
   {
    "duration": 69,
    "start_time": "2022-09-20T14:55:18.951Z"
   },
   {
    "duration": 15418,
    "start_time": "2022-09-20T14:55:19.022Z"
   },
   {
    "duration": 23,
    "start_time": "2022-09-20T14:55:34.442Z"
   },
   {
    "duration": 92,
    "start_time": "2022-09-20T14:55:34.467Z"
   },
   {
    "duration": 1454,
    "start_time": "2022-09-20T14:55:34.561Z"
   },
   {
    "duration": 619,
    "start_time": "2022-09-20T14:55:36.016Z"
   },
   {
    "duration": 350,
    "start_time": "2022-09-20T14:55:36.637Z"
   },
   {
    "duration": 21,
    "start_time": "2022-09-20T14:55:36.989Z"
   },
   {
    "duration": 569,
    "start_time": "2022-09-20T14:55:37.012Z"
   },
   {
    "duration": 4,
    "start_time": "2022-09-20T14:55:37.585Z"
   },
   {
    "duration": 21,
    "start_time": "2022-09-20T14:55:37.591Z"
   },
   {
    "duration": 32,
    "start_time": "2022-09-20T14:55:37.613Z"
   },
   {
    "duration": 149,
    "start_time": "2022-09-20T14:55:37.647Z"
   },
   {
    "duration": 1171,
    "start_time": "2022-09-20T14:55:59.921Z"
   },
   {
    "duration": 22,
    "start_time": "2022-09-20T14:57:27.714Z"
   },
   {
    "duration": 7,
    "start_time": "2022-09-20T14:57:32.090Z"
   },
   {
    "duration": 1241,
    "start_time": "2022-09-20T18:41:14.635Z"
   },
   {
    "duration": 1572,
    "start_time": "2022-09-20T18:41:15.878Z"
   },
   {
    "duration": 52,
    "start_time": "2022-09-20T18:41:17.451Z"
   },
   {
    "duration": 428,
    "start_time": "2022-09-20T18:41:17.505Z"
   },
   {
    "duration": 450,
    "start_time": "2022-09-20T18:41:17.935Z"
   },
   {
    "duration": 401,
    "start_time": "2022-09-20T18:41:18.387Z"
   },
   {
    "duration": 158,
    "start_time": "2022-09-20T18:41:18.789Z"
   },
   {
    "duration": 102,
    "start_time": "2022-09-20T18:41:18.949Z"
   },
   {
    "duration": 8,
    "start_time": "2022-09-20T18:41:19.053Z"
   },
   {
    "duration": 62,
    "start_time": "2022-09-20T18:41:19.064Z"
   },
   {
    "duration": 51,
    "start_time": "2022-09-20T18:41:19.129Z"
   },
   {
    "duration": 216,
    "start_time": "2022-09-20T18:41:19.181Z"
   },
   {
    "duration": 63,
    "start_time": "2022-09-20T18:41:19.399Z"
   },
   {
    "duration": 7,
    "start_time": "2022-09-20T18:41:19.463Z"
   },
   {
    "duration": 49,
    "start_time": "2022-09-20T18:41:19.471Z"
   },
   {
    "duration": 60,
    "start_time": "2022-09-20T18:41:19.522Z"
   },
   {
    "duration": 6,
    "start_time": "2022-09-20T18:41:19.584Z"
   },
   {
    "duration": 76,
    "start_time": "2022-09-20T18:41:19.591Z"
   },
   {
    "duration": 6,
    "start_time": "2022-09-20T18:41:19.669Z"
   },
   {
    "duration": 46,
    "start_time": "2022-09-20T18:41:19.676Z"
   },
   {
    "duration": 14,
    "start_time": "2022-09-20T18:41:19.724Z"
   },
   {
    "duration": 14,
    "start_time": "2022-09-20T18:41:19.739Z"
   },
   {
    "duration": 101,
    "start_time": "2022-09-20T18:41:19.754Z"
   },
   {
    "duration": 1339,
    "start_time": "2022-09-20T18:41:19.857Z"
   },
   {
    "duration": 40,
    "start_time": "2022-09-20T18:41:21.197Z"
   },
   {
    "duration": 72,
    "start_time": "2022-09-20T18:41:21.239Z"
   },
   {
    "duration": 29,
    "start_time": "2022-09-20T18:41:21.322Z"
   },
   {
    "duration": 33,
    "start_time": "2022-09-20T18:41:21.354Z"
   },
   {
    "duration": 45,
    "start_time": "2022-09-20T18:41:21.388Z"
   },
   {
    "duration": 24,
    "start_time": "2022-09-20T18:41:21.434Z"
   },
   {
    "duration": 16,
    "start_time": "2022-09-20T18:41:21.460Z"
   },
   {
    "duration": 42,
    "start_time": "2022-09-20T18:41:21.477Z"
   },
   {
    "duration": 22,
    "start_time": "2022-09-20T18:41:21.521Z"
   },
   {
    "duration": 22,
    "start_time": "2022-09-20T18:41:21.545Z"
   },
   {
    "duration": 19,
    "start_time": "2022-09-20T18:41:21.568Z"
   },
   {
    "duration": 13,
    "start_time": "2022-09-20T18:41:21.588Z"
   },
   {
    "duration": 32,
    "start_time": "2022-09-20T18:41:21.603Z"
   },
   {
    "duration": 46,
    "start_time": "2022-09-20T18:41:21.636Z"
   },
   {
    "duration": 13086,
    "start_time": "2022-09-20T18:41:21.684Z"
   },
   {
    "duration": 20,
    "start_time": "2022-09-20T18:41:34.771Z"
   },
   {
    "duration": 96,
    "start_time": "2022-09-20T18:41:34.793Z"
   },
   {
    "duration": 1196,
    "start_time": "2022-09-20T18:41:34.890Z"
   },
   {
    "duration": 516,
    "start_time": "2022-09-20T18:41:36.088Z"
   },
   {
    "duration": 282,
    "start_time": "2022-09-20T18:41:36.606Z"
   },
   {
    "duration": 15,
    "start_time": "2022-09-20T18:41:36.889Z"
   },
   {
    "duration": 448,
    "start_time": "2022-09-20T18:41:36.906Z"
   },
   {
    "duration": 15,
    "start_time": "2022-09-20T18:41:37.355Z"
   },
   {
    "duration": 4,
    "start_time": "2022-09-20T18:41:37.371Z"
   },
   {
    "duration": 143,
    "start_time": "2022-09-20T18:41:37.376Z"
   },
   {
    "duration": 1058,
    "start_time": "2022-09-20T18:56:09.557Z"
   },
   {
    "duration": 1873,
    "start_time": "2022-09-20T18:56:10.617Z"
   },
   {
    "duration": 56,
    "start_time": "2022-09-20T18:56:12.491Z"
   },
   {
    "duration": 469,
    "start_time": "2022-09-20T18:56:12.549Z"
   },
   {
    "duration": 518,
    "start_time": "2022-09-20T18:56:13.021Z"
   },
   {
    "duration": 424,
    "start_time": "2022-09-20T18:56:13.540Z"
   },
   {
    "duration": 131,
    "start_time": "2022-09-20T18:56:13.966Z"
   },
   {
    "duration": 90,
    "start_time": "2022-09-20T18:56:14.099Z"
   },
   {
    "duration": 6,
    "start_time": "2022-09-20T18:56:14.191Z"
   },
   {
    "duration": 55,
    "start_time": "2022-09-20T18:56:14.199Z"
   },
   {
    "duration": 49,
    "start_time": "2022-09-20T18:56:14.255Z"
   },
   {
    "duration": 217,
    "start_time": "2022-09-20T18:56:14.306Z"
   },
   {
    "duration": 60,
    "start_time": "2022-09-20T18:56:14.524Z"
   },
   {
    "duration": 8,
    "start_time": "2022-09-20T18:56:14.586Z"
   },
   {
    "duration": 52,
    "start_time": "2022-09-20T18:56:14.596Z"
   },
   {
    "duration": 58,
    "start_time": "2022-09-20T18:56:14.650Z"
   },
   {
    "duration": 17,
    "start_time": "2022-09-20T18:56:14.710Z"
   },
   {
    "duration": 65,
    "start_time": "2022-09-20T18:56:14.728Z"
   },
   {
    "duration": 6,
    "start_time": "2022-09-20T18:56:14.794Z"
   },
   {
    "duration": 48,
    "start_time": "2022-09-20T18:56:14.802Z"
   },
   {
    "duration": 16,
    "start_time": "2022-09-20T18:56:14.851Z"
   },
   {
    "duration": 11,
    "start_time": "2022-09-20T18:56:14.868Z"
   },
   {
    "duration": 112,
    "start_time": "2022-09-20T18:56:14.881Z"
   },
   {
    "duration": 1420,
    "start_time": "2022-09-20T18:56:14.994Z"
   },
   {
    "duration": 38,
    "start_time": "2022-09-20T18:56:16.415Z"
   },
   {
    "duration": 82,
    "start_time": "2022-09-20T18:56:16.455Z"
   },
   {
    "duration": 28,
    "start_time": "2022-09-20T18:56:16.539Z"
   },
   {
    "duration": 20,
    "start_time": "2022-09-20T18:56:16.570Z"
   },
   {
    "duration": 42,
    "start_time": "2022-09-20T18:56:16.591Z"
   },
   {
    "duration": 19,
    "start_time": "2022-09-20T18:56:16.635Z"
   },
   {
    "duration": 17,
    "start_time": "2022-09-20T18:56:16.655Z"
   },
   {
    "duration": 29,
    "start_time": "2022-09-20T18:56:16.673Z"
   },
   {
    "duration": 33,
    "start_time": "2022-09-20T18:56:16.704Z"
   },
   {
    "duration": 18,
    "start_time": "2022-09-20T18:56:16.739Z"
   },
   {
    "duration": 12,
    "start_time": "2022-09-20T18:56:16.758Z"
   },
   {
    "duration": 10,
    "start_time": "2022-09-20T18:56:16.771Z"
   },
   {
    "duration": 46,
    "start_time": "2022-09-20T18:56:16.783Z"
   },
   {
    "duration": 43,
    "start_time": "2022-09-20T18:56:16.831Z"
   },
   {
    "duration": 13701,
    "start_time": "2022-09-20T18:56:16.876Z"
   },
   {
    "duration": 21,
    "start_time": "2022-09-20T18:56:30.578Z"
   },
   {
    "duration": 92,
    "start_time": "2022-09-20T18:56:30.600Z"
   },
   {
    "duration": 1220,
    "start_time": "2022-09-20T18:56:30.694Z"
   },
   {
    "duration": 526,
    "start_time": "2022-09-20T18:56:31.915Z"
   },
   {
    "duration": 297,
    "start_time": "2022-09-20T18:56:32.443Z"
   },
   {
    "duration": 16,
    "start_time": "2022-09-20T18:56:32.742Z"
   },
   {
    "duration": 476,
    "start_time": "2022-09-20T18:56:32.759Z"
   },
   {
    "duration": 15,
    "start_time": "2022-09-20T18:56:33.237Z"
   },
   {
    "duration": 10,
    "start_time": "2022-09-20T18:56:33.254Z"
   },
   {
    "duration": 132,
    "start_time": "2022-09-20T18:56:33.265Z"
   },
   {
    "duration": 1156,
    "start_time": "2022-09-20T19:28:47.548Z"
   },
   {
    "duration": 1355,
    "start_time": "2022-09-20T19:28:48.706Z"
   },
   {
    "duration": 62,
    "start_time": "2022-09-20T19:28:50.062Z"
   },
   {
    "duration": 448,
    "start_time": "2022-09-20T19:28:50.126Z"
   },
   {
    "duration": 497,
    "start_time": "2022-09-20T19:28:50.576Z"
   },
   {
    "duration": 459,
    "start_time": "2022-09-20T19:28:51.074Z"
   },
   {
    "duration": 120,
    "start_time": "2022-09-20T19:28:51.535Z"
   },
   {
    "duration": 96,
    "start_time": "2022-09-20T19:28:51.657Z"
   },
   {
    "duration": 7,
    "start_time": "2022-09-20T19:28:51.755Z"
   },
   {
    "duration": 59,
    "start_time": "2022-09-20T19:28:51.763Z"
   },
   {
    "duration": 47,
    "start_time": "2022-09-20T19:28:51.824Z"
   },
   {
    "duration": 231,
    "start_time": "2022-09-20T19:28:51.873Z"
   },
   {
    "duration": 69,
    "start_time": "2022-09-20T19:28:52.105Z"
   },
   {
    "duration": 6,
    "start_time": "2022-09-20T19:28:52.177Z"
   },
   {
    "duration": 57,
    "start_time": "2022-09-20T19:28:52.184Z"
   },
   {
    "duration": 61,
    "start_time": "2022-09-20T19:28:52.243Z"
   },
   {
    "duration": 21,
    "start_time": "2022-09-20T19:28:52.306Z"
   },
   {
    "duration": 65,
    "start_time": "2022-09-20T19:28:52.329Z"
   },
   {
    "duration": 6,
    "start_time": "2022-09-20T19:28:52.396Z"
   },
   {
    "duration": 33,
    "start_time": "2022-09-20T19:28:52.422Z"
   },
   {
    "duration": 16,
    "start_time": "2022-09-20T19:28:52.457Z"
   },
   {
    "duration": 11,
    "start_time": "2022-09-20T19:28:52.474Z"
   },
   {
    "duration": 125,
    "start_time": "2022-09-20T19:28:52.487Z"
   },
   {
    "duration": 1441,
    "start_time": "2022-09-20T19:28:52.614Z"
   },
   {
    "duration": 45,
    "start_time": "2022-09-20T19:28:54.057Z"
   },
   {
    "duration": 89,
    "start_time": "2022-09-20T19:28:54.104Z"
   },
   {
    "duration": 61,
    "start_time": "2022-09-20T19:28:54.195Z"
   },
   {
    "duration": 48,
    "start_time": "2022-09-20T19:28:54.258Z"
   },
   {
    "duration": 55,
    "start_time": "2022-09-20T19:28:54.308Z"
   },
   {
    "duration": 28,
    "start_time": "2022-09-20T19:28:54.364Z"
   },
   {
    "duration": 42,
    "start_time": "2022-09-20T19:28:54.394Z"
   },
   {
    "duration": 59,
    "start_time": "2022-09-20T19:28:54.438Z"
   },
   {
    "duration": 45,
    "start_time": "2022-09-20T19:28:54.499Z"
   },
   {
    "duration": 27,
    "start_time": "2022-09-20T19:28:54.546Z"
   },
   {
    "duration": 38,
    "start_time": "2022-09-20T19:28:54.574Z"
   },
   {
    "duration": 13,
    "start_time": "2022-09-20T19:28:54.614Z"
   },
   {
    "duration": 30,
    "start_time": "2022-09-20T19:28:54.629Z"
   },
   {
    "duration": 70,
    "start_time": "2022-09-20T19:28:54.661Z"
   },
   {
    "duration": 13779,
    "start_time": "2022-09-20T19:28:54.733Z"
   },
   {
    "duration": 33,
    "start_time": "2022-09-20T19:29:08.514Z"
   },
   {
    "duration": 104,
    "start_time": "2022-09-20T19:29:08.552Z"
   },
   {
    "duration": 1301,
    "start_time": "2022-09-20T19:29:08.658Z"
   },
   {
    "duration": 546,
    "start_time": "2022-09-20T19:29:09.961Z"
   },
   {
    "duration": 290,
    "start_time": "2022-09-20T19:29:10.509Z"
   },
   {
    "duration": 22,
    "start_time": "2022-09-20T19:29:10.801Z"
   },
   {
    "duration": 457,
    "start_time": "2022-09-20T19:29:10.825Z"
   },
   {
    "duration": 3,
    "start_time": "2022-09-20T19:29:11.283Z"
   },
   {
    "duration": 9,
    "start_time": "2022-09-20T19:29:11.288Z"
   },
   {
    "duration": 141,
    "start_time": "2022-09-20T19:29:11.298Z"
   },
   {
    "duration": 8,
    "start_time": "2022-09-20T19:30:25.129Z"
   },
   {
    "duration": 11,
    "start_time": "2022-09-20T19:31:07.331Z"
   },
   {
    "duration": 10,
    "start_time": "2022-09-20T19:31:17.787Z"
   },
   {
    "duration": 27,
    "start_time": "2022-09-20T19:35:15.197Z"
   },
   {
    "duration": 1059,
    "start_time": "2022-09-20T19:38:35.769Z"
   },
   {
    "duration": 1619,
    "start_time": "2022-09-20T19:38:36.829Z"
   },
   {
    "duration": 106,
    "start_time": "2022-09-20T19:38:38.449Z"
   },
   {
    "duration": 0,
    "start_time": "2022-09-20T19:38:38.558Z"
   },
   {
    "duration": 0,
    "start_time": "2022-09-20T19:38:38.559Z"
   },
   {
    "duration": 0,
    "start_time": "2022-09-20T19:38:38.560Z"
   },
   {
    "duration": 0,
    "start_time": "2022-09-20T19:38:38.561Z"
   },
   {
    "duration": 0,
    "start_time": "2022-09-20T19:38:38.562Z"
   },
   {
    "duration": 0,
    "start_time": "2022-09-20T19:38:38.563Z"
   },
   {
    "duration": 0,
    "start_time": "2022-09-20T19:38:38.564Z"
   },
   {
    "duration": 0,
    "start_time": "2022-09-20T19:38:38.565Z"
   },
   {
    "duration": 0,
    "start_time": "2022-09-20T19:38:38.566Z"
   },
   {
    "duration": 0,
    "start_time": "2022-09-20T19:38:38.567Z"
   },
   {
    "duration": 0,
    "start_time": "2022-09-20T19:38:38.567Z"
   },
   {
    "duration": 0,
    "start_time": "2022-09-20T19:38:38.568Z"
   },
   {
    "duration": 0,
    "start_time": "2022-09-20T19:38:38.569Z"
   },
   {
    "duration": 0,
    "start_time": "2022-09-20T19:38:38.570Z"
   },
   {
    "duration": 0,
    "start_time": "2022-09-20T19:38:38.571Z"
   },
   {
    "duration": 0,
    "start_time": "2022-09-20T19:38:38.573Z"
   },
   {
    "duration": 0,
    "start_time": "2022-09-20T19:38:38.574Z"
   },
   {
    "duration": 0,
    "start_time": "2022-09-20T19:38:38.575Z"
   },
   {
    "duration": 0,
    "start_time": "2022-09-20T19:38:38.576Z"
   },
   {
    "duration": 0,
    "start_time": "2022-09-20T19:38:38.576Z"
   },
   {
    "duration": 0,
    "start_time": "2022-09-20T19:38:38.578Z"
   },
   {
    "duration": 0,
    "start_time": "2022-09-20T19:38:38.579Z"
   },
   {
    "duration": 0,
    "start_time": "2022-09-20T19:38:38.579Z"
   },
   {
    "duration": 0,
    "start_time": "2022-09-20T19:38:38.580Z"
   },
   {
    "duration": 0,
    "start_time": "2022-09-20T19:38:38.580Z"
   },
   {
    "duration": 0,
    "start_time": "2022-09-20T19:38:38.581Z"
   },
   {
    "duration": 0,
    "start_time": "2022-09-20T19:38:38.581Z"
   },
   {
    "duration": 0,
    "start_time": "2022-09-20T19:38:38.582Z"
   },
   {
    "duration": 0,
    "start_time": "2022-09-20T19:38:38.582Z"
   },
   {
    "duration": 0,
    "start_time": "2022-09-20T19:38:38.582Z"
   },
   {
    "duration": 0,
    "start_time": "2022-09-20T19:38:38.583Z"
   },
   {
    "duration": 0,
    "start_time": "2022-09-20T19:38:38.623Z"
   },
   {
    "duration": 0,
    "start_time": "2022-09-20T19:38:38.624Z"
   },
   {
    "duration": 0,
    "start_time": "2022-09-20T19:38:38.625Z"
   },
   {
    "duration": 0,
    "start_time": "2022-09-20T19:38:38.626Z"
   },
   {
    "duration": 0,
    "start_time": "2022-09-20T19:38:38.627Z"
   },
   {
    "duration": 0,
    "start_time": "2022-09-20T19:38:38.628Z"
   },
   {
    "duration": 0,
    "start_time": "2022-09-20T19:38:38.629Z"
   },
   {
    "duration": 0,
    "start_time": "2022-09-20T19:38:38.630Z"
   },
   {
    "duration": 0,
    "start_time": "2022-09-20T19:38:38.631Z"
   },
   {
    "duration": 0,
    "start_time": "2022-09-20T19:38:38.632Z"
   },
   {
    "duration": 0,
    "start_time": "2022-09-20T19:38:38.633Z"
   },
   {
    "duration": 0,
    "start_time": "2022-09-20T19:38:38.634Z"
   },
   {
    "duration": 0,
    "start_time": "2022-09-20T19:38:38.635Z"
   },
   {
    "duration": 0,
    "start_time": "2022-09-20T19:38:38.636Z"
   },
   {
    "duration": 0,
    "start_time": "2022-09-20T19:38:38.637Z"
   },
   {
    "duration": 0,
    "start_time": "2022-09-20T19:38:38.638Z"
   },
   {
    "duration": 0,
    "start_time": "2022-09-20T19:38:38.639Z"
   },
   {
    "duration": 0,
    "start_time": "2022-09-20T19:38:38.641Z"
   },
   {
    "duration": 1065,
    "start_time": "2022-09-20T19:39:32.565Z"
   },
   {
    "duration": 1413,
    "start_time": "2022-09-20T19:39:33.631Z"
   },
   {
    "duration": 59,
    "start_time": "2022-09-20T19:39:35.046Z"
   },
   {
    "duration": 3117,
    "start_time": "2022-09-20T19:39:35.107Z"
   },
   {
    "duration": 428,
    "start_time": "2022-09-20T19:39:38.226Z"
   },
   {
    "duration": 545,
    "start_time": "2022-09-20T19:39:38.655Z"
   },
   {
    "duration": 440,
    "start_time": "2022-09-20T19:39:39.202Z"
   },
   {
    "duration": 126,
    "start_time": "2022-09-20T19:39:39.643Z"
   },
   {
    "duration": 89,
    "start_time": "2022-09-20T19:39:39.771Z"
   },
   {
    "duration": 6,
    "start_time": "2022-09-20T19:39:39.862Z"
   },
   {
    "duration": 52,
    "start_time": "2022-09-20T19:39:39.870Z"
   },
   {
    "duration": 45,
    "start_time": "2022-09-20T19:39:39.923Z"
   },
   {
    "duration": 211,
    "start_time": "2022-09-20T19:39:39.970Z"
   },
   {
    "duration": 69,
    "start_time": "2022-09-20T19:39:40.183Z"
   },
   {
    "duration": 7,
    "start_time": "2022-09-20T19:39:40.253Z"
   },
   {
    "duration": 36,
    "start_time": "2022-09-20T19:39:40.262Z"
   },
   {
    "duration": 73,
    "start_time": "2022-09-20T19:39:40.300Z"
   },
   {
    "duration": 7,
    "start_time": "2022-09-20T19:39:40.374Z"
   },
   {
    "duration": 86,
    "start_time": "2022-09-20T19:39:40.382Z"
   },
   {
    "duration": 6,
    "start_time": "2022-09-20T19:39:40.470Z"
   },
   {
    "duration": 47,
    "start_time": "2022-09-20T19:39:40.477Z"
   },
   {
    "duration": 16,
    "start_time": "2022-09-20T19:39:40.526Z"
   },
   {
    "duration": 11,
    "start_time": "2022-09-20T19:39:40.543Z"
   },
   {
    "duration": 110,
    "start_time": "2022-09-20T19:39:40.555Z"
   },
   {
    "duration": 1372,
    "start_time": "2022-09-20T19:39:40.666Z"
   },
   {
    "duration": 35,
    "start_time": "2022-09-20T19:39:42.040Z"
   },
   {
    "duration": 91,
    "start_time": "2022-09-20T19:39:42.076Z"
   },
   {
    "duration": 29,
    "start_time": "2022-09-20T19:39:42.170Z"
   },
   {
    "duration": 44,
    "start_time": "2022-09-20T19:39:42.201Z"
   },
   {
    "duration": 31,
    "start_time": "2022-09-20T19:39:42.246Z"
   },
   {
    "duration": 27,
    "start_time": "2022-09-20T19:39:42.279Z"
   },
   {
    "duration": 21,
    "start_time": "2022-09-20T19:39:42.308Z"
   },
   {
    "duration": 30,
    "start_time": "2022-09-20T19:39:42.330Z"
   },
   {
    "duration": 19,
    "start_time": "2022-09-20T19:39:42.361Z"
   },
   {
    "duration": 18,
    "start_time": "2022-09-20T19:39:42.381Z"
   },
   {
    "duration": 10,
    "start_time": "2022-09-20T19:39:42.401Z"
   },
   {
    "duration": 12,
    "start_time": "2022-09-20T19:39:42.412Z"
   },
   {
    "duration": 20,
    "start_time": "2022-09-20T19:39:42.425Z"
   },
   {
    "duration": 44,
    "start_time": "2022-09-20T19:39:42.446Z"
   },
   {
    "duration": 13347,
    "start_time": "2022-09-20T19:39:42.491Z"
   },
   {
    "duration": 21,
    "start_time": "2022-09-20T19:39:55.840Z"
   },
   {
    "duration": 93,
    "start_time": "2022-09-20T19:39:55.863Z"
   },
   {
    "duration": 1164,
    "start_time": "2022-09-20T19:39:55.958Z"
   },
   {
    "duration": 538,
    "start_time": "2022-09-20T19:39:57.124Z"
   },
   {
    "duration": 280,
    "start_time": "2022-09-20T19:39:57.664Z"
   },
   {
    "duration": 13,
    "start_time": "2022-09-20T19:39:57.946Z"
   },
   {
    "duration": 463,
    "start_time": "2022-09-20T19:39:57.961Z"
   },
   {
    "duration": 10,
    "start_time": "2022-09-20T19:39:58.426Z"
   },
   {
    "duration": 36,
    "start_time": "2022-09-20T19:39:58.438Z"
   },
   {
    "duration": 17,
    "start_time": "2022-09-20T19:39:58.476Z"
   },
   {
    "duration": 17,
    "start_time": "2022-09-20T19:39:58.494Z"
   },
   {
    "duration": 141,
    "start_time": "2022-09-20T19:39:58.513Z"
   },
   {
    "duration": 13,
    "start_time": "2022-09-20T19:44:49.372Z"
   },
   {
    "duration": 1192,
    "start_time": "2022-09-20T19:44:58.207Z"
   },
   {
    "duration": 1439,
    "start_time": "2022-09-20T19:44:59.401Z"
   },
   {
    "duration": 55,
    "start_time": "2022-09-20T19:45:00.841Z"
   },
   {
    "duration": 498,
    "start_time": "2022-09-20T19:45:00.898Z"
   },
   {
    "duration": 530,
    "start_time": "2022-09-20T19:45:01.398Z"
   },
   {
    "duration": 480,
    "start_time": "2022-09-20T19:45:01.930Z"
   },
   {
    "duration": 124,
    "start_time": "2022-09-20T19:45:02.412Z"
   },
   {
    "duration": 102,
    "start_time": "2022-09-20T19:45:02.538Z"
   },
   {
    "duration": 7,
    "start_time": "2022-09-20T19:45:02.642Z"
   },
   {
    "duration": 51,
    "start_time": "2022-09-20T19:45:02.651Z"
   },
   {
    "duration": 53,
    "start_time": "2022-09-20T19:45:02.704Z"
   },
   {
    "duration": 211,
    "start_time": "2022-09-20T19:45:02.759Z"
   },
   {
    "duration": 70,
    "start_time": "2022-09-20T19:45:02.972Z"
   },
   {
    "duration": 7,
    "start_time": "2022-09-20T19:45:03.044Z"
   },
   {
    "duration": 42,
    "start_time": "2022-09-20T19:45:03.053Z"
   },
   {
    "duration": 100,
    "start_time": "2022-09-20T19:45:03.097Z"
   },
   {
    "duration": 8,
    "start_time": "2022-09-20T19:45:03.199Z"
   },
   {
    "duration": 74,
    "start_time": "2022-09-20T19:45:03.222Z"
   },
   {
    "duration": 8,
    "start_time": "2022-09-20T19:45:03.298Z"
   },
   {
    "duration": 38,
    "start_time": "2022-09-20T19:45:03.322Z"
   },
   {
    "duration": 18,
    "start_time": "2022-09-20T19:45:03.362Z"
   },
   {
    "duration": 11,
    "start_time": "2022-09-20T19:45:03.382Z"
   },
   {
    "duration": 113,
    "start_time": "2022-09-20T19:45:03.395Z"
   },
   {
    "duration": 1429,
    "start_time": "2022-09-20T19:45:03.509Z"
   },
   {
    "duration": 35,
    "start_time": "2022-09-20T19:45:04.939Z"
   },
   {
    "duration": 86,
    "start_time": "2022-09-20T19:45:04.975Z"
   },
   {
    "duration": 38,
    "start_time": "2022-09-20T19:45:05.063Z"
   },
   {
    "duration": 17,
    "start_time": "2022-09-20T19:45:05.124Z"
   },
   {
    "duration": 37,
    "start_time": "2022-09-20T19:45:05.143Z"
   },
   {
    "duration": 21,
    "start_time": "2022-09-20T19:45:05.182Z"
   },
   {
    "duration": 28,
    "start_time": "2022-09-20T19:45:05.205Z"
   },
   {
    "duration": 36,
    "start_time": "2022-09-20T19:45:05.235Z"
   },
   {
    "duration": 21,
    "start_time": "2022-09-20T19:45:05.273Z"
   },
   {
    "duration": 26,
    "start_time": "2022-09-20T19:45:05.296Z"
   },
   {
    "duration": 11,
    "start_time": "2022-09-20T19:45:05.324Z"
   },
   {
    "duration": 15,
    "start_time": "2022-09-20T19:45:05.337Z"
   },
   {
    "duration": 62,
    "start_time": "2022-09-20T19:45:05.353Z"
   },
   {
    "duration": 81,
    "start_time": "2022-09-20T19:45:05.417Z"
   },
   {
    "duration": 13986,
    "start_time": "2022-09-20T19:45:05.500Z"
   },
   {
    "duration": 17,
    "start_time": "2022-09-20T19:45:19.488Z"
   },
   {
    "duration": 106,
    "start_time": "2022-09-20T19:45:19.507Z"
   },
   {
    "duration": 1285,
    "start_time": "2022-09-20T19:45:19.615Z"
   },
   {
    "duration": 549,
    "start_time": "2022-09-20T19:45:20.902Z"
   },
   {
    "duration": 292,
    "start_time": "2022-09-20T19:45:21.453Z"
   },
   {
    "duration": 16,
    "start_time": "2022-09-20T19:45:21.746Z"
   },
   {
    "duration": 466,
    "start_time": "2022-09-20T19:45:21.764Z"
   },
   {
    "duration": 8,
    "start_time": "2022-09-20T19:45:22.231Z"
   },
   {
    "duration": 36,
    "start_time": "2022-09-20T19:45:22.241Z"
   },
   {
    "duration": 2,
    "start_time": "2022-09-20T19:45:22.279Z"
   },
   {
    "duration": 22,
    "start_time": "2022-09-20T19:45:22.283Z"
   },
   {
    "duration": 162,
    "start_time": "2022-09-20T19:45:22.307Z"
   },
   {
    "duration": 27,
    "start_time": "2022-09-20T19:49:52.504Z"
   },
   {
    "duration": 116,
    "start_time": "2022-09-20T19:50:01.395Z"
   },
   {
    "duration": 1075,
    "start_time": "2022-09-20T19:50:19.942Z"
   },
   {
    "duration": 1369,
    "start_time": "2022-09-20T19:50:21.019Z"
   },
   {
    "duration": 54,
    "start_time": "2022-09-20T19:50:22.389Z"
   },
   {
    "duration": 448,
    "start_time": "2022-09-20T19:50:22.445Z"
   },
   {
    "duration": 482,
    "start_time": "2022-09-20T19:50:22.894Z"
   },
   {
    "duration": 407,
    "start_time": "2022-09-20T19:50:23.377Z"
   },
   {
    "duration": 119,
    "start_time": "2022-09-20T19:50:23.785Z"
   },
   {
    "duration": 88,
    "start_time": "2022-09-20T19:50:23.906Z"
   },
   {
    "duration": 6,
    "start_time": "2022-09-20T19:50:23.996Z"
   },
   {
    "duration": 56,
    "start_time": "2022-09-20T19:50:24.004Z"
   },
   {
    "duration": 45,
    "start_time": "2022-09-20T19:50:24.061Z"
   },
   {
    "duration": 209,
    "start_time": "2022-09-20T19:50:24.108Z"
   },
   {
    "duration": 63,
    "start_time": "2022-09-20T19:50:24.318Z"
   },
   {
    "duration": 6,
    "start_time": "2022-09-20T19:50:24.382Z"
   },
   {
    "duration": 48,
    "start_time": "2022-09-20T19:50:24.390Z"
   },
   {
    "duration": 59,
    "start_time": "2022-09-20T19:50:24.440Z"
   },
   {
    "duration": 25,
    "start_time": "2022-09-20T19:50:24.500Z"
   },
   {
    "duration": 63,
    "start_time": "2022-09-20T19:50:24.527Z"
   },
   {
    "duration": 6,
    "start_time": "2022-09-20T19:50:24.592Z"
   },
   {
    "duration": 51,
    "start_time": "2022-09-20T19:50:24.600Z"
   },
   {
    "duration": 15,
    "start_time": "2022-09-20T19:50:24.653Z"
   },
   {
    "duration": 12,
    "start_time": "2022-09-20T19:50:24.671Z"
   },
   {
    "duration": 105,
    "start_time": "2022-09-20T19:50:24.685Z"
   },
   {
    "duration": 1416,
    "start_time": "2022-09-20T19:50:24.792Z"
   },
   {
    "duration": 42,
    "start_time": "2022-09-20T19:50:26.211Z"
   },
   {
    "duration": 82,
    "start_time": "2022-09-20T19:50:26.255Z"
   },
   {
    "duration": 29,
    "start_time": "2022-09-20T19:50:26.338Z"
   },
   {
    "duration": 19,
    "start_time": "2022-09-20T19:50:26.370Z"
   },
   {
    "duration": 42,
    "start_time": "2022-09-20T19:50:26.390Z"
   },
   {
    "duration": 19,
    "start_time": "2022-09-20T19:50:26.434Z"
   },
   {
    "duration": 16,
    "start_time": "2022-09-20T19:50:26.454Z"
   },
   {
    "duration": 51,
    "start_time": "2022-09-20T19:50:26.472Z"
   },
   {
    "duration": 17,
    "start_time": "2022-09-20T19:50:26.524Z"
   },
   {
    "duration": 18,
    "start_time": "2022-09-20T19:50:26.543Z"
   },
   {
    "duration": 11,
    "start_time": "2022-09-20T19:50:26.563Z"
   },
   {
    "duration": 10,
    "start_time": "2022-09-20T19:50:26.576Z"
   },
   {
    "duration": 46,
    "start_time": "2022-09-20T19:50:26.587Z"
   },
   {
    "duration": 43,
    "start_time": "2022-09-20T19:50:26.635Z"
   },
   {
    "duration": 13302,
    "start_time": "2022-09-20T19:50:26.680Z"
   },
   {
    "duration": 16,
    "start_time": "2022-09-20T19:50:39.983Z"
   },
   {
    "duration": 94,
    "start_time": "2022-09-20T19:50:40.000Z"
   },
   {
    "duration": 1230,
    "start_time": "2022-09-20T19:50:40.096Z"
   },
   {
    "duration": 547,
    "start_time": "2022-09-20T19:50:41.327Z"
   },
   {
    "duration": 285,
    "start_time": "2022-09-20T19:50:41.876Z"
   },
   {
    "duration": 15,
    "start_time": "2022-09-20T19:50:42.163Z"
   },
   {
    "duration": 433,
    "start_time": "2022-09-20T19:50:42.180Z"
   },
   {
    "duration": 10,
    "start_time": "2022-09-20T19:50:42.615Z"
   },
   {
    "duration": 26,
    "start_time": "2022-09-20T19:50:42.626Z"
   },
   {
    "duration": 25,
    "start_time": "2022-09-20T19:50:42.654Z"
   },
   {
    "duration": 144,
    "start_time": "2022-09-20T19:50:42.680Z"
   },
   {
    "duration": 294,
    "start_time": "2022-09-20T19:51:35.637Z"
   },
   {
    "duration": 6130,
    "start_time": "2022-09-20T19:53:27.393Z"
   },
   {
    "duration": 5474,
    "start_time": "2022-09-20T19:53:42.594Z"
   },
   {
    "duration": 1524,
    "start_time": "2022-09-20T19:54:17.680Z"
   },
   {
    "duration": 1125,
    "start_time": "2022-09-20T19:54:41.597Z"
   },
   {
    "duration": 1601,
    "start_time": "2022-09-20T19:54:42.723Z"
   },
   {
    "duration": 52,
    "start_time": "2022-09-20T19:54:44.326Z"
   },
   {
    "duration": 443,
    "start_time": "2022-09-20T19:54:44.380Z"
   },
   {
    "duration": 479,
    "start_time": "2022-09-20T19:54:44.825Z"
   },
   {
    "duration": 437,
    "start_time": "2022-09-20T19:54:45.306Z"
   },
   {
    "duration": 121,
    "start_time": "2022-09-20T19:54:45.744Z"
   },
   {
    "duration": 94,
    "start_time": "2022-09-20T19:54:45.866Z"
   },
   {
    "duration": 6,
    "start_time": "2022-09-20T19:54:45.962Z"
   },
   {
    "duration": 54,
    "start_time": "2022-09-20T19:54:45.970Z"
   },
   {
    "duration": 45,
    "start_time": "2022-09-20T19:54:46.026Z"
   },
   {
    "duration": 213,
    "start_time": "2022-09-20T19:54:46.073Z"
   },
   {
    "duration": 65,
    "start_time": "2022-09-20T19:54:46.288Z"
   },
   {
    "duration": 6,
    "start_time": "2022-09-20T19:54:46.354Z"
   },
   {
    "duration": 36,
    "start_time": "2022-09-20T19:54:46.362Z"
   },
   {
    "duration": 79,
    "start_time": "2022-09-20T19:54:46.399Z"
   },
   {
    "duration": 6,
    "start_time": "2022-09-20T19:54:46.480Z"
   },
   {
    "duration": 81,
    "start_time": "2022-09-20T19:54:46.488Z"
   },
   {
    "duration": 7,
    "start_time": "2022-09-20T19:54:46.570Z"
   },
   {
    "duration": 47,
    "start_time": "2022-09-20T19:54:46.578Z"
   },
   {
    "duration": 16,
    "start_time": "2022-09-20T19:54:46.626Z"
   },
   {
    "duration": 11,
    "start_time": "2022-09-20T19:54:46.644Z"
   },
   {
    "duration": 107,
    "start_time": "2022-09-20T19:54:46.656Z"
   },
   {
    "duration": 1382,
    "start_time": "2022-09-20T19:54:46.765Z"
   },
   {
    "duration": 38,
    "start_time": "2022-09-20T19:54:48.149Z"
   },
   {
    "duration": 92,
    "start_time": "2022-09-20T19:54:48.189Z"
   },
   {
    "duration": 41,
    "start_time": "2022-09-20T19:54:48.282Z"
   },
   {
    "duration": 19,
    "start_time": "2022-09-20T19:54:48.326Z"
   },
   {
    "duration": 32,
    "start_time": "2022-09-20T19:54:48.346Z"
   },
   {
    "duration": 23,
    "start_time": "2022-09-20T19:54:48.379Z"
   },
   {
    "duration": 31,
    "start_time": "2022-09-20T19:54:48.404Z"
   },
   {
    "duration": 31,
    "start_time": "2022-09-20T19:54:48.437Z"
   },
   {
    "duration": 22,
    "start_time": "2022-09-20T19:54:48.469Z"
   },
   {
    "duration": 36,
    "start_time": "2022-09-20T19:54:48.492Z"
   },
   {
    "duration": 13,
    "start_time": "2022-09-20T19:54:48.530Z"
   },
   {
    "duration": 34,
    "start_time": "2022-09-20T19:54:48.545Z"
   },
   {
    "duration": 22,
    "start_time": "2022-09-20T19:54:48.581Z"
   },
   {
    "duration": 61,
    "start_time": "2022-09-20T19:54:48.605Z"
   },
   {
    "duration": 14743,
    "start_time": "2022-09-20T19:54:48.668Z"
   },
   {
    "duration": 18,
    "start_time": "2022-09-20T19:55:03.413Z"
   },
   {
    "duration": 96,
    "start_time": "2022-09-20T19:55:03.432Z"
   },
   {
    "duration": 308,
    "start_time": "2022-09-20T19:55:03.529Z"
   },
   {
    "duration": 948,
    "start_time": "2022-09-20T19:55:03.839Z"
   },
   {
    "duration": 292,
    "start_time": "2022-09-20T19:55:04.789Z"
   },
   {
    "duration": 17,
    "start_time": "2022-09-20T19:55:05.082Z"
   },
   {
    "duration": 437,
    "start_time": "2022-09-20T19:55:05.101Z"
   },
   {
    "duration": 8,
    "start_time": "2022-09-20T19:55:05.540Z"
   },
   {
    "duration": 25,
    "start_time": "2022-09-20T19:55:05.549Z"
   },
   {
    "duration": 46,
    "start_time": "2022-09-20T19:55:05.576Z"
   },
   {
    "duration": 125,
    "start_time": "2022-09-20T19:55:05.624Z"
   },
   {
    "duration": 93,
    "start_time": "2022-09-20T19:56:08.268Z"
   },
   {
    "duration": 4,
    "start_time": "2022-09-20T19:56:10.758Z"
   },
   {
    "duration": 3,
    "start_time": "2022-09-20T19:56:41.501Z"
   },
   {
    "duration": 126,
    "start_time": "2022-09-20T19:58:54.590Z"
   },
   {
    "duration": 107,
    "start_time": "2022-09-20T19:59:53.486Z"
   },
   {
    "duration": 123,
    "start_time": "2022-09-20T20:00:00.274Z"
   },
   {
    "duration": 4,
    "start_time": "2022-09-20T20:00:09.893Z"
   },
   {
    "duration": 1142,
    "start_time": "2022-09-20T20:18:18.887Z"
   },
   {
    "duration": 1671,
    "start_time": "2022-09-20T20:18:20.031Z"
   },
   {
    "duration": 59,
    "start_time": "2022-09-20T20:18:21.706Z"
   },
   {
    "duration": 445,
    "start_time": "2022-09-20T20:18:21.767Z"
   },
   {
    "duration": 479,
    "start_time": "2022-09-20T20:18:22.214Z"
   },
   {
    "duration": 432,
    "start_time": "2022-09-20T20:18:22.694Z"
   },
   {
    "duration": 225,
    "start_time": "2022-09-20T20:18:23.129Z"
   },
   {
    "duration": 89,
    "start_time": "2022-09-20T20:18:23.356Z"
   },
   {
    "duration": 8,
    "start_time": "2022-09-20T20:18:23.447Z"
   },
   {
    "duration": 60,
    "start_time": "2022-09-20T20:18:23.456Z"
   },
   {
    "duration": 45,
    "start_time": "2022-09-20T20:18:23.518Z"
   },
   {
    "duration": 207,
    "start_time": "2022-09-20T20:18:23.565Z"
   },
   {
    "duration": 68,
    "start_time": "2022-09-20T20:18:23.774Z"
   },
   {
    "duration": 8,
    "start_time": "2022-09-20T20:18:23.844Z"
   },
   {
    "duration": 38,
    "start_time": "2022-09-20T20:18:23.853Z"
   },
   {
    "duration": 78,
    "start_time": "2022-09-20T20:18:23.892Z"
   },
   {
    "duration": 7,
    "start_time": "2022-09-20T20:18:23.972Z"
   },
   {
    "duration": 76,
    "start_time": "2022-09-20T20:18:23.981Z"
   },
   {
    "duration": 6,
    "start_time": "2022-09-20T20:18:24.059Z"
   },
   {
    "duration": 35,
    "start_time": "2022-09-20T20:18:24.067Z"
   },
   {
    "duration": 31,
    "start_time": "2022-09-20T20:18:24.103Z"
   },
   {
    "duration": 12,
    "start_time": "2022-09-20T20:18:24.136Z"
   },
   {
    "duration": 109,
    "start_time": "2022-09-20T20:18:24.150Z"
   },
   {
    "duration": 1414,
    "start_time": "2022-09-20T20:18:24.262Z"
   },
   {
    "duration": 46,
    "start_time": "2022-09-20T20:18:25.678Z"
   },
   {
    "duration": 77,
    "start_time": "2022-09-20T20:18:25.726Z"
   },
   {
    "duration": 41,
    "start_time": "2022-09-20T20:18:25.806Z"
   },
   {
    "duration": 20,
    "start_time": "2022-09-20T20:18:25.848Z"
   },
   {
    "duration": 29,
    "start_time": "2022-09-20T20:18:25.870Z"
   },
   {
    "duration": 35,
    "start_time": "2022-09-20T20:18:25.901Z"
   },
   {
    "duration": 17,
    "start_time": "2022-09-20T20:18:25.937Z"
   },
   {
    "duration": 31,
    "start_time": "2022-09-20T20:18:25.956Z"
   },
   {
    "duration": 38,
    "start_time": "2022-09-20T20:18:25.989Z"
   },
   {
    "duration": 20,
    "start_time": "2022-09-20T20:18:26.028Z"
   },
   {
    "duration": 14,
    "start_time": "2022-09-20T20:18:26.050Z"
   },
   {
    "duration": 11,
    "start_time": "2022-09-20T20:18:26.065Z"
   },
   {
    "duration": 48,
    "start_time": "2022-09-20T20:18:26.077Z"
   },
   {
    "duration": 45,
    "start_time": "2022-09-20T20:18:26.126Z"
   },
   {
    "duration": 13596,
    "start_time": "2022-09-20T20:18:26.173Z"
   },
   {
    "duration": 16,
    "start_time": "2022-09-20T20:18:39.770Z"
   },
   {
    "duration": 98,
    "start_time": "2022-09-20T20:18:39.787Z"
   },
   {
    "duration": 299,
    "start_time": "2022-09-20T20:18:39.886Z"
   },
   {
    "duration": 955,
    "start_time": "2022-09-20T20:18:40.187Z"
   },
   {
    "duration": 292,
    "start_time": "2022-09-20T20:18:41.143Z"
   },
   {
    "duration": 20,
    "start_time": "2022-09-20T20:18:41.438Z"
   },
   {
    "duration": 501,
    "start_time": "2022-09-20T20:18:41.460Z"
   },
   {
    "duration": 8,
    "start_time": "2022-09-20T20:18:41.963Z"
   },
   {
    "duration": 26,
    "start_time": "2022-09-20T20:18:41.972Z"
   },
   {
    "duration": 28,
    "start_time": "2022-09-20T20:18:42.022Z"
   },
   {
    "duration": 138,
    "start_time": "2022-09-20T20:18:42.051Z"
   },
   {
    "duration": 3,
    "start_time": "2022-09-20T20:18:42.191Z"
   },
   {
    "duration": 24,
    "start_time": "2022-09-20T20:20:38.882Z"
   },
   {
    "duration": 0,
    "start_time": "2022-09-20T20:45:17.234Z"
   },
   {
    "duration": 1089,
    "start_time": "2022-09-20T20:48:54.854Z"
   },
   {
    "duration": 3928,
    "start_time": "2022-09-20T20:48:55.945Z"
   },
   {
    "duration": 66,
    "start_time": "2022-09-20T20:48:59.874Z"
   },
   {
    "duration": 473,
    "start_time": "2022-09-20T20:48:59.942Z"
   },
   {
    "duration": 524,
    "start_time": "2022-09-20T20:49:00.416Z"
   },
   {
    "duration": 461,
    "start_time": "2022-09-20T20:49:00.942Z"
   },
   {
    "duration": 146,
    "start_time": "2022-09-20T20:49:01.405Z"
   },
   {
    "duration": 110,
    "start_time": "2022-09-20T20:49:01.553Z"
   },
   {
    "duration": 7,
    "start_time": "2022-09-20T20:49:01.665Z"
   },
   {
    "duration": 65,
    "start_time": "2022-09-20T20:49:01.674Z"
   },
   {
    "duration": 53,
    "start_time": "2022-09-20T20:49:01.742Z"
   },
   {
    "duration": 232,
    "start_time": "2022-09-20T20:49:01.797Z"
   },
   {
    "duration": 64,
    "start_time": "2022-09-20T20:49:02.031Z"
   },
   {
    "duration": 7,
    "start_time": "2022-09-20T20:49:02.097Z"
   },
   {
    "duration": 47,
    "start_time": "2022-09-20T20:49:02.105Z"
   },
   {
    "duration": 73,
    "start_time": "2022-09-20T20:49:02.154Z"
   },
   {
    "duration": 11,
    "start_time": "2022-09-20T20:49:02.228Z"
   },
   {
    "duration": 69,
    "start_time": "2022-09-20T20:49:02.240Z"
   },
   {
    "duration": 24,
    "start_time": "2022-09-20T20:49:02.310Z"
   },
   {
    "duration": 35,
    "start_time": "2022-09-20T20:49:02.336Z"
   },
   {
    "duration": 83,
    "start_time": "2022-09-20T20:49:02.373Z"
   },
   {
    "duration": 12,
    "start_time": "2022-09-20T20:49:02.457Z"
   },
   {
    "duration": 92,
    "start_time": "2022-09-20T20:49:02.471Z"
   },
   {
    "duration": 1472,
    "start_time": "2022-09-20T20:49:02.564Z"
   },
   {
    "duration": 37,
    "start_time": "2022-09-20T20:49:04.038Z"
   },
   {
    "duration": 84,
    "start_time": "2022-09-20T20:49:04.077Z"
   },
   {
    "duration": 31,
    "start_time": "2022-09-20T20:49:04.163Z"
   },
   {
    "duration": 43,
    "start_time": "2022-09-20T20:49:04.197Z"
   },
   {
    "duration": 30,
    "start_time": "2022-09-20T20:49:04.242Z"
   },
   {
    "duration": 24,
    "start_time": "2022-09-20T20:49:04.274Z"
   },
   {
    "duration": 28,
    "start_time": "2022-09-20T20:49:04.300Z"
   },
   {
    "duration": 32,
    "start_time": "2022-09-20T20:49:04.333Z"
   },
   {
    "duration": 23,
    "start_time": "2022-09-20T20:49:04.367Z"
   },
   {
    "duration": 39,
    "start_time": "2022-09-20T20:49:04.392Z"
   },
   {
    "duration": 15,
    "start_time": "2022-09-20T20:49:04.433Z"
   },
   {
    "duration": 11,
    "start_time": "2022-09-20T20:49:04.449Z"
   },
   {
    "duration": 21,
    "start_time": "2022-09-20T20:49:04.462Z"
   },
   {
    "duration": 67,
    "start_time": "2022-09-20T20:49:04.484Z"
   },
   {
    "duration": 13420,
    "start_time": "2022-09-20T20:49:04.554Z"
   },
   {
    "duration": 181835,
    "start_time": "2022-09-20T20:49:17.976Z"
   },
   {
    "duration": 0,
    "start_time": "2022-09-20T20:52:19.831Z"
   },
   {
    "duration": 0,
    "start_time": "2022-09-20T20:52:19.832Z"
   },
   {
    "duration": 0,
    "start_time": "2022-09-20T20:52:19.834Z"
   },
   {
    "duration": 0,
    "start_time": "2022-09-20T20:52:19.835Z"
   },
   {
    "duration": 0,
    "start_time": "2022-09-20T20:52:19.837Z"
   },
   {
    "duration": 0,
    "start_time": "2022-09-20T20:52:19.838Z"
   },
   {
    "duration": 0,
    "start_time": "2022-09-20T20:52:19.839Z"
   },
   {
    "duration": 0,
    "start_time": "2022-09-20T20:52:19.841Z"
   },
   {
    "duration": 0,
    "start_time": "2022-09-20T20:52:19.842Z"
   },
   {
    "duration": 0,
    "start_time": "2022-09-20T20:52:19.844Z"
   },
   {
    "duration": 616,
    "start_time": "2022-09-20T20:53:39.454Z"
   },
   {
    "duration": 1108,
    "start_time": "2022-09-20T20:56:04.043Z"
   },
   {
    "duration": 1674,
    "start_time": "2022-09-20T20:56:05.153Z"
   },
   {
    "duration": 49,
    "start_time": "2022-09-20T20:56:06.829Z"
   },
   {
    "duration": 513,
    "start_time": "2022-09-20T20:56:06.880Z"
   },
   {
    "duration": 504,
    "start_time": "2022-09-20T20:56:07.395Z"
   },
   {
    "duration": 419,
    "start_time": "2022-09-20T20:56:07.900Z"
   },
   {
    "duration": 135,
    "start_time": "2022-09-20T20:56:08.320Z"
   },
   {
    "duration": 89,
    "start_time": "2022-09-20T20:56:08.457Z"
   },
   {
    "duration": 6,
    "start_time": "2022-09-20T20:56:08.548Z"
   },
   {
    "duration": 42,
    "start_time": "2022-09-20T20:56:08.556Z"
   },
   {
    "duration": 69,
    "start_time": "2022-09-20T20:56:08.600Z"
   },
   {
    "duration": 232,
    "start_time": "2022-09-20T20:56:08.670Z"
   },
   {
    "duration": 73,
    "start_time": "2022-09-20T20:56:08.904Z"
   },
   {
    "duration": 8,
    "start_time": "2022-09-20T20:56:08.979Z"
   },
   {
    "duration": 57,
    "start_time": "2022-09-20T20:56:08.989Z"
   },
   {
    "duration": 91,
    "start_time": "2022-09-20T20:56:09.048Z"
   },
   {
    "duration": 9,
    "start_time": "2022-09-20T20:56:09.141Z"
   },
   {
    "duration": 75,
    "start_time": "2022-09-20T20:56:09.152Z"
   },
   {
    "duration": 9,
    "start_time": "2022-09-20T20:56:09.229Z"
   },
   {
    "duration": 38,
    "start_time": "2022-09-20T20:56:09.239Z"
   },
   {
    "duration": 16,
    "start_time": "2022-09-20T20:56:09.278Z"
   },
   {
    "duration": 38,
    "start_time": "2022-09-20T20:56:09.295Z"
   },
   {
    "duration": 100,
    "start_time": "2022-09-20T20:56:09.334Z"
   },
   {
    "duration": 1371,
    "start_time": "2022-09-20T20:56:09.435Z"
   },
   {
    "duration": 46,
    "start_time": "2022-09-20T20:56:10.808Z"
   },
   {
    "duration": 94,
    "start_time": "2022-09-20T20:56:10.856Z"
   },
   {
    "duration": 34,
    "start_time": "2022-09-20T20:56:10.952Z"
   },
   {
    "duration": 35,
    "start_time": "2022-09-20T20:56:10.989Z"
   },
   {
    "duration": 35,
    "start_time": "2022-09-20T20:56:11.037Z"
   },
   {
    "duration": 24,
    "start_time": "2022-09-20T20:56:11.074Z"
   },
   {
    "duration": 16,
    "start_time": "2022-09-20T20:56:11.099Z"
   },
   {
    "duration": 37,
    "start_time": "2022-09-20T20:56:11.117Z"
   },
   {
    "duration": 20,
    "start_time": "2022-09-20T20:56:11.155Z"
   },
   {
    "duration": 19,
    "start_time": "2022-09-20T20:56:11.177Z"
   },
   {
    "duration": 38,
    "start_time": "2022-09-20T20:56:11.198Z"
   },
   {
    "duration": 11,
    "start_time": "2022-09-20T20:56:11.237Z"
   },
   {
    "duration": 19,
    "start_time": "2022-09-20T20:56:11.249Z"
   },
   {
    "duration": 42,
    "start_time": "2022-09-20T20:56:11.270Z"
   },
   {
    "duration": 13456,
    "start_time": "2022-09-20T20:56:11.314Z"
   },
   {
    "duration": 16,
    "start_time": "2022-09-20T20:56:24.771Z"
   },
   {
    "duration": 98,
    "start_time": "2022-09-20T20:56:24.788Z"
   },
   {
    "duration": 307,
    "start_time": "2022-09-20T20:56:24.887Z"
   },
   {
    "duration": 968,
    "start_time": "2022-09-20T20:56:25.196Z"
   },
   {
    "duration": 284,
    "start_time": "2022-09-20T20:56:26.166Z"
   },
   {
    "duration": 15,
    "start_time": "2022-09-20T20:56:26.452Z"
   },
   {
    "duration": 446,
    "start_time": "2022-09-20T20:56:26.469Z"
   },
   {
    "duration": 17,
    "start_time": "2022-09-20T20:56:26.917Z"
   },
   {
    "duration": 25,
    "start_time": "2022-09-20T20:56:26.936Z"
   },
   {
    "duration": 25,
    "start_time": "2022-09-20T20:56:26.963Z"
   },
   {
    "duration": 1532,
    "start_time": "2022-09-21T08:13:46.226Z"
   },
   {
    "duration": 1617,
    "start_time": "2022-09-21T08:13:47.760Z"
   },
   {
    "duration": 62,
    "start_time": "2022-09-21T08:13:49.378Z"
   },
   {
    "duration": 478,
    "start_time": "2022-09-21T08:13:49.442Z"
   },
   {
    "duration": 540,
    "start_time": "2022-09-21T08:13:49.922Z"
   },
   {
    "duration": 455,
    "start_time": "2022-09-21T08:13:50.464Z"
   },
   {
    "duration": 116,
    "start_time": "2022-09-21T08:13:50.921Z"
   },
   {
    "duration": 102,
    "start_time": "2022-09-21T08:13:51.039Z"
   },
   {
    "duration": 8,
    "start_time": "2022-09-21T08:13:51.143Z"
   },
   {
    "duration": 58,
    "start_time": "2022-09-21T08:13:51.153Z"
   },
   {
    "duration": 47,
    "start_time": "2022-09-21T08:13:51.213Z"
   },
   {
    "duration": 232,
    "start_time": "2022-09-21T08:13:51.276Z"
   },
   {
    "duration": 85,
    "start_time": "2022-09-21T08:13:51.510Z"
   },
   {
    "duration": 9,
    "start_time": "2022-09-21T08:13:51.598Z"
   },
   {
    "duration": 63,
    "start_time": "2022-09-21T08:13:51.609Z"
   },
   {
    "duration": 90,
    "start_time": "2022-09-21T08:13:51.674Z"
   },
   {
    "duration": 10,
    "start_time": "2022-09-21T08:13:51.765Z"
   },
   {
    "duration": 125,
    "start_time": "2022-09-21T08:13:51.776Z"
   },
   {
    "duration": 6,
    "start_time": "2022-09-21T08:13:51.903Z"
   },
   {
    "duration": 54,
    "start_time": "2022-09-21T08:13:51.911Z"
   },
   {
    "duration": 18,
    "start_time": "2022-09-21T08:13:51.967Z"
   },
   {
    "duration": 12,
    "start_time": "2022-09-21T08:13:51.987Z"
   },
   {
    "duration": 117,
    "start_time": "2022-09-21T08:13:52.001Z"
   },
   {
    "duration": 1615,
    "start_time": "2022-09-21T08:13:52.120Z"
   },
   {
    "duration": 44,
    "start_time": "2022-09-21T08:13:53.736Z"
   },
   {
    "duration": 74,
    "start_time": "2022-09-21T08:13:53.782Z"
   },
   {
    "duration": 41,
    "start_time": "2022-09-21T08:13:53.858Z"
   },
   {
    "duration": 20,
    "start_time": "2022-09-21T08:13:53.901Z"
   },
   {
    "duration": 29,
    "start_time": "2022-09-21T08:13:53.923Z"
   },
   {
    "duration": 38,
    "start_time": "2022-09-21T08:13:53.953Z"
   },
   {
    "duration": 17,
    "start_time": "2022-09-21T08:13:53.993Z"
   },
   {
    "duration": 29,
    "start_time": "2022-09-21T08:13:54.012Z"
   },
   {
    "duration": 39,
    "start_time": "2022-09-21T08:13:54.043Z"
   },
   {
    "duration": 19,
    "start_time": "2022-09-21T08:13:54.084Z"
   },
   {
    "duration": 101,
    "start_time": "2022-09-21T08:13:54.105Z"
   },
   {
    "duration": 14,
    "start_time": "2022-09-21T08:13:54.208Z"
   },
   {
    "duration": 25,
    "start_time": "2022-09-21T08:13:54.224Z"
   },
   {
    "duration": 69,
    "start_time": "2022-09-21T08:13:54.251Z"
   },
   {
    "duration": 14666,
    "start_time": "2022-09-21T08:13:54.322Z"
   },
   {
    "duration": 16,
    "start_time": "2022-09-21T08:14:08.989Z"
   },
   {
    "duration": 105,
    "start_time": "2022-09-21T08:14:09.008Z"
   },
   {
    "duration": 798,
    "start_time": "2022-09-21T08:14:09.114Z"
   },
   {
    "duration": 603,
    "start_time": "2022-09-21T08:14:09.913Z"
   },
   {
    "duration": 325,
    "start_time": "2022-09-21T08:14:10.517Z"
   },
   {
    "duration": 18,
    "start_time": "2022-09-21T08:14:10.843Z"
   },
   {
    "duration": 522,
    "start_time": "2022-09-21T08:14:10.863Z"
   },
   {
    "duration": 9,
    "start_time": "2022-09-21T08:14:11.387Z"
   },
   {
    "duration": 28,
    "start_time": "2022-09-21T08:14:11.398Z"
   },
   {
    "duration": 55,
    "start_time": "2022-09-21T08:14:11.428Z"
   },
   {
    "duration": 13,
    "start_time": "2022-09-21T08:26:09.678Z"
   },
   {
    "duration": 106,
    "start_time": "2022-09-21T08:26:17.359Z"
   },
   {
    "duration": 3,
    "start_time": "2022-09-21T08:26:54.508Z"
   },
   {
    "duration": 64,
    "start_time": "2022-09-21T08:35:12.000Z"
   },
   {
    "duration": 62,
    "start_time": "2022-09-21T08:35:58.267Z"
   },
   {
    "duration": 3,
    "start_time": "2022-09-21T08:36:41.032Z"
   },
   {
    "duration": 2,
    "start_time": "2022-09-21T08:37:11.866Z"
   },
   {
    "duration": 3,
    "start_time": "2022-09-21T08:37:19.255Z"
   },
   {
    "duration": 3,
    "start_time": "2022-09-21T08:37:20.152Z"
   },
   {
    "duration": 2,
    "start_time": "2022-09-21T08:41:13.361Z"
   },
   {
    "duration": 79,
    "start_time": "2022-09-21T08:41:18.112Z"
   },
   {
    "duration": 1083,
    "start_time": "2022-09-21T08:41:38.673Z"
   },
   {
    "duration": 2145,
    "start_time": "2022-09-21T08:42:17.073Z"
   },
   {
    "duration": 2,
    "start_time": "2022-09-21T08:47:54.317Z"
   },
   {
    "duration": 3,
    "start_time": "2022-09-21T08:47:58.583Z"
   },
   {
    "duration": 4,
    "start_time": "2022-09-21T08:48:21.920Z"
   },
   {
    "duration": 8,
    "start_time": "2022-09-21T09:28:20.940Z"
   },
   {
    "duration": 10,
    "start_time": "2022-09-21T09:28:49.427Z"
   },
   {
    "duration": 3,
    "start_time": "2022-09-21T09:28:55.852Z"
   },
   {
    "duration": 9,
    "start_time": "2022-09-21T09:29:03.380Z"
   },
   {
    "duration": 10,
    "start_time": "2022-09-21T09:31:56.580Z"
   },
   {
    "duration": 4,
    "start_time": "2022-09-21T09:32:08.870Z"
   },
   {
    "duration": 9,
    "start_time": "2022-09-21T09:39:36.813Z"
   },
   {
    "duration": 14,
    "start_time": "2022-09-21T09:39:42.999Z"
   },
   {
    "duration": 3,
    "start_time": "2022-09-21T09:39:50.790Z"
   },
   {
    "duration": 9,
    "start_time": "2022-09-21T09:39:51.965Z"
   },
   {
    "duration": 9,
    "start_time": "2022-09-21T09:39:58.251Z"
   },
   {
    "duration": 3,
    "start_time": "2022-09-21T09:41:24.094Z"
   },
   {
    "duration": 20,
    "start_time": "2022-09-21T09:41:24.759Z"
   },
   {
    "duration": 4,
    "start_time": "2022-09-21T09:42:36.391Z"
   },
   {
    "duration": 13,
    "start_time": "2022-09-21T09:42:53.335Z"
   },
   {
    "duration": 13,
    "start_time": "2022-09-21T09:43:19.239Z"
   },
   {
    "duration": 15,
    "start_time": "2022-09-21T09:43:33.815Z"
   },
   {
    "duration": 3,
    "start_time": "2022-09-21T09:44:24.654Z"
   },
   {
    "duration": 12,
    "start_time": "2022-09-21T09:44:28.921Z"
   },
   {
    "duration": 3,
    "start_time": "2022-09-21T09:45:51.695Z"
   },
   {
    "duration": 3,
    "start_time": "2022-09-21T09:45:52.590Z"
   },
   {
    "duration": 40,
    "start_time": "2022-09-21T09:45:53.679Z"
   },
   {
    "duration": 583,
    "start_time": "2022-09-21T09:50:10.823Z"
   },
   {
    "duration": 1645,
    "start_time": "2022-09-21T09:50:41.887Z"
   },
   {
    "duration": 28,
    "start_time": "2022-09-21T09:50:44.831Z"
   },
   {
    "duration": 44,
    "start_time": "2022-09-21T09:50:46.847Z"
   },
   {
    "duration": 4,
    "start_time": "2022-09-21T09:50:47.958Z"
   },
   {
    "duration": 3,
    "start_time": "2022-09-21T09:50:49.446Z"
   },
   {
    "duration": 45,
    "start_time": "2022-09-21T09:55:25.852Z"
   },
   {
    "duration": 57,
    "start_time": "2022-09-21T09:57:47.481Z"
   },
   {
    "duration": 1384,
    "start_time": "2022-09-21T09:58:01.723Z"
   },
   {
    "duration": 2191,
    "start_time": "2022-09-21T09:58:03.109Z"
   },
   {
    "duration": 67,
    "start_time": "2022-09-21T09:58:05.303Z"
   },
   {
    "duration": 518,
    "start_time": "2022-09-21T09:58:05.376Z"
   },
   {
    "duration": 557,
    "start_time": "2022-09-21T09:58:05.896Z"
   },
   {
    "duration": 486,
    "start_time": "2022-09-21T09:58:06.455Z"
   },
   {
    "duration": 139,
    "start_time": "2022-09-21T09:58:06.943Z"
   },
   {
    "duration": 105,
    "start_time": "2022-09-21T09:58:07.084Z"
   },
   {
    "duration": 7,
    "start_time": "2022-09-21T09:58:07.191Z"
   },
   {
    "duration": 44,
    "start_time": "2022-09-21T09:58:07.201Z"
   },
   {
    "duration": 65,
    "start_time": "2022-09-21T09:58:07.246Z"
   },
   {
    "duration": 233,
    "start_time": "2022-09-21T09:58:07.313Z"
   },
   {
    "duration": 75,
    "start_time": "2022-09-21T09:58:07.548Z"
   },
   {
    "duration": 7,
    "start_time": "2022-09-21T09:58:07.624Z"
   },
   {
    "duration": 56,
    "start_time": "2022-09-21T09:58:07.632Z"
   },
   {
    "duration": 89,
    "start_time": "2022-09-21T09:58:07.690Z"
   },
   {
    "duration": 10,
    "start_time": "2022-09-21T09:58:07.782Z"
   },
   {
    "duration": 83,
    "start_time": "2022-09-21T09:58:07.794Z"
   },
   {
    "duration": 12,
    "start_time": "2022-09-21T09:58:07.879Z"
   },
   {
    "duration": 47,
    "start_time": "2022-09-21T09:58:07.892Z"
   },
   {
    "duration": 18,
    "start_time": "2022-09-21T09:58:07.940Z"
   },
   {
    "duration": 28,
    "start_time": "2022-09-21T09:58:07.960Z"
   },
   {
    "duration": 112,
    "start_time": "2022-09-21T09:58:07.990Z"
   },
   {
    "duration": 1616,
    "start_time": "2022-09-21T09:58:08.103Z"
   },
   {
    "duration": 39,
    "start_time": "2022-09-21T09:58:09.721Z"
   },
   {
    "duration": 79,
    "start_time": "2022-09-21T09:58:09.761Z"
   },
   {
    "duration": 35,
    "start_time": "2022-09-21T09:58:09.842Z"
   },
   {
    "duration": 23,
    "start_time": "2022-09-21T09:58:09.882Z"
   },
   {
    "duration": 30,
    "start_time": "2022-09-21T09:58:09.908Z"
   },
   {
    "duration": 43,
    "start_time": "2022-09-21T09:58:09.940Z"
   },
   {
    "duration": 20,
    "start_time": "2022-09-21T09:58:09.985Z"
   },
   {
    "duration": 27,
    "start_time": "2022-09-21T09:58:10.007Z"
   },
   {
    "duration": 25,
    "start_time": "2022-09-21T09:58:10.035Z"
   },
   {
    "duration": 48,
    "start_time": "2022-09-21T09:58:10.062Z"
   },
   {
    "duration": 12,
    "start_time": "2022-09-21T09:58:10.112Z"
   },
   {
    "duration": 11,
    "start_time": "2022-09-21T09:58:10.125Z"
   },
   {
    "duration": 22,
    "start_time": "2022-09-21T09:58:10.137Z"
   },
   {
    "duration": 65,
    "start_time": "2022-09-21T09:58:10.160Z"
   },
   {
    "duration": 16531,
    "start_time": "2022-09-21T09:58:10.227Z"
   },
   {
    "duration": 29,
    "start_time": "2022-09-21T09:58:26.760Z"
   },
   {
    "duration": 102,
    "start_time": "2022-09-21T09:58:26.791Z"
   },
   {
    "duration": 846,
    "start_time": "2022-09-21T09:58:26.895Z"
   },
   {
    "duration": 641,
    "start_time": "2022-09-21T09:58:27.743Z"
   },
   {
    "duration": 363,
    "start_time": "2022-09-21T09:58:28.386Z"
   },
   {
    "duration": 17,
    "start_time": "2022-09-21T09:58:28.750Z"
   },
   {
    "duration": 539,
    "start_time": "2022-09-21T09:58:28.769Z"
   },
   {
    "duration": 8,
    "start_time": "2022-09-21T09:58:29.310Z"
   },
   {
    "duration": 46,
    "start_time": "2022-09-21T09:58:29.320Z"
   },
   {
    "duration": 33,
    "start_time": "2022-09-21T09:58:29.367Z"
   },
   {
    "duration": 353,
    "start_time": "2022-09-21T09:58:29.401Z"
   },
   {
    "duration": 99,
    "start_time": "2022-09-21T09:58:29.755Z"
   },
   {
    "duration": 0,
    "start_time": "2022-09-21T09:58:29.856Z"
   },
   {
    "duration": 0,
    "start_time": "2022-09-21T09:58:29.857Z"
   },
   {
    "duration": 0,
    "start_time": "2022-09-21T09:58:29.859Z"
   },
   {
    "duration": 0,
    "start_time": "2022-09-21T09:58:29.860Z"
   },
   {
    "duration": 0,
    "start_time": "2022-09-21T09:58:29.862Z"
   },
   {
    "duration": 0,
    "start_time": "2022-09-21T09:58:29.863Z"
   },
   {
    "duration": 0,
    "start_time": "2022-09-21T09:58:29.864Z"
   },
   {
    "duration": 24,
    "start_time": "2022-09-21T09:58:38.675Z"
   },
   {
    "duration": 43,
    "start_time": "2022-09-21T09:58:42.926Z"
   },
   {
    "duration": 3,
    "start_time": "2022-09-21T09:58:47.444Z"
   },
   {
    "duration": 3,
    "start_time": "2022-09-21T09:58:50.730Z"
   },
   {
    "duration": 692,
    "start_time": "2022-09-21T09:58:54.979Z"
   },
   {
    "duration": 3,
    "start_time": "2022-09-21T10:00:03.381Z"
   },
   {
    "duration": 4,
    "start_time": "2022-09-21T10:00:04.957Z"
   },
   {
    "duration": 174053,
    "start_time": "2022-09-21T10:00:11.539Z"
   },
   {
    "duration": 3,
    "start_time": "2022-09-21T10:05:40.034Z"
   },
   {
    "duration": 4,
    "start_time": "2022-09-21T10:06:28.619Z"
   },
   {
    "duration": 360,
    "start_time": "2022-09-21T10:06:38.020Z"
   },
   {
    "duration": 5,
    "start_time": "2022-09-21T10:07:26.284Z"
   },
   {
    "duration": 8,
    "start_time": "2022-09-21T10:11:52.650Z"
   },
   {
    "duration": 12,
    "start_time": "2022-09-21T10:12:11.252Z"
   },
   {
    "duration": 4,
    "start_time": "2022-09-21T10:12:50.653Z"
   },
   {
    "duration": 3,
    "start_time": "2022-09-21T10:12:52.068Z"
   },
   {
    "duration": 3717,
    "start_time": "2022-09-21T10:12:58.981Z"
   },
   {
    "duration": 9,
    "start_time": "2022-09-21T10:13:43.281Z"
   },
   {
    "duration": 4,
    "start_time": "2022-09-21T10:15:14.796Z"
   },
   {
    "duration": 45,
    "start_time": "2022-09-21T10:17:53.268Z"
   },
   {
    "duration": 3,
    "start_time": "2022-09-21T10:18:09.374Z"
   },
   {
    "duration": 2,
    "start_time": "2022-09-21T10:18:09.925Z"
   },
   {
    "duration": 3,
    "start_time": "2022-09-21T10:18:47.958Z"
   },
   {
    "duration": 3,
    "start_time": "2022-09-21T10:19:05.581Z"
   },
   {
    "duration": 131728,
    "start_time": "2022-09-21T10:22:38.149Z"
   },
   {
    "duration": 5,
    "start_time": "2022-09-21T10:26:01.357Z"
   },
   {
    "duration": 11,
    "start_time": "2022-09-21T10:26:39.745Z"
   },
   {
    "duration": 54,
    "start_time": "2022-09-21T10:31:34.213Z"
   },
   {
    "duration": 4,
    "start_time": "2022-09-21T10:38:53.613Z"
   },
   {
    "duration": 36412,
    "start_time": "2022-09-21T10:39:00.069Z"
   },
   {
    "duration": 18347,
    "start_time": "2022-09-21T10:40:31.147Z"
   },
   {
    "duration": 330,
    "start_time": "2022-09-21T10:41:06.566Z"
   },
   {
    "duration": 4,
    "start_time": "2022-09-21T10:41:09.559Z"
   },
   {
    "duration": 3,
    "start_time": "2022-09-21T10:42:33.943Z"
   },
   {
    "duration": 87,
    "start_time": "2022-09-21T10:42:52.453Z"
   },
   {
    "duration": 92,
    "start_time": "2022-09-21T10:47:17.599Z"
   },
   {
    "duration": 9,
    "start_time": "2022-09-21T10:47:34.566Z"
   },
   {
    "duration": 55,
    "start_time": "2022-09-21T10:48:22.990Z"
   },
   {
    "duration": 4,
    "start_time": "2022-09-21T10:48:23.934Z"
   },
   {
    "duration": 3,
    "start_time": "2022-09-21T10:48:25.052Z"
   },
   {
    "duration": 2577,
    "start_time": "2022-09-21T10:48:26.509Z"
   },
   {
    "duration": 64,
    "start_time": "2022-09-21T10:48:53.374Z"
   },
   {
    "duration": 3,
    "start_time": "2022-09-21T10:48:54.152Z"
   },
   {
    "duration": 8,
    "start_time": "2022-09-21T10:48:57.174Z"
   },
   {
    "duration": 55,
    "start_time": "2022-09-21T10:48:58.055Z"
   },
   {
    "duration": 3,
    "start_time": "2022-09-21T10:48:58.750Z"
   },
   {
    "duration": 2,
    "start_time": "2022-09-21T10:48:59.760Z"
   },
   {
    "duration": 70019,
    "start_time": "2022-09-21T10:49:00.966Z"
   },
   {
    "duration": 4180,
    "start_time": "2022-09-21T10:52:16.503Z"
   },
   {
    "duration": 368,
    "start_time": "2022-09-21T10:52:26.126Z"
   },
   {
    "duration": 5,
    "start_time": "2022-09-21T10:52:27.415Z"
   },
   {
    "duration": 64,
    "start_time": "2022-09-21T10:57:52.249Z"
   },
   {
    "duration": 3,
    "start_time": "2022-09-21T10:58:40.494Z"
   },
   {
    "duration": 182,
    "start_time": "2022-09-21T11:08:16.362Z"
   },
   {
    "duration": 374,
    "start_time": "2022-09-21T11:14:42.121Z"
   },
   {
    "duration": 7,
    "start_time": "2022-09-21T11:14:43.499Z"
   },
   {
    "duration": 6,
    "start_time": "2022-09-21T11:15:05.719Z"
   },
   {
    "duration": 3,
    "start_time": "2022-09-21T11:15:37.431Z"
   },
   {
    "duration": 163607,
    "start_time": "2022-09-21T11:15:38.672Z"
   },
   {
    "duration": 3,
    "start_time": "2022-09-21T11:18:22.282Z"
   },
   {
    "duration": 78,
    "start_time": "2022-09-21T11:28:02.455Z"
   },
   {
    "duration": 97,
    "start_time": "2022-09-21T11:28:05.566Z"
   },
   {
    "duration": 406,
    "start_time": "2022-09-21T11:28:17.984Z"
   },
   {
    "duration": 5,
    "start_time": "2022-09-21T11:30:26.200Z"
   },
   {
    "duration": 186,
    "start_time": "2022-09-21T11:30:28.856Z"
   },
   {
    "duration": 189,
    "start_time": "2022-09-21T11:30:46.555Z"
   },
   {
    "duration": 3,
    "start_time": "2022-09-21T11:35:24.785Z"
   },
   {
    "duration": 10,
    "start_time": "2022-09-21T11:36:38.479Z"
   },
   {
    "duration": 11,
    "start_time": "2022-09-21T11:37:15.652Z"
   },
   {
    "duration": 3884,
    "start_time": "2022-09-21T11:37:38.201Z"
   },
   {
    "duration": 344,
    "start_time": "2022-09-21T11:37:51.336Z"
   },
   {
    "duration": 5,
    "start_time": "2022-09-21T11:37:51.825Z"
   },
   {
    "duration": 4,
    "start_time": "2022-09-21T11:38:21.824Z"
   },
   {
    "duration": 141185,
    "start_time": "2022-09-21T11:38:22.792Z"
   },
   {
    "duration": 357,
    "start_time": "2022-09-21T11:41:19.138Z"
   },
   {
    "duration": 5,
    "start_time": "2022-09-21T11:41:20.225Z"
   },
   {
    "duration": 164,
    "start_time": "2022-09-21T11:41:23.650Z"
   },
   {
    "duration": 10,
    "start_time": "2022-09-21T11:45:31.193Z"
   },
   {
    "duration": 15,
    "start_time": "2022-09-21T11:46:32.194Z"
   },
   {
    "duration": 10,
    "start_time": "2022-09-21T11:46:47.961Z"
   },
   {
    "duration": 4,
    "start_time": "2022-09-21T11:47:54.785Z"
   },
   {
    "duration": 82654,
    "start_time": "2022-09-21T11:47:56.322Z"
   },
   {
    "duration": 173,
    "start_time": "2022-09-21T11:50:10.121Z"
   },
   {
    "duration": 1493,
    "start_time": "2022-09-21T11:52:31.157Z"
   },
   {
    "duration": 1782,
    "start_time": "2022-09-21T11:52:32.653Z"
   },
   {
    "duration": 67,
    "start_time": "2022-09-21T11:52:34.437Z"
   },
   {
    "duration": 510,
    "start_time": "2022-09-21T11:52:34.505Z"
   },
   {
    "duration": 613,
    "start_time": "2022-09-21T11:52:35.017Z"
   },
   {
    "duration": 500,
    "start_time": "2022-09-21T11:52:35.632Z"
   },
   {
    "duration": 112,
    "start_time": "2022-09-21T11:52:36.134Z"
   },
   {
    "duration": 104,
    "start_time": "2022-09-21T11:52:36.247Z"
   },
   {
    "duration": 7,
    "start_time": "2022-09-21T11:52:36.354Z"
   },
   {
    "duration": 55,
    "start_time": "2022-09-21T11:52:36.363Z"
   },
   {
    "duration": 57,
    "start_time": "2022-09-21T11:52:36.420Z"
   },
   {
    "duration": 253,
    "start_time": "2022-09-21T11:52:36.479Z"
   },
   {
    "duration": 68,
    "start_time": "2022-09-21T11:52:36.733Z"
   },
   {
    "duration": 6,
    "start_time": "2022-09-21T11:52:36.805Z"
   },
   {
    "duration": 41,
    "start_time": "2022-09-21T11:52:36.813Z"
   },
   {
    "duration": 81,
    "start_time": "2022-09-21T11:52:36.855Z"
   },
   {
    "duration": 7,
    "start_time": "2022-09-21T11:52:36.938Z"
   },
   {
    "duration": 90,
    "start_time": "2022-09-21T11:52:36.947Z"
   },
   {
    "duration": 7,
    "start_time": "2022-09-21T11:52:37.038Z"
   },
   {
    "duration": 53,
    "start_time": "2022-09-21T11:52:37.046Z"
   },
   {
    "duration": 19,
    "start_time": "2022-09-21T11:52:37.101Z"
   },
   {
    "duration": 14,
    "start_time": "2022-09-21T11:52:37.122Z"
   },
   {
    "duration": 111,
    "start_time": "2022-09-21T11:52:37.138Z"
   },
   {
    "duration": 1581,
    "start_time": "2022-09-21T11:52:37.251Z"
   },
   {
    "duration": 58,
    "start_time": "2022-09-21T11:52:38.833Z"
   },
   {
    "duration": 64,
    "start_time": "2022-09-21T11:52:38.894Z"
   },
   {
    "duration": 34,
    "start_time": "2022-09-21T11:52:38.960Z"
   },
   {
    "duration": 17,
    "start_time": "2022-09-21T11:52:38.995Z"
   },
   {
    "duration": 26,
    "start_time": "2022-09-21T11:52:39.014Z"
   },
   {
    "duration": 15,
    "start_time": "2022-09-21T11:52:39.041Z"
   },
   {
    "duration": 19,
    "start_time": "2022-09-21T11:52:39.084Z"
   },
   {
    "duration": 27,
    "start_time": "2022-09-21T11:52:39.105Z"
   },
   {
    "duration": 16,
    "start_time": "2022-09-21T11:52:39.134Z"
   },
   {
    "duration": 43,
    "start_time": "2022-09-21T11:52:39.152Z"
   },
   {
    "duration": 11,
    "start_time": "2022-09-21T11:52:39.197Z"
   },
   {
    "duration": 10,
    "start_time": "2022-09-21T11:52:39.210Z"
   },
   {
    "duration": 22,
    "start_time": "2022-09-21T11:52:39.221Z"
   },
   {
    "duration": 81,
    "start_time": "2022-09-21T11:52:39.244Z"
   },
   {
    "duration": 15719,
    "start_time": "2022-09-21T11:52:39.327Z"
   },
   {
    "duration": 17,
    "start_time": "2022-09-21T11:52:55.048Z"
   },
   {
    "duration": 89,
    "start_time": "2022-09-21T11:52:55.079Z"
   },
   {
    "duration": 866,
    "start_time": "2022-09-21T11:52:55.176Z"
   },
   {
    "duration": 613,
    "start_time": "2022-09-21T11:52:56.044Z"
   },
   {
    "duration": 342,
    "start_time": "2022-09-21T11:52:56.658Z"
   },
   {
    "duration": 21,
    "start_time": "2022-09-21T11:52:57.002Z"
   },
   {
    "duration": 504,
    "start_time": "2022-09-21T11:52:57.025Z"
   },
   {
    "duration": 8,
    "start_time": "2022-09-21T11:52:57.531Z"
   },
   {
    "duration": 48,
    "start_time": "2022-09-21T11:52:57.540Z"
   },
   {
    "duration": 27,
    "start_time": "2022-09-21T11:52:57.590Z"
   },
   {
    "duration": 345,
    "start_time": "2022-09-21T11:52:57.619Z"
   },
   {
    "duration": 29,
    "start_time": "2022-09-21T11:52:57.965Z"
   },
   {
    "duration": 66,
    "start_time": "2022-09-21T11:52:57.996Z"
   },
   {
    "duration": 4,
    "start_time": "2022-09-21T11:52:58.063Z"
   },
   {
    "duration": 19,
    "start_time": "2022-09-21T11:52:58.076Z"
   },
   {
    "duration": 23682,
    "start_time": "2022-09-21T11:52:58.097Z"
   },
   {
    "duration": 652,
    "start_time": "2022-09-21T11:53:21.781Z"
   },
   {
    "duration": 199,
    "start_time": "2022-09-21T11:53:22.434Z"
   },
   {
    "duration": 3,
    "start_time": "2022-09-21T11:53:22.634Z"
   },
   {
    "duration": 17256,
    "start_time": "2022-09-21T11:53:22.639Z"
   },
   {
    "duration": 446,
    "start_time": "2022-09-21T11:53:39.897Z"
   },
   {
    "duration": 12,
    "start_time": "2022-09-21T12:14:39.225Z"
   },
   {
    "duration": 3,
    "start_time": "2022-09-21T12:33:33.970Z"
   },
   {
    "duration": 176602,
    "start_time": "2022-09-21T12:33:35.403Z"
   },
   {
    "duration": 608,
    "start_time": "2022-09-21T12:37:25.895Z"
   },
   {
    "duration": 399,
    "start_time": "2022-09-21T12:37:43.993Z"
   },
   {
    "duration": 3,
    "start_time": "2022-09-21T12:37:53.544Z"
   },
   {
    "duration": 425,
    "start_time": "2022-09-21T12:38:16.767Z"
   },
   {
    "duration": 4,
    "start_time": "2022-09-21T12:39:15.753Z"
   },
   {
    "duration": 71433,
    "start_time": "2022-09-21T12:39:17.172Z"
   },
   {
    "duration": 478,
    "start_time": "2022-09-21T12:40:32.427Z"
   },
   {
    "duration": 225,
    "start_time": "2022-09-21T12:40:40.570Z"
   },
   {
    "duration": 4,
    "start_time": "2022-09-21T12:41:27.820Z"
   },
   {
    "duration": 143206,
    "start_time": "2022-09-21T12:41:29.025Z"
   },
   {
    "duration": 20,
    "start_time": "2022-09-21T12:47:48.178Z"
   },
   {
    "duration": 105,
    "start_time": "2022-09-21T12:48:34.978Z"
   },
   {
    "duration": 204,
    "start_time": "2022-09-21T12:48:56.072Z"
   },
   {
    "duration": 18,
    "start_time": "2022-09-21T12:49:06.874Z"
   },
   {
    "duration": 24,
    "start_time": "2022-09-21T12:49:28.174Z"
   },
   {
    "duration": 32,
    "start_time": "2022-09-21T12:49:34.811Z"
   },
   {
    "duration": 18,
    "start_time": "2022-09-21T12:49:41.780Z"
   },
   {
    "duration": 4,
    "start_time": "2022-09-21T12:49:48.002Z"
   },
   {
    "duration": 4,
    "start_time": "2022-09-21T12:50:27.154Z"
   },
   {
    "duration": 6,
    "start_time": "2022-09-21T12:52:58.803Z"
   },
   {
    "duration": 6,
    "start_time": "2022-09-21T12:53:14.904Z"
   },
   {
    "duration": 364,
    "start_time": "2022-09-21T12:55:20.499Z"
   },
   {
    "duration": 19,
    "start_time": "2022-09-21T12:56:56.808Z"
   },
   {
    "duration": 1831,
    "start_time": "2022-09-21T12:57:34.482Z"
   },
   {
    "duration": 2129,
    "start_time": "2022-09-21T12:57:36.316Z"
   },
   {
    "duration": 82,
    "start_time": "2022-09-21T12:57:38.447Z"
   },
   {
    "duration": 789,
    "start_time": "2022-09-21T12:57:38.532Z"
   },
   {
    "duration": 838,
    "start_time": "2022-09-21T12:57:39.324Z"
   },
   {
    "duration": 736,
    "start_time": "2022-09-21T12:57:40.164Z"
   },
   {
    "duration": 204,
    "start_time": "2022-09-21T12:57:40.906Z"
   },
   {
    "duration": 133,
    "start_time": "2022-09-21T12:57:41.113Z"
   },
   {
    "duration": 29,
    "start_time": "2022-09-21T12:57:41.248Z"
   },
   {
    "duration": 53,
    "start_time": "2022-09-21T12:57:41.280Z"
   },
   {
    "duration": 87,
    "start_time": "2022-09-21T12:57:41.335Z"
   },
   {
    "duration": 380,
    "start_time": "2022-09-21T12:57:41.425Z"
   },
   {
    "duration": 98,
    "start_time": "2022-09-21T12:57:41.808Z"
   },
   {
    "duration": 11,
    "start_time": "2022-09-21T12:57:41.908Z"
   },
   {
    "duration": 67,
    "start_time": "2022-09-21T12:57:41.921Z"
   },
   {
    "duration": 93,
    "start_time": "2022-09-21T12:57:41.990Z"
   },
   {
    "duration": 11,
    "start_time": "2022-09-21T12:57:42.085Z"
   },
   {
    "duration": 116,
    "start_time": "2022-09-21T12:57:42.098Z"
   },
   {
    "duration": 8,
    "start_time": "2022-09-21T12:57:42.216Z"
   },
   {
    "duration": 58,
    "start_time": "2022-09-21T12:57:42.226Z"
   },
   {
    "duration": 20,
    "start_time": "2022-09-21T12:57:42.286Z"
   },
   {
    "duration": 16,
    "start_time": "2022-09-21T12:57:42.309Z"
   },
   {
    "duration": 161,
    "start_time": "2022-09-21T12:57:42.327Z"
   },
   {
    "duration": 2394,
    "start_time": "2022-09-21T12:57:42.490Z"
   },
   {
    "duration": 66,
    "start_time": "2022-09-21T12:57:44.887Z"
   },
   {
    "duration": 129,
    "start_time": "2022-09-21T12:57:44.956Z"
   },
   {
    "duration": 53,
    "start_time": "2022-09-21T12:57:45.087Z"
   },
   {
    "duration": 37,
    "start_time": "2022-09-21T12:57:45.146Z"
   },
   {
    "duration": 42,
    "start_time": "2022-09-21T12:57:45.184Z"
   },
   {
    "duration": 35,
    "start_time": "2022-09-21T12:57:45.228Z"
   },
   {
    "duration": 50,
    "start_time": "2022-09-21T12:57:45.266Z"
   },
   {
    "duration": 67,
    "start_time": "2022-09-21T12:57:45.320Z"
   },
   {
    "duration": 31,
    "start_time": "2022-09-21T12:57:45.393Z"
   },
   {
    "duration": 129,
    "start_time": "2022-09-21T12:57:45.427Z"
   },
   {
    "duration": 17,
    "start_time": "2022-09-21T12:57:45.558Z"
   },
   {
    "duration": 15,
    "start_time": "2022-09-21T12:57:45.576Z"
   },
   {
    "duration": 28,
    "start_time": "2022-09-21T12:57:45.593Z"
   },
   {
    "duration": 77,
    "start_time": "2022-09-21T12:57:45.623Z"
   },
   {
    "duration": 15869,
    "start_time": "2022-09-21T12:57:45.702Z"
   },
   {
    "duration": 26,
    "start_time": "2022-09-21T12:58:01.576Z"
   },
   {
    "duration": 140,
    "start_time": "2022-09-21T12:58:01.604Z"
   },
   {
    "duration": 1167,
    "start_time": "2022-09-21T12:58:01.746Z"
   },
   {
    "duration": 995,
    "start_time": "2022-09-21T12:58:02.915Z"
   },
   {
    "duration": 503,
    "start_time": "2022-09-21T12:58:03.914Z"
   },
   {
    "duration": 23,
    "start_time": "2022-09-21T12:58:04.419Z"
   },
   {
    "duration": 649,
    "start_time": "2022-09-21T12:58:04.445Z"
   },
   {
    "duration": 12,
    "start_time": "2022-09-21T12:58:05.096Z"
   },
   {
    "duration": 47,
    "start_time": "2022-09-21T12:58:05.110Z"
   },
   {
    "duration": 60,
    "start_time": "2022-09-21T12:58:05.160Z"
   },
   {
    "duration": 478,
    "start_time": "2022-09-21T12:58:05.222Z"
   },
   {
    "duration": 26,
    "start_time": "2022-09-21T12:58:05.702Z"
   },
   {
    "duration": 114,
    "start_time": "2022-09-21T12:58:05.731Z"
   },
   {
    "duration": 5,
    "start_time": "2022-09-21T12:58:05.847Z"
   },
   {
    "duration": 13,
    "start_time": "2022-09-21T12:58:05.854Z"
   },
   {
    "duration": 114532,
    "start_time": "2022-09-21T12:58:05.868Z"
   },
   {
    "duration": 707,
    "start_time": "2022-09-21T13:00:00.402Z"
   },
   {
    "duration": 480,
    "start_time": "2022-09-21T13:00:01.111Z"
   },
   {
    "duration": 5,
    "start_time": "2022-09-21T13:00:01.592Z"
   },
   {
    "duration": 88192,
    "start_time": "2022-09-21T13:00:01.598Z"
   },
   {
    "duration": 401,
    "start_time": "2022-09-21T13:01:29.793Z"
   },
   {
    "duration": 191,
    "start_time": "2022-09-21T13:01:30.198Z"
   },
   {
    "duration": 105,
    "start_time": "2022-09-21T13:01:30.391Z"
   },
   {
    "duration": 0,
    "start_time": "2022-09-21T13:01:30.498Z"
   },
   {
    "duration": 0,
    "start_time": "2022-09-21T13:01:30.499Z"
   },
   {
    "duration": 0,
    "start_time": "2022-09-21T13:01:30.501Z"
   },
   {
    "duration": 0,
    "start_time": "2022-09-21T13:01:30.502Z"
   },
   {
    "duration": 0,
    "start_time": "2022-09-21T13:01:30.503Z"
   },
   {
    "duration": 0,
    "start_time": "2022-09-21T13:01:30.504Z"
   },
   {
    "duration": 0,
    "start_time": "2022-09-21T13:01:30.506Z"
   },
   {
    "duration": 0,
    "start_time": "2022-09-21T13:01:30.507Z"
   },
   {
    "duration": 14,
    "start_time": "2022-09-21T13:01:41.116Z"
   },
   {
    "duration": 57,
    "start_time": "2022-09-21T13:01:43.515Z"
   },
   {
    "duration": 311,
    "start_time": "2022-09-21T13:01:44.435Z"
   },
   {
    "duration": 2954,
    "start_time": "2022-09-21T13:01:45.697Z"
   },
   {
    "duration": 1234,
    "start_time": "2022-09-21T13:03:30.008Z"
   },
   {
    "duration": 13256,
    "start_time": "2022-09-21T13:04:16.902Z"
   },
   {
    "duration": 13671,
    "start_time": "2022-09-21T13:05:29.916Z"
   },
   {
    "duration": 13018,
    "start_time": "2022-09-21T13:06:10.101Z"
   },
   {
    "duration": 51,
    "start_time": "2022-09-21T13:08:09.956Z"
   },
   {
    "duration": 3,
    "start_time": "2022-09-21T13:14:34.094Z"
   },
   {
    "duration": 4,
    "start_time": "2022-09-21T13:15:20.821Z"
   },
   {
    "duration": 556,
    "start_time": "2022-09-21T13:17:07.094Z"
   },
   {
    "duration": 4,
    "start_time": "2022-09-21T13:17:36.798Z"
   },
   {
    "duration": 11,
    "start_time": "2022-09-21T13:17:42.278Z"
   },
   {
    "duration": 19141,
    "start_time": "2022-09-21T13:17:56.006Z"
   },
   {
    "duration": 0,
    "start_time": "2022-09-21T13:18:15.149Z"
   },
   {
    "duration": 3,
    "start_time": "2022-09-21T13:18:21.984Z"
   },
   {
    "duration": 3,
    "start_time": "2022-09-21T13:18:24.806Z"
   },
   {
    "duration": 6,
    "start_time": "2022-09-21T13:18:25.319Z"
   },
   {
    "duration": 64,
    "start_time": "2022-09-21T13:18:25.901Z"
   },
   {
    "duration": 49837,
    "start_time": "2022-09-21T13:18:50.446Z"
   },
   {
    "duration": 79,
    "start_time": "2022-09-21T13:19:42.277Z"
   },
   {
    "duration": 360,
    "start_time": "2022-09-21T13:20:29.593Z"
   },
   {
    "duration": 33,
    "start_time": "2022-09-21T13:20:32.481Z"
   },
   {
    "duration": 83,
    "start_time": "2022-09-21T13:20:35.491Z"
   },
   {
    "duration": 13,
    "start_time": "2022-09-21T13:22:47.980Z"
   },
   {
    "duration": 4669,
    "start_time": "2022-09-21T13:22:47.999Z"
   },
   {
    "duration": 5,
    "start_time": "2022-09-21T13:22:55.975Z"
   },
   {
    "duration": 6,
    "start_time": "2022-09-21T13:22:57.640Z"
   },
   {
    "duration": 77034,
    "start_time": "2022-09-21T13:23:02.199Z"
   },
   {
    "duration": 6044,
    "start_time": "2022-09-21T13:24:42.398Z"
   },
   {
    "duration": 39,
    "start_time": "2022-09-21T13:24:55.492Z"
   },
   {
    "duration": 15,
    "start_time": "2022-09-21T13:25:12.015Z"
   },
   {
    "duration": 70,
    "start_time": "2022-09-21T13:25:12.422Z"
   },
   {
    "duration": 309,
    "start_time": "2022-09-21T13:25:12.911Z"
   },
   {
    "duration": 13597,
    "start_time": "2022-09-21T13:25:13.718Z"
   },
   {
    "duration": 46,
    "start_time": "2022-09-21T13:25:31.291Z"
   },
   {
    "duration": 5740,
    "start_time": "2022-09-21T13:25:38.215Z"
   },
   {
    "duration": 18,
    "start_time": "2022-09-21T13:25:46.238Z"
   },
   {
    "duration": 35,
    "start_time": "2022-09-21T13:27:49.421Z"
   },
   {
    "duration": 1406,
    "start_time": "2022-09-21T13:28:50.001Z"
   },
   {
    "duration": 1750,
    "start_time": "2022-09-21T13:28:51.409Z"
   },
   {
    "duration": 64,
    "start_time": "2022-09-21T13:28:53.161Z"
   },
   {
    "duration": 510,
    "start_time": "2022-09-21T13:28:53.228Z"
   },
   {
    "duration": 549,
    "start_time": "2022-09-21T13:28:53.740Z"
   },
   {
    "duration": 503,
    "start_time": "2022-09-21T13:28:54.292Z"
   },
   {
    "duration": 133,
    "start_time": "2022-09-21T13:28:54.797Z"
   },
   {
    "duration": 112,
    "start_time": "2022-09-21T13:28:54.932Z"
   },
   {
    "duration": 7,
    "start_time": "2022-09-21T13:28:55.046Z"
   },
   {
    "duration": 81,
    "start_time": "2022-09-21T13:28:55.055Z"
   },
   {
    "duration": 57,
    "start_time": "2022-09-21T13:28:55.138Z"
   },
   {
    "duration": 334,
    "start_time": "2022-09-21T13:28:55.197Z"
   },
   {
    "duration": 85,
    "start_time": "2022-09-21T13:28:55.533Z"
   },
   {
    "duration": 8,
    "start_time": "2022-09-21T13:28:55.620Z"
   },
   {
    "duration": 66,
    "start_time": "2022-09-21T13:28:55.630Z"
   },
   {
    "duration": 68,
    "start_time": "2022-09-21T13:28:55.698Z"
   },
   {
    "duration": 15,
    "start_time": "2022-09-21T13:28:55.768Z"
   },
   {
    "duration": 69,
    "start_time": "2022-09-21T13:28:55.794Z"
   },
   {
    "duration": 7,
    "start_time": "2022-09-21T13:28:55.864Z"
   },
   {
    "duration": 48,
    "start_time": "2022-09-21T13:28:55.878Z"
   },
   {
    "duration": 16,
    "start_time": "2022-09-21T13:28:55.928Z"
   },
   {
    "duration": 30,
    "start_time": "2022-09-21T13:28:55.946Z"
   },
   {
    "duration": 126,
    "start_time": "2022-09-21T13:28:55.978Z"
   },
   {
    "duration": 1607,
    "start_time": "2022-09-21T13:28:56.106Z"
   },
   {
    "duration": 40,
    "start_time": "2022-09-21T13:28:57.715Z"
   },
   {
    "duration": 86,
    "start_time": "2022-09-21T13:28:57.756Z"
   },
   {
    "duration": 47,
    "start_time": "2022-09-21T13:28:57.844Z"
   },
   {
    "duration": 16,
    "start_time": "2022-09-21T13:28:57.896Z"
   },
   {
    "duration": 28,
    "start_time": "2022-09-21T13:28:57.913Z"
   },
   {
    "duration": 48,
    "start_time": "2022-09-21T13:28:57.943Z"
   },
   {
    "duration": 15,
    "start_time": "2022-09-21T13:28:57.993Z"
   },
   {
    "duration": 28,
    "start_time": "2022-09-21T13:28:58.010Z"
   },
   {
    "duration": 18,
    "start_time": "2022-09-21T13:28:58.040Z"
   },
   {
    "duration": 28,
    "start_time": "2022-09-21T13:28:58.060Z"
   },
   {
    "duration": 93,
    "start_time": "2022-09-21T13:28:58.089Z"
   },
   {
    "duration": 12,
    "start_time": "2022-09-21T13:28:58.184Z"
   },
   {
    "duration": 25,
    "start_time": "2022-09-21T13:28:58.198Z"
   },
   {
    "duration": 74,
    "start_time": "2022-09-21T13:28:58.225Z"
   },
   {
    "duration": 15019,
    "start_time": "2022-09-21T13:28:58.301Z"
   },
   {
    "duration": 16,
    "start_time": "2022-09-21T13:29:13.322Z"
   },
   {
    "duration": 126,
    "start_time": "2022-09-21T13:29:13.340Z"
   },
   {
    "duration": 774,
    "start_time": "2022-09-21T13:29:13.468Z"
   },
   {
    "duration": 638,
    "start_time": "2022-09-21T13:29:14.244Z"
   },
   {
    "duration": 331,
    "start_time": "2022-09-21T13:29:14.888Z"
   },
   {
    "duration": 19,
    "start_time": "2022-09-21T13:29:15.221Z"
   },
   {
    "duration": 579,
    "start_time": "2022-09-21T13:29:15.242Z"
   },
   {
    "duration": 9,
    "start_time": "2022-09-21T13:29:15.823Z"
   },
   {
    "duration": 32,
    "start_time": "2022-09-21T13:29:15.834Z"
   },
   {
    "duration": 40,
    "start_time": "2022-09-21T13:29:15.867Z"
   },
   {
    "duration": 353,
    "start_time": "2022-09-21T13:29:15.909Z"
   },
   {
    "duration": 32,
    "start_time": "2022-09-21T13:29:16.264Z"
   },
   {
    "duration": 80,
    "start_time": "2022-09-21T13:29:16.298Z"
   },
   {
    "duration": 3,
    "start_time": "2022-09-21T13:29:16.381Z"
   },
   {
    "duration": 16,
    "start_time": "2022-09-21T13:29:16.386Z"
   },
   {
    "duration": 131381,
    "start_time": "2022-09-21T13:29:16.404Z"
   },
   {
    "duration": 649,
    "start_time": "2022-09-21T13:31:27.789Z"
   },
   {
    "duration": 439,
    "start_time": "2022-09-21T13:31:28.441Z"
   },
   {
    "duration": 4,
    "start_time": "2022-09-21T13:31:28.882Z"
   },
   {
    "duration": 87691,
    "start_time": "2022-09-21T13:31:28.888Z"
   },
   {
    "duration": 420,
    "start_time": "2022-09-21T13:32:56.581Z"
   },
   {
    "duration": 193,
    "start_time": "2022-09-21T13:32:57.004Z"
   },
   {
    "duration": 35,
    "start_time": "2022-09-21T13:32:57.199Z"
   },
   {
    "duration": 97,
    "start_time": "2022-09-21T13:32:57.235Z"
   },
   {
    "duration": 314,
    "start_time": "2022-09-21T13:32:57.333Z"
   },
   {
    "duration": 12840,
    "start_time": "2022-09-21T13:32:57.649Z"
   },
   {
    "duration": 55,
    "start_time": "2022-09-21T13:33:10.490Z"
   },
   {
    "duration": 5910,
    "start_time": "2022-09-21T13:33:10.548Z"
   },
   {
    "duration": 20,
    "start_time": "2022-09-21T13:33:16.460Z"
   },
   {
    "duration": 21,
    "start_time": "2022-09-21T13:36:40.142Z"
   },
   {
    "duration": 5,
    "start_time": "2022-09-21T13:42:21.208Z"
   },
   {
    "duration": 44,
    "start_time": "2022-09-21T13:43:47.917Z"
   },
   {
    "duration": 58,
    "start_time": "2022-09-21T13:45:08.783Z"
   },
   {
    "duration": 104,
    "start_time": "2022-09-21T13:45:49.570Z"
   },
   {
    "duration": 68,
    "start_time": "2022-09-21T13:45:54.832Z"
   },
   {
    "duration": 3,
    "start_time": "2022-09-21T13:47:00.080Z"
   },
   {
    "duration": 49,
    "start_time": "2022-09-21T13:47:28.487Z"
   },
   {
    "duration": 69,
    "start_time": "2022-09-21T13:48:56.062Z"
   },
   {
    "duration": 567,
    "start_time": "2022-09-21T13:50:57.761Z"
   },
   {
    "duration": 57,
    "start_time": "2022-09-21T13:51:04.933Z"
   },
   {
    "duration": 51,
    "start_time": "2022-09-21T13:51:12.102Z"
   },
   {
    "duration": 592,
    "start_time": "2022-09-21T13:51:30.280Z"
   },
   {
    "duration": 19,
    "start_time": "2022-09-21T13:51:35.147Z"
   },
   {
    "duration": 674,
    "start_time": "2022-09-21T13:52:34.933Z"
   },
   {
    "duration": 4,
    "start_time": "2022-09-21T13:52:36.308Z"
   },
   {
    "duration": 49,
    "start_time": "2022-09-21T13:52:39.764Z"
   },
   {
    "duration": 12,
    "start_time": "2022-09-21T13:52:43.116Z"
   },
   {
    "duration": 50,
    "start_time": "2022-09-21T13:53:43.672Z"
   },
   {
    "duration": 16,
    "start_time": "2022-09-21T13:55:54.765Z"
   },
   {
    "duration": 41,
    "start_time": "2022-09-21T13:56:02.300Z"
   },
   {
    "duration": 591,
    "start_time": "2022-09-21T13:56:05.360Z"
   },
   {
    "duration": 4,
    "start_time": "2022-09-21T13:56:11.692Z"
   },
   {
    "duration": 44,
    "start_time": "2022-09-21T13:56:18.701Z"
   },
   {
    "duration": 43,
    "start_time": "2022-09-21T13:57:16.861Z"
   },
   {
    "duration": 2,
    "start_time": "2022-09-21T13:58:37.827Z"
   },
   {
    "duration": 258,
    "start_time": "2022-09-21T13:59:03.270Z"
   },
   {
    "duration": 4358,
    "start_time": "2022-09-21T13:59:45.266Z"
   },
   {
    "duration": 3035,
    "start_time": "2022-09-21T14:00:38.095Z"
   },
   {
    "duration": 24,
    "start_time": "2022-09-21T14:01:03.266Z"
   },
   {
    "duration": 590,
    "start_time": "2022-09-21T14:01:04.570Z"
   },
   {
    "duration": 48,
    "start_time": "2022-09-21T14:01:06.178Z"
   },
   {
    "duration": 11393,
    "start_time": "2022-09-21T14:01:10.195Z"
   },
   {
    "duration": 14653,
    "start_time": "2022-09-21T14:02:10.419Z"
   },
   {
    "duration": 6,
    "start_time": "2022-09-21T14:02:28.117Z"
   },
   {
    "duration": 68,
    "start_time": "2022-09-21T14:06:50.368Z"
   },
   {
    "duration": 4,
    "start_time": "2022-09-21T14:06:55.704Z"
   },
   {
    "duration": 55325,
    "start_time": "2022-09-21T14:07:04.860Z"
   },
   {
    "duration": 7,
    "start_time": "2022-09-21T14:09:16.677Z"
   },
   {
    "duration": 24730,
    "start_time": "2022-09-21T14:11:37.916Z"
   },
   {
    "duration": 6,
    "start_time": "2022-09-21T14:12:16.474Z"
   },
   {
    "duration": 1963,
    "start_time": "2022-09-21T14:13:33.469Z"
   },
   {
    "duration": 6,
    "start_time": "2022-09-21T14:13:44.281Z"
   },
   {
    "duration": 801,
    "start_time": "2022-09-21T14:14:07.681Z"
   },
   {
    "duration": 7,
    "start_time": "2022-09-21T14:14:12.385Z"
   },
   {
    "duration": 1025,
    "start_time": "2022-09-21T14:14:19.701Z"
   },
   {
    "duration": 7,
    "start_time": "2022-09-21T14:14:27.277Z"
   },
   {
    "duration": 4766,
    "start_time": "2022-09-21T14:14:54.335Z"
   },
   {
    "duration": 8,
    "start_time": "2022-09-21T14:15:00.292Z"
   },
   {
    "duration": 20408,
    "start_time": "2022-09-21T14:45:59.702Z"
   },
   {
    "duration": 23004,
    "start_time": "2022-09-21T14:46:24.374Z"
   },
   {
    "duration": 8,
    "start_time": "2022-09-21T14:46:55.198Z"
   },
   {
    "duration": 16299,
    "start_time": "2022-09-21T14:47:22.701Z"
   },
   {
    "duration": 6,
    "start_time": "2022-09-21T14:47:39.002Z"
   },
   {
    "duration": 4600,
    "start_time": "2022-09-21T14:50:10.370Z"
   },
   {
    "duration": 6,
    "start_time": "2022-09-21T14:50:22.870Z"
   },
   {
    "duration": 22042,
    "start_time": "2022-09-21T14:51:31.605Z"
   },
   {
    "duration": 6,
    "start_time": "2022-09-21T14:51:57.221Z"
   },
   {
    "duration": 20103,
    "start_time": "2022-09-21T14:52:20.116Z"
   },
   {
    "duration": 6,
    "start_time": "2022-09-21T14:52:44.108Z"
   },
   {
    "duration": 30,
    "start_time": "2022-09-21T14:56:58.452Z"
   },
   {
    "duration": 33,
    "start_time": "2022-09-21T14:58:35.691Z"
   },
   {
    "duration": 58,
    "start_time": "2022-09-21T14:58:45.889Z"
   },
   {
    "duration": 162251,
    "start_time": "2022-09-21T14:58:50.290Z"
   },
   {
    "duration": 377,
    "start_time": "2022-09-21T15:02:29.172Z"
   },
   {
    "duration": 1760,
    "start_time": "2022-09-21T18:13:37.778Z"
   },
   {
    "duration": 1810,
    "start_time": "2022-09-21T18:13:39.541Z"
   },
   {
    "duration": 65,
    "start_time": "2022-09-21T18:13:41.352Z"
   },
   {
    "duration": 457,
    "start_time": "2022-09-21T18:13:41.435Z"
   },
   {
    "duration": 495,
    "start_time": "2022-09-21T18:13:41.893Z"
   },
   {
    "duration": 456,
    "start_time": "2022-09-21T18:13:42.389Z"
   },
   {
    "duration": 123,
    "start_time": "2022-09-21T18:13:42.846Z"
   },
   {
    "duration": 88,
    "start_time": "2022-09-21T18:13:42.970Z"
   },
   {
    "duration": 6,
    "start_time": "2022-09-21T18:13:43.060Z"
   },
   {
    "duration": 54,
    "start_time": "2022-09-21T18:13:43.068Z"
   },
   {
    "duration": 45,
    "start_time": "2022-09-21T18:13:43.124Z"
   },
   {
    "duration": 245,
    "start_time": "2022-09-21T18:13:43.171Z"
   },
   {
    "duration": 72,
    "start_time": "2022-09-21T18:13:43.417Z"
   },
   {
    "duration": 14,
    "start_time": "2022-09-21T18:13:43.491Z"
   },
   {
    "duration": 85,
    "start_time": "2022-09-21T18:13:43.506Z"
   },
   {
    "duration": 72,
    "start_time": "2022-09-21T18:13:43.592Z"
   },
   {
    "duration": 7,
    "start_time": "2022-09-21T18:13:43.665Z"
   },
   {
    "duration": 81,
    "start_time": "2022-09-21T18:13:43.673Z"
   },
   {
    "duration": 6,
    "start_time": "2022-09-21T18:13:43.756Z"
   },
   {
    "duration": 47,
    "start_time": "2022-09-21T18:13:43.763Z"
   },
   {
    "duration": 25,
    "start_time": "2022-09-21T18:13:43.812Z"
   },
   {
    "duration": 17,
    "start_time": "2022-09-21T18:13:43.839Z"
   },
   {
    "duration": 109,
    "start_time": "2022-09-21T18:13:43.858Z"
   },
   {
    "duration": 1722,
    "start_time": "2022-09-21T18:13:43.968Z"
   },
   {
    "duration": 46,
    "start_time": "2022-09-21T18:13:45.691Z"
   },
   {
    "duration": 71,
    "start_time": "2022-09-21T18:13:45.741Z"
   },
   {
    "duration": 41,
    "start_time": "2022-09-21T18:13:45.813Z"
   },
   {
    "duration": 16,
    "start_time": "2022-09-21T18:13:45.857Z"
   },
   {
    "duration": 55,
    "start_time": "2022-09-21T18:13:45.874Z"
   },
   {
    "duration": 27,
    "start_time": "2022-09-21T18:13:45.934Z"
   },
   {
    "duration": 18,
    "start_time": "2022-09-21T18:13:45.963Z"
   },
   {
    "duration": 37,
    "start_time": "2022-09-21T18:13:45.983Z"
   },
   {
    "duration": 33,
    "start_time": "2022-09-21T18:13:46.023Z"
   },
   {
    "duration": 17,
    "start_time": "2022-09-21T18:13:46.058Z"
   },
   {
    "duration": 17,
    "start_time": "2022-09-21T18:13:46.076Z"
   },
   {
    "duration": 23,
    "start_time": "2022-09-21T18:13:46.094Z"
   },
   {
    "duration": 41,
    "start_time": "2022-09-21T18:13:46.122Z"
   },
   {
    "duration": 49,
    "start_time": "2022-09-21T18:13:46.164Z"
   },
   {
    "duration": 14581,
    "start_time": "2022-09-21T18:13:46.215Z"
   },
   {
    "duration": 22,
    "start_time": "2022-09-21T18:14:00.801Z"
   },
   {
    "duration": 127,
    "start_time": "2022-09-21T18:14:00.825Z"
   },
   {
    "duration": 775,
    "start_time": "2022-09-21T18:14:00.954Z"
   },
   {
    "duration": 566,
    "start_time": "2022-09-21T18:14:01.731Z"
   },
   {
    "duration": 312,
    "start_time": "2022-09-21T18:14:02.299Z"
   },
   {
    "duration": 17,
    "start_time": "2022-09-21T18:14:02.612Z"
   },
   {
    "duration": 466,
    "start_time": "2022-09-21T18:14:02.632Z"
   },
   {
    "duration": 11,
    "start_time": "2022-09-21T18:14:03.100Z"
   },
   {
    "duration": 57,
    "start_time": "2022-09-21T18:14:03.113Z"
   },
   {
    "duration": 26,
    "start_time": "2022-09-21T18:14:03.171Z"
   },
   {
    "duration": 352,
    "start_time": "2022-09-21T18:14:03.199Z"
   },
   {
    "duration": 22,
    "start_time": "2022-09-21T18:14:03.553Z"
   },
   {
    "duration": 86,
    "start_time": "2022-09-21T18:14:03.576Z"
   },
   {
    "duration": 3,
    "start_time": "2022-09-21T18:14:03.664Z"
   },
   {
    "duration": 5,
    "start_time": "2022-09-21T18:14:03.668Z"
   },
   {
    "duration": 138355,
    "start_time": "2022-09-21T18:14:03.675Z"
   },
   {
    "duration": 636,
    "start_time": "2022-09-21T18:16:22.032Z"
   },
   {
    "duration": 366,
    "start_time": "2022-09-21T18:16:22.671Z"
   },
   {
    "duration": 3,
    "start_time": "2022-09-21T18:16:23.042Z"
   },
   {
    "duration": 52754,
    "start_time": "2022-09-21T18:16:23.047Z"
   },
   {
    "duration": 393,
    "start_time": "2022-09-21T18:17:15.803Z"
   },
   {
    "duration": 203,
    "start_time": "2022-09-21T18:17:16.200Z"
   },
   {
    "duration": 44,
    "start_time": "2022-09-21T18:17:16.407Z"
   },
   {
    "duration": 66,
    "start_time": "2022-09-21T18:17:16.452Z"
   },
   {
    "duration": 289,
    "start_time": "2022-09-21T18:17:16.520Z"
   },
   {
    "duration": 13350,
    "start_time": "2022-09-21T18:17:16.811Z"
   },
   {
    "duration": 47,
    "start_time": "2022-09-21T18:17:30.163Z"
   },
   {
    "duration": 5519,
    "start_time": "2022-09-21T18:17:30.212Z"
   },
   {
    "duration": 18,
    "start_time": "2022-09-21T18:17:35.733Z"
   },
   {
    "duration": 42,
    "start_time": "2022-09-21T18:17:35.752Z"
   },
   {
    "duration": 655,
    "start_time": "2022-09-21T18:17:35.795Z"
   },
   {
    "duration": 51,
    "start_time": "2022-09-21T18:17:36.451Z"
   },
   {
    "duration": 18370,
    "start_time": "2022-09-21T18:17:36.503Z"
   },
   {
    "duration": 6,
    "start_time": "2022-09-21T18:17:54.875Z"
   },
   {
    "duration": 24749,
    "start_time": "2022-09-21T18:17:54.882Z"
   },
   {
    "duration": 6,
    "start_time": "2022-09-21T18:18:19.638Z"
   },
   {
    "duration": 22529,
    "start_time": "2022-09-21T18:18:19.646Z"
   },
   {
    "duration": 7,
    "start_time": "2022-09-21T18:18:42.176Z"
   },
   {
    "duration": 40841,
    "start_time": "2022-09-21T18:18:42.185Z"
   },
   {
    "duration": 72,
    "start_time": "2022-09-21T18:19:23.033Z"
   },
   {
    "duration": 167257,
    "start_time": "2022-09-21T18:19:23.106Z"
   },
   {
    "duration": 394,
    "start_time": "2022-09-21T18:22:10.364Z"
   },
   {
    "duration": 4,
    "start_time": "2022-09-21T18:32:11.154Z"
   },
   {
    "duration": 74784,
    "start_time": "2022-09-21T18:32:12.366Z"
   },
   {
    "duration": 4,
    "start_time": "2022-09-21T18:33:37.503Z"
   },
   {
    "duration": 3,
    "start_time": "2022-09-21T18:33:43.971Z"
   },
   {
    "duration": 4,
    "start_time": "2022-09-21T18:34:52.175Z"
   },
   {
    "duration": 204,
    "start_time": "2022-09-21T18:35:26.748Z"
   },
   {
    "duration": 4,
    "start_time": "2022-09-21T18:36:12.827Z"
   },
   {
    "duration": 3,
    "start_time": "2022-09-21T18:36:16.939Z"
   },
   {
    "duration": 96,
    "start_time": "2022-09-21T18:36:26.883Z"
   },
   {
    "duration": 18,
    "start_time": "2022-09-21T18:36:51.742Z"
   },
   {
    "duration": 1505,
    "start_time": "2022-09-21T18:37:08.874Z"
   },
   {
    "duration": 1861,
    "start_time": "2022-09-21T18:37:10.381Z"
   },
   {
    "duration": 66,
    "start_time": "2022-09-21T18:37:12.244Z"
   },
   {
    "duration": 478,
    "start_time": "2022-09-21T18:37:12.326Z"
   },
   {
    "duration": 533,
    "start_time": "2022-09-21T18:37:12.814Z"
   },
   {
    "duration": 459,
    "start_time": "2022-09-21T18:37:13.349Z"
   },
   {
    "duration": 118,
    "start_time": "2022-09-21T18:37:13.809Z"
   },
   {
    "duration": 100,
    "start_time": "2022-09-21T18:37:13.928Z"
   },
   {
    "duration": 9,
    "start_time": "2022-09-21T18:37:14.030Z"
   },
   {
    "duration": 66,
    "start_time": "2022-09-21T18:37:14.042Z"
   },
   {
    "duration": 67,
    "start_time": "2022-09-21T18:37:14.110Z"
   },
   {
    "duration": 289,
    "start_time": "2022-09-21T18:37:14.178Z"
   },
   {
    "duration": 81,
    "start_time": "2022-09-21T18:37:14.469Z"
   },
   {
    "duration": 9,
    "start_time": "2022-09-21T18:37:14.553Z"
   },
   {
    "duration": 46,
    "start_time": "2022-09-21T18:37:14.563Z"
   },
   {
    "duration": 67,
    "start_time": "2022-09-21T18:37:14.613Z"
   },
   {
    "duration": 19,
    "start_time": "2022-09-21T18:37:14.682Z"
   },
   {
    "duration": 78,
    "start_time": "2022-09-21T18:37:14.706Z"
   },
   {
    "duration": 23,
    "start_time": "2022-09-21T18:37:14.786Z"
   },
   {
    "duration": 37,
    "start_time": "2022-09-21T18:37:14.820Z"
   },
   {
    "duration": 15,
    "start_time": "2022-09-21T18:37:14.859Z"
   },
   {
    "duration": 11,
    "start_time": "2022-09-21T18:37:14.876Z"
   },
   {
    "duration": 102,
    "start_time": "2022-09-21T18:37:14.888Z"
   },
   {
    "duration": 1608,
    "start_time": "2022-09-21T18:37:14.991Z"
   },
   {
    "duration": 49,
    "start_time": "2022-09-21T18:37:16.600Z"
   },
   {
    "duration": 71,
    "start_time": "2022-09-21T18:37:16.650Z"
   },
   {
    "duration": 43,
    "start_time": "2022-09-21T18:37:16.722Z"
   },
   {
    "duration": 14,
    "start_time": "2022-09-21T18:37:16.769Z"
   },
   {
    "duration": 38,
    "start_time": "2022-09-21T18:37:16.784Z"
   },
   {
    "duration": 36,
    "start_time": "2022-09-21T18:37:16.826Z"
   },
   {
    "duration": 14,
    "start_time": "2022-09-21T18:37:16.864Z"
   },
   {
    "duration": 37,
    "start_time": "2022-09-21T18:37:16.879Z"
   },
   {
    "duration": 45,
    "start_time": "2022-09-21T18:37:16.917Z"
   },
   {
    "duration": 16,
    "start_time": "2022-09-21T18:37:16.963Z"
   },
   {
    "duration": 13,
    "start_time": "2022-09-21T18:37:16.980Z"
   },
   {
    "duration": 10,
    "start_time": "2022-09-21T18:37:16.994Z"
   },
   {
    "duration": 46,
    "start_time": "2022-09-21T18:37:17.006Z"
   },
   {
    "duration": 45,
    "start_time": "2022-09-21T18:37:17.053Z"
   },
   {
    "duration": 15298,
    "start_time": "2022-09-21T18:37:17.099Z"
   },
   {
    "duration": 22,
    "start_time": "2022-09-21T18:37:32.398Z"
   },
   {
    "duration": 115,
    "start_time": "2022-09-21T18:37:32.422Z"
   },
   {
    "duration": 790,
    "start_time": "2022-09-21T18:37:32.539Z"
   },
   {
    "duration": 573,
    "start_time": "2022-09-21T18:37:33.332Z"
   },
   {
    "duration": 336,
    "start_time": "2022-09-21T18:37:33.906Z"
   },
   {
    "duration": 18,
    "start_time": "2022-09-21T18:37:34.247Z"
   },
   {
    "duration": 590,
    "start_time": "2022-09-21T18:37:34.267Z"
   },
   {
    "duration": 9,
    "start_time": "2022-09-21T18:37:34.859Z"
   },
   {
    "duration": 41,
    "start_time": "2022-09-21T18:37:34.869Z"
   },
   {
    "duration": 29,
    "start_time": "2022-09-21T18:37:34.912Z"
   },
   {
    "duration": 393,
    "start_time": "2022-09-21T18:37:34.943Z"
   },
   {
    "duration": 26,
    "start_time": "2022-09-21T18:37:35.342Z"
   },
   {
    "duration": 84,
    "start_time": "2022-09-21T18:37:35.370Z"
   },
   {
    "duration": 3,
    "start_time": "2022-09-21T18:37:35.457Z"
   },
   {
    "duration": 5,
    "start_time": "2022-09-21T18:37:35.462Z"
   },
   {
    "duration": 195503,
    "start_time": "2022-09-21T18:37:35.468Z"
   },
   {
    "duration": 0,
    "start_time": "2022-09-21T18:40:50.973Z"
   },
   {
    "duration": 0,
    "start_time": "2022-09-21T18:40:50.974Z"
   },
   {
    "duration": 0,
    "start_time": "2022-09-21T18:40:50.976Z"
   },
   {
    "duration": 0,
    "start_time": "2022-09-21T18:40:50.977Z"
   },
   {
    "duration": 0,
    "start_time": "2022-09-21T18:40:50.978Z"
   },
   {
    "duration": 0,
    "start_time": "2022-09-21T18:40:50.979Z"
   },
   {
    "duration": 0,
    "start_time": "2022-09-21T18:40:50.981Z"
   },
   {
    "duration": 0,
    "start_time": "2022-09-21T18:40:50.982Z"
   },
   {
    "duration": 0,
    "start_time": "2022-09-21T18:40:50.983Z"
   },
   {
    "duration": 0,
    "start_time": "2022-09-21T18:40:50.985Z"
   },
   {
    "duration": 0,
    "start_time": "2022-09-21T18:40:50.986Z"
   },
   {
    "duration": 0,
    "start_time": "2022-09-21T18:40:50.987Z"
   },
   {
    "duration": 1,
    "start_time": "2022-09-21T18:40:50.987Z"
   },
   {
    "duration": 0,
    "start_time": "2022-09-21T18:40:50.988Z"
   },
   {
    "duration": 0,
    "start_time": "2022-09-21T18:40:50.989Z"
   },
   {
    "duration": 0,
    "start_time": "2022-09-21T18:40:50.990Z"
   },
   {
    "duration": 0,
    "start_time": "2022-09-21T18:40:50.991Z"
   },
   {
    "duration": 0,
    "start_time": "2022-09-21T18:40:50.992Z"
   },
   {
    "duration": 0,
    "start_time": "2022-09-21T18:40:50.993Z"
   },
   {
    "duration": 0,
    "start_time": "2022-09-21T18:40:50.994Z"
   },
   {
    "duration": 0,
    "start_time": "2022-09-21T18:40:50.995Z"
   },
   {
    "duration": 0,
    "start_time": "2022-09-21T18:40:50.996Z"
   },
   {
    "duration": 0,
    "start_time": "2022-09-21T18:40:50.997Z"
   },
   {
    "duration": 0,
    "start_time": "2022-09-21T18:40:50.998Z"
   },
   {
    "duration": 0,
    "start_time": "2022-09-21T18:40:50.999Z"
   },
   {
    "duration": 0,
    "start_time": "2022-09-21T18:40:51.002Z"
   },
   {
    "duration": 0,
    "start_time": "2022-09-21T18:40:51.002Z"
   },
   {
    "duration": 0,
    "start_time": "2022-09-21T18:40:51.010Z"
   },
   {
    "duration": 4,
    "start_time": "2022-09-21T18:42:03.737Z"
   },
   {
    "duration": 4,
    "start_time": "2022-09-21T18:42:06.343Z"
   },
   {
    "duration": 534015,
    "start_time": "2022-09-21T18:42:07.571Z"
   },
   {
    "duration": 1120671,
    "start_time": "2022-09-21T18:53:54.767Z"
   },
   {
    "duration": 4,
    "start_time": "2022-09-21T19:15:25.860Z"
   },
   {
    "duration": 9,
    "start_time": "2022-09-21T19:15:53.678Z"
   },
   {
    "duration": 10,
    "start_time": "2022-09-21T19:21:24.262Z"
   },
   {
    "duration": 11,
    "start_time": "2022-09-21T19:22:45.760Z"
   },
   {
    "duration": 17410,
    "start_time": "2022-09-21T19:23:37.599Z"
   },
   {
    "duration": 3,
    "start_time": "2022-09-21T19:23:59.256Z"
   },
   {
    "duration": 715387,
    "start_time": "2022-09-21T19:24:01.650Z"
   },
   {
    "duration": 10,
    "start_time": "2022-09-21T19:36:10.251Z"
   },
   {
    "duration": 1617,
    "start_time": "2022-09-22T06:07:27.585Z"
   },
   {
    "duration": 1870,
    "start_time": "2022-09-22T06:07:29.205Z"
   },
   {
    "duration": 59,
    "start_time": "2022-09-22T06:07:31.077Z"
   },
   {
    "duration": 488,
    "start_time": "2022-09-22T06:07:31.138Z"
   },
   {
    "duration": 482,
    "start_time": "2022-09-22T06:07:31.629Z"
   },
   {
    "duration": 421,
    "start_time": "2022-09-22T06:07:32.113Z"
   },
   {
    "duration": 126,
    "start_time": "2022-09-22T06:07:32.536Z"
   },
   {
    "duration": 92,
    "start_time": "2022-09-22T06:07:32.663Z"
   },
   {
    "duration": 6,
    "start_time": "2022-09-22T06:07:32.757Z"
   },
   {
    "duration": 40,
    "start_time": "2022-09-22T06:07:32.764Z"
   },
   {
    "duration": 62,
    "start_time": "2022-09-22T06:07:32.806Z"
   },
   {
    "duration": 204,
    "start_time": "2022-09-22T06:07:32.870Z"
   },
   {
    "duration": 65,
    "start_time": "2022-09-22T06:07:33.075Z"
   },
   {
    "duration": 6,
    "start_time": "2022-09-22T06:07:33.143Z"
   },
   {
    "duration": 52,
    "start_time": "2022-09-22T06:07:33.150Z"
   },
   {
    "duration": 58,
    "start_time": "2022-09-22T06:07:33.204Z"
   },
   {
    "duration": 6,
    "start_time": "2022-09-22T06:07:33.263Z"
   },
   {
    "duration": 72,
    "start_time": "2022-09-22T06:07:33.270Z"
   },
   {
    "duration": 6,
    "start_time": "2022-09-22T06:07:33.344Z"
   },
   {
    "duration": 32,
    "start_time": "2022-09-22T06:07:33.352Z"
   },
   {
    "duration": 16,
    "start_time": "2022-09-22T06:07:33.386Z"
   },
   {
    "duration": 38,
    "start_time": "2022-09-22T06:07:33.403Z"
   },
   {
    "duration": 99,
    "start_time": "2022-09-22T06:07:33.442Z"
   },
   {
    "duration": 1463,
    "start_time": "2022-09-22T06:07:33.542Z"
   },
   {
    "duration": 41,
    "start_time": "2022-09-22T06:07:35.007Z"
   },
   {
    "duration": 74,
    "start_time": "2022-09-22T06:07:35.049Z"
   },
   {
    "duration": 30,
    "start_time": "2022-09-22T06:07:35.134Z"
   },
   {
    "duration": 22,
    "start_time": "2022-09-22T06:07:35.165Z"
   },
   {
    "duration": 47,
    "start_time": "2022-09-22T06:07:35.189Z"
   },
   {
    "duration": 22,
    "start_time": "2022-09-22T06:07:35.237Z"
   },
   {
    "duration": 17,
    "start_time": "2022-09-22T06:07:35.261Z"
   },
   {
    "duration": 31,
    "start_time": "2022-09-22T06:07:35.279Z"
   },
   {
    "duration": 35,
    "start_time": "2022-09-22T06:07:35.312Z"
   },
   {
    "duration": 19,
    "start_time": "2022-09-22T06:07:35.348Z"
   },
   {
    "duration": 11,
    "start_time": "2022-09-22T06:07:35.369Z"
   },
   {
    "duration": 10,
    "start_time": "2022-09-22T06:07:35.381Z"
   },
   {
    "duration": 46,
    "start_time": "2022-09-22T06:07:35.392Z"
   },
   {
    "duration": 43,
    "start_time": "2022-09-22T06:07:35.439Z"
   },
   {
    "duration": 13207,
    "start_time": "2022-09-22T06:07:35.484Z"
   },
   {
    "duration": 17,
    "start_time": "2022-09-22T06:07:48.693Z"
   },
   {
    "duration": 97,
    "start_time": "2022-09-22T06:07:48.715Z"
   },
   {
    "duration": 712,
    "start_time": "2022-09-22T06:07:48.813Z"
   },
   {
    "duration": 544,
    "start_time": "2022-09-22T06:07:49.527Z"
   },
   {
    "duration": 307,
    "start_time": "2022-09-22T06:07:50.072Z"
   },
   {
    "duration": 17,
    "start_time": "2022-09-22T06:07:50.380Z"
   },
   {
    "duration": 439,
    "start_time": "2022-09-22T06:07:50.399Z"
   },
   {
    "duration": 8,
    "start_time": "2022-09-22T06:07:50.840Z"
   },
   {
    "duration": 27,
    "start_time": "2022-09-22T06:07:50.850Z"
   },
   {
    "duration": 27,
    "start_time": "2022-09-22T06:07:50.878Z"
   },
   {
    "duration": 359,
    "start_time": "2022-09-22T06:07:50.907Z"
   },
   {
    "duration": 22,
    "start_time": "2022-09-22T06:07:51.268Z"
   },
   {
    "duration": 78,
    "start_time": "2022-09-22T06:07:51.291Z"
   },
   {
    "duration": 3,
    "start_time": "2022-09-22T06:07:51.371Z"
   },
   {
    "duration": 8,
    "start_time": "2022-09-22T06:07:51.376Z"
   },
   {
    "duration": 22954,
    "start_time": "2022-09-22T06:07:51.385Z"
   },
   {
    "duration": 144,
    "start_time": "2022-09-22T06:08:14.341Z"
   },
   {
    "duration": 0,
    "start_time": "2022-09-22T06:08:14.486Z"
   },
   {
    "duration": 0,
    "start_time": "2022-09-22T06:08:14.487Z"
   },
   {
    "duration": 0,
    "start_time": "2022-09-22T06:08:14.489Z"
   },
   {
    "duration": 0,
    "start_time": "2022-09-22T06:08:14.490Z"
   },
   {
    "duration": 0,
    "start_time": "2022-09-22T06:08:14.491Z"
   },
   {
    "duration": 0,
    "start_time": "2022-09-22T06:08:14.492Z"
   },
   {
    "duration": 0,
    "start_time": "2022-09-22T06:08:14.493Z"
   },
   {
    "duration": 0,
    "start_time": "2022-09-22T06:08:14.494Z"
   },
   {
    "duration": 0,
    "start_time": "2022-09-22T06:08:14.496Z"
   },
   {
    "duration": 0,
    "start_time": "2022-09-22T06:08:14.497Z"
   },
   {
    "duration": 0,
    "start_time": "2022-09-22T06:08:14.498Z"
   },
   {
    "duration": 0,
    "start_time": "2022-09-22T06:08:14.499Z"
   },
   {
    "duration": 0,
    "start_time": "2022-09-22T06:08:14.500Z"
   },
   {
    "duration": 0,
    "start_time": "2022-09-22T06:08:14.501Z"
   },
   {
    "duration": 0,
    "start_time": "2022-09-22T06:08:14.502Z"
   },
   {
    "duration": 0,
    "start_time": "2022-09-22T06:08:14.533Z"
   },
   {
    "duration": 0,
    "start_time": "2022-09-22T06:08:14.534Z"
   },
   {
    "duration": 0,
    "start_time": "2022-09-22T06:08:14.536Z"
   },
   {
    "duration": 0,
    "start_time": "2022-09-22T06:08:14.537Z"
   },
   {
    "duration": 0,
    "start_time": "2022-09-22T06:08:14.538Z"
   },
   {
    "duration": 0,
    "start_time": "2022-09-22T06:08:14.539Z"
   },
   {
    "duration": 0,
    "start_time": "2022-09-22T06:08:14.540Z"
   },
   {
    "duration": 0,
    "start_time": "2022-09-22T06:08:14.541Z"
   },
   {
    "duration": 0,
    "start_time": "2022-09-22T06:08:14.542Z"
   },
   {
    "duration": 0,
    "start_time": "2022-09-22T06:08:14.543Z"
   },
   {
    "duration": 0,
    "start_time": "2022-09-22T06:08:14.544Z"
   },
   {
    "duration": 37,
    "start_time": "2022-09-22T06:10:43.559Z"
   },
   {
    "duration": 4,
    "start_time": "2022-09-22T06:10:46.303Z"
   },
   {
    "duration": 3,
    "start_time": "2022-09-22T06:10:50.136Z"
   },
   {
    "duration": 3397,
    "start_time": "2022-09-22T06:10:51.840Z"
   },
   {
    "duration": 488,
    "start_time": "2022-09-22T06:10:59.016Z"
   },
   {
    "duration": 1548,
    "start_time": "2022-09-22T06:11:09.583Z"
   },
   {
    "duration": 1418,
    "start_time": "2022-09-22T06:11:11.133Z"
   },
   {
    "duration": 51,
    "start_time": "2022-09-22T06:11:12.552Z"
   },
   {
    "duration": 451,
    "start_time": "2022-09-22T06:11:12.605Z"
   },
   {
    "duration": 475,
    "start_time": "2022-09-22T06:11:13.058Z"
   },
   {
    "duration": 400,
    "start_time": "2022-09-22T06:11:13.535Z"
   },
   {
    "duration": 119,
    "start_time": "2022-09-22T06:11:13.936Z"
   },
   {
    "duration": 91,
    "start_time": "2022-09-22T06:11:14.057Z"
   },
   {
    "duration": 9,
    "start_time": "2022-09-22T06:11:14.150Z"
   },
   {
    "duration": 44,
    "start_time": "2022-09-22T06:11:14.161Z"
   },
   {
    "duration": 66,
    "start_time": "2022-09-22T06:11:14.207Z"
   },
   {
    "duration": 209,
    "start_time": "2022-09-22T06:11:14.275Z"
   },
   {
    "duration": 66,
    "start_time": "2022-09-22T06:11:14.486Z"
   },
   {
    "duration": 6,
    "start_time": "2022-09-22T06:11:14.556Z"
   },
   {
    "duration": 35,
    "start_time": "2022-09-22T06:11:14.563Z"
   },
   {
    "duration": 80,
    "start_time": "2022-09-22T06:11:14.600Z"
   },
   {
    "duration": 6,
    "start_time": "2022-09-22T06:11:14.682Z"
   },
   {
    "duration": 73,
    "start_time": "2022-09-22T06:11:14.690Z"
   },
   {
    "duration": 7,
    "start_time": "2022-09-22T06:11:14.764Z"
   },
   {
    "duration": 34,
    "start_time": "2022-09-22T06:11:14.772Z"
   },
   {
    "duration": 36,
    "start_time": "2022-09-22T06:11:14.807Z"
   },
   {
    "duration": 11,
    "start_time": "2022-09-22T06:11:14.845Z"
   },
   {
    "duration": 101,
    "start_time": "2022-09-22T06:11:14.857Z"
   },
   {
    "duration": 1505,
    "start_time": "2022-09-22T06:11:14.959Z"
   },
   {
    "duration": 37,
    "start_time": "2022-09-22T06:11:16.466Z"
   },
   {
    "duration": 94,
    "start_time": "2022-09-22T06:11:16.505Z"
   },
   {
    "duration": 45,
    "start_time": "2022-09-22T06:11:16.601Z"
   },
   {
    "duration": 21,
    "start_time": "2022-09-22T06:11:16.648Z"
   },
   {
    "duration": 33,
    "start_time": "2022-09-22T06:11:16.670Z"
   },
   {
    "duration": 38,
    "start_time": "2022-09-22T06:11:16.706Z"
   },
   {
    "duration": 18,
    "start_time": "2022-09-22T06:11:16.746Z"
   },
   {
    "duration": 37,
    "start_time": "2022-09-22T06:11:16.766Z"
   },
   {
    "duration": 34,
    "start_time": "2022-09-22T06:11:16.804Z"
   },
   {
    "duration": 19,
    "start_time": "2022-09-22T06:11:16.840Z"
   },
   {
    "duration": 12,
    "start_time": "2022-09-22T06:11:16.860Z"
   },
   {
    "duration": 11,
    "start_time": "2022-09-22T06:11:16.873Z"
   },
   {
    "duration": 21,
    "start_time": "2022-09-22T06:11:16.886Z"
   },
   {
    "duration": 66,
    "start_time": "2022-09-22T06:11:16.908Z"
   },
   {
    "duration": 13059,
    "start_time": "2022-09-22T06:11:16.976Z"
   },
   {
    "duration": 17,
    "start_time": "2022-09-22T06:11:30.038Z"
   },
   {
    "duration": 97,
    "start_time": "2022-09-22T06:11:30.059Z"
   },
   {
    "duration": 731,
    "start_time": "2022-09-22T06:11:30.158Z"
   },
   {
    "duration": 541,
    "start_time": "2022-09-22T06:11:30.891Z"
   },
   {
    "duration": 280,
    "start_time": "2022-09-22T06:11:31.434Z"
   },
   {
    "duration": 22,
    "start_time": "2022-09-22T06:11:31.715Z"
   },
   {
    "duration": 444,
    "start_time": "2022-09-22T06:11:31.738Z"
   },
   {
    "duration": 10,
    "start_time": "2022-09-22T06:11:32.184Z"
   },
   {
    "duration": 43,
    "start_time": "2022-09-22T06:11:32.195Z"
   },
   {
    "duration": 29,
    "start_time": "2022-09-22T06:11:32.240Z"
   },
   {
    "duration": 314,
    "start_time": "2022-09-22T06:11:32.270Z"
   },
   {
    "duration": 25,
    "start_time": "2022-09-22T06:11:32.585Z"
   },
   {
    "duration": 51,
    "start_time": "2022-09-22T06:11:32.612Z"
   },
   {
    "duration": 116,
    "start_time": "2022-09-22T06:11:32.664Z"
   },
   {
    "duration": 0,
    "start_time": "2022-09-22T06:11:32.782Z"
   },
   {
    "duration": 0,
    "start_time": "2022-09-22T06:11:32.783Z"
   },
   {
    "duration": 0,
    "start_time": "2022-09-22T06:11:32.784Z"
   },
   {
    "duration": 0,
    "start_time": "2022-09-22T06:11:32.785Z"
   },
   {
    "duration": 0,
    "start_time": "2022-09-22T06:11:32.786Z"
   },
   {
    "duration": 0,
    "start_time": "2022-09-22T06:11:32.787Z"
   },
   {
    "duration": 0,
    "start_time": "2022-09-22T06:11:32.788Z"
   },
   {
    "duration": 0,
    "start_time": "2022-09-22T06:11:32.789Z"
   },
   {
    "duration": 0,
    "start_time": "2022-09-22T06:11:32.791Z"
   },
   {
    "duration": 0,
    "start_time": "2022-09-22T06:11:32.792Z"
   },
   {
    "duration": 0,
    "start_time": "2022-09-22T06:11:32.793Z"
   },
   {
    "duration": 0,
    "start_time": "2022-09-22T06:11:32.794Z"
   },
   {
    "duration": 0,
    "start_time": "2022-09-22T06:11:32.795Z"
   },
   {
    "duration": 0,
    "start_time": "2022-09-22T06:11:32.795Z"
   },
   {
    "duration": 0,
    "start_time": "2022-09-22T06:11:32.797Z"
   },
   {
    "duration": 0,
    "start_time": "2022-09-22T06:11:32.797Z"
   },
   {
    "duration": 0,
    "start_time": "2022-09-22T06:11:32.798Z"
   },
   {
    "duration": 0,
    "start_time": "2022-09-22T06:11:32.799Z"
   },
   {
    "duration": 0,
    "start_time": "2022-09-22T06:11:32.800Z"
   },
   {
    "duration": 0,
    "start_time": "2022-09-22T06:11:32.800Z"
   },
   {
    "duration": 0,
    "start_time": "2022-09-22T06:11:32.801Z"
   },
   {
    "duration": 0,
    "start_time": "2022-09-22T06:11:32.802Z"
   },
   {
    "duration": 0,
    "start_time": "2022-09-22T06:11:32.802Z"
   },
   {
    "duration": 0,
    "start_time": "2022-09-22T06:11:32.803Z"
   },
   {
    "duration": 0,
    "start_time": "2022-09-22T06:11:32.803Z"
   },
   {
    "duration": 0,
    "start_time": "2022-09-22T06:11:32.833Z"
   },
   {
    "duration": 0,
    "start_time": "2022-09-22T06:11:32.834Z"
   },
   {
    "duration": 0,
    "start_time": "2022-09-22T06:11:32.835Z"
   },
   {
    "duration": 0,
    "start_time": "2022-09-22T06:11:32.836Z"
   },
   {
    "duration": 3,
    "start_time": "2022-09-22T06:12:00.942Z"
   },
   {
    "duration": 3,
    "start_time": "2022-09-22T06:12:05.230Z"
   },
   {
    "duration": 3,
    "start_time": "2022-09-22T06:12:11.653Z"
   },
   {
    "duration": 3393,
    "start_time": "2022-09-22T06:12:53.149Z"
   },
   {
    "duration": 461,
    "start_time": "2022-09-22T06:13:03.283Z"
   },
   {
    "duration": 24829,
    "start_time": "2022-09-22T06:13:16.516Z"
   },
   {
    "duration": 3,
    "start_time": "2022-09-22T06:18:18.118Z"
   },
   {
    "duration": 3,
    "start_time": "2022-09-22T06:19:56.597Z"
   },
   {
    "duration": 29508,
    "start_time": "2022-09-22T06:20:26.828Z"
   },
   {
    "duration": 456,
    "start_time": "2022-09-22T06:21:01.185Z"
   },
   {
    "duration": 3,
    "start_time": "2022-09-22T06:21:08.187Z"
   },
   {
    "duration": 4,
    "start_time": "2022-09-22T06:21:19.508Z"
   },
   {
    "duration": 3,
    "start_time": "2022-09-22T06:21:51.785Z"
   },
   {
    "duration": 249714,
    "start_time": "2022-09-22T06:21:57.204Z"
   },
   {
    "duration": 4,
    "start_time": "2022-09-22T06:26:45.972Z"
   },
   {
    "duration": 4,
    "start_time": "2022-09-22T06:26:48.755Z"
   },
   {
    "duration": 15306,
    "start_time": "2022-09-22T06:26:50.404Z"
   },
   {
    "duration": 4,
    "start_time": "2022-09-22T06:27:28.240Z"
   },
   {
    "duration": 51893,
    "start_time": "2022-09-22T06:27:30.211Z"
   },
   {
    "duration": 1406,
    "start_time": "2022-09-22T06:28:27.686Z"
   },
   {
    "duration": 1374,
    "start_time": "2022-09-22T06:28:29.094Z"
   },
   {
    "duration": 70,
    "start_time": "2022-09-22T06:28:30.469Z"
   },
   {
    "duration": 508,
    "start_time": "2022-09-22T06:28:30.541Z"
   },
   {
    "duration": 514,
    "start_time": "2022-09-22T06:28:31.053Z"
   },
   {
    "duration": 455,
    "start_time": "2022-09-22T06:28:31.569Z"
   },
   {
    "duration": 157,
    "start_time": "2022-09-22T06:28:32.026Z"
   },
   {
    "duration": 92,
    "start_time": "2022-09-22T06:28:32.185Z"
   },
   {
    "duration": 6,
    "start_time": "2022-09-22T06:28:32.279Z"
   },
   {
    "duration": 61,
    "start_time": "2022-09-22T06:28:32.288Z"
   },
   {
    "duration": 46,
    "start_time": "2022-09-22T06:28:32.350Z"
   },
   {
    "duration": 235,
    "start_time": "2022-09-22T06:28:32.398Z"
   },
   {
    "duration": 69,
    "start_time": "2022-09-22T06:28:32.634Z"
   },
   {
    "duration": 7,
    "start_time": "2022-09-22T06:28:32.705Z"
   },
   {
    "duration": 57,
    "start_time": "2022-09-22T06:28:32.714Z"
   },
   {
    "duration": 78,
    "start_time": "2022-09-22T06:28:32.773Z"
   },
   {
    "duration": 8,
    "start_time": "2022-09-22T06:28:32.853Z"
   },
   {
    "duration": 66,
    "start_time": "2022-09-22T06:28:32.863Z"
   },
   {
    "duration": 14,
    "start_time": "2022-09-22T06:28:32.935Z"
   },
   {
    "duration": 37,
    "start_time": "2022-09-22T06:28:32.950Z"
   },
   {
    "duration": 17,
    "start_time": "2022-09-22T06:28:32.988Z"
   },
   {
    "duration": 32,
    "start_time": "2022-09-22T06:28:33.007Z"
   },
   {
    "duration": 100,
    "start_time": "2022-09-22T06:28:33.040Z"
   },
   {
    "duration": 1559,
    "start_time": "2022-09-22T06:28:33.146Z"
   },
   {
    "duration": 45,
    "start_time": "2022-09-22T06:28:34.707Z"
   },
   {
    "duration": 90,
    "start_time": "2022-09-22T06:28:34.754Z"
   },
   {
    "duration": 32,
    "start_time": "2022-09-22T06:28:34.845Z"
   },
   {
    "duration": 18,
    "start_time": "2022-09-22T06:28:34.881Z"
   },
   {
    "duration": 55,
    "start_time": "2022-09-22T06:28:34.900Z"
   },
   {
    "duration": 22,
    "start_time": "2022-09-22T06:28:34.956Z"
   },
   {
    "duration": 19,
    "start_time": "2022-09-22T06:28:34.980Z"
   },
   {
    "duration": 54,
    "start_time": "2022-09-22T06:28:35.000Z"
   },
   {
    "duration": 23,
    "start_time": "2022-09-22T06:28:35.056Z"
   },
   {
    "duration": 19,
    "start_time": "2022-09-22T06:28:35.081Z"
   },
   {
    "duration": 15,
    "start_time": "2022-09-22T06:28:35.102Z"
   },
   {
    "duration": 19,
    "start_time": "2022-09-22T06:28:35.118Z"
   },
   {
    "duration": 24,
    "start_time": "2022-09-22T06:28:35.142Z"
   },
   {
    "duration": 45,
    "start_time": "2022-09-22T06:28:35.168Z"
   },
   {
    "duration": 15105,
    "start_time": "2022-09-22T06:28:35.215Z"
   },
   {
    "duration": 33,
    "start_time": "2022-09-22T06:28:50.322Z"
   },
   {
    "duration": 93,
    "start_time": "2022-09-22T06:28:50.358Z"
   },
   {
    "duration": 760,
    "start_time": "2022-09-22T06:28:50.453Z"
   },
   {
    "duration": 573,
    "start_time": "2022-09-22T06:28:51.215Z"
   },
   {
    "duration": 331,
    "start_time": "2022-09-22T06:28:51.790Z"
   },
   {
    "duration": 38,
    "start_time": "2022-09-22T06:28:52.123Z"
   },
   {
    "duration": 521,
    "start_time": "2022-09-22T06:28:52.163Z"
   },
   {
    "duration": 9,
    "start_time": "2022-09-22T06:28:52.686Z"
   },
   {
    "duration": 47,
    "start_time": "2022-09-22T06:28:52.697Z"
   },
   {
    "duration": 35,
    "start_time": "2022-09-22T06:28:52.746Z"
   },
   {
    "duration": 402,
    "start_time": "2022-09-22T06:28:52.783Z"
   },
   {
    "duration": 22,
    "start_time": "2022-09-22T06:28:53.186Z"
   },
   {
    "duration": 69,
    "start_time": "2022-09-22T06:28:53.210Z"
   },
   {
    "duration": 2,
    "start_time": "2022-09-22T06:28:53.281Z"
   },
   {
    "duration": 8,
    "start_time": "2022-09-22T06:28:53.285Z"
   },
   {
    "duration": 49141,
    "start_time": "2022-09-22T06:28:53.294Z"
   },
   {
    "duration": 508,
    "start_time": "2022-09-22T06:29:42.437Z"
   },
   {
    "duration": 4,
    "start_time": "2022-09-22T06:29:42.947Z"
   },
   {
    "duration": 7,
    "start_time": "2022-09-22T06:29:42.952Z"
   },
   {
    "duration": 2973,
    "start_time": "2022-09-22T06:29:42.960Z"
   },
   {
    "duration": 311,
    "start_time": "2022-09-22T06:29:45.936Z"
   },
   {
    "duration": 10,
    "start_time": "2022-09-22T06:29:46.249Z"
   },
   {
    "duration": 97,
    "start_time": "2022-09-22T06:29:46.262Z"
   },
   {
    "duration": 77,
    "start_time": "2022-09-22T06:29:46.361Z"
   },
   {
    "duration": 286,
    "start_time": "2022-09-22T06:29:46.440Z"
   },
   {
    "duration": 12306,
    "start_time": "2022-09-22T06:29:46.733Z"
   },
   {
    "duration": 40,
    "start_time": "2022-09-22T06:29:59.041Z"
   },
   {
    "duration": 6175,
    "start_time": "2022-09-22T06:29:59.083Z"
   },
   {
    "duration": 15,
    "start_time": "2022-09-22T06:30:05.260Z"
   },
   {
    "duration": 44,
    "start_time": "2022-09-22T06:30:05.277Z"
   },
   {
    "duration": 614,
    "start_time": "2022-09-22T06:30:05.323Z"
   },
   {
    "duration": 43,
    "start_time": "2022-09-22T06:30:05.939Z"
   },
   {
    "duration": 15513,
    "start_time": "2022-09-22T06:30:05.984Z"
   },
   {
    "duration": 6,
    "start_time": "2022-09-22T06:30:21.499Z"
   },
   {
    "duration": 21981,
    "start_time": "2022-09-22T06:30:21.506Z"
   },
   {
    "duration": 6,
    "start_time": "2022-09-22T06:30:43.489Z"
   },
   {
    "duration": 19947,
    "start_time": "2022-09-22T06:30:43.497Z"
   },
   {
    "duration": 7,
    "start_time": "2022-09-22T06:31:03.446Z"
   },
   {
    "duration": 67191,
    "start_time": "2022-09-22T06:31:03.454Z"
   },
   {
    "duration": 11,
    "start_time": "2022-09-22T06:32:10.734Z"
   },
   {
    "duration": 88,
    "start_time": "2022-09-22T06:32:10.747Z"
   },
   {
    "duration": 0,
    "start_time": "2022-09-22T06:32:10.837Z"
   },
   {
    "duration": 16,
    "start_time": "2022-09-22T06:35:39.706Z"
   },
   {
    "duration": 12965,
    "start_time": "2022-09-22T06:35:49.850Z"
   },
   {
    "duration": 41,
    "start_time": "2022-09-22T06:36:07.545Z"
   },
   {
    "duration": 4,
    "start_time": "2022-09-22T06:36:12.146Z"
   },
   {
    "duration": 6899,
    "start_time": "2022-09-22T06:39:58.098Z"
   },
   {
    "duration": 28,
    "start_time": "2022-09-22T06:40:08.506Z"
   },
   {
    "duration": 6,
    "start_time": "2022-09-22T06:40:25.138Z"
   },
   {
    "duration": 5,
    "start_time": "2022-09-22T06:41:14.329Z"
   },
   {
    "duration": 7,
    "start_time": "2022-09-22T06:41:24.379Z"
   },
   {
    "duration": 4,
    "start_time": "2022-09-22T06:41:25.682Z"
   },
   {
    "duration": 7,
    "start_time": "2022-09-22T06:42:02.081Z"
   },
   {
    "duration": 4,
    "start_time": "2022-09-22T06:42:02.937Z"
   },
   {
    "duration": 1369,
    "start_time": "2022-09-22T06:45:54.823Z"
   },
   {
    "duration": 1930,
    "start_time": "2022-09-22T06:45:56.194Z"
   },
   {
    "duration": 63,
    "start_time": "2022-09-22T06:45:58.125Z"
   },
   {
    "duration": 450,
    "start_time": "2022-09-22T06:45:58.190Z"
   },
   {
    "duration": 485,
    "start_time": "2022-09-22T06:45:58.641Z"
   },
   {
    "duration": 425,
    "start_time": "2022-09-22T06:45:59.127Z"
   },
   {
    "duration": 164,
    "start_time": "2022-09-22T06:45:59.554Z"
   },
   {
    "duration": 103,
    "start_time": "2022-09-22T06:45:59.720Z"
   },
   {
    "duration": 12,
    "start_time": "2022-09-22T06:45:59.825Z"
   },
   {
    "duration": 40,
    "start_time": "2022-09-22T06:45:59.840Z"
   },
   {
    "duration": 63,
    "start_time": "2022-09-22T06:45:59.881Z"
   },
   {
    "duration": 216,
    "start_time": "2022-09-22T06:45:59.946Z"
   },
   {
    "duration": 73,
    "start_time": "2022-09-22T06:46:00.163Z"
   },
   {
    "duration": 7,
    "start_time": "2022-09-22T06:46:00.237Z"
   },
   {
    "duration": 54,
    "start_time": "2022-09-22T06:46:00.246Z"
   },
   {
    "duration": 68,
    "start_time": "2022-09-22T06:46:00.302Z"
   },
   {
    "duration": 6,
    "start_time": "2022-09-22T06:46:00.372Z"
   },
   {
    "duration": 78,
    "start_time": "2022-09-22T06:46:00.380Z"
   },
   {
    "duration": 6,
    "start_time": "2022-09-22T06:46:00.460Z"
   },
   {
    "duration": 72,
    "start_time": "2022-09-22T06:46:00.468Z"
   },
   {
    "duration": 31,
    "start_time": "2022-09-22T06:46:00.541Z"
   },
   {
    "duration": 17,
    "start_time": "2022-09-22T06:46:00.573Z"
   },
   {
    "duration": 143,
    "start_time": "2022-09-22T06:46:00.592Z"
   },
   {
    "duration": 1561,
    "start_time": "2022-09-22T06:46:00.737Z"
   },
   {
    "duration": 42,
    "start_time": "2022-09-22T06:46:02.299Z"
   },
   {
    "duration": 73,
    "start_time": "2022-09-22T06:46:02.343Z"
   },
   {
    "duration": 41,
    "start_time": "2022-09-22T06:46:02.418Z"
   },
   {
    "duration": 44,
    "start_time": "2022-09-22T06:46:02.463Z"
   },
   {
    "duration": 28,
    "start_time": "2022-09-22T06:46:02.509Z"
   },
   {
    "duration": 46,
    "start_time": "2022-09-22T06:46:02.539Z"
   },
   {
    "duration": 19,
    "start_time": "2022-09-22T06:46:02.586Z"
   },
   {
    "duration": 43,
    "start_time": "2022-09-22T06:46:02.606Z"
   },
   {
    "duration": 36,
    "start_time": "2022-09-22T06:46:02.651Z"
   },
   {
    "duration": 20,
    "start_time": "2022-09-22T06:46:02.689Z"
   },
   {
    "duration": 11,
    "start_time": "2022-09-22T06:46:02.711Z"
   },
   {
    "duration": 12,
    "start_time": "2022-09-22T06:46:02.724Z"
   },
   {
    "duration": 31,
    "start_time": "2022-09-22T06:46:02.737Z"
   },
   {
    "duration": 45,
    "start_time": "2022-09-22T06:46:02.770Z"
   },
   {
    "duration": 13482,
    "start_time": "2022-09-22T06:46:02.816Z"
   },
   {
    "duration": 20,
    "start_time": "2022-09-22T06:46:16.300Z"
   },
   {
    "duration": 117,
    "start_time": "2022-09-22T06:46:16.322Z"
   },
   {
    "duration": 698,
    "start_time": "2022-09-22T06:46:16.441Z"
   },
   {
    "duration": 555,
    "start_time": "2022-09-22T06:46:17.141Z"
   },
   {
    "duration": 299,
    "start_time": "2022-09-22T06:46:17.697Z"
   },
   {
    "duration": 17,
    "start_time": "2022-09-22T06:46:17.998Z"
   },
   {
    "duration": 490,
    "start_time": "2022-09-22T06:46:18.016Z"
   },
   {
    "duration": 9,
    "start_time": "2022-09-22T06:46:18.508Z"
   },
   {
    "duration": 37,
    "start_time": "2022-09-22T06:46:18.518Z"
   },
   {
    "duration": 26,
    "start_time": "2022-09-22T06:46:18.557Z"
   },
   {
    "duration": 347,
    "start_time": "2022-09-22T06:46:18.585Z"
   },
   {
    "duration": 22,
    "start_time": "2022-09-22T06:46:18.933Z"
   },
   {
    "duration": 43,
    "start_time": "2022-09-22T06:46:18.957Z"
   },
   {
    "duration": 2,
    "start_time": "2022-09-22T06:46:19.002Z"
   },
   {
    "duration": 6,
    "start_time": "2022-09-22T06:46:19.006Z"
   },
   {
    "duration": 3609,
    "start_time": "2022-09-22T06:46:19.032Z"
   },
   {
    "duration": 512,
    "start_time": "2022-09-22T06:46:22.642Z"
   },
   {
    "duration": 80,
    "start_time": "2022-09-22T06:46:23.156Z"
   },
   {
    "duration": 8,
    "start_time": "2022-09-22T06:46:23.237Z"
   },
   {
    "duration": 2788,
    "start_time": "2022-09-22T06:46:23.246Z"
   },
   {
    "duration": 114,
    "start_time": "2022-09-22T06:46:26.036Z"
   },
   {
    "duration": 0,
    "start_time": "2022-09-22T06:46:26.152Z"
   },
   {
    "duration": 0,
    "start_time": "2022-09-22T06:46:26.154Z"
   },
   {
    "duration": 0,
    "start_time": "2022-09-22T06:46:26.155Z"
   },
   {
    "duration": 0,
    "start_time": "2022-09-22T06:46:26.156Z"
   },
   {
    "duration": 0,
    "start_time": "2022-09-22T06:46:26.157Z"
   },
   {
    "duration": 0,
    "start_time": "2022-09-22T06:46:26.159Z"
   },
   {
    "duration": 0,
    "start_time": "2022-09-22T06:46:26.160Z"
   },
   {
    "duration": 0,
    "start_time": "2022-09-22T06:46:26.161Z"
   },
   {
    "duration": 0,
    "start_time": "2022-09-22T06:46:26.162Z"
   },
   {
    "duration": 0,
    "start_time": "2022-09-22T06:46:26.163Z"
   },
   {
    "duration": 0,
    "start_time": "2022-09-22T06:46:26.164Z"
   },
   {
    "duration": 0,
    "start_time": "2022-09-22T06:46:26.165Z"
   },
   {
    "duration": 0,
    "start_time": "2022-09-22T06:46:26.166Z"
   },
   {
    "duration": 0,
    "start_time": "2022-09-22T06:46:26.167Z"
   },
   {
    "duration": 0,
    "start_time": "2022-09-22T06:46:26.168Z"
   },
   {
    "duration": 0,
    "start_time": "2022-09-22T06:46:26.169Z"
   },
   {
    "duration": 0,
    "start_time": "2022-09-22T06:46:26.170Z"
   },
   {
    "duration": 0,
    "start_time": "2022-09-22T06:46:26.171Z"
   },
   {
    "duration": 0,
    "start_time": "2022-09-22T06:46:26.172Z"
   },
   {
    "duration": 0,
    "start_time": "2022-09-22T06:46:26.174Z"
   },
   {
    "duration": 0,
    "start_time": "2022-09-22T06:46:26.176Z"
   },
   {
    "duration": 0,
    "start_time": "2022-09-22T06:46:26.176Z"
   },
   {
    "duration": 0,
    "start_time": "2022-09-22T06:46:26.178Z"
   },
   {
    "duration": 0,
    "start_time": "2022-09-22T06:46:26.179Z"
   },
   {
    "duration": 0,
    "start_time": "2022-09-22T06:46:26.181Z"
   },
   {
    "duration": 0,
    "start_time": "2022-09-22T06:46:26.182Z"
   },
   {
    "duration": 0,
    "start_time": "2022-09-22T06:46:26.234Z"
   },
   {
    "duration": 0,
    "start_time": "2022-09-22T06:46:26.236Z"
   },
   {
    "duration": 0,
    "start_time": "2022-09-22T06:46:26.237Z"
   },
   {
    "duration": 5332,
    "start_time": "2022-09-22T06:47:19.706Z"
   },
   {
    "duration": 10,
    "start_time": "2022-09-22T06:47:27.137Z"
   },
   {
    "duration": 257,
    "start_time": "2022-09-22T06:47:37.186Z"
   },
   {
    "duration": 3,
    "start_time": "2022-09-22T06:47:42.058Z"
   },
   {
    "duration": 437,
    "start_time": "2022-09-22T06:48:47.401Z"
   },
   {
    "duration": 726,
    "start_time": "2022-09-22T06:54:55.825Z"
   },
   {
    "duration": 693,
    "start_time": "2022-09-22T06:55:07.772Z"
   },
   {
    "duration": 2889,
    "start_time": "2022-09-22T06:55:35.250Z"
   },
   {
    "duration": 612,
    "start_time": "2022-09-22T06:55:38.141Z"
   },
   {
    "duration": 7,
    "start_time": "2022-09-22T06:55:46.858Z"
   },
   {
    "duration": 1355,
    "start_time": "2022-09-22T06:57:31.480Z"
   },
   {
    "duration": 2083,
    "start_time": "2022-09-22T06:57:32.837Z"
   },
   {
    "duration": 49,
    "start_time": "2022-09-22T06:57:34.933Z"
   },
   {
    "duration": 440,
    "start_time": "2022-09-22T06:57:34.984Z"
   },
   {
    "duration": 480,
    "start_time": "2022-09-22T06:57:35.425Z"
   },
   {
    "duration": 431,
    "start_time": "2022-09-22T06:57:35.907Z"
   },
   {
    "duration": 165,
    "start_time": "2022-09-22T06:57:36.340Z"
   },
   {
    "duration": 94,
    "start_time": "2022-09-22T06:57:36.506Z"
   },
   {
    "duration": 7,
    "start_time": "2022-09-22T06:57:36.603Z"
   },
   {
    "duration": 51,
    "start_time": "2022-09-22T06:57:36.612Z"
   },
   {
    "duration": 45,
    "start_time": "2022-09-22T06:57:36.665Z"
   },
   {
    "duration": 217,
    "start_time": "2022-09-22T06:57:36.712Z"
   },
   {
    "duration": 62,
    "start_time": "2022-09-22T06:57:36.931Z"
   },
   {
    "duration": 6,
    "start_time": "2022-09-22T06:57:36.995Z"
   },
   {
    "duration": 50,
    "start_time": "2022-09-22T06:57:37.002Z"
   },
   {
    "duration": 59,
    "start_time": "2022-09-22T06:57:37.053Z"
   },
   {
    "duration": 20,
    "start_time": "2022-09-22T06:57:37.114Z"
   },
   {
    "duration": 63,
    "start_time": "2022-09-22T06:57:37.136Z"
   },
   {
    "duration": 7,
    "start_time": "2022-09-22T06:57:37.201Z"
   },
   {
    "duration": 51,
    "start_time": "2022-09-22T06:57:37.210Z"
   },
   {
    "duration": 15,
    "start_time": "2022-09-22T06:57:37.263Z"
   },
   {
    "duration": 11,
    "start_time": "2022-09-22T06:57:37.279Z"
   },
   {
    "duration": 106,
    "start_time": "2022-09-22T06:57:37.291Z"
   },
   {
    "duration": 1529,
    "start_time": "2022-09-22T06:57:37.399Z"
   },
   {
    "duration": 37,
    "start_time": "2022-09-22T06:57:38.929Z"
   },
   {
    "duration": 83,
    "start_time": "2022-09-22T06:57:38.968Z"
   },
   {
    "duration": 30,
    "start_time": "2022-09-22T06:57:39.055Z"
   },
   {
    "duration": 20,
    "start_time": "2022-09-22T06:57:39.086Z"
   },
   {
    "duration": 42,
    "start_time": "2022-09-22T06:57:39.107Z"
   },
   {
    "duration": 20,
    "start_time": "2022-09-22T06:57:39.151Z"
   },
   {
    "duration": 22,
    "start_time": "2022-09-22T06:57:39.173Z"
   },
   {
    "duration": 45,
    "start_time": "2022-09-22T06:57:39.197Z"
   },
   {
    "duration": 43,
    "start_time": "2022-09-22T06:57:39.244Z"
   },
   {
    "duration": 20,
    "start_time": "2022-09-22T06:57:39.289Z"
   },
   {
    "duration": 13,
    "start_time": "2022-09-22T06:57:39.310Z"
   },
   {
    "duration": 16,
    "start_time": "2022-09-22T06:57:39.325Z"
   },
   {
    "duration": 22,
    "start_time": "2022-09-22T06:57:39.343Z"
   },
   {
    "duration": 45,
    "start_time": "2022-09-22T06:57:39.366Z"
   },
   {
    "duration": 13975,
    "start_time": "2022-09-22T06:57:39.412Z"
   },
   {
    "duration": 15,
    "start_time": "2022-09-22T06:57:53.389Z"
   },
   {
    "duration": 94,
    "start_time": "2022-09-22T06:57:53.406Z"
   },
   {
    "duration": 681,
    "start_time": "2022-09-22T06:57:53.501Z"
   },
   {
    "duration": 552,
    "start_time": "2022-09-22T06:57:54.184Z"
   },
   {
    "duration": 307,
    "start_time": "2022-09-22T06:57:54.738Z"
   },
   {
    "duration": 18,
    "start_time": "2022-09-22T06:57:55.046Z"
   },
   {
    "duration": 478,
    "start_time": "2022-09-22T06:57:55.065Z"
   },
   {
    "duration": 8,
    "start_time": "2022-09-22T06:57:55.545Z"
   },
   {
    "duration": 35,
    "start_time": "2022-09-22T06:57:55.555Z"
   },
   {
    "duration": 27,
    "start_time": "2022-09-22T06:57:55.592Z"
   },
   {
    "duration": 334,
    "start_time": "2022-09-22T06:57:55.634Z"
   },
   {
    "duration": 23,
    "start_time": "2022-09-22T06:57:55.970Z"
   },
   {
    "duration": 63,
    "start_time": "2022-09-22T06:57:55.995Z"
   },
   {
    "duration": 3,
    "start_time": "2022-09-22T06:57:56.060Z"
   },
   {
    "duration": 8,
    "start_time": "2022-09-22T06:57:56.064Z"
   },
   {
    "duration": 3572,
    "start_time": "2022-09-22T06:57:56.073Z"
   },
   {
    "duration": 803,
    "start_time": "2022-09-22T06:57:59.646Z"
   },
   {
    "duration": 4,
    "start_time": "2022-09-22T06:58:00.451Z"
   },
   {
    "duration": 41,
    "start_time": "2022-09-22T06:58:00.457Z"
   },
   {
    "duration": 2838,
    "start_time": "2022-09-22T06:58:00.500Z"
   },
   {
    "duration": 562,
    "start_time": "2022-09-22T06:58:03.340Z"
   },
   {
    "duration": 4,
    "start_time": "2022-09-22T06:58:03.904Z"
   },
   {
    "duration": 46,
    "start_time": "2022-09-22T06:58:03.909Z"
   },
   {
    "duration": 56,
    "start_time": "2022-09-22T06:58:03.957Z"
   },
   {
    "duration": 274,
    "start_time": "2022-09-22T06:58:04.015Z"
   },
   {
    "duration": 11807,
    "start_time": "2022-09-22T06:58:04.291Z"
   },
   {
    "duration": 42,
    "start_time": "2022-09-22T06:58:16.100Z"
   },
   {
    "duration": 3,
    "start_time": "2022-09-22T06:58:16.144Z"
   },
   {
    "duration": 6346,
    "start_time": "2022-09-22T06:58:16.149Z"
   },
   {
    "duration": 26,
    "start_time": "2022-09-22T06:58:22.497Z"
   },
   {
    "duration": 4,
    "start_time": "2022-09-22T06:58:22.524Z"
   },
   {
    "duration": 53,
    "start_time": "2022-09-22T06:58:22.529Z"
   },
   {
    "duration": 607,
    "start_time": "2022-09-22T06:58:22.584Z"
   },
   {
    "duration": 49,
    "start_time": "2022-09-22T06:58:23.192Z"
   },
   {
    "duration": 16080,
    "start_time": "2022-09-22T06:58:23.243Z"
   },
   {
    "duration": 12,
    "start_time": "2022-09-22T06:58:39.325Z"
   },
   {
    "duration": 4,
    "start_time": "2022-09-22T06:58:39.338Z"
   },
   {
    "duration": 22451,
    "start_time": "2022-09-22T06:58:39.343Z"
   },
   {
    "duration": 6,
    "start_time": "2022-09-22T06:59:01.796Z"
   },
   {
    "duration": 13,
    "start_time": "2022-09-22T06:59:01.804Z"
   },
   {
    "duration": 20227,
    "start_time": "2022-09-22T06:59:01.819Z"
   },
   {
    "duration": 6,
    "start_time": "2022-09-22T06:59:22.052Z"
   },
   {
    "duration": 4,
    "start_time": "2022-09-22T06:59:22.060Z"
   },
   {
    "duration": 68272,
    "start_time": "2022-09-22T06:59:22.066Z"
   },
   {
    "duration": 97,
    "start_time": "2022-09-22T07:00:30.340Z"
   },
   {
    "duration": 21,
    "start_time": "2022-09-22T07:00:30.439Z"
   },
   {
    "duration": 181336,
    "start_time": "2022-09-22T07:00:30.462Z"
   },
   {
    "duration": 411,
    "start_time": "2022-09-22T07:03:31.800Z"
   },
   {
    "duration": 4,
    "start_time": "2022-09-22T07:03:32.213Z"
   },
   {
    "duration": 34,
    "start_time": "2022-09-22T07:03:32.219Z"
   },
   {
    "duration": 8,
    "start_time": "2022-09-22T07:04:01.610Z"
   },
   {
    "duration": 8,
    "start_time": "2022-09-22T07:04:44.458Z"
   },
   {
    "duration": 117,
    "start_time": "2022-09-22T07:05:23.779Z"
   },
   {
    "duration": 16,
    "start_time": "2022-09-22T07:05:41.066Z"
   },
   {
    "duration": 15,
    "start_time": "2022-09-22T07:05:57.482Z"
   },
   {
    "duration": 13,
    "start_time": "2022-09-22T07:06:28.850Z"
   },
   {
    "duration": 8,
    "start_time": "2022-09-22T07:06:34.594Z"
   },
   {
    "duration": 8,
    "start_time": "2022-09-22T07:06:45.514Z"
   },
   {
    "duration": 9,
    "start_time": "2022-09-22T07:07:23.250Z"
   },
   {
    "duration": 10,
    "start_time": "2022-09-22T07:07:28.281Z"
   },
   {
    "duration": 4,
    "start_time": "2022-09-22T07:11:36.726Z"
   },
   {
    "duration": 22,
    "start_time": "2022-09-22T07:14:28.914Z"
   },
   {
    "duration": 10,
    "start_time": "2022-09-22T07:15:20.337Z"
   },
   {
    "duration": 13,
    "start_time": "2022-09-22T07:15:30.363Z"
   },
   {
    "duration": 10,
    "start_time": "2022-09-22T07:15:50.419Z"
   },
   {
    "duration": 9,
    "start_time": "2022-09-22T07:15:57.811Z"
   },
   {
    "duration": 113,
    "start_time": "2022-09-22T07:27:03.499Z"
   },
   {
    "duration": 1647,
    "start_time": "2022-09-22T07:27:49.896Z"
   },
   {
    "duration": 1555,
    "start_time": "2022-09-22T07:27:51.545Z"
   },
   {
    "duration": 64,
    "start_time": "2022-09-22T07:27:53.104Z"
   },
   {
    "duration": 463,
    "start_time": "2022-09-22T07:27:53.170Z"
   },
   {
    "duration": 516,
    "start_time": "2022-09-22T07:27:53.635Z"
   },
   {
    "duration": 433,
    "start_time": "2022-09-22T07:27:54.153Z"
   },
   {
    "duration": 125,
    "start_time": "2022-09-22T07:27:54.588Z"
   },
   {
    "duration": 92,
    "start_time": "2022-09-22T07:27:54.714Z"
   },
   {
    "duration": 8,
    "start_time": "2022-09-22T07:27:54.808Z"
   },
   {
    "duration": 52,
    "start_time": "2022-09-22T07:27:54.818Z"
   },
   {
    "duration": 47,
    "start_time": "2022-09-22T07:27:54.872Z"
   },
   {
    "duration": 207,
    "start_time": "2022-09-22T07:27:54.934Z"
   },
   {
    "duration": 61,
    "start_time": "2022-09-22T07:27:55.142Z"
   },
   {
    "duration": 9,
    "start_time": "2022-09-22T07:27:55.205Z"
   },
   {
    "duration": 37,
    "start_time": "2022-09-22T07:27:55.233Z"
   },
   {
    "duration": 77,
    "start_time": "2022-09-22T07:27:55.271Z"
   },
   {
    "duration": 7,
    "start_time": "2022-09-22T07:27:55.349Z"
   },
   {
    "duration": 81,
    "start_time": "2022-09-22T07:27:55.358Z"
   },
   {
    "duration": 7,
    "start_time": "2022-09-22T07:27:55.441Z"
   },
   {
    "duration": 36,
    "start_time": "2022-09-22T07:27:55.449Z"
   },
   {
    "duration": 16,
    "start_time": "2022-09-22T07:27:55.486Z"
   },
   {
    "duration": 33,
    "start_time": "2022-09-22T07:27:55.504Z"
   },
   {
    "duration": 97,
    "start_time": "2022-09-22T07:27:55.539Z"
   },
   {
    "duration": 1635,
    "start_time": "2022-09-22T07:27:55.637Z"
   },
   {
    "duration": 35,
    "start_time": "2022-09-22T07:27:57.274Z"
   },
   {
    "duration": 85,
    "start_time": "2022-09-22T07:27:57.311Z"
   },
   {
    "duration": 38,
    "start_time": "2022-09-22T07:27:57.400Z"
   },
   {
    "duration": 24,
    "start_time": "2022-09-22T07:27:57.440Z"
   },
   {
    "duration": 36,
    "start_time": "2022-09-22T07:27:57.465Z"
   },
   {
    "duration": 27,
    "start_time": "2022-09-22T07:27:57.503Z"
   },
   {
    "duration": 21,
    "start_time": "2022-09-22T07:27:57.532Z"
   },
   {
    "duration": 30,
    "start_time": "2022-09-22T07:27:57.555Z"
   },
   {
    "duration": 22,
    "start_time": "2022-09-22T07:27:57.587Z"
   },
   {
    "duration": 29,
    "start_time": "2022-09-22T07:27:57.610Z"
   },
   {
    "duration": 12,
    "start_time": "2022-09-22T07:27:57.640Z"
   },
   {
    "duration": 9,
    "start_time": "2022-09-22T07:27:57.654Z"
   },
   {
    "duration": 24,
    "start_time": "2022-09-22T07:27:57.665Z"
   },
   {
    "duration": 63,
    "start_time": "2022-09-22T07:27:57.690Z"
   },
   {
    "duration": 13817,
    "start_time": "2022-09-22T07:27:57.754Z"
   },
   {
    "duration": 21,
    "start_time": "2022-09-22T07:28:11.573Z"
   },
   {
    "duration": 113,
    "start_time": "2022-09-22T07:28:11.595Z"
   },
   {
    "duration": 737,
    "start_time": "2022-09-22T07:28:11.710Z"
   },
   {
    "duration": 550,
    "start_time": "2022-09-22T07:28:12.449Z"
   },
   {
    "duration": 297,
    "start_time": "2022-09-22T07:28:13.001Z"
   },
   {
    "duration": 16,
    "start_time": "2022-09-22T07:28:13.299Z"
   },
   {
    "duration": 465,
    "start_time": "2022-09-22T07:28:13.317Z"
   },
   {
    "duration": 8,
    "start_time": "2022-09-22T07:28:13.784Z"
   },
   {
    "duration": 41,
    "start_time": "2022-09-22T07:28:13.793Z"
   },
   {
    "duration": 25,
    "start_time": "2022-09-22T07:28:13.836Z"
   },
   {
    "duration": 323,
    "start_time": "2022-09-22T07:28:13.862Z"
   },
   {
    "duration": 25,
    "start_time": "2022-09-22T07:28:14.186Z"
   },
   {
    "duration": 50,
    "start_time": "2022-09-22T07:28:14.213Z"
   },
   {
    "duration": 3,
    "start_time": "2022-09-22T07:28:14.265Z"
   },
   {
    "duration": 6,
    "start_time": "2022-09-22T07:28:14.269Z"
   },
   {
    "duration": 3665,
    "start_time": "2022-09-22T07:28:14.277Z"
   },
   {
    "duration": 780,
    "start_time": "2022-09-22T07:28:17.944Z"
   },
   {
    "duration": 4,
    "start_time": "2022-09-22T07:28:18.726Z"
   },
   {
    "duration": 6,
    "start_time": "2022-09-22T07:28:18.731Z"
   },
   {
    "duration": 2701,
    "start_time": "2022-09-22T07:28:18.739Z"
   },
   {
    "duration": 604,
    "start_time": "2022-09-22T07:28:21.441Z"
   },
   {
    "duration": 4,
    "start_time": "2022-09-22T07:28:22.047Z"
   },
   {
    "duration": 29,
    "start_time": "2022-09-22T07:28:22.053Z"
   },
   {
    "duration": 68,
    "start_time": "2022-09-22T07:28:22.083Z"
   },
   {
    "duration": 275,
    "start_time": "2022-09-22T07:28:22.153Z"
   },
   {
    "duration": 12362,
    "start_time": "2022-09-22T07:28:22.433Z"
   },
   {
    "duration": 41,
    "start_time": "2022-09-22T07:28:34.797Z"
   },
   {
    "duration": 4,
    "start_time": "2022-09-22T07:28:34.840Z"
   },
   {
    "duration": 6396,
    "start_time": "2022-09-22T07:28:34.845Z"
   },
   {
    "duration": 27,
    "start_time": "2022-09-22T07:28:41.243Z"
   },
   {
    "duration": 3,
    "start_time": "2022-09-22T07:28:41.272Z"
   },
   {
    "duration": 10,
    "start_time": "2022-09-22T07:28:41.277Z"
   },
   {
    "duration": 54,
    "start_time": "2022-09-22T07:28:41.288Z"
   },
   {
    "duration": 667,
    "start_time": "2022-09-22T07:28:41.344Z"
   },
   {
    "duration": 47,
    "start_time": "2022-09-22T07:28:42.013Z"
   },
   {
    "duration": 16457,
    "start_time": "2022-09-22T07:28:42.061Z"
   },
   {
    "duration": 13,
    "start_time": "2022-09-22T07:28:58.521Z"
   },
   {
    "duration": 9,
    "start_time": "2022-09-22T07:28:58.536Z"
   },
   {
    "duration": 22735,
    "start_time": "2022-09-22T07:28:58.546Z"
   },
   {
    "duration": 7,
    "start_time": "2022-09-22T07:29:21.282Z"
   },
   {
    "duration": 4,
    "start_time": "2022-09-22T07:29:21.290Z"
   },
   {
    "duration": 23135,
    "start_time": "2022-09-22T07:29:21.299Z"
   },
   {
    "duration": 8,
    "start_time": "2022-09-22T07:29:44.435Z"
   },
   {
    "duration": 6,
    "start_time": "2022-09-22T07:29:44.445Z"
   },
   {
    "duration": 60288,
    "start_time": "2022-09-22T07:29:44.452Z"
   },
   {
    "duration": 93,
    "start_time": "2022-09-22T07:30:44.742Z"
   },
   {
    "duration": 7,
    "start_time": "2022-09-22T07:30:44.837Z"
   },
   {
    "duration": 1431,
    "start_time": "2022-09-22T07:38:00.573Z"
   },
   {
    "duration": 1603,
    "start_time": "2022-09-22T07:38:02.006Z"
   },
   {
    "duration": 59,
    "start_time": "2022-09-22T07:38:03.610Z"
   },
   {
    "duration": 493,
    "start_time": "2022-09-22T07:38:03.672Z"
   },
   {
    "duration": 513,
    "start_time": "2022-09-22T07:38:04.168Z"
   },
   {
    "duration": 446,
    "start_time": "2022-09-22T07:38:04.683Z"
   },
   {
    "duration": 138,
    "start_time": "2022-09-22T07:38:05.139Z"
   },
   {
    "duration": 90,
    "start_time": "2022-09-22T07:38:05.278Z"
   },
   {
    "duration": 6,
    "start_time": "2022-09-22T07:38:05.370Z"
   },
   {
    "duration": 62,
    "start_time": "2022-09-22T07:38:05.377Z"
   },
   {
    "duration": 50,
    "start_time": "2022-09-22T07:38:05.441Z"
   },
   {
    "duration": 220,
    "start_time": "2022-09-22T07:38:05.493Z"
   },
   {
    "duration": 74,
    "start_time": "2022-09-22T07:38:05.715Z"
   },
   {
    "duration": 6,
    "start_time": "2022-09-22T07:38:05.793Z"
   },
   {
    "duration": 54,
    "start_time": "2022-09-22T07:38:05.801Z"
   },
   {
    "duration": 63,
    "start_time": "2022-09-22T07:38:05.857Z"
   },
   {
    "duration": 10,
    "start_time": "2022-09-22T07:38:05.939Z"
   },
   {
    "duration": 69,
    "start_time": "2022-09-22T07:38:05.951Z"
   },
   {
    "duration": 6,
    "start_time": "2022-09-22T07:38:06.022Z"
   },
   {
    "duration": 34,
    "start_time": "2022-09-22T07:38:06.036Z"
   },
   {
    "duration": 15,
    "start_time": "2022-09-22T07:38:06.072Z"
   },
   {
    "duration": 11,
    "start_time": "2022-09-22T07:38:06.088Z"
   },
   {
    "duration": 136,
    "start_time": "2022-09-22T07:38:06.101Z"
   },
   {
    "duration": 1639,
    "start_time": "2022-09-22T07:38:06.239Z"
   },
   {
    "duration": 36,
    "start_time": "2022-09-22T07:38:07.880Z"
   },
   {
    "duration": 89,
    "start_time": "2022-09-22T07:38:07.918Z"
   },
   {
    "duration": 49,
    "start_time": "2022-09-22T07:38:08.008Z"
   },
   {
    "duration": 21,
    "start_time": "2022-09-22T07:38:08.059Z"
   },
   {
    "duration": 30,
    "start_time": "2022-09-22T07:38:08.082Z"
   },
   {
    "duration": 39,
    "start_time": "2022-09-22T07:38:08.113Z"
   },
   {
    "duration": 22,
    "start_time": "2022-09-22T07:38:08.156Z"
   },
   {
    "duration": 39,
    "start_time": "2022-09-22T07:38:08.180Z"
   },
   {
    "duration": 39,
    "start_time": "2022-09-22T07:38:08.221Z"
   },
   {
    "duration": 21,
    "start_time": "2022-09-22T07:38:08.262Z"
   },
   {
    "duration": 12,
    "start_time": "2022-09-22T07:38:08.285Z"
   },
   {
    "duration": 11,
    "start_time": "2022-09-22T07:38:08.299Z"
   },
   {
    "duration": 26,
    "start_time": "2022-09-22T07:38:08.334Z"
   },
   {
    "duration": 51,
    "start_time": "2022-09-22T07:38:08.362Z"
   },
   {
    "duration": 14210,
    "start_time": "2022-09-22T07:38:08.415Z"
   },
   {
    "duration": 26,
    "start_time": "2022-09-22T07:38:22.626Z"
   },
   {
    "duration": 95,
    "start_time": "2022-09-22T07:38:22.656Z"
   },
   {
    "duration": 749,
    "start_time": "2022-09-22T07:38:22.753Z"
   },
   {
    "duration": 580,
    "start_time": "2022-09-22T07:38:23.503Z"
   },
   {
    "duration": 335,
    "start_time": "2022-09-22T07:38:24.085Z"
   },
   {
    "duration": 26,
    "start_time": "2022-09-22T07:38:24.422Z"
   },
   {
    "duration": 507,
    "start_time": "2022-09-22T07:38:24.450Z"
   },
   {
    "duration": 9,
    "start_time": "2022-09-22T07:38:24.958Z"
   },
   {
    "duration": 26,
    "start_time": "2022-09-22T07:38:24.969Z"
   },
   {
    "duration": 52,
    "start_time": "2022-09-22T07:38:24.996Z"
   },
   {
    "duration": 349,
    "start_time": "2022-09-22T07:38:25.050Z"
   },
   {
    "duration": 23,
    "start_time": "2022-09-22T07:38:25.400Z"
   },
   {
    "duration": 48,
    "start_time": "2022-09-22T07:38:25.435Z"
   },
   {
    "duration": 3,
    "start_time": "2022-09-22T07:38:25.484Z"
   },
   {
    "duration": 9,
    "start_time": "2022-09-22T07:38:25.488Z"
   },
   {
    "duration": 28345,
    "start_time": "2022-09-22T07:38:25.498Z"
   },
   {
    "duration": 748,
    "start_time": "2022-09-22T07:38:53.845Z"
   },
   {
    "duration": 4,
    "start_time": "2022-09-22T07:38:54.595Z"
   },
   {
    "duration": 9,
    "start_time": "2022-09-22T07:38:54.601Z"
   },
   {
    "duration": 78330,
    "start_time": "2022-09-22T07:38:54.611Z"
   },
   {
    "duration": 593,
    "start_time": "2022-09-22T07:40:12.942Z"
   },
   {
    "duration": 4,
    "start_time": "2022-09-22T07:40:13.537Z"
   },
   {
    "duration": 28,
    "start_time": "2022-09-22T07:40:13.543Z"
   },
   {
    "duration": 70,
    "start_time": "2022-09-22T07:40:13.573Z"
   },
   {
    "duration": 285,
    "start_time": "2022-09-22T07:40:13.644Z"
   },
   {
    "duration": 11862,
    "start_time": "2022-09-22T07:40:13.933Z"
   },
   {
    "duration": 44,
    "start_time": "2022-09-22T07:40:25.796Z"
   },
   {
    "duration": 4,
    "start_time": "2022-09-22T07:40:25.842Z"
   },
   {
    "duration": 6343,
    "start_time": "2022-09-22T07:40:25.848Z"
   },
   {
    "duration": 28,
    "start_time": "2022-09-22T07:40:32.193Z"
   },
   {
    "duration": 4,
    "start_time": "2022-09-22T07:40:32.223Z"
   },
   {
    "duration": 7,
    "start_time": "2022-09-22T07:40:32.229Z"
   },
   {
    "duration": 46,
    "start_time": "2022-09-22T07:40:32.238Z"
   },
   {
    "duration": 611,
    "start_time": "2022-09-22T07:40:32.286Z"
   },
   {
    "duration": 52,
    "start_time": "2022-09-22T07:40:32.898Z"
   },
   {
    "duration": 16556,
    "start_time": "2022-09-22T07:40:32.951Z"
   },
   {
    "duration": 8,
    "start_time": "2022-09-22T07:40:49.509Z"
   },
   {
    "duration": 30,
    "start_time": "2022-09-22T07:40:49.519Z"
   },
   {
    "duration": 24123,
    "start_time": "2022-09-22T07:40:49.551Z"
   },
   {
    "duration": 6,
    "start_time": "2022-09-22T07:41:13.675Z"
   },
   {
    "duration": 10,
    "start_time": "2022-09-22T07:41:13.683Z"
   },
   {
    "duration": 22314,
    "start_time": "2022-09-22T07:41:13.694Z"
   },
   {
    "duration": 6,
    "start_time": "2022-09-22T07:41:36.009Z"
   },
   {
    "duration": 31,
    "start_time": "2022-09-22T07:41:36.017Z"
   },
   {
    "duration": 53785,
    "start_time": "2022-09-22T07:41:36.049Z"
   },
   {
    "duration": 7,
    "start_time": "2022-09-22T07:42:29.836Z"
   },
   {
    "duration": 91,
    "start_time": "2022-09-22T07:42:29.845Z"
   },
   {
    "duration": 188011,
    "start_time": "2022-09-22T07:42:29.938Z"
   },
   {
    "duration": 437,
    "start_time": "2022-09-22T07:45:37.953Z"
   },
   {
    "duration": 4,
    "start_time": "2022-09-22T07:45:38.392Z"
   },
   {
    "duration": 14,
    "start_time": "2022-09-22T07:45:38.398Z"
   },
   {
    "duration": 1407,
    "start_time": "2022-09-22T07:49:34.297Z"
   },
   {
    "duration": 1523,
    "start_time": "2022-09-22T07:49:35.706Z"
   },
   {
    "duration": 50,
    "start_time": "2022-09-22T07:49:37.231Z"
   },
   {
    "duration": 435,
    "start_time": "2022-09-22T07:49:37.282Z"
   },
   {
    "duration": 483,
    "start_time": "2022-09-22T07:49:37.719Z"
   },
   {
    "duration": 412,
    "start_time": "2022-09-22T07:49:38.204Z"
   },
   {
    "duration": 143,
    "start_time": "2022-09-22T07:49:38.618Z"
   },
   {
    "duration": 103,
    "start_time": "2022-09-22T07:49:38.762Z"
   },
   {
    "duration": 6,
    "start_time": "2022-09-22T07:49:38.866Z"
   },
   {
    "duration": 40,
    "start_time": "2022-09-22T07:49:38.875Z"
   },
   {
    "duration": 45,
    "start_time": "2022-09-22T07:49:38.933Z"
   },
   {
    "duration": 246,
    "start_time": "2022-09-22T07:49:38.979Z"
   },
   {
    "duration": 67,
    "start_time": "2022-09-22T07:49:39.227Z"
   },
   {
    "duration": 7,
    "start_time": "2022-09-22T07:49:39.295Z"
   },
   {
    "duration": 44,
    "start_time": "2022-09-22T07:49:39.303Z"
   },
   {
    "duration": 64,
    "start_time": "2022-09-22T07:49:39.349Z"
   },
   {
    "duration": 7,
    "start_time": "2022-09-22T07:49:39.414Z"
   },
   {
    "duration": 87,
    "start_time": "2022-09-22T07:49:39.422Z"
   },
   {
    "duration": 7,
    "start_time": "2022-09-22T07:49:39.510Z"
   },
   {
    "duration": 39,
    "start_time": "2022-09-22T07:49:39.519Z"
   },
   {
    "duration": 14,
    "start_time": "2022-09-22T07:49:39.560Z"
   },
   {
    "duration": 10,
    "start_time": "2022-09-22T07:49:39.576Z"
   },
   {
    "duration": 94,
    "start_time": "2022-09-22T07:49:39.588Z"
   },
   {
    "duration": 1715,
    "start_time": "2022-09-22T07:49:39.685Z"
   },
   {
    "duration": 49,
    "start_time": "2022-09-22T07:49:41.402Z"
   },
   {
    "duration": 85,
    "start_time": "2022-09-22T07:49:41.453Z"
   },
   {
    "duration": 31,
    "start_time": "2022-09-22T07:49:41.539Z"
   },
   {
    "duration": 28,
    "start_time": "2022-09-22T07:49:41.574Z"
   },
   {
    "duration": 35,
    "start_time": "2022-09-22T07:49:41.604Z"
   },
   {
    "duration": 22,
    "start_time": "2022-09-22T07:49:41.641Z"
   },
   {
    "duration": 32,
    "start_time": "2022-09-22T07:49:41.666Z"
   },
   {
    "duration": 54,
    "start_time": "2022-09-22T07:49:41.701Z"
   },
   {
    "duration": 24,
    "start_time": "2022-09-22T07:49:41.757Z"
   },
   {
    "duration": 21,
    "start_time": "2022-09-22T07:49:41.783Z"
   },
   {
    "duration": 33,
    "start_time": "2022-09-22T07:49:41.806Z"
   },
   {
    "duration": 11,
    "start_time": "2022-09-22T07:49:41.841Z"
   },
   {
    "duration": 21,
    "start_time": "2022-09-22T07:49:41.854Z"
   },
   {
    "duration": 74,
    "start_time": "2022-09-22T07:49:41.877Z"
   },
   {
    "duration": 13737,
    "start_time": "2022-09-22T07:49:41.953Z"
   },
   {
    "duration": 16,
    "start_time": "2022-09-22T07:49:55.692Z"
   },
   {
    "duration": 104,
    "start_time": "2022-09-22T07:49:55.710Z"
   },
   {
    "duration": 827,
    "start_time": "2022-09-22T07:49:55.816Z"
   },
   {
    "duration": 565,
    "start_time": "2022-09-22T07:49:56.645Z"
   },
   {
    "duration": 298,
    "start_time": "2022-09-22T07:49:57.211Z"
   },
   {
    "duration": 25,
    "start_time": "2022-09-22T07:49:57.510Z"
   },
   {
    "duration": 463,
    "start_time": "2022-09-22T07:49:57.537Z"
   },
   {
    "duration": 8,
    "start_time": "2022-09-22T07:49:58.002Z"
   },
   {
    "duration": 43,
    "start_time": "2022-09-22T07:49:58.012Z"
   },
   {
    "duration": 27,
    "start_time": "2022-09-22T07:49:58.057Z"
   },
   {
    "duration": 354,
    "start_time": "2022-09-22T07:49:58.086Z"
   },
   {
    "duration": 23,
    "start_time": "2022-09-22T07:49:58.442Z"
   },
   {
    "duration": 45,
    "start_time": "2022-09-22T07:49:58.467Z"
   },
   {
    "duration": 3,
    "start_time": "2022-09-22T07:49:58.514Z"
   },
   {
    "duration": 25,
    "start_time": "2022-09-22T07:49:58.518Z"
   },
   {
    "duration": 76099,
    "start_time": "2022-09-22T07:49:58.544Z"
   },
   {
    "duration": 804,
    "start_time": "2022-09-22T07:51:14.645Z"
   },
   {
    "duration": 4,
    "start_time": "2022-09-22T07:51:15.450Z"
   },
   {
    "duration": 4,
    "start_time": "2022-09-22T07:51:15.456Z"
   },
   {
    "duration": 3682,
    "start_time": "2022-09-22T07:51:15.462Z"
   },
   {
    "duration": 612,
    "start_time": "2022-09-22T07:51:19.145Z"
   },
   {
    "duration": 4,
    "start_time": "2022-09-22T07:51:19.759Z"
   },
   {
    "duration": 35,
    "start_time": "2022-09-22T07:51:19.765Z"
   },
   {
    "duration": 64,
    "start_time": "2022-09-22T07:51:19.801Z"
   },
   {
    "duration": 275,
    "start_time": "2022-09-22T07:51:19.867Z"
   },
   {
    "duration": 12169,
    "start_time": "2022-09-22T07:51:20.144Z"
   },
   {
    "duration": 42,
    "start_time": "2022-09-22T07:51:32.314Z"
   },
   {
    "duration": 4,
    "start_time": "2022-09-22T07:51:32.357Z"
   },
   {
    "duration": 6405,
    "start_time": "2022-09-22T07:51:32.362Z"
   },
   {
    "duration": 31,
    "start_time": "2022-09-22T07:51:38.769Z"
   },
   {
    "duration": 4,
    "start_time": "2022-09-22T07:51:38.802Z"
   },
   {
    "duration": 9,
    "start_time": "2022-09-22T07:51:38.808Z"
   },
   {
    "duration": 46,
    "start_time": "2022-09-22T07:51:38.818Z"
   },
   {
    "duration": 633,
    "start_time": "2022-09-22T07:51:38.865Z"
   },
   {
    "duration": 51,
    "start_time": "2022-09-22T07:51:39.500Z"
   },
   {
    "duration": 16916,
    "start_time": "2022-09-22T07:51:39.553Z"
   },
   {
    "duration": 8,
    "start_time": "2022-09-22T07:51:56.471Z"
   },
   {
    "duration": 21,
    "start_time": "2022-09-22T07:51:56.481Z"
   },
   {
    "duration": 22433,
    "start_time": "2022-09-22T07:51:56.504Z"
   },
   {
    "duration": 7,
    "start_time": "2022-09-22T07:52:18.938Z"
   },
   {
    "duration": 9,
    "start_time": "2022-09-22T07:52:18.947Z"
   },
   {
    "duration": 20375,
    "start_time": "2022-09-22T07:52:18.957Z"
   },
   {
    "duration": 6,
    "start_time": "2022-09-22T07:52:39.337Z"
   },
   {
    "duration": 5,
    "start_time": "2022-09-22T07:52:39.345Z"
   },
   {
    "duration": 61506,
    "start_time": "2022-09-22T07:52:39.351Z"
   },
   {
    "duration": 10,
    "start_time": "2022-09-22T07:53:40.935Z"
   },
   {
    "duration": 107,
    "start_time": "2022-09-22T07:53:40.947Z"
   },
   {
    "duration": 196176,
    "start_time": "2022-09-22T07:53:41.056Z"
   },
   {
    "duration": 451,
    "start_time": "2022-09-22T07:56:57.233Z"
   },
   {
    "duration": 4,
    "start_time": "2022-09-22T07:56:57.685Z"
   },
   {
    "duration": 13,
    "start_time": "2022-09-22T07:56:57.691Z"
   },
   {
    "duration": 1435,
    "start_time": "2022-09-22T08:30:02.850Z"
   },
   {
    "duration": 1593,
    "start_time": "2022-09-22T08:30:04.287Z"
   },
   {
    "duration": 63,
    "start_time": "2022-09-22T08:30:05.882Z"
   },
   {
    "duration": 569,
    "start_time": "2022-09-22T08:30:05.947Z"
   },
   {
    "duration": 566,
    "start_time": "2022-09-22T08:30:06.518Z"
   },
   {
    "duration": 439,
    "start_time": "2022-09-22T08:30:07.087Z"
   },
   {
    "duration": 148,
    "start_time": "2022-09-22T08:30:07.528Z"
   },
   {
    "duration": 98,
    "start_time": "2022-09-22T08:30:07.678Z"
   },
   {
    "duration": 7,
    "start_time": "2022-09-22T08:30:07.778Z"
   },
   {
    "duration": 60,
    "start_time": "2022-09-22T08:30:07.787Z"
   },
   {
    "duration": 46,
    "start_time": "2022-09-22T08:30:07.849Z"
   },
   {
    "duration": 219,
    "start_time": "2022-09-22T08:30:07.897Z"
   },
   {
    "duration": 85,
    "start_time": "2022-09-22T08:30:08.118Z"
   },
   {
    "duration": 8,
    "start_time": "2022-09-22T08:30:08.205Z"
   },
   {
    "duration": 49,
    "start_time": "2022-09-22T08:30:08.215Z"
   },
   {
    "duration": 77,
    "start_time": "2022-09-22T08:30:08.265Z"
   },
   {
    "duration": 8,
    "start_time": "2022-09-22T08:30:08.349Z"
   },
   {
    "duration": 76,
    "start_time": "2022-09-22T08:30:08.358Z"
   },
   {
    "duration": 14,
    "start_time": "2022-09-22T08:30:08.435Z"
   },
   {
    "duration": 35,
    "start_time": "2022-09-22T08:30:08.450Z"
   },
   {
    "duration": 15,
    "start_time": "2022-09-22T08:30:08.487Z"
   },
   {
    "duration": 31,
    "start_time": "2022-09-22T08:30:08.503Z"
   },
   {
    "duration": 91,
    "start_time": "2022-09-22T08:30:08.535Z"
   },
   {
    "duration": 1638,
    "start_time": "2022-09-22T08:30:08.628Z"
   },
   {
    "duration": 35,
    "start_time": "2022-09-22T08:30:10.268Z"
   },
   {
    "duration": 93,
    "start_time": "2022-09-22T08:30:10.305Z"
   },
   {
    "duration": 49,
    "start_time": "2022-09-22T08:30:10.400Z"
   },
   {
    "duration": 19,
    "start_time": "2022-09-22T08:30:10.454Z"
   },
   {
    "duration": 37,
    "start_time": "2022-09-22T08:30:10.476Z"
   },
   {
    "duration": 42,
    "start_time": "2022-09-22T08:30:10.516Z"
   },
   {
    "duration": 17,
    "start_time": "2022-09-22T08:30:10.560Z"
   },
   {
    "duration": 31,
    "start_time": "2022-09-22T08:30:10.579Z"
   },
   {
    "duration": 49,
    "start_time": "2022-09-22T08:30:10.612Z"
   },
   {
    "duration": 21,
    "start_time": "2022-09-22T08:30:10.662Z"
   },
   {
    "duration": 19,
    "start_time": "2022-09-22T08:30:10.684Z"
   },
   {
    "duration": 11,
    "start_time": "2022-09-22T08:30:10.705Z"
   },
   {
    "duration": 24,
    "start_time": "2022-09-22T08:30:10.735Z"
   },
   {
    "duration": 49,
    "start_time": "2022-09-22T08:30:10.760Z"
   },
   {
    "duration": 14656,
    "start_time": "2022-09-22T08:30:10.811Z"
   },
   {
    "duration": 17,
    "start_time": "2022-09-22T08:30:25.468Z"
   },
   {
    "duration": 99,
    "start_time": "2022-09-22T08:30:25.486Z"
   },
   {
    "duration": 753,
    "start_time": "2022-09-22T08:30:25.586Z"
   },
   {
    "duration": 653,
    "start_time": "2022-09-22T08:30:26.341Z"
   },
   {
    "duration": 332,
    "start_time": "2022-09-22T08:30:26.995Z"
   },
   {
    "duration": 20,
    "start_time": "2022-09-22T08:30:27.333Z"
   },
   {
    "duration": 480,
    "start_time": "2022-09-22T08:30:27.356Z"
   },
   {
    "duration": 14,
    "start_time": "2022-09-22T08:30:27.838Z"
   },
   {
    "duration": 31,
    "start_time": "2022-09-22T08:30:27.854Z"
   },
   {
    "duration": 28,
    "start_time": "2022-09-22T08:30:27.887Z"
   },
   {
    "duration": 392,
    "start_time": "2022-09-22T08:30:27.917Z"
   },
   {
    "duration": 40,
    "start_time": "2022-09-22T08:30:28.310Z"
   },
   {
    "duration": 45,
    "start_time": "2022-09-22T08:30:28.351Z"
   },
   {
    "duration": 3,
    "start_time": "2022-09-22T08:30:28.398Z"
   },
   {
    "duration": 5,
    "start_time": "2022-09-22T08:30:28.403Z"
   },
   {
    "duration": 48626,
    "start_time": "2022-09-22T08:30:28.410Z"
   },
   {
    "duration": 811,
    "start_time": "2022-09-22T08:31:17.038Z"
   },
   {
    "duration": 3,
    "start_time": "2022-09-22T08:31:17.851Z"
   },
   {
    "duration": 5,
    "start_time": "2022-09-22T08:31:17.856Z"
   },
   {
    "duration": 55394,
    "start_time": "2022-09-22T08:31:17.862Z"
   },
   {
    "duration": 615,
    "start_time": "2022-09-22T08:32:13.334Z"
   },
   {
    "duration": 4,
    "start_time": "2022-09-22T08:32:13.951Z"
   },
   {
    "duration": 18,
    "start_time": "2022-09-22T08:32:13.957Z"
   },
   {
    "duration": 33,
    "start_time": "2022-09-22T08:32:13.977Z"
   },
   {
    "duration": 62,
    "start_time": "2022-09-22T08:32:14.012Z"
   },
   {
    "duration": 300,
    "start_time": "2022-09-22T08:32:14.076Z"
   },
   {
    "duration": 13323,
    "start_time": "2022-09-22T08:32:14.378Z"
   },
   {
    "duration": 40,
    "start_time": "2022-09-22T08:32:27.703Z"
   },
   {
    "duration": 4,
    "start_time": "2022-09-22T08:32:27.745Z"
   },
   {
    "duration": 6313,
    "start_time": "2022-09-22T08:32:27.751Z"
   },
   {
    "duration": 29,
    "start_time": "2022-09-22T08:32:34.065Z"
   },
   {
    "duration": 4,
    "start_time": "2022-09-22T08:32:34.096Z"
   },
   {
    "duration": 6,
    "start_time": "2022-09-22T08:32:34.102Z"
   },
   {
    "duration": 36,
    "start_time": "2022-09-22T08:32:34.110Z"
   },
   {
    "duration": 647,
    "start_time": "2022-09-22T08:32:34.147Z"
   },
   {
    "duration": 52,
    "start_time": "2022-09-22T08:32:34.795Z"
   },
   {
    "duration": 16622,
    "start_time": "2022-09-22T08:32:34.849Z"
   },
   {
    "duration": 6,
    "start_time": "2022-09-22T08:32:51.473Z"
   },
   {
    "duration": 5,
    "start_time": "2022-09-22T08:32:51.481Z"
   },
   {
    "duration": 23242,
    "start_time": "2022-09-22T08:32:51.487Z"
   },
   {
    "duration": 8,
    "start_time": "2022-09-22T08:33:14.731Z"
   },
   {
    "duration": 47,
    "start_time": "2022-09-22T08:33:14.742Z"
   },
   {
    "duration": 22027,
    "start_time": "2022-09-22T08:33:14.797Z"
   },
   {
    "duration": 8,
    "start_time": "2022-09-22T08:33:36.826Z"
   },
   {
    "duration": 4,
    "start_time": "2022-09-22T08:33:36.836Z"
   },
   {
    "duration": 61101,
    "start_time": "2022-09-22T08:33:36.842Z"
   },
   {
    "duration": 10,
    "start_time": "2022-09-22T08:34:37.948Z"
   },
   {
    "duration": 24,
    "start_time": "2022-09-22T08:34:38.036Z"
   },
   {
    "duration": 1701,
    "start_time": "2022-09-22T11:58:11.542Z"
   },
   {
    "duration": 4,
    "start_time": "2022-09-22T12:00:20.185Z"
   },
   {
    "duration": 1325,
    "start_time": "2022-09-22T12:00:28.444Z"
   },
   {
    "duration": 56,
    "start_time": "2022-09-22T12:00:33.920Z"
   },
   {
    "duration": 483,
    "start_time": "2022-09-22T12:00:35.990Z"
   },
   {
    "duration": 542,
    "start_time": "2022-09-22T12:00:36.901Z"
   },
   {
    "duration": 418,
    "start_time": "2022-09-22T12:00:37.535Z"
   },
   {
    "duration": 135,
    "start_time": "2022-09-22T12:00:38.938Z"
   },
   {
    "duration": 101,
    "start_time": "2022-09-22T12:00:39.646Z"
   },
   {
    "duration": 9,
    "start_time": "2022-09-22T12:00:43.439Z"
   },
   {
    "duration": 48,
    "start_time": "2022-09-22T12:00:44.236Z"
   },
   {
    "duration": 42,
    "start_time": "2022-09-22T12:00:47.653Z"
   },
   {
    "duration": 261,
    "start_time": "2022-09-22T12:00:49.336Z"
   },
   {
    "duration": 59,
    "start_time": "2022-09-22T12:00:50.593Z"
   },
   {
    "duration": 7,
    "start_time": "2022-09-22T12:00:51.194Z"
   },
   {
    "duration": 41,
    "start_time": "2022-09-22T12:00:52.435Z"
   },
   {
    "duration": 42,
    "start_time": "2022-09-22T12:00:54.330Z"
   },
   {
    "duration": 8,
    "start_time": "2022-09-22T12:00:54.957Z"
   },
   {
    "duration": 59,
    "start_time": "2022-09-22T12:00:58.396Z"
   },
   {
    "duration": 10,
    "start_time": "2022-09-22T12:00:59.140Z"
   },
   {
    "duration": 49,
    "start_time": "2022-09-22T12:01:00.495Z"
   },
   {
    "duration": 14,
    "start_time": "2022-09-22T12:01:03.365Z"
   },
   {
    "duration": 41,
    "start_time": "2022-09-22T12:01:04.206Z"
   },
   {
    "duration": 99,
    "start_time": "2022-09-22T12:01:05.597Z"
   },
   {
    "duration": 1460,
    "start_time": "2022-09-22T12:01:06.735Z"
   },
   {
    "duration": 54,
    "start_time": "2022-09-22T12:01:08.197Z"
   },
   {
    "duration": 91,
    "start_time": "2022-09-22T12:01:09.884Z"
   },
   {
    "duration": 38,
    "start_time": "2022-09-22T12:01:12.037Z"
   },
   {
    "duration": 19,
    "start_time": "2022-09-22T12:01:13.365Z"
   },
   {
    "duration": 30,
    "start_time": "2022-09-22T12:01:15.260Z"
   },
   {
    "duration": 27,
    "start_time": "2022-09-22T12:01:16.636Z"
   },
   {
    "duration": 39,
    "start_time": "2022-09-22T12:01:18.312Z"
   },
   {
    "duration": 58,
    "start_time": "2022-09-22T12:01:19.989Z"
   },
   {
    "duration": 23,
    "start_time": "2022-09-22T12:01:21.235Z"
   },
   {
    "duration": 39,
    "start_time": "2022-09-22T12:01:23.531Z"
   },
   {
    "duration": 10,
    "start_time": "2022-09-22T12:01:24.849Z"
   },
   {
    "duration": 9,
    "start_time": "2022-09-22T12:01:25.350Z"
   },
   {
    "duration": 20,
    "start_time": "2022-09-22T12:01:26.365Z"
   },
   {
    "duration": 58,
    "start_time": "2022-09-22T12:01:28.389Z"
   },
   {
    "duration": 13176,
    "start_time": "2022-09-22T12:01:33.877Z"
   },
   {
    "duration": 20,
    "start_time": "2022-09-22T12:01:53.244Z"
   },
   {
    "duration": 104,
    "start_time": "2022-09-22T12:01:54.557Z"
   },
   {
    "duration": 702,
    "start_time": "2022-09-22T12:01:56.589Z"
   },
   {
    "duration": 568,
    "start_time": "2022-09-22T12:02:00.297Z"
   },
   {
    "duration": 334,
    "start_time": "2022-09-22T12:02:01.039Z"
   },
   {
    "duration": 22,
    "start_time": "2022-09-22T12:02:06.033Z"
   },
   {
    "duration": 474,
    "start_time": "2022-09-22T12:02:07.965Z"
   },
   {
    "duration": 8,
    "start_time": "2022-09-22T12:02:08.649Z"
   },
   {
    "duration": 35,
    "start_time": "2022-09-22T12:02:09.627Z"
   },
   {
    "duration": 31,
    "start_time": "2022-09-22T12:02:11.062Z"
   },
   {
    "duration": 400,
    "start_time": "2022-09-22T12:02:49.351Z"
   },
   {
    "duration": 26,
    "start_time": "2022-09-22T12:02:55.993Z"
   },
   {
    "duration": 43,
    "start_time": "2022-09-22T12:02:57.285Z"
   },
   {
    "duration": 3,
    "start_time": "2022-09-22T12:03:01.633Z"
   },
   {
    "duration": 151,
    "start_time": "2022-09-22T12:12:13.276Z"
   },
   {
    "duration": 2,
    "start_time": "2022-09-22T12:12:19.757Z"
   },
   {
    "duration": 9,
    "start_time": "2022-09-22T12:12:22.732Z"
   },
   {
    "duration": 910609,
    "start_time": "2022-09-22T12:12:41.029Z"
   },
   {
    "duration": 11,
    "start_time": "2022-09-22T12:28:15.533Z"
   },
   {
    "duration": 12,
    "start_time": "2022-09-22T12:30:01.927Z"
   },
   {
    "duration": 3,
    "start_time": "2022-09-22T12:30:07.061Z"
   },
   {
    "duration": 67,
    "start_time": "2022-09-22T12:44:01.894Z"
   },
   {
    "duration": 261370,
    "start_time": "2022-09-22T12:45:02.462Z"
   },
   {
    "duration": 1385,
    "start_time": "2022-09-22T12:51:35.634Z"
   },
   {
    "duration": 4,
    "start_time": "2022-09-22T13:13:58.144Z"
   },
   {
    "duration": 161,
    "start_time": "2022-09-22T13:14:22.489Z"
   },
   {
    "duration": 3,
    "start_time": "2022-09-22T13:18:20.944Z"
   },
   {
    "duration": 1495782,
    "start_time": "2022-09-22T13:18:33.590Z"
   },
   {
    "duration": 41524,
    "start_time": "2022-09-22T13:43:41.736Z"
   },
   {
    "duration": 444506,
    "start_time": "2022-09-22T13:44:46.037Z"
   },
   {
    "duration": 1049,
    "start_time": "2022-09-22T14:01:47.683Z"
   },
   {
    "duration": 7,
    "start_time": "2022-09-22T14:03:07.676Z"
   },
   {
    "duration": 5,
    "start_time": "2022-09-22T14:03:16.802Z"
   },
   {
    "duration": 212,
    "start_time": "2022-09-22T14:05:44.039Z"
   },
   {
    "duration": 5,
    "start_time": "2022-09-22T14:14:16.561Z"
   },
   {
    "duration": 112,
    "start_time": "2022-09-22T14:35:24.658Z"
   },
   {
    "duration": 35,
    "start_time": "2022-09-22T14:35:31.609Z"
   },
   {
    "duration": 10,
    "start_time": "2022-09-22T14:35:38.458Z"
   },
   {
    "duration": 8,
    "start_time": "2022-09-22T14:35:57.794Z"
   },
   {
    "duration": 31,
    "start_time": "2022-09-22T14:36:10.450Z"
   },
   {
    "duration": 43,
    "start_time": "2022-09-22T14:36:11.161Z"
   },
   {
    "duration": 346,
    "start_time": "2022-09-22T14:36:11.857Z"
   },
   {
    "duration": 3,
    "start_time": "2022-09-22T14:36:12.690Z"
   },
   {
    "duration": 1055,
    "start_time": "2022-09-22T14:36:14.742Z"
   },
   {
    "duration": 7,
    "start_time": "2022-09-22T14:36:28.239Z"
   },
   {
    "duration": 19144,
    "start_time": "2022-09-22T14:36:29.036Z"
   },
   {
    "duration": 1604,
    "start_time": "2022-09-22T18:20:01.494Z"
   },
   {
    "duration": 1523,
    "start_time": "2022-09-22T18:20:03.100Z"
   },
   {
    "duration": 63,
    "start_time": "2022-09-22T18:20:04.625Z"
   },
   {
    "duration": 420,
    "start_time": "2022-09-22T18:20:04.690Z"
   },
   {
    "duration": 492,
    "start_time": "2022-09-22T18:20:05.112Z"
   },
   {
    "duration": 399,
    "start_time": "2022-09-22T18:20:05.606Z"
   },
   {
    "duration": 111,
    "start_time": "2022-09-22T18:20:06.006Z"
   },
   {
    "duration": 95,
    "start_time": "2022-09-22T18:20:06.118Z"
   },
   {
    "duration": 6,
    "start_time": "2022-09-22T18:20:06.215Z"
   },
   {
    "duration": 49,
    "start_time": "2022-09-22T18:20:06.223Z"
   },
   {
    "duration": 43,
    "start_time": "2022-09-22T18:20:06.273Z"
   },
   {
    "duration": 208,
    "start_time": "2022-09-22T18:20:06.318Z"
   },
   {
    "duration": 69,
    "start_time": "2022-09-22T18:20:06.528Z"
   },
   {
    "duration": 6,
    "start_time": "2022-09-22T18:20:06.599Z"
   },
   {
    "duration": 45,
    "start_time": "2022-09-22T18:20:06.606Z"
   },
   {
    "duration": 70,
    "start_time": "2022-09-22T18:20:06.652Z"
   },
   {
    "duration": 6,
    "start_time": "2022-09-22T18:20:06.723Z"
   },
   {
    "duration": 77,
    "start_time": "2022-09-22T18:20:06.731Z"
   },
   {
    "duration": 6,
    "start_time": "2022-09-22T18:20:06.810Z"
   },
   {
    "duration": 37,
    "start_time": "2022-09-22T18:20:06.818Z"
   },
   {
    "duration": 32,
    "start_time": "2022-09-22T18:20:06.856Z"
   },
   {
    "duration": 11,
    "start_time": "2022-09-22T18:20:06.890Z"
   },
   {
    "duration": 107,
    "start_time": "2022-09-22T18:20:06.902Z"
   },
   {
    "duration": 1487,
    "start_time": "2022-09-22T18:20:07.012Z"
   },
   {
    "duration": 35,
    "start_time": "2022-09-22T18:20:08.501Z"
   },
   {
    "duration": 73,
    "start_time": "2022-09-22T18:20:08.538Z"
   },
   {
    "duration": 27,
    "start_time": "2022-09-22T18:20:08.612Z"
   },
   {
    "duration": 36,
    "start_time": "2022-09-22T18:20:08.642Z"
   },
   {
    "duration": 35,
    "start_time": "2022-09-22T18:20:08.679Z"
   },
   {
    "duration": 39,
    "start_time": "2022-09-22T18:20:08.715Z"
   },
   {
    "duration": 28,
    "start_time": "2022-09-22T18:20:08.755Z"
   },
   {
    "duration": 33,
    "start_time": "2022-09-22T18:20:08.784Z"
   },
   {
    "duration": 30,
    "start_time": "2022-09-22T18:20:08.819Z"
   },
   {
    "duration": 26,
    "start_time": "2022-09-22T18:20:08.850Z"
   },
   {
    "duration": 19,
    "start_time": "2022-09-22T18:20:08.877Z"
   },
   {
    "duration": 20,
    "start_time": "2022-09-22T18:20:08.897Z"
   },
   {
    "duration": 26,
    "start_time": "2022-09-22T18:20:08.918Z"
   },
   {
    "duration": 41,
    "start_time": "2022-09-22T18:20:08.945Z"
   },
   {
    "duration": 13750,
    "start_time": "2022-09-22T18:20:08.988Z"
   },
   {
    "duration": 16,
    "start_time": "2022-09-22T18:20:22.739Z"
   },
   {
    "duration": 97,
    "start_time": "2022-09-22T18:20:22.757Z"
   },
   {
    "duration": 686,
    "start_time": "2022-09-22T18:20:22.856Z"
   },
   {
    "duration": 536,
    "start_time": "2022-09-22T18:20:23.544Z"
   },
   {
    "duration": 286,
    "start_time": "2022-09-22T18:20:24.082Z"
   },
   {
    "duration": 21,
    "start_time": "2022-09-22T18:20:24.370Z"
   },
   {
    "duration": 453,
    "start_time": "2022-09-22T18:20:24.393Z"
   },
   {
    "duration": 9,
    "start_time": "2022-09-22T18:20:24.848Z"
   },
   {
    "duration": 38,
    "start_time": "2022-09-22T18:20:24.859Z"
   },
   {
    "duration": 35,
    "start_time": "2022-09-22T18:20:24.899Z"
   },
   {
    "duration": 359,
    "start_time": "2022-09-22T18:20:24.935Z"
   },
   {
    "duration": 27,
    "start_time": "2022-09-22T18:20:25.296Z"
   },
   {
    "duration": 67,
    "start_time": "2022-09-22T18:20:25.325Z"
   },
   {
    "duration": 2,
    "start_time": "2022-09-22T18:20:25.394Z"
   },
   {
    "duration": 15,
    "start_time": "2022-09-22T18:20:25.398Z"
   },
   {
    "duration": 12074,
    "start_time": "2022-09-22T18:20:25.414Z"
   },
   {
    "duration": 3393,
    "start_time": "2022-09-22T18:20:37.490Z"
   },
   {
    "duration": 1509,
    "start_time": "2022-09-22T18:20:40.884Z"
   },
   {
    "duration": 241,
    "start_time": "2022-09-22T18:20:42.394Z"
   },
   {
    "duration": 3,
    "start_time": "2022-09-22T18:20:42.637Z"
   },
   {
    "duration": 7,
    "start_time": "2022-09-22T18:20:42.642Z"
   },
   {
    "duration": 9542,
    "start_time": "2022-09-22T18:20:42.650Z"
   },
   {
    "duration": 3993,
    "start_time": "2022-09-22T18:20:52.193Z"
   },
   {
    "duration": 997,
    "start_time": "2022-09-22T18:20:56.188Z"
   },
   {
    "duration": 200,
    "start_time": "2022-09-22T18:20:57.187Z"
   },
   {
    "duration": 4,
    "start_time": "2022-09-22T18:20:57.388Z"
   },
   {
    "duration": 8,
    "start_time": "2022-09-22T18:20:57.394Z"
   },
   {
    "duration": 23,
    "start_time": "2022-09-22T18:20:57.403Z"
   },
   {
    "duration": 67,
    "start_time": "2022-09-22T18:20:57.428Z"
   },
   {
    "duration": 274,
    "start_time": "2022-09-22T18:20:57.497Z"
   },
   {
    "duration": 2,
    "start_time": "2022-09-22T18:20:57.776Z"
   },
   {
    "duration": 14112,
    "start_time": "2022-09-22T18:20:57.780Z"
   },
   {
    "duration": 3,
    "start_time": "2022-09-22T18:21:11.894Z"
   },
   {
    "duration": 119,
    "start_time": "2022-09-22T18:21:11.898Z"
   },
   {
    "duration": 0,
    "start_time": "2022-09-22T18:21:12.019Z"
   },
   {
    "duration": 0,
    "start_time": "2022-09-22T18:21:12.020Z"
   },
   {
    "duration": 0,
    "start_time": "2022-09-22T18:21:12.021Z"
   },
   {
    "duration": 0,
    "start_time": "2022-09-22T18:21:12.022Z"
   },
   {
    "duration": 0,
    "start_time": "2022-09-22T18:21:12.023Z"
   },
   {
    "duration": 0,
    "start_time": "2022-09-22T18:21:12.024Z"
   },
   {
    "duration": 0,
    "start_time": "2022-09-22T18:21:12.025Z"
   },
   {
    "duration": 0,
    "start_time": "2022-09-22T18:21:12.026Z"
   },
   {
    "duration": 0,
    "start_time": "2022-09-22T18:21:12.027Z"
   },
   {
    "duration": 0,
    "start_time": "2022-09-22T18:21:12.028Z"
   },
   {
    "duration": 0,
    "start_time": "2022-09-22T18:21:12.029Z"
   },
   {
    "duration": 0,
    "start_time": "2022-09-22T18:21:12.030Z"
   },
   {
    "duration": 0,
    "start_time": "2022-09-22T18:21:12.031Z"
   },
   {
    "duration": 0,
    "start_time": "2022-09-22T18:21:12.032Z"
   },
   {
    "duration": 0,
    "start_time": "2022-09-22T18:21:12.033Z"
   },
   {
    "duration": 0,
    "start_time": "2022-09-22T18:21:12.034Z"
   },
   {
    "duration": 0,
    "start_time": "2022-09-22T18:21:12.035Z"
   },
   {
    "duration": 0,
    "start_time": "2022-09-22T18:21:12.036Z"
   },
   {
    "duration": 0,
    "start_time": "2022-09-22T18:21:12.037Z"
   },
   {
    "duration": 0,
    "start_time": "2022-09-22T18:21:12.038Z"
   },
   {
    "duration": 0,
    "start_time": "2022-09-22T18:21:12.039Z"
   },
   {
    "duration": 0,
    "start_time": "2022-09-22T18:21:12.040Z"
   },
   {
    "duration": 0,
    "start_time": "2022-09-22T18:21:12.041Z"
   },
   {
    "duration": 0,
    "start_time": "2022-09-22T18:21:12.042Z"
   },
   {
    "duration": 0,
    "start_time": "2022-09-22T18:21:12.077Z"
   },
   {
    "duration": 0,
    "start_time": "2022-09-22T18:21:12.078Z"
   },
   {
    "duration": 3,
    "start_time": "2022-09-22T18:28:24.478Z"
   },
   {
    "duration": 9,
    "start_time": "2022-09-22T18:28:25.269Z"
   },
   {
    "duration": 9,
    "start_time": "2022-09-22T18:29:22.457Z"
   },
   {
    "duration": 10,
    "start_time": "2022-09-22T18:30:19.364Z"
   },
   {
    "duration": 4,
    "start_time": "2022-09-22T18:31:09.588Z"
   },
   {
    "duration": 3,
    "start_time": "2022-09-22T18:32:38.288Z"
   },
   {
    "duration": 3,
    "start_time": "2022-09-22T18:33:27.956Z"
   },
   {
    "duration": 1847,
    "start_time": "2022-09-22T18:33:45.385Z"
   },
   {
    "duration": 9,
    "start_time": "2022-09-22T18:40:13.720Z"
   },
   {
    "duration": 133061,
    "start_time": "2022-09-22T18:41:09.535Z"
   },
   {
    "duration": 3,
    "start_time": "2022-09-22T18:45:02.199Z"
   },
   {
    "duration": 133307,
    "start_time": "2022-09-22T18:48:59.476Z"
   },
   {
    "duration": 3,
    "start_time": "2022-09-22T18:52:57.003Z"
   },
   {
    "duration": 11,
    "start_time": "2022-09-22T18:53:04.190Z"
   },
   {
    "duration": 3,
    "start_time": "2022-09-22T18:53:42.956Z"
   },
   {
    "duration": 14437,
    "start_time": "2022-09-22T18:53:43.806Z"
   },
   {
    "duration": 13575,
    "start_time": "2022-09-22T18:54:46.635Z"
   },
   {
    "duration": 10,
    "start_time": "2022-09-22T18:55:12.839Z"
   },
   {
    "duration": 10,
    "start_time": "2022-09-22T18:55:33.748Z"
   },
   {
    "duration": 10,
    "start_time": "2022-09-22T18:56:40.330Z"
   },
   {
    "duration": 3,
    "start_time": "2022-09-22T18:57:12.185Z"
   },
   {
    "duration": 2,
    "start_time": "2022-09-22T18:57:13.015Z"
   },
   {
    "duration": 66710,
    "start_time": "2022-09-22T18:57:14.140Z"
   },
   {
    "duration": 0,
    "start_time": "2022-09-22T18:58:20.851Z"
   },
   {
    "duration": 3,
    "start_time": "2022-09-22T18:58:24.127Z"
   },
   {
    "duration": 3,
    "start_time": "2022-09-22T18:58:27.007Z"
   },
   {
    "duration": 9,
    "start_time": "2022-09-22T18:58:34.137Z"
   },
   {
    "duration": 2,
    "start_time": "2022-09-22T18:59:45.507Z"
   },
   {
    "duration": 3,
    "start_time": "2022-09-22T18:59:48.451Z"
   },
   {
    "duration": 3,
    "start_time": "2022-09-22T19:01:15.310Z"
   },
   {
    "duration": 2,
    "start_time": "2022-09-22T19:01:16.760Z"
   },
   {
    "duration": 79497,
    "start_time": "2022-09-22T19:01:17.691Z"
   },
   {
    "duration": 8,
    "start_time": "2022-09-22T19:02:46.644Z"
   },
   {
    "duration": 8,
    "start_time": "2022-09-22T19:03:04.878Z"
   },
   {
    "duration": 3,
    "start_time": "2022-09-22T19:04:10.857Z"
   },
   {
    "duration": 2,
    "start_time": "2022-09-22T19:07:42.001Z"
   },
   {
    "duration": 3,
    "start_time": "2022-09-22T19:07:42.944Z"
   },
   {
    "duration": 9,
    "start_time": "2022-09-22T19:07:49.062Z"
   },
   {
    "duration": 2,
    "start_time": "2022-09-22T19:08:44.902Z"
   },
   {
    "duration": 3,
    "start_time": "2022-09-22T19:08:46.107Z"
   },
   {
    "duration": 13,
    "start_time": "2022-09-22T19:08:47.069Z"
   },
   {
    "duration": 113011,
    "start_time": "2022-09-22T19:08:53.686Z"
   },
   {
    "duration": 3,
    "start_time": "2022-09-22T19:12:25.080Z"
   },
   {
    "duration": 3,
    "start_time": "2022-09-22T19:12:25.908Z"
   },
   {
    "duration": 109469,
    "start_time": "2022-09-22T19:12:26.962Z"
   },
   {
    "duration": 3,
    "start_time": "2022-09-22T19:16:00.033Z"
   },
   {
    "duration": 8,
    "start_time": "2022-09-22T19:16:15.793Z"
   },
   {
    "duration": 9,
    "start_time": "2022-09-22T19:17:06.971Z"
   },
   {
    "duration": 9,
    "start_time": "2022-09-22T19:17:36.640Z"
   },
   {
    "duration": 9,
    "start_time": "2022-09-22T19:19:51.445Z"
   },
   {
    "duration": 7,
    "start_time": "2022-09-22T19:20:02.348Z"
   },
   {
    "duration": 8,
    "start_time": "2022-09-22T19:21:06.351Z"
   },
   {
    "duration": 8,
    "start_time": "2022-09-22T19:21:09.824Z"
   },
   {
    "duration": 3,
    "start_time": "2022-09-22T19:24:21.247Z"
   },
   {
    "duration": 3,
    "start_time": "2022-09-22T19:25:35.824Z"
   },
   {
    "duration": 10,
    "start_time": "2022-09-22T19:25:38.021Z"
   },
   {
    "duration": 3,
    "start_time": "2022-09-22T19:25:50.434Z"
   },
   {
    "duration": 3,
    "start_time": "2022-09-22T19:25:51.111Z"
   },
   {
    "duration": 154416,
    "start_time": "2022-09-22T19:25:52.052Z"
   },
   {
    "duration": 0,
    "start_time": "2022-09-22T19:28:26.470Z"
   },
   {
    "duration": 3,
    "start_time": "2022-09-22T19:28:35.156Z"
   },
   {
    "duration": 112489,
    "start_time": "2022-09-22T19:28:39.992Z"
   },
   {
    "duration": 7,
    "start_time": "2022-09-22T19:30:55.843Z"
   },
   {
    "duration": 11620,
    "start_time": "2022-09-22T19:36:32.484Z"
   },
   {
    "duration": 11744,
    "start_time": "2022-09-22T19:36:59.233Z"
   },
   {
    "duration": 110,
    "start_time": "2022-09-22T19:37:55.542Z"
   },
   {
    "duration": 112,
    "start_time": "2022-09-22T19:38:05.623Z"
   },
   {
    "duration": 11483,
    "start_time": "2022-09-22T19:38:23.069Z"
   },
   {
    "duration": 118,
    "start_time": "2022-09-22T19:38:41.326Z"
   },
   {
    "duration": 11418,
    "start_time": "2022-09-22T19:38:54.644Z"
   },
   {
    "duration": 112,
    "start_time": "2022-09-22T19:39:10.449Z"
   },
   {
    "duration": 4,
    "start_time": "2022-09-22T19:39:18.440Z"
   },
   {
    "duration": 2,
    "start_time": "2022-09-22T19:41:59.184Z"
   },
   {
    "duration": 3,
    "start_time": "2022-09-22T19:42:03.413Z"
   },
   {
    "duration": 4,
    "start_time": "2022-09-22T19:45:51.051Z"
   },
   {
    "duration": 3,
    "start_time": "2022-09-22T19:46:58.314Z"
   },
   {
    "duration": 22,
    "start_time": "2022-09-22T19:47:04.586Z"
   },
   {
    "duration": 611,
    "start_time": "2022-09-22T19:47:12.095Z"
   },
   {
    "duration": 45,
    "start_time": "2022-09-22T19:47:12.844Z"
   },
   {
    "duration": 3,
    "start_time": "2022-09-22T20:06:15.305Z"
   },
   {
    "duration": 3,
    "start_time": "2022-09-22T20:21:04.885Z"
   },
   {
    "duration": 3,
    "start_time": "2022-09-22T20:22:06.738Z"
   },
   {
    "duration": 9,
    "start_time": "2022-09-22T20:22:37.313Z"
   },
   {
    "duration": 89293,
    "start_time": "2022-09-22T20:23:34.264Z"
   },
   {
    "duration": 3,
    "start_time": "2022-09-22T20:25:32.495Z"
   },
   {
    "duration": 446951,
    "start_time": "2022-09-22T20:25:36.512Z"
   },
   {
    "duration": 4,
    "start_time": "2022-09-22T20:39:20.905Z"
   },
   {
    "duration": 4,
    "start_time": "2022-09-22T20:39:47.560Z"
   },
   {
    "duration": 3,
    "start_time": "2022-09-22T20:42:15.965Z"
   },
   {
    "duration": 176349,
    "start_time": "2022-09-22T20:42:24.103Z"
   },
   {
    "duration": 4,
    "start_time": "2022-09-22T20:45:20.454Z"
   },
   {
    "duration": 17,
    "start_time": "2022-09-22T20:45:20.460Z"
   },
   {
    "duration": 4,
    "start_time": "2022-09-22T20:47:24.135Z"
   },
   {
    "duration": 5,
    "start_time": "2022-09-22T20:47:27.052Z"
   },
   {
    "duration": 4,
    "start_time": "2022-09-22T20:49:48.409Z"
   },
   {
    "duration": 22329,
    "start_time": "2022-09-22T20:54:21.186Z"
   },
   {
    "duration": 22764,
    "start_time": "2022-09-22T20:56:50.129Z"
   },
   {
    "duration": 10,
    "start_time": "2022-09-22T20:58:55.114Z"
   },
   {
    "duration": 3,
    "start_time": "2022-09-22T20:59:21.998Z"
   },
   {
    "duration": 4,
    "start_time": "2022-09-22T20:59:34.036Z"
   },
   {
    "duration": 63,
    "start_time": "2022-09-22T21:10:00.113Z"
   },
   {
    "duration": 4,
    "start_time": "2022-09-22T21:12:09.917Z"
   },
   {
    "duration": 12,
    "start_time": "2022-09-22T21:14:13.177Z"
   },
   {
    "duration": 21,
    "start_time": "2022-09-22T21:15:30.835Z"
   },
   {
    "duration": 50,
    "start_time": "2022-09-22T21:18:10.023Z"
   },
   {
    "duration": 18,
    "start_time": "2022-09-22T21:18:20.018Z"
   },
   {
    "duration": 24,
    "start_time": "2022-09-22T21:19:16.867Z"
   },
   {
    "duration": 26,
    "start_time": "2022-09-22T21:19:23.544Z"
   },
   {
    "duration": 41,
    "start_time": "2022-09-22T21:19:34.229Z"
   },
   {
    "duration": 4,
    "start_time": "2022-09-22T21:21:36.296Z"
   },
   {
    "duration": 9,
    "start_time": "2022-09-22T21:24:03.217Z"
   },
   {
    "duration": 7811,
    "start_time": "2022-09-22T21:24:26.611Z"
   },
   {
    "duration": 7103,
    "start_time": "2022-09-22T21:24:57.707Z"
   },
   {
    "duration": 23197,
    "start_time": "2022-09-22T21:26:18.521Z"
   },
   {
    "duration": 23093,
    "start_time": "2022-09-22T21:27:52.531Z"
   },
   {
    "duration": 23094,
    "start_time": "2022-09-22T21:28:28.516Z"
   },
   {
    "duration": 24065,
    "start_time": "2022-09-22T21:29:11.344Z"
   },
   {
    "duration": 7441,
    "start_time": "2022-09-22T21:29:50.453Z"
   },
   {
    "duration": 47,
    "start_time": "2022-09-22T21:32:27.706Z"
   },
   {
    "duration": 10,
    "start_time": "2022-09-22T21:43:42.560Z"
   },
   {
    "duration": 12,
    "start_time": "2022-09-22T21:46:46.386Z"
   },
   {
    "duration": 9,
    "start_time": "2022-09-22T21:48:55.594Z"
   },
   {
    "duration": 9,
    "start_time": "2022-09-22T21:48:58.587Z"
   },
   {
    "duration": 10,
    "start_time": "2022-09-22T21:49:06.152Z"
   },
   {
    "duration": 43,
    "start_time": "2022-09-22T21:49:15.325Z"
   },
   {
    "duration": 25,
    "start_time": "2022-09-22T21:49:22.528Z"
   },
   {
    "duration": 15,
    "start_time": "2022-09-22T21:49:30.118Z"
   },
   {
    "duration": 4,
    "start_time": "2022-09-22T21:49:34.815Z"
   },
   {
    "duration": 13,
    "start_time": "2022-09-22T21:52:08.922Z"
   },
   {
    "duration": 29,
    "start_time": "2022-09-22T21:53:09.085Z"
   },
   {
    "duration": 1157,
    "start_time": "2022-09-22T21:53:49.537Z"
   },
   {
    "duration": 4,
    "start_time": "2022-09-22T21:54:06.894Z"
   },
   {
    "duration": 1503,
    "start_time": "2022-09-22T21:54:29.859Z"
   },
   {
    "duration": 390,
    "start_time": "2022-09-22T21:56:39.276Z"
   },
   {
    "duration": 9,
    "start_time": "2022-09-22T21:57:55.747Z"
   },
   {
    "duration": 675,
    "start_time": "2022-09-22T21:58:07.129Z"
   },
   {
    "duration": 331,
    "start_time": "2022-09-22T21:58:16.585Z"
   },
   {
    "duration": 45,
    "start_time": "2022-09-22T21:58:44.642Z"
   },
   {
    "duration": 1489,
    "start_time": "2022-09-22T21:58:57.719Z"
   },
   {
    "duration": 1955,
    "start_time": "2022-09-22T21:58:59.209Z"
   },
   {
    "duration": 61,
    "start_time": "2022-09-22T21:59:01.166Z"
   },
   {
    "duration": 457,
    "start_time": "2022-09-22T21:59:01.229Z"
   },
   {
    "duration": 511,
    "start_time": "2022-09-22T21:59:01.687Z"
   },
   {
    "duration": 447,
    "start_time": "2022-09-22T21:59:02.200Z"
   },
   {
    "duration": 101,
    "start_time": "2022-09-22T21:59:02.648Z"
   },
   {
    "duration": 91,
    "start_time": "2022-09-22T21:59:02.751Z"
   },
   {
    "duration": 8,
    "start_time": "2022-09-22T21:59:02.843Z"
   },
   {
    "duration": 57,
    "start_time": "2022-09-22T21:59:02.853Z"
   },
   {
    "duration": 49,
    "start_time": "2022-09-22T21:59:02.911Z"
   },
   {
    "duration": 204,
    "start_time": "2022-09-22T21:59:02.976Z"
   },
   {
    "duration": 64,
    "start_time": "2022-09-22T21:59:03.181Z"
   },
   {
    "duration": 8,
    "start_time": "2022-09-22T21:59:03.247Z"
   },
   {
    "duration": 53,
    "start_time": "2022-09-22T21:59:03.257Z"
   },
   {
    "duration": 74,
    "start_time": "2022-09-22T21:59:03.312Z"
   },
   {
    "duration": 7,
    "start_time": "2022-09-22T21:59:03.388Z"
   },
   {
    "duration": 65,
    "start_time": "2022-09-22T21:59:03.397Z"
   },
   {
    "duration": 18,
    "start_time": "2022-09-22T21:59:03.463Z"
   },
   {
    "duration": 35,
    "start_time": "2022-09-22T21:59:03.483Z"
   },
   {
    "duration": 17,
    "start_time": "2022-09-22T21:59:03.520Z"
   },
   {
    "duration": 42,
    "start_time": "2022-09-22T21:59:03.539Z"
   },
   {
    "duration": 103,
    "start_time": "2022-09-22T21:59:03.583Z"
   },
   {
    "duration": 1436,
    "start_time": "2022-09-22T21:59:03.688Z"
   },
   {
    "duration": 54,
    "start_time": "2022-09-22T21:59:05.126Z"
   },
   {
    "duration": 97,
    "start_time": "2022-09-22T21:59:05.183Z"
   },
   {
    "duration": 40,
    "start_time": "2022-09-22T21:59:05.282Z"
   },
   {
    "duration": 19,
    "start_time": "2022-09-22T21:59:05.329Z"
   },
   {
    "duration": 48,
    "start_time": "2022-09-22T21:59:05.350Z"
   },
   {
    "duration": 18,
    "start_time": "2022-09-22T21:59:05.400Z"
   },
   {
    "duration": 17,
    "start_time": "2022-09-22T21:59:05.420Z"
   },
   {
    "duration": 41,
    "start_time": "2022-09-22T21:59:05.439Z"
   },
   {
    "duration": 17,
    "start_time": "2022-09-22T21:59:05.481Z"
   },
   {
    "duration": 18,
    "start_time": "2022-09-22T21:59:05.500Z"
   },
   {
    "duration": 13,
    "start_time": "2022-09-22T21:59:05.520Z"
   },
   {
    "duration": 11,
    "start_time": "2022-09-22T21:59:05.535Z"
   },
   {
    "duration": 48,
    "start_time": "2022-09-22T21:59:05.548Z"
   },
   {
    "duration": 42,
    "start_time": "2022-09-22T21:59:05.598Z"
   },
   {
    "duration": 13624,
    "start_time": "2022-09-22T21:59:05.642Z"
   },
   {
    "duration": 16,
    "start_time": "2022-09-22T21:59:19.268Z"
   },
   {
    "duration": 100,
    "start_time": "2022-09-22T21:59:19.286Z"
   },
   {
    "duration": 714,
    "start_time": "2022-09-22T21:59:19.388Z"
   },
   {
    "duration": 542,
    "start_time": "2022-09-22T21:59:20.104Z"
   },
   {
    "duration": 295,
    "start_time": "2022-09-22T21:59:20.647Z"
   },
   {
    "duration": 16,
    "start_time": "2022-09-22T21:59:20.944Z"
   },
   {
    "duration": 446,
    "start_time": "2022-09-22T21:59:20.962Z"
   },
   {
    "duration": 8,
    "start_time": "2022-09-22T21:59:21.410Z"
   },
   {
    "duration": 25,
    "start_time": "2022-09-22T21:59:21.420Z"
   },
   {
    "duration": 48,
    "start_time": "2022-09-22T21:59:21.446Z"
   },
   {
    "duration": 305,
    "start_time": "2022-09-22T21:59:21.496Z"
   },
   {
    "duration": 23,
    "start_time": "2022-09-22T21:59:21.803Z"
   },
   {
    "duration": 61,
    "start_time": "2022-09-22T21:59:21.827Z"
   },
   {
    "duration": 3,
    "start_time": "2022-09-22T21:59:21.890Z"
   },
   {
    "duration": 5,
    "start_time": "2022-09-22T21:59:21.895Z"
   },
   {
    "duration": 30288,
    "start_time": "2022-09-22T21:59:21.901Z"
   },
   {
    "duration": 3396,
    "start_time": "2022-09-22T21:59:52.191Z"
   },
   {
    "duration": 1507,
    "start_time": "2022-09-22T21:59:55.589Z"
   },
   {
    "duration": 203,
    "start_time": "2022-09-22T21:59:57.098Z"
   },
   {
    "duration": 4,
    "start_time": "2022-09-22T21:59:57.302Z"
   },
   {
    "duration": 6,
    "start_time": "2022-09-22T21:59:57.308Z"
   },
   {
    "duration": 8877,
    "start_time": "2022-09-22T21:59:57.315Z"
   },
   {
    "duration": 2991,
    "start_time": "2022-09-22T22:00:06.194Z"
   },
   {
    "duration": 995,
    "start_time": "2022-09-22T22:00:09.186Z"
   },
   {
    "duration": 185,
    "start_time": "2022-09-22T22:00:10.182Z"
   },
   {
    "duration": 8,
    "start_time": "2022-09-22T22:00:10.369Z"
   },
   {
    "duration": 4,
    "start_time": "2022-09-22T22:00:10.379Z"
   },
   {
    "duration": 23,
    "start_time": "2022-09-22T22:00:10.384Z"
   },
   {
    "duration": 52,
    "start_time": "2022-09-22T22:00:10.409Z"
   },
   {
    "duration": 271,
    "start_time": "2022-09-22T22:00:10.463Z"
   },
   {
    "duration": 2,
    "start_time": "2022-09-22T22:00:10.736Z"
   },
   {
    "duration": 13605,
    "start_time": "2022-09-22T22:00:10.740Z"
   },
   {
    "duration": 3,
    "start_time": "2022-09-22T22:00:24.346Z"
   },
   {
    "duration": 8,
    "start_time": "2022-09-22T22:00:24.351Z"
   },
   {
    "duration": 109014,
    "start_time": "2022-09-22T22:00:24.361Z"
   },
   {
    "duration": 4,
    "start_time": "2022-09-22T22:02:13.377Z"
   },
   {
    "duration": 10942,
    "start_time": "2022-09-22T22:02:13.383Z"
   },
   {
    "duration": 111,
    "start_time": "2022-09-22T22:02:24.327Z"
   },
   {
    "duration": 4,
    "start_time": "2022-09-22T22:02:24.440Z"
   },
   {
    "duration": 4,
    "start_time": "2022-09-22T22:02:24.446Z"
   },
   {
    "duration": 4,
    "start_time": "2022-09-22T22:02:24.451Z"
   },
   {
    "duration": 5,
    "start_time": "2022-09-22T22:02:24.457Z"
   },
   {
    "duration": 2,
    "start_time": "2022-09-22T22:02:24.479Z"
   },
   {
    "duration": 24,
    "start_time": "2022-09-22T22:02:24.482Z"
   },
   {
    "duration": 578,
    "start_time": "2022-09-22T22:02:24.508Z"
   },
   {
    "duration": 48,
    "start_time": "2022-09-22T22:02:25.087Z"
   },
   {
    "duration": 52,
    "start_time": "2022-09-22T22:02:25.137Z"
   },
   {
    "duration": 1496,
    "start_time": "2022-09-22T22:02:25.191Z"
   },
   {
    "duration": 332,
    "start_time": "2022-09-22T22:02:26.689Z"
   },
   {
    "duration": 3,
    "start_time": "2022-09-22T22:02:27.022Z"
   },
   {
    "duration": 7,
    "start_time": "2022-09-22T22:02:27.026Z"
   },
   {
    "duration": 5,
    "start_time": "2022-09-22T22:02:27.035Z"
   },
   {
    "duration": 5,
    "start_time": "2022-09-22T22:02:27.042Z"
   },
   {
    "duration": 5,
    "start_time": "2022-09-22T22:02:27.048Z"
   },
   {
    "duration": 8,
    "start_time": "2022-09-22T22:02:27.054Z"
   },
   {
    "duration": 16,
    "start_time": "2022-09-22T22:02:27.064Z"
   },
   {
    "duration": 8,
    "start_time": "2022-09-22T22:02:27.082Z"
   },
   {
    "duration": 4,
    "start_time": "2022-09-22T22:02:27.092Z"
   },
   {
    "duration": 7,
    "start_time": "2022-09-22T22:02:27.097Z"
   },
   {
    "duration": 176061,
    "start_time": "2022-09-22T22:02:27.106Z"
   },
   {
    "duration": 3,
    "start_time": "2022-09-22T22:05:23.169Z"
   },
   {
    "duration": 6,
    "start_time": "2022-09-22T22:05:23.176Z"
   },
   {
    "duration": 20605,
    "start_time": "2022-09-22T22:05:23.183Z"
   },
   {
    "duration": 9,
    "start_time": "2022-09-22T22:05:43.790Z"
   },
   {
    "duration": 4,
    "start_time": "2022-09-22T22:05:43.800Z"
   },
   {
    "duration": 53281,
    "start_time": "2022-09-22T22:05:43.805Z"
   },
   {
    "duration": 7,
    "start_time": "2022-09-22T22:06:37.176Z"
   },
   {
    "duration": 100,
    "start_time": "2022-09-22T22:06:37.185Z"
   },
   {
    "duration": 26100,
    "start_time": "2022-09-22T22:06:37.286Z"
   },
   {
    "duration": 92000,
    "start_time": "2022-09-22T22:07:03.478Z"
   },
   {
    "duration": 1455,
    "start_time": "2022-09-22T22:14:00.867Z"
   },
   {
    "duration": 1732,
    "start_time": "2022-09-22T22:14:02.509Z"
   },
   {
    "duration": 53,
    "start_time": "2022-09-22T22:14:04.369Z"
   },
   {
    "duration": 452,
    "start_time": "2022-09-22T22:14:06.903Z"
   },
   {
    "duration": 472,
    "start_time": "2022-09-22T22:14:07.464Z"
   },
   {
    "duration": 419,
    "start_time": "2022-09-22T22:14:08.096Z"
   },
   {
    "duration": 113,
    "start_time": "2022-09-22T22:14:09.185Z"
   },
   {
    "duration": 85,
    "start_time": "2022-09-22T22:14:09.799Z"
   },
   {
    "duration": 8,
    "start_time": "2022-09-22T22:14:12.156Z"
   },
   {
    "duration": 45,
    "start_time": "2022-09-22T22:14:12.708Z"
   },
   {
    "duration": 49,
    "start_time": "2022-09-22T22:14:14.481Z"
   },
   {
    "duration": 215,
    "start_time": "2022-09-22T22:14:16.305Z"
   },
   {
    "duration": 60,
    "start_time": "2022-09-22T22:14:17.742Z"
   },
   {
    "duration": 7,
    "start_time": "2022-09-22T22:14:18.554Z"
   },
   {
    "duration": 37,
    "start_time": "2022-09-22T22:14:19.817Z"
   },
   {
    "duration": 64,
    "start_time": "2022-09-22T22:14:21.574Z"
   },
   {
    "duration": 7,
    "start_time": "2022-09-22T22:14:22.167Z"
   },
   {
    "duration": 62,
    "start_time": "2022-09-22T22:14:24.420Z"
   },
   {
    "duration": 7,
    "start_time": "2022-09-22T22:14:24.987Z"
   },
   {
    "duration": 35,
    "start_time": "2022-09-22T22:14:26.133Z"
   },
   {
    "duration": 17,
    "start_time": "2022-09-22T22:14:28.304Z"
   },
   {
    "duration": 13,
    "start_time": "2022-09-22T22:14:29.026Z"
   },
   {
    "duration": 94,
    "start_time": "2022-09-22T22:14:30.322Z"
   },
   {
    "duration": 1508,
    "start_time": "2022-09-22T22:14:31.966Z"
   },
   {
    "duration": 42,
    "start_time": "2022-09-22T22:14:34.275Z"
   },
   {
    "duration": 66,
    "start_time": "2022-09-22T22:14:56.536Z"
   },
   {
    "duration": 26,
    "start_time": "2022-09-22T22:14:59.496Z"
   },
   {
    "duration": 17,
    "start_time": "2022-09-22T22:15:01.309Z"
   },
   {
    "duration": 31,
    "start_time": "2022-09-22T22:15:11.597Z"
   },
   {
    "duration": 16,
    "start_time": "2022-09-22T22:15:13.176Z"
   },
   {
    "duration": 17,
    "start_time": "2022-09-22T22:15:15.380Z"
   },
   {
    "duration": 28,
    "start_time": "2022-09-22T22:15:17.022Z"
   },
   {
    "duration": 17,
    "start_time": "2022-09-22T22:15:18.003Z"
   },
   {
    "duration": 16,
    "start_time": "2022-09-22T22:15:19.856Z"
   },
   {
    "duration": 11,
    "start_time": "2022-09-22T22:15:21.477Z"
   },
   {
    "duration": 11,
    "start_time": "2022-09-22T22:15:22.125Z"
   },
   {
    "duration": 22,
    "start_time": "2022-09-22T22:15:23.603Z"
   },
   {
    "duration": 49,
    "start_time": "2022-09-22T22:15:25.018Z"
   },
   {
    "duration": 13556,
    "start_time": "2022-09-22T22:15:27.419Z"
   },
   {
    "duration": 15,
    "start_time": "2022-09-22T22:15:40.977Z"
   },
   {
    "duration": 89,
    "start_time": "2022-09-22T22:15:40.994Z"
   },
   {
    "duration": 727,
    "start_time": "2022-09-22T22:15:41.085Z"
   },
   {
    "duration": 529,
    "start_time": "2022-09-22T22:15:41.813Z"
   },
   {
    "duration": 298,
    "start_time": "2022-09-22T22:15:42.343Z"
   },
   {
    "duration": 16,
    "start_time": "2022-09-22T22:15:42.643Z"
   },
   {
    "duration": 448,
    "start_time": "2022-09-22T22:15:42.660Z"
   },
   {
    "duration": 8,
    "start_time": "2022-09-22T22:16:02.204Z"
   },
   {
    "duration": 27,
    "start_time": "2022-09-22T22:16:04.027Z"
   },
   {
    "duration": 27,
    "start_time": "2022-09-22T22:16:05.904Z"
   },
   {
    "duration": 24,
    "start_time": "2022-09-22T22:16:12.461Z"
   },
   {
    "duration": 568,
    "start_time": "2022-09-22T22:16:13.122Z"
   },
   {
    "duration": 42,
    "start_time": "2022-09-22T22:16:13.720Z"
   },
   {
    "duration": 46,
    "start_time": "2022-09-22T22:16:39.720Z"
   },
   {
    "duration": 1423,
    "start_time": "2022-09-22T22:16:41.035Z"
   },
   {
    "duration": 333,
    "start_time": "2022-09-22T22:16:42.460Z"
   },
   {
    "duration": 3,
    "start_time": "2022-09-22T22:16:42.794Z"
   },
   {
    "duration": 2,
    "start_time": "2022-09-22T22:16:43.003Z"
   },
   {
    "duration": 2,
    "start_time": "2022-09-22T22:16:43.688Z"
   },
   {
    "duration": 3,
    "start_time": "2022-09-22T22:16:45.675Z"
   },
   {
    "duration": 2,
    "start_time": "2022-09-22T22:16:46.459Z"
   },
   {
    "duration": 3,
    "start_time": "2022-09-22T22:16:47.042Z"
   },
   {
    "duration": 2,
    "start_time": "2022-09-22T22:16:47.549Z"
   },
   {
    "duration": 2,
    "start_time": "2022-09-22T22:16:48.029Z"
   },
   {
    "duration": 2,
    "start_time": "2022-09-22T22:16:48.526Z"
   },
   {
    "duration": 3,
    "start_time": "2022-09-22T22:16:50.309Z"
   },
   {
    "duration": 180838,
    "start_time": "2022-09-22T22:16:50.888Z"
   },
   {
    "duration": 4,
    "start_time": "2022-09-22T22:19:51.728Z"
   },
   {
    "duration": 8,
    "start_time": "2022-09-22T22:19:51.733Z"
   },
   {
    "duration": 21737,
    "start_time": "2022-09-22T22:19:51.743Z"
   },
   {
    "duration": 9,
    "start_time": "2022-09-22T22:20:13.482Z"
   },
   {
    "duration": 116,
    "start_time": "2022-09-22T22:20:13.492Z"
   },
   {
    "duration": 0,
    "start_time": "2022-09-22T22:20:13.610Z"
   },
   {
    "duration": 0,
    "start_time": "2022-09-22T22:20:13.611Z"
   },
   {
    "duration": 0,
    "start_time": "2022-09-22T22:20:13.612Z"
   },
   {
    "duration": 0,
    "start_time": "2022-09-22T22:20:13.613Z"
   },
   {
    "duration": 0,
    "start_time": "2022-09-22T22:20:13.614Z"
   },
   {
    "duration": 3,
    "start_time": "2022-09-22T22:20:57.626Z"
   },
   {
    "duration": 9,
    "start_time": "2022-09-22T22:21:06.511Z"
   },
   {
    "duration": 7730,
    "start_time": "2022-09-22T22:21:22.502Z"
   },
   {
    "duration": 26289,
    "start_time": "2022-09-22T22:21:30.234Z"
   },
   {
    "duration": 57261,
    "start_time": "2022-09-22T22:24:05.517Z"
   },
   {
    "duration": 98,
    "start_time": "2022-09-22T22:25:02.781Z"
   },
   {
    "duration": 3,
    "start_time": "2022-09-22T22:26:49.256Z"
   },
   {
    "duration": 54,
    "start_time": "2022-09-22T22:32:42.245Z"
   },
   {
    "duration": 415224,
    "start_time": "2022-09-22T22:32:57.723Z"
   },
   {
    "duration": 4,
    "start_time": "2022-09-22T22:42:14.022Z"
   },
   {
    "duration": 4,
    "start_time": "2022-09-22T22:42:27.567Z"
   },
   {
    "duration": 980,
    "start_time": "2022-09-22T22:45:53.298Z"
   },
   {
    "duration": 1005,
    "start_time": "2022-09-22T22:46:10.364Z"
   },
   {
    "duration": 155796,
    "start_time": "2022-09-22T22:47:42.293Z"
   },
   {
    "duration": 1410,
    "start_time": "2022-09-22T22:51:44.856Z"
   },
   {
    "duration": 1925,
    "start_time": "2022-09-22T22:51:46.268Z"
   },
   {
    "duration": 54,
    "start_time": "2022-09-22T22:51:48.195Z"
   },
   {
    "duration": 462,
    "start_time": "2022-09-22T22:51:48.251Z"
   },
   {
    "duration": 671,
    "start_time": "2022-09-22T22:51:48.715Z"
   },
   {
    "duration": 436,
    "start_time": "2022-09-22T22:51:49.388Z"
   },
   {
    "duration": 102,
    "start_time": "2022-09-22T22:51:49.825Z"
   },
   {
    "duration": 82,
    "start_time": "2022-09-22T22:51:49.929Z"
   },
   {
    "duration": 6,
    "start_time": "2022-09-22T22:51:50.013Z"
   },
   {
    "duration": 60,
    "start_time": "2022-09-22T22:51:50.021Z"
   },
   {
    "duration": 45,
    "start_time": "2022-09-22T22:51:50.083Z"
   },
   {
    "duration": 201,
    "start_time": "2022-09-22T22:51:50.130Z"
   },
   {
    "duration": 64,
    "start_time": "2022-09-22T22:51:50.332Z"
   },
   {
    "duration": 6,
    "start_time": "2022-09-22T22:51:50.398Z"
   },
   {
    "duration": 36,
    "start_time": "2022-09-22T22:51:50.405Z"
   },
   {
    "duration": 74,
    "start_time": "2022-09-22T22:51:50.443Z"
   },
   {
    "duration": 7,
    "start_time": "2022-09-22T22:51:50.518Z"
   },
   {
    "duration": 83,
    "start_time": "2022-09-22T22:51:50.526Z"
   },
   {
    "duration": 7,
    "start_time": "2022-09-22T22:51:50.610Z"
   },
   {
    "duration": 36,
    "start_time": "2022-09-22T22:51:50.618Z"
   },
   {
    "duration": 35,
    "start_time": "2022-09-22T22:51:50.655Z"
   },
   {
    "duration": 13,
    "start_time": "2022-09-22T22:51:50.691Z"
   },
   {
    "duration": 114,
    "start_time": "2022-09-22T22:51:50.705Z"
   },
   {
    "duration": 1489,
    "start_time": "2022-09-22T22:51:50.820Z"
   },
   {
    "duration": 38,
    "start_time": "2022-09-22T22:51:52.310Z"
   },
   {
    "duration": 74,
    "start_time": "2022-09-22T22:51:52.350Z"
   },
   {
    "duration": 26,
    "start_time": "2022-09-22T22:51:52.426Z"
   },
   {
    "duration": 29,
    "start_time": "2022-09-22T22:51:52.456Z"
   },
   {
    "duration": 26,
    "start_time": "2022-09-22T22:51:52.487Z"
   },
   {
    "duration": 17,
    "start_time": "2022-09-22T22:51:52.514Z"
   },
   {
    "duration": 15,
    "start_time": "2022-09-22T22:51:52.532Z"
   },
   {
    "duration": 54,
    "start_time": "2022-09-22T22:51:52.549Z"
   },
   {
    "duration": 19,
    "start_time": "2022-09-22T22:51:52.604Z"
   },
   {
    "duration": 32,
    "start_time": "2022-09-22T22:51:52.624Z"
   },
   {
    "duration": 19,
    "start_time": "2022-09-22T22:51:52.657Z"
   },
   {
    "duration": 17,
    "start_time": "2022-09-22T22:51:52.677Z"
   },
   {
    "duration": 31,
    "start_time": "2022-09-22T22:51:52.695Z"
   },
   {
    "duration": 52,
    "start_time": "2022-09-22T22:51:52.728Z"
   },
   {
    "duration": 13080,
    "start_time": "2022-09-22T22:51:52.782Z"
   },
   {
    "duration": 21,
    "start_time": "2022-09-22T22:52:05.863Z"
   },
   {
    "duration": 99,
    "start_time": "2022-09-22T22:52:05.886Z"
   },
   {
    "duration": 728,
    "start_time": "2022-09-22T22:52:05.986Z"
   },
   {
    "duration": 578,
    "start_time": "2022-09-22T22:52:06.716Z"
   },
   {
    "duration": 286,
    "start_time": "2022-09-22T22:52:07.296Z"
   },
   {
    "duration": 18,
    "start_time": "2022-09-22T22:52:07.584Z"
   },
   {
    "duration": 442,
    "start_time": "2022-09-22T22:52:07.603Z"
   },
   {
    "duration": 10,
    "start_time": "2022-09-22T22:52:08.047Z"
   },
   {
    "duration": 43,
    "start_time": "2022-09-22T22:52:08.058Z"
   },
   {
    "duration": 35,
    "start_time": "2022-09-22T22:52:08.104Z"
   },
   {
    "duration": 321,
    "start_time": "2022-09-22T22:52:08.142Z"
   },
   {
    "duration": 28,
    "start_time": "2022-09-22T22:52:08.465Z"
   },
   {
    "duration": 44,
    "start_time": "2022-09-22T22:52:08.494Z"
   },
   {
    "duration": 3,
    "start_time": "2022-09-22T22:52:08.540Z"
   },
   {
    "duration": 6,
    "start_time": "2022-09-22T22:52:08.545Z"
   },
   {
    "duration": 12144,
    "start_time": "2022-09-22T22:52:08.553Z"
   },
   {
    "duration": 3491,
    "start_time": "2022-09-22T22:52:20.698Z"
   },
   {
    "duration": 1413,
    "start_time": "2022-09-22T22:52:24.190Z"
   },
   {
    "duration": 166,
    "start_time": "2022-09-22T22:52:25.677Z"
   },
   {
    "duration": 4,
    "start_time": "2022-09-22T22:52:25.845Z"
   },
   {
    "duration": 7,
    "start_time": "2022-09-22T22:52:25.850Z"
   },
   {
    "duration": 9228,
    "start_time": "2022-09-22T22:52:25.859Z"
   },
   {
    "duration": 2597,
    "start_time": "2022-09-22T22:52:35.089Z"
   },
   {
    "duration": 989,
    "start_time": "2022-09-22T22:52:37.688Z"
   },
   {
    "duration": 174,
    "start_time": "2022-09-22T22:52:38.679Z"
   },
   {
    "duration": 4,
    "start_time": "2022-09-22T22:52:38.855Z"
   },
   {
    "duration": 11,
    "start_time": "2022-09-22T22:52:38.860Z"
   },
   {
    "duration": 24,
    "start_time": "2022-09-22T22:52:38.872Z"
   },
   {
    "duration": 53,
    "start_time": "2022-09-22T22:52:38.898Z"
   },
   {
    "duration": 264,
    "start_time": "2022-09-22T22:52:38.952Z"
   },
   {
    "duration": 2,
    "start_time": "2022-09-22T22:52:39.217Z"
   },
   {
    "duration": 13677,
    "start_time": "2022-09-22T22:52:39.221Z"
   },
   {
    "duration": 3,
    "start_time": "2022-09-22T22:52:52.900Z"
   },
   {
    "duration": 6,
    "start_time": "2022-09-22T22:52:52.904Z"
   },
   {
    "duration": 108072,
    "start_time": "2022-09-22T22:52:52.912Z"
   },
   {
    "duration": 4,
    "start_time": "2022-09-22T22:54:40.985Z"
   },
   {
    "duration": 11232,
    "start_time": "2022-09-22T22:54:40.990Z"
   },
   {
    "duration": 115,
    "start_time": "2022-09-22T22:54:52.223Z"
   },
   {
    "duration": 5,
    "start_time": "2022-09-22T22:54:52.340Z"
   },
   {
    "duration": 8,
    "start_time": "2022-09-22T22:54:52.346Z"
   },
   {
    "duration": 6,
    "start_time": "2022-09-22T22:54:52.355Z"
   },
   {
    "duration": 14,
    "start_time": "2022-09-22T22:54:52.362Z"
   },
   {
    "duration": 9,
    "start_time": "2022-09-22T22:54:52.383Z"
   },
   {
    "duration": 30,
    "start_time": "2022-09-22T22:54:52.393Z"
   },
   {
    "duration": 618,
    "start_time": "2022-09-22T22:54:52.425Z"
   },
   {
    "duration": 57,
    "start_time": "2022-09-22T22:54:53.044Z"
   },
   {
    "duration": 44,
    "start_time": "2022-09-22T22:54:53.102Z"
   },
   {
    "duration": 1531,
    "start_time": "2022-09-22T22:54:53.148Z"
   },
   {
    "duration": 331,
    "start_time": "2022-09-22T22:54:54.681Z"
   },
   {
    "duration": 2,
    "start_time": "2022-09-22T22:54:55.014Z"
   },
   {
    "duration": 4,
    "start_time": "2022-09-22T22:54:55.018Z"
   },
   {
    "duration": 13,
    "start_time": "2022-09-22T22:54:55.024Z"
   },
   {
    "duration": 11,
    "start_time": "2022-09-22T22:54:55.038Z"
   },
   {
    "duration": 9,
    "start_time": "2022-09-22T22:54:55.050Z"
   },
   {
    "duration": 6,
    "start_time": "2022-09-22T22:54:55.061Z"
   },
   {
    "duration": 6,
    "start_time": "2022-09-22T22:54:55.068Z"
   },
   {
    "duration": 6,
    "start_time": "2022-09-22T22:54:55.075Z"
   },
   {
    "duration": 10,
    "start_time": "2022-09-22T22:54:55.082Z"
   },
   {
    "duration": 8,
    "start_time": "2022-09-22T22:54:55.094Z"
   },
   {
    "duration": 185049,
    "start_time": "2022-09-22T22:54:55.103Z"
   },
   {
    "duration": 4,
    "start_time": "2022-09-22T22:58:00.153Z"
   },
   {
    "duration": 16,
    "start_time": "2022-09-22T22:58:00.159Z"
   },
   {
    "duration": 21661,
    "start_time": "2022-09-22T22:58:00.177Z"
   },
   {
    "duration": 9,
    "start_time": "2022-09-22T22:58:21.840Z"
   },
   {
    "duration": 4,
    "start_time": "2022-09-22T22:58:21.850Z"
   },
   {
    "duration": 57023,
    "start_time": "2022-09-22T22:58:21.855Z"
   },
   {
    "duration": 99,
    "start_time": "2022-09-22T22:59:18.880Z"
   },
   {
    "duration": 2,
    "start_time": "2022-09-22T22:59:18.981Z"
   },
   {
    "duration": 24901,
    "start_time": "2022-09-22T22:59:18.985Z"
   },
   {
    "duration": 92401,
    "start_time": "2022-09-22T22:59:43.977Z"
   },
   {
    "duration": 2,
    "start_time": "2022-09-22T23:01:16.380Z"
   },
   {
    "duration": 100,
    "start_time": "2022-09-22T23:01:16.384Z"
   },
   {
    "duration": 406749,
    "start_time": "2022-09-22T23:01:16.486Z"
   },
   {
    "duration": 3,
    "start_time": "2022-09-22T23:08:03.237Z"
   },
   {
    "duration": 6,
    "start_time": "2022-09-22T23:08:03.242Z"
   },
   {
    "duration": 158517,
    "start_time": "2022-09-22T23:08:03.250Z"
   },
   {
    "duration": 1005,
    "start_time": "2022-09-22T23:10:41.769Z"
   },
   {
    "duration": 4,
    "start_time": "2022-09-22T23:10:42.776Z"
   },
   {
    "duration": 115,
    "start_time": "2022-09-22T23:10:42.781Z"
   },
   {
    "duration": 9,
    "start_time": "2022-09-22T23:11:35.611Z"
   },
   {
    "duration": 1444,
    "start_time": "2022-09-22T23:12:43.974Z"
   },
   {
    "duration": 1856,
    "start_time": "2022-09-22T23:12:45.420Z"
   },
   {
    "duration": 55,
    "start_time": "2022-09-22T23:12:47.278Z"
   },
   {
    "duration": 435,
    "start_time": "2022-09-22T23:12:47.335Z"
   },
   {
    "duration": 468,
    "start_time": "2022-09-22T23:12:47.777Z"
   },
   {
    "duration": 422,
    "start_time": "2022-09-22T23:12:48.246Z"
   },
   {
    "duration": 114,
    "start_time": "2022-09-22T23:12:48.670Z"
   },
   {
    "duration": 96,
    "start_time": "2022-09-22T23:12:48.785Z"
   },
   {
    "duration": 6,
    "start_time": "2022-09-22T23:12:48.883Z"
   },
   {
    "duration": 42,
    "start_time": "2022-09-22T23:12:48.892Z"
   },
   {
    "duration": 59,
    "start_time": "2022-09-22T23:12:48.936Z"
   },
   {
    "duration": 206,
    "start_time": "2022-09-22T23:12:48.996Z"
   },
   {
    "duration": 59,
    "start_time": "2022-09-22T23:12:49.204Z"
   },
   {
    "duration": 13,
    "start_time": "2022-09-22T23:12:49.264Z"
   },
   {
    "duration": 35,
    "start_time": "2022-09-22T23:12:49.278Z"
   },
   {
    "duration": 71,
    "start_time": "2022-09-22T23:12:49.314Z"
   },
   {
    "duration": 6,
    "start_time": "2022-09-22T23:12:49.387Z"
   },
   {
    "duration": 64,
    "start_time": "2022-09-22T23:12:49.395Z"
   },
   {
    "duration": 21,
    "start_time": "2022-09-22T23:12:49.460Z"
   },
   {
    "duration": 34,
    "start_time": "2022-09-22T23:12:49.482Z"
   },
   {
    "duration": 16,
    "start_time": "2022-09-22T23:12:49.518Z"
   },
   {
    "duration": 44,
    "start_time": "2022-09-22T23:12:49.536Z"
   },
   {
    "duration": 99,
    "start_time": "2022-09-22T23:12:49.582Z"
   },
   {
    "duration": 1471,
    "start_time": "2022-09-22T23:12:49.683Z"
   },
   {
    "duration": 42,
    "start_time": "2022-09-22T23:12:51.156Z"
   },
   {
    "duration": 64,
    "start_time": "2022-09-22T23:12:51.200Z"
   },
   {
    "duration": 37,
    "start_time": "2022-09-22T23:12:51.265Z"
   },
   {
    "duration": 16,
    "start_time": "2022-09-22T23:12:51.306Z"
   },
   {
    "duration": 27,
    "start_time": "2022-09-22T23:12:51.324Z"
   },
   {
    "duration": 39,
    "start_time": "2022-09-22T23:12:51.352Z"
   },
   {
    "duration": 15,
    "start_time": "2022-09-22T23:12:51.392Z"
   },
   {
    "duration": 27,
    "start_time": "2022-09-22T23:12:51.408Z"
   },
   {
    "duration": 16,
    "start_time": "2022-09-22T23:12:51.436Z"
   },
   {
    "duration": 39,
    "start_time": "2022-09-22T23:12:51.453Z"
   },
   {
    "duration": 11,
    "start_time": "2022-09-22T23:12:51.494Z"
   },
   {
    "duration": 11,
    "start_time": "2022-09-22T23:12:51.506Z"
   },
   {
    "duration": 21,
    "start_time": "2022-09-22T23:12:51.518Z"
   },
   {
    "duration": 71,
    "start_time": "2022-09-22T23:12:51.541Z"
   },
   {
    "duration": 13035,
    "start_time": "2022-09-22T23:12:51.613Z"
   },
   {
    "duration": 27,
    "start_time": "2022-09-22T23:13:04.650Z"
   },
   {
    "duration": 98,
    "start_time": "2022-09-22T23:13:04.679Z"
   },
   {
    "duration": 772,
    "start_time": "2022-09-22T23:13:04.778Z"
   },
   {
    "duration": 598,
    "start_time": "2022-09-22T23:13:05.553Z"
   },
   {
    "duration": 304,
    "start_time": "2022-09-22T23:13:06.153Z"
   },
   {
    "duration": 21,
    "start_time": "2022-09-22T23:13:06.458Z"
   },
   {
    "duration": 457,
    "start_time": "2022-09-22T23:13:06.480Z"
   },
   {
    "duration": 10,
    "start_time": "2022-09-22T23:13:06.940Z"
   },
   {
    "duration": 43,
    "start_time": "2022-09-22T23:13:06.951Z"
   },
   {
    "duration": 29,
    "start_time": "2022-09-22T23:13:06.996Z"
   },
   {
    "duration": 305,
    "start_time": "2022-09-22T23:13:07.027Z"
   },
   {
    "duration": 23,
    "start_time": "2022-09-22T23:13:07.333Z"
   },
   {
    "duration": 55,
    "start_time": "2022-09-22T23:13:07.357Z"
   },
   {
    "duration": 3,
    "start_time": "2022-09-22T23:13:07.414Z"
   },
   {
    "duration": 6,
    "start_time": "2022-09-22T23:13:07.418Z"
   },
   {
    "duration": 13368,
    "start_time": "2022-09-22T23:13:07.426Z"
   },
   {
    "duration": 4983,
    "start_time": "2022-09-22T23:13:20.796Z"
   },
   {
    "duration": 1407,
    "start_time": "2022-09-22T23:13:25.781Z"
   },
   {
    "duration": 200,
    "start_time": "2022-09-22T23:13:27.190Z"
   },
   {
    "duration": 4,
    "start_time": "2022-09-22T23:13:27.391Z"
   },
   {
    "duration": 7,
    "start_time": "2022-09-22T23:13:27.396Z"
   },
   {
    "duration": 10373,
    "start_time": "2022-09-22T23:13:27.404Z"
   },
   {
    "duration": 3505,
    "start_time": "2022-09-22T23:13:37.779Z"
   },
   {
    "duration": 993,
    "start_time": "2022-09-22T23:13:41.285Z"
   },
   {
    "duration": 185,
    "start_time": "2022-09-22T23:13:42.279Z"
   },
   {
    "duration": 13,
    "start_time": "2022-09-22T23:13:42.466Z"
   },
   {
    "duration": 3,
    "start_time": "2022-09-22T23:13:42.480Z"
   },
   {
    "duration": 25,
    "start_time": "2022-09-22T23:13:42.484Z"
   },
   {
    "duration": 67,
    "start_time": "2022-09-22T23:13:42.510Z"
   },
   {
    "duration": 268,
    "start_time": "2022-09-22T23:13:42.578Z"
   },
   {
    "duration": 3,
    "start_time": "2022-09-22T23:13:42.847Z"
   },
   {
    "duration": 13560,
    "start_time": "2022-09-22T23:13:42.852Z"
   },
   {
    "duration": 3,
    "start_time": "2022-09-22T23:13:56.414Z"
   },
   {
    "duration": 5,
    "start_time": "2022-09-22T23:13:56.419Z"
   },
   {
    "duration": 107952,
    "start_time": "2022-09-22T23:13:56.425Z"
   },
   {
    "duration": 4,
    "start_time": "2022-09-22T23:15:44.379Z"
   },
   {
    "duration": 11375,
    "start_time": "2022-09-22T23:15:44.384Z"
   },
   {
    "duration": 110,
    "start_time": "2022-09-22T23:15:55.761Z"
   },
   {
    "duration": 4,
    "start_time": "2022-09-22T23:15:55.873Z"
   },
   {
    "duration": 5,
    "start_time": "2022-09-22T23:15:55.879Z"
   },
   {
    "duration": 4,
    "start_time": "2022-09-22T23:15:55.885Z"
   },
   {
    "duration": 6,
    "start_time": "2022-09-22T23:15:55.891Z"
   },
   {
    "duration": 21,
    "start_time": "2022-09-22T23:15:55.903Z"
   },
   {
    "duration": 561,
    "start_time": "2022-09-22T23:15:55.925Z"
   },
   {
    "duration": 46,
    "start_time": "2022-09-22T23:15:56.488Z"
   },
   {
    "duration": 54,
    "start_time": "2022-09-22T23:15:56.536Z"
   },
   {
    "duration": 1466,
    "start_time": "2022-09-22T23:15:56.592Z"
   },
   {
    "duration": 332,
    "start_time": "2022-09-22T23:15:58.060Z"
   },
   {
    "duration": 2,
    "start_time": "2022-09-22T23:15:58.394Z"
   },
   {
    "duration": 6,
    "start_time": "2022-09-22T23:15:58.397Z"
   },
   {
    "duration": 5,
    "start_time": "2022-09-22T23:15:58.404Z"
   },
   {
    "duration": 5,
    "start_time": "2022-09-22T23:15:58.410Z"
   },
   {
    "duration": 4,
    "start_time": "2022-09-22T23:15:58.416Z"
   },
   {
    "duration": 5,
    "start_time": "2022-09-22T23:15:58.422Z"
   },
   {
    "duration": 5,
    "start_time": "2022-09-22T23:15:58.428Z"
   },
   {
    "duration": 7,
    "start_time": "2022-09-22T23:15:58.434Z"
   },
   {
    "duration": 4,
    "start_time": "2022-09-22T23:15:58.442Z"
   },
   {
    "duration": 4,
    "start_time": "2022-09-22T23:15:58.448Z"
   },
   {
    "duration": 174515,
    "start_time": "2022-09-22T23:15:58.453Z"
   },
   {
    "duration": 4,
    "start_time": "2022-09-22T23:18:52.969Z"
   },
   {
    "duration": 10,
    "start_time": "2022-09-22T23:18:52.974Z"
   },
   {
    "duration": 21417,
    "start_time": "2022-09-22T23:18:52.985Z"
   },
   {
    "duration": 9,
    "start_time": "2022-09-22T23:19:14.404Z"
   },
   {
    "duration": 4,
    "start_time": "2022-09-22T23:19:14.415Z"
   },
   {
    "duration": 54958,
    "start_time": "2022-09-22T23:19:14.420Z"
   },
   {
    "duration": 9,
    "start_time": "2022-09-22T23:20:09.380Z"
   },
   {
    "duration": 6,
    "start_time": "2022-09-22T23:20:09.391Z"
   },
   {
    "duration": 25587,
    "start_time": "2022-09-22T23:20:09.399Z"
   },
   {
    "duration": 95201,
    "start_time": "2022-09-22T23:20:35.078Z"
   },
   {
    "duration": 4,
    "start_time": "2022-09-22T23:22:10.281Z"
   },
   {
    "duration": 91,
    "start_time": "2022-09-22T23:22:10.286Z"
   },
   {
    "duration": 405812,
    "start_time": "2022-09-22T23:22:10.379Z"
   },
   {
    "duration": 3,
    "start_time": "2022-09-22T23:28:56.193Z"
   },
   {
    "duration": 5,
    "start_time": "2022-09-22T23:28:56.198Z"
   },
   {
    "duration": 157509,
    "start_time": "2022-09-22T23:28:56.204Z"
   },
   {
    "duration": 1115,
    "start_time": "2022-09-22T23:31:33.715Z"
   },
   {
    "duration": 4,
    "start_time": "2022-09-22T23:31:34.832Z"
   },
   {
    "duration": 28,
    "start_time": "2022-09-22T23:31:34.838Z"
   },
   {
    "duration": 50,
    "start_time": "2022-09-22T23:31:34.868Z"
   }
  ],
  "kernelspec": {
   "display_name": "Python 3 (ipykernel)",
   "language": "python",
   "name": "python3"
  },
  "language_info": {
   "codemirror_mode": {
    "name": "ipython",
    "version": 3
   },
   "file_extension": ".py",
   "mimetype": "text/x-python",
   "name": "python",
   "nbconvert_exporter": "python",
   "pygments_lexer": "ipython3",
   "version": "3.9.13"
  },
  "toc": {
   "base_numbering": 1,
   "nav_menu": {},
   "number_sections": true,
   "sideBar": true,
   "skip_h1_title": true,
   "title_cell": "Table of Contents",
   "title_sidebar": "Contents",
   "toc_cell": false,
   "toc_position": {
    "height": "calc(100% - 180px)",
    "left": "10px",
    "top": "150px",
    "width": "165px"
   },
   "toc_section_display": true,
   "toc_window_display": true
  }
 },
 "nbformat": 4,
 "nbformat_minor": 2
}
