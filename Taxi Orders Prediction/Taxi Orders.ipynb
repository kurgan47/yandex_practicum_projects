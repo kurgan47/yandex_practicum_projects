{
 "cells": [
  {
   "cell_type": "markdown",
   "metadata": {},
   "source": [
    "#  Прогнозирование заказов такси"
   ]
  },
  {
   "cell_type": "markdown",
   "metadata": {
    "toc": true
   },
   "source": [
    "<h1>Содержание<span class=\"tocSkip\"></span></h1>\n",
    "<div class=\"toc\"><ul class=\"toc-item\"><li><span><a href=\"#Подготовка\" data-toc-modified-id=\"Подготовка-1\"><span class=\"toc-item-num\">1&nbsp;&nbsp;</span>Подготовка</a></span></li><li><span><a href=\"#Анализ\" data-toc-modified-id=\"Анализ-2\"><span class=\"toc-item-num\">2&nbsp;&nbsp;</span>Анализ</a></span><ul class=\"toc-item\"><li><span><a href=\"#Вывод\" data-toc-modified-id=\"Вывод-2.1\"><span class=\"toc-item-num\">2.1&nbsp;&nbsp;</span>Вывод</a></span></li></ul></li><li><span><a href=\"#Обучение\" data-toc-modified-id=\"Обучение-3\"><span class=\"toc-item-num\">3&nbsp;&nbsp;</span>Обучение</a></span><ul class=\"toc-item\"><li><span><a href=\"#Линейная-регрессия\" data-toc-modified-id=\"Линейная-регрессия-3.1\"><span class=\"toc-item-num\">3.1&nbsp;&nbsp;</span>Линейная регрессия</a></span></li><li><span><a href=\"#CatBoost\" data-toc-modified-id=\"CatBoost-3.2\"><span class=\"toc-item-num\">3.2&nbsp;&nbsp;</span>CatBoost</a></span></li><li><span><a href=\"#Случайный-лес\" data-toc-modified-id=\"Случайный-лес-3.3\"><span class=\"toc-item-num\">3.3&nbsp;&nbsp;</span>Случайный лес</a></span></li></ul></li><li><span><a href=\"#Тестирование\" data-toc-modified-id=\"Тестирование-4\"><span class=\"toc-item-num\">4&nbsp;&nbsp;</span>Тестирование</a></span><ul class=\"toc-item\"><li><span><a href=\"#Вывод\" data-toc-modified-id=\"Вывод-4.1\"><span class=\"toc-item-num\">4.1&nbsp;&nbsp;</span>Вывод</a></span></li></ul></li><li><span><a href=\"#Чек-лист-проверки\" data-toc-modified-id=\"Чек-лист-проверки-5\"><span class=\"toc-item-num\">5&nbsp;&nbsp;</span>Чек-лист проверки</a></span></li></ul></div>"
   ]
  },
  {
   "cell_type": "markdown",
   "metadata": {},
   "source": [
    "В наличие есть исторические данные о заказах такси в аэропортах. Чтобы привлекать больше водителей в период пиковой нагрузки, нужно спрогнозировать количество заказов такси на следующий час.\n",
    "\n",
    "\n",
    "\n",
    "Необходимо:\n",
    "\n",
    "1. Загрузить данные и выполнить их ресемплирование по одному часу.\n",
    "2. Проанализировать данные.\n",
    "3. Обучить разные модели с различными гиперпараметрами. Сделать тестовую выборку размером 10% от исходных данных.\n",
    "4. Проверить данные на тестовой выборке и сделать выводы.\n"
   ]
  },
  {
   "cell_type": "markdown",
   "metadata": {},
   "source": [
    "## Подготовка"
   ]
  },
  {
   "cell_type": "code",
   "execution_count": 1,
   "metadata": {},
   "outputs": [],
   "source": [
    "import pandas as pd\n",
    "import numpy as np\n",
    "\n",
    "from statsmodels.tsa.seasonal import seasonal_decompose\n",
    "\n",
    "from sklearn.model_selection import train_test_split\n",
    "from sklearn.linear_model import LinearRegression\n",
    "from sklearn.ensemble import RandomForestRegressor\n",
    "from sklearn.metrics import mean_squared_error\n",
    "from sklearn.model_selection import GridSearchCV\n",
    "\n",
    "from catboost import CatBoostRegressor, Pool\n",
    "\n",
    "import matplotlib.pyplot as plt"
   ]
  },
  {
   "cell_type": "code",
   "execution_count": 2,
   "metadata": {
    "scrolled": false
   },
   "outputs": [
    {
     "data": {
      "text/html": [
       "<div>\n",
       "<style scoped>\n",
       "    .dataframe tbody tr th:only-of-type {\n",
       "        vertical-align: middle;\n",
       "    }\n",
       "\n",
       "    .dataframe tbody tr th {\n",
       "        vertical-align: top;\n",
       "    }\n",
       "\n",
       "    .dataframe thead th {\n",
       "        text-align: right;\n",
       "    }\n",
       "</style>\n",
       "<table border=\"1\" class=\"dataframe\">\n",
       "  <thead>\n",
       "    <tr style=\"text-align: right;\">\n",
       "      <th></th>\n",
       "      <th>num_orders</th>\n",
       "    </tr>\n",
       "    <tr>\n",
       "      <th>datetime</th>\n",
       "      <th></th>\n",
       "    </tr>\n",
       "  </thead>\n",
       "  <tbody>\n",
       "    <tr>\n",
       "      <th>2018-03-01 00:00:00</th>\n",
       "      <td>9</td>\n",
       "    </tr>\n",
       "    <tr>\n",
       "      <th>2018-03-01 00:10:00</th>\n",
       "      <td>14</td>\n",
       "    </tr>\n",
       "    <tr>\n",
       "      <th>2018-03-01 00:20:00</th>\n",
       "      <td>28</td>\n",
       "    </tr>\n",
       "    <tr>\n",
       "      <th>2018-03-01 00:30:00</th>\n",
       "      <td>20</td>\n",
       "    </tr>\n",
       "    <tr>\n",
       "      <th>2018-03-01 00:40:00</th>\n",
       "      <td>32</td>\n",
       "    </tr>\n",
       "  </tbody>\n",
       "</table>\n",
       "</div>"
      ],
      "text/plain": [
       "                     num_orders\n",
       "datetime                       \n",
       "2018-03-01 00:00:00           9\n",
       "2018-03-01 00:10:00          14\n",
       "2018-03-01 00:20:00          28\n",
       "2018-03-01 00:30:00          20\n",
       "2018-03-01 00:40:00          32"
      ]
     },
     "execution_count": 2,
     "metadata": {},
     "output_type": "execute_result"
    }
   ],
   "source": [
    "data = pd.read_csv('https://code.s3.yandex.net/datasets/taxi.csv',parse_dates=[0], index_col=[0])\n",
    "data.head()"
   ]
  },
  {
   "cell_type": "code",
   "execution_count": 3,
   "metadata": {},
   "outputs": [
    {
     "name": "stdout",
     "output_type": "stream",
     "text": [
      "<class 'pandas.core.frame.DataFrame'>\n",
      "DatetimeIndex: 26496 entries, 2018-03-01 00:00:00 to 2018-08-31 23:50:00\n",
      "Data columns (total 1 columns):\n",
      " #   Column      Non-Null Count  Dtype\n",
      "---  ------      --------------  -----\n",
      " 0   num_orders  26496 non-null  int64\n",
      "dtypes: int64(1)\n",
      "memory usage: 414.0 KB\n"
     ]
    }
   ],
   "source": [
    "data.info()"
   ]
  },
  {
   "cell_type": "markdown",
   "metadata": {},
   "source": [
    "Проверим, монотонные ли данные."
   ]
  },
  {
   "cell_type": "code",
   "execution_count": 4,
   "metadata": {
    "scrolled": true
   },
   "outputs": [
    {
     "name": "stderr",
     "output_type": "stream",
     "text": [
      "C:\\Users\\Sergey.Polushkin\\AppData\\Local\\Temp\\ipykernel_14504\\3649924976.py:1: FutureWarning: is_monotonic is deprecated and will be removed in a future version. Use is_monotonic_increasing instead.\n",
      "  data.index.is_monotonic\n"
     ]
    },
    {
     "data": {
      "text/plain": [
       "True"
      ]
     },
     "execution_count": 4,
     "metadata": {},
     "output_type": "execute_result"
    }
   ],
   "source": [
    "data.index.is_monotonic"
   ]
  },
  {
   "cell_type": "markdown",
   "metadata": {},
   "source": [
    "Проверим пустые значения."
   ]
  },
  {
   "cell_type": "code",
   "execution_count": 5,
   "metadata": {},
   "outputs": [
    {
     "data": {
      "text/plain": [
       "num_orders    0\n",
       "dtype: int64"
      ]
     },
     "execution_count": 5,
     "metadata": {},
     "output_type": "execute_result"
    }
   ],
   "source": [
    "data.isna().sum()"
   ]
  },
  {
   "cell_type": "markdown",
   "metadata": {},
   "source": [
    "Приведем индекс к интервалу в 1 час."
   ]
  },
  {
   "cell_type": "code",
   "execution_count": 6,
   "metadata": {},
   "outputs": [
    {
     "data": {
      "text/html": [
       "<div>\n",
       "<style scoped>\n",
       "    .dataframe tbody tr th:only-of-type {\n",
       "        vertical-align: middle;\n",
       "    }\n",
       "\n",
       "    .dataframe tbody tr th {\n",
       "        vertical-align: top;\n",
       "    }\n",
       "\n",
       "    .dataframe thead th {\n",
       "        text-align: right;\n",
       "    }\n",
       "</style>\n",
       "<table border=\"1\" class=\"dataframe\">\n",
       "  <thead>\n",
       "    <tr style=\"text-align: right;\">\n",
       "      <th></th>\n",
       "      <th>num_orders</th>\n",
       "    </tr>\n",
       "    <tr>\n",
       "      <th>datetime</th>\n",
       "      <th></th>\n",
       "    </tr>\n",
       "  </thead>\n",
       "  <tbody>\n",
       "    <tr>\n",
       "      <th>2018-03-01 00:00:00</th>\n",
       "      <td>124</td>\n",
       "    </tr>\n",
       "    <tr>\n",
       "      <th>2018-03-01 01:00:00</th>\n",
       "      <td>85</td>\n",
       "    </tr>\n",
       "    <tr>\n",
       "      <th>2018-03-01 02:00:00</th>\n",
       "      <td>71</td>\n",
       "    </tr>\n",
       "    <tr>\n",
       "      <th>2018-03-01 03:00:00</th>\n",
       "      <td>66</td>\n",
       "    </tr>\n",
       "    <tr>\n",
       "      <th>2018-03-01 04:00:00</th>\n",
       "      <td>43</td>\n",
       "    </tr>\n",
       "  </tbody>\n",
       "</table>\n",
       "</div>"
      ],
      "text/plain": [
       "                     num_orders\n",
       "datetime                       \n",
       "2018-03-01 00:00:00         124\n",
       "2018-03-01 01:00:00          85\n",
       "2018-03-01 02:00:00          71\n",
       "2018-03-01 03:00:00          66\n",
       "2018-03-01 04:00:00          43"
      ]
     },
     "execution_count": 6,
     "metadata": {},
     "output_type": "execute_result"
    }
   ],
   "source": [
    "data = data.resample('1H').sum()\n",
    "data.head()"
   ]
  },
  {
   "cell_type": "code",
   "execution_count": 7,
   "metadata": {},
   "outputs": [
    {
     "name": "stdout",
     "output_type": "stream",
     "text": [
      "<class 'pandas.core.frame.DataFrame'>\n",
      "DatetimeIndex: 4416 entries, 2018-03-01 00:00:00 to 2018-08-31 23:00:00\n",
      "Freq: H\n",
      "Data columns (total 1 columns):\n",
      " #   Column      Non-Null Count  Dtype\n",
      "---  ------      --------------  -----\n",
      " 0   num_orders  4416 non-null   int64\n",
      "dtypes: int64(1)\n",
      "memory usage: 69.0 KB\n"
     ]
    }
   ],
   "source": [
    "data.info()"
   ]
  },
  {
   "cell_type": "markdown",
   "metadata": {},
   "source": [
    "## Анализ"
   ]
  },
  {
   "cell_type": "markdown",
   "metadata": {},
   "source": [
    "Попробуем нарисовать времянной ряд и разложим его на тренд, сезонную составляющую и шум."
   ]
  },
  {
   "cell_type": "code",
   "execution_count": 8,
   "metadata": {},
   "outputs": [
    {
     "data": {
      "image/png": "[encoded data removed]",
      "text/plain": [
       "<Figure size 1900x600 with 1 Axes>"
      ]
     },
     "metadata": {},
     "output_type": "display_data"
    }
   ],
   "source": [
    "plt.figure(figsize=(19, 6))\n",
    "data['num_orders'].plot()\n",
    "data['num_orders'].rolling(24).mean().plot(color='black')\n",
    "data['num_orders'].rolling(24*7).mean().plot(color='r')\n",
    "plt.legend(['num_orders','av_day','av_week'])\n",
    "plt.show()"
   ]
  },
  {
   "cell_type": "code",
   "execution_count": 9,
   "metadata": {},
   "outputs": [
    {
     "data": {
      "text/plain": [
       "<AxesSubplot: title={'center': 'trend'}, xlabel='datetime'>"
      ]
     },
     "execution_count": 9,
     "metadata": {},
     "output_type": "execute_result"
    },
    {
     "data": {
      "image/png": "[encoded data removed]",
      "text/plain": [
       "<Figure size 1900x600 with 1 Axes>"
      ]
     },
     "metadata": {},
     "output_type": "display_data"
    }
   ],
   "source": [
    "decomposed = seasonal_decompose(data)\n",
    "plt.figure(figsize=(19, 6))\n",
    "decomposed.trend.plot(title='trend')"
   ]
  },
  {
   "cell_type": "code",
   "execution_count": 10,
   "metadata": {
    "scrolled": false
   },
   "outputs": [
    {
     "data": {
      "text/plain": [
       "<AxesSubplot: title={'center': 'seasonable'}, xlabel='datetime'>"
      ]
     },
     "execution_count": 10,
     "metadata": {},
     "output_type": "execute_result"
    },
    {
     "data": {
      "image/png": "[encoded data removed]",
      "text/plain": [
       "<Figure size 1900x600 with 1 Axes>"
      ]
     },
     "metadata": {},
     "output_type": "display_data"
    }
   ],
   "source": [
    "plt.figure(figsize=(19, 6))\n",
    "decomposed.seasonal['2018-03-01':f'2018-03-15'].plot(title='seasonable')"
   ]
  },
  {
   "cell_type": "code",
   "execution_count": 11,
   "metadata": {},
   "outputs": [
    {
     "data": {
      "text/plain": [
       "<AxesSubplot: title={'center': 'residual'}, xlabel='datetime'>"
      ]
     },
     "execution_count": 11,
     "metadata": {},
     "output_type": "execute_result"
    },
    {
     "data": {
      "image/png": "[encoded data removed]",
      "text/plain": [
       "<Figure size 1900x600 with 1 Axes>"
      ]
     },
     "metadata": {},
     "output_type": "display_data"
    }
   ],
   "source": [
    "plt.figure(figsize=(19, 6))\n",
    "decomposed.resid.plot(title='residual')"
   ]
  },
  {
   "cell_type": "markdown",
   "metadata": {},
   "source": [
    "Посмотрим на разность времянного ряда."
   ]
  },
  {
   "cell_type": "code",
   "execution_count": 12,
   "metadata": {
    "scrolled": true
   },
   "outputs": [
    {
     "data": {
      "image/png": "[encoded data removed]",
      "text/plain": [
       "<Figure size 1900x600 with 1 Axes>"
      ]
     },
     "metadata": {},
     "output_type": "display_data"
    }
   ],
   "source": [
    "plt.figure(figsize=(19, 6))\n",
    "(data['num_orders']-data['num_orders'].shift()).plot(title='lag')\n",
    "plt.show()"
   ]
  },
  {
   "cell_type": "markdown",
   "metadata": {},
   "source": [
    "### Вывод\n",
    "- Наблюдается тренд на увеличение заказов с марта по август."
   ]
  },
  {
   "cell_type": "markdown",
   "metadata": {},
   "source": [
    "## Обучение"
   ]
  },
  {
   "cell_type": "markdown",
   "metadata": {},
   "source": [
    "Добавим признаков."
   ]
  },
  {
   "cell_type": "code",
   "execution_count": 13,
   "metadata": {
    "scrolled": true
   },
   "outputs": [
    {
     "data": {
      "text/html": [
       "<div>\n",
       "<style scoped>\n",
       "    .dataframe tbody tr th:only-of-type {\n",
       "        vertical-align: middle;\n",
       "    }\n",
       "\n",
       "    .dataframe tbody tr th {\n",
       "        vertical-align: top;\n",
       "    }\n",
       "\n",
       "    .dataframe thead th {\n",
       "        text-align: right;\n",
       "    }\n",
       "</style>\n",
       "<table border=\"1\" class=\"dataframe\">\n",
       "  <thead>\n",
       "    <tr style=\"text-align: right;\">\n",
       "      <th></th>\n",
       "      <th>num_orders</th>\n",
       "      <th>dayofweek</th>\n",
       "      <th>hour</th>\n",
       "      <th>rolling_mean</th>\n",
       "      <th>lag_1</th>\n",
       "      <th>lag_2</th>\n",
       "      <th>lag_3</th>\n",
       "      <th>lag_4</th>\n",
       "      <th>lag_5</th>\n",
       "      <th>lag_6</th>\n",
       "      <th>...</th>\n",
       "      <th>lag_14</th>\n",
       "      <th>lag_15</th>\n",
       "      <th>lag_16</th>\n",
       "      <th>lag_17</th>\n",
       "      <th>lag_18</th>\n",
       "      <th>lag_19</th>\n",
       "      <th>lag_20</th>\n",
       "      <th>lag_21</th>\n",
       "      <th>lag_22</th>\n",
       "      <th>lag_23</th>\n",
       "    </tr>\n",
       "    <tr>\n",
       "      <th>datetime</th>\n",
       "      <th></th>\n",
       "      <th></th>\n",
       "      <th></th>\n",
       "      <th></th>\n",
       "      <th></th>\n",
       "      <th></th>\n",
       "      <th></th>\n",
       "      <th></th>\n",
       "      <th></th>\n",
       "      <th></th>\n",
       "      <th></th>\n",
       "      <th></th>\n",
       "      <th></th>\n",
       "      <th></th>\n",
       "      <th></th>\n",
       "      <th></th>\n",
       "      <th></th>\n",
       "      <th></th>\n",
       "      <th></th>\n",
       "      <th></th>\n",
       "      <th></th>\n",
       "    </tr>\n",
       "  </thead>\n",
       "  <tbody>\n",
       "    <tr>\n",
       "      <th>2018-03-02 00:00:00</th>\n",
       "      <td>90</td>\n",
       "      <td>4</td>\n",
       "      <td>0</td>\n",
       "      <td>56.833333</td>\n",
       "      <td>58.0</td>\n",
       "      <td>113.0</td>\n",
       "      <td>66.0</td>\n",
       "      <td>61.0</td>\n",
       "      <td>45.0</td>\n",
       "      <td>73.0</td>\n",
       "      <td>...</td>\n",
       "      <td>64.0</td>\n",
       "      <td>69.0</td>\n",
       "      <td>34.0</td>\n",
       "      <td>15.0</td>\n",
       "      <td>12.0</td>\n",
       "      <td>6.0</td>\n",
       "      <td>43.0</td>\n",
       "      <td>66.0</td>\n",
       "      <td>71.0</td>\n",
       "      <td>85.0</td>\n",
       "    </tr>\n",
       "    <tr>\n",
       "      <th>2018-03-02 01:00:00</th>\n",
       "      <td>120</td>\n",
       "      <td>4</td>\n",
       "      <td>1</td>\n",
       "      <td>55.416667</td>\n",
       "      <td>90.0</td>\n",
       "      <td>58.0</td>\n",
       "      <td>113.0</td>\n",
       "      <td>66.0</td>\n",
       "      <td>61.0</td>\n",
       "      <td>45.0</td>\n",
       "      <td>...</td>\n",
       "      <td>96.0</td>\n",
       "      <td>64.0</td>\n",
       "      <td>69.0</td>\n",
       "      <td>34.0</td>\n",
       "      <td>15.0</td>\n",
       "      <td>12.0</td>\n",
       "      <td>6.0</td>\n",
       "      <td>43.0</td>\n",
       "      <td>66.0</td>\n",
       "      <td>71.0</td>\n",
       "    </tr>\n",
       "    <tr>\n",
       "      <th>2018-03-02 02:00:00</th>\n",
       "      <td>75</td>\n",
       "      <td>4</td>\n",
       "      <td>2</td>\n",
       "      <td>56.875000</td>\n",
       "      <td>120.0</td>\n",
       "      <td>90.0</td>\n",
       "      <td>58.0</td>\n",
       "      <td>113.0</td>\n",
       "      <td>66.0</td>\n",
       "      <td>61.0</td>\n",
       "      <td>...</td>\n",
       "      <td>30.0</td>\n",
       "      <td>96.0</td>\n",
       "      <td>64.0</td>\n",
       "      <td>69.0</td>\n",
       "      <td>34.0</td>\n",
       "      <td>15.0</td>\n",
       "      <td>12.0</td>\n",
       "      <td>6.0</td>\n",
       "      <td>43.0</td>\n",
       "      <td>66.0</td>\n",
       "    </tr>\n",
       "    <tr>\n",
       "      <th>2018-03-02 03:00:00</th>\n",
       "      <td>64</td>\n",
       "      <td>4</td>\n",
       "      <td>3</td>\n",
       "      <td>57.041667</td>\n",
       "      <td>75.0</td>\n",
       "      <td>120.0</td>\n",
       "      <td>90.0</td>\n",
       "      <td>58.0</td>\n",
       "      <td>113.0</td>\n",
       "      <td>66.0</td>\n",
       "      <td>...</td>\n",
       "      <td>32.0</td>\n",
       "      <td>30.0</td>\n",
       "      <td>96.0</td>\n",
       "      <td>64.0</td>\n",
       "      <td>69.0</td>\n",
       "      <td>34.0</td>\n",
       "      <td>15.0</td>\n",
       "      <td>12.0</td>\n",
       "      <td>6.0</td>\n",
       "      <td>43.0</td>\n",
       "    </tr>\n",
       "    <tr>\n",
       "      <th>2018-03-02 04:00:00</th>\n",
       "      <td>20</td>\n",
       "      <td>4</td>\n",
       "      <td>4</td>\n",
       "      <td>56.958333</td>\n",
       "      <td>64.0</td>\n",
       "      <td>75.0</td>\n",
       "      <td>120.0</td>\n",
       "      <td>90.0</td>\n",
       "      <td>58.0</td>\n",
       "      <td>113.0</td>\n",
       "      <td>...</td>\n",
       "      <td>48.0</td>\n",
       "      <td>32.0</td>\n",
       "      <td>30.0</td>\n",
       "      <td>96.0</td>\n",
       "      <td>64.0</td>\n",
       "      <td>69.0</td>\n",
       "      <td>34.0</td>\n",
       "      <td>15.0</td>\n",
       "      <td>12.0</td>\n",
       "      <td>6.0</td>\n",
       "    </tr>\n",
       "  </tbody>\n",
       "</table>\n",
       "<p>5 rows × 27 columns</p>\n",
       "</div>"
      ],
      "text/plain": [
       "                     num_orders  dayofweek  hour  rolling_mean  lag_1  lag_2  \\\n",
       "datetime                                                                       \n",
       "2018-03-02 00:00:00          90          4     0     56.833333   58.0  113.0   \n",
       "2018-03-02 01:00:00         120          4     1     55.416667   90.0   58.0   \n",
       "2018-03-02 02:00:00          75          4     2     56.875000  120.0   90.0   \n",
       "2018-03-02 03:00:00          64          4     3     57.041667   75.0  120.0   \n",
       "2018-03-02 04:00:00          20          4     4     56.958333   64.0   75.0   \n",
       "\n",
       "                     lag_3  lag_4  lag_5  lag_6  ...  lag_14  lag_15  lag_16  \\\n",
       "datetime                                         ...                           \n",
       "2018-03-02 00:00:00   66.0   61.0   45.0   73.0  ...    64.0    69.0    34.0   \n",
       "2018-03-02 01:00:00  113.0   66.0   61.0   45.0  ...    96.0    64.0    69.0   \n",
       "2018-03-02 02:00:00   58.0  113.0   66.0   61.0  ...    30.0    96.0    64.0   \n",
       "2018-03-02 03:00:00   90.0   58.0  113.0   66.0  ...    32.0    30.0    96.0   \n",
       "2018-03-02 04:00:00  120.0   90.0   58.0  113.0  ...    48.0    32.0    30.0   \n",
       "\n",
       "                     lag_17  lag_18  lag_19  lag_20  lag_21  lag_22  lag_23  \n",
       "datetime                                                                     \n",
       "2018-03-02 00:00:00    15.0    12.0     6.0    43.0    66.0    71.0    85.0  \n",
       "2018-03-02 01:00:00    34.0    15.0    12.0     6.0    43.0    66.0    71.0  \n",
       "2018-03-02 02:00:00    69.0    34.0    15.0    12.0     6.0    43.0    66.0  \n",
       "2018-03-02 03:00:00    64.0    69.0    34.0    15.0    12.0     6.0    43.0  \n",
       "2018-03-02 04:00:00    96.0    64.0    69.0    34.0    15.0    12.0     6.0  \n",
       "\n",
       "[5 rows x 27 columns]"
      ]
     },
     "execution_count": 13,
     "metadata": {},
     "output_type": "execute_result"
    }
   ],
   "source": [
    "#data['month'] = data.index.month\n",
    "#data['day'] = data.index.day\n",
    "data['dayofweek'] = data.index.dayofweek\n",
    "data['hour'] = data.index.hour\n",
    "data['rolling_mean'] = data['num_orders'].shift().rolling(24).mean()\n",
    "for i in range(1, 24):\n",
    "    data[f'lag_{i}'] = data['num_orders'].shift(i)\n",
    "data = data.dropna()\n",
    "data.head()"
   ]
  },
  {
   "cell_type": "markdown",
   "metadata": {},
   "source": [
    "### Линейная регрессия"
   ]
  },
  {
   "cell_type": "markdown",
   "metadata": {},
   "source": [
    "Разделим выборки на обучающую, валидационную и тестовую."
   ]
  },
  {
   "cell_type": "code",
   "execution_count": 14,
   "metadata": {},
   "outputs": [],
   "source": [
    "train, test_ = train_test_split(data,shuffle=False, test_size=0.2)\n",
    "valid, test = train_test_split(test_,shuffle=False, test_size=0.5)\n",
    "target_train = train['num_orders']\n",
    "features_train = train.drop(columns=['num_orders'])\n",
    "target_valid = valid['num_orders']\n",
    "features_valid = valid.drop(columns=['num_orders'])\n",
    "target_test = test['num_orders']\n",
    "features_test = test.drop(columns=['num_orders'])"
   ]
  },
  {
   "cell_type": "markdown",
   "metadata": {},
   "source": [
    "Оценим линейную регрессию на валидационной выборке."
   ]
  },
  {
   "cell_type": "code",
   "execution_count": 15,
   "metadata": {},
   "outputs": [],
   "source": [
    "valid_dict = {}"
   ]
  },
  {
   "cell_type": "code",
   "execution_count": 16,
   "metadata": {},
   "outputs": [
    {
     "data": {
      "text/plain": [
       "{'LineraRegression': [34.377462522806]}"
      ]
     },
     "execution_count": 16,
     "metadata": {},
     "output_type": "execute_result"
    }
   ],
   "source": [
    "reg = LinearRegression()\n",
    "reg.fit(features_train,target_train) \n",
    "prediction_valid = reg.predict(features_valid)\n",
    "valid_dict['LineraRegression'] = [mean_squared_error(target_valid,prediction_valid)**0.5]\n",
    "valid_dict"
   ]
  },
  {
   "cell_type": "markdown",
   "metadata": {},
   "source": [
    "### CatBoost"
   ]
  },
  {
   "cell_type": "markdown",
   "metadata": {},
   "source": [
    "В CatBoost будем использовать gridsearch, поэтому уберем валидационную выборку и разобъем данные поновому."
   ]
  },
  {
   "cell_type": "code",
   "execution_count": 17,
   "metadata": {},
   "outputs": [],
   "source": [
    "train, test = train_test_split(data,shuffle=False, test_size=0.1)\n",
    "target_train = train['num_orders']\n",
    "features_train = train.drop(columns=['num_orders'])\n",
    "target_test = test['num_orders']\n",
    "features_test = test.drop(columns=['num_orders'])"
   ]
  },
  {
   "cell_type": "code",
   "execution_count": 18,
   "metadata": {},
   "outputs": [],
   "source": [
    "train_pool = Pool(features_train, target_train)\n",
    "test_pool = Pool(features_test) "
   ]
  },
  {
   "cell_type": "code",
   "execution_count": 19,
   "metadata": {},
   "outputs": [],
   "source": [
    "model = CatBoostRegressor(logging_level='Silent',loss_function='RMSE')"
   ]
  },
  {
   "cell_type": "code",
   "execution_count": 20,
   "metadata": {},
   "outputs": [],
   "source": [
    "grid = {'learning_rate': [ 0.03, 0.1],\n",
    "        'depth': [4, 6, 10],\n",
    "        'iterations':[30, 70, 100],\n",
    "\n",
    "        }"
   ]
  },
  {
   "cell_type": "markdown",
   "metadata": {},
   "source": [
    "Чтобы не производить кроссвалидацию зададим индексы явно."
   ]
  },
  {
   "cell_type": "code",
   "execution_count": 21,
   "metadata": {},
   "outputs": [],
   "source": [
    "train_indices = np.arange(len(features_train)*0.81,dtype='int32')\n",
    "validation_indices = np.arange(len(features_train)*0.81+1,len(features_train),dtype='int32')\n",
    "cv = [(train_indices, validation_indices)]"
   ]
  },
  {
   "cell_type": "code",
   "execution_count": 22,
   "metadata": {},
   "outputs": [
    {
     "data": {
      "application/vnd.jupyter.widget-view+json": {
       "model_id": "2e3216832ea14f8c91e9db3074a554e5",
       "version_major": 2,
       "version_minor": 0
      },
      "text/plain": [
       "MetricVisualizer(layout=Layout(align_self='stretch', height='500px'))"
      ]
     },
     "metadata": {},
     "output_type": "display_data"
    }
   ],
   "source": [
    "grid_search_result = model.grid_search(grid,\n",
    "            train_pool,\n",
    "            cv=cv,\n",
    "            shuffle=False,\n",
    "            verbose=False,\n",
    "            plot=True\n",
    "            )"
   ]
  },
  {
   "cell_type": "code",
   "execution_count": 23,
   "metadata": {
    "scrolled": false
   },
   "outputs": [
    {
     "data": {
      "text/plain": [
       "[33.551242501068934]"
      ]
     },
     "execution_count": 23,
     "metadata": {},
     "output_type": "execute_result"
    }
   ],
   "source": [
    "valid_dict['CatBoost'] = [min(grid_search_result['cv_results']['test-RMSE-mean'])]\n",
    "valid_dict['CatBoost']"
   ]
  },
  {
   "cell_type": "code",
   "execution_count": 24,
   "metadata": {},
   "outputs": [
    {
     "data": {
      "text/plain": [
       "{'depth': 4, 'iterations': 100, 'learning_rate': 0.1}"
      ]
     },
     "execution_count": 24,
     "metadata": {},
     "output_type": "execute_result"
    }
   ],
   "source": [
    "grid_search_result['params']"
   ]
  },
  {
   "cell_type": "markdown",
   "metadata": {},
   "source": [
    "### Случайный лес"
   ]
  },
  {
   "cell_type": "code",
   "execution_count": 25,
   "metadata": {},
   "outputs": [
    {
     "data": {
      "text/plain": [
       "[33.059271176713274]"
      ]
     },
     "execution_count": 25,
     "metadata": {},
     "output_type": "execute_result"
    }
   ],
   "source": [
    "parameters = {'n_estimators':[30,50,70,100], 'max_depth':[3,4,7, 10]}\n",
    "model = RandomForestRegressor(random_state=12345)\n",
    "grid_serch_result = GridSearchCV(model, parameters,cv=cv,scoring='neg_root_mean_squared_error')\n",
    "grid_serch_result.fit(features_train, target_train)\n",
    "valid_dict['RandomForest'] = [-grid_serch_result.best_score_]\n",
    "valid_dict['RandomForest']"
   ]
  },
  {
   "cell_type": "code",
   "execution_count": 26,
   "metadata": {},
   "outputs": [
    {
     "data": {
      "text/plain": [
       "{'max_depth': 10, 'n_estimators': 100}"
      ]
     },
     "execution_count": 26,
     "metadata": {},
     "output_type": "execute_result"
    }
   ],
   "source": [
    "grid_serch_result.best_params_"
   ]
  },
  {
   "cell_type": "markdown",
   "metadata": {},
   "source": [
    "## Тестирование"
   ]
  },
  {
   "cell_type": "code",
   "execution_count": 27,
   "metadata": {
    "scrolled": true
   },
   "outputs": [
    {
     "data": {
      "text/html": [
       "<div>\n",
       "<style scoped>\n",
       "    .dataframe tbody tr th:only-of-type {\n",
       "        vertical-align: middle;\n",
       "    }\n",
       "\n",
       "    .dataframe tbody tr th {\n",
       "        vertical-align: top;\n",
       "    }\n",
       "\n",
       "    .dataframe thead th {\n",
       "        text-align: right;\n",
       "    }\n",
       "</style>\n",
       "<table border=\"1\" class=\"dataframe\">\n",
       "  <thead>\n",
       "    <tr style=\"text-align: right;\">\n",
       "      <th></th>\n",
       "      <th>RMSE</th>\n",
       "    </tr>\n",
       "  </thead>\n",
       "  <tbody>\n",
       "    <tr>\n",
       "      <th>RandomForest</th>\n",
       "      <td>33.06</td>\n",
       "    </tr>\n",
       "    <tr>\n",
       "      <th>CatBoost</th>\n",
       "      <td>33.55</td>\n",
       "    </tr>\n",
       "    <tr>\n",
       "      <th>LineraRegression</th>\n",
       "      <td>34.38</td>\n",
       "    </tr>\n",
       "  </tbody>\n",
       "</table>\n",
       "</div>"
      ],
      "text/plain": [
       "                   RMSE\n",
       "RandomForest      33.06\n",
       "CatBoost          33.55\n",
       "LineraRegression  34.38"
      ]
     },
     "execution_count": 27,
     "metadata": {},
     "output_type": "execute_result"
    }
   ],
   "source": [
    "pd.DataFrame.from_dict(valid_dict,orient='index',columns=['RMSE']).round(decimals=2).sort_values(by='RMSE')"
   ]
  },
  {
   "cell_type": "markdown",
   "metadata": {},
   "source": [
    "Наилучший результат на валидационной выборке показал RandomForest, посмотрим, что он покажет на тестовой выборке."
   ]
  },
  {
   "cell_type": "code",
   "execution_count": 28,
   "metadata": {},
   "outputs": [
    {
     "data": {
      "text/plain": [
       "44.4326714630762"
      ]
     },
     "execution_count": 28,
     "metadata": {},
     "output_type": "execute_result"
    }
   ],
   "source": [
    "model = RandomForestRegressor(random_state=12345,n_estimators=100,max_depth=10)\n",
    "model.fit(features_train,target_train)\n",
    "prediction_test = model.predict(features_test)\n",
    "mean_squared_error(target_test,prediction_test)**0.5"
   ]
  },
  {
   "cell_type": "markdown",
   "metadata": {},
   "source": [
    "Результат меньше, чем 48, берем эту модель."
   ]
  },
  {
   "cell_type": "markdown",
   "metadata": {},
   "source": [
    "Проверим нашу модель на адекватность. Посчитаем среднее значение последних 10 % значений из обучающей выборки."
   ]
  },
  {
   "cell_type": "code",
   "execution_count": 29,
   "metadata": {},
   "outputs": [
    {
     "data": {
      "text/plain": [
       "65.70376774514975"
      ]
     },
     "execution_count": 29,
     "metadata": {},
     "output_type": "execute_result"
    }
   ],
   "source": [
    "prediction_mean = [target_train.iloc[int(len(features_train)*0.9):].mean()]*len(target_test)\n",
    "mean_squared_error(target_test,prediction_mean)**0.5"
   ]
  },
  {
   "cell_type": "markdown",
   "metadata": {},
   "source": [
    "Наша модель лучше."
   ]
  },
  {
   "cell_type": "markdown",
   "metadata": {},
   "source": [
    "Попробуем взять последнее значение."
   ]
  },
  {
   "cell_type": "code",
   "execution_count": 30,
   "metadata": {},
   "outputs": [
    {
     "data": {
      "text/plain": [
       "68.50894102232205"
      ]
     },
     "execution_count": 30,
     "metadata": {},
     "output_type": "execute_result"
    }
   ],
   "source": [
    "prediction_mean = [target_train.iloc[-1]]*len(target_test)\n",
    "mean_squared_error(target_test,prediction_mean)**0.5"
   ]
  },
  {
   "cell_type": "markdown",
   "metadata": {},
   "source": [
    "И тут наша модель лучше."
   ]
  },
  {
   "cell_type": "markdown",
   "metadata": {},
   "source": [
    "Ради интереса посчитаем, как покажут себя остальные модели на тестовой выборке."
   ]
  },
  {
   "cell_type": "code",
   "execution_count": 31,
   "metadata": {},
   "outputs": [
    {
     "data": {
      "text/plain": [
       "45.22409490531756"
      ]
     },
     "execution_count": 31,
     "metadata": {},
     "output_type": "execute_result"
    }
   ],
   "source": [
    "model = LinearRegression()\n",
    "model.fit(features_train,target_train) \n",
    "prediction_test = model.predict(features_test)\n",
    "mean_squared_error(target_test,prediction_test)**0.5"
   ]
  },
  {
   "cell_type": "markdown",
   "metadata": {},
   "source": [
    "Линейная регрессия вообще тест не прошла."
   ]
  },
  {
   "cell_type": "code",
   "execution_count": 32,
   "metadata": {},
   "outputs": [
    {
     "data": {
      "text/plain": [
       "48.75479503040083"
      ]
     },
     "execution_count": 32,
     "metadata": {},
     "output_type": "execute_result"
    }
   ],
   "source": [
    "model = CatBoostRegressor(iterations=100, \n",
    "                          depth=4, \n",
    "                          learning_rate=0.1, \n",
    "                          loss_function='RMSE',\n",
    "                          logging_level='Silent')\n",
    "\n",
    "model.fit(train_pool)\n",
    "prediction_test = model.predict(test_pool)\n",
    "mean_squared_error(target_test,prediction_test)**0.5"
   ]
  },
  {
   "cell_type": "markdown",
   "metadata": {},
   "source": [
    "И CatBoost не прошел."
   ]
  },
  {
   "cell_type": "markdown",
   "metadata": {},
   "source": [
    "### Вывод\n",
    " - Наилучшую предсказательную способность показал Случайный Лес. Эта модель единственная показала необходимый результат на тестовой выборке. Кроме того она показала предсказательную способность лучше, чем прогноз средним или последним значением. Значит именно эту модель мы и порекомендуем заказчику."
   ]
  }
 ],
 "metadata": {
  "ExecuteTimeLog": [
   {
    "duration": 44,
    "start_time": "2022-10-03T11:42:01.373Z"
   },
   {
    "duration": 418,
    "start_time": "2022-10-03T11:42:11.236Z"
   },
   {
    "duration": 146,
    "start_time": "2022-10-03T11:42:12.666Z"
   },
   {
    "duration": 94,
    "start_time": "2022-10-03T11:44:24.428Z"
   },
   {
    "duration": 3,
    "start_time": "2022-10-03T11:47:19.502Z"
   },
   {
    "duration": 8,
    "start_time": "2022-10-03T11:48:43.389Z"
   },
   {
    "duration": 27,
    "start_time": "2022-10-03T11:48:50.389Z"
   },
   {
    "duration": 10,
    "start_time": "2022-10-03T11:49:06.868Z"
   },
   {
    "duration": 8,
    "start_time": "2022-10-03T11:49:41.117Z"
   },
   {
    "duration": 57,
    "start_time": "2022-10-03T11:50:32.366Z"
   },
   {
    "duration": 4,
    "start_time": "2022-10-03T11:50:36.076Z"
   },
   {
    "duration": 17,
    "start_time": "2022-10-03T11:50:38.684Z"
   },
   {
    "duration": 6,
    "start_time": "2022-10-03T11:50:46.476Z"
   },
   {
    "duration": 8,
    "start_time": "2022-10-03T11:50:57.004Z"
   },
   {
    "duration": 401,
    "start_time": "2022-10-03T11:51:43.673Z"
   },
   {
    "duration": 69,
    "start_time": "2022-10-03T11:51:44.076Z"
   },
   {
    "duration": 4,
    "start_time": "2022-10-03T11:51:44.147Z"
   },
   {
    "duration": 29,
    "start_time": "2022-10-03T11:51:44.153Z"
   },
   {
    "duration": 62,
    "start_time": "2022-10-03T11:52:41.868Z"
   },
   {
    "duration": 8,
    "start_time": "2022-10-03T11:53:39.317Z"
   },
   {
    "duration": 8,
    "start_time": "2022-10-03T11:53:58.796Z"
   },
   {
    "duration": 52,
    "start_time": "2022-10-03T11:54:10.068Z"
   },
   {
    "duration": 5,
    "start_time": "2022-10-03T11:54:11.540Z"
   },
   {
    "duration": 6,
    "start_time": "2022-10-03T11:54:13.147Z"
   },
   {
    "duration": 14,
    "start_time": "2022-10-03T11:54:16.916Z"
   },
   {
    "duration": 14,
    "start_time": "2022-10-03T11:54:25.316Z"
   },
   {
    "duration": 10,
    "start_time": "2022-10-03T11:55:49.171Z"
   },
   {
    "duration": 10,
    "start_time": "2022-10-03T11:56:14.747Z"
   },
   {
    "duration": 341,
    "start_time": "2022-10-03T11:56:22.044Z"
   },
   {
    "duration": 67,
    "start_time": "2022-10-03T11:56:22.387Z"
   },
   {
    "duration": 11,
    "start_time": "2022-10-03T11:56:22.455Z"
   },
   {
    "duration": 6,
    "start_time": "2022-10-03T11:56:22.467Z"
   },
   {
    "duration": 15,
    "start_time": "2022-10-03T11:56:22.475Z"
   },
   {
    "duration": 16,
    "start_time": "2022-10-03T11:56:22.492Z"
   },
   {
    "duration": 9,
    "start_time": "2022-10-03T11:56:22.510Z"
   },
   {
    "duration": 361,
    "start_time": "2022-10-03T11:57:17.718Z"
   },
   {
    "duration": 168,
    "start_time": "2022-10-03T11:57:18.081Z"
   },
   {
    "duration": 9,
    "start_time": "2022-10-03T11:57:18.251Z"
   },
   {
    "duration": 3,
    "start_time": "2022-10-03T11:57:18.261Z"
   },
   {
    "duration": 17,
    "start_time": "2022-10-03T11:57:18.266Z"
   },
   {
    "duration": 22,
    "start_time": "2022-10-03T11:57:18.285Z"
   },
   {
    "duration": 9,
    "start_time": "2022-10-03T11:57:18.308Z"
   },
   {
    "duration": 603,
    "start_time": "2022-10-03T11:59:53.420Z"
   },
   {
    "duration": 540,
    "start_time": "2022-10-03T12:00:41.435Z"
   },
   {
    "duration": 102,
    "start_time": "2022-10-03T12:02:42.851Z"
   },
   {
    "duration": 15,
    "start_time": "2022-10-03T12:03:03.164Z"
   },
   {
    "duration": 228,
    "start_time": "2022-10-03T12:03:23.813Z"
   },
   {
    "duration": 209,
    "start_time": "2022-10-03T12:03:58.418Z"
   },
   {
    "duration": 204,
    "start_time": "2022-10-03T12:04:10.908Z"
   },
   {
    "duration": 297,
    "start_time": "2022-10-03T12:04:16.627Z"
   },
   {
    "duration": 200,
    "start_time": "2022-10-03T12:05:26.083Z"
   },
   {
    "duration": 65,
    "start_time": "2022-10-03T12:06:02.020Z"
   },
   {
    "duration": 4,
    "start_time": "2022-10-03T12:06:06.740Z"
   },
   {
    "duration": 70,
    "start_time": "2022-10-03T12:07:35.966Z"
   },
   {
    "duration": 213,
    "start_time": "2022-10-03T12:07:40.180Z"
   },
   {
    "duration": 210,
    "start_time": "2022-10-03T12:07:51.100Z"
   },
   {
    "duration": 315,
    "start_time": "2022-10-03T12:08:08.276Z"
   },
   {
    "duration": 242,
    "start_time": "2022-10-03T12:08:19.067Z"
   },
   {
    "duration": 239,
    "start_time": "2022-10-03T12:08:26.873Z"
   },
   {
    "duration": 285,
    "start_time": "2022-10-03T12:08:33.748Z"
   },
   {
    "duration": 1919,
    "start_time": "2022-10-03T12:10:52.188Z"
   },
   {
    "duration": 413,
    "start_time": "2022-10-03T12:11:15.901Z"
   },
   {
    "duration": 1292,
    "start_time": "2022-10-03T12:11:28.555Z"
   },
   {
    "duration": 237,
    "start_time": "2022-10-03T12:12:13.420Z"
   },
   {
    "duration": 216,
    "start_time": "2022-10-03T12:12:33.196Z"
   },
   {
    "duration": 197,
    "start_time": "2022-10-03T12:40:39.885Z"
   },
   {
    "duration": 327,
    "start_time": "2022-10-03T12:41:00.852Z"
   },
   {
    "duration": 229,
    "start_time": "2022-10-03T12:41:49.437Z"
   },
   {
    "duration": 214,
    "start_time": "2022-10-03T12:41:54.958Z"
   },
   {
    "duration": 233,
    "start_time": "2022-10-03T12:41:59.932Z"
   },
   {
    "duration": 201,
    "start_time": "2022-10-03T12:42:03.381Z"
   },
   {
    "duration": 1010,
    "start_time": "2022-10-03T12:42:41.144Z"
   },
   {
    "duration": 185,
    "start_time": "2022-10-03T12:42:42.156Z"
   },
   {
    "duration": 10,
    "start_time": "2022-10-03T12:42:42.343Z"
   },
   {
    "duration": 9,
    "start_time": "2022-10-03T12:42:42.355Z"
   },
   {
    "duration": 11,
    "start_time": "2022-10-03T12:42:42.366Z"
   },
   {
    "duration": 23,
    "start_time": "2022-10-03T12:42:42.379Z"
   },
   {
    "duration": 11,
    "start_time": "2022-10-03T12:42:42.404Z"
   },
   {
    "duration": 252,
    "start_time": "2022-10-03T12:42:42.417Z"
   },
   {
    "duration": 272,
    "start_time": "2022-10-03T12:42:42.671Z"
   },
   {
    "duration": 210,
    "start_time": "2022-10-03T12:42:42.946Z"
   },
   {
    "duration": 212,
    "start_time": "2022-10-03T12:42:43.158Z"
   },
   {
    "duration": 215,
    "start_time": "2022-10-03T12:43:50.990Z"
   },
   {
    "duration": 289,
    "start_time": "2022-10-03T12:43:52.213Z"
   },
   {
    "duration": 354,
    "start_time": "2022-10-03T12:44:42.997Z"
   },
   {
    "duration": 276,
    "start_time": "2022-10-03T12:44:52.405Z"
   },
   {
    "duration": 261,
    "start_time": "2022-10-03T12:45:09.158Z"
   },
   {
    "duration": 258,
    "start_time": "2022-10-03T12:45:27.190Z"
   },
   {
    "duration": 278,
    "start_time": "2022-10-03T12:45:39.366Z"
   },
   {
    "duration": 314,
    "start_time": "2022-10-03T12:46:00.432Z"
   },
   {
    "duration": 239,
    "start_time": "2022-10-03T12:46:30.142Z"
   },
   {
    "duration": 236,
    "start_time": "2022-10-03T12:47:48.446Z"
   },
   {
    "duration": 201,
    "start_time": "2022-10-03T12:48:30.654Z"
   },
   {
    "duration": 196,
    "start_time": "2022-10-03T12:48:50.240Z"
   },
   {
    "duration": 208,
    "start_time": "2022-10-03T12:49:11.774Z"
   },
   {
    "duration": 311,
    "start_time": "2022-10-03T12:49:55.391Z"
   },
   {
    "duration": 188,
    "start_time": "2022-10-03T12:50:10.550Z"
   },
   {
    "duration": 228,
    "start_time": "2022-10-03T12:50:18.127Z"
   },
   {
    "duration": 48,
    "start_time": "2022-10-03T12:53:29.944Z"
   },
   {
    "duration": 10,
    "start_time": "2022-10-03T13:26:32.380Z"
   },
   {
    "duration": 3,
    "start_time": "2022-10-03T13:34:55.292Z"
   },
   {
    "duration": 10,
    "start_time": "2022-10-03T13:37:16.432Z"
   },
   {
    "duration": 10,
    "start_time": "2022-10-03T13:38:46.787Z"
   },
   {
    "duration": 6,
    "start_time": "2022-10-03T13:38:59.211Z"
   },
   {
    "duration": 11,
    "start_time": "2022-10-03T13:39:57.284Z"
   },
   {
    "duration": 265,
    "start_time": "2022-10-03T13:43:27.955Z"
   },
   {
    "duration": 272,
    "start_time": "2022-10-03T13:44:10.435Z"
   },
   {
    "duration": 323,
    "start_time": "2022-10-03T13:44:41.075Z"
   },
   {
    "duration": 408,
    "start_time": "2022-10-03T13:45:16.066Z"
   },
   {
    "duration": 310,
    "start_time": "2022-10-03T13:49:22.260Z"
   },
   {
    "duration": 370,
    "start_time": "2022-10-03T13:49:57.091Z"
   },
   {
    "duration": 351,
    "start_time": "2022-10-03T13:50:17.659Z"
   },
   {
    "duration": 458,
    "start_time": "2022-10-03T13:50:35.675Z"
   },
   {
    "duration": 13,
    "start_time": "2022-10-03T14:19:56.667Z"
   },
   {
    "duration": 14,
    "start_time": "2022-10-03T14:20:20.164Z"
   },
   {
    "duration": 286,
    "start_time": "2022-10-03T14:35:25.962Z"
   },
   {
    "duration": 6,
    "start_time": "2022-10-03T14:41:53.217Z"
   },
   {
    "duration": 8,
    "start_time": "2022-10-03T14:48:55.937Z"
   },
   {
    "duration": 14,
    "start_time": "2022-10-03T14:50:41.194Z"
   },
   {
    "duration": 1345,
    "start_time": "2022-10-03T14:50:47.965Z"
   },
   {
    "duration": 207,
    "start_time": "2022-10-03T14:50:49.312Z"
   },
   {
    "duration": 9,
    "start_time": "2022-10-03T14:50:49.521Z"
   },
   {
    "duration": 3,
    "start_time": "2022-10-03T14:50:49.532Z"
   },
   {
    "duration": 5,
    "start_time": "2022-10-03T14:50:49.538Z"
   },
   {
    "duration": 12,
    "start_time": "2022-10-03T14:50:49.544Z"
   },
   {
    "duration": 8,
    "start_time": "2022-10-03T14:50:49.558Z"
   },
   {
    "duration": 375,
    "start_time": "2022-10-03T14:50:49.568Z"
   },
   {
    "duration": 214,
    "start_time": "2022-10-03T14:50:49.945Z"
   },
   {
    "duration": 279,
    "start_time": "2022-10-03T14:50:50.161Z"
   },
   {
    "duration": 239,
    "start_time": "2022-10-03T14:50:50.442Z"
   },
   {
    "duration": 249,
    "start_time": "2022-10-03T14:50:50.683Z"
   },
   {
    "duration": 14,
    "start_time": "2022-10-03T14:50:50.934Z"
   },
   {
    "duration": 7,
    "start_time": "2022-10-03T14:50:50.950Z"
   },
   {
    "duration": 4,
    "start_time": "2022-10-03T14:55:49.437Z"
   },
   {
    "duration": 53,
    "start_time": "2022-10-03T17:08:56.300Z"
   },
   {
    "duration": 4,
    "start_time": "2022-10-03T17:09:05.970Z"
   },
   {
    "duration": 1623,
    "start_time": "2022-10-03T17:09:11.708Z"
   },
   {
    "duration": 159,
    "start_time": "2022-10-03T17:09:13.333Z"
   },
   {
    "duration": 11,
    "start_time": "2022-10-03T17:09:13.494Z"
   },
   {
    "duration": 4,
    "start_time": "2022-10-03T17:09:13.508Z"
   },
   {
    "duration": 14,
    "start_time": "2022-10-03T17:09:13.514Z"
   },
   {
    "duration": 17,
    "start_time": "2022-10-03T17:09:13.531Z"
   },
   {
    "duration": 9,
    "start_time": "2022-10-03T17:09:13.550Z"
   },
   {
    "duration": 412,
    "start_time": "2022-10-03T17:09:13.561Z"
   },
   {
    "duration": 314,
    "start_time": "2022-10-03T17:09:13.974Z"
   },
   {
    "duration": 236,
    "start_time": "2022-10-03T17:09:14.290Z"
   },
   {
    "duration": 267,
    "start_time": "2022-10-03T17:09:14.527Z"
   },
   {
    "duration": 257,
    "start_time": "2022-10-03T17:09:14.796Z"
   },
   {
    "duration": 15,
    "start_time": "2022-10-03T17:09:15.055Z"
   },
   {
    "duration": 9,
    "start_time": "2022-10-03T17:09:15.072Z"
   },
   {
    "duration": 26,
    "start_time": "2022-10-03T17:09:15.083Z"
   },
   {
    "duration": 1642,
    "start_time": "2022-10-03T17:09:15.111Z"
   },
   {
    "duration": 3,
    "start_time": "2022-10-03T17:09:37.797Z"
   },
   {
    "duration": 1145,
    "start_time": "2022-10-03T17:09:38.988Z"
   },
   {
    "duration": 4,
    "start_time": "2022-10-03T17:10:20.568Z"
   },
   {
    "duration": 12,
    "start_time": "2022-10-03T17:10:31.464Z"
   },
   {
    "duration": 12,
    "start_time": "2022-10-03T17:10:49.523Z"
   },
   {
    "duration": 14,
    "start_time": "2022-10-03T17:11:54.898Z"
   },
   {
    "duration": 14,
    "start_time": "2022-10-03T17:12:22.354Z"
   },
   {
    "duration": 14,
    "start_time": "2022-10-03T17:12:28.736Z"
   },
   {
    "duration": 18,
    "start_time": "2022-10-03T17:13:24.530Z"
   },
   {
    "duration": 3,
    "start_time": "2022-10-03T17:16:15.595Z"
   },
   {
    "duration": 10,
    "start_time": "2022-10-03T17:16:46.932Z"
   },
   {
    "duration": 1838,
    "start_time": "2022-10-03T17:16:53.171Z"
   },
   {
    "duration": 83,
    "start_time": "2022-10-03T17:16:55.011Z"
   },
   {
    "duration": 10,
    "start_time": "2022-10-03T17:16:55.096Z"
   },
   {
    "duration": 10,
    "start_time": "2022-10-03T17:16:55.109Z"
   },
   {
    "duration": 11,
    "start_time": "2022-10-03T17:16:55.120Z"
   },
   {
    "duration": 22,
    "start_time": "2022-10-03T17:16:55.133Z"
   },
   {
    "duration": 12,
    "start_time": "2022-10-03T17:16:55.157Z"
   },
   {
    "duration": 423,
    "start_time": "2022-10-03T17:16:55.170Z"
   },
   {
    "duration": 242,
    "start_time": "2022-10-03T17:16:55.594Z"
   },
   {
    "duration": 272,
    "start_time": "2022-10-03T17:16:55.839Z"
   },
   {
    "duration": 255,
    "start_time": "2022-10-03T17:16:56.113Z"
   },
   {
    "duration": 252,
    "start_time": "2022-10-03T17:16:56.370Z"
   },
   {
    "duration": 12,
    "start_time": "2022-10-03T17:16:56.623Z"
   },
   {
    "duration": 8,
    "start_time": "2022-10-03T17:16:56.637Z"
   },
   {
    "duration": 10,
    "start_time": "2022-10-03T17:16:56.646Z"
   },
   {
    "duration": 15,
    "start_time": "2022-10-03T17:16:56.657Z"
   },
   {
    "duration": 12,
    "start_time": "2022-10-03T17:17:38.231Z"
   },
   {
    "duration": 11,
    "start_time": "2022-10-03T17:17:55.702Z"
   },
   {
    "duration": 137,
    "start_time": "2022-10-03T17:19:57.522Z"
   },
   {
    "duration": 4,
    "start_time": "2022-10-03T17:23:48.381Z"
   },
   {
    "duration": 141,
    "start_time": "2022-10-03T17:26:47.272Z"
   },
   {
    "duration": 22,
    "start_time": "2022-10-03T17:26:52.703Z"
   },
   {
    "duration": 18,
    "start_time": "2022-10-03T17:27:00.709Z"
   },
   {
    "duration": 16,
    "start_time": "2022-10-03T17:27:13.193Z"
   },
   {
    "duration": 16,
    "start_time": "2022-10-03T17:27:24.105Z"
   },
   {
    "duration": 16,
    "start_time": "2022-10-03T17:27:35.030Z"
   },
   {
    "duration": 12,
    "start_time": "2022-10-03T17:27:43.725Z"
   },
   {
    "duration": 741,
    "start_time": "2022-10-03T17:31:45.686Z"
   },
   {
    "duration": 16,
    "start_time": "2022-10-03T17:32:27.717Z"
   },
   {
    "duration": 12,
    "start_time": "2022-10-03T17:32:37.532Z"
   },
   {
    "duration": 1005,
    "start_time": "2022-10-03T17:33:01.685Z"
   },
   {
    "duration": 350,
    "start_time": "2022-10-03T18:34:15.113Z"
   },
   {
    "duration": 353,
    "start_time": "2022-10-03T18:34:31.798Z"
   },
   {
    "duration": 437,
    "start_time": "2022-10-03T18:42:45.340Z"
   },
   {
    "duration": 374,
    "start_time": "2022-10-03T18:43:17.730Z"
   },
   {
    "duration": 404,
    "start_time": "2022-10-03T18:44:01.621Z"
   },
   {
    "duration": 509,
    "start_time": "2022-10-03T18:44:15.766Z"
   },
   {
    "duration": 406,
    "start_time": "2022-10-03T18:44:56.101Z"
   },
   {
    "duration": 405,
    "start_time": "2022-10-03T18:46:43.704Z"
   },
   {
    "duration": 28,
    "start_time": "2022-10-03T18:52:06.740Z"
   },
   {
    "duration": 28,
    "start_time": "2022-10-03T18:53:09.432Z"
   },
   {
    "duration": 25,
    "start_time": "2022-10-03T18:53:15.923Z"
   },
   {
    "duration": 7,
    "start_time": "2022-10-03T18:54:52.321Z"
   },
   {
    "duration": 12,
    "start_time": "2022-10-03T18:56:22.622Z"
   },
   {
    "duration": 9,
    "start_time": "2022-10-03T18:56:30.591Z"
   },
   {
    "duration": 12,
    "start_time": "2022-10-03T18:57:31.931Z"
   },
   {
    "duration": 14,
    "start_time": "2022-10-03T18:57:44.255Z"
   },
   {
    "duration": 3,
    "start_time": "2022-10-03T18:57:51.039Z"
   },
   {
    "duration": 9,
    "start_time": "2022-10-03T18:57:58.926Z"
   },
   {
    "duration": 12,
    "start_time": "2022-10-03T19:06:55.757Z"
   },
   {
    "duration": 4,
    "start_time": "2022-10-03T19:07:54.350Z"
   },
   {
    "duration": 18,
    "start_time": "2022-10-03T19:08:00.162Z"
   },
   {
    "duration": 6,
    "start_time": "2022-10-03T19:08:06.329Z"
   },
   {
    "duration": 2,
    "start_time": "2022-10-03T19:08:32.945Z"
   },
   {
    "duration": 5,
    "start_time": "2022-10-03T19:22:22.291Z"
   },
   {
    "duration": 4,
    "start_time": "2022-10-03T19:22:26.146Z"
   },
   {
    "duration": 4,
    "start_time": "2022-10-03T19:22:45.074Z"
   },
   {
    "duration": 3,
    "start_time": "2022-10-03T19:27:04.186Z"
   },
   {
    "duration": 4,
    "start_time": "2022-10-03T19:27:05.837Z"
   },
   {
    "duration": 4,
    "start_time": "2022-10-03T19:29:02.661Z"
   },
   {
    "duration": 3,
    "start_time": "2022-10-03T19:29:03.995Z"
   },
   {
    "duration": 3,
    "start_time": "2022-10-03T19:29:05.515Z"
   },
   {
    "duration": 7,
    "start_time": "2022-10-03T19:32:50.753Z"
   },
   {
    "duration": 5,
    "start_time": "2022-10-03T19:32:54.728Z"
   },
   {
    "duration": 3,
    "start_time": "2022-10-03T19:32:56.240Z"
   },
   {
    "duration": 2,
    "start_time": "2022-10-03T19:32:56.747Z"
   },
   {
    "duration": 9,
    "start_time": "2022-10-03T19:41:22.322Z"
   },
   {
    "duration": 14,
    "start_time": "2022-10-03T19:42:18.904Z"
   },
   {
    "duration": 768,
    "start_time": "2022-10-03T19:42:29.865Z"
   },
   {
    "duration": 518,
    "start_time": "2022-10-03T19:43:17.109Z"
   },
   {
    "duration": 8525,
    "start_time": "2022-10-03T19:43:56.674Z"
   },
   {
    "duration": 3,
    "start_time": "2022-10-03T19:47:54.433Z"
   },
   {
    "duration": 4,
    "start_time": "2022-10-03T19:52:16.077Z"
   },
   {
    "duration": 11,
    "start_time": "2022-10-03T19:52:52.543Z"
   },
   {
    "duration": 9,
    "start_time": "2022-10-03T19:53:15.185Z"
   },
   {
    "duration": 4,
    "start_time": "2022-10-03T19:53:27.059Z"
   },
   {
    "duration": 9,
    "start_time": "2022-10-03T19:54:33.074Z"
   },
   {
    "duration": 3,
    "start_time": "2022-10-03T19:54:41.730Z"
   },
   {
    "duration": 6,
    "start_time": "2022-10-03T19:54:47.789Z"
   },
   {
    "duration": 9,
    "start_time": "2022-10-03T19:54:54.330Z"
   },
   {
    "duration": 5,
    "start_time": "2022-10-03T19:55:03.621Z"
   },
   {
    "duration": 4,
    "start_time": "2022-10-03T19:55:28.255Z"
   },
   {
    "duration": 4,
    "start_time": "2022-10-03T19:55:51.581Z"
   },
   {
    "duration": 4,
    "start_time": "2022-10-03T19:56:01.336Z"
   },
   {
    "duration": 5,
    "start_time": "2022-10-03T19:57:12.822Z"
   },
   {
    "duration": 4,
    "start_time": "2022-10-03T19:57:53.974Z"
   },
   {
    "duration": 6,
    "start_time": "2022-10-03T19:58:40.959Z"
   },
   {
    "duration": 3,
    "start_time": "2022-10-03T19:59:06.499Z"
   },
   {
    "duration": 11,
    "start_time": "2022-10-03T19:59:36.321Z"
   },
   {
    "duration": 5,
    "start_time": "2022-10-03T19:59:40.100Z"
   },
   {
    "duration": 10,
    "start_time": "2022-10-03T19:59:54.125Z"
   },
   {
    "duration": 3,
    "start_time": "2022-10-03T20:00:12.259Z"
   },
   {
    "duration": 9148,
    "start_time": "2022-10-03T20:00:28.055Z"
   },
   {
    "duration": 4,
    "start_time": "2022-10-03T20:01:05.928Z"
   },
   {
    "duration": 1463,
    "start_time": "2022-10-03T20:02:30.702Z"
   },
   {
    "duration": 133,
    "start_time": "2022-10-03T20:02:32.167Z"
   },
   {
    "duration": 10,
    "start_time": "2022-10-03T20:02:32.301Z"
   },
   {
    "duration": 12,
    "start_time": "2022-10-03T20:02:32.313Z"
   },
   {
    "duration": 12,
    "start_time": "2022-10-03T20:02:32.327Z"
   },
   {
    "duration": 15,
    "start_time": "2022-10-03T20:02:32.341Z"
   },
   {
    "duration": 9,
    "start_time": "2022-10-03T20:02:32.357Z"
   },
   {
    "duration": 502,
    "start_time": "2022-10-03T20:02:32.367Z"
   },
   {
    "duration": 319,
    "start_time": "2022-10-03T20:02:32.871Z"
   },
   {
    "duration": 240,
    "start_time": "2022-10-03T20:02:33.193Z"
   },
   {
    "duration": 266,
    "start_time": "2022-10-03T20:02:33.434Z"
   },
   {
    "duration": 267,
    "start_time": "2022-10-03T20:02:33.701Z"
   },
   {
    "duration": 25,
    "start_time": "2022-10-03T20:02:33.969Z"
   },
   {
    "duration": 19,
    "start_time": "2022-10-03T20:02:33.996Z"
   },
   {
    "duration": 12,
    "start_time": "2022-10-03T20:02:34.017Z"
   },
   {
    "duration": 18,
    "start_time": "2022-10-03T20:02:34.030Z"
   },
   {
    "duration": 22,
    "start_time": "2022-10-03T20:02:34.210Z"
   },
   {
    "duration": 12,
    "start_time": "2022-10-03T20:02:34.234Z"
   },
   {
    "duration": 8,
    "start_time": "2022-10-03T20:02:34.247Z"
   },
   {
    "duration": 8,
    "start_time": "2022-10-03T20:02:34.256Z"
   },
   {
    "duration": 9,
    "start_time": "2022-10-03T20:02:34.265Z"
   },
   {
    "duration": 38367,
    "start_time": "2022-10-03T20:02:34.276Z"
   },
   {
    "duration": 4,
    "start_time": "2022-10-03T20:03:12.645Z"
   },
   {
    "duration": 11,
    "start_time": "2022-10-03T20:04:58.007Z"
   },
   {
    "duration": 1375,
    "start_time": "2022-10-03T20:12:56.998Z"
   },
   {
    "duration": 68,
    "start_time": "2022-10-03T20:12:58.375Z"
   },
   {
    "duration": 10,
    "start_time": "2022-10-03T20:12:58.444Z"
   },
   {
    "duration": 10,
    "start_time": "2022-10-03T20:12:58.455Z"
   },
   {
    "duration": 9,
    "start_time": "2022-10-03T20:12:58.466Z"
   },
   {
    "duration": 43,
    "start_time": "2022-10-03T20:12:58.477Z"
   },
   {
    "duration": 33,
    "start_time": "2022-10-03T20:12:58.521Z"
   },
   {
    "duration": 441,
    "start_time": "2022-10-03T20:12:58.556Z"
   },
   {
    "duration": 298,
    "start_time": "2022-10-03T20:12:58.998Z"
   },
   {
    "duration": 229,
    "start_time": "2022-10-03T20:12:59.298Z"
   },
   {
    "duration": 257,
    "start_time": "2022-10-03T20:12:59.529Z"
   },
   {
    "duration": 264,
    "start_time": "2022-10-03T20:12:59.787Z"
   },
   {
    "duration": 26,
    "start_time": "2022-10-03T20:13:00.054Z"
   },
   {
    "duration": 7,
    "start_time": "2022-10-03T20:13:00.082Z"
   },
   {
    "duration": 18,
    "start_time": "2022-10-03T20:13:00.091Z"
   },
   {
    "duration": 32,
    "start_time": "2022-10-03T20:13:00.110Z"
   },
   {
    "duration": 179,
    "start_time": "2022-10-03T20:13:00.143Z"
   },
   {
    "duration": 27,
    "start_time": "2022-10-03T20:13:00.323Z"
   },
   {
    "duration": 24,
    "start_time": "2022-10-03T20:13:00.352Z"
   },
   {
    "duration": 33,
    "start_time": "2022-10-03T20:13:00.378Z"
   },
   {
    "duration": 30,
    "start_time": "2022-10-03T20:13:00.413Z"
   },
   {
    "duration": 37986,
    "start_time": "2022-10-03T20:13:00.444Z"
   },
   {
    "duration": 4,
    "start_time": "2022-10-03T20:13:38.432Z"
   },
   {
    "duration": 14,
    "start_time": "2022-10-03T20:13:38.438Z"
   },
   {
    "duration": 153,
    "start_time": "2022-10-03T20:14:22.558Z"
   },
   {
    "duration": 3,
    "start_time": "2022-10-03T20:14:32.971Z"
   },
   {
    "duration": 10,
    "start_time": "2022-10-03T20:14:33.640Z"
   },
   {
    "duration": 3,
    "start_time": "2022-10-03T20:14:47.823Z"
   },
   {
    "duration": 3,
    "start_time": "2022-10-03T20:14:48.543Z"
   },
   {
    "duration": 4,
    "start_time": "2022-10-03T20:14:49.588Z"
   },
   {
    "duration": 36286,
    "start_time": "2022-10-03T20:14:52.412Z"
   },
   {
    "duration": 3,
    "start_time": "2022-10-03T20:16:12.049Z"
   },
   {
    "duration": 3,
    "start_time": "2022-10-03T20:16:12.737Z"
   },
   {
    "duration": 4,
    "start_time": "2022-10-03T20:16:13.487Z"
   },
   {
    "duration": 36493,
    "start_time": "2022-10-03T20:16:14.188Z"
   },
   {
    "duration": 4,
    "start_time": "2022-10-03T20:17:22.433Z"
   },
   {
    "duration": 9,
    "start_time": "2022-10-03T20:17:28.078Z"
   },
   {
    "duration": 9,
    "start_time": "2022-10-03T20:17:30.402Z"
   },
   {
    "duration": 8,
    "start_time": "2022-10-03T20:19:22.168Z"
   },
   {
    "duration": 3,
    "start_time": "2022-10-03T20:19:27.942Z"
   },
   {
    "duration": 3,
    "start_time": "2022-10-03T20:21:29.846Z"
   },
   {
    "duration": 3,
    "start_time": "2022-10-03T20:21:30.476Z"
   },
   {
    "duration": 4,
    "start_time": "2022-10-03T20:21:31.743Z"
   },
   {
    "duration": 7942,
    "start_time": "2022-10-03T20:21:32.483Z"
   },
   {
    "duration": 4,
    "start_time": "2022-10-03T20:21:53.971Z"
   },
   {
    "duration": 3,
    "start_time": "2022-10-03T20:24:22.745Z"
   },
   {
    "duration": 3,
    "start_time": "2022-10-03T20:24:23.372Z"
   },
   {
    "duration": 3,
    "start_time": "2022-10-03T20:24:23.920Z"
   },
   {
    "duration": 8149,
    "start_time": "2022-10-03T20:24:24.447Z"
   },
   {
    "duration": 7,
    "start_time": "2022-10-03T20:24:39.289Z"
   },
   {
    "duration": 8,
    "start_time": "2022-10-03T20:24:59.233Z"
   },
   {
    "duration": 7,
    "start_time": "2022-10-03T20:25:10.819Z"
   },
   {
    "duration": 8,
    "start_time": "2022-10-03T20:25:19.686Z"
   },
   {
    "duration": 4,
    "start_time": "2022-10-03T20:26:49.133Z"
   },
   {
    "duration": 10,
    "start_time": "2022-10-03T20:26:58.416Z"
   },
   {
    "duration": 4,
    "start_time": "2022-10-03T20:27:13.191Z"
   },
   {
    "duration": 3,
    "start_time": "2022-10-03T20:27:51.119Z"
   },
   {
    "duration": 4,
    "start_time": "2022-10-03T20:28:11.855Z"
   },
   {
    "duration": 4,
    "start_time": "2022-10-03T20:28:53.740Z"
   },
   {
    "duration": 11,
    "start_time": "2022-10-03T20:31:31.720Z"
   },
   {
    "duration": 3,
    "start_time": "2022-10-03T20:31:36.538Z"
   },
   {
    "duration": 3,
    "start_time": "2022-10-03T20:31:37.074Z"
   },
   {
    "duration": 3,
    "start_time": "2022-10-03T20:31:37.559Z"
   },
   {
    "duration": 8834,
    "start_time": "2022-10-03T20:31:38.024Z"
   },
   {
    "duration": 4,
    "start_time": "2022-10-03T20:31:52.409Z"
   },
   {
    "duration": 3,
    "start_time": "2022-10-03T20:31:59.817Z"
   },
   {
    "duration": 4,
    "start_time": "2022-10-03T20:32:18.478Z"
   },
   {
    "duration": 2,
    "start_time": "2022-10-03T20:32:28.133Z"
   },
   {
    "duration": 4,
    "start_time": "2022-10-03T20:32:37.079Z"
   },
   {
    "duration": 1481,
    "start_time": "2022-10-03T20:32:42.325Z"
   },
   {
    "duration": 89,
    "start_time": "2022-10-03T20:32:43.808Z"
   },
   {
    "duration": 19,
    "start_time": "2022-10-03T20:32:43.899Z"
   },
   {
    "duration": 26,
    "start_time": "2022-10-03T20:32:43.920Z"
   },
   {
    "duration": 12,
    "start_time": "2022-10-03T20:32:43.948Z"
   },
   {
    "duration": 18,
    "start_time": "2022-10-03T20:32:43.961Z"
   },
   {
    "duration": 9,
    "start_time": "2022-10-03T20:32:43.980Z"
   },
   {
    "duration": 495,
    "start_time": "2022-10-03T20:32:43.990Z"
   },
   {
    "duration": 296,
    "start_time": "2022-10-03T20:32:44.487Z"
   },
   {
    "duration": 231,
    "start_time": "2022-10-03T20:32:44.785Z"
   },
   {
    "duration": 258,
    "start_time": "2022-10-03T20:32:45.017Z"
   },
   {
    "duration": 254,
    "start_time": "2022-10-03T20:32:45.277Z"
   },
   {
    "duration": 25,
    "start_time": "2022-10-03T20:32:45.533Z"
   },
   {
    "duration": 9,
    "start_time": "2022-10-03T20:32:45.560Z"
   },
   {
    "duration": 10,
    "start_time": "2022-10-03T20:32:45.570Z"
   },
   {
    "duration": 29,
    "start_time": "2022-10-03T20:32:45.582Z"
   },
   {
    "duration": 7,
    "start_time": "2022-10-03T20:32:45.613Z"
   },
   {
    "duration": 103,
    "start_time": "2022-10-03T20:32:45.621Z"
   },
   {
    "duration": 3,
    "start_time": "2022-10-03T20:32:45.808Z"
   },
   {
    "duration": 7,
    "start_time": "2022-10-03T20:32:45.813Z"
   },
   {
    "duration": 8,
    "start_time": "2022-10-03T20:32:45.821Z"
   },
   {
    "duration": 8993,
    "start_time": "2022-10-03T20:32:45.830Z"
   },
   {
    "duration": 5,
    "start_time": "2022-10-03T20:32:54.824Z"
   },
   {
    "duration": 14,
    "start_time": "2022-10-03T20:32:54.831Z"
   },
   {
    "duration": 5,
    "start_time": "2022-10-03T20:33:45.094Z"
   },
   {
    "duration": 8,
    "start_time": "2022-10-03T20:34:03.536Z"
   },
   {
    "duration": 8,
    "start_time": "2022-10-03T20:35:28.813Z"
   },
   {
    "duration": 4,
    "start_time": "2022-10-03T20:35:36.522Z"
   },
   {
    "duration": 31,
    "start_time": "2022-10-03T20:37:24.726Z"
   },
   {
    "duration": 9445,
    "start_time": "2022-10-03T20:45:38.726Z"
   },
   {
    "duration": 9442,
    "start_time": "2022-10-03T20:46:27.207Z"
   },
   {
    "duration": 9422,
    "start_time": "2022-10-03T20:47:28.914Z"
   },
   {
    "duration": 3,
    "start_time": "2022-10-03T20:47:46.151Z"
   },
   {
    "duration": 442,
    "start_time": "2022-10-03T20:48:42.321Z"
   },
   {
    "duration": 130,
    "start_time": "2022-10-03T20:50:20.420Z"
   },
   {
    "duration": 5,
    "start_time": "2022-10-03T20:50:52.587Z"
   },
   {
    "duration": 12,
    "start_time": "2022-10-03T20:51:21.966Z"
   },
   {
    "duration": 12,
    "start_time": "2022-10-03T20:52:19.478Z"
   },
   {
    "duration": 10312,
    "start_time": "2022-10-03T20:52:52.598Z"
   },
   {
    "duration": 189,
    "start_time": "2022-10-03T20:53:36.321Z"
   },
   {
    "duration": 5,
    "start_time": "2022-10-03T20:53:51.194Z"
   },
   {
    "duration": 9,
    "start_time": "2022-10-03T20:53:55.528Z"
   },
   {
    "duration": 7,
    "start_time": "2022-10-03T20:54:05.762Z"
   },
   {
    "duration": 9,
    "start_time": "2022-10-03T20:54:49.492Z"
   },
   {
    "duration": 7,
    "start_time": "2022-10-03T20:55:51.872Z"
   },
   {
    "duration": 10,
    "start_time": "2022-10-03T20:56:05.571Z"
   },
   {
    "duration": 10,
    "start_time": "2022-10-03T20:56:42.998Z"
   },
   {
    "duration": 7,
    "start_time": "2022-10-03T20:56:55.502Z"
   },
   {
    "duration": 14,
    "start_time": "2022-10-03T20:57:05.243Z"
   },
   {
    "duration": 9,
    "start_time": "2022-10-03T20:57:21.235Z"
   },
   {
    "duration": 11,
    "start_time": "2022-10-03T20:58:12.340Z"
   },
   {
    "duration": 6,
    "start_time": "2022-10-03T21:01:37.198Z"
   },
   {
    "duration": 10,
    "start_time": "2022-10-03T21:02:19.513Z"
   },
   {
    "duration": 1361,
    "start_time": "2022-10-03T21:03:31.052Z"
   },
   {
    "duration": 553,
    "start_time": "2022-10-03T21:03:32.415Z"
   },
   {
    "duration": 9,
    "start_time": "2022-10-03T21:03:32.970Z"
   },
   {
    "duration": 6,
    "start_time": "2022-10-03T21:03:32.981Z"
   },
   {
    "duration": 11,
    "start_time": "2022-10-03T21:03:32.988Z"
   },
   {
    "duration": 15,
    "start_time": "2022-10-03T21:03:33.001Z"
   },
   {
    "duration": 9,
    "start_time": "2022-10-03T21:03:33.018Z"
   },
   {
    "duration": 412,
    "start_time": "2022-10-03T21:03:33.029Z"
   },
   {
    "duration": 297,
    "start_time": "2022-10-03T21:03:33.442Z"
   },
   {
    "duration": 260,
    "start_time": "2022-10-03T21:03:33.742Z"
   },
   {
    "duration": 275,
    "start_time": "2022-10-03T21:03:34.003Z"
   },
   {
    "duration": 245,
    "start_time": "2022-10-03T21:03:34.280Z"
   },
   {
    "duration": 25,
    "start_time": "2022-10-03T21:03:34.527Z"
   },
   {
    "duration": 23,
    "start_time": "2022-10-03T21:03:34.553Z"
   },
   {
    "duration": 14,
    "start_time": "2022-10-03T21:03:34.578Z"
   },
   {
    "duration": 24,
    "start_time": "2022-10-03T21:03:34.593Z"
   },
   {
    "duration": 90,
    "start_time": "2022-10-03T21:03:34.619Z"
   },
   {
    "duration": 8,
    "start_time": "2022-10-03T21:03:34.711Z"
   },
   {
    "duration": 26,
    "start_time": "2022-10-03T21:03:34.721Z"
   },
   {
    "duration": 61,
    "start_time": "2022-10-03T21:03:34.749Z"
   },
   {
    "duration": 36,
    "start_time": "2022-10-03T21:03:34.811Z"
   },
   {
    "duration": 8736,
    "start_time": "2022-10-03T21:03:34.848Z"
   },
   {
    "duration": 4,
    "start_time": "2022-10-03T21:03:43.586Z"
   },
   {
    "duration": 9,
    "start_time": "2022-10-03T21:03:43.592Z"
   },
   {
    "duration": 9407,
    "start_time": "2022-10-03T21:03:43.602Z"
   },
   {
    "duration": 4,
    "start_time": "2022-10-03T21:03:53.010Z"
   },
   {
    "duration": 15,
    "start_time": "2022-10-03T21:03:53.015Z"
   },
   {
    "duration": 12,
    "start_time": "2022-10-03T21:03:53.033Z"
   },
   {
    "duration": 23,
    "start_time": "2022-10-03T21:03:53.046Z"
   },
   {
    "duration": 9,
    "start_time": "2022-10-03T21:04:26.856Z"
   },
   {
    "duration": 144,
    "start_time": "2022-10-03T21:05:24.185Z"
   },
   {
    "duration": 11,
    "start_time": "2022-10-03T21:05:44.025Z"
   },
   {
    "duration": 8,
    "start_time": "2022-10-03T21:05:53.984Z"
   },
   {
    "duration": 1523,
    "start_time": "2022-10-03T21:09:47.146Z"
   },
   {
    "duration": 11,
    "start_time": "2022-10-03T21:13:07.231Z"
   },
   {
    "duration": 602,
    "start_time": "2022-10-03T21:16:28.935Z"
   },
   {
    "duration": 5,
    "start_time": "2022-10-03T21:20:14.428Z"
   },
   {
    "duration": 1565,
    "start_time": "2022-10-03T21:21:11.978Z"
   },
   {
    "duration": 21,
    "start_time": "2022-10-03T21:21:45.184Z"
   },
   {
    "duration": 5,
    "start_time": "2022-10-03T21:21:53.288Z"
   },
   {
    "duration": 6,
    "start_time": "2022-10-03T21:22:18.230Z"
   },
   {
    "duration": 6,
    "start_time": "2022-10-03T21:22:39.909Z"
   },
   {
    "duration": 6,
    "start_time": "2022-10-03T21:22:45.133Z"
   },
   {
    "duration": 5,
    "start_time": "2022-10-03T21:24:57.303Z"
   },
   {
    "duration": 6,
    "start_time": "2022-10-03T21:25:35.784Z"
   },
   {
    "duration": 5,
    "start_time": "2022-10-03T21:25:41.404Z"
   },
   {
    "duration": 10,
    "start_time": "2022-10-03T21:26:00.485Z"
   },
   {
    "duration": 852,
    "start_time": "2022-10-03T21:26:05.379Z"
   },
   {
    "duration": 3,
    "start_time": "2022-10-03T21:39:33.772Z"
   },
   {
    "duration": 5,
    "start_time": "2022-10-03T21:39:48.083Z"
   },
   {
    "duration": 3,
    "start_time": "2022-10-03T21:40:02.884Z"
   },
   {
    "duration": 5,
    "start_time": "2022-10-03T21:40:04.854Z"
   },
   {
    "duration": 1413,
    "start_time": "2022-10-03T21:40:17.108Z"
   },
   {
    "duration": 62,
    "start_time": "2022-10-03T21:40:18.523Z"
   },
   {
    "duration": 9,
    "start_time": "2022-10-03T21:40:18.587Z"
   },
   {
    "duration": 8,
    "start_time": "2022-10-03T21:40:18.598Z"
   },
   {
    "duration": 9,
    "start_time": "2022-10-03T21:40:18.607Z"
   },
   {
    "duration": 15,
    "start_time": "2022-10-03T21:40:18.618Z"
   },
   {
    "duration": 9,
    "start_time": "2022-10-03T21:40:18.634Z"
   },
   {
    "duration": 369,
    "start_time": "2022-10-03T21:40:18.644Z"
   },
   {
    "duration": 297,
    "start_time": "2022-10-03T21:40:19.014Z"
   },
   {
    "duration": 229,
    "start_time": "2022-10-03T21:40:19.314Z"
   },
   {
    "duration": 256,
    "start_time": "2022-10-03T21:40:19.545Z"
   },
   {
    "duration": 249,
    "start_time": "2022-10-03T21:40:19.802Z"
   },
   {
    "duration": 25,
    "start_time": "2022-10-03T21:40:20.052Z"
   },
   {
    "duration": 18,
    "start_time": "2022-10-03T21:40:20.078Z"
   },
   {
    "duration": 33,
    "start_time": "2022-10-03T21:40:20.098Z"
   },
   {
    "duration": 40,
    "start_time": "2022-10-03T21:40:20.132Z"
   },
   {
    "duration": 18,
    "start_time": "2022-10-03T21:40:20.174Z"
   },
   {
    "duration": 31,
    "start_time": "2022-10-03T21:40:20.193Z"
   },
   {
    "duration": 83,
    "start_time": "2022-10-03T21:40:20.226Z"
   },
   {
    "duration": 19,
    "start_time": "2022-10-03T21:40:20.311Z"
   },
   {
    "duration": 38,
    "start_time": "2022-10-03T21:40:20.332Z"
   },
   {
    "duration": 8710,
    "start_time": "2022-10-03T21:40:20.372Z"
   },
   {
    "duration": 5,
    "start_time": "2022-10-03T21:40:29.084Z"
   },
   {
    "duration": 35,
    "start_time": "2022-10-03T21:40:29.091Z"
   },
   {
    "duration": 9410,
    "start_time": "2022-10-03T21:40:29.128Z"
   },
   {
    "duration": 3,
    "start_time": "2022-10-03T21:40:38.539Z"
   },
   {
    "duration": 13,
    "start_time": "2022-10-03T21:40:38.544Z"
   },
   {
    "duration": 1532,
    "start_time": "2022-10-03T21:40:38.560Z"
   },
   {
    "duration": 5,
    "start_time": "2022-10-03T21:40:40.093Z"
   },
   {
    "duration": 12,
    "start_time": "2022-10-03T21:40:40.099Z"
   },
   {
    "duration": 12,
    "start_time": "2022-10-03T21:40:40.112Z"
   },
   {
    "duration": 631,
    "start_time": "2022-10-03T21:40:40.126Z"
   },
   {
    "duration": 1844,
    "start_time": "2022-10-04T08:06:26.402Z"
   },
   {
    "duration": 161,
    "start_time": "2022-10-04T08:06:28.249Z"
   },
   {
    "duration": 13,
    "start_time": "2022-10-04T08:06:28.412Z"
   },
   {
    "duration": 5,
    "start_time": "2022-10-04T08:06:28.427Z"
   },
   {
    "duration": 12,
    "start_time": "2022-10-04T08:06:28.434Z"
   },
   {
    "duration": 14,
    "start_time": "2022-10-04T08:06:28.448Z"
   },
   {
    "duration": 11,
    "start_time": "2022-10-04T08:06:28.463Z"
   },
   {
    "duration": 448,
    "start_time": "2022-10-04T08:06:28.476Z"
   },
   {
    "duration": 345,
    "start_time": "2022-10-04T08:06:28.926Z"
   },
   {
    "duration": 246,
    "start_time": "2022-10-04T08:06:29.275Z"
   },
   {
    "duration": 294,
    "start_time": "2022-10-04T08:06:29.523Z"
   },
   {
    "duration": 265,
    "start_time": "2022-10-04T08:06:29.819Z"
   },
   {
    "duration": 33,
    "start_time": "2022-10-04T08:06:30.086Z"
   },
   {
    "duration": 21,
    "start_time": "2022-10-04T08:06:30.121Z"
   },
   {
    "duration": 27,
    "start_time": "2022-10-04T08:06:30.144Z"
   },
   {
    "duration": 49,
    "start_time": "2022-10-04T08:06:30.173Z"
   },
   {
    "duration": 176,
    "start_time": "2022-10-04T08:06:30.224Z"
   },
   {
    "duration": 30,
    "start_time": "2022-10-04T08:06:30.402Z"
   },
   {
    "duration": 40,
    "start_time": "2022-10-04T08:06:30.434Z"
   },
   {
    "duration": 37,
    "start_time": "2022-10-04T08:06:30.477Z"
   },
   {
    "duration": 43,
    "start_time": "2022-10-04T08:06:30.516Z"
   },
   {
    "duration": 10300,
    "start_time": "2022-10-04T08:06:30.561Z"
   },
   {
    "duration": 5,
    "start_time": "2022-10-04T08:06:40.863Z"
   },
   {
    "duration": 10,
    "start_time": "2022-10-04T08:06:40.870Z"
   },
   {
    "duration": 8291,
    "start_time": "2022-10-04T08:06:40.882Z"
   },
   {
    "duration": 4,
    "start_time": "2022-10-04T08:06:49.175Z"
   },
   {
    "duration": 16,
    "start_time": "2022-10-04T08:06:49.181Z"
   },
   {
    "duration": 1371,
    "start_time": "2022-10-04T08:06:49.200Z"
   },
   {
    "duration": 6,
    "start_time": "2022-10-04T08:06:50.573Z"
   },
   {
    "duration": 10,
    "start_time": "2022-10-04T08:06:50.580Z"
   },
   {
    "duration": 13,
    "start_time": "2022-10-04T08:06:50.592Z"
   },
   {
    "duration": 966,
    "start_time": "2022-10-04T08:06:50.606Z"
   },
   {
    "duration": 21,
    "start_time": "2022-10-04T09:00:54.377Z"
   },
   {
    "duration": 32,
    "start_time": "2022-10-04T09:01:23.947Z"
   },
   {
    "duration": 10,
    "start_time": "2022-10-04T09:02:25.135Z"
   },
   {
    "duration": 22,
    "start_time": "2022-10-04T09:02:25.740Z"
   },
   {
    "duration": 27,
    "start_time": "2022-10-04T09:02:26.822Z"
   },
   {
    "duration": 21,
    "start_time": "2022-10-04T09:02:42.154Z"
   },
   {
    "duration": 1879,
    "start_time": "2022-10-04T09:03:10.014Z"
   },
   {
    "duration": 73,
    "start_time": "2022-10-04T09:03:11.896Z"
   },
   {
    "duration": 11,
    "start_time": "2022-10-04T09:03:11.971Z"
   },
   {
    "duration": 22,
    "start_time": "2022-10-04T09:03:11.984Z"
   },
   {
    "duration": 11,
    "start_time": "2022-10-04T09:03:12.007Z"
   },
   {
    "duration": 30,
    "start_time": "2022-10-04T09:03:12.019Z"
   },
   {
    "duration": 14,
    "start_time": "2022-10-04T09:03:12.051Z"
   },
   {
    "duration": 400,
    "start_time": "2022-10-04T09:03:12.066Z"
   },
   {
    "duration": 347,
    "start_time": "2022-10-04T09:03:12.468Z"
   },
   {
    "duration": 251,
    "start_time": "2022-10-04T09:03:12.819Z"
   },
   {
    "duration": 287,
    "start_time": "2022-10-04T09:03:13.072Z"
   },
   {
    "duration": 280,
    "start_time": "2022-10-04T09:03:13.361Z"
   },
   {
    "duration": 38,
    "start_time": "2022-10-04T09:03:13.643Z"
   },
   {
    "duration": 10,
    "start_time": "2022-10-04T09:03:13.683Z"
   },
   {
    "duration": 21,
    "start_time": "2022-10-04T09:03:13.695Z"
   },
   {
    "duration": 51,
    "start_time": "2022-10-04T09:03:13.718Z"
   },
   {
    "duration": 20,
    "start_time": "2022-10-04T09:03:13.771Z"
   },
   {
    "duration": 16,
    "start_time": "2022-10-04T09:03:13.793Z"
   },
   {
    "duration": 16,
    "start_time": "2022-10-04T09:03:13.811Z"
   },
   {
    "duration": 8,
    "start_time": "2022-10-04T09:03:13.855Z"
   },
   {
    "duration": 14,
    "start_time": "2022-10-04T09:03:13.865Z"
   },
   {
    "duration": 84,
    "start_time": "2022-10-04T09:03:13.881Z"
   },
   {
    "duration": 9,
    "start_time": "2022-10-04T09:03:13.967Z"
   },
   {
    "duration": 13,
    "start_time": "2022-10-04T09:03:13.978Z"
   },
   {
    "duration": 10092,
    "start_time": "2022-10-04T09:03:13.993Z"
   },
   {
    "duration": 5,
    "start_time": "2022-10-04T09:03:24.087Z"
   },
   {
    "duration": 7,
    "start_time": "2022-10-04T09:03:24.094Z"
   },
   {
    "duration": 8952,
    "start_time": "2022-10-04T09:03:24.104Z"
   },
   {
    "duration": 4,
    "start_time": "2022-10-04T09:03:33.058Z"
   },
   {
    "duration": 17,
    "start_time": "2022-10-04T09:03:33.064Z"
   },
   {
    "duration": 1422,
    "start_time": "2022-10-04T09:03:33.082Z"
   },
   {
    "duration": 6,
    "start_time": "2022-10-04T09:03:34.506Z"
   },
   {
    "duration": 10,
    "start_time": "2022-10-04T09:03:34.514Z"
   },
   {
    "duration": 30,
    "start_time": "2022-10-04T09:03:34.525Z"
   },
   {
    "duration": 663,
    "start_time": "2022-10-04T09:03:34.557Z"
   },
   {
    "duration": 126,
    "start_time": "2022-10-04T09:04:17.956Z"
   },
   {
    "duration": 11,
    "start_time": "2022-10-04T09:04:24.293Z"
   },
   {
    "duration": 5,
    "start_time": "2022-10-04T09:04:31.518Z"
   },
   {
    "duration": 4,
    "start_time": "2022-10-04T09:04:39.133Z"
   },
   {
    "duration": 4,
    "start_time": "2022-10-04T09:05:29.311Z"
   },
   {
    "duration": 5,
    "start_time": "2022-10-04T09:06:10.760Z"
   },
   {
    "duration": 6,
    "start_time": "2022-10-04T09:06:27.845Z"
   },
   {
    "duration": 4,
    "start_time": "2022-10-04T09:06:49.624Z"
   },
   {
    "duration": 5,
    "start_time": "2022-10-04T09:07:06.119Z"
   },
   {
    "duration": 5,
    "start_time": "2022-10-04T09:07:21.148Z"
   },
   {
    "duration": 6,
    "start_time": "2022-10-04T09:07:31.538Z"
   },
   {
    "duration": 7,
    "start_time": "2022-10-04T09:08:38.131Z"
   },
   {
    "duration": 6,
    "start_time": "2022-10-04T09:09:12.538Z"
   },
   {
    "duration": 5,
    "start_time": "2022-10-04T09:09:13.326Z"
   },
   {
    "duration": 10,
    "start_time": "2022-10-04T09:09:32.172Z"
   },
   {
    "duration": 6,
    "start_time": "2022-10-04T09:09:33.086Z"
   },
   {
    "duration": 1710,
    "start_time": "2022-10-04T09:09:51.891Z"
   },
   {
    "duration": 159,
    "start_time": "2022-10-04T09:09:53.603Z"
   },
   {
    "duration": 11,
    "start_time": "2022-10-04T09:09:53.764Z"
   },
   {
    "duration": 17,
    "start_time": "2022-10-04T09:09:53.777Z"
   },
   {
    "duration": 11,
    "start_time": "2022-10-04T09:09:53.796Z"
   },
   {
    "duration": 30,
    "start_time": "2022-10-04T09:09:53.809Z"
   },
   {
    "duration": 16,
    "start_time": "2022-10-04T09:09:53.841Z"
   },
   {
    "duration": 396,
    "start_time": "2022-10-04T09:09:53.859Z"
   },
   {
    "duration": 364,
    "start_time": "2022-10-04T09:09:54.257Z"
   },
   {
    "duration": 240,
    "start_time": "2022-10-04T09:09:54.624Z"
   },
   {
    "duration": 267,
    "start_time": "2022-10-04T09:09:54.865Z"
   },
   {
    "duration": 258,
    "start_time": "2022-10-04T09:09:55.135Z"
   },
   {
    "duration": 31,
    "start_time": "2022-10-04T09:09:55.395Z"
   },
   {
    "duration": 26,
    "start_time": "2022-10-04T09:09:55.428Z"
   },
   {
    "duration": 4,
    "start_time": "2022-10-04T09:09:55.456Z"
   },
   {
    "duration": 18,
    "start_time": "2022-10-04T09:09:55.461Z"
   },
   {
    "duration": 10,
    "start_time": "2022-10-04T09:09:55.481Z"
   },
   {
    "duration": 14,
    "start_time": "2022-10-04T09:09:55.492Z"
   },
   {
    "duration": 13,
    "start_time": "2022-10-04T09:09:55.508Z"
   },
   {
    "duration": 35,
    "start_time": "2022-10-04T09:09:55.523Z"
   },
   {
    "duration": 9,
    "start_time": "2022-10-04T09:09:55.560Z"
   },
   {
    "duration": 16,
    "start_time": "2022-10-04T09:09:55.571Z"
   },
   {
    "duration": 9,
    "start_time": "2022-10-04T09:09:55.655Z"
   },
   {
    "duration": 16,
    "start_time": "2022-10-04T09:09:55.666Z"
   },
   {
    "duration": 16,
    "start_time": "2022-10-04T09:09:55.683Z"
   },
   {
    "duration": 10075,
    "start_time": "2022-10-04T09:09:55.700Z"
   },
   {
    "duration": 4,
    "start_time": "2022-10-04T09:10:05.777Z"
   },
   {
    "duration": 11,
    "start_time": "2022-10-04T09:10:05.785Z"
   },
   {
    "duration": 8517,
    "start_time": "2022-10-04T09:10:05.797Z"
   },
   {
    "duration": 4,
    "start_time": "2022-10-04T09:10:14.315Z"
   },
   {
    "duration": 18,
    "start_time": "2022-10-04T09:10:14.320Z"
   },
   {
    "duration": 1347,
    "start_time": "2022-10-04T09:10:14.340Z"
   },
   {
    "duration": 6,
    "start_time": "2022-10-04T09:10:15.688Z"
   },
   {
    "duration": 18,
    "start_time": "2022-10-04T09:10:15.696Z"
   },
   {
    "duration": 16,
    "start_time": "2022-10-04T09:10:15.716Z"
   },
   {
    "duration": 693,
    "start_time": "2022-10-04T09:10:15.754Z"
   },
   {
    "duration": 27,
    "start_time": "2022-10-04T09:17:04.076Z"
   },
   {
    "duration": 28,
    "start_time": "2022-10-04T09:17:16.489Z"
   },
   {
    "duration": 1848,
    "start_time": "2022-10-04T09:17:24.212Z"
   },
   {
    "duration": 66,
    "start_time": "2022-10-04T09:17:26.062Z"
   },
   {
    "duration": 10,
    "start_time": "2022-10-04T09:17:26.130Z"
   },
   {
    "duration": 4,
    "start_time": "2022-10-04T09:17:26.142Z"
   },
   {
    "duration": 13,
    "start_time": "2022-10-04T09:17:26.147Z"
   },
   {
    "duration": 16,
    "start_time": "2022-10-04T09:17:26.161Z"
   },
   {
    "duration": 13,
    "start_time": "2022-10-04T09:17:26.179Z"
   },
   {
    "duration": 418,
    "start_time": "2022-10-04T09:17:26.194Z"
   },
   {
    "duration": 348,
    "start_time": "2022-10-04T09:17:26.614Z"
   },
   {
    "duration": 232,
    "start_time": "2022-10-04T09:17:26.965Z"
   },
   {
    "duration": 279,
    "start_time": "2022-10-04T09:17:27.199Z"
   },
   {
    "duration": 275,
    "start_time": "2022-10-04T09:17:27.480Z"
   },
   {
    "duration": 29,
    "start_time": "2022-10-04T09:17:27.757Z"
   },
   {
    "duration": 24,
    "start_time": "2022-10-04T09:17:27.788Z"
   },
   {
    "duration": 18,
    "start_time": "2022-10-04T09:17:27.814Z"
   },
   {
    "duration": 43,
    "start_time": "2022-10-04T09:17:27.834Z"
   },
   {
    "duration": 75,
    "start_time": "2022-10-04T09:17:27.879Z"
   },
   {
    "duration": 12,
    "start_time": "2022-10-04T09:17:27.956Z"
   },
   {
    "duration": 83,
    "start_time": "2022-10-04T09:17:27.971Z"
   },
   {
    "duration": 14,
    "start_time": "2022-10-04T09:17:28.056Z"
   },
   {
    "duration": 31,
    "start_time": "2022-10-04T09:17:28.072Z"
   },
   {
    "duration": 10299,
    "start_time": "2022-10-04T09:17:28.105Z"
   },
   {
    "duration": 4,
    "start_time": "2022-10-04T09:17:38.406Z"
   },
   {
    "duration": 6,
    "start_time": "2022-10-04T09:17:38.413Z"
   },
   {
    "duration": 8556,
    "start_time": "2022-10-04T09:17:38.421Z"
   },
   {
    "duration": 4,
    "start_time": "2022-10-04T09:17:46.979Z"
   },
   {
    "duration": 17,
    "start_time": "2022-10-04T09:17:46.984Z"
   },
   {
    "duration": 1380,
    "start_time": "2022-10-04T09:17:47.005Z"
   },
   {
    "duration": 20,
    "start_time": "2022-10-04T09:17:48.387Z"
   },
   {
    "duration": 20,
    "start_time": "2022-10-04T09:17:48.409Z"
   },
   {
    "duration": 29,
    "start_time": "2022-10-04T09:17:48.430Z"
   },
   {
    "duration": 7,
    "start_time": "2022-10-04T09:17:48.461Z"
   },
   {
    "duration": 13,
    "start_time": "2022-10-04T09:17:48.470Z"
   },
   {
    "duration": 810,
    "start_time": "2022-10-04T09:17:48.485Z"
   },
   {
    "duration": 87,
    "start_time": "2022-10-04T10:47:36.127Z"
   },
   {
    "duration": 108,
    "start_time": "2022-10-04T10:47:39.102Z"
   },
   {
    "duration": 1589,
    "start_time": "2022-10-04T10:50:06.997Z"
   },
   {
    "duration": 124,
    "start_time": "2022-10-04T10:50:08.589Z"
   },
   {
    "duration": 15,
    "start_time": "2022-10-04T10:50:08.715Z"
   },
   {
    "duration": 26,
    "start_time": "2022-10-04T10:50:08.735Z"
   },
   {
    "duration": 25,
    "start_time": "2022-10-04T10:50:08.763Z"
   },
   {
    "duration": 29,
    "start_time": "2022-10-04T10:50:08.790Z"
   },
   {
    "duration": 19,
    "start_time": "2022-10-04T10:50:08.821Z"
   },
   {
    "duration": 506,
    "start_time": "2022-10-04T10:50:08.851Z"
   },
   {
    "duration": 299,
    "start_time": "2022-10-04T10:50:09.359Z"
   },
   {
    "duration": 264,
    "start_time": "2022-10-04T10:50:09.661Z"
   },
   {
    "duration": 295,
    "start_time": "2022-10-04T10:50:09.927Z"
   },
   {
    "duration": 279,
    "start_time": "2022-10-04T10:50:10.224Z"
   },
   {
    "duration": 43,
    "start_time": "2022-10-04T10:50:10.504Z"
   },
   {
    "duration": 9,
    "start_time": "2022-10-04T10:50:10.553Z"
   },
   {
    "duration": 17,
    "start_time": "2022-10-04T10:50:10.564Z"
   },
   {
    "duration": 56,
    "start_time": "2022-10-04T10:50:10.583Z"
   },
   {
    "duration": 116,
    "start_time": "2022-10-04T10:50:10.641Z"
   },
   {
    "duration": 12,
    "start_time": "2022-10-04T10:50:10.759Z"
   },
   {
    "duration": 10,
    "start_time": "2022-10-04T10:50:10.772Z"
   },
   {
    "duration": 9,
    "start_time": "2022-10-04T10:50:10.784Z"
   },
   {
    "duration": 6,
    "start_time": "2022-10-04T10:50:10.795Z"
   },
   {
    "duration": 10831,
    "start_time": "2022-10-04T10:50:10.803Z"
   },
   {
    "duration": 7,
    "start_time": "2022-10-04T10:50:21.644Z"
   },
   {
    "duration": 9,
    "start_time": "2022-10-04T10:50:21.653Z"
   },
   {
    "duration": 8120,
    "start_time": "2022-10-04T10:50:21.663Z"
   },
   {
    "duration": 5,
    "start_time": "2022-10-04T10:50:29.785Z"
   },
   {
    "duration": 25,
    "start_time": "2022-10-04T10:50:29.793Z"
   },
   {
    "duration": 1475,
    "start_time": "2022-10-04T10:50:29.821Z"
   },
   {
    "duration": 7,
    "start_time": "2022-10-04T10:50:31.298Z"
   },
   {
    "duration": 11,
    "start_time": "2022-10-04T10:50:31.307Z"
   },
   {
    "duration": 31,
    "start_time": "2022-10-04T10:50:31.321Z"
   },
   {
    "duration": 830,
    "start_time": "2022-10-04T10:50:31.355Z"
   },
   {
    "duration": 260,
    "start_time": "2022-10-04T10:58:18.061Z"
   },
   {
    "duration": 344,
    "start_time": "2022-10-04T11:02:34.482Z"
   },
   {
    "duration": 1734,
    "start_time": "2022-10-04T11:12:05.312Z"
   },
   {
    "duration": 63,
    "start_time": "2022-10-04T11:12:07.048Z"
   },
   {
    "duration": 9,
    "start_time": "2022-10-04T11:12:07.113Z"
   },
   {
    "duration": 4,
    "start_time": "2022-10-04T11:12:07.124Z"
   },
   {
    "duration": 24,
    "start_time": "2022-10-04T11:12:07.129Z"
   },
   {
    "duration": 16,
    "start_time": "2022-10-04T11:12:07.155Z"
   },
   {
    "duration": 9,
    "start_time": "2022-10-04T11:12:07.172Z"
   },
   {
    "duration": 410,
    "start_time": "2022-10-04T11:12:07.183Z"
   },
   {
    "duration": 325,
    "start_time": "2022-10-04T11:12:07.595Z"
   },
   {
    "duration": 231,
    "start_time": "2022-10-04T11:12:07.923Z"
   },
   {
    "duration": 270,
    "start_time": "2022-10-04T11:12:08.156Z"
   },
   {
    "duration": 262,
    "start_time": "2022-10-04T11:12:08.427Z"
   },
   {
    "duration": 26,
    "start_time": "2022-10-04T11:12:08.690Z"
   },
   {
    "duration": 32,
    "start_time": "2022-10-04T11:12:08.718Z"
   },
   {
    "duration": 3,
    "start_time": "2022-10-04T11:12:08.752Z"
   },
   {
    "duration": 15,
    "start_time": "2022-10-04T11:12:08.757Z"
   },
   {
    "duration": 7,
    "start_time": "2022-10-04T11:12:08.774Z"
   },
   {
    "duration": 11,
    "start_time": "2022-10-04T11:12:08.782Z"
   },
   {
    "duration": 54,
    "start_time": "2022-10-04T11:12:08.795Z"
   },
   {
    "duration": 5,
    "start_time": "2022-10-04T11:12:08.851Z"
   },
   {
    "duration": 7,
    "start_time": "2022-10-04T11:12:08.858Z"
   },
   {
    "duration": 9899,
    "start_time": "2022-10-04T11:12:08.867Z"
   },
   {
    "duration": 5,
    "start_time": "2022-10-04T11:12:18.768Z"
   },
   {
    "duration": 8,
    "start_time": "2022-10-04T11:12:18.774Z"
   },
   {
    "duration": 6959,
    "start_time": "2022-10-04T11:12:18.784Z"
   },
   {
    "duration": 5,
    "start_time": "2022-10-04T11:12:25.745Z"
   },
   {
    "duration": 13,
    "start_time": "2022-10-04T11:12:25.752Z"
   },
   {
    "duration": 1252,
    "start_time": "2022-10-04T11:12:25.769Z"
   },
   {
    "duration": 5,
    "start_time": "2022-10-04T11:12:27.023Z"
   },
   {
    "duration": 8,
    "start_time": "2022-10-04T11:12:27.044Z"
   },
   {
    "duration": 19,
    "start_time": "2022-10-04T11:12:27.055Z"
   },
   {
    "duration": 873,
    "start_time": "2022-10-04T11:12:27.076Z"
   },
   {
    "duration": 1919,
    "start_time": "2022-10-04T17:11:49.648Z"
   },
   {
    "duration": 165,
    "start_time": "2022-10-04T17:11:51.570Z"
   },
   {
    "duration": 11,
    "start_time": "2022-10-04T17:11:51.737Z"
   },
   {
    "duration": 6,
    "start_time": "2022-10-04T17:11:51.749Z"
   },
   {
    "duration": 9,
    "start_time": "2022-10-04T17:11:51.757Z"
   },
   {
    "duration": 34,
    "start_time": "2022-10-04T17:11:51.767Z"
   },
   {
    "duration": 9,
    "start_time": "2022-10-04T17:11:51.803Z"
   },
   {
    "duration": 367,
    "start_time": "2022-10-04T17:11:51.814Z"
   },
   {
    "duration": 335,
    "start_time": "2022-10-04T17:11:52.183Z"
   },
   {
    "duration": 222,
    "start_time": "2022-10-04T17:11:52.520Z"
   },
   {
    "duration": 250,
    "start_time": "2022-10-04T17:11:52.743Z"
   },
   {
    "duration": 234,
    "start_time": "2022-10-04T17:11:52.999Z"
   },
   {
    "duration": 22,
    "start_time": "2022-10-04T17:11:53.234Z"
   },
   {
    "duration": 8,
    "start_time": "2022-10-04T17:11:53.258Z"
   },
   {
    "duration": 5,
    "start_time": "2022-10-04T17:11:53.267Z"
   },
   {
    "duration": 31,
    "start_time": "2022-10-04T17:11:53.274Z"
   },
   {
    "duration": 203,
    "start_time": "2022-10-04T17:11:53.306Z"
   },
   {
    "duration": 13,
    "start_time": "2022-10-04T17:11:53.510Z"
   },
   {
    "duration": 9,
    "start_time": "2022-10-04T17:11:53.525Z"
   },
   {
    "duration": 7,
    "start_time": "2022-10-04T17:11:53.535Z"
   },
   {
    "duration": 8,
    "start_time": "2022-10-04T17:11:53.544Z"
   },
   {
    "duration": 8834,
    "start_time": "2022-10-04T17:11:53.553Z"
   },
   {
    "duration": 5,
    "start_time": "2022-10-04T17:12:02.389Z"
   },
   {
    "duration": 20,
    "start_time": "2022-10-04T17:12:02.395Z"
   },
   {
    "duration": 6120,
    "start_time": "2022-10-04T17:12:02.417Z"
   },
   {
    "duration": 3,
    "start_time": "2022-10-04T17:12:08.539Z"
   },
   {
    "duration": 13,
    "start_time": "2022-10-04T17:12:08.543Z"
   },
   {
    "duration": 1089,
    "start_time": "2022-10-04T17:12:08.557Z"
   },
   {
    "duration": 5,
    "start_time": "2022-10-04T17:12:09.648Z"
   },
   {
    "duration": 8,
    "start_time": "2022-10-04T17:12:09.655Z"
   },
   {
    "duration": 13,
    "start_time": "2022-10-04T17:12:09.665Z"
   },
   {
    "duration": 890,
    "start_time": "2022-10-04T17:12:09.700Z"
   },
   {
    "duration": 1771,
    "start_time": "2022-10-04T19:48:02.289Z"
   },
   {
    "duration": 185,
    "start_time": "2022-10-04T19:48:04.062Z"
   },
   {
    "duration": 16,
    "start_time": "2022-10-04T19:48:04.249Z"
   },
   {
    "duration": 5,
    "start_time": "2022-10-04T19:48:04.268Z"
   },
   {
    "duration": 8,
    "start_time": "2022-10-04T19:48:04.276Z"
   },
   {
    "duration": 22,
    "start_time": "2022-10-04T19:48:04.286Z"
   },
   {
    "duration": 15,
    "start_time": "2022-10-04T19:48:04.310Z"
   },
   {
    "duration": 510,
    "start_time": "2022-10-04T19:48:04.327Z"
   },
   {
    "duration": 272,
    "start_time": "2022-10-04T19:48:04.839Z"
   },
   {
    "duration": 261,
    "start_time": "2022-10-04T19:48:05.114Z"
   },
   {
    "duration": 306,
    "start_time": "2022-10-04T19:48:05.377Z"
   },
   {
    "duration": 289,
    "start_time": "2022-10-04T19:48:05.690Z"
   },
   {
    "duration": 61,
    "start_time": "2022-10-04T19:48:05.981Z"
   },
   {
    "duration": 13,
    "start_time": "2022-10-04T19:48:06.044Z"
   },
   {
    "duration": 8,
    "start_time": "2022-10-04T19:48:06.060Z"
   },
   {
    "duration": 203,
    "start_time": "2022-10-04T19:48:06.090Z"
   },
   {
    "duration": 98,
    "start_time": "2022-10-04T19:48:06.296Z"
   },
   {
    "duration": 10,
    "start_time": "2022-10-04T19:48:06.398Z"
   },
   {
    "duration": 6,
    "start_time": "2022-10-04T19:48:06.413Z"
   },
   {
    "duration": 5,
    "start_time": "2022-10-04T19:48:06.421Z"
   },
   {
    "duration": 6,
    "start_time": "2022-10-04T19:48:06.429Z"
   },
   {
    "duration": 26162,
    "start_time": "2022-10-04T19:48:06.437Z"
   },
   {
    "duration": 5,
    "start_time": "2022-10-04T19:48:32.601Z"
   },
   {
    "duration": 7,
    "start_time": "2022-10-04T19:48:32.608Z"
   },
   {
    "duration": 21172,
    "start_time": "2022-10-04T19:48:32.617Z"
   },
   {
    "duration": 3,
    "start_time": "2022-10-04T19:48:53.791Z"
   },
   {
    "duration": 27,
    "start_time": "2022-10-04T19:48:53.796Z"
   },
   {
    "duration": 3527,
    "start_time": "2022-10-04T19:48:53.826Z"
   },
   {
    "duration": 7,
    "start_time": "2022-10-04T19:48:57.355Z"
   },
   {
    "duration": 21,
    "start_time": "2022-10-04T19:48:57.364Z"
   },
   {
    "duration": 109,
    "start_time": "2022-10-04T19:48:57.387Z"
   },
   {
    "duration": 1276,
    "start_time": "2022-10-04T19:48:57.588Z"
   },
   {
    "duration": 7,
    "start_time": "2022-10-13T12:59:22.860Z"
   }
  ],
  "kernelspec": {
   "display_name": "Python 3 (ipykernel)",
   "language": "python",
   "name": "python3"
  },
  "language_info": {
   "codemirror_mode": {
    "name": "ipython",
    "version": 3
   },
   "file_extension": ".py",
   "mimetype": "text/x-python",
   "name": "python",
   "nbconvert_exporter": "python",
   "pygments_lexer": "ipython3",
   "version": "3.9.13"
  },
  "toc": {
   "base_numbering": 1,
   "nav_menu": {},
   "number_sections": true,
   "sideBar": true,
   "skip_h1_title": true,
   "title_cell": "Содержание",
   "title_sidebar": "Contents",
   "toc_cell": true,
   "toc_position": {
    "height": "calc(100% - 180px)",
    "left": "10px",
    "top": "150px",
    "width": "238.253px"
   },
   "toc_section_display": true,
   "toc_window_display": true
  }
 },
 "nbformat": 4,
 "nbformat_minor": 2
}
