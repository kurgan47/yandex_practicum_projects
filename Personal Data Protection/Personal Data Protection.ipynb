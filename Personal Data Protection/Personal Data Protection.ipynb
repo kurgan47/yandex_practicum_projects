{
 "cells": [
  {
   "cell_type": "markdown",
   "metadata": {},
   "source": [
    "# Защита персональных данных клиентов"
   ]
  },
  {
   "cell_type": "markdown",
   "metadata": {
    "toc": true
   },
   "source": [
    "<h1>Содержание<span class=\"tocSkip\"></span></h1>\n",
    "<div class=\"toc\"><ul class=\"toc-item\"><li><span><a href=\"#Загрузка-данных\" data-toc-modified-id=\"Загрузка-данных-1\"><span class=\"toc-item-num\">1&nbsp;&nbsp;</span>Загрузка данных</a></span></li><li><span><a href=\"#Умножение-матриц\" data-toc-modified-id=\"Умножение-матриц-2\"><span class=\"toc-item-num\">2&nbsp;&nbsp;</span>Умножение матриц</a></span></li><li><span><a href=\"#Алгоритм-преобразования\" data-toc-modified-id=\"Алгоритм-преобразования-3\"><span class=\"toc-item-num\">3&nbsp;&nbsp;</span>Алгоритм преобразования</a></span></li><li><span><a href=\"#Проверка-алгоритма\" data-toc-modified-id=\"Проверка-алгоритма-4\"><span class=\"toc-item-num\">4&nbsp;&nbsp;</span>Проверка алгоритма</a></span><ul class=\"toc-item\"><li><span><a href=\"#Исходные-данные\" data-toc-modified-id=\"Исходные-данные-4.1\"><span class=\"toc-item-num\">4.1&nbsp;&nbsp;</span>Исходные данные</a></span></li><li><span><a href=\"#Применение-алгоритма\" data-toc-modified-id=\"Применение-алгоритма-4.2\"><span class=\"toc-item-num\">4.2&nbsp;&nbsp;</span>Применение алгоритма</a></span></li></ul></li><li><span><a href=\"#Вывод\" data-toc-modified-id=\"Вывод-5\"><span class=\"toc-item-num\">5&nbsp;&nbsp;</span>Вывод</a></span></li><li><span><a href=\"#Чек-лист-проверки\" data-toc-modified-id=\"Чек-лист-проверки-6\"><span class=\"toc-item-num\">6&nbsp;&nbsp;</span>Чек-лист проверки</a></span></li></ul></div>"
   ]
  },
  {
   "cell_type": "markdown",
   "metadata": {},
   "source": [
    "Необходимо защитить данные клиентов страховой компании «Хоть потоп». \n",
    "Нужно защитить данные, чтобы при преобразовании качество моделей машинного обучения не ухудшилось."
   ]
  },
  {
   "cell_type": "markdown",
   "metadata": {},
   "source": [
    "- Признаки: пол, возраст и зарплата застрахованного, количество членов его семьи.\n",
    "- Целевой признак: количество страховых выплат клиенту за последние 5 лет.\n"
   ]
  },
  {
   "cell_type": "markdown",
   "metadata": {},
   "source": [
    "## Загрузка данных"
   ]
  },
  {
   "cell_type": "code",
   "execution_count": 1,
   "metadata": {},
   "outputs": [],
   "source": [
    "import pandas as pd\n",
    "import numpy as np\n",
    "from sklearn.linear_model import LinearRegression\n",
    "from sklearn.model_selection import cross_val_score\n",
    "from numpy.linalg import inv"
   ]
  },
  {
   "cell_type": "code",
   "execution_count": 2,
   "metadata": {},
   "outputs": [
    {
     "data": {
      "text/html": [
       "<div>\n",
       "<style scoped>\n",
       "    .dataframe tbody tr th:only-of-type {\n",
       "        vertical-align: middle;\n",
       "    }\n",
       "\n",
       "    .dataframe tbody tr th {\n",
       "        vertical-align: top;\n",
       "    }\n",
       "\n",
       "    .dataframe thead th {\n",
       "        text-align: right;\n",
       "    }\n",
       "</style>\n",
       "<table border=\"1\" class=\"dataframe\">\n",
       "  <thead>\n",
       "    <tr style=\"text-align: right;\">\n",
       "      <th></th>\n",
       "      <th>Пол</th>\n",
       "      <th>Возраст</th>\n",
       "      <th>Зарплата</th>\n",
       "      <th>Члены семьи</th>\n",
       "      <th>Страховые выплаты</th>\n",
       "    </tr>\n",
       "  </thead>\n",
       "  <tbody>\n",
       "    <tr>\n",
       "      <th>0</th>\n",
       "      <td>1</td>\n",
       "      <td>41.0</td>\n",
       "      <td>49600.0</td>\n",
       "      <td>1</td>\n",
       "      <td>0</td>\n",
       "    </tr>\n",
       "    <tr>\n",
       "      <th>1</th>\n",
       "      <td>0</td>\n",
       "      <td>46.0</td>\n",
       "      <td>38000.0</td>\n",
       "      <td>1</td>\n",
       "      <td>1</td>\n",
       "    </tr>\n",
       "    <tr>\n",
       "      <th>2</th>\n",
       "      <td>0</td>\n",
       "      <td>29.0</td>\n",
       "      <td>21000.0</td>\n",
       "      <td>0</td>\n",
       "      <td>0</td>\n",
       "    </tr>\n",
       "    <tr>\n",
       "      <th>3</th>\n",
       "      <td>0</td>\n",
       "      <td>21.0</td>\n",
       "      <td>41700.0</td>\n",
       "      <td>2</td>\n",
       "      <td>0</td>\n",
       "    </tr>\n",
       "    <tr>\n",
       "      <th>4</th>\n",
       "      <td>1</td>\n",
       "      <td>28.0</td>\n",
       "      <td>26100.0</td>\n",
       "      <td>0</td>\n",
       "      <td>0</td>\n",
       "    </tr>\n",
       "  </tbody>\n",
       "</table>\n",
       "</div>"
      ],
      "text/plain": [
       "   Пол  Возраст  Зарплата  Члены семьи  Страховые выплаты\n",
       "0    1     41.0   49600.0            1                  0\n",
       "1    0     46.0   38000.0            1                  1\n",
       "2    0     29.0   21000.0            0                  0\n",
       "3    0     21.0   41700.0            2                  0\n",
       "4    1     28.0   26100.0            0                  0"
      ]
     },
     "execution_count": 2,
     "metadata": {},
     "output_type": "execute_result"
    }
   ],
   "source": [
    "data = pd.read_csv('https://code.s3.yandex.net/datasets/insurance.csv')\n",
    "data.head()"
   ]
  },
  {
   "cell_type": "code",
   "execution_count": 3,
   "metadata": {
    "scrolled": true
   },
   "outputs": [
    {
     "name": "stdout",
     "output_type": "stream",
     "text": [
      "<class 'pandas.core.frame.DataFrame'>\n",
      "RangeIndex: 5000 entries, 0 to 4999\n",
      "Data columns (total 5 columns):\n",
      " #   Column             Non-Null Count  Dtype  \n",
      "---  ------             --------------  -----  \n",
      " 0   Пол                5000 non-null   int64  \n",
      " 1   Возраст            5000 non-null   float64\n",
      " 2   Зарплата           5000 non-null   float64\n",
      " 3   Члены семьи        5000 non-null   int64  \n",
      " 4   Страховые выплаты  5000 non-null   int64  \n",
      "dtypes: float64(2), int64(3)\n",
      "memory usage: 195.4 KB\n"
     ]
    }
   ],
   "source": [
    "data.info()"
   ]
  },
  {
   "cell_type": "code",
   "execution_count": 4,
   "metadata": {
    "scrolled": false
   },
   "outputs": [
    {
     "data": {
      "text/html": [
       "<div>\n",
       "<style scoped>\n",
       "    .dataframe tbody tr th:only-of-type {\n",
       "        vertical-align: middle;\n",
       "    }\n",
       "\n",
       "    .dataframe tbody tr th {\n",
       "        vertical-align: top;\n",
       "    }\n",
       "\n",
       "    .dataframe thead th {\n",
       "        text-align: right;\n",
       "    }\n",
       "</style>\n",
       "<table border=\"1\" class=\"dataframe\">\n",
       "  <thead>\n",
       "    <tr style=\"text-align: right;\">\n",
       "      <th></th>\n",
       "      <th>Пол</th>\n",
       "      <th>Возраст</th>\n",
       "      <th>Зарплата</th>\n",
       "      <th>Члены семьи</th>\n",
       "      <th>Страховые выплаты</th>\n",
       "    </tr>\n",
       "  </thead>\n",
       "  <tbody>\n",
       "    <tr>\n",
       "      <th>count</th>\n",
       "      <td>5000.000000</td>\n",
       "      <td>5000.000000</td>\n",
       "      <td>5000.000000</td>\n",
       "      <td>5000.000000</td>\n",
       "      <td>5000.000000</td>\n",
       "    </tr>\n",
       "    <tr>\n",
       "      <th>mean</th>\n",
       "      <td>0.499000</td>\n",
       "      <td>30.952800</td>\n",
       "      <td>39916.360000</td>\n",
       "      <td>1.194200</td>\n",
       "      <td>0.148000</td>\n",
       "    </tr>\n",
       "    <tr>\n",
       "      <th>std</th>\n",
       "      <td>0.500049</td>\n",
       "      <td>8.440807</td>\n",
       "      <td>9900.083569</td>\n",
       "      <td>1.091387</td>\n",
       "      <td>0.463183</td>\n",
       "    </tr>\n",
       "    <tr>\n",
       "      <th>min</th>\n",
       "      <td>0.000000</td>\n",
       "      <td>18.000000</td>\n",
       "      <td>5300.000000</td>\n",
       "      <td>0.000000</td>\n",
       "      <td>0.000000</td>\n",
       "    </tr>\n",
       "    <tr>\n",
       "      <th>25%</th>\n",
       "      <td>0.000000</td>\n",
       "      <td>24.000000</td>\n",
       "      <td>33300.000000</td>\n",
       "      <td>0.000000</td>\n",
       "      <td>0.000000</td>\n",
       "    </tr>\n",
       "    <tr>\n",
       "      <th>50%</th>\n",
       "      <td>0.000000</td>\n",
       "      <td>30.000000</td>\n",
       "      <td>40200.000000</td>\n",
       "      <td>1.000000</td>\n",
       "      <td>0.000000</td>\n",
       "    </tr>\n",
       "    <tr>\n",
       "      <th>75%</th>\n",
       "      <td>1.000000</td>\n",
       "      <td>37.000000</td>\n",
       "      <td>46600.000000</td>\n",
       "      <td>2.000000</td>\n",
       "      <td>0.000000</td>\n",
       "    </tr>\n",
       "    <tr>\n",
       "      <th>max</th>\n",
       "      <td>1.000000</td>\n",
       "      <td>65.000000</td>\n",
       "      <td>79000.000000</td>\n",
       "      <td>6.000000</td>\n",
       "      <td>5.000000</td>\n",
       "    </tr>\n",
       "  </tbody>\n",
       "</table>\n",
       "</div>"
      ],
      "text/plain": [
       "               Пол      Возраст      Зарплата  Члены семьи  Страховые выплаты\n",
       "count  5000.000000  5000.000000   5000.000000  5000.000000        5000.000000\n",
       "mean      0.499000    30.952800  39916.360000     1.194200           0.148000\n",
       "std       0.500049     8.440807   9900.083569     1.091387           0.463183\n",
       "min       0.000000    18.000000   5300.000000     0.000000           0.000000\n",
       "25%       0.000000    24.000000  33300.000000     0.000000           0.000000\n",
       "50%       0.000000    30.000000  40200.000000     1.000000           0.000000\n",
       "75%       1.000000    37.000000  46600.000000     2.000000           0.000000\n",
       "max       1.000000    65.000000  79000.000000     6.000000           5.000000"
      ]
     },
     "execution_count": 4,
     "metadata": {},
     "output_type": "execute_result"
    }
   ],
   "source": [
    "data.describe()"
   ]
  },
  {
   "cell_type": "markdown",
   "metadata": {},
   "source": [
    "Похоже, что с данными все в порядке, никаких явных недочетов нет."
   ]
  },
  {
   "cell_type": "markdown",
   "metadata": {},
   "source": [
    "Раз уж мы все-равно собираемся зашифровать данные, то и колонки переименуем."
   ]
  },
  {
   "cell_type": "code",
   "execution_count": 5,
   "metadata": {},
   "outputs": [],
   "source": [
    "data = data.rename(columns={'Пол':'sex', \n",
    "         'Возраст':'age',\n",
    "         'Зарплата':'salary',\n",
    "         'Члены семьи':'family',\n",
    "         'Страховые выплаты':'payments'})"
   ]
  },
  {
   "cell_type": "code",
   "execution_count": 6,
   "metadata": {},
   "outputs": [
    {
     "data": {
      "text/plain": [
       "Index(['sex', 'age', 'salary', 'family', 'payments'], dtype='object')"
      ]
     },
     "execution_count": 6,
     "metadata": {},
     "output_type": "execute_result"
    }
   ],
   "source": [
    "data.columns"
   ]
  },
  {
   "cell_type": "markdown",
   "metadata": {},
   "source": [
    "## Умножение матриц"
   ]
  },
  {
   "cell_type": "markdown",
   "metadata": {},
   "source": [
    "В этом задании вы можете записывать формулы в *Jupyter Notebook.*\n",
    "\n",
    "Чтобы записать формулу внутри текста, окружите её символами доллара \\\\$; если снаружи —  двойными символами \\\\$\\\\$. Эти формулы записываются на языке вёрстки *LaTeX.* \n",
    "\n",
    "Для примера мы записали формулы линейной регрессии. Можете их скопировать и отредактировать, чтобы решить задачу.\n",
    "\n",
    "Работать в *LaTeX* необязательно."
   ]
  },
  {
   "cell_type": "markdown",
   "metadata": {},
   "source": [
    "Обозначения:\n",
    "\n",
    "- $X$ — матрица признаков (нулевой столбец состоит из единиц)\n",
    "\n",
    "- $y$ — вектор целевого признака\n",
    "\n",
    "- $P$ — матрица, на которую умножаются признаки\n",
    "\n",
    "- $w$ — вектор весов линейной регрессии (нулевой элемент равен сдвигу)"
   ]
  },
  {
   "cell_type": "markdown",
   "metadata": {},
   "source": [
    "Предсказания:\n",
    "\n",
    "$$\n",
    "a = Xw\n",
    "$$\n",
    "\n",
    "Задача обучения:\n",
    "\n",
    "$$\n",
    "w = \\arg\\min_w MSE(Xw, y)\n",
    "$$\n",
    "\n",
    "Формула обучения:\n",
    "\n",
    "$$\n",
    "w = (X^T X)^{-1} X^T y\n",
    "$$"
   ]
  },
  {
   "cell_type": "markdown",
   "metadata": {},
   "source": [
    "## Алгоритм преобразования"
   ]
  },
  {
   "cell_type": "markdown",
   "metadata": {},
   "source": [
    "**Алгоритм**\n",
    "\n",
    "Сгенерируем случайную матрицу с размером равным количеству признаков и умножим признаки на эту матрицу, и будем считать линейную регрессию по ней $$X'= XB$$"
   ]
  },
  {
   "cell_type": "markdown",
   "metadata": {},
   "source": [
    "Транспонироване произведения матриц равно произведению транспонированыых матриц в обратном порядке.\n",
    "\n",
    "$$\n",
    "w' = (X'^T X')^{-1} X'^T y = ((XB)^T (XB))^{-1} (XB)^T y = (B^T (X^T X) B)^{-1} B^T X^T y = B^{-1} (X^T X)^{-1} (B^T)^{-1} B^T X^T y = B^{-1} w\n",
    "$$\n",
    "Тут все матрицы квадратные.\n",
    "Тогда прогноз посчитается по формуле.\n",
    "$$\n",
    "a' = X'w' = XB B^{-1} w = Xw = a\n",
    "$$"
   ]
  },
  {
   "cell_type": "markdown",
   "metadata": {},
   "source": [
    "## Проверка алгоритма"
   ]
  },
  {
   "cell_type": "markdown",
   "metadata": {},
   "source": [
    "### Исходные данные"
   ]
  },
  {
   "cell_type": "code",
   "execution_count": 7,
   "metadata": {},
   "outputs": [],
   "source": [
    "X = data[['sex', 'age', 'salary', 'family']]\n",
    "y = data['payments']"
   ]
  },
  {
   "cell_type": "markdown",
   "metadata": {},
   "source": [
    "Сначала посмотрим R2 на всей выборке. У линейной регрессии по умолчанию score R2."
   ]
  },
  {
   "cell_type": "code",
   "execution_count": 8,
   "metadata": {},
   "outputs": [
    {
     "data": {
      "text/plain": [
       "0.4249455028666801"
      ]
     },
     "execution_count": 8,
     "metadata": {},
     "output_type": "execute_result"
    }
   ],
   "source": [
    "reg = LinearRegression()\n",
    "reg.fit(X,y)\n",
    "reg.score(X, y)"
   ]
  },
  {
   "cell_type": "markdown",
   "metadata": {},
   "source": [
    "Попробуем кроссвалидацию."
   ]
  },
  {
   "cell_type": "code",
   "execution_count": 9,
   "metadata": {
    "scrolled": true
   },
   "outputs": [
    {
     "data": {
      "text/plain": [
       "array([0.40104201, 0.44663077, 0.41583058, 0.41470783, 0.43735766])"
      ]
     },
     "execution_count": 9,
     "metadata": {},
     "output_type": "execute_result"
    }
   ],
   "source": [
    "cross_val_score(reg, X, y, cv=5)"
   ]
  },
  {
   "cell_type": "markdown",
   "metadata": {},
   "source": [
    "### Применение алгоритма"
   ]
  },
  {
   "cell_type": "markdown",
   "metadata": {},
   "source": [
    "Сгенирируем случайную матрицу."
   ]
  },
  {
   "cell_type": "code",
   "execution_count": 10,
   "metadata": {},
   "outputs": [
    {
     "data": {
      "text/plain": [
       "array([[0.92961609, 0.31637555, 0.18391881, 0.20456028],\n",
       "       [0.56772503, 0.5955447 , 0.96451452, 0.6531771 ],\n",
       "       [0.74890664, 0.65356987, 0.74771481, 0.96130674],\n",
       "       [0.0083883 , 0.10644438, 0.29870371, 0.65641118]])"
      ]
     },
     "execution_count": 10,
     "metadata": {},
     "output_type": "execute_result"
    }
   ],
   "source": [
    "B = np.random.RandomState(12345).rand(X.shape[1],X.shape[1])\n",
    "B"
   ]
  },
  {
   "cell_type": "markdown",
   "metadata": {},
   "source": [
    "Проверим, что у неё есть обратная матрица."
   ]
  },
  {
   "cell_type": "code",
   "execution_count": 11,
   "metadata": {},
   "outputs": [
    {
     "data": {
      "text/plain": [
       "array([[ 2.1336149 ,  0.5051926 , -1.71113385,  1.33832486],\n",
       "       [-3.76534462, -2.61352053,  6.72316006, -6.07193701],\n",
       "       [ 0.97426298,  2.9928115 , -3.49875049,  1.84220045],\n",
       "       [ 0.13998298, -0.94454066,  0.52375812,  1.652661  ]])"
      ]
     },
     "execution_count": 11,
     "metadata": {},
     "output_type": "execute_result"
    }
   ],
   "source": [
    "inv(B)"
   ]
  },
  {
   "cell_type": "code",
   "execution_count": 12,
   "metadata": {},
   "outputs": [
    {
     "data": {
      "text/plain": [
       "array([[ 1.,  0.,  0.,  0.],\n",
       "       [-0.,  1., -0.,  0.],\n",
       "       [ 0.,  0.,  1.,  0.],\n",
       "       [ 0., -0., -0.,  1.]])"
      ]
     },
     "execution_count": 12,
     "metadata": {},
     "output_type": "execute_result"
    }
   ],
   "source": [
    "(inv(B) @ B).round()"
   ]
  },
  {
   "cell_type": "markdown",
   "metadata": {},
   "source": [
    "Почти единичная."
   ]
  },
  {
   "cell_type": "code",
   "execution_count": 13,
   "metadata": {},
   "outputs": [],
   "source": [
    "X_new = X @ B"
   ]
  },
  {
   "cell_type": "code",
   "execution_count": 14,
   "metadata": {},
   "outputs": [
    {
     "data": {
      "text/plain": [
       "0.42494550286673527"
      ]
     },
     "execution_count": 14,
     "metadata": {},
     "output_type": "execute_result"
    }
   ],
   "source": [
    "reg = LinearRegression()\n",
    "reg.fit(X_new,y)\n",
    "reg.score(X_new, y)"
   ]
  },
  {
   "cell_type": "code",
   "execution_count": 15,
   "metadata": {},
   "outputs": [
    {
     "data": {
      "text/plain": [
       "array([0.40104201, 0.44663077, 0.41583058, 0.41470783, 0.43735766])"
      ]
     },
     "execution_count": 15,
     "metadata": {},
     "output_type": "execute_result"
    }
   ],
   "source": [
    "cross_val_score(reg, X_new, y, cv=5)"
   ]
  },
  {
   "cell_type": "markdown",
   "metadata": {},
   "source": [
    "## Вывод"
   ]
  },
  {
   "cell_type": "markdown",
   "metadata": {},
   "source": [
    "- Данные были уже хорошо подготовленны, чистить их не пришломсь.\n",
    "- В ходе работы было показано, что если домножить признаки на случайную обращаемую матрицу, то точность прогноза линейной регрессии от этого не изменится.\n",
    "- Было показано на практике, что при домножении признаков на случайную матрицу $B$,точность прогноза практически не меняется."
   ]
  }
 ],
 "metadata": {
  "ExecuteTimeLog": [
   {
    "duration": 431,
    "start_time": "2022-09-06T12:37:22.685Z"
   },
   {
    "duration": 83,
    "start_time": "2022-09-06T12:40:32.398Z"
   },
   {
    "duration": 48,
    "start_time": "2022-09-06T12:40:39.062Z"
   },
   {
    "duration": 69,
    "start_time": "2022-09-06T13:18:14.099Z"
   },
   {
    "duration": 6,
    "start_time": "2022-09-06T13:18:17.603Z"
   },
   {
    "duration": 4,
    "start_time": "2022-09-06T13:18:21.802Z"
   },
   {
    "duration": 735,
    "start_time": "2022-09-06T13:52:52.747Z"
   },
   {
    "duration": 4,
    "start_time": "2022-09-06T13:53:58.903Z"
   },
   {
    "duration": 3,
    "start_time": "2022-09-06T13:55:24.141Z"
   },
   {
    "duration": 42,
    "start_time": "2022-09-06T13:57:37.591Z"
   },
   {
    "duration": 3,
    "start_time": "2022-09-06T13:57:41.032Z"
   },
   {
    "duration": 6,
    "start_time": "2022-09-06T13:57:43.303Z"
   },
   {
    "duration": 5,
    "start_time": "2022-09-06T13:58:09.126Z"
   },
   {
    "duration": 6,
    "start_time": "2022-09-06T13:58:15.318Z"
   },
   {
    "duration": 7,
    "start_time": "2022-09-06T14:02:49.431Z"
   },
   {
    "duration": 3,
    "start_time": "2022-09-06T14:02:58.366Z"
   },
   {
    "duration": 3,
    "start_time": "2022-09-06T14:03:31.530Z"
   },
   {
    "duration": 73,
    "start_time": "2022-09-06T14:03:55.648Z"
   },
   {
    "duration": 3,
    "start_time": "2022-09-06T14:04:06.698Z"
   },
   {
    "duration": 3,
    "start_time": "2022-09-06T14:05:23.388Z"
   },
   {
    "duration": 135,
    "start_time": "2022-09-06T14:05:49.291Z"
   },
   {
    "duration": 2,
    "start_time": "2022-09-06T14:06:09.682Z"
   },
   {
    "duration": 3,
    "start_time": "2022-09-06T14:06:14.005Z"
   },
   {
    "duration": 4,
    "start_time": "2022-09-06T14:06:21.052Z"
   },
   {
    "duration": 4,
    "start_time": "2022-09-06T14:06:27.093Z"
   },
   {
    "duration": 215,
    "start_time": "2022-09-06T14:12:00.584Z"
   },
   {
    "duration": 14285,
    "start_time": "2022-09-06T14:12:04.325Z"
   },
   {
    "duration": 4,
    "start_time": "2022-09-06T14:12:18.612Z"
   },
   {
    "duration": 107,
    "start_time": "2022-09-06T14:13:50.395Z"
   },
   {
    "duration": 5,
    "start_time": "2022-09-06T14:14:00.421Z"
   },
   {
    "duration": 4,
    "start_time": "2022-09-06T14:14:07.119Z"
   },
   {
    "duration": 6,
    "start_time": "2022-09-06T14:14:22.488Z"
   },
   {
    "duration": 2,
    "start_time": "2022-09-06T14:16:28.732Z"
   },
   {
    "duration": 6,
    "start_time": "2022-09-06T14:18:46.462Z"
   },
   {
    "duration": 6,
    "start_time": "2022-09-06T14:19:13.300Z"
   },
   {
    "duration": 19,
    "start_time": "2022-09-06T14:29:01.591Z"
   },
   {
    "duration": 4,
    "start_time": "2022-09-06T14:29:06.360Z"
   },
   {
    "duration": 8,
    "start_time": "2022-09-06T14:29:07.394Z"
   },
   {
    "duration": 8,
    "start_time": "2022-09-06T14:29:36.973Z"
   },
   {
    "duration": 7,
    "start_time": "2022-09-06T14:29:46.483Z"
   },
   {
    "duration": 3,
    "start_time": "2022-09-06T14:33:15.467Z"
   },
   {
    "duration": 5,
    "start_time": "2022-09-06T14:33:39.859Z"
   },
   {
    "duration": 11,
    "start_time": "2022-09-06T14:34:04.741Z"
   },
   {
    "duration": 9,
    "start_time": "2022-09-06T14:35:29.461Z"
   },
   {
    "duration": 6,
    "start_time": "2022-09-06T14:39:33.117Z"
   },
   {
    "duration": 4,
    "start_time": "2022-09-06T14:54:05.320Z"
   },
   {
    "duration": 4,
    "start_time": "2022-09-06T14:57:00.399Z"
   },
   {
    "duration": 14,
    "start_time": "2022-09-06T14:57:07.151Z"
   },
   {
    "duration": 13,
    "start_time": "2022-09-06T14:57:14.813Z"
   },
   {
    "duration": 46,
    "start_time": "2022-09-06T14:57:20.452Z"
   },
   {
    "duration": 52,
    "start_time": "2022-09-06T14:57:31.049Z"
   },
   {
    "duration": 57,
    "start_time": "2022-09-06T14:57:38.544Z"
   },
   {
    "duration": 13,
    "start_time": "2022-09-06T14:57:54.652Z"
   },
   {
    "duration": 1084,
    "start_time": "2022-09-06T14:57:59.625Z"
   },
   {
    "duration": 108,
    "start_time": "2022-09-06T14:58:00.711Z"
   },
   {
    "duration": 6,
    "start_time": "2022-09-06T14:58:00.821Z"
   },
   {
    "duration": 18,
    "start_time": "2022-09-06T14:58:00.828Z"
   },
   {
    "duration": 9,
    "start_time": "2022-09-06T14:58:00.848Z"
   },
   {
    "duration": 43,
    "start_time": "2022-09-06T14:58:00.858Z"
   },
   {
    "duration": 315,
    "start_time": "2022-09-06T14:58:00.903Z"
   },
   {
    "duration": 5,
    "start_time": "2022-09-06T14:58:01.219Z"
   },
   {
    "duration": 14184,
    "start_time": "2022-09-06T14:58:01.225Z"
   },
   {
    "duration": 4,
    "start_time": "2022-09-06T14:58:15.411Z"
   },
   {
    "duration": 87,
    "start_time": "2022-09-06T14:58:15.416Z"
   },
   {
    "duration": 194,
    "start_time": "2022-09-06T14:58:15.505Z"
   },
   {
    "duration": 199,
    "start_time": "2022-09-06T14:58:15.703Z"
   },
   {
    "duration": 0,
    "start_time": "2022-09-06T14:58:15.903Z"
   },
   {
    "duration": 0,
    "start_time": "2022-09-06T14:58:15.904Z"
   },
   {
    "duration": 9,
    "start_time": "2022-09-06T14:59:03.537Z"
   },
   {
    "duration": 8,
    "start_time": "2022-09-06T14:59:04.100Z"
   },
   {
    "duration": 21,
    "start_time": "2022-09-06T14:59:07.585Z"
   },
   {
    "duration": 9,
    "start_time": "2022-09-06T14:59:10.444Z"
   },
   {
    "duration": 84,
    "start_time": "2022-09-06T14:59:17.816Z"
   },
   {
    "duration": 9,
    "start_time": "2022-09-06T14:59:18.409Z"
   },
   {
    "duration": 6,
    "start_time": "2022-09-06T14:59:19.261Z"
   },
   {
    "duration": 6,
    "start_time": "2022-09-06T14:59:22.731Z"
   },
   {
    "duration": 8,
    "start_time": "2022-09-06T14:59:23.418Z"
   },
   {
    "duration": 12,
    "start_time": "2022-09-06T14:59:44.619Z"
   },
   {
    "duration": 3,
    "start_time": "2022-09-06T15:02:31.199Z"
   },
   {
    "duration": 3,
    "start_time": "2022-09-06T15:02:32.164Z"
   },
   {
    "duration": 3,
    "start_time": "2022-09-06T15:02:37.199Z"
   },
   {
    "duration": 279,
    "start_time": "2022-09-06T15:03:05.898Z"
   },
   {
    "duration": 1062,
    "start_time": "2022-09-06T15:03:14.303Z"
   },
   {
    "duration": 60,
    "start_time": "2022-09-06T15:03:15.367Z"
   },
   {
    "duration": 5,
    "start_time": "2022-09-06T15:03:15.428Z"
   },
   {
    "duration": 5,
    "start_time": "2022-09-06T15:03:15.434Z"
   },
   {
    "duration": 4,
    "start_time": "2022-09-06T15:03:15.441Z"
   },
   {
    "duration": 23,
    "start_time": "2022-09-06T15:03:15.446Z"
   },
   {
    "duration": 8,
    "start_time": "2022-09-06T15:03:15.500Z"
   },
   {
    "duration": 9,
    "start_time": "2022-09-06T15:03:15.599Z"
   },
   {
    "duration": 196,
    "start_time": "2022-09-06T15:03:15.609Z"
   },
   {
    "duration": 0,
    "start_time": "2022-09-06T15:03:15.806Z"
   },
   {
    "duration": 0,
    "start_time": "2022-09-06T15:03:15.807Z"
   },
   {
    "duration": 0,
    "start_time": "2022-09-06T15:03:15.808Z"
   },
   {
    "duration": 0,
    "start_time": "2022-09-06T15:03:15.809Z"
   },
   {
    "duration": 0,
    "start_time": "2022-09-06T15:03:15.810Z"
   },
   {
    "duration": 0,
    "start_time": "2022-09-06T15:03:15.810Z"
   },
   {
    "duration": 3,
    "start_time": "2022-09-06T15:03:38.570Z"
   },
   {
    "duration": 3,
    "start_time": "2022-09-06T15:03:39.618Z"
   },
   {
    "duration": 13,
    "start_time": "2022-09-06T15:03:42.754Z"
   },
   {
    "duration": 13,
    "start_time": "2022-09-06T15:07:22.096Z"
   },
   {
    "duration": 5,
    "start_time": "2022-09-06T15:07:44.047Z"
   },
   {
    "duration": 14,
    "start_time": "2022-09-06T15:07:54.119Z"
   },
   {
    "duration": 1112,
    "start_time": "2022-09-06T17:34:49.989Z"
   },
   {
    "duration": 220,
    "start_time": "2022-09-06T17:34:51.103Z"
   },
   {
    "duration": 6,
    "start_time": "2022-09-06T17:34:51.324Z"
   },
   {
    "duration": 12,
    "start_time": "2022-09-06T17:34:51.331Z"
   },
   {
    "duration": 5,
    "start_time": "2022-09-06T17:34:51.345Z"
   },
   {
    "duration": 13,
    "start_time": "2022-09-06T17:34:51.351Z"
   },
   {
    "duration": 116,
    "start_time": "2022-09-06T17:34:51.405Z"
   },
   {
    "duration": 8,
    "start_time": "2022-09-06T17:34:51.523Z"
   },
   {
    "duration": 11,
    "start_time": "2022-09-06T17:34:51.533Z"
   },
   {
    "duration": 7,
    "start_time": "2022-09-06T17:34:51.546Z"
   },
   {
    "duration": 8,
    "start_time": "2022-09-06T17:34:51.554Z"
   },
   {
    "duration": 101,
    "start_time": "2022-09-06T17:34:51.563Z"
   },
   {
    "duration": 0,
    "start_time": "2022-09-06T17:34:51.665Z"
   },
   {
    "duration": 0,
    "start_time": "2022-09-06T17:34:51.667Z"
   },
   {
    "duration": 0,
    "start_time": "2022-09-06T17:34:51.668Z"
   },
   {
    "duration": 62,
    "start_time": "2022-09-06T17:35:24.332Z"
   },
   {
    "duration": 468,
    "start_time": "2022-09-06T17:35:47.350Z"
   },
   {
    "duration": 2,
    "start_time": "2022-09-06T17:37:34.843Z"
   },
   {
    "duration": 1042,
    "start_time": "2022-09-06T17:37:41.435Z"
   },
   {
    "duration": 85,
    "start_time": "2022-09-06T17:37:42.478Z"
   },
   {
    "duration": 7,
    "start_time": "2022-09-06T17:37:42.565Z"
   },
   {
    "duration": 11,
    "start_time": "2022-09-06T17:37:42.574Z"
   },
   {
    "duration": 6,
    "start_time": "2022-09-06T17:37:42.587Z"
   },
   {
    "duration": 16,
    "start_time": "2022-09-06T17:37:42.594Z"
   },
   {
    "duration": 194,
    "start_time": "2022-09-06T17:37:42.612Z"
   },
   {
    "duration": 5,
    "start_time": "2022-09-06T17:37:42.808Z"
   },
   {
    "duration": 5,
    "start_time": "2022-09-06T17:37:42.815Z"
   },
   {
    "duration": 8,
    "start_time": "2022-09-06T17:37:42.822Z"
   },
   {
    "duration": 107,
    "start_time": "2022-09-06T17:37:42.832Z"
   },
   {
    "duration": 0,
    "start_time": "2022-09-06T17:37:42.940Z"
   },
   {
    "duration": 0,
    "start_time": "2022-09-06T17:37:42.941Z"
   },
   {
    "duration": 0,
    "start_time": "2022-09-06T17:37:42.942Z"
   },
   {
    "duration": 0,
    "start_time": "2022-09-06T17:37:42.943Z"
   },
   {
    "duration": 3,
    "start_time": "2022-09-06T17:38:17.645Z"
   },
   {
    "duration": 5,
    "start_time": "2022-09-06T17:38:23.697Z"
   },
   {
    "duration": 4,
    "start_time": "2022-09-06T17:38:35.744Z"
   },
   {
    "duration": 116,
    "start_time": "2022-09-06T17:39:08.188Z"
   },
   {
    "duration": 12,
    "start_time": "2022-09-06T17:39:13.238Z"
   },
   {
    "duration": 11,
    "start_time": "2022-09-06T17:39:20.353Z"
   },
   {
    "duration": 467,
    "start_time": "2022-09-06T18:25:19.839Z"
   },
   {
    "duration": 11,
    "start_time": "2022-09-06T18:25:50.016Z"
   },
   {
    "duration": 13,
    "start_time": "2022-09-06T18:25:53.482Z"
   },
   {
    "duration": 3356,
    "start_time": "2022-09-06T18:26:48.848Z"
   },
   {
    "duration": 3,
    "start_time": "2022-09-06T18:27:47.380Z"
   },
   {
    "duration": 22,
    "start_time": "2022-09-06T18:28:02.946Z"
   },
   {
    "duration": 4,
    "start_time": "2022-09-06T18:40:29.636Z"
   },
   {
    "duration": 5,
    "start_time": "2022-09-06T18:40:38.681Z"
   },
   {
    "duration": 5,
    "start_time": "2022-09-06T19:09:09.432Z"
   },
   {
    "duration": 4,
    "start_time": "2022-09-06T19:12:30.761Z"
   },
   {
    "duration": 137,
    "start_time": "2022-09-06T19:14:57.170Z"
   },
   {
    "duration": 29,
    "start_time": "2022-09-06T19:17:36.938Z"
   },
   {
    "duration": 4,
    "start_time": "2022-09-06T19:26:08.654Z"
   },
   {
    "duration": 5,
    "start_time": "2022-09-06T19:26:13.920Z"
   },
   {
    "duration": 5,
    "start_time": "2022-09-06T19:26:29.326Z"
   },
   {
    "duration": 5,
    "start_time": "2022-09-06T19:26:42.035Z"
   },
   {
    "duration": 4,
    "start_time": "2022-09-06T19:27:48.018Z"
   },
   {
    "duration": 19,
    "start_time": "2022-09-06T19:29:58.991Z"
   },
   {
    "duration": 11,
    "start_time": "2022-09-06T19:30:04.672Z"
   },
   {
    "duration": 27,
    "start_time": "2022-09-06T19:31:14.231Z"
   },
   {
    "duration": 1067,
    "start_time": "2022-09-06T19:43:14.882Z"
   },
   {
    "duration": 134,
    "start_time": "2022-09-06T19:43:15.951Z"
   },
   {
    "duration": 14,
    "start_time": "2022-09-06T19:43:16.087Z"
   },
   {
    "duration": 33,
    "start_time": "2022-09-06T19:43:16.104Z"
   },
   {
    "duration": 6,
    "start_time": "2022-09-06T19:43:16.139Z"
   },
   {
    "duration": 33,
    "start_time": "2022-09-06T19:43:16.146Z"
   },
   {
    "duration": 18,
    "start_time": "2022-09-06T19:43:16.181Z"
   },
   {
    "duration": 27,
    "start_time": "2022-09-06T19:43:16.201Z"
   },
   {
    "duration": 206,
    "start_time": "2022-09-06T19:43:16.230Z"
   },
   {
    "duration": 4,
    "start_time": "2022-09-06T19:43:16.439Z"
   },
   {
    "duration": 6,
    "start_time": "2022-09-06T19:43:16.444Z"
   },
   {
    "duration": 58,
    "start_time": "2022-09-06T19:43:16.451Z"
   },
   {
    "duration": 16,
    "start_time": "2022-09-06T19:43:16.511Z"
   },
   {
    "duration": 86,
    "start_time": "2022-09-06T19:43:16.529Z"
   },
   {
    "duration": 204,
    "start_time": "2022-09-06T19:43:16.617Z"
   },
   {
    "duration": 1269,
    "start_time": "2022-09-06T20:17:19.436Z"
   },
   {
    "duration": 97,
    "start_time": "2022-09-06T20:17:20.707Z"
   },
   {
    "duration": 11,
    "start_time": "2022-09-06T20:17:20.806Z"
   },
   {
    "duration": 28,
    "start_time": "2022-09-06T20:17:20.818Z"
   },
   {
    "duration": 3,
    "start_time": "2022-09-06T20:17:20.847Z"
   },
   {
    "duration": 6,
    "start_time": "2022-09-06T20:17:20.852Z"
   },
   {
    "duration": 8,
    "start_time": "2022-09-06T20:17:20.860Z"
   },
   {
    "duration": 39,
    "start_time": "2022-09-06T20:17:20.869Z"
   },
   {
    "duration": 128,
    "start_time": "2022-09-06T20:17:20.912Z"
   },
   {
    "duration": 5,
    "start_time": "2022-09-06T20:17:21.042Z"
   },
   {
    "duration": 9,
    "start_time": "2022-09-06T20:17:21.048Z"
   },
   {
    "duration": 9,
    "start_time": "2022-09-06T20:17:21.106Z"
   },
   {
    "duration": 6,
    "start_time": "2022-09-06T20:17:21.116Z"
   },
   {
    "duration": 90,
    "start_time": "2022-09-06T20:17:21.124Z"
   },
   {
    "duration": 200,
    "start_time": "2022-09-06T20:17:21.216Z"
   },
   {
    "duration": 2,
    "start_time": "2022-09-06T20:29:46.246Z"
   },
   {
    "duration": 46,
    "start_time": "2022-09-06T20:29:46.250Z"
   },
   {
    "duration": 11,
    "start_time": "2022-09-06T20:29:46.298Z"
   },
   {
    "duration": 48,
    "start_time": "2022-09-06T20:29:46.313Z"
   },
   {
    "duration": 8,
    "start_time": "2022-09-06T20:29:46.363Z"
   },
   {
    "duration": 10,
    "start_time": "2022-09-06T20:29:46.372Z"
   },
   {
    "duration": 7,
    "start_time": "2022-09-06T20:29:46.384Z"
   },
   {
    "duration": 35,
    "start_time": "2022-09-06T20:29:46.394Z"
   },
   {
    "duration": 100,
    "start_time": "2022-09-06T20:29:46.437Z"
   },
   {
    "duration": 6,
    "start_time": "2022-09-06T20:29:46.543Z"
   },
   {
    "duration": 67,
    "start_time": "2022-09-06T20:29:46.550Z"
   },
   {
    "duration": 10,
    "start_time": "2022-09-06T20:29:46.619Z"
   },
   {
    "duration": 100,
    "start_time": "2022-09-06T20:29:46.631Z"
   },
   {
    "duration": 88,
    "start_time": "2022-09-06T20:29:46.737Z"
   },
   {
    "duration": 91,
    "start_time": "2022-09-06T20:29:46.826Z"
   },
   {
    "duration": 143,
    "start_time": "2022-09-06T20:29:46.919Z"
   },
   {
    "duration": 8,
    "start_time": "2022-09-06T20:29:59.595Z"
   },
   {
    "duration": 5,
    "start_time": "2022-09-06T20:30:16.199Z"
   },
   {
    "duration": 9,
    "start_time": "2022-09-06T20:30:32.334Z"
   },
   {
    "duration": 1284,
    "start_time": "2022-09-06T20:30:57.997Z"
   },
   {
    "duration": 75,
    "start_time": "2022-09-06T20:30:59.283Z"
   },
   {
    "duration": 10,
    "start_time": "2022-09-06T20:30:59.360Z"
   },
   {
    "duration": 18,
    "start_time": "2022-09-06T20:30:59.371Z"
   },
   {
    "duration": 3,
    "start_time": "2022-09-06T20:30:59.391Z"
   },
   {
    "duration": 8,
    "start_time": "2022-09-06T20:30:59.396Z"
   },
   {
    "duration": 42,
    "start_time": "2022-09-06T20:30:59.405Z"
   },
   {
    "duration": 33,
    "start_time": "2022-09-06T20:30:59.449Z"
   },
   {
    "duration": 168,
    "start_time": "2022-09-06T20:30:59.483Z"
   },
   {
    "duration": 4,
    "start_time": "2022-09-06T20:30:59.654Z"
   },
   {
    "duration": 6,
    "start_time": "2022-09-06T20:30:59.660Z"
   },
   {
    "duration": 61,
    "start_time": "2022-09-06T20:30:59.668Z"
   },
   {
    "duration": 90,
    "start_time": "2022-09-06T20:30:59.730Z"
   },
   {
    "duration": 98,
    "start_time": "2022-09-06T20:30:59.822Z"
   },
   {
    "duration": 132,
    "start_time": "2022-09-06T20:30:59.925Z"
   },
   {
    "duration": 1250,
    "start_time": "2022-09-06T20:32:18.487Z"
   },
   {
    "duration": 46,
    "start_time": "2022-09-06T20:32:19.739Z"
   },
   {
    "duration": 10,
    "start_time": "2022-09-06T20:32:19.787Z"
   },
   {
    "duration": 42,
    "start_time": "2022-09-06T20:32:19.799Z"
   },
   {
    "duration": 3,
    "start_time": "2022-09-06T20:32:19.843Z"
   },
   {
    "duration": 8,
    "start_time": "2022-09-06T20:32:19.847Z"
   },
   {
    "duration": 7,
    "start_time": "2022-09-06T20:32:19.856Z"
   },
   {
    "duration": 62,
    "start_time": "2022-09-06T20:32:19.864Z"
   },
   {
    "duration": 119,
    "start_time": "2022-09-06T20:32:19.927Z"
   },
   {
    "duration": 3,
    "start_time": "2022-09-06T20:32:20.049Z"
   },
   {
    "duration": 6,
    "start_time": "2022-09-06T20:32:20.054Z"
   },
   {
    "duration": 54,
    "start_time": "2022-09-06T20:32:20.062Z"
   },
   {
    "duration": 3,
    "start_time": "2022-09-06T20:32:20.117Z"
   },
   {
    "duration": 96,
    "start_time": "2022-09-06T20:32:20.121Z"
   },
   {
    "duration": 124,
    "start_time": "2022-09-06T20:32:20.218Z"
   },
   {
    "duration": 1082,
    "start_time": "2022-09-07T07:56:00.354Z"
   },
   {
    "duration": 96,
    "start_time": "2022-09-07T07:56:01.438Z"
   },
   {
    "duration": 12,
    "start_time": "2022-09-07T07:56:01.536Z"
   },
   {
    "duration": 36,
    "start_time": "2022-09-07T07:56:01.550Z"
   },
   {
    "duration": 8,
    "start_time": "2022-09-07T07:56:01.587Z"
   },
   {
    "duration": 24,
    "start_time": "2022-09-07T07:56:01.596Z"
   },
   {
    "duration": 14,
    "start_time": "2022-09-07T07:56:01.622Z"
   },
   {
    "duration": 27,
    "start_time": "2022-09-07T07:56:01.638Z"
   },
   {
    "duration": 175,
    "start_time": "2022-09-07T07:56:01.667Z"
   },
   {
    "duration": 7,
    "start_time": "2022-09-07T07:56:01.845Z"
   },
   {
    "duration": 20,
    "start_time": "2022-09-07T07:56:01.853Z"
   },
   {
    "duration": 9,
    "start_time": "2022-09-07T07:56:01.910Z"
   },
   {
    "duration": 88,
    "start_time": "2022-09-07T07:56:01.922Z"
   },
   {
    "duration": 99,
    "start_time": "2022-09-07T07:56:02.013Z"
   },
   {
    "duration": 115,
    "start_time": "2022-09-07T07:56:02.115Z"
   }
  ],
  "kernelspec": {
   "display_name": "Python 3 (ipykernel)",
   "language": "python",
   "name": "python3"
  },
  "language_info": {
   "codemirror_mode": {
    "name": "ipython",
    "version": 3
   },
   "file_extension": ".py",
   "mimetype": "text/x-python",
   "name": "python",
   "nbconvert_exporter": "python",
   "pygments_lexer": "ipython3",
   "version": "3.9.13"
  },
  "toc": {
   "base_numbering": 1,
   "nav_menu": {},
   "number_sections": true,
   "sideBar": true,
   "skip_h1_title": true,
   "title_cell": "Содержание",
   "title_sidebar": "Contents",
   "toc_cell": true,
   "toc_position": {},
   "toc_section_display": true,
   "toc_window_display": true
  }
 },
 "nbformat": 4,
 "nbformat_minor": 2
}
